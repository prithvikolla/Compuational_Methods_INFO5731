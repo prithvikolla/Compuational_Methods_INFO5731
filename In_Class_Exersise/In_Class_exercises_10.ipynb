{
  "nbformat": 4,
  "nbformat_minor": 0,
  "metadata": {
    "kernelspec": {
      "display_name": "Python 3",
      "language": "python",
      "name": "python3"
    },
    "language_info": {
      "codemirror_mode": {
        "name": "ipython",
        "version": 3
      },
      "file_extension": ".py",
      "mimetype": "text/x-python",
      "name": "python",
      "nbconvert_exporter": "python",
      "pygments_lexer": "ipython3",
      "version": "3.7.1"
    },
    "colab": {
      "name": "In_Class_exercises-10.ipynb",
      "provenance": [],
      "collapsed_sections": [],
      "include_colab_link": true
    }
  },
  "cells": [
    {
      "cell_type": "markdown",
      "metadata": {
        "id": "view-in-github",
        "colab_type": "text"
      },
      "source": [
        "<a href=\"https://colab.research.google.com/github/prithvikolla/Compuational_Methods_INFO5731/blob/master/In_Class_Exersise/In_Class_exercises_10.ipynb\" target=\"_parent\"><img src=\"https://colab.research.google.com/assets/colab-badge.svg\" alt=\"Open In Colab\"/></a>"
      ]
    },
    {
      "cell_type": "markdown",
      "metadata": {
        "id": "_MHr9nW6wnCS"
      },
      "source": [
        "# In class exercise 10"
      ]
    },
    {
      "cell_type": "markdown",
      "metadata": {
        "id": "UrgKF_c6wnCS"
      },
      "source": [
        "The purpose of the exercise is to practice different machine learning algorithms for text clustering\n",
        "Please downlad the dataset by using the following link.  https://www.kaggle.com/PromptCloudHQ/amazon-reviews-unlocked-mobile-phones\n",
        "(You can also use different text data which you want)\n",
        "\n",
        "Apply the listed clustering methods to the dataset:\n",
        "\n",
        "K means, \n",
        "DBSCAN,\n",
        "Hierarchical clustering. \n",
        "\n",
        "You can refer to of the codes from  the follwing link below. \n",
        "https://www.kaggle.com/karthik3890/text-clustering \n",
        "    "
      ]
    },
    {
      "cell_type": "code",
      "metadata": {
        "id": "1x3h8NpywnCS",
        "colab": {
          "base_uri": "https://localhost:8080/"
        },
        "outputId": "d4df233f-9c26-4091-fb71-fc31bda8b2f2"
      },
      "source": [
        "#Write your code here.\n",
        "import pandas as pd\n",
        "df = pd.read_csv('/content/Restaurant_Reviews.tsv',delimiter= '\\t')\n",
        "df.shape"
      ],
      "execution_count": 5,
      "outputs": [
        {
          "output_type": "execute_result",
          "data": {
            "text/plain": [
              "(1000, 2)"
            ]
          },
          "metadata": {
            "tags": []
          },
          "execution_count": 5
        }
      ]
    },
    {
      "cell_type": "markdown",
      "metadata": {
        "id": "1xBkc8PGwnCT"
      },
      "source": [
        "In one paragraph, please compare K means, DBSCAN and Hierarchical clustering. "
      ]
    },
    {
      "cell_type": "code",
      "metadata": {
        "colab": {
          "base_uri": "https://localhost:8080/",
          "height": 204
        },
        "id": "qgOOz_8t5w_j",
        "outputId": "903f1eef-dcb5-473c-abd5-72943341fe46"
      },
      "source": [
        "df.head()"
      ],
      "execution_count": 6,
      "outputs": [
        {
          "output_type": "execute_result",
          "data": {
            "text/html": [
              "<div>\n",
              "<style scoped>\n",
              "    .dataframe tbody tr th:only-of-type {\n",
              "        vertical-align: middle;\n",
              "    }\n",
              "\n",
              "    .dataframe tbody tr th {\n",
              "        vertical-align: top;\n",
              "    }\n",
              "\n",
              "    .dataframe thead th {\n",
              "        text-align: right;\n",
              "    }\n",
              "</style>\n",
              "<table border=\"1\" class=\"dataframe\">\n",
              "  <thead>\n",
              "    <tr style=\"text-align: right;\">\n",
              "      <th></th>\n",
              "      <th>Review</th>\n",
              "      <th>Liked</th>\n",
              "    </tr>\n",
              "  </thead>\n",
              "  <tbody>\n",
              "    <tr>\n",
              "      <th>0</th>\n",
              "      <td>Wow... Loved this place.</td>\n",
              "      <td>1</td>\n",
              "    </tr>\n",
              "    <tr>\n",
              "      <th>1</th>\n",
              "      <td>Crust is not good.</td>\n",
              "      <td>0</td>\n",
              "    </tr>\n",
              "    <tr>\n",
              "      <th>2</th>\n",
              "      <td>Not tasty and the texture was just nasty.</td>\n",
              "      <td>0</td>\n",
              "    </tr>\n",
              "    <tr>\n",
              "      <th>3</th>\n",
              "      <td>Stopped by during the late May bank holiday of...</td>\n",
              "      <td>1</td>\n",
              "    </tr>\n",
              "    <tr>\n",
              "      <th>4</th>\n",
              "      <td>The selection on the menu was great and so wer...</td>\n",
              "      <td>1</td>\n",
              "    </tr>\n",
              "  </tbody>\n",
              "</table>\n",
              "</div>"
            ],
            "text/plain": [
              "                                              Review  Liked\n",
              "0                           Wow... Loved this place.      1\n",
              "1                                 Crust is not good.      0\n",
              "2          Not tasty and the texture was just nasty.      0\n",
              "3  Stopped by during the late May bank holiday of...      1\n",
              "4  The selection on the menu was great and so wer...      1"
            ]
          },
          "metadata": {
            "tags": []
          },
          "execution_count": 6
        }
      ]
    },
    {
      "cell_type": "code",
      "metadata": {
        "id": "AwvPpJiNwnCT"
      },
      "source": [
        "#You can write you answer here.\n",
        "import seaborn as sns"
      ],
      "execution_count": 7,
      "outputs": []
    },
    {
      "cell_type": "code",
      "metadata": {
        "colab": {
          "base_uri": "https://localhost:8080/",
          "height": 350
        },
        "id": "ph7S6_kK5QOk",
        "outputId": "8fcebd0e-d4b4-40bc-e1a7-3c4a75b5b551"
      },
      "source": [
        "sns.countplot(df.Liked)"
      ],
      "execution_count": 8,
      "outputs": [
        {
          "output_type": "stream",
          "text": [
            "/usr/local/lib/python3.6/dist-packages/seaborn/_decorators.py:43: FutureWarning: Pass the following variable as a keyword arg: x. From version 0.12, the only valid positional argument will be `data`, and passing other arguments without an explicit keyword will result in an error or misinterpretation.\n",
            "  FutureWarning\n"
          ],
          "name": "stderr"
        },
        {
          "output_type": "execute_result",
          "data": {
            "text/plain": [
              "<matplotlib.axes._subplots.AxesSubplot at 0x7fef78b77198>"
            ]
          },
          "metadata": {
            "tags": []
          },
          "execution_count": 8
        },
        {
          "output_type": "display_data",
          "data": {
            "image/png": "[encoded data removed]",
            "text/plain": [
              "<Figure size 432x288 with 1 Axes>"
            ]
          },
          "metadata": {
            "tags": [],
            "needs_background": "light"
          }
        }
      ]
    },
    {
      "cell_type": "code",
      "metadata": {
        "id": "5PeTbG1G51eO"
      },
      "source": [
        "def partition(x):\n",
        "    if x == 0:\n",
        "        return 'negative'\n",
        "    return 'positive'\n",
        "\n",
        "#changing reviews with score less than 3 to be positive\n",
        "actualScore = df['Liked']\n",
        "positiveNegative = actualScore.map(partition) \n",
        "df['Liked'] = positiveNegative"
      ],
      "execution_count": 9,
      "outputs": []
    },
    {
      "cell_type": "code",
      "metadata": {
        "colab": {
          "base_uri": "https://localhost:8080/",
          "height": 204
        },
        "id": "pyupATQTIlwy",
        "outputId": "147c1e5a-0d4c-448b-d434-4c249aa98621"
      },
      "source": [
        "df.head()"
      ],
      "execution_count": 10,
      "outputs": [
        {
          "output_type": "execute_result",
          "data": {
            "text/html": [
              "<div>\n",
              "<style scoped>\n",
              "    .dataframe tbody tr th:only-of-type {\n",
              "        vertical-align: middle;\n",
              "    }\n",
              "\n",
              "    .dataframe tbody tr th {\n",
              "        vertical-align: top;\n",
              "    }\n",
              "\n",
              "    .dataframe thead th {\n",
              "        text-align: right;\n",
              "    }\n",
              "</style>\n",
              "<table border=\"1\" class=\"dataframe\">\n",
              "  <thead>\n",
              "    <tr style=\"text-align: right;\">\n",
              "      <th></th>\n",
              "      <th>Review</th>\n",
              "      <th>Liked</th>\n",
              "    </tr>\n",
              "  </thead>\n",
              "  <tbody>\n",
              "    <tr>\n",
              "      <th>0</th>\n",
              "      <td>Wow... Loved this place.</td>\n",
              "      <td>positive</td>\n",
              "    </tr>\n",
              "    <tr>\n",
              "      <th>1</th>\n",
              "      <td>Crust is not good.</td>\n",
              "      <td>negative</td>\n",
              "    </tr>\n",
              "    <tr>\n",
              "      <th>2</th>\n",
              "      <td>Not tasty and the texture was just nasty.</td>\n",
              "      <td>negative</td>\n",
              "    </tr>\n",
              "    <tr>\n",
              "      <th>3</th>\n",
              "      <td>Stopped by during the late May bank holiday of...</td>\n",
              "      <td>positive</td>\n",
              "    </tr>\n",
              "    <tr>\n",
              "      <th>4</th>\n",
              "      <td>The selection on the menu was great and so wer...</td>\n",
              "      <td>positive</td>\n",
              "    </tr>\n",
              "  </tbody>\n",
              "</table>\n",
              "</div>"
            ],
            "text/plain": [
              "                                              Review     Liked\n",
              "0                           Wow... Loved this place.  positive\n",
              "1                                 Crust is not good.  negative\n",
              "2          Not tasty and the texture was just nasty.  negative\n",
              "3  Stopped by during the late May bank holiday of...  positive\n",
              "4  The selection on the menu was great and so wer...  positive"
            ]
          },
          "metadata": {
            "tags": []
          },
          "execution_count": 10
        }
      ]
    },
    {
      "cell_type": "code",
      "metadata": {
        "colab": {
          "base_uri": "https://localhost:8080/"
        },
        "id": "duhExNS4Im9P",
        "outputId": "34094101-f72c-481a-b84c-bd5c7e4c1995"
      },
      "source": [
        "df['Liked'].value_counts()"
      ],
      "execution_count": 11,
      "outputs": [
        {
          "output_type": "execute_result",
          "data": {
            "text/plain": [
              "negative    500\n",
              "positive    500\n",
              "Name: Liked, dtype: int64"
            ]
          },
          "metadata": {
            "tags": []
          },
          "execution_count": 11
        }
      ]
    },
    {
      "cell_type": "code",
      "metadata": {
        "colab": {
          "base_uri": "https://localhost:8080/",
          "height": 350
        },
        "id": "Gp9SzHSdItXn",
        "outputId": "5579a8f7-32c7-421e-fd93-30d67ab2ba4c"
      },
      "source": [
        "sns.countplot(df.Liked)"
      ],
      "execution_count": 12,
      "outputs": [
        {
          "output_type": "stream",
          "text": [
            "/usr/local/lib/python3.6/dist-packages/seaborn/_decorators.py:43: FutureWarning: Pass the following variable as a keyword arg: x. From version 0.12, the only valid positional argument will be `data`, and passing other arguments without an explicit keyword will result in an error or misinterpretation.\n",
            "  FutureWarning\n"
          ],
          "name": "stderr"
        },
        {
          "output_type": "execute_result",
          "data": {
            "text/plain": [
              "<matplotlib.axes._subplots.AxesSubplot at 0x7fef78336f98>"
            ]
          },
          "metadata": {
            "tags": []
          },
          "execution_count": 12
        },
        {
          "output_type": "display_data",
          "data": {
            "image/png": "[encoded data removed]",
            "text/plain": [
              "<Figure size 432x288 with 1 Axes>"
            ]
          },
          "metadata": {
            "tags": [],
            "needs_background": "light"
          }
        }
      ]
    },
    {
      "cell_type": "code",
      "metadata": {
        "id": "x2LldmB6KiuG"
      },
      "source": [
        "import re\n",
        "i=0;\n",
        "for sent in df['Review'].values:\n",
        "    if (len(re.findall('<.*?>', sent))):\n",
        "        print(i)\n",
        "        print(sent)\n",
        "        break;\n",
        "    i += 1;"
      ],
      "execution_count": 13,
      "outputs": []
    },
    {
      "cell_type": "code",
      "metadata": {
        "colab": {
          "base_uri": "https://localhost:8080/"
        },
        "id": "GcG2a2p-KvOr",
        "outputId": "ad715476-04a5-4db1-861d-bb9953b3d16a"
      },
      "source": [
        "import nltk\n",
        "nltk.download('stopwords')\n",
        "from nltk.corpus import stopwords\n",
        "sno = nltk.stem.SnowballStemmer('english') #initialising the snowball stemmer which is developed in recent years\n",
        "stop=set(stopwords.words('english'))\n",
        "\n",
        "\n",
        "\n",
        "def cleanhtml(sentence): #function to clean the word of any html-tags\n",
        "    cleanr = re.compile('<.*?>')\n",
        "    cleantext = re.sub(cleanr, ' ', sentence)\n",
        "    return cleantext\n",
        "def cleanpunc(sentence): #function to clean the word of any punctuation or special characters\n",
        "    cleaned = re.sub(r'[?|!|\\'|\"|#]',r'',sentence)\n",
        "    cleaned = re.sub(r'[.|,|)|(|\\|/]',r' ',cleaned)\n",
        "    return  cleaned\n",
        "print(stop)\n",
        "print('************************************')\n",
        "print(sno.stem('tasty'))"
      ],
      "execution_count": 14,
      "outputs": [
        {
          "output_type": "stream",
          "text": [
            "[nltk_data] Downloading package stopwords to /root/nltk_data...\n",
            "[nltk_data]   Package stopwords is already up-to-date!\n",
            "{'ain', \"didn't\", 'these', 'isn', 'wouldn', 'other', 'being', 'and', 'his', 'few', 'between', 'was', 'm', 'during', 'under', 'own', 'couldn', \"shouldn't\", 'through', 'doesn', 'the', 'what', 'y', 't', 'll', 'into', 'out', \"you'll\", 'them', 'for', 'our', 'should', 'when', 'here', 'her', 'themselves', 'doing', 'were', 'no', \"hadn't\", 'weren', 'myself', 'then', \"wasn't\", 'against', 'than', 'had', 'they', 'who', 'any', 'an', 'where', 'do', 'me', 'herself', 'have', \"you're\", 'over', \"haven't\", 'will', 'ours', 'won', \"isn't\", 'o', 'those', 'hadn', 'she', 'be', 'just', 'mightn', 'after', 'how', 'at', 'did', 'both', \"shan't\", 'my', \"it's\", 'he', 'each', 'now', 'further', 'wasn', 'so', 'below', 'with', \"should've\", 'yourself', \"couldn't\", 'once', 'am', 'nor', 'why', 'not', 'mustn', 'from', 'on', 'same', 'because', 'him', 'can', 'it', 'up', 'is', 'only', 'didn', 's', 'ourselves', 'there', 'having', 'which', 'to', \"wouldn't\", 'more', 'shan', \"you'd\", 'as', 'theirs', 'that', 'while', 'too', \"mustn't\", 'its', 'i', 'shouldn', 'yours', 'if', \"don't\", 'about', 'needn', 'some', 'you', 'hasn', \"hasn't\", \"aren't\", 'very', 'their', 'in', 're', 'don', 'down', 'aren', 'whom', 'ma', 'most', 'by', \"doesn't\", 'all', \"that'll\", 'before', 'we', 'has', 'such', 'd', 'does', \"mightn't\", \"weren't\", 'been', \"she's\", 'yourselves', 'of', 'himself', 'or', 'off', 'this', 'but', 'above', 'haven', \"needn't\", 'a', 'your', 've', 'itself', \"won't\", 'again', 'until', 'hers', 'are', \"you've\"}\n",
            "************************************\n",
            "tasti\n"
          ],
          "name": "stdout"
        }
      ]
    },
    {
      "cell_type": "code",
      "metadata": {
        "id": "3Oe7f5fDKR3q"
      },
      "source": [
        "df['Review'] = df['Review'].apply(str)"
      ],
      "execution_count": 15,
      "outputs": []
    },
    {
      "cell_type": "code",
      "metadata": {
        "id": "1sLMy2gVOwfb"
      },
      "source": [
        "i=0\n",
        "str1=' '\n",
        "final_string=[]\n",
        "all_positive_words=[] # store words from +ve reviews here\n",
        "all_negative_words=[] # store words from -ve reviews here.\n",
        "s=''\n",
        "for sent in df['Review'].values:\n",
        "    filtered_sentence=[]\n",
        "    #print(sent);\n",
        "    sent=cleanhtml(sent) # remove HTMl tags\n",
        "    for w in sent.split():\n",
        "        for cleaned_words in cleanpunc(w).split():\n",
        "            if((cleaned_words.isalpha()) & (len(cleaned_words)>2)):    \n",
        "                if(cleaned_words.lower() not in stop):\n",
        "                    s=(sno.stem(cleaned_words.lower())).encode('utf8')\n",
        "                    filtered_sentence.append(s)\n",
        "                    if (df['Liked'].values)[i] == 'positive': \n",
        "                        all_positive_words.append(s) #list of all words used to describe positive reviews\n",
        "                    if(df['Liked'].values)[i] == 'negative':\n",
        "                        all_negative_words.append(s) #list of all words used to describe negative reviews reviews\n",
        "                else:\n",
        "                    continue\n",
        "            else:\n",
        "                continue \n",
        "    #print(filtered_sentence)\n",
        "    str1 = b\" \".join(filtered_sentence) #final string of cleaned words\n",
        "    #print(\"***********************************************************************\")\n",
        "\n",
        "    final_string.append(str1)\n",
        "    i+=1"
      ],
      "execution_count": 16,
      "outputs": []
    },
    {
      "cell_type": "code",
      "metadata": {
        "id": "0uqU489KMufQ"
      },
      "source": [
        "df['CleanedText']=final_string \n",
        "df['CleanedText']=df['CleanedText'].str.decode(\"utf-8\")"
      ],
      "execution_count": 17,
      "outputs": []
    },
    {
      "cell_type": "code",
      "metadata": {
        "id": "_d79_iOwGosQ",
        "colab": {
          "base_uri": "https://localhost:8080/",
          "height": 204
        },
        "outputId": "1af0dc07-6f53-426d-e9db-966111f3c97b"
      },
      "source": [
        "data_pos = df[df['Liked']== \"positive\"]\n",
        "data_neg = df[df['Liked'] == \"negative\"]\n",
        "final = pd.concat([data_pos, data_neg])\n",
        "score = df['Liked']\n",
        "final.head()"
      ],
      "execution_count": 18,
      "outputs": [
        {
          "output_type": "execute_result",
          "data": {
            "text/html": [
              "<div>\n",
              "<style scoped>\n",
              "    .dataframe tbody tr th:only-of-type {\n",
              "        vertical-align: middle;\n",
              "    }\n",
              "\n",
              "    .dataframe tbody tr th {\n",
              "        vertical-align: top;\n",
              "    }\n",
              "\n",
              "    .dataframe thead th {\n",
              "        text-align: right;\n",
              "    }\n",
              "</style>\n",
              "<table border=\"1\" class=\"dataframe\">\n",
              "  <thead>\n",
              "    <tr style=\"text-align: right;\">\n",
              "      <th></th>\n",
              "      <th>Review</th>\n",
              "      <th>Liked</th>\n",
              "      <th>CleanedText</th>\n",
              "    </tr>\n",
              "  </thead>\n",
              "  <tbody>\n",
              "    <tr>\n",
              "      <th>0</th>\n",
              "      <td>Wow... Loved this place.</td>\n",
              "      <td>positive</td>\n",
              "      <td>wow love place</td>\n",
              "    </tr>\n",
              "    <tr>\n",
              "      <th>3</th>\n",
              "      <td>Stopped by during the late May bank holiday of...</td>\n",
              "      <td>positive</td>\n",
              "      <td>stop late may bank holiday rick steve recommen...</td>\n",
              "    </tr>\n",
              "    <tr>\n",
              "      <th>4</th>\n",
              "      <td>The selection on the menu was great and so wer...</td>\n",
              "      <td>positive</td>\n",
              "      <td>select menu great price</td>\n",
              "    </tr>\n",
              "    <tr>\n",
              "      <th>8</th>\n",
              "      <td>The fries were great too.</td>\n",
              "      <td>positive</td>\n",
              "      <td>fri great</td>\n",
              "    </tr>\n",
              "    <tr>\n",
              "      <th>9</th>\n",
              "      <td>A great touch.</td>\n",
              "      <td>positive</td>\n",
              "      <td>great touch</td>\n",
              "    </tr>\n",
              "  </tbody>\n",
              "</table>\n",
              "</div>"
            ],
            "text/plain": [
              "                                              Review  ...                                        CleanedText\n",
              "0                           Wow... Loved this place.  ...                                     wow love place\n",
              "3  Stopped by during the late May bank holiday of...  ...  stop late may bank holiday rick steve recommen...\n",
              "4  The selection on the menu was great and so wer...  ...                            select menu great price\n",
              "8                          The fries were great too.  ...                                          fri great\n",
              "9                                     A great touch.  ...                                        great touch\n",
              "\n",
              "[5 rows x 3 columns]"
            ]
          },
          "metadata": {
            "tags": []
          },
          "execution_count": 18
        }
      ]
    },
    {
      "cell_type": "code",
      "metadata": {
        "colab": {
          "base_uri": "https://localhost:8080/"
        },
        "id": "0Lm0eDQHLlF4",
        "outputId": "9f68f1bf-ea68-45a8-f723-26a51ea5d529"
      },
      "source": [
        "from sklearn.feature_extraction.text import CountVectorizer\n",
        "count_vect = CountVectorizer()\n",
        "bow = count_vect.fit_transform(df['CleanedText'].values)\n",
        "bow.shape"
      ],
      "execution_count": 19,
      "outputs": [
        {
          "output_type": "execute_result",
          "data": {
            "text/plain": [
              "(1000, 1544)"
            ]
          },
          "metadata": {
            "tags": []
          },
          "execution_count": 19
        }
      ]
    },
    {
      "cell_type": "code",
      "metadata": {
        "id": "r6B96ej4ZotX"
      },
      "source": [
        "terms = count_vect.get_feature_names()"
      ],
      "execution_count": 20,
      "outputs": []
    },
    {
      "cell_type": "code",
      "metadata": {
        "colab": {
          "base_uri": "https://localhost:8080/"
        },
        "id": "Pyy7P1FEZq3-",
        "outputId": "874876b9-10e8-485b-c27b-84bfa6d3ec22"
      },
      "source": [
        "terms[1:10]\n"
      ],
      "execution_count": 21,
      "outputs": [
        {
          "output_type": "execute_result",
          "data": {
            "text/plain": [
              "['absolutley',\n",
              " 'accid',\n",
              " 'accommod',\n",
              " 'accomod',\n",
              " 'accord',\n",
              " 'account',\n",
              " 'ach',\n",
              " 'acknowledg',\n",
              " 'across']"
            ]
          },
          "metadata": {
            "tags": []
          },
          "execution_count": 21
        }
      ]
    },
    {
      "cell_type": "code",
      "metadata": {
        "colab": {
          "base_uri": "https://localhost:8080/"
        },
        "id": "qbyAuArPZuJz",
        "outputId": "7c9e7cdd-03cd-4004-83a6-d02607f3e26d"
      },
      "source": [
        "from sklearn.cluster import KMeans\n",
        "model = KMeans(n_clusters = 10,init='k-means++', n_jobs = -1,random_state=99)\n",
        "model.fit(bow)"
      ],
      "execution_count": 22,
      "outputs": [
        {
          "output_type": "execute_result",
          "data": {
            "text/plain": [
              "KMeans(algorithm='auto', copy_x=True, init='k-means++', max_iter=300,\n",
              "       n_clusters=10, n_init=10, n_jobs=-1, precompute_distances='auto',\n",
              "       random_state=99, tol=0.0001, verbose=0)"
            ]
          },
          "metadata": {
            "tags": []
          },
          "execution_count": 22
        }
      ]
    },
    {
      "cell_type": "code",
      "metadata": {
        "id": "UtacBqArZ1Ko"
      },
      "source": [
        "labels = model.labels_\n",
        "cluster_center=model.cluster_centers_"
      ],
      "execution_count": 24,
      "outputs": []
    },
    {
      "cell_type": "code",
      "metadata": {
        "colab": {
          "base_uri": "https://localhost:8080/"
        },
        "id": "-3qsTzMO1h8-",
        "outputId": "0444cae4-2f9a-400a-d3de-85f9afc3644c"
      },
      "source": [
        "cluster_center"
      ],
      "execution_count": 25,
      "outputs": [
        {
          "output_type": "execute_result",
          "data": {
            "text/plain": [
              "array([[0.        , 0.        , 0.        , ..., 0.        , 0.        ,\n",
              "        0.        ],\n",
              "       [0.01010101, 0.001443  , 0.001443  , ..., 0.002886  , 0.00577201,\n",
              "        0.00721501],\n",
              "       [0.        , 0.        , 0.        , ..., 0.        , 0.        ,\n",
              "        0.        ],\n",
              "       ...,\n",
              "       [0.        , 0.        , 0.        , ..., 0.        , 0.        ,\n",
              "        0.        ],\n",
              "       [0.        , 0.        , 0.        , ..., 0.        , 0.        ,\n",
              "        0.        ],\n",
              "       [0.01315789, 0.        , 0.        , ..., 0.        , 0.        ,\n",
              "        0.        ]])"
            ]
          },
          "metadata": {
            "tags": []
          },
          "execution_count": 25
        }
      ]
    },
    {
      "cell_type": "code",
      "metadata": {
        "id": "OIF284My1qVW"
      },
      "source": [
        "from sklearn import metrics\n",
        "silhouette_score = metrics.silhouette_score(bow, labels, metric='euclidean')"
      ],
      "execution_count": 26,
      "outputs": []
    },
    {
      "cell_type": "code",
      "metadata": {
        "colab": {
          "base_uri": "https://localhost:8080/"
        },
        "id": "Z-O8OEyS1uUp",
        "outputId": "cc12f269-8d07-4324-fb68-290e12849fea"
      },
      "source": [
        "silhouette_score"
      ],
      "execution_count": 27,
      "outputs": [
        {
          "output_type": "execute_result",
          "data": {
            "text/plain": [
              "0.021462730254456545"
            ]
          },
          "metadata": {
            "tags": []
          },
          "execution_count": 27
        }
      ]
    },
    {
      "cell_type": "code",
      "metadata": {
        "colab": {
          "base_uri": "https://localhost:8080/",
          "height": 111
        },
        "id": "sYe2_LBd-Kxz",
        "outputId": "e9a3f24f-bb5b-449a-c56e-6b6fec00f97b"
      },
      "source": [
        "df = final\n",
        "df['Bow Clus Label'] = model.labels_ # the last column you can see the label numebers\n",
        "df.head(2)"
      ],
      "execution_count": 28,
      "outputs": [
        {
          "output_type": "execute_result",
          "data": {
            "text/html": [
              "<div>\n",
              "<style scoped>\n",
              "    .dataframe tbody tr th:only-of-type {\n",
              "        vertical-align: middle;\n",
              "    }\n",
              "\n",
              "    .dataframe tbody tr th {\n",
              "        vertical-align: top;\n",
              "    }\n",
              "\n",
              "    .dataframe thead th {\n",
              "        text-align: right;\n",
              "    }\n",
              "</style>\n",
              "<table border=\"1\" class=\"dataframe\">\n",
              "  <thead>\n",
              "    <tr style=\"text-align: right;\">\n",
              "      <th></th>\n",
              "      <th>Review</th>\n",
              "      <th>Liked</th>\n",
              "      <th>CleanedText</th>\n",
              "      <th>Bow Clus Label</th>\n",
              "    </tr>\n",
              "  </thead>\n",
              "  <tbody>\n",
              "    <tr>\n",
              "      <th>0</th>\n",
              "      <td>Wow... Loved this place.</td>\n",
              "      <td>positive</td>\n",
              "      <td>wow love place</td>\n",
              "      <td>1</td>\n",
              "    </tr>\n",
              "    <tr>\n",
              "      <th>3</th>\n",
              "      <td>Stopped by during the late May bank holiday of...</td>\n",
              "      <td>positive</td>\n",
              "      <td>stop late may bank holiday rick steve recommen...</td>\n",
              "      <td>0</td>\n",
              "    </tr>\n",
              "  </tbody>\n",
              "</table>\n",
              "</div>"
            ],
            "text/plain": [
              "                                              Review  ... Bow Clus Label\n",
              "0                           Wow... Loved this place.  ...              1\n",
              "3  Stopped by during the late May bank holiday of...  ...              0\n",
              "\n",
              "[2 rows x 4 columns]"
            ]
          },
          "metadata": {
            "tags": []
          },
          "execution_count": 28
        }
      ]
    },
    {
      "cell_type": "code",
      "metadata": {
        "colab": {
          "base_uri": "https://localhost:8080/"
        },
        "id": "48b6n8yV-Th2",
        "outputId": "28509b87-21d2-4a08-9591-daccf7b985a6"
      },
      "source": [
        "df.groupby(['Bow Clus Label'])['Review'].count()"
      ],
      "execution_count": 29,
      "outputs": [
        {
          "output_type": "execute_result",
          "data": {
            "text/plain": [
              "Bow Clus Label\n",
              "0     77\n",
              "1    693\n",
              "2      3\n",
              "3      7\n",
              "4     53\n",
              "5     11\n",
              "6      2\n",
              "7     77\n",
              "8      1\n",
              "9     76\n",
              "Name: Review, dtype: int64"
            ]
          },
          "metadata": {
            "tags": []
          },
          "execution_count": 29
        }
      ]
    },
    {
      "cell_type": "code",
      "metadata": {
        "colab": {
          "base_uri": "https://localhost:8080/"
        },
        "id": "xia0UxoL-bYP",
        "outputId": "93e29e7d-d8ce-4bf3-cc05-5c376ce455ba"
      },
      "source": [
        "print(\"Top terms per cluster:\")\n",
        "order_centroids = model.cluster_centers_.argsort()[:, ::-1]\n",
        "terms = count_vect.get_feature_names()\n",
        "for i in range(10):\n",
        "    print(\"Cluster %d:\" % i, end='')\n",
        "    for ind in order_centroids[i, :10]:\n",
        "        print(' %s' % terms[ind], end='')\n",
        "        print()"
      ],
      "execution_count": 30,
      "outputs": [
        {
          "output_type": "stream",
          "text": [
            "Top terms per cluster:\n",
            "Cluster 0: good\n",
            " food\n",
            " realli\n",
            " place\n",
            " select\n",
            " pizza\n",
            " price\n",
            " pretti\n",
            " tasti\n",
            " way\n",
            "Cluster 1: place\n",
            " back\n",
            " time\n",
            " like\n",
            " love\n",
            " would\n",
            " disappoint\n",
            " ever\n",
            " realli\n",
            " dont\n",
            "Cluster 2: like\n",
            " made\n",
            " chip\n",
            " also\n",
            " feel\n",
            " bought\n",
            " bar\n",
            " serv\n",
            " origin\n",
            " bit\n",
            "Cluster 3: reason\n",
            " price\n",
            " servic\n",
            " back\n",
            " public\n",
            " mall\n",
            " aria\n",
            " shop\n",
            " insid\n",
            " mayo\n",
            "Cluster 4: great\n",
            " food\n",
            " place\n",
            " alway\n",
            " eat\n",
            " menu\n",
            " drink\n",
            " area\n",
            " good\n",
            " experi\n",
            "Cluster 5: staff\n",
            " friend\n",
            " nice\n",
            " super\n",
            " even\n",
            " server\n",
            " clean\n",
            " alway\n",
            " serv\n",
            " first\n",
            "Cluster 6: burger\n",
            " flavor\n",
            " absolut\n",
            " disappoint\n",
            " total\n",
            " bland\n",
            " charcoal\n",
            " kind\n",
            " overcook\n",
            " standard\n",
            "Cluster 7: servic\n",
            " food\n",
            " great\n",
            " slow\n",
            " like\n",
            " friend\n",
            " good\n",
            " custom\n",
            " came\n",
            " excel\n",
            "Cluster 8: steak\n",
            " best\n",
            " place\n",
            " son\n",
            " guy\n",
            " eaten\n",
            " ever\n",
            " hes\n",
            " love\n",
            " worst\n",
            "Cluster 9: food\n",
            " place\n",
            " delici\n",
            " wait\n",
            " minut\n",
            " bad\n",
            " time\n",
            " like\n",
            " even\n",
            " one\n"
          ],
          "name": "stdout"
        }
      ]
    },
    {
      "cell_type": "code",
      "metadata": {
        "colab": {
          "base_uri": "https://localhost:8080/",
          "height": 295
        },
        "id": "qfhYqahR-s87",
        "outputId": "6836dbe5-b6d4-474a-90a1-fb93819cecd5"
      },
      "source": [
        "import matplotlib.pyplot as plt\n",
        "plt.bar([x for x in range(10)], df.groupby(['Bow Clus Label'])['Review'].count(), alpha = 0.4)\n",
        "plt.title('KMeans cluster points')\n",
        "plt.xlabel(\"Cluster number\")\n",
        "plt.ylabel(\"Number of points\")\n",
        "plt.show()"
      ],
      "execution_count": 31,
      "outputs": [
        {
          "output_type": "display_data",
          "data": {
            "image/png": "[encoded data removed]",
            "text/plain": [
              "<Figure size 432x288 with 1 Axes>"
            ]
          },
          "metadata": {
            "tags": [],
            "needs_background": "light"
          }
        }
      ]
    },
    {
      "cell_type": "code",
      "metadata": {
        "colab": {
          "base_uri": "https://localhost:8080/"
        },
        "id": "qMf0pTw2_AIX",
        "outputId": "872d2588-823e-4c43-9fcd-98025af2d662"
      },
      "source": [
        "for i in range(10):\n",
        "    print(\"A review of assigned to cluster \", i)\n",
        "    print(\"-\" * 70)\n",
        "    print(df.iloc[df.groupby(['Bow Clus Label']).groups[i][0]]['Review'])\n",
        "    print('\\n')\n",
        "    print(\"_\" * 70)"
      ],
      "execution_count": 32,
      "outputs": [
        {
          "output_type": "stream",
          "text": [
            "A review of assigned to cluster  0\n",
            "----------------------------------------------------------------------\n",
            "The fries were great too.\n",
            "\n",
            "\n",
            "______________________________________________________________________\n",
            "A review of assigned to cluster  1\n",
            "----------------------------------------------------------------------\n",
            "Wow... Loved this place.\n",
            "\n",
            "\n",
            "______________________________________________________________________\n",
            "A review of assigned to cluster  2\n",
            "----------------------------------------------------------------------\n",
            "The grilled chicken was so tender and yellow from the saffron seasoning.\n",
            "\n",
            "\n",
            "______________________________________________________________________\n",
            "A review of assigned to cluster  3\n",
            "----------------------------------------------------------------------\n",
            "Those burgers were amazing.\n",
            "\n",
            "\n",
            "______________________________________________________________________\n",
            "A review of assigned to cluster  4\n",
            "----------------------------------------------------------------------\n",
            "Service is also cute.\n",
            "\n",
            "\n",
            "______________________________________________________________________\n",
            "A review of assigned to cluster  5\n",
            "----------------------------------------------------------------------\n",
            "The pancake was also really good and pretty large at that.\n",
            "\n",
            "\n",
            "______________________________________________________________________\n",
            "A review of assigned to cluster  6\n",
            "----------------------------------------------------------------------\n",
            "All in all, I can assure you I'll be back.\n",
            "\n",
            "\n",
            "______________________________________________________________________\n",
            "A review of assigned to cluster  7\n",
            "----------------------------------------------------------------------\n",
            "The burger is good beef, cooked just right.\n",
            "\n",
            "\n",
            "______________________________________________________________________\n",
            "A review of assigned to cluster  8\n",
            "----------------------------------------------------------------------\n",
            "I'll definitely be in soon again.\n",
            "\n",
            "\n",
            "______________________________________________________________________\n",
            "A review of assigned to cluster  9\n",
            "----------------------------------------------------------------------\n",
            "Today is the second time I've been to their lunch buffet and it was pretty good.\n",
            "\n",
            "\n",
            "______________________________________________________________________\n"
          ],
          "name": "stdout"
        }
      ]
    },
    {
      "cell_type": "code",
      "metadata": {
        "colab": {
          "base_uri": "https://localhost:8080/"
        },
        "id": "kGxRF0JQ_KN-",
        "outputId": "e0f43b93-1bae-493f-bf9d-e88f78f6630c"
      },
      "source": [
        "print(df.iloc[df.groupby(['Bow Clus Label']).groups[3][3]]['Review'])\n",
        "print(\"_\" * 70)\n",
        "print(df.iloc[df.groupby(['Bow Clus Label']).groups[3][4]]['Review'])\n",
        "print(\"_\" * 70)\n",
        "print(df.iloc[df.groupby(['Bow Clus Label']).groups[3][5]]['Review'])"
      ],
      "execution_count": 35,
      "outputs": [
        {
          "output_type": "stream",
          "text": [
            "What did bother me, was the slow service.\n",
            "______________________________________________________________________\n",
            "We ordered the duck rare and it was pink and tender on the inside with a nice char on the outside.\n",
            "______________________________________________________________________\n",
            "I always order from the vegetarian menu during dinner, which has a wide array of options to choose from.\n"
          ],
          "name": "stdout"
        }
      ]
    },
    {
      "cell_type": "code",
      "metadata": {
        "colab": {
          "base_uri": "https://localhost:8080/"
        },
        "id": "iIyOpsAR_Xf5",
        "outputId": "890471d3-b158-4f81-a541-464b3b800102"
      },
      "source": [
        "from sklearn.feature_extraction.text import TfidfVectorizer\n",
        "tfidf_vect = TfidfVectorizer()\n",
        "tfidf = tfidf_vect.fit_transform(df['CleanedText'].values)\n",
        "tfidf.shape"
      ],
      "execution_count": 36,
      "outputs": [
        {
          "output_type": "execute_result",
          "data": {
            "text/plain": [
              "(1000, 1544)"
            ]
          },
          "metadata": {
            "tags": []
          },
          "execution_count": 36
        }
      ]
    },
    {
      "cell_type": "code",
      "metadata": {
        "colab": {
          "base_uri": "https://localhost:8080/"
        },
        "id": "-vrHNbmEBUBL",
        "outputId": "fb749e9a-0e77-48cd-ad58-0549347e349b"
      },
      "source": [
        "from sklearn.cluster import KMeans\n",
        "model_tf = KMeans(n_clusters = 10, n_jobs = -1,random_state=99)\n",
        "model_tf.fit(tfidf)"
      ],
      "execution_count": 37,
      "outputs": [
        {
          "output_type": "execute_result",
          "data": {
            "text/plain": [
              "KMeans(algorithm='auto', copy_x=True, init='k-means++', max_iter=300,\n",
              "       n_clusters=10, n_init=10, n_jobs=-1, precompute_distances='auto',\n",
              "       random_state=99, tol=0.0001, verbose=0)"
            ]
          },
          "metadata": {
            "tags": []
          },
          "execution_count": 37
        }
      ]
    },
    {
      "cell_type": "code",
      "metadata": {
        "id": "CKM2AHCrBixy"
      },
      "source": [
        "labels_tf = model_tf.labels_\n",
        "cluster_center_tf=model_tf.cluster_centers_"
      ],
      "execution_count": 38,
      "outputs": []
    },
    {
      "cell_type": "code",
      "metadata": {
        "colab": {
          "base_uri": "https://localhost:8080/"
        },
        "id": "D2l27dToBpL1",
        "outputId": "b433c505-72a9-432e-f0f5-9102eb29116e"
      },
      "source": [
        "cluster_center_tf"
      ],
      "execution_count": 39,
      "outputs": [
        {
          "output_type": "execute_result",
          "data": {
            "text/plain": [
              "array([[0.01546839, 0.        , 0.        , ..., 0.        , 0.        ,\n",
              "        0.        ],\n",
              "       [0.        , 0.        , 0.        , ..., 0.        , 0.        ,\n",
              "        0.        ],\n",
              "       [0.00567397, 0.0015134 , 0.        , ..., 0.00076332, 0.00328338,\n",
              "        0.00291574],\n",
              "       ...,\n",
              "       [0.        , 0.        , 0.        , ..., 0.        , 0.        ,\n",
              "        0.        ],\n",
              "       [0.        , 0.        , 0.00628348, ..., 0.        , 0.        ,\n",
              "        0.        ],\n",
              "       [0.        , 0.        , 0.        , ..., 0.        , 0.        ,\n",
              "        0.        ]])"
            ]
          },
          "metadata": {
            "tags": []
          },
          "execution_count": 39
        }
      ]
    },
    {
      "cell_type": "code",
      "metadata": {
        "id": "RFN2DhqzBtJL"
      },
      "source": [
        "terms1 = tfidf_vect.get_feature_names()"
      ],
      "execution_count": 40,
      "outputs": []
    },
    {
      "cell_type": "code",
      "metadata": {
        "colab": {
          "base_uri": "https://localhost:8080/"
        },
        "id": "WPJkA5SaB0R5",
        "outputId": "6b7ce729-668f-48fe-b775-8a8ed5d68232"
      },
      "source": [
        "terms1[1:10]"
      ],
      "execution_count": 41,
      "outputs": [
        {
          "output_type": "execute_result",
          "data": {
            "text/plain": [
              "['absolutley',\n",
              " 'accid',\n",
              " 'accommod',\n",
              " 'accomod',\n",
              " 'accord',\n",
              " 'account',\n",
              " 'ach',\n",
              " 'acknowledg',\n",
              " 'across']"
            ]
          },
          "metadata": {
            "tags": []
          },
          "execution_count": 41
        }
      ]
    },
    {
      "cell_type": "code",
      "metadata": {
        "id": "NtAmMSQlB4U6"
      },
      "source": [
        "from sklearn import metrics\n",
        "silhouette_score_tf = metrics.silhouette_score(tfidf, labels_tf, metric='euclidean')"
      ],
      "execution_count": 42,
      "outputs": []
    },
    {
      "cell_type": "code",
      "metadata": {
        "colab": {
          "base_uri": "https://localhost:8080/"
        },
        "id": "Kmn7ntWvB7mL",
        "outputId": "483f363a-9b71-4c97-ec0c-1a4e69c7e3b2"
      },
      "source": [
        "silhouette_score_tf"
      ],
      "execution_count": 43,
      "outputs": [
        {
          "output_type": "execute_result",
          "data": {
            "text/plain": [
              "0.018837061234436413"
            ]
          },
          "metadata": {
            "tags": []
          },
          "execution_count": 43
        }
      ]
    },
    {
      "cell_type": "code",
      "metadata": {
        "colab": {
          "base_uri": "https://localhost:8080/",
          "height": 204
        },
        "id": "3qusSqH2B-6l",
        "outputId": "7ca58ae4-127f-42f9-8c72-74d04b326fba"
      },
      "source": [
        "df1 = df\n",
        "df1['Tfidf Clus Label'] = model_tf.labels_\n",
        "df1.head(5)"
      ],
      "execution_count": 44,
      "outputs": [
        {
          "output_type": "execute_result",
          "data": {
            "text/html": [
              "<div>\n",
              "<style scoped>\n",
              "    .dataframe tbody tr th:only-of-type {\n",
              "        vertical-align: middle;\n",
              "    }\n",
              "\n",
              "    .dataframe tbody tr th {\n",
              "        vertical-align: top;\n",
              "    }\n",
              "\n",
              "    .dataframe thead th {\n",
              "        text-align: right;\n",
              "    }\n",
              "</style>\n",
              "<table border=\"1\" class=\"dataframe\">\n",
              "  <thead>\n",
              "    <tr style=\"text-align: right;\">\n",
              "      <th></th>\n",
              "      <th>Review</th>\n",
              "      <th>Liked</th>\n",
              "      <th>CleanedText</th>\n",
              "      <th>Bow Clus Label</th>\n",
              "      <th>Tfidf Clus Label</th>\n",
              "    </tr>\n",
              "  </thead>\n",
              "  <tbody>\n",
              "    <tr>\n",
              "      <th>0</th>\n",
              "      <td>Wow... Loved this place.</td>\n",
              "      <td>positive</td>\n",
              "      <td>wow love place</td>\n",
              "      <td>1</td>\n",
              "      <td>8</td>\n",
              "    </tr>\n",
              "    <tr>\n",
              "      <th>3</th>\n",
              "      <td>Stopped by during the late May bank holiday of...</td>\n",
              "      <td>positive</td>\n",
              "      <td>stop late may bank holiday rick steve recommen...</td>\n",
              "      <td>0</td>\n",
              "      <td>2</td>\n",
              "    </tr>\n",
              "    <tr>\n",
              "      <th>4</th>\n",
              "      <td>The selection on the menu was great and so wer...</td>\n",
              "      <td>positive</td>\n",
              "      <td>select menu great price</td>\n",
              "      <td>1</td>\n",
              "      <td>1</td>\n",
              "    </tr>\n",
              "    <tr>\n",
              "      <th>8</th>\n",
              "      <td>The fries were great too.</td>\n",
              "      <td>positive</td>\n",
              "      <td>fri great</td>\n",
              "      <td>1</td>\n",
              "      <td>1</td>\n",
              "    </tr>\n",
              "    <tr>\n",
              "      <th>9</th>\n",
              "      <td>A great touch.</td>\n",
              "      <td>positive</td>\n",
              "      <td>great touch</td>\n",
              "      <td>4</td>\n",
              "      <td>1</td>\n",
              "    </tr>\n",
              "  </tbody>\n",
              "</table>\n",
              "</div>"
            ],
            "text/plain": [
              "                                              Review  ... Tfidf Clus Label\n",
              "0                           Wow... Loved this place.  ...                8\n",
              "3  Stopped by during the late May bank holiday of...  ...                2\n",
              "4  The selection on the menu was great and so wer...  ...                1\n",
              "8                          The fries were great too.  ...                1\n",
              "9                                     A great touch.  ...                1\n",
              "\n",
              "[5 rows x 5 columns]"
            ]
          },
          "metadata": {
            "tags": []
          },
          "execution_count": 44
        }
      ]
    },
    {
      "cell_type": "code",
      "metadata": {
        "colab": {
          "base_uri": "https://localhost:8080/"
        },
        "id": "iuXkuJO2CSMd",
        "outputId": "bf5f3d8a-a808-41bc-d6e6-f9403ae26b65"
      },
      "source": [
        "df1.groupby(['Tfidf Clus Label'])['Review'].count()"
      ],
      "execution_count": 45,
      "outputs": [
        {
          "output_type": "execute_result",
          "data": {
            "text/plain": [
              "Tfidf Clus Label\n",
              "0     44\n",
              "1     47\n",
              "2    531\n",
              "3     63\n",
              "4     37\n",
              "5     64\n",
              "6     70\n",
              "7     38\n",
              "8     87\n",
              "9     19\n",
              "Name: Review, dtype: int64"
            ]
          },
          "metadata": {
            "tags": []
          },
          "execution_count": 45
        }
      ]
    },
    {
      "cell_type": "code",
      "metadata": {
        "colab": {
          "base_uri": "https://localhost:8080/"
        },
        "id": "NkQqyt4aCYGW",
        "outputId": "06be2cc0-0df7-45c4-89b0-873fee137dd2"
      },
      "source": [
        "print(\"Top terms per cluster:\")\n",
        "order_centroids = model_tf.cluster_centers_.argsort()[:, ::-1]\n",
        "for i in range(10):\n",
        "    print(\"Cluster %d:\" % i, end='')\n",
        "    for ind in order_centroids[i, :10]:\n",
        "        print(' %s' % terms1[ind], end='')\n",
        "        print()"
      ],
      "execution_count": 46,
      "outputs": [
        {
          "output_type": "stream",
          "text": [
            "Top terms per cluster:\n",
            "Cluster 0: back\n",
            " come\n",
            " never\n",
            " definit\n",
            " time\n",
            " think\n",
            " would\n",
            " soon\n",
            " everi\n",
            " ill\n",
            "Cluster 1: great\n",
            " food\n",
            " place\n",
            " eat\n",
            " experi\n",
            " alway\n",
            " servic\n",
            " dinner\n",
            " menu\n",
            " atmospher\n",
            "Cluster 2: dont\n",
            " like\n",
            " time\n",
            " disappoint\n",
            " wait\n",
            " love\n",
            " restaur\n",
            " eat\n",
            " get\n",
            " ever\n",
            "Cluster 3: servic\n",
            " food\n",
            " slow\n",
            " terribl\n",
            " fantast\n",
            " great\n",
            " like\n",
            " good\n",
            " custom\n",
            " poor\n",
            "Cluster 4: also\n",
            " price\n",
            " reason\n",
            " made\n",
            " hous\n",
            " servic\n",
            " food\n",
            " fri\n",
            " town\n",
            " portion\n",
            "Cluster 5: good\n",
            " food\n",
            " realli\n",
            " select\n",
            " pizza\n",
            " pretti\n",
            " though\n",
            " time\n",
            " tasti\n",
            " price\n",
            "Cluster 6: food\n",
            " delici\n",
            " averag\n",
            " best\n",
            " terribl\n",
            " arriv\n",
            " bad\n",
            " amaz\n",
            " even\n",
            " dish\n",
            "Cluster 7: friend\n",
            " staff\n",
            " servic\n",
            " waitress\n",
            " attent\n",
            " super\n",
            " even\n",
            " server\n",
            " nice\n",
            " help\n",
            "Cluster 8: place\n",
            " would\n",
            " love\n",
            " like\n",
            " sushi\n",
            " recommend\n",
            " amaz\n",
            " overpr\n",
            " night\n",
            " want\n",
            "Cluster 9: wont\n",
            " back\n",
            " disappoint\n",
            " go\n",
            " probabl\n",
            " anytim\n",
            " soon\n",
            " return\n",
            " assur\n",
            " promis\n"
          ],
          "name": "stdout"
        }
      ]
    },
    {
      "cell_type": "code",
      "metadata": {
        "colab": {
          "base_uri": "https://localhost:8080/",
          "height": 295
        },
        "id": "ARWco_wlCe98",
        "outputId": "38c7a385-9807-47a3-e684-a20662a510af"
      },
      "source": [
        "plt.bar([x for x in range(10)], df1.groupby(['Tfidf Clus Label'])['Review'].count(), alpha = 0.4)\n",
        "plt.title('KMeans cluster points')\n",
        "plt.xlabel(\"Cluster number\")\n",
        "plt.ylabel(\"Number of points\")\n",
        "plt.show()"
      ],
      "execution_count": 47,
      "outputs": [
        {
          "output_type": "display_data",
          "data": {
            "image/png": "[encoded data removed]",
            "text/plain": [
              "<Figure size 432x288 with 1 Axes>"
            ]
          },
          "metadata": {
            "tags": [],
            "needs_background": "light"
          }
        }
      ]
    },
    {
      "cell_type": "code",
      "metadata": {
        "id": "Rs6QAIISCn79"
      },
      "source": [
        "i=0\n",
        "list_of_sent=[]\n",
        "for sent in df['CleanedText'].values:\n",
        "    list_of_sent.append(sent.split())"
      ],
      "execution_count": 51,
      "outputs": []
    },
    {
      "cell_type": "code",
      "metadata": {
        "colab": {
          "base_uri": "https://localhost:8080/"
        },
        "id": "6SKP5R2tCxe_",
        "outputId": "ddfb79bf-2ed5-4e44-a60c-d4faf2a19f2c"
      },
      "source": [
        "print(df['CleanedText'].values[0])\n",
        "print(\"*****************************************************************\")\n",
        "print(list_of_sent[0])"
      ],
      "execution_count": 52,
      "outputs": [
        {
          "output_type": "stream",
          "text": [
            "wow love place\n",
            "*****************************************************************\n",
            "['wow', 'love', 'place']\n"
          ],
          "name": "stdout"
        }
      ]
    },
    {
      "cell_type": "code",
      "metadata": {
        "id": "SxVtJg40DUNk"
      },
      "source": [
        "import re\n",
        "def cleanhtml(sentence): #function to clean the word of any html-tags\n",
        "    cleanr = re.compile('<.*?>')\n",
        "    cleantext = re.sub(cleanr, ' ', sentence)\n",
        "    return cleantext\n",
        "def cleanpunc(sentence): #function to clean the word of any punctuation or special characters\n",
        "    cleaned = re.sub(r'[?|!|\\'|\"|#]',r'',sentence)\n",
        "    cleaned = re.sub(r'[.|,|)|(|\\|/]',r' ',cleaned)\n",
        "    return  cleaned"
      ],
      "execution_count": 53,
      "outputs": []
    },
    {
      "cell_type": "code",
      "metadata": {
        "id": "7EcyBGeTDg5E"
      },
      "source": [
        "i=0\n",
        "list_of_sent_train=[]\n",
        "for sent in df['CleanedText'].values:\n",
        "    filtered_sentence=[]\n",
        "    sent=cleanhtml(sent)\n",
        "    for w in sent.split():\n",
        "        for cleaned_words in cleanpunc(w).split():\n",
        "            if(cleaned_words.isalpha()):    \n",
        "                filtered_sentence.append(cleaned_words.lower())\n",
        "            else:\n",
        "                continue \n",
        "    list_of_sent_train.append(filtered_sentence)"
      ],
      "execution_count": 54,
      "outputs": []
    },
    {
      "cell_type": "code",
      "metadata": {
        "id": "7QVH-7QkDzVz"
      },
      "source": [
        "import gensim\n",
        "# Training the wor2vec model using train dataset\n",
        "w2v_model=gensim.models.Word2Vec(list_of_sent_train,size=100, workers=4)"
      ],
      "execution_count": 55,
      "outputs": []
    },
    {
      "cell_type": "code",
      "metadata": {
        "colab": {
          "base_uri": "https://localhost:8080/"
        },
        "id": "DgO2IG2hEXKu",
        "outputId": "1c47b84a-551f-4ce7-b9fc-6ce374a8d8e7"
      },
      "source": [
        "import numpy as np\n",
        "sent_vectors = []; # the avg-w2v for each sentence/review is stored in this train\n",
        "for sent in list_of_sent_train: # for each review/sentence\n",
        "    sent_vec = np.zeros(100) # as word vectors are of zero length\n",
        "    cnt_words =0; # num of words with a valid vector in the sentence/review\n",
        "    for word in sent: # for each word in a review/sentence\n",
        "        try:\n",
        "            vec = w2v_model.wv[word]\n",
        "            sent_vec += vec\n",
        "            cnt_words += 1\n",
        "        except:\n",
        "            pass\n",
        "    sent_vec /= cnt_words\n",
        "    sent_vectors.append(sent_vec)\n",
        "sent_vectors = np.array(sent_vectors)\n",
        "sent_vectors = np.nan_to_num(sent_vectors)\n",
        "sent_vectors.shape"
      ],
      "execution_count": 56,
      "outputs": [
        {
          "output_type": "stream",
          "text": [
            "/usr/local/lib/python3.6/dist-packages/ipykernel_launcher.py:13: RuntimeWarning: invalid value encountered in true_divide\n",
            "  del sys.path[0]\n"
          ],
          "name": "stderr"
        },
        {
          "output_type": "execute_result",
          "data": {
            "text/plain": [
              "(1000, 100)"
            ]
          },
          "metadata": {
            "tags": []
          },
          "execution_count": 56
        }
      ]
    },
    {
      "cell_type": "code",
      "metadata": {
        "colab": {
          "base_uri": "https://localhost:8080/"
        },
        "id": "KKExRfseEvjv",
        "outputId": "21710e30-5b3f-49f5-8d46-b7f1b2147548"
      },
      "source": [
        "num_clus = [x for x in range(3,11)]\n",
        "num_clus"
      ],
      "execution_count": 57,
      "outputs": [
        {
          "output_type": "execute_result",
          "data": {
            "text/plain": [
              "[3, 4, 5, 6, 7, 8, 9, 10]"
            ]
          },
          "metadata": {
            "tags": []
          },
          "execution_count": 57
        }
      ]
    },
    {
      "cell_type": "code",
      "metadata": {
        "colab": {
          "base_uri": "https://localhost:8080/",
          "height": 329
        },
        "id": "8vuq96BlE0XZ",
        "outputId": "2172e04f-a59f-45b5-b3bc-015c53e679d2"
      },
      "source": [
        "squared_errors = []\n",
        "for cluster in num_clus:\n",
        "    kmeans = KMeans(n_clusters = cluster).fit(sent_vectors) \n",
        "    squared_errors.append(kmeans.inertia_) \n",
        "    \n",
        "optimal_clusters = np.argmin(squared_errors) + 2 \n",
        "plt.plot(num_clus, squared_errors)\n",
        "plt.title(\"Elbow Curve to find the no. of clusters.\")\n",
        "plt.xlabel(\"Number of clusters.\")\n",
        "plt.ylabel(\"Squared Loss.\")\n",
        "xy = (optimal_clusters, min(squared_errors))\n",
        "plt.annotate('(%s, %s)' % xy, xy = xy, textcoords='data')\n",
        "plt.show()\n",
        "\n",
        "print (\"The optimal number of clusters obtained is - \", optimal_clusters)\n",
        "print (\"The loss for optimal cluster is - \", min(squared_errors))"
      ],
      "execution_count": 58,
      "outputs": [
        {
          "output_type": "display_data",
          "data": {
            "image/png": "[encoded data removed]",
            "text/plain": [
              "<Figure size 432x288 with 1 Axes>"
            ]
          },
          "metadata": {
            "tags": [],
            "needs_background": "light"
          }
        },
        {
          "output_type": "stream",
          "text": [
            "The optimal number of clusters obtained is -  9\n",
            "The loss for optimal cluster is -  0.27673497890941745\n"
          ],
          "name": "stdout"
        }
      ]
    },
    {
      "cell_type": "code",
      "metadata": {
        "colab": {
          "base_uri": "https://localhost:8080/"
        },
        "id": "9Dl0mgcbFlFn",
        "outputId": "2c11c645-246d-405f-b8b7-2b4e36673184"
      },
      "source": [
        "from sklearn.cluster import KMeans\n",
        "model2 = KMeans(n_clusters = optimal_clusters)\n",
        "model2.fit(sent_vectors)"
      ],
      "execution_count": 59,
      "outputs": [
        {
          "output_type": "execute_result",
          "data": {
            "text/plain": [
              "KMeans(algorithm='auto', copy_x=True, init='k-means++', max_iter=300,\n",
              "       n_clusters=9, n_init=10, n_jobs=None, precompute_distances='auto',\n",
              "       random_state=None, tol=0.0001, verbose=0)"
            ]
          },
          "metadata": {
            "tags": []
          },
          "execution_count": 59
        }
      ]
    },
    {
      "cell_type": "code",
      "metadata": {
        "id": "pPCobyPZFtfe"
      },
      "source": [
        "word_cluster_pred=model2.predict(sent_vectors)\n",
        "word_cluster_pred_2=model2.labels_\n",
        "word_cluster_center=model2.cluster_centers_"
      ],
      "execution_count": 60,
      "outputs": []
    },
    {
      "cell_type": "code",
      "metadata": {
        "colab": {
          "base_uri": "https://localhost:8080/",
          "height": 145
        },
        "id": "AHDnsU04FzKP",
        "outputId": "74504822-900f-4658-e894-dd709d2e7d22"
      },
      "source": [
        "dfa = df1\n",
        "dfa['AVG-W2V Clus Label'] = model2.labels_\n",
        "dfa.head(2)"
      ],
      "execution_count": 61,
      "outputs": [
        {
          "output_type": "execute_result",
          "data": {
            "text/html": [
              "<div>\n",
              "<style scoped>\n",
              "    .dataframe tbody tr th:only-of-type {\n",
              "        vertical-align: middle;\n",
              "    }\n",
              "\n",
              "    .dataframe tbody tr th {\n",
              "        vertical-align: top;\n",
              "    }\n",
              "\n",
              "    .dataframe thead th {\n",
              "        text-align: right;\n",
              "    }\n",
              "</style>\n",
              "<table border=\"1\" class=\"dataframe\">\n",
              "  <thead>\n",
              "    <tr style=\"text-align: right;\">\n",
              "      <th></th>\n",
              "      <th>Review</th>\n",
              "      <th>Liked</th>\n",
              "      <th>CleanedText</th>\n",
              "      <th>Bow Clus Label</th>\n",
              "      <th>Tfidf Clus Label</th>\n",
              "      <th>AVG-W2V Clus Label</th>\n",
              "    </tr>\n",
              "  </thead>\n",
              "  <tbody>\n",
              "    <tr>\n",
              "      <th>0</th>\n",
              "      <td>Wow... Loved this place.</td>\n",
              "      <td>positive</td>\n",
              "      <td>wow love place</td>\n",
              "      <td>1</td>\n",
              "      <td>8</td>\n",
              "      <td>2</td>\n",
              "    </tr>\n",
              "    <tr>\n",
              "      <th>3</th>\n",
              "      <td>Stopped by during the late May bank holiday of...</td>\n",
              "      <td>positive</td>\n",
              "      <td>stop late may bank holiday rick steve recommen...</td>\n",
              "      <td>0</td>\n",
              "      <td>2</td>\n",
              "      <td>8</td>\n",
              "    </tr>\n",
              "  </tbody>\n",
              "</table>\n",
              "</div>"
            ],
            "text/plain": [
              "                                              Review  ... AVG-W2V Clus Label\n",
              "0                           Wow... Loved this place.  ...                  2\n",
              "3  Stopped by during the late May bank holiday of...  ...                  8\n",
              "\n",
              "[2 rows x 6 columns]"
            ]
          },
          "metadata": {
            "tags": []
          },
          "execution_count": 61
        }
      ]
    },
    {
      "cell_type": "code",
      "metadata": {
        "colab": {
          "base_uri": "https://localhost:8080/"
        },
        "id": "7xgzMfCNF6Wo",
        "outputId": "364cf751-1f59-4259-c694-8184de22eae7"
      },
      "source": [
        "dfa.groupby(['AVG-W2V Clus Label'])['Review'].count()"
      ],
      "execution_count": 62,
      "outputs": [
        {
          "output_type": "execute_result",
          "data": {
            "text/plain": [
              "AVG-W2V Clus Label\n",
              "0     35\n",
              "1    205\n",
              "2     77\n",
              "3     79\n",
              "4     24\n",
              "5     70\n",
              "6     57\n",
              "7    310\n",
              "8    143\n",
              "Name: Review, dtype: int64"
            ]
          },
          "metadata": {
            "tags": []
          },
          "execution_count": 62
        }
      ]
    },
    {
      "cell_type": "code",
      "metadata": {
        "colab": {
          "base_uri": "https://localhost:8080/"
        },
        "id": "ipF2cXkVF_d2",
        "outputId": "47a335c9-70f0-4441-b663-98010aeda8d3"
      },
      "source": [
        "for i in range(optimal_clusters):\n",
        "    print(\"A review of assigned to cluster \", i)\n",
        "    print(\"-\" * 70)\n",
        "    print(dfa.iloc[dfa.groupby(['AVG-W2V Clus Label']).groups[i][0]]['Review'])\n",
        "    print('\\n')\n",
        "    print(dfa.iloc[dfa.groupby(['AVG-W2V Clus Label']).groups[i][1]]['Review'])\n",
        "    print('\\n')\n",
        "    print(\"_\" * 70)"
      ],
      "execution_count": 63,
      "outputs": [
        {
          "output_type": "stream",
          "text": [
            "A review of assigned to cluster  0\n",
            "----------------------------------------------------------------------\n",
            "I could care less... The interior is just beautiful.\n",
            "\n",
            "\n",
            "The only thing I did like was the prime rib and dessert section.\n",
            "\n",
            "\n",
            "______________________________________________________________________\n",
            "A review of assigned to cluster  1\n",
            "----------------------------------------------------------------------\n",
            "The burger is good beef, cooked just right.\n",
            "\n",
            "\n",
            "Update.....went back for a second time and it was still just as amazing\n",
            "\n",
            "\n",
            "______________________________________________________________________\n",
            "A review of assigned to cluster  2\n",
            "----------------------------------------------------------------------\n",
            "Wow... Loved this place.\n",
            "\n",
            "\n",
            "This place receives stars for their APPETIZERS!!!\n",
            "\n",
            "\n",
            "______________________________________________________________________\n",
            "A review of assigned to cluster  3\n",
            "----------------------------------------------------------------------\n",
            "A great touch.\n",
            "\n",
            "\n",
            "The food, amazing.\n",
            "\n",
            "\n",
            "______________________________________________________________________\n",
            "A review of assigned to cluster  4\n",
            "----------------------------------------------------------------------\n",
            "My side Greek salad with the Greek dressing was so tasty, and the pita and hummus was very refreshing.\n",
            "\n",
            "\n",
            "Food arrived quickly!\n",
            "\n",
            "\n",
            "______________________________________________________________________\n",
            "A review of assigned to cluster  5\n",
            "----------------------------------------------------------------------\n",
            "On a positive note, our server was very attentive and provided great service.\n",
            "\n",
            "\n",
            "I ordered the Voodoo pasta and it was the first time I'd had really excellent pasta since going gluten free several years ago.\n",
            "\n",
            "\n",
            "______________________________________________________________________\n",
            "A review of assigned to cluster  6\n",
            "----------------------------------------------------------------------\n",
            "Sooooo good!!\n",
            "\n",
            "\n",
            "Check it out.\n",
            "\n",
            "\n",
            "______________________________________________________________________\n",
            "A review of assigned to cluster  7\n",
            "----------------------------------------------------------------------\n",
            "This hole in the wall has great Mexican street tacos, and friendly staff.\n",
            "\n",
            "\n",
            "Loved it...friendly servers, great food, wonderful and imaginative menu.\n",
            "\n",
            "\n",
            "______________________________________________________________________\n",
            "A review of assigned to cluster  8\n",
            "----------------------------------------------------------------------\n",
            "The fries were great too.\n",
            "\n",
            "\n",
            "Overall, I like this place a lot.\n",
            "\n",
            "\n",
            "______________________________________________________________________\n"
          ],
          "name": "stdout"
        }
      ]
    },
    {
      "cell_type": "markdown",
      "metadata": {
        "id": "8o4IN1ZEGN_C"
      },
      "source": [
        "**DBSCAN**"
      ]
    },
    {
      "cell_type": "code",
      "metadata": {
        "id": "oaZUbb6HGOsZ"
      },
      "source": [
        "from sklearn.cluster import DBSCAN"
      ],
      "execution_count": 64,
      "outputs": []
    },
    {
      "cell_type": "code",
      "metadata": {
        "id": "6EilQPfxGIct"
      },
      "source": [
        "minPts = 2 * 100\n",
        "\n",
        "def lower_bound(nums, target): \n",
        "    l, r = 0, len(nums) - 1\n",
        "    while l <= r: \n",
        "        mid = int(l + (r - l) / 2)\n",
        "        if nums[mid] >= target:\n",
        "            r = mid - 1\n",
        "        else:\n",
        "            l = mid + 1\n",
        "    return l\n",
        "\n",
        "def compute200thnearestneighbour(x, data): \n",
        "    dists = []\n",
        "    for val in data:\n",
        "        dist = np.sum((x - val) **2 ) \n",
        "        if(len(dists) == 200 and dists[199] > dist): \n",
        "            l = int(lower_bound(dists, dist)) \n",
        "            if l < 200 and l >= 0 and dists[l] > dist:\n",
        "                dists[l] = dist\n",
        "        else:\n",
        "            dists.append(dist)\n",
        "            dists.sort()\n",
        "    \n",
        "    return dists[199]"
      ],
      "execution_count": 65,
      "outputs": []
    },
    {
      "cell_type": "code",
      "metadata": {
        "id": "VmRUCNDFKpO0"
      },
      "source": [
        "twohundrethneigh = []\n",
        "for val in sent_vectors[:1500]:\n",
        "    twohundrethneigh.append( compute200thnearestneighbour(val, sent_vectors[:1500]) )\n",
        "twohundrethneigh.sort()"
      ],
      "execution_count": 66,
      "outputs": []
    },
    {
      "cell_type": "code",
      "metadata": {
        "colab": {
          "base_uri": "https://localhost:8080/",
          "height": 295
        },
        "id": "sePGXoqsKuLB",
        "outputId": "f265798e-01fc-4f31-c207-767006450a1c"
      },
      "source": [
        "plt.figure(figsize=(14,4))\n",
        "plt.title(\"Elbow Method for Finding the right Eps hyperparameter\")\n",
        "plt.plot([x for x in range(len(twohundrethneigh))], twohundrethneigh)\n",
        "plt.xlabel(\"Number of points\")\n",
        "plt.ylabel(\"Distance of 200th Nearest Neighbour\")\n",
        "plt.show()"
      ],
      "execution_count": 67,
      "outputs": [
        {
          "output_type": "display_data",
          "data": {
            "image/png": "[encoded data removed]",
            "text/plain": [
              "<Figure size 1008x288 with 1 Axes>"
            ]
          },
          "metadata": {
            "tags": [],
            "needs_background": "light"
          }
        }
      ]
    },
    {
      "cell_type": "code",
      "metadata": {
        "colab": {
          "base_uri": "https://localhost:8080/"
        },
        "id": "3khN79CLK2Lg",
        "outputId": "7c1ddbe6-9e5c-4934-ab98-8cb581b3017a"
      },
      "source": [
        "model = DBSCAN(eps = 5, min_samples = minPts, n_jobs=-1)\n",
        "model.fit(sent_vectors)"
      ],
      "execution_count": 68,
      "outputs": [
        {
          "output_type": "execute_result",
          "data": {
            "text/plain": [
              "DBSCAN(algorithm='auto', eps=5, leaf_size=30, metric='euclidean',\n",
              "       metric_params=None, min_samples=200, n_jobs=-1, p=None)"
            ]
          },
          "metadata": {
            "tags": []
          },
          "execution_count": 68
        }
      ]
    },
    {
      "cell_type": "code",
      "metadata": {
        "colab": {
          "base_uri": "https://localhost:8080/",
          "height": 145
        },
        "id": "y8GqO1POLCKP",
        "outputId": "b1dca3e7-98c6-4049-eebb-5993c3a96cd4"
      },
      "source": [
        "dfdb = dfa\n",
        "dfdb['AVG-W2V Clus Label'] = model.labels_\n",
        "dfdb.head(2)"
      ],
      "execution_count": 69,
      "outputs": [
        {
          "output_type": "execute_result",
          "data": {
            "text/html": [
              "<div>\n",
              "<style scoped>\n",
              "    .dataframe tbody tr th:only-of-type {\n",
              "        vertical-align: middle;\n",
              "    }\n",
              "\n",
              "    .dataframe tbody tr th {\n",
              "        vertical-align: top;\n",
              "    }\n",
              "\n",
              "    .dataframe thead th {\n",
              "        text-align: right;\n",
              "    }\n",
              "</style>\n",
              "<table border=\"1\" class=\"dataframe\">\n",
              "  <thead>\n",
              "    <tr style=\"text-align: right;\">\n",
              "      <th></th>\n",
              "      <th>Review</th>\n",
              "      <th>Liked</th>\n",
              "      <th>CleanedText</th>\n",
              "      <th>Bow Clus Label</th>\n",
              "      <th>Tfidf Clus Label</th>\n",
              "      <th>AVG-W2V Clus Label</th>\n",
              "    </tr>\n",
              "  </thead>\n",
              "  <tbody>\n",
              "    <tr>\n",
              "      <th>0</th>\n",
              "      <td>Wow... Loved this place.</td>\n",
              "      <td>positive</td>\n",
              "      <td>wow love place</td>\n",
              "      <td>1</td>\n",
              "      <td>8</td>\n",
              "      <td>0</td>\n",
              "    </tr>\n",
              "    <tr>\n",
              "      <th>3</th>\n",
              "      <td>Stopped by during the late May bank holiday of...</td>\n",
              "      <td>positive</td>\n",
              "      <td>stop late may bank holiday rick steve recommen...</td>\n",
              "      <td>0</td>\n",
              "      <td>2</td>\n",
              "      <td>0</td>\n",
              "    </tr>\n",
              "  </tbody>\n",
              "</table>\n",
              "</div>"
            ],
            "text/plain": [
              "                                              Review  ... AVG-W2V Clus Label\n",
              "0                           Wow... Loved this place.  ...                  0\n",
              "3  Stopped by during the late May bank holiday of...  ...                  0\n",
              "\n",
              "[2 rows x 6 columns]"
            ]
          },
          "metadata": {
            "tags": []
          },
          "execution_count": 69
        }
      ]
    },
    {
      "cell_type": "markdown",
      "metadata": {
        "id": "DVJ0pW6ALN6O"
      },
      "source": [
        "**Hierarchial Clustering**"
      ]
    },
    {
      "cell_type": "code",
      "metadata": {
        "colab": {
          "base_uri": "https://localhost:8080/",
          "height": 282
        },
        "id": "C4B6d4YOLFwa",
        "outputId": "67b20a2e-d847-4db3-f155-dc8c230c3b1f"
      },
      "source": [
        "import scipy\n",
        "from scipy.cluster import hierarchy\n",
        "dendro=hierarchy.dendrogram(hierarchy.linkage(sent_vectors,method='ward'))\n",
        "plt.axhline(y=35)"
      ],
      "execution_count": 70,
      "outputs": [
        {
          "output_type": "execute_result",
          "data": {
            "text/plain": [
              "<matplotlib.lines.Line2D at 0x7fef694794e0>"
            ]
          },
          "metadata": {
            "tags": []
          },
          "execution_count": 70
        },
        {
          "output_type": "display_data",
          "data": {
            "image/png": "[encoded data removed]",
            "text/plain": [
              "<Figure size 432x288 with 1 Axes>"
            ]
          },
          "metadata": {
            "tags": [],
            "needs_background": "light"
          }
        }
      ]
    },
    {
      "cell_type": "code",
      "metadata": {
        "id": "iJWpJgT2LYXn"
      },
      "source": [
        "from sklearn.cluster import AgglomerativeClustering\n",
        "\n",
        "cluster = AgglomerativeClustering(n_clusters=5, affinity='euclidean', linkage='ward')  #took n=5 from dendrogram curve \n",
        "Agg=cluster.fit_predict(sent_vectors)"
      ],
      "execution_count": 71,
      "outputs": []
    },
    {
      "cell_type": "code",
      "metadata": {
        "colab": {
          "base_uri": "https://localhost:8080/",
          "height": 145
        },
        "id": "tyyDsU3gLidP",
        "outputId": "57ea3f7c-2ec2-4ba5-991e-8c7402f6d24c"
      },
      "source": [
        "aggdfa = dfdb\n",
        "aggdfa['AVG-W2V Clus Label'] = cluster.labels_\n",
        "aggdfa.head(2)"
      ],
      "execution_count": 72,
      "outputs": [
        {
          "output_type": "execute_result",
          "data": {
            "text/html": [
              "<div>\n",
              "<style scoped>\n",
              "    .dataframe tbody tr th:only-of-type {\n",
              "        vertical-align: middle;\n",
              "    }\n",
              "\n",
              "    .dataframe tbody tr th {\n",
              "        vertical-align: top;\n",
              "    }\n",
              "\n",
              "    .dataframe thead th {\n",
              "        text-align: right;\n",
              "    }\n",
              "</style>\n",
              "<table border=\"1\" class=\"dataframe\">\n",
              "  <thead>\n",
              "    <tr style=\"text-align: right;\">\n",
              "      <th></th>\n",
              "      <th>Review</th>\n",
              "      <th>Liked</th>\n",
              "      <th>CleanedText</th>\n",
              "      <th>Bow Clus Label</th>\n",
              "      <th>Tfidf Clus Label</th>\n",
              "      <th>AVG-W2V Clus Label</th>\n",
              "    </tr>\n",
              "  </thead>\n",
              "  <tbody>\n",
              "    <tr>\n",
              "      <th>0</th>\n",
              "      <td>Wow... Loved this place.</td>\n",
              "      <td>positive</td>\n",
              "      <td>wow love place</td>\n",
              "      <td>1</td>\n",
              "      <td>8</td>\n",
              "      <td>3</td>\n",
              "    </tr>\n",
              "    <tr>\n",
              "      <th>3</th>\n",
              "      <td>Stopped by during the late May bank holiday of...</td>\n",
              "      <td>positive</td>\n",
              "      <td>stop late may bank holiday rick steve recommen...</td>\n",
              "      <td>0</td>\n",
              "      <td>2</td>\n",
              "      <td>3</td>\n",
              "    </tr>\n",
              "  </tbody>\n",
              "</table>\n",
              "</div>"
            ],
            "text/plain": [
              "                                              Review  ... AVG-W2V Clus Label\n",
              "0                           Wow... Loved this place.  ...                  3\n",
              "3  Stopped by during the late May bank holiday of...  ...                  3\n",
              "\n",
              "[2 rows x 6 columns]"
            ]
          },
          "metadata": {
            "tags": []
          },
          "execution_count": 72
        }
      ]
    },
    {
      "cell_type": "code",
      "metadata": {
        "colab": {
          "base_uri": "https://localhost:8080/"
        },
        "id": "i0KaK2eqLlo8",
        "outputId": "48251808-74bd-46e0-f708-4487bdddbc67"
      },
      "source": [
        "aggdfa.groupby(['AVG-W2V Clus Label'])['Review'].count()"
      ],
      "execution_count": 73,
      "outputs": [
        {
          "output_type": "execute_result",
          "data": {
            "text/plain": [
              "AVG-W2V Clus Label\n",
              "0    100\n",
              "1    743\n",
              "2     12\n",
              "3     85\n",
              "4     60\n",
              "Name: Review, dtype: int64"
            ]
          },
          "metadata": {
            "tags": []
          },
          "execution_count": 73
        }
      ]
    },
    {
      "cell_type": "code",
      "metadata": {
        "colab": {
          "base_uri": "https://localhost:8080/"
        },
        "id": "Ffq6gcv9Lqrv",
        "outputId": "aadc0894-f845-45d3-aa34-9cf4e2e01c0b"
      },
      "source": [
        "for i in range(5):\n",
        "    print(\"2 reviews of assigned to cluster \", i)\n",
        "    print(\"-\" * 70)\n",
        "    print(aggdfa.iloc[aggdfa.groupby(['AVG-W2V Clus Label']).groups[i][0]]['Review'])\n",
        "    print('\\n')\n",
        "    print(aggdfa.iloc[aggdfa.groupby(['AVG-W2V Clus Label']).groups[i][1]]['Review'])\n",
        "    print('\\n')\n",
        "    print(\"_\" * 70)"
      ],
      "execution_count": 74,
      "outputs": [
        {
          "output_type": "stream",
          "text": [
            "2 reviews of assigned to cluster  0\n",
            "----------------------------------------------------------------------\n",
            "I could care less... The interior is just beautiful.\n",
            "\n",
            "\n",
            "The only thing I did like was the prime rib and dessert section.\n",
            "\n",
            "\n",
            "______________________________________________________________________\n",
            "2 reviews of assigned to cluster  1\n",
            "----------------------------------------------------------------------\n",
            "A great touch.\n",
            "\n",
            "\n",
            "The food, amazing.\n",
            "\n",
            "\n",
            "______________________________________________________________________\n",
            "2 reviews of assigned to cluster  2\n",
            "----------------------------------------------------------------------\n",
            "Food arrived quickly!\n",
            "\n",
            "\n",
            "The best place to go for a tasty bowl of Pho!\n",
            "\n",
            "\n",
            "______________________________________________________________________\n",
            "2 reviews of assigned to cluster  3\n",
            "----------------------------------------------------------------------\n",
            "Wow... Loved this place.\n",
            "\n",
            "\n",
            "The fries were great too.\n",
            "\n",
            "\n",
            "______________________________________________________________________\n",
            "2 reviews of assigned to cluster  4\n",
            "----------------------------------------------------------------------\n",
            "On a positive note, our server was very attentive and provided great service.\n",
            "\n",
            "\n",
            "I ordered the Voodoo pasta and it was the first time I'd had really excellent pasta since going gluten free several years ago.\n",
            "\n",
            "\n",
            "______________________________________________________________________\n"
          ],
          "name": "stdout"
        }
      ]
    },
    {
      "cell_type": "markdown",
      "metadata": {
        "id": "Nw13TzrkMsBK"
      },
      "source": [
        "I think K means is best among all models. with the help of methods like elbow we get to find the optimal values."
      ]
    },
    {
      "cell_type": "code",
      "metadata": {
        "id": "0D1okbx_PsM7"
      },
      "source": [
        ""
      ],
      "execution_count": null,
      "outputs": []
    }
  ]
}
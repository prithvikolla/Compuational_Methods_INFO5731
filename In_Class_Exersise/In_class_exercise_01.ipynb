{
  "nbformat": 4,
  "nbformat_minor": 0,
  "metadata": {
    "colab": {
      "name": "In_class_exercise_01.ipynb",
      "provenance": [],
      "collapsed_sections": []
    },
    "kernelspec": {
      "display_name": "Python 3",
      "language": "python",
      "name": "python3"
    },
    "language_info": {
      "codemirror_mode": {
        "name": "ipython",
        "version": 3
      },
      "file_extension": ".py",
      "mimetype": "text/x-python",
      "name": "python",
      "nbconvert_exporter": "python",
      "pygments_lexer": "ipython3",
      "version": "3.7.4"
    }
  },
  "cells": [
    {
      "cell_type": "markdown",
      "metadata": {
        "colab_type": "text",
        "id": "view-in-github"
      },
      "source": [
        "<a href=\"https://colab.research.google.com/github/unt-iialab/INFO5731_Spring2020/blob/master/In_class_exercise/In_class_exercise_01.ipynb\" target=\"_parent\"><img src=\"https://colab.research.google.com/assets/colab-badge.svg\" alt=\"Open In Colab\"/></a>"
      ]
    },
    {
      "cell_type": "markdown",
      "metadata": {
        "colab_type": "text",
        "id": "DymRJbxDBCnf"
      },
      "source": [
        "# **The first In-class-exercise (9/2/2020, 20 points in total)**"
      ]
    },
    {
      "cell_type": "markdown",
      "metadata": {
        "colab_type": "text",
        "id": "03jb4GZsBkBS"
      },
      "source": [
        "(1) Write a Python program to calculate the length of a string. (2 points)"
      ]
    },
    {
      "cell_type": "code",
      "metadata": {
        "colab_type": "code",
        "id": "YaGLbSHHB8Ej",
        "colab": {
          "base_uri": "https://localhost:8080/",
          "height": 34
        },
        "outputId": "b9749110-7bcc-4e88-d9a9-3f94b92624c5"
      },
      "source": [
        "# write your answer here\n",
        "import pandas as pd\n",
        "string = \"Hello World!\"\n",
        "print(len(string))"
      ],
      "execution_count": 2,
      "outputs": [
        {
          "output_type": "stream",
          "text": [
            "12\n"
          ],
          "name": "stdout"
        }
      ]
    },
    {
      "cell_type": "markdown",
      "metadata": {
        "colab_type": "text",
        "id": "jJDe71iLB616"
      },
      "source": [
        "(2) Write a Python program to count the number of characters in a string. (2 points)\n",
        "\n",
        "Sample String : 'google.com‘, \n",
        "\n",
        "Expected Result : {'o': 3, 'g': 2, '.': 1, 'e': 1, 'l': 1, 'm': 1, 'c': 1}"
      ]
    },
    {
      "cell_type": "code",
      "metadata": {
        "colab_type": "code",
        "id": "MtKskTzbCLaU",
        "colab": {
          "base_uri": "https://localhost:8080/",
          "height": 34
        },
        "outputId": "cdb88540-8147-4fd4-b03d-196c50632c56"
      },
      "source": [
        "# write your answer here\n",
        "string = \"google.com\"\n",
        "CountOfElements = {i: string.count(i) for i in set(string)}\n",
        "print(CountOfElements)"
      ],
      "execution_count": 3,
      "outputs": [
        {
          "output_type": "stream",
          "text": [
            "{'c': 1, '.': 1, 'l': 1, 'm': 1, 'o': 3, 'g': 2, 'e': 1}\n"
          ],
          "name": "stdout"
        }
      ]
    },
    {
      "cell_type": "markdown",
      "metadata": {
        "colab_type": "text",
        "id": "55W9AMdXCSpV"
      },
      "source": [
        "(3) Write a Python program to sum all the items in a list. (2 points)"
      ]
    },
    {
      "cell_type": "code",
      "metadata": {
        "colab_type": "code",
        "id": "I57NXsauCec2",
        "colab": {
          "base_uri": "https://localhost:8080/",
          "height": 34
        },
        "outputId": "ba28ce73-ffd8-4ad1-8c5f-02c52fdcdd36"
      },
      "source": [
        "# write your answer here\n",
        "import numpy as np\n",
        "list = [1, 2, 3, 4]\n",
        "np.sum(list)"
      ],
      "execution_count": 4,
      "outputs": [
        {
          "output_type": "execute_result",
          "data": {
            "text/plain": [
              "10"
            ]
          },
          "metadata": {
            "tags": []
          },
          "execution_count": 4
        }
      ]
    },
    {
      "cell_type": "markdown",
      "metadata": {
        "colab_type": "text",
        "id": "4ulBZ6yhCi9F"
      },
      "source": [
        "(4) Write a Python program to get a string from a given string where all occurrences of its first char have been changed to '\\$', except the first char itself. (2 points)\n",
        "\n",
        "Sample String : 'restart‘, \n",
        "\n",
        "Expected Result : 'resta\\$t'"
      ]
    },
    {
      "cell_type": "code",
      "metadata": {
        "colab_type": "code",
        "id": "Fj0XhwbBCw2o",
        "colab": {
          "base_uri": "https://localhost:8080/",
          "height": 51
        },
        "outputId": "f2ba7711-cb25-48a8-83c5-237232bb9d86"
      },
      "source": [
        "String = input(\"String input:\\t\")\n",
        "replaceString = String[0]\n",
        "for i in range(1, len(String)):\n",
        "    if String[i] == String[0]:\n",
        "        replaceString += '$' \n",
        "    else:\n",
        "        replaceString += String[i] \n",
        "print (\"Replaced String:\",replaceString)\n"
      ],
      "execution_count": 5,
      "outputs": [
        {
          "output_type": "stream",
          "text": [
            "String input:\t1\n",
            "Replaced String: 1\n"
          ],
          "name": "stdout"
        }
      ]
    },
    {
      "cell_type": "markdown",
      "metadata": {
        "colab_type": "text",
        "id": "_bIP7s1MCzue"
      },
      "source": [
        "(5) Write a program with python which could accept two parameter a and b to calculate and output the result of S, where \n",
        "\n",
        "$\\ S=3.14*(1+a/b)^3$ (3 points)\n",
        "\n"
      ]
    },
    {
      "cell_type": "code",
      "metadata": {
        "colab_type": "code",
        "id": "w79QilHXD3Mg",
        "colab": {
          "base_uri": "https://localhost:8080/",
          "height": 68
        },
        "outputId": "b8d8d8ad-30c4-4009-fb26-8881421739e0"
      },
      "source": [
        "# write your answer here\n",
        "import math\n",
        "a = input(\"Enter a value:\\t\")\n",
        "b = input(\"Enter b value:\\t\")\n",
        "a = int(a)\n",
        "b = int(b)\n",
        "s = 3.14 * (1+ a/b)**3\n",
        "print(s)\n"
      ],
      "execution_count": 6,
      "outputs": [
        {
          "output_type": "stream",
          "text": [
            "Enter a value:\t1\n",
            "Enter b value:\t1\n",
            "25.12\n"
          ],
          "name": "stdout"
        }
      ]
    },
    {
      "cell_type": "markdown",
      "metadata": {
        "colab_type": "text",
        "id": "xCa2bK9aD4Q3"
      },
      "source": [
        "(6) Write a Python program to concatenate following dictionaries to create a new one. (3 points)\n",
        "\n",
        "Sample Dictionary : dic1={1:10, 2:20}, dic2={3:30, 4:40}, dic3={5:50,6:60}, \n",
        "\n",
        "Expected Result : {1: 10, 2: 20, 3: 30, 4: 40, 5: 50, 6: 60}\n"
      ]
    },
    {
      "cell_type": "code",
      "metadata": {
        "colab_type": "code",
        "id": "_z4aLqAbEET1",
        "colab": {
          "base_uri": "https://localhost:8080/",
          "height": 34
        },
        "outputId": "24399f6a-56bc-459c-e93f-5da40a1eaff1"
      },
      "source": [
        "# write your answer here\n",
        "dic1 = {1:10,2:20}\n",
        "dic2 = {3:30,4:40}\n",
        "dic3 = {5:50,6:60}\n",
        "ConDict = {}\n",
        "for d in [dic1, dic2, dic3]:\n",
        "  ConDict.update(d)\n",
        "print(ConDict)"
      ],
      "execution_count": 7,
      "outputs": [
        {
          "output_type": "stream",
          "text": [
            "{1: 10, 2: 20, 3: 30, 4: 40, 5: 50, 6: 60}\n"
          ],
          "name": "stdout"
        }
      ]
    },
    {
      "cell_type": "markdown",
      "metadata": {
        "colab_type": "text",
        "id": "0v48Vqa7FrQh"
      },
      "source": [
        "(7) Write a Python program to check whether an element exists within a tuple. (3 points)"
      ]
    },
    {
      "cell_type": "code",
      "metadata": {
        "colab_type": "code",
        "id": "7WEmgq-DF2P1",
        "colab": {
          "base_uri": "https://localhost:8080/",
          "height": 51
        },
        "outputId": "95a8aa19-56f6-49e3-def8-0bc7b5b7257d"
      },
      "source": [
        "# write your answer here\n",
        "tuple = (1, \"prithvi\",\"chen\", \"python\", 3, 20)\n",
        "element = input(\"enter element to check in tuple:\\t\")\n",
        "print(element in tuple)"
      ],
      "execution_count": 8,
      "outputs": [
        {
          "output_type": "stream",
          "text": [
            "enter element to check in tuple:\t1\n",
            "False\n"
          ],
          "name": "stdout"
        }
      ]
    },
    {
      "cell_type": "markdown",
      "metadata": {
        "colab_type": "text",
        "id": "vD5PYLMuGga_"
      },
      "source": [
        "(8) Write a Python program to find maximum and the minimum value in a set. (3 points)"
      ]
    },
    {
      "cell_type": "code",
      "metadata": {
        "colab_type": "code",
        "id": "t0D5kdJUGjjw",
        "colab": {
          "base_uri": "https://localhost:8080/",
          "height": 51
        },
        "outputId": "1e3167b8-a4c2-48d1-e6e8-f600ffa34101"
      },
      "source": [
        "# write your answer here\n",
        "import math\n",
        "set = {1,2,3,4}\n",
        "print(\"max value:\\t\",max(set))\n",
        "print(\"min value:\\t\",min(set))"
      ],
      "execution_count": 9,
      "outputs": [
        {
          "output_type": "stream",
          "text": [
            "max value:\t 4\n",
            "min value:\t 1\n"
          ],
          "name": "stdout"
        }
      ]
    },
    {
      "cell_type": "markdown",
      "metadata": {
        "colab_type": "text",
        "id": "uHkd-y5VhVWC"
      },
      "source": [
        "(9) Write a Python program to randomly divide the students in this class into five groups for term projects, each group should have at least 3 students but no more than 5 students (including 5). Here is the students list: (3 points for extra)\n",
        "\n",
        "studnet_list = ['vmb0067','pc0353','snd0097','yye0005','sg0940','bk0301','rak0120','rrk0058','spk0057','vl0135','nm0547','pn0159',\n",
        "                'msp0174','dd0420','ds0761','rs0850','ss1995','at0739','at0768','mv0299','tv0119','dy0091']"
      ]
    },
    {
      "cell_type": "code",
      "metadata": {
        "colab_type": "code",
        "id": "3iGbmcOBhTwy",
        "colab": {}
      },
      "source": [
        "# write your answer here\n",
        "# import numpy as np\n",
        "# import random\n",
        "# studnet_list = ['vmb0067','pc0353','snd0097','yye0005','sg0940','bk0301','rak0120','rrk0058','spk0057','vl0135','nm0547','pn0159', 'msp0174','dd0420','ds0761','rs0850','ss1995','at0739','at0768','mv0299','tv0119','dy0091']\n",
        "# GroupSizes = [ ]\n",
        "# def main():\n",
        "#     while True:\n",
        "\n",
        "#         if (np.sum(GroupSizes) == len(studnet_list)):\n",
        "#             print (GroupSizes)\n",
        "#             return\n",
        "#         else:\n",
        "#             for j in range(5):\n",
        "#               rand = random.randint(3,5)\n",
        "#               GroupSizes.append(rand)\n",
        "\n",
        "# if __name__ == \"__main__\":\n",
        "#     main()\n",
        "\n",
        "# for i in range(5):\n",
        "#     {\n",
        "#        data = random.sample(studnet_list,random.randint(3,5))\n",
        "#        print(\"Group {} is {}\".format(i+1,data)) \n",
        "#   for i in data:\n",
        "#     try:\n",
        "#         studnet_list.remove(i)\n",
        "#     except ValueError:\n",
        "#         pass   \n",
        "#     }\n",
        "#   else:\n",
        "#       lastGroup = student_list\n",
        "#       print(lastGroup)"
      ],
      "execution_count": 10,
      "outputs": []
    },
    {
      "cell_type": "code",
      "metadata": {
        "id": "dDNyxfNc6C3W",
        "colab_type": "code",
        "colab": {}
      },
      "source": [
        "#multiples of 3 or 5 below 1000\n",
        "import math\n",
        "import numpy as np"
      ],
      "execution_count": 11,
      "outputs": []
    },
    {
      "cell_type": "code",
      "metadata": {
        "id": "-Ob3FW3R1oYV",
        "colab_type": "code",
        "colab": {
          "base_uri": "https://localhost:8080/",
          "height": 1000
        },
        "outputId": "99df919b-e9ed-4864-ed96-d6b4b05ae60d"
      },
      "source": [
        "multiOf35 = [ ]\n",
        "for i in range(1000):\n",
        "  if ((i%3 == 0) or (i%5 == 0)):\n",
        "    print(i)\n",
        "    multiOf35.append(i)\n",
        "sum = np.sum(multiOf35)\n",
        "print(sum)"
      ],
      "execution_count": 13,
      "outputs": [
        {
          "output_type": "stream",
          "text": [
            "0\n",
            "3\n",
            "5\n",
            "6\n",
            "9\n",
            "10\n",
            "12\n",
            "15\n",
            "18\n",
            "20\n",
            "21\n",
            "24\n",
            "25\n",
            "27\n",
            "30\n",
            "33\n",
            "35\n",
            "36\n",
            "39\n",
            "40\n",
            "42\n",
            "45\n",
            "48\n",
            "50\n",
            "51\n",
            "54\n",
            "55\n",
            "57\n",
            "60\n",
            "63\n",
            "65\n",
            "66\n",
            "69\n",
            "70\n",
            "72\n",
            "75\n",
            "78\n",
            "80\n",
            "81\n",
            "84\n",
            "85\n",
            "87\n",
            "90\n",
            "93\n",
            "95\n",
            "96\n",
            "99\n",
            "100\n",
            "102\n",
            "105\n",
            "108\n",
            "110\n",
            "111\n",
            "114\n",
            "115\n",
            "117\n",
            "120\n",
            "123\n",
            "125\n",
            "126\n",
            "129\n",
            "130\n",
            "132\n",
            "135\n",
            "138\n",
            "140\n",
            "141\n",
            "144\n",
            "145\n",
            "147\n",
            "150\n",
            "153\n",
            "155\n",
            "156\n",
            "159\n",
            "160\n",
            "162\n",
            "165\n",
            "168\n",
            "170\n",
            "171\n",
            "174\n",
            "175\n",
            "177\n",
            "180\n",
            "183\n",
            "185\n",
            "186\n",
            "189\n",
            "190\n",
            "192\n",
            "195\n",
            "198\n",
            "200\n",
            "201\n",
            "204\n",
            "205\n",
            "207\n",
            "210\n",
            "213\n",
            "215\n",
            "216\n",
            "219\n",
            "220\n",
            "222\n",
            "225\n",
            "228\n",
            "230\n",
            "231\n",
            "234\n",
            "235\n",
            "237\n",
            "240\n",
            "243\n",
            "245\n",
            "246\n",
            "249\n",
            "250\n",
            "252\n",
            "255\n",
            "258\n",
            "260\n",
            "261\n",
            "264\n",
            "265\n",
            "267\n",
            "270\n",
            "273\n",
            "275\n",
            "276\n",
            "279\n",
            "280\n",
            "282\n",
            "285\n",
            "288\n",
            "290\n",
            "291\n",
            "294\n",
            "295\n",
            "297\n",
            "300\n",
            "303\n",
            "305\n",
            "306\n",
            "309\n",
            "310\n",
            "312\n",
            "315\n",
            "318\n",
            "320\n",
            "321\n",
            "324\n",
            "325\n",
            "327\n",
            "330\n",
            "333\n",
            "335\n",
            "336\n",
            "339\n",
            "340\n",
            "342\n",
            "345\n",
            "348\n",
            "350\n",
            "351\n",
            "354\n",
            "355\n",
            "357\n",
            "360\n",
            "363\n",
            "365\n",
            "366\n",
            "369\n",
            "370\n",
            "372\n",
            "375\n",
            "378\n",
            "380\n",
            "381\n",
            "384\n",
            "385\n",
            "387\n",
            "390\n",
            "393\n",
            "395\n",
            "396\n",
            "399\n",
            "400\n",
            "402\n",
            "405\n",
            "408\n",
            "410\n",
            "411\n",
            "414\n",
            "415\n",
            "417\n",
            "420\n",
            "423\n",
            "425\n",
            "426\n",
            "429\n",
            "430\n",
            "432\n",
            "435\n",
            "438\n",
            "440\n",
            "441\n",
            "444\n",
            "445\n",
            "447\n",
            "450\n",
            "453\n",
            "455\n",
            "456\n",
            "459\n",
            "460\n",
            "462\n",
            "465\n",
            "468\n",
            "470\n",
            "471\n",
            "474\n",
            "475\n",
            "477\n",
            "480\n",
            "483\n",
            "485\n",
            "486\n",
            "489\n",
            "490\n",
            "492\n",
            "495\n",
            "498\n",
            "500\n",
            "501\n",
            "504\n",
            "505\n",
            "507\n",
            "510\n",
            "513\n",
            "515\n",
            "516\n",
            "519\n",
            "520\n",
            "522\n",
            "525\n",
            "528\n",
            "530\n",
            "531\n",
            "534\n",
            "535\n",
            "537\n",
            "540\n",
            "543\n",
            "545\n",
            "546\n",
            "549\n",
            "550\n",
            "552\n",
            "555\n",
            "558\n",
            "560\n",
            "561\n",
            "564\n",
            "565\n",
            "567\n",
            "570\n",
            "573\n",
            "575\n",
            "576\n",
            "579\n",
            "580\n",
            "582\n",
            "585\n",
            "588\n",
            "590\n",
            "591\n",
            "594\n",
            "595\n",
            "597\n",
            "600\n",
            "603\n",
            "605\n",
            "606\n",
            "609\n",
            "610\n",
            "612\n",
            "615\n",
            "618\n",
            "620\n",
            "621\n",
            "624\n",
            "625\n",
            "627\n",
            "630\n",
            "633\n",
            "635\n",
            "636\n",
            "639\n",
            "640\n",
            "642\n",
            "645\n",
            "648\n",
            "650\n",
            "651\n",
            "654\n",
            "655\n",
            "657\n",
            "660\n",
            "663\n",
            "665\n",
            "666\n",
            "669\n",
            "670\n",
            "672\n",
            "675\n",
            "678\n",
            "680\n",
            "681\n",
            "684\n",
            "685\n",
            "687\n",
            "690\n",
            "693\n",
            "695\n",
            "696\n",
            "699\n",
            "700\n",
            "702\n",
            "705\n",
            "708\n",
            "710\n",
            "711\n",
            "714\n",
            "715\n",
            "717\n",
            "720\n",
            "723\n",
            "725\n",
            "726\n",
            "729\n",
            "730\n",
            "732\n",
            "735\n",
            "738\n",
            "740\n",
            "741\n",
            "744\n",
            "745\n",
            "747\n",
            "750\n",
            "753\n",
            "755\n",
            "756\n",
            "759\n",
            "760\n",
            "762\n",
            "765\n",
            "768\n",
            "770\n",
            "771\n",
            "774\n",
            "775\n",
            "777\n",
            "780\n",
            "783\n",
            "785\n",
            "786\n",
            "789\n",
            "790\n",
            "792\n",
            "795\n",
            "798\n",
            "800\n",
            "801\n",
            "804\n",
            "805\n",
            "807\n",
            "810\n",
            "813\n",
            "815\n",
            "816\n",
            "819\n",
            "820\n",
            "822\n",
            "825\n",
            "828\n",
            "830\n",
            "831\n",
            "834\n",
            "835\n",
            "837\n",
            "840\n",
            "843\n",
            "845\n",
            "846\n",
            "849\n",
            "850\n",
            "852\n",
            "855\n",
            "858\n",
            "860\n",
            "861\n",
            "864\n",
            "865\n",
            "867\n",
            "870\n",
            "873\n",
            "875\n",
            "876\n",
            "879\n",
            "880\n",
            "882\n",
            "885\n",
            "888\n",
            "890\n",
            "891\n",
            "894\n",
            "895\n",
            "897\n",
            "900\n",
            "903\n",
            "905\n",
            "906\n",
            "909\n",
            "910\n",
            "912\n",
            "915\n",
            "918\n",
            "920\n",
            "921\n",
            "924\n",
            "925\n",
            "927\n",
            "930\n",
            "933\n",
            "935\n",
            "936\n",
            "939\n",
            "940\n",
            "942\n",
            "945\n",
            "948\n",
            "950\n",
            "951\n",
            "954\n",
            "955\n",
            "957\n",
            "960\n",
            "963\n",
            "965\n",
            "966\n",
            "969\n",
            "970\n",
            "972\n",
            "975\n",
            "978\n",
            "980\n",
            "981\n",
            "984\n",
            "985\n",
            "987\n",
            "990\n",
            "993\n",
            "995\n",
            "996\n",
            "999\n",
            "233168\n"
          ],
          "name": "stdout"
        }
      ]
    },
    {
      "cell_type": "code",
      "metadata": {
        "id": "gqrcsJLf2Z7L",
        "colab_type": "code",
        "colab": {}
      },
      "source": [
        ""
      ],
      "execution_count": null,
      "outputs": []
    }
  ]
}
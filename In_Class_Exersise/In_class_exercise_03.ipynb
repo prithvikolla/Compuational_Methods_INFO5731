{
  "nbformat": 4,
  "nbformat_minor": 0,
  "metadata": {
    "kernelspec": {
      "display_name": "Python 3",
      "language": "python",
      "name": "python3"
    },
    "language_info": {
      "codemirror_mode": {
        "name": "ipython",
        "version": 3
      },
      "file_extension": ".py",
      "mimetype": "text/x-python",
      "name": "python",
      "nbconvert_exporter": "python",
      "pygments_lexer": "ipython3",
      "version": "3.7.4"
    },
    "colab": {
      "name": "In-class-exercise-03.ipynb",
      "provenance": [],
      "toc_visible": true
    }
  },
  "cells": [
    {
      "cell_type": "markdown",
      "metadata": {
        "id": "DLOmYtvE2YRL",
        "colab_type": "text"
      },
      "source": [
        "## The third In-class-exercise (9/16/2020, 20 points in total)"
      ]
    },
    {
      "cell_type": "markdown",
      "metadata": {
        "id": "D-lDkoLi2YRN",
        "colab_type": "text"
      },
      "source": [
        "The purpose of this exercise is to under users' information needs, then collect the data for analysis."
      ]
    },
    {
      "cell_type": "markdown",
      "metadata": {
        "id": "j1w0FvjC2YRO",
        "colab_type": "text"
      },
      "source": [
        "Question 1 (8 points): Describe an interesting research question (or practical question) you have in mind, what kind of data should be collected to answer the question(s)? How many data needed for the analysis? The detail steps for collecting and save the data. "
      ]
    },
    {
      "cell_type": "code",
      "metadata": {
        "id": "FbnlgQnl2YRO",
        "colab_type": "code",
        "colab": {}
      },
      "source": [
        "# Your answer here (no code for this question, write down your answer as detail as possible for the above questions):\n",
        "\n",
        "'''\n",
        "Please write you answer here:\n",
        "\n",
        "\n",
        "\n",
        "\n",
        "\n",
        "'''"
      ],
      "execution_count": null,
      "outputs": []
    },
    {
      "cell_type": "markdown",
      "metadata": {
        "id": "nFzvG-Sz2YRS",
        "colab_type": "text"
      },
      "source": [
        "Question 2 (12 points): Write python code to collect 500 items of the data you plan to collect above."
      ]
    },
    {
      "cell_type": "code",
      "metadata": {
        "id": "KE776wLS2YRT",
        "colab_type": "code",
        "colab": {
          "base_uri": "https://localhost:8080/",
          "height": 207
        },
        "outputId": "61b0eaa0-3272-44cc-ae0e-9de482335ffd"
      },
      "source": [
        "# You code here (Please add comments in the code):\n",
        "\n",
        "\n",
        "import pandas as pd\n",
        "import requests\n",
        "from bs4 import BeautifulSoup\n",
        "Id = []\n",
        "Id_List = [ ]\n",
        "Description = []\n",
        "Description_List = [ ]\n",
        "Solved_By = []\n",
        "Solved_By_List = [ ]\n",
        "for i in range(1,11):\n",
        " page = requests.get('https://projecteuler.net/archives;page='+ str (i))\n",
        " soup = BeautifulSoup(page.content,'html.parser')\n",
        " Id.append(soup.find_all('td',class_=\"id_column\"))\n",
        " Description.append(soup.find_all('a'))\n",
        " Solved_By.append(soup.find_all('td',class_=\"center\"))\n",
        "\n",
        "for item in Id:\n",
        "  print(item.)\n",
        "#   Id[item].get_text()\n",
        "#  Id_List.append(item.get_text()) \n",
        "# for item in Description:\n",
        "#  Description_List.append(item.get_text())\n",
        "# for item in Solved_By:\n",
        "#  Solved_By_List.append(item.get_text()) \n",
        "# df= pd.DataFrame({'Id':Id_List,'Description': Description_List,'Solved_By':Solved_By_List})\n",
        "# df.to_csv('Euler.csv')"
      ],
      "execution_count": 25,
      "outputs": [
        {
          "output_type": "stream",
          "text": [
            "[<td class=\"id_column\">1</td>, <td class=\"id_column\">2</td>, <td class=\"id_column\">3</td>, <td class=\"id_column\">4</td>, <td class=\"id_column\">5</td>, <td class=\"id_column\">6</td>, <td class=\"id_column\">7</td>, <td class=\"id_column\">8</td>, <td class=\"id_column\">9</td>, <td class=\"id_column\">10</td>, <td class=\"id_column\">11</td>, <td class=\"id_column\">12</td>, <td class=\"id_column\">13</td>, <td class=\"id_column\">14</td>, <td class=\"id_column\">15</td>, <td class=\"id_column\">16</td>, <td class=\"id_column\">17</td>, <td class=\"id_column\">18</td>, <td class=\"id_column\">19</td>, <td class=\"id_column\">20</td>, <td class=\"id_column\">21</td>, <td class=\"id_column\">22</td>, <td class=\"id_column\">23</td>, <td class=\"id_column\">24</td>, <td class=\"id_column\">25</td>, <td class=\"id_column\">26</td>, <td class=\"id_column\">27</td>, <td class=\"id_column\">28</td>, <td class=\"id_column\">29</td>, <td class=\"id_column\">30</td>, <td class=\"id_column\">31</td>, <td class=\"id_column\">32</td>, <td class=\"id_column\">33</td>, <td class=\"id_column\">34</td>, <td class=\"id_column\">35</td>, <td class=\"id_column\">36</td>, <td class=\"id_column\">37</td>, <td class=\"id_column\">38</td>, <td class=\"id_column\">39</td>, <td class=\"id_column\">40</td>, <td class=\"id_column\">41</td>, <td class=\"id_column\">42</td>, <td class=\"id_column\">43</td>, <td class=\"id_column\">44</td>, <td class=\"id_column\">45</td>, <td class=\"id_column\">46</td>, <td class=\"id_column\">47</td>, <td class=\"id_column\">48</td>, <td class=\"id_column\">49</td>, <td class=\"id_column\">50</td>]\n",
            "[<td class=\"id_column\">51</td>, <td class=\"id_column\">52</td>, <td class=\"id_column\">53</td>, <td class=\"id_column\">54</td>, <td class=\"id_column\">55</td>, <td class=\"id_column\">56</td>, <td class=\"id_column\">57</td>, <td class=\"id_column\">58</td>, <td class=\"id_column\">59</td>, <td class=\"id_column\">60</td>, <td class=\"id_column\">61</td>, <td class=\"id_column\">62</td>, <td class=\"id_column\">63</td>, <td class=\"id_column\">64</td>, <td class=\"id_column\">65</td>, <td class=\"id_column\">66</td>, <td class=\"id_column\">67</td>, <td class=\"id_column\">68</td>, <td class=\"id_column\">69</td>, <td class=\"id_column\">70</td>, <td class=\"id_column\">71</td>, <td class=\"id_column\">72</td>, <td class=\"id_column\">73</td>, <td class=\"id_column\">74</td>, <td class=\"id_column\">75</td>, <td class=\"id_column\">76</td>, <td class=\"id_column\">77</td>, <td class=\"id_column\">78</td>, <td class=\"id_column\">79</td>, <td class=\"id_column\">80</td>, <td class=\"id_column\">81</td>, <td class=\"id_column\">82</td>, <td class=\"id_column\">83</td>, <td class=\"id_column\">84</td>, <td class=\"id_column\">85</td>, <td class=\"id_column\">86</td>, <td class=\"id_column\">87</td>, <td class=\"id_column\">88</td>, <td class=\"id_column\">89</td>, <td class=\"id_column\">90</td>, <td class=\"id_column\">91</td>, <td class=\"id_column\">92</td>, <td class=\"id_column\">93</td>, <td class=\"id_column\">94</td>, <td class=\"id_column\">95</td>, <td class=\"id_column\">96</td>, <td class=\"id_column\">97</td>, <td class=\"id_column\">98</td>, <td class=\"id_column\">99</td>, <td class=\"id_column\">100</td>]\n",
            "[<td class=\"id_column\">101</td>, <td class=\"id_column\">102</td>, <td class=\"id_column\">103</td>, <td class=\"id_column\">104</td>, <td class=\"id_column\">105</td>, <td class=\"id_column\">106</td>, <td class=\"id_column\">107</td>, <td class=\"id_column\">108</td>, <td class=\"id_column\">109</td>, <td class=\"id_column\">110</td>, <td class=\"id_column\">111</td>, <td class=\"id_column\">112</td>, <td class=\"id_column\">113</td>, <td class=\"id_column\">114</td>, <td class=\"id_column\">115</td>, <td class=\"id_column\">116</td>, <td class=\"id_column\">117</td>, <td class=\"id_column\">118</td>, <td class=\"id_column\">119</td>, <td class=\"id_column\">120</td>, <td class=\"id_column\">121</td>, <td class=\"id_column\">122</td>, <td class=\"id_column\">123</td>, <td class=\"id_column\">124</td>, <td class=\"id_column\">125</td>, <td class=\"id_column\">126</td>, <td class=\"id_column\">127</td>, <td class=\"id_column\">128</td>, <td class=\"id_column\">129</td>, <td class=\"id_column\">130</td>, <td class=\"id_column\">131</td>, <td class=\"id_column\">132</td>, <td class=\"id_column\">133</td>, <td class=\"id_column\">134</td>, <td class=\"id_column\">135</td>, <td class=\"id_column\">136</td>, <td class=\"id_column\">137</td>, <td class=\"id_column\">138</td>, <td class=\"id_column\">139</td>, <td class=\"id_column\">140</td>, <td class=\"id_column\">141</td>, <td class=\"id_column\">142</td>, <td class=\"id_column\">143</td>, <td class=\"id_column\">144</td>, <td class=\"id_column\">145</td>, <td class=\"id_column\">146</td>, <td class=\"id_column\">147</td>, <td class=\"id_column\">148</td>, <td class=\"id_column\">149</td>, <td class=\"id_column\">150</td>]\n",
            "[<td class=\"id_column\">151</td>, <td class=\"id_column\">152</td>, <td class=\"id_column\">153</td>, <td class=\"id_column\">154</td>, <td class=\"id_column\">155</td>, <td class=\"id_column\">156</td>, <td class=\"id_column\">157</td>, <td class=\"id_column\">158</td>, <td class=\"id_column\">159</td>, <td class=\"id_column\">160</td>, <td class=\"id_column\">161</td>, <td class=\"id_column\">162</td>, <td class=\"id_column\">163</td>, <td class=\"id_column\">164</td>, <td class=\"id_column\">165</td>, <td class=\"id_column\">166</td>, <td class=\"id_column\">167</td>, <td class=\"id_column\">168</td>, <td class=\"id_column\">169</td>, <td class=\"id_column\">170</td>, <td class=\"id_column\">171</td>, <td class=\"id_column\">172</td>, <td class=\"id_column\">173</td>, <td class=\"id_column\">174</td>, <td class=\"id_column\">175</td>, <td class=\"id_column\">176</td>, <td class=\"id_column\">177</td>, <td class=\"id_column\">178</td>, <td class=\"id_column\">179</td>, <td class=\"id_column\">180</td>, <td class=\"id_column\">181</td>, <td class=\"id_column\">182</td>, <td class=\"id_column\">183</td>, <td class=\"id_column\">184</td>, <td class=\"id_column\">185</td>, <td class=\"id_column\">186</td>, <td class=\"id_column\">187</td>, <td class=\"id_column\">188</td>, <td class=\"id_column\">189</td>, <td class=\"id_column\">190</td>, <td class=\"id_column\">191</td>, <td class=\"id_column\">192</td>, <td class=\"id_column\">193</td>, <td class=\"id_column\">194</td>, <td class=\"id_column\">195</td>, <td class=\"id_column\">196</td>, <td class=\"id_column\">197</td>, <td class=\"id_column\">198</td>, <td class=\"id_column\">199</td>, <td class=\"id_column\">200</td>]\n",
            "[<td class=\"id_column\">201</td>, <td class=\"id_column\">202</td>, <td class=\"id_column\">203</td>, <td class=\"id_column\">204</td>, <td class=\"id_column\">205</td>, <td class=\"id_column\">206</td>, <td class=\"id_column\">207</td>, <td class=\"id_column\">208</td>, <td class=\"id_column\">209</td>, <td class=\"id_column\">210</td>, <td class=\"id_column\">211</td>, <td class=\"id_column\">212</td>, <td class=\"id_column\">213</td>, <td class=\"id_column\">214</td>, <td class=\"id_column\">215</td>, <td class=\"id_column\">216</td>, <td class=\"id_column\">217</td>, <td class=\"id_column\">218</td>, <td class=\"id_column\">219</td>, <td class=\"id_column\">220</td>, <td class=\"id_column\">221</td>, <td class=\"id_column\">222</td>, <td class=\"id_column\">223</td>, <td class=\"id_column\">224</td>, <td class=\"id_column\">225</td>, <td class=\"id_column\">226</td>, <td class=\"id_column\">227</td>, <td class=\"id_column\">228</td>, <td class=\"id_column\">229</td>, <td class=\"id_column\">230</td>, <td class=\"id_column\">231</td>, <td class=\"id_column\">232</td>, <td class=\"id_column\">233</td>, <td class=\"id_column\">234</td>, <td class=\"id_column\">235</td>, <td class=\"id_column\">236</td>, <td class=\"id_column\">237</td>, <td class=\"id_column\">238</td>, <td class=\"id_column\">239</td>, <td class=\"id_column\">240</td>, <td class=\"id_column\">241</td>, <td class=\"id_column\">242</td>, <td class=\"id_column\">243</td>, <td class=\"id_column\">244</td>, <td class=\"id_column\">245</td>, <td class=\"id_column\">246</td>, <td class=\"id_column\">247</td>, <td class=\"id_column\">248</td>, <td class=\"id_column\">249</td>, <td class=\"id_column\">250</td>]\n",
            "[<td class=\"id_column\">251</td>, <td class=\"id_column\">252</td>, <td class=\"id_column\">253</td>, <td class=\"id_column\">254</td>, <td class=\"id_column\">255</td>, <td class=\"id_column\">256</td>, <td class=\"id_column\">257</td>, <td class=\"id_column\">258</td>, <td class=\"id_column\">259</td>, <td class=\"id_column\">260</td>, <td class=\"id_column\">261</td>, <td class=\"id_column\">262</td>, <td class=\"id_column\">263</td>, <td class=\"id_column\">264</td>, <td class=\"id_column\">265</td>, <td class=\"id_column\">266</td>, <td class=\"id_column\">267</td>, <td class=\"id_column\">268</td>, <td class=\"id_column\">269</td>, <td class=\"id_column\">270</td>, <td class=\"id_column\">271</td>, <td class=\"id_column\">272</td>, <td class=\"id_column\">273</td>, <td class=\"id_column\">274</td>, <td class=\"id_column\">275</td>, <td class=\"id_column\">276</td>, <td class=\"id_column\">277</td>, <td class=\"id_column\">278</td>, <td class=\"id_column\">279</td>, <td class=\"id_column\">280</td>, <td class=\"id_column\">281</td>, <td class=\"id_column\">282</td>, <td class=\"id_column\">283</td>, <td class=\"id_column\">284</td>, <td class=\"id_column\">285</td>, <td class=\"id_column\">286</td>, <td class=\"id_column\">287</td>, <td class=\"id_column\">288</td>, <td class=\"id_column\">289</td>, <td class=\"id_column\">290</td>, <td class=\"id_column\">291</td>, <td class=\"id_column\">292</td>, <td class=\"id_column\">293</td>, <td class=\"id_column\">294</td>, <td class=\"id_column\">295</td>, <td class=\"id_column\">296</td>, <td class=\"id_column\">297</td>, <td class=\"id_column\">298</td>, <td class=\"id_column\">299</td>, <td class=\"id_column\">300</td>]\n",
            "[<td class=\"id_column\">301</td>, <td class=\"id_column\">302</td>, <td class=\"id_column\">303</td>, <td class=\"id_column\">304</td>, <td class=\"id_column\">305</td>, <td class=\"id_column\">306</td>, <td class=\"id_column\">307</td>, <td class=\"id_column\">308</td>, <td class=\"id_column\">309</td>, <td class=\"id_column\">310</td>, <td class=\"id_column\">311</td>, <td class=\"id_column\">312</td>, <td class=\"id_column\">313</td>, <td class=\"id_column\">314</td>, <td class=\"id_column\">315</td>, <td class=\"id_column\">316</td>, <td class=\"id_column\">317</td>, <td class=\"id_column\">318</td>, <td class=\"id_column\">319</td>, <td class=\"id_column\">320</td>, <td class=\"id_column\">321</td>, <td class=\"id_column\">322</td>, <td class=\"id_column\">323</td>, <td class=\"id_column\">324</td>, <td class=\"id_column\">325</td>, <td class=\"id_column\">326</td>, <td class=\"id_column\">327</td>, <td class=\"id_column\">328</td>, <td class=\"id_column\">329</td>, <td class=\"id_column\">330</td>, <td class=\"id_column\">331</td>, <td class=\"id_column\">332</td>, <td class=\"id_column\">333</td>, <td class=\"id_column\">334</td>, <td class=\"id_column\">335</td>, <td class=\"id_column\">336</td>, <td class=\"id_column\">337</td>, <td class=\"id_column\">338</td>, <td class=\"id_column\">339</td>, <td class=\"id_column\">340</td>, <td class=\"id_column\">341</td>, <td class=\"id_column\">342</td>, <td class=\"id_column\">343</td>, <td class=\"id_column\">344</td>, <td class=\"id_column\">345</td>, <td class=\"id_column\">346</td>, <td class=\"id_column\">347</td>, <td class=\"id_column\">348</td>, <td class=\"id_column\">349</td>, <td class=\"id_column\">350</td>]\n",
            "[<td class=\"id_column\">351</td>, <td class=\"id_column\">352</td>, <td class=\"id_column\">353</td>, <td class=\"id_column\">354</td>, <td class=\"id_column\">355</td>, <td class=\"id_column\">356</td>, <td class=\"id_column\">357</td>, <td class=\"id_column\">358</td>, <td class=\"id_column\">359</td>, <td class=\"id_column\">360</td>, <td class=\"id_column\">361</td>, <td class=\"id_column\">362</td>, <td class=\"id_column\">363</td>, <td class=\"id_column\">364</td>, <td class=\"id_column\">365</td>, <td class=\"id_column\">366</td>, <td class=\"id_column\">367</td>, <td class=\"id_column\">368</td>, <td class=\"id_column\">369</td>, <td class=\"id_column\">370</td>, <td class=\"id_column\">371</td>, <td class=\"id_column\">372</td>, <td class=\"id_column\">373</td>, <td class=\"id_column\">374</td>, <td class=\"id_column\">375</td>, <td class=\"id_column\">376</td>, <td class=\"id_column\">377</td>, <td class=\"id_column\">378</td>, <td class=\"id_column\">379</td>, <td class=\"id_column\">380</td>, <td class=\"id_column\">381</td>, <td class=\"id_column\">382</td>, <td class=\"id_column\">383</td>, <td class=\"id_column\">384</td>, <td class=\"id_column\">385</td>, <td class=\"id_column\">386</td>, <td class=\"id_column\">387</td>, <td class=\"id_column\">388</td>, <td class=\"id_column\">389</td>, <td class=\"id_column\">390</td>, <td class=\"id_column\">391</td>, <td class=\"id_column\">392</td>, <td class=\"id_column\">393</td>, <td class=\"id_column\">394</td>, <td class=\"id_column\">395</td>, <td class=\"id_column\">396</td>, <td class=\"id_column\">397</td>, <td class=\"id_column\">398</td>, <td class=\"id_column\">399</td>, <td class=\"id_column\">400</td>]\n",
            "[<td class=\"id_column\">401</td>, <td class=\"id_column\">402</td>, <td class=\"id_column\">403</td>, <td class=\"id_column\">404</td>, <td class=\"id_column\">405</td>, <td class=\"id_column\">406</td>, <td class=\"id_column\">407</td>, <td class=\"id_column\">408</td>, <td class=\"id_column\">409</td>, <td class=\"id_column\">410</td>, <td class=\"id_column\">411</td>, <td class=\"id_column\">412</td>, <td class=\"id_column\">413</td>, <td class=\"id_column\">414</td>, <td class=\"id_column\">415</td>, <td class=\"id_column\">416</td>, <td class=\"id_column\">417</td>, <td class=\"id_column\">418</td>, <td class=\"id_column\">419</td>, <td class=\"id_column\">420</td>, <td class=\"id_column\">421</td>, <td class=\"id_column\">422</td>, <td class=\"id_column\">423</td>, <td class=\"id_column\">424</td>, <td class=\"id_column\">425</td>, <td class=\"id_column\">426</td>, <td class=\"id_column\">427</td>, <td class=\"id_column\">428</td>, <td class=\"id_column\">429</td>, <td class=\"id_column\">430</td>, <td class=\"id_column\">431</td>, <td class=\"id_column\">432</td>, <td class=\"id_column\">433</td>, <td class=\"id_column\">434</td>, <td class=\"id_column\">435</td>, <td class=\"id_column\">436</td>, <td class=\"id_column\">437</td>, <td class=\"id_column\">438</td>, <td class=\"id_column\">439</td>, <td class=\"id_column\">440</td>, <td class=\"id_column\">441</td>, <td class=\"id_column\">442</td>, <td class=\"id_column\">443</td>, <td class=\"id_column\">444</td>, <td class=\"id_column\">445</td>, <td class=\"id_column\">446</td>, <td class=\"id_column\">447</td>, <td class=\"id_column\">448</td>, <td class=\"id_column\">449</td>, <td class=\"id_column\">450</td>]\n",
            "[<td class=\"id_column\">451</td>, <td class=\"id_column\">452</td>, <td class=\"id_column\">453</td>, <td class=\"id_column\">454</td>, <td class=\"id_column\">455</td>, <td class=\"id_column\">456</td>, <td class=\"id_column\">457</td>, <td class=\"id_column\">458</td>, <td class=\"id_column\">459</td>, <td class=\"id_column\">460</td>, <td class=\"id_column\">461</td>, <td class=\"id_column\">462</td>, <td class=\"id_column\">463</td>, <td class=\"id_column\">464</td>, <td class=\"id_column\">465</td>, <td class=\"id_column\">466</td>, <td class=\"id_column\">467</td>, <td class=\"id_column\">468</td>, <td class=\"id_column\">469</td>, <td class=\"id_column\">470</td>, <td class=\"id_column\">471</td>, <td class=\"id_column\">472</td>, <td class=\"id_column\">473</td>, <td class=\"id_column\">474</td>, <td class=\"id_column\">475</td>, <td class=\"id_column\">476</td>, <td class=\"id_column\">477</td>, <td class=\"id_column\">478</td>, <td class=\"id_column\">479</td>, <td class=\"id_column\">480</td>, <td class=\"id_column\">481</td>, <td class=\"id_column\">482</td>, <td class=\"id_column\">483</td>, <td class=\"id_column\">484</td>, <td class=\"id_column\">485</td>, <td class=\"id_column\">486</td>, <td class=\"id_column\">487</td>, <td class=\"id_column\">488</td>, <td class=\"id_column\">489</td>, <td class=\"id_column\">490</td>, <td class=\"id_column\">491</td>, <td class=\"id_column\">492</td>, <td class=\"id_column\">493</td>, <td class=\"id_column\">494</td>, <td class=\"id_column\">495</td>, <td class=\"id_column\">496</td>, <td class=\"id_column\">497</td>, <td class=\"id_column\">498</td>, <td class=\"id_column\">499</td>, <td class=\"id_column\">500</td>]\n"
          ],
          "name": "stdout"
        }
      ]
    },
    {
      "cell_type": "code",
      "metadata": {
        "id": "VMSBU1UITXML",
        "colab_type": "code",
        "colab": {}
      },
      "source": [
        ""
      ],
      "execution_count": null,
      "outputs": []
    }
  ]
}
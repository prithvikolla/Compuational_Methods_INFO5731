{
  "nbformat": 4,
  "nbformat_minor": 0,
  "metadata": {
    "kernelspec": {
      "display_name": "Python 3",
      "language": "python",
      "name": "python3"
    },
    "language_info": {
      "codemirror_mode": {
        "name": "ipython",
        "version": 3
      },
      "file_extension": ".py",
      "mimetype": "text/x-python",
      "name": "python",
      "nbconvert_exporter": "python",
      "pygments_lexer": "ipython3",
      "version": "3.7.4"
    },
    "colab": {
      "name": "In_class_exercise_09.ipynb",
      "provenance": [],
      "toc_visible": true,
      "include_colab_link": true
    }
  },
  "cells": [
    {
      "cell_type": "markdown",
      "metadata": {
        "id": "view-in-github",
        "colab_type": "text"
      },
      "source": [
        "<a href=\"https://colab.research.google.com/github/prithvikolla/Compuational_Methods_INFO5731/blob/master/In_Class_Exersise/In_class_exercise_09.ipynb\" target=\"_parent\"><img src=\"https://colab.research.google.com/assets/colab-badge.svg\" alt=\"Open In Colab\"/></a>"
      ]
    },
    {
      "cell_type": "markdown",
      "metadata": {
        "id": "94Wr9XQywCnS"
      },
      "source": [
        "# **The ninth in-class-exercise (20 points in total, 11/11/2020)**"
      ]
    },
    {
      "cell_type": "markdown",
      "metadata": {
        "id": "PEF_KSDFwCnU"
      },
      "source": [
        "The purpose of the exercise is to practice different machine learning algorithms for text classification as well as the performance evaluation. In addition, you are requried to conduct *10 fold cross validation (https://scikit-learn.org/stable/modules/cross_validation.html)* in the training. \n",
        "\n",
        "The dataset can be download from here: https://github.com/unt-iialab/INFO5731_FALL2020/blob/master/In_class_exercise/exercise09_datacollection.zip. The dataset contains two files train data and test data for sentiment analysis in IMDB review, it has two categories: 1 represents positive and 0 represents negative. You need to split the training data into training and validate data (80% for training and 20% for validation, https://towardsdatascience.com/train-test-split-and-cross-validation-in-python-80b61beca4b6) and perform 10 fold cross validation while training the classifier. The final trained model was final evaluated on the test data. \n",
        "\n",
        "Algorithms:\n",
        "\n",
        "(1) MultinominalNB\n",
        "\n",
        "(2) SVM \n",
        "\n",
        "(3) KNN \n",
        "\n",
        "(4) Decision tree\n",
        "\n",
        "(5) Random Forest\n",
        "\n",
        "(6) XGBoost\n",
        "\n",
        "Evaluation measurement:\n",
        "\n",
        "(1) Accuracy\n",
        "\n",
        "(2) Recall\n",
        "\n",
        "(3) Precison \n",
        "\n",
        "(4) F-1 score"
      ]
    },
    {
      "cell_type": "code",
      "metadata": {
        "id": "i7LLsbTXwCnY"
      },
      "source": [
        "# Write your code here\n",
        "\n",
        "import pandas as pd\n",
        "from io import StringIO\n",
        "from sklearn.naive_bayes import MultinomialNB\n",
        "from sklearn.svm import LinearSVC\n",
        "from sklearn.neighbors import KNeighborsClassifier\n",
        "from sklearn.tree import DecisionTreeClassifier\n",
        "from sklearn.ensemble import RandomForestClassifier\n",
        "from xgboost import XGBClassifier"
      ],
      "execution_count": 1,
      "outputs": []
    },
    {
      "cell_type": "code",
      "metadata": {
        "id": "rXSB82jy30VH",
        "outputId": "4ea6e264-221e-4d45-eb48-e3c66e45e92a",
        "colab": {
          "base_uri": "https://localhost:8080/"
        }
      },
      "source": [
        "pd.set_option('display.max_colwidth', -1)"
      ],
      "execution_count": 2,
      "outputs": [
        {
          "output_type": "stream",
          "text": [
            "/usr/local/lib/python3.6/dist-packages/ipykernel_launcher.py:1: FutureWarning: Passing a negative integer is deprecated in version 1.0 and will not be supported in future version. Instead, use None to not limit the column width.\n",
            "  \"\"\"Entry point for launching an IPython kernel.\n"
          ],
          "name": "stderr"
        }
      ]
    },
    {
      "cell_type": "code",
      "metadata": {
        "id": "gjs8ZV3avEOi",
        "outputId": "5fe6b7e6-b963-4c45-80c6-b0b19750493c",
        "colab": {
          "base_uri": "https://localhost:8080/"
        }
      },
      "source": [
        "df = pd.read_csv(r'/content/stsa-train.txt',sep = 'delimiter=',header= None)"
      ],
      "execution_count": 3,
      "outputs": [
        {
          "output_type": "stream",
          "text": [
            "/usr/local/lib/python3.6/dist-packages/ipykernel_launcher.py:1: ParserWarning: Falling back to the 'python' engine because the 'c' engine does not support regex separators (separators > 1 char and different from '\\s+' are interpreted as regex); you can avoid this warning by specifying engine='python'.\n",
            "  \"\"\"Entry point for launching an IPython kernel.\n"
          ],
          "name": "stderr"
        }
      ]
    },
    {
      "cell_type": "code",
      "metadata": {
        "id": "wC67pou7yOuJ"
      },
      "source": [
        "df.columns = ['Noise_text']"
      ],
      "execution_count": 5,
      "outputs": []
    },
    {
      "cell_type": "code",
      "metadata": {
        "id": "lPEGQe0x2Ba8",
        "outputId": "83b0c317-56ea-4d9e-bbad-b3b13010c6c3",
        "colab": {
          "base_uri": "https://localhost:8080/",
          "height": 221
        }
      },
      "source": [
        "df.head()"
      ],
      "execution_count": 6,
      "outputs": [
        {
          "output_type": "execute_result",
          "data": {
            "text/html": [
              "<div>\n",
              "<style scoped>\n",
              "    .dataframe tbody tr th:only-of-type {\n",
              "        vertical-align: middle;\n",
              "    }\n",
              "\n",
              "    .dataframe tbody tr th {\n",
              "        vertical-align: top;\n",
              "    }\n",
              "\n",
              "    .dataframe thead th {\n",
              "        text-align: right;\n",
              "    }\n",
              "</style>\n",
              "<table border=\"1\" class=\"dataframe\">\n",
              "  <thead>\n",
              "    <tr style=\"text-align: right;\">\n",
              "      <th></th>\n",
              "      <th>Noise_text</th>\n",
              "    </tr>\n",
              "  </thead>\n",
              "  <tbody>\n",
              "    <tr>\n",
              "      <th>0</th>\n",
              "      <td>1 a stirring , funny and finally transporting re-imagining of beauty and the beast and 1930s horror films</td>\n",
              "    </tr>\n",
              "    <tr>\n",
              "      <th>1</th>\n",
              "      <td>0 apparently reassembled from the cutting-room floor of any given daytime soap .</td>\n",
              "    </tr>\n",
              "    <tr>\n",
              "      <th>2</th>\n",
              "      <td>0 they presume their audience wo n't sit still for a sociology lesson , however entertainingly presented , so they trot out the conventional science-fiction elements of bug-eyed monsters and futuristic women in skimpy clothes .</td>\n",
              "    </tr>\n",
              "    <tr>\n",
              "      <th>3</th>\n",
              "      <td>1 this is a visually stunning rumination on love , memory , history and the war between art and commerce .</td>\n",
              "    </tr>\n",
              "    <tr>\n",
              "      <th>4</th>\n",
              "      <td>1 jonathan parker 's bartleby should have been the be-all-end-all of the modern-office anomie films .</td>\n",
              "    </tr>\n",
              "  </tbody>\n",
              "</table>\n",
              "</div>"
            ],
            "text/plain": [
              "                                                                                                                                                                                                                            Noise_text\n",
              "0  1 a stirring , funny and finally transporting re-imagining of beauty and the beast and 1930s horror films                                                                                                                          \n",
              "1  0 apparently reassembled from the cutting-room floor of any given daytime soap .                                                                                                                                                   \n",
              "2  0 they presume their audience wo n't sit still for a sociology lesson , however entertainingly presented , so they trot out the conventional science-fiction elements of bug-eyed monsters and futuristic women in skimpy clothes .\n",
              "3  1 this is a visually stunning rumination on love , memory , history and the war between art and commerce .                                                                                                                         \n",
              "4  1 jonathan parker 's bartleby should have been the be-all-end-all of the modern-office anomie films .                                                                                                                              "
            ]
          },
          "metadata": {
            "tags": []
          },
          "execution_count": 6
        }
      ]
    },
    {
      "cell_type": "code",
      "metadata": {
        "id": "lC5sjvQP2mXU"
      },
      "source": [
        "df['Noise_text_split'] = df['Noise_text'].apply(lambda x: x.split())"
      ],
      "execution_count": 7,
      "outputs": []
    },
    {
      "cell_type": "code",
      "metadata": {
        "id": "zbCyI-Pi4M0u",
        "outputId": "948ee08e-f29a-4d48-b3cf-09f393f811af",
        "colab": {
          "base_uri": "https://localhost:8080/",
          "height": 374
        }
      },
      "source": [
        "df.head()"
      ],
      "execution_count": 8,
      "outputs": [
        {
          "output_type": "execute_result",
          "data": {
            "text/html": [
              "<div>\n",
              "<style scoped>\n",
              "    .dataframe tbody tr th:only-of-type {\n",
              "        vertical-align: middle;\n",
              "    }\n",
              "\n",
              "    .dataframe tbody tr th {\n",
              "        vertical-align: top;\n",
              "    }\n",
              "\n",
              "    .dataframe thead th {\n",
              "        text-align: right;\n",
              "    }\n",
              "</style>\n",
              "<table border=\"1\" class=\"dataframe\">\n",
              "  <thead>\n",
              "    <tr style=\"text-align: right;\">\n",
              "      <th></th>\n",
              "      <th>Noise_text</th>\n",
              "      <th>Noise_text_split</th>\n",
              "    </tr>\n",
              "  </thead>\n",
              "  <tbody>\n",
              "    <tr>\n",
              "      <th>0</th>\n",
              "      <td>1 a stirring , funny and finally transporting re-imagining of beauty and the beast and 1930s horror films</td>\n",
              "      <td>[1, a, stirring, ,, funny, and, finally, transporting, re-imagining, of, beauty, and, the, beast, and, 1930s, horror, films]</td>\n",
              "    </tr>\n",
              "    <tr>\n",
              "      <th>1</th>\n",
              "      <td>0 apparently reassembled from the cutting-room floor of any given daytime soap .</td>\n",
              "      <td>[0, apparently, reassembled, from, the, cutting-room, floor, of, any, given, daytime, soap, .]</td>\n",
              "    </tr>\n",
              "    <tr>\n",
              "      <th>2</th>\n",
              "      <td>0 they presume their audience wo n't sit still for a sociology lesson , however entertainingly presented , so they trot out the conventional science-fiction elements of bug-eyed monsters and futuristic women in skimpy clothes .</td>\n",
              "      <td>[0, they, presume, their, audience, wo, n't, sit, still, for, a, sociology, lesson, ,, however, entertainingly, presented, ,, so, they, trot, out, the, conventional, science-fiction, elements, of, bug-eyed, monsters, and, futuristic, women, in, skimpy, clothes, .]</td>\n",
              "    </tr>\n",
              "    <tr>\n",
              "      <th>3</th>\n",
              "      <td>1 this is a visually stunning rumination on love , memory , history and the war between art and commerce .</td>\n",
              "      <td>[1, this, is, a, visually, stunning, rumination, on, love, ,, memory, ,, history, and, the, war, between, art, and, commerce, .]</td>\n",
              "    </tr>\n",
              "    <tr>\n",
              "      <th>4</th>\n",
              "      <td>1 jonathan parker 's bartleby should have been the be-all-end-all of the modern-office anomie films .</td>\n",
              "      <td>[1, jonathan, parker, 's, bartleby, should, have, been, the, be-all-end-all, of, the, modern-office, anomie, films, .]</td>\n",
              "    </tr>\n",
              "  </tbody>\n",
              "</table>\n",
              "</div>"
            ],
            "text/plain": [
              "                                                                                                                                                                                                                            Noise_text                                                                                                                                                                                                                                                          Noise_text_split\n",
              "0  1 a stirring , funny and finally transporting re-imagining of beauty and the beast and 1930s horror films                                                                                                                            [1, a, stirring, ,, funny, and, finally, transporting, re-imagining, of, beauty, and, the, beast, and, 1930s, horror, films]                                                                                                                                            \n",
              "1  0 apparently reassembled from the cutting-room floor of any given daytime soap .                                                                                                                                                     [0, apparently, reassembled, from, the, cutting-room, floor, of, any, given, daytime, soap, .]                                                                                                                                                                          \n",
              "2  0 they presume their audience wo n't sit still for a sociology lesson , however entertainingly presented , so they trot out the conventional science-fiction elements of bug-eyed monsters and futuristic women in skimpy clothes .  [0, they, presume, their, audience, wo, n't, sit, still, for, a, sociology, lesson, ,, however, entertainingly, presented, ,, so, they, trot, out, the, conventional, science-fiction, elements, of, bug-eyed, monsters, and, futuristic, women, in, skimpy, clothes, .]\n",
              "3  1 this is a visually stunning rumination on love , memory , history and the war between art and commerce .                                                                                                                           [1, this, is, a, visually, stunning, rumination, on, love, ,, memory, ,, history, and, the, war, between, art, and, commerce, .]                                                                                                                                        \n",
              "4  1 jonathan parker 's bartleby should have been the be-all-end-all of the modern-office anomie films .                                                                                                                                [1, jonathan, parker, 's, bartleby, should, have, been, the, be-all-end-all, of, the, modern-office, anomie, films, .]                                                                                                                                                  "
            ]
          },
          "metadata": {
            "tags": []
          },
          "execution_count": 8
        }
      ]
    },
    {
      "cell_type": "code",
      "metadata": {
        "id": "LtTmSVDL4N8j"
      },
      "source": [
        ""
      ],
      "execution_count": null,
      "outputs": []
    }
  ]
}
{
  "nbformat": 4,
  "nbformat_minor": 0,
  "metadata": {
    "colab": {
      "name": "In_class_exercise_01.ipynb",
      "provenance": [],
      "collapsed_sections": []
    },
    "kernelspec": {
      "display_name": "Python 3",
      "language": "python",
      "name": "python3"
    },
    "language_info": {
      "codemirror_mode": {
        "name": "ipython",
        "version": 3
      },
      "file_extension": ".py",
      "mimetype": "text/x-python",
      "name": "python",
      "nbconvert_exporter": "python",
      "pygments_lexer": "ipython3",
      "version": "3.7.4"
    },
    "accelerator": "TPU"
  },
  "cells": [
    {
      "cell_type": "markdown",
      "metadata": {
        "colab_type": "text",
        "id": "view-in-github"
      },
      "source": [
        "<a href=\"https://colab.research.google.com/github/unt-iialab/INFO5731_Spring2020/blob/master/In_class_exercise/In_class_exercise_01.ipynb\" target=\"_parent\"><img src=\"https://colab.research.google.com/assets/colab-badge.svg\" alt=\"Open In Colab\"/></a>"
      ]
    },
    {
      "cell_type": "markdown",
      "metadata": {
        "colab_type": "text",
        "id": "DymRJbxDBCnf"
      },
      "source": [
        "# **The first In-class-exercise (9/2/2020, 20 points in total)**"
      ]
    },
    {
      "cell_type": "markdown",
      "metadata": {
        "colab_type": "text",
        "id": "03jb4GZsBkBS"
      },
      "source": [
        "(1) Write a Python program to calculate the length of a string. (2 points)"
      ]
    },
    {
      "cell_type": "code",
      "metadata": {
        "colab_type": "code",
        "id": "YaGLbSHHB8Ej",
        "colab": {
          "base_uri": "https://localhost:8080/",
          "height": 34
        },
        "outputId": "0b26fb7e-2a2e-4a96-ee71-3d0c0b3a4b9b"
      },
      "source": [
        "# write your answer here\n",
        "import pandas as pd\n",
        "string = \"Hello World!\"\n",
        "print(len(string))"
      ],
      "execution_count": null,
      "outputs": [
        {
          "output_type": "stream",
          "text": [
            "12\n"
          ],
          "name": "stdout"
        }
      ]
    },
    {
      "cell_type": "markdown",
      "metadata": {
        "colab_type": "text",
        "id": "jJDe71iLB616"
      },
      "source": [
        "(2) Write a Python program to count the number of characters in a string. (2 points)\n",
        "\n",
        "Sample String : 'google.com‘, \n",
        "\n",
        "Expected Result : {'o': 3, 'g': 2, '.': 1, 'e': 1, 'l': 1, 'm': 1, 'c': 1}"
      ]
    },
    {
      "cell_type": "code",
      "metadata": {
        "colab_type": "code",
        "id": "MtKskTzbCLaU",
        "colab": {
          "base_uri": "https://localhost:8080/",
          "height": 34
        },
        "outputId": "783c9cad-9da2-4fa1-f6ab-d21e3ad8175c"
      },
      "source": [
        "# write your answer here\n",
        "string = \"google.com\"\n",
        "CountOfElements = {i: string.count(i) for i in set(string)}\n",
        "print(CountOfElements)"
      ],
      "execution_count": null,
      "outputs": [
        {
          "output_type": "stream",
          "text": [
            "{'.': 1, 'o': 3, 'g': 2, 'm': 1, 'e': 1, 'l': 1, 'c': 1}\n"
          ],
          "name": "stdout"
        }
      ]
    },
    {
      "cell_type": "markdown",
      "metadata": {
        "colab_type": "text",
        "id": "55W9AMdXCSpV"
      },
      "source": [
        "(3) Write a Python program to sum all the items in a list. (2 points)"
      ]
    },
    {
      "cell_type": "code",
      "metadata": {
        "colab_type": "code",
        "id": "I57NXsauCec2",
        "colab": {
          "base_uri": "https://localhost:8080/",
          "height": 34
        },
        "outputId": "c5736d29-5271-4c8f-a068-b0d82d0bdeb5"
      },
      "source": [
        "# write your answer here\n",
        "import numpy as np\n",
        "list = [1, 2, 3, 4]\n",
        "np.sum(list)"
      ],
      "execution_count": null,
      "outputs": [
        {
          "output_type": "execute_result",
          "data": {
            "text/plain": [
              "10"
            ]
          },
          "metadata": {
            "tags": []
          },
          "execution_count": 14
        }
      ]
    },
    {
      "cell_type": "markdown",
      "metadata": {
        "colab_type": "text",
        "id": "4ulBZ6yhCi9F"
      },
      "source": [
        "(4) Write a Python program to get a string from a given string where all occurrences of its first char have been changed to '\\$', except the first char itself. (2 points)\n",
        "\n",
        "Sample String : 'restart‘, \n",
        "\n",
        "Expected Result : 'resta\\$t'"
      ]
    },
    {
      "cell_type": "code",
      "metadata": {
        "colab_type": "code",
        "id": "Fj0XhwbBCw2o",
        "colab": {
          "base_uri": "https://localhost:8080/",
          "height": 51
        },
        "outputId": "cb6df696-53ae-4ad1-f595-0a6cbc318a2c"
      },
      "source": [
        "String = input(\"String input:\\t\")\n",
        "replaceString = String[0]\n",
        "for i in range(1, len(String)):\n",
        "    if String[i] == String[0]:\n",
        "        replaceString += '$' \n",
        "    else:\n",
        "        replaceString += String[i] \n",
        "print (\"Replaced String:\",replaceString)\n"
      ],
      "execution_count": null,
      "outputs": [
        {
          "output_type": "stream",
          "text": [
            "String input:\t1\n",
            "Replaced String: 1\n"
          ],
          "name": "stdout"
        }
      ]
    },
    {
      "cell_type": "markdown",
      "metadata": {
        "colab_type": "text",
        "id": "_bIP7s1MCzue"
      },
      "source": [
        "(5) Write a program with python which could accept two parameter a and b to calculate and output the result of S, where \n",
        "\n",
        "$\\ S=3.14*(1+a/b)^3$ (3 points)\n",
        "\n"
      ]
    },
    {
      "cell_type": "code",
      "metadata": {
        "colab_type": "code",
        "id": "w79QilHXD3Mg",
        "colab": {
          "base_uri": "https://localhost:8080/",
          "height": 68
        },
        "outputId": "0165cec7-aeaa-49a9-efa1-b376e23cfa51"
      },
      "source": [
        "# write your answer here\n",
        "import math\n",
        "a = input(\"Enter a value:\\t\")\n",
        "b = input(\"Enter b value:\\t\")\n",
        "a = int(a)\n",
        "b = int(b)\n",
        "s = 3.14 * (1+ a/b)**3\n",
        "print(s)\n"
      ],
      "execution_count": null,
      "outputs": [
        {
          "output_type": "stream",
          "text": [
            "Enter a value:\t1\n",
            "Enter b value:\t1\n",
            "25.12\n"
          ],
          "name": "stdout"
        }
      ]
    },
    {
      "cell_type": "markdown",
      "metadata": {
        "colab_type": "text",
        "id": "xCa2bK9aD4Q3"
      },
      "source": [
        "(6) Write a Python program to concatenate following dictionaries to create a new one. (3 points)\n",
        "\n",
        "Sample Dictionary : dic1={1:10, 2:20}, dic2={3:30, 4:40}, dic3={5:50,6:60}, \n",
        "\n",
        "Expected Result : {1: 10, 2: 20, 3: 30, 4: 40, 5: 50, 6: 60}\n"
      ]
    },
    {
      "cell_type": "code",
      "metadata": {
        "colab_type": "code",
        "id": "_z4aLqAbEET1",
        "colab": {
          "base_uri": "https://localhost:8080/",
          "height": 34
        },
        "outputId": "cfbc6286-e533-4dae-e32a-f2ab7521c17f"
      },
      "source": [
        "# write your answer here\n",
        "dic1 = {1:10,2:20}\n",
        "dic2 = {3:30,4:40}\n",
        "dic3 = {5:50,6:60}\n",
        "ConDict = {}\n",
        "for d in [dic1, dic2, dic3]:\n",
        "  ConDict.update(d)\n",
        "print(ConDict)"
      ],
      "execution_count": null,
      "outputs": [
        {
          "output_type": "stream",
          "text": [
            "{1: 10, 2: 20, 3: 30, 4: 40, 5: 50, 6: 60}\n"
          ],
          "name": "stdout"
        }
      ]
    },
    {
      "cell_type": "markdown",
      "metadata": {
        "colab_type": "text",
        "id": "0v48Vqa7FrQh"
      },
      "source": [
        "(7) Write a Python program to check whether an element exists within a tuple. (3 points)"
      ]
    },
    {
      "cell_type": "code",
      "metadata": {
        "colab_type": "code",
        "id": "7WEmgq-DF2P1",
        "colab": {
          "base_uri": "https://localhost:8080/",
          "height": 51
        },
        "outputId": "fe6fb063-23f4-4b69-9b90-bc78bd4e7cd5"
      },
      "source": [
        "# write your answer here\n",
        "tuple = (1, \"prithvi\",\"chen\", \"python\", 3, 20)\n",
        "element = input(\"enter element to check in tuple:\\t\")\n",
        "print(element in tuple)"
      ],
      "execution_count": null,
      "outputs": [
        {
          "output_type": "stream",
          "text": [
            "enter element to check in tuple:\t1\n",
            "False\n"
          ],
          "name": "stdout"
        }
      ]
    },
    {
      "cell_type": "markdown",
      "metadata": {
        "colab_type": "text",
        "id": "vD5PYLMuGga_"
      },
      "source": [
        "(8) Write a Python program to find maximum and the minimum value in a set. (3 points)"
      ]
    },
    {
      "cell_type": "code",
      "metadata": {
        "colab_type": "code",
        "id": "t0D5kdJUGjjw",
        "colab": {
          "base_uri": "https://localhost:8080/",
          "height": 51
        },
        "outputId": "4a8fc173-2045-40fc-aad2-52e1e853f658"
      },
      "source": [
        "# write your answer here\n",
        "import math\n",
        "set = {1,2,3,4}\n",
        "print(\"max value:\\t\",max(set))\n",
        "print(\"min value:\\t\",min(set))"
      ],
      "execution_count": null,
      "outputs": [
        {
          "output_type": "stream",
          "text": [
            "max value:\t 4\n",
            "min value:\t 1\n"
          ],
          "name": "stdout"
        }
      ]
    },
    {
      "cell_type": "markdown",
      "metadata": {
        "colab_type": "text",
        "id": "uHkd-y5VhVWC"
      },
      "source": [
        "(9) Write a Python program to randomly divide the students in this class into five groups for term projects, each group should have at least 3 students but no more than 5 students (including 5). Here is the students list: (3 points for extra)\n",
        "\n",
        "studnet_list = ['vmb0067','pc0353','snd0097','yye0005','sg0940','bk0301','rak0120','rrk0058','spk0057','vl0135','nm0547','pn0159',\n",
        "                'msp0174','dd0420','ds0761','rs0850','ss1995','at0739','at0768','mv0299','tv0119','dy0091']"
      ]
    },
    {
      "cell_type": "code",
      "metadata": {
        "colab_type": "code",
        "id": "3iGbmcOBhTwy",
        "colab": {}
      },
      "source": [
        "# write your answer here\n",
        "# import numpy as np\n",
        "# import random\n",
        "# studnet_list = ['vmb0067','pc0353','snd0097','yye0005','sg0940','bk0301','rak0120','rrk0058','spk0057','vl0135','nm0547','pn0159', 'msp0174','dd0420','ds0761','rs0850','ss1995','at0739','at0768','mv0299','tv0119','dy0091']\n",
        "# GroupSizes = [ ]\n",
        "# def main():\n",
        "#     while True:\n",
        "\n",
        "#         if (np.sum(GroupSizes) == len(studnet_list)):\n",
        "#             print (GroupSizes)\n",
        "#             return\n",
        "#         else:\n",
        "#             for j in range(5):\n",
        "#               rand = random.randint(3,5)\n",
        "#               GroupSizes.append(rand)\n",
        "\n",
        "# if __name__ == \"__main__\":\n",
        "#     main()\n",
        "\n",
        "# for i in range(5):\n",
        "#     {\n",
        "#        data = random.sample(studnet_list,random.randint(3,5))\n",
        "#        print(\"Group {} is {}\".format(i+1,data)) \n",
        "#   for i in data:\n",
        "#     try:\n",
        "#         studnet_list.remove(i)\n",
        "#     except ValueError:\n",
        "#         pass   \n",
        "#     }\n",
        "#   else:\n",
        "#       lastGroup = student_list\n",
        "#       print(lastGroup)"
      ],
      "execution_count": null,
      "outputs": []
    },
    {
      "cell_type": "code",
      "metadata": {
        "id": "dDNyxfNc6C3W",
        "colab_type": "code",
        "colab": {}
      },
      "source": [
        "#multiples of 3 or 5 below 1000\n",
        "import math\n",
        "import numpy as np"
      ],
      "execution_count": 1,
      "outputs": []
    },
    {
      "cell_type": "code",
      "metadata": {
        "id": "-Ob3FW3R1oYV",
        "colab_type": "code",
        "colab": {
          "base_uri": "https://localhost:8080/",
          "height": 34
        },
        "outputId": "730b8c51-b67d-4968-b902-e7bf0ce94f93"
      },
      "source": [
        "#Type 1:\n",
        "multiOf35 = [ ]\n",
        "sum = 0\n",
        "for i in range(1000):\n",
        "  if ((i%3 == 0) or (i%5 == 0)):\n",
        "    multiOf35.append(i)\n",
        "for i in range(len(multiOf35)):\n",
        "  sum = sum + multiOf35[i]\n",
        "print(sum)\n"
      ],
      "execution_count": 2,
      "outputs": [
        {
          "output_type": "stream",
          "text": [
            "233168\n"
          ],
          "name": "stdout"
        }
      ]
    },
    {
      "cell_type": "code",
      "metadata": {
        "id": "gqrcsJLf2Z7L",
        "colab_type": "code",
        "colab": {
          "base_uri": "https://localhost:8080/",
          "height": 34
        },
        "outputId": "1b874fb5-2803-46ac-94d0-b2bc0f88fae8"
      },
      "source": [
        "#Type 2:\n",
        "multiOf35 = [ ]\n",
        "for i in range(1000):\n",
        "  if ((i%3 == 0) or (i%5 == 0)):\n",
        "    multiOf35.append(i)\n",
        "sum = np.sum(multiOf35)\n",
        "print(sum)"
      ],
      "execution_count": 3,
      "outputs": [
        {
          "output_type": "stream",
          "text": [
            "233168\n"
          ],
          "name": "stdout"
        }
      ]
    },
    {
      "cell_type": "code",
      "metadata": {
        "id": "YsfFvNX45A47",
        "colab_type": "code",
        "colab": {
          "base_uri": "https://localhost:8080/",
          "height": 51
        },
        "outputId": "e2c7bebc-a9f5-4522-8ce3-d74fec97ff38"
      },
      "source": [
        "#fibonnaci series sum of even values till 40,00,000\n",
        "num = int(input(\"enter value:\"))\n",
        "fibo = [0,1]\n",
        "fibo_Even_Sum = 0\n",
        "i = 0\n",
        "while (fibo[i] <= num):\n",
        "  #  sum = fibo[0] + fibo[1]\n",
        "   if (fibo[i]%2 == 0):\n",
        "  #     fibo.append(sum)\n",
        "      fibo_Even_Sum = fibo_Even_Sum + fibo[i]\n",
        "   fibo[i],fibo[i+1] = fibo[i+1],fibo[i]+fibo[i+1]\n",
        "  #     fibo.pop(fibo[0])\n",
        "  #     print(fibo)\n",
        "  #  else:\n",
        "  #       fibo.append(sum)\n",
        "  #       fibo.pop(fibo[0])\n",
        "  #       print(fibo)\n",
        "print(fibo_Even_Sum)"
      ],
      "execution_count": 4,
      "outputs": [
        {
          "output_type": "stream",
          "text": [
            "enter value:4\n",
            "2\n"
          ],
          "name": "stdout"
        }
      ]
    },
    {
      "cell_type": "code",
      "metadata": {
        "id": "Z6CIWV42OUy6",
        "colab_type": "code",
        "colab": {
          "base_uri": "https://localhost:8080/",
          "height": 130
        },
        "outputId": "a113d711-e02c-4692-9099-2d859192d417"
      },
      "source": [
        "# largest prime factor of 600851475143\n",
        "for i in range(2,np.sqrt(600851475143)):\n",
        "  if "
      ],
      "execution_count": 5,
      "outputs": [
        {
          "output_type": "error",
          "ename": "SyntaxError",
          "evalue": "ignored",
          "traceback": [
            "\u001b[0;36m  File \u001b[0;32m\"<ipython-input-5-dc405faccb63>\"\u001b[0;36m, line \u001b[0;32m2\u001b[0m\n\u001b[0;31m    for i in range(2,np.)\u001b[0m\n\u001b[0m                        ^\u001b[0m\n\u001b[0;31mSyntaxError\u001b[0m\u001b[0;31m:\u001b[0m invalid syntax\n"
          ]
        }
      ]
    },
    {
      "cell_type": "code",
      "metadata": {
        "id": "n57U3YqPDPyV",
        "colab_type": "code",
        "colab": {}
      },
      "source": [
        ""
      ],
      "execution_count": null,
      "outputs": []
    }
  ]
}
{
  "nbformat": 4,
  "nbformat_minor": 0,
  "metadata": {
    "kernelspec": {
      "display_name": "Python 3",
      "language": "python",
      "name": "python3"
    },
    "language_info": {
      "codemirror_mode": {
        "name": "ipython",
        "version": 3
      },
      "file_extension": ".py",
      "mimetype": "text/x-python",
      "name": "python",
      "nbconvert_exporter": "python",
      "pygments_lexer": "ipython3",
      "version": "3.7.4"
    },
    "colab": {
      "name": "In-class-exercise-03.ipynb",
      "provenance": [],
      "toc_visible": true
    }
  },
  "cells": [
    {
      "cell_type": "markdown",
      "metadata": {
        "id": "DLOmYtvE2YRL",
        "colab_type": "text"
      },
      "source": [
        "## The third In-class-exercise (9/16/2020, 20 points in total)"
      ]
    },
    {
      "cell_type": "markdown",
      "metadata": {
        "id": "D-lDkoLi2YRN",
        "colab_type": "text"
      },
      "source": [
        "The purpose of this exercise is to under users' information needs, then collect the data for analysis."
      ]
    },
    {
      "cell_type": "markdown",
      "metadata": {
        "id": "j1w0FvjC2YRO",
        "colab_type": "text"
      },
      "source": [
        "Question 1 (8 points): Describe an interesting research question (or practical question) you have in mind, what kind of data should be collected to answer the question(s)? How many data needed for the analysis? The detail steps for collecting and save the data. "
      ]
    },
    {
      "cell_type": "code",
      "metadata": {
        "id": "FbnlgQnl2YRO",
        "colab_type": "code",
        "colab": {}
      },
      "source": [
        "# Your answer here (no code for this question, write down your answer as detail as possible for the above questions):\n",
        "\n",
        "'''\n",
        "Please write you answer here:\n",
        "\n",
        "\n",
        "\n",
        "\n",
        "\n",
        "'''"
      ],
      "execution_count": null,
      "outputs": []
    },
    {
      "cell_type": "markdown",
      "metadata": {
        "id": "nFzvG-Sz2YRS",
        "colab_type": "text"
      },
      "source": [
        "Question 2 (12 points): Write python code to collect 500 items of the data you plan to collect above."
      ]
    },
    {
      "cell_type": "code",
      "metadata": {
        "id": "KE776wLS2YRT",
        "colab_type": "code",
        "colab": {
          "base_uri": "https://localhost:8080/",
          "height": 34
        },
        "outputId": "4ea444f5-d434-4ebb-ad1d-93aa08c279c2"
      },
      "source": [
        "# You code here (Please add comments in the code):\n",
        "\n",
        "\n",
        "import pandas as pd\n",
        "import numpy as np\n",
        "import requests\n",
        "from bs4 import BeautifulSoup\n",
        "Id = []\n",
        "Id_List = [ ]\n",
        "Description = []\n",
        "Description_List = [ ]\n",
        "Solved_By = []\n",
        "Solved_By_List = [ ]\n",
        "for i in range(1,11):\n",
        " page = requests.get('https://projecteuler.net/archives;page='+ str (i))\n",
        " soup = BeautifulSoup(page.content,'html.parser')\n",
        " Id.append(soup.find_all('td',class_=\"id_column\"))\n",
        " Description.append(soup.find_all('a',href_='problem='+str (i))) #for loop till\n",
        " Solved_By.append(soup.find_all('div',class_=\"center\"))\n",
        "for item in Id:\n",
        "  for i in range(len(item)):\n",
        "    Id_List.append(item[i].get_text())\n",
        "for item in Description:\n",
        "  for i in range(len(item)):\n",
        "    Description_List.append(item[i].get_text())\n",
        "for item in Solved_By:\n",
        "  for i in range(len(item)):\n",
        "    Solved_By_List.append(item[i].get_text()) \n",
        "# df= pd.DataFrame({'Id':Id_List,'Description': Description_List,'Solved_By':Solved_By_List})\n",
        "# df.to_csv('Euler.csv')\n",
        "len(Solved_By_List)"
      ],
      "execution_count": 44,
      "outputs": [
        {
          "output_type": "execute_result",
          "data": {
            "text/plain": [
              "500"
            ]
          },
          "metadata": {
            "tags": []
          },
          "execution_count": 44
        }
      ]
    },
    {
      "cell_type": "code",
      "metadata": {
        "id": "VMSBU1UITXML",
        "colab_type": "code",
        "colab": {}
      },
      "source": [
        ""
      ],
      "execution_count": null,
      "outputs": []
    }
  ]
}
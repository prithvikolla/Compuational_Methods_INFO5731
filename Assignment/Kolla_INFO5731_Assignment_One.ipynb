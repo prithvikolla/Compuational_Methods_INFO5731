{
  "nbformat": 4,
  "nbformat_minor": 0,
  "metadata": {
    "colab": {
      "name": "Kolla_INFO5731_Assignment_One.ipynb",
      "provenance": [],
      "collapsed_sections": []
    },
    "kernelspec": {
      "name": "python3",
      "display_name": "Python 3"
    }
  },
  "cells": [
    {
      "cell_type": "markdown",
      "metadata": {
        "id": "Ryk8D1Q4Wsrp",
        "colab_type": "text"
      },
      "source": [
        "# **INFO5731 Assignment One**"
      ]
    },
    {
      "cell_type": "markdown",
      "metadata": {
        "id": "90_NR8c5XGWc",
        "colab_type": "text"
      },
      "source": [
        "# Question 1\n",
        "\n",
        "(20 points). Write a Python program to generate 12 random numbers between 1 and 100. Sort the list of numbers in ascending order and print it out. Sort the list of numbers in descending order and print it out. Calculate the average for the group and print it out."
      ]
    },
    {
      "cell_type": "code",
      "metadata": {
        "id": "5QX6bJjGWXY9",
        "colab_type": "code",
        "colab": {
          "base_uri": "https://localhost:8080/",
          "height": 68
        },
        "outputId": "16055fe3-f229-4569-fbed-79102cced8c1"
      },
      "source": [
        "# Your code here\n",
        "import numpy as np #Mathematical Calculations\n",
        "data = np.random.randint(1,100,size = 12) # randint, performs to choose randomly integers from given parameters like lowest and highest when given a size )\n",
        "print(\"Ascending Order:\", np.sort(data))\n",
        "print(\"Descending Order:\", -np.sort(-data))\n",
        "print(\"Average:\", np.average(data))"
      ],
      "execution_count": 2,
      "outputs": [
        {
          "output_type": "stream",
          "text": [
            "Ascending Order: [26 30 35 36 52 68 68 73 81 91 93 96]\n",
            "Descending Order: [96 93 91 81 73 68 68 52 36 35 30 26]\n",
            "Average: 62.416666666666664\n"
          ],
          "name": "stdout"
        }
      ]
    },
    {
      "cell_type": "markdown",
      "metadata": {
        "id": "1F_PZdH9Sh49",
        "colab_type": "text"
      },
      "source": [
        "# Question 2\n",
        "(25 points). Write a program that will do the following string formatting tasks:\n",
        "\n",
        "(1) Ask the user to enter two sentences.\n",
        "\n",
        "(2) Make each sentence into a list. Each element in the list should correspond to a word in the sentence. For example, if the sentence is \"Alas! Am I alive? This is my first python program\", the program should print out ['Alas, '!', 'Am', 'I', 'alive, '?', 'This', 'is', 'my', 'first', 'python', 'program'].\n",
        "\n",
        "(3) Compare the two sentences. Print out a list of words that occur in both sentences.\n",
        "\n",
        "(4) Remove any punctuation from the sentence and print it back out. It should remove at least the following characters, but it can remove more: period(“.”), comma (“,”), semicolon (“;”), and colon (“:”)\n",
        "\n",
        "(5) Count the number of vowels in the sentences. Print out each vowel and the number of times it appears in the sentences, such as: a:2, e:1, i:0, etc"
      ]
    },
    {
      "cell_type": "code",
      "metadata": {
        "id": "93liI_3Vem7_",
        "colab_type": "code",
        "colab": {
          "base_uri": "https://localhost:8080/",
          "height": 51
        },
        "outputId": "037cd9fe-cfc0-489b-c39f-06e9a4e2f3c0"
      },
      "source": [
        "#Import Libraries\n",
        "import nltk\n",
        "import pandas as pd\n",
        "import math\n",
        "nltk.download('punkt')\n",
        "from nltk.tokenize.treebank import TreebankWordDetokenizer"
      ],
      "execution_count": 5,
      "outputs": [
        {
          "output_type": "stream",
          "text": [
            "[nltk_data] Downloading package punkt to /root/nltk_data...\n",
            "[nltk_data]   Package punkt is already up-to-date!\n"
          ],
          "name": "stdout"
        }
      ]
    },
    {
      "cell_type": "code",
      "metadata": {
        "id": "Y0oOSlsOS0cq",
        "colab_type": "code",
        "colab": {
          "base_uri": "https://localhost:8080/",
          "height": 102
        },
        "outputId": "2d799c6c-a1a7-439b-e792-78640d515b56"
      },
      "source": [
        "# Assign text sentence to Variables (1)\n",
        "Sentence_One = \"aeiou!!!;,.:\"\n",
        "Sentence_Two = \"Hello;,!\"\n",
        "#Word tokenizing (2)\n",
        "Tokens_Sentence_One = nltk.word_tokenize(Sentence_One)\n",
        "Tokens_Sentence_Two = nltk.word_tokenize(Sentence_Two)\n",
        "#Output\n",
        "print(\"Sentence_One:\\t\",Tokens_Sentence_One)\n",
        "print(\"Sentence_Two:\\t\",Tokens_Sentence_Two)\n",
        "# common words in sentences (3)\n",
        "word_Common = [ ]\n",
        "for i in range(len(Tokens_Sentence_One)):\n",
        "  k = i;\n",
        "  for j in range(len(Tokens_Sentence_Two)):\n",
        "        if (Tokens_Sentence_One[k] == Tokens_Sentence_Two[j]):\n",
        "            word_Common.append(Tokens_Sentence_One[k])\n",
        "print(\"Words common are: \",word_Common)  \n",
        "#Remove Punctuations and print out the sentence (4)\n",
        "example = [ ]\n",
        "punc = ['.',',',';',':','!']\n",
        "def remov(tok_Sente):\n",
        "      sente_Elem_Rem = [i for i in punc if i in tok_Sente]\n",
        "      sente_Rem = [i for i in tok_Sente if i not in sente_Elem_Rem ]\n",
        "      return TreebankWordDetokenizer().detokenize(sente_Rem)\n",
        "print(\"Removing the Punctuations: \",remov(tok_Sente = Tokens_Sentence_One))\n",
        "#Count the number of vowels in the sentences. Print out each vowel and the number of times it appears in the sentences, such as: a:2, e:1, i:0, etc (5)\n",
        "cou_Vow_Eac = []\n",
        "sum = 0\n",
        "vowel = ['a','e','i','o','u']\n",
        "def coun(gsente):\n",
        "  sente_Charecte = list (gsente)\n",
        "  for i in range(len(vowel)):\n",
        "    x = vowel[i]\n",
        "    cou_Vow_Eac.append(sente_Charecte.count(x))\n",
        "  return np.sum(cou_Vow_Eac)\n",
        "print(\"Number of Vowels: \",coun(gsente = Sentence_One))"
      ],
      "execution_count": 9,
      "outputs": [
        {
          "output_type": "stream",
          "text": [
            "Sentence_One:\t ['aeiou', '!', '!', '!', ';', ',', '.', ':']\n",
            "Sentence_Two:\t ['Hello', ';', ',', '!']\n",
            "Words common are:  ['!', '!', '!', ';', ',']\n",
            "Removing the Punctuations:  aeiou\n",
            "Number of Vowels:  5\n"
          ],
          "name": "stdout"
        }
      ]
    },
    {
      "cell_type": "markdown",
      "metadata": {
        "id": "CmFoI4jDS9nx",
        "colab_type": "text"
      },
      "source": [
        "# Question 3 \n",
        "\n",
        "(15 points). The formula that describes the volume V of a sphere with radius r is the following:\n",
        "\n",
        "$ V=\\frac{4}{3}\\ast\\ \\pi\\ast\\ r^3 $\n",
        "\n",
        "Write a program to calculate the value of V when r is in the range of 1–10. Output the result in the following format:\n",
        "\n",
        "\tr\tV\n",
        "\t1\t…\n",
        "\t2\t…\n",
        "\t3\t…\n"
      ]
    },
    {
      "cell_type": "code",
      "metadata": {
        "id": "pEyqeioAT95b",
        "colab_type": "code",
        "colab": {}
      },
      "source": [
        "# Your code here\n",
        "import pandas as pd\n",
        "import numpy as np\n",
        "r = [1,2,3,4,5,6,7,8,9,10]\n",
        "V = [(4/3 * np.pi * i) for i in r ]\n",
        "Volume = pd.DataFrame({'r':r,'V':V});\n",
        "Volume"
      ],
      "execution_count": null,
      "outputs": []
    },
    {
      "cell_type": "markdown",
      "metadata": {
        "id": "z3tBE7E-Xn5X",
        "colab_type": "text"
      },
      "source": [
        "# Question 4\n",
        "\n",
        "(40 points). In the field of Data Science, data is often formatted as a comma-delimited (CSV) file, where each line in a file corresponds to a field's value. Refer to Chapter 9 (p. 106) for more information on comma-delimited files. To answer this question, you will need to download the file [Assignment1_denton_housing.csv](https://github.com/unt-iialab/INFO5731_FALL2020/blob/master/Assignments/Assignment1_denton_housing.csv) included with this assignment. The [file Assignment1_denton_housing.csv](https://github.com/unt-iialab/INFO5731_FALL2020/blob/master/Assignments/Assignment1_denton_housing.csv) contains statistics about housing in the city of Denton from 2008 to 2014. Write a program to implement the following questions.\n",
        "\n",
        "(1) (10 pts) Calculate the difference in the number of Occupied Housing Units from year to year and print it. The difference must be calculated for the consecutive years such as 2008-2009, 2009-2010 etc. Finally, print the values in the ascending order.\n",
        "\n",
        "(2) (10 pts) For all the years, calculate the percentage of housing units which are vacant an occupied. Print the results in the following format:\n",
        "\n",
        "Year Vacant Housing Units Occupied Housing Units\n",
        "\n",
        "    2008  30%   70%                          \n",
        "\t2009 ----- -----\n",
        "\t2010 ----- -----\n",
        "    2011 ----- -----\n",
        "\t2012 ----- -----\n",
        "    2013 ----- -----\n",
        "\t2014 ----- -----\n",
        "  \n",
        "  \n",
        "\n",
        "(3) (10 pts) Calculate and print the valued and years in which the highest number of housing units were vacant and occupied. Print the results in the following format:  \n",
        "\n",
        "                              Year\tValue\n",
        "\tVacant Housing Units\t  -----   -----\n",
        "\tOccupied Housing Units\t-----   -----\n",
        "\n",
        "(4) (10 pts) Calculate the harmonic mean of the total housing units and print it out. You can find the information about harmonic mean here: https://ncalculators.com/statistics/harmonic-mean-calculator.htm"
      ]
    },
    {
      "cell_type": "code",
      "metadata": {
        "id": "lqGYuHBhcsRH",
        "colab_type": "code",
        "colab": {}
      },
      "source": [
        "# Your code here\n",
        "\n",
        "\n"
      ],
      "execution_count": 5,
      "outputs": []
    },
    {
      "cell_type": "code",
      "metadata": {
        "id": "Fd8D1SZjKiRt",
        "colab_type": "code",
        "colab": {}
      },
      "source": [
        ""
      ],
      "execution_count": 5,
      "outputs": []
    }
  ]
}
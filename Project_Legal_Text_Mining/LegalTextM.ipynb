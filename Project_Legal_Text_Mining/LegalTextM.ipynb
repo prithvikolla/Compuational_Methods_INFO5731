{
  "nbformat": 4,
  "nbformat_minor": 0,
  "metadata": {
    "colab": {
      "name": "LegalTextM.ipynb",
      "provenance": []
    },
    "kernelspec": {
      "name": "python3",
      "display_name": "Python 3"
    }
  },
  "cells": [
    {
      "cell_type": "code",
      "metadata": {
        "id": "N4ZypKEPf7tS"
      },
      "source": [
        "import pandas as pd"
      ],
      "execution_count": 1,
      "outputs": []
    },
    {
      "cell_type": "code",
      "metadata": {
        "id": "dhhvouxjgDs1"
      },
      "source": [
        "df = pd.read_excel(\"/content/stage-1-4.xlsx\")"
      ],
      "execution_count": 2,
      "outputs": []
    },
    {
      "cell_type": "code",
      "metadata": {
        "id": "P7sJacoTgy2M",
        "outputId": "96809941-c50c-4fb4-ea65-23d05b3d07bb",
        "colab": {
          "base_uri": "https://localhost:8080/",
          "height": 204
        }
      },
      "source": [
        "df.head()"
      ],
      "execution_count": 3,
      "outputs": [
        {
          "output_type": "execute_result",
          "data": {
            "text/html": [
              "<div>\n",
              "<style scoped>\n",
              "    .dataframe tbody tr th:only-of-type {\n",
              "        vertical-align: middle;\n",
              "    }\n",
              "\n",
              "    .dataframe tbody tr th {\n",
              "        vertical-align: top;\n",
              "    }\n",
              "\n",
              "    .dataframe thead th {\n",
              "        text-align: right;\n",
              "    }\n",
              "</style>\n",
              "<table border=\"1\" class=\"dataframe\">\n",
              "  <thead>\n",
              "    <tr style=\"text-align: right;\">\n",
              "      <th></th>\n",
              "      <th>Sentence</th>\n",
              "      <th>Target</th>\n",
              "    </tr>\n",
              "  </thead>\n",
              "  <tbody>\n",
              "    <tr>\n",
              "      <th>0</th>\n",
              "      <td>at 994.</td>\n",
              "      <td>Invalid</td>\n",
              "    </tr>\n",
              "    <tr>\n",
              "      <th>1</th>\n",
              "      <td>Footnote:</td>\n",
              "      <td>Invalid</td>\n",
              "    </tr>\n",
              "    <tr>\n",
              "      <th>2</th>\n",
              "      <td>People v. Francisco S. Palacios and Valerie M....</td>\n",
              "      <td>Invalid</td>\n",
              "    </tr>\n",
              "    <tr>\n",
              "      <th>3</th>\n",
              "      <td>79-0043A and 79-0044A).</td>\n",
              "      <td>Invalid</td>\n",
              "    </tr>\n",
              "    <tr>\n",
              "      <th>4</th>\n",
              "      <td>Miller v. California, 93 S. Ct. 2607, 2616 n.</td>\n",
              "      <td>Invalid</td>\n",
              "    </tr>\n",
              "  </tbody>\n",
              "</table>\n",
              "</div>"
            ],
            "text/plain": [
              "                                            Sentence   Target\n",
              "0                                            at 994.  Invalid\n",
              "1                                          Footnote:  Invalid\n",
              "2  People v. Francisco S. Palacios and Valerie M....  Invalid\n",
              "3                            79-0043A and 79-0044A).  Invalid\n",
              "4      Miller v. California, 93 S. Ct. 2607, 2616 n.  Invalid"
            ]
          },
          "metadata": {
            "tags": []
          },
          "execution_count": 3
        }
      ]
    },
    {
      "cell_type": "code",
      "metadata": {
        "id": "ChligoMBg3a-",
        "outputId": "c1a9401a-b3f4-4909-ad8b-fe64f0ed2ca7",
        "colab": {
          "base_uri": "https://localhost:8080/"
        }
      },
      "source": [
        "df['Target'].value_counts()"
      ],
      "execution_count": 4,
      "outputs": [
        {
          "output_type": "execute_result",
          "data": {
            "text/plain": [
              "Facts               1829\n",
              "Analysis             525\n",
              "Invalid              342\n",
              "Conclusion           324\n",
              "Issue                263\n",
              "Rule/Law/Holding     225\n",
              "Others               133\n",
              "Rule/Law/holding      36\n",
              "Label_text             1\n",
              "Name: Target, dtype: int64"
            ]
          },
          "metadata": {
            "tags": []
          },
          "execution_count": 4
        }
      ]
    },
    {
      "cell_type": "code",
      "metadata": {
        "id": "rCQmo2U7hEIW"
      },
      "source": [
        "df = df[df['Target'] != 'Label_text']"
      ],
      "execution_count": 5,
      "outputs": []
    },
    {
      "cell_type": "code",
      "metadata": {
        "id": "SbIcfLpThRr_",
        "outputId": "5d3c75b9-e8bd-496f-a5c3-5d7c07dc5365",
        "colab": {
          "base_uri": "https://localhost:8080/"
        }
      },
      "source": [
        "df['Target'].value_counts()"
      ],
      "execution_count": 6,
      "outputs": [
        {
          "output_type": "execute_result",
          "data": {
            "text/plain": [
              "Facts               1829\n",
              "Analysis             525\n",
              "Invalid              342\n",
              "Conclusion           324\n",
              "Issue                263\n",
              "Rule/Law/Holding     225\n",
              "Others               133\n",
              "Rule/Law/holding      36\n",
              "Name: Target, dtype: int64"
            ]
          },
          "metadata": {
            "tags": []
          },
          "execution_count": 6
        }
      ]
    },
    {
      "cell_type": "code",
      "metadata": {
        "id": "0beZfTpYhUxE"
      },
      "source": [
        "for i in df['Target']"
      ],
      "execution_count": null,
      "outputs": []
    }
  ]
}
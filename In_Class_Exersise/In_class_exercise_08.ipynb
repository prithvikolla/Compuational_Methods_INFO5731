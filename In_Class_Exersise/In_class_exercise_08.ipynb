{
  "nbformat": 4,
  "nbformat_minor": 0,
  "metadata": {
    "kernelspec": {
      "display_name": "Python 3",
      "language": "python",
      "name": "python3"
    },
    "language_info": {
      "codemirror_mode": {
        "name": "ipython",
        "version": 3
      },
      "file_extension": ".py",
      "mimetype": "text/x-python",
      "name": "python",
      "nbconvert_exporter": "python",
      "pygments_lexer": "ipython3",
      "version": "3.7.4"
    },
    "colab": {
      "name": "In_class_exercise_08.ipynb",
      "provenance": [],
      "collapsed_sections": [],
      "toc_visible": true
    }
  },
  "cells": [
    {
      "cell_type": "markdown",
      "metadata": {
        "id": "kdXATujPb4XW"
      },
      "source": [
        "# **The eighth in-class-exercise (20 points in total, 10/29/2020)**"
      ]
    },
    {
      "cell_type": "markdown",
      "metadata": {
        "id": "SzDyCKtMb4XX"
      },
      "source": [
        "The data for this exercise is from the dataset you created from assignment three. Please perform answer the following questions based on your data:"
      ]
    },
    {
      "cell_type": "markdown",
      "metadata": {
        "id": "c2rlV-mLb4XY"
      },
      "source": [
        "## (1) (10 points) Write a python program to extract the sentiment related terms from the corpus. You may use python package such as polyglot or external lexicon resources in the question. Rank the sentiment related terms by frequency."
      ]
    },
    {
      "cell_type": "code",
      "metadata": {
        "id": "Yx0uyCzVb4XY"
      },
      "source": [
        "# Write your code here\n",
        "import pandas as pd\n",
        "import re\n",
        "import nltk\n",
        "from nltk import word_tokenize"
      ],
      "execution_count": 1,
      "outputs": []
    },
    {
      "cell_type": "markdown",
      "metadata": {
        "id": "6zTjowUorDPf"
      },
      "source": [
        "- The data I collected in Assignment 3 has only titles, which is irrelevant for sentiment analysis. \n",
        "\n",
        "- I used Restaurant Review data set from Kaggle."
      ]
    },
    {
      "cell_type": "code",
      "metadata": {
        "id": "T8L2uSbpqwh2"
      },
      "source": [
        "df = pd.read_table('/content/Restaurant_Reviews.tsv')"
      ],
      "execution_count": 2,
      "outputs": []
    },
    {
      "cell_type": "code",
      "metadata": {
        "id": "z0AU8KDPqwk2",
        "outputId": "03507dc3-df48-491c-d83b-4adc6138409d",
        "colab": {
          "base_uri": "https://localhost:8080/"
        }
      },
      "source": [
        "df.pop('Liked')"
      ],
      "execution_count": 3,
      "outputs": [
        {
          "output_type": "execute_result",
          "data": {
            "text/plain": [
              "0      1\n",
              "1      0\n",
              "2      0\n",
              "3      1\n",
              "4      1\n",
              "      ..\n",
              "995    0\n",
              "996    0\n",
              "997    0\n",
              "998    0\n",
              "999    0\n",
              "Name: Liked, Length: 1000, dtype: int64"
            ]
          },
          "metadata": {
            "tags": []
          },
          "execution_count": 3
        }
      ]
    },
    {
      "cell_type": "code",
      "metadata": {
        "id": "MLmBxx2hqwnm",
        "outputId": "2ed3d4f3-4e2c-4e3f-98f2-9fbcdbc51ef5",
        "colab": {
          "base_uri": "https://localhost:8080/",
          "height": 204
        }
      },
      "source": [
        "df.head()"
      ],
      "execution_count": 4,
      "outputs": [
        {
          "output_type": "execute_result",
          "data": {
            "text/html": [
              "<div>\n",
              "<style scoped>\n",
              "    .dataframe tbody tr th:only-of-type {\n",
              "        vertical-align: middle;\n",
              "    }\n",
              "\n",
              "    .dataframe tbody tr th {\n",
              "        vertical-align: top;\n",
              "    }\n",
              "\n",
              "    .dataframe thead th {\n",
              "        text-align: right;\n",
              "    }\n",
              "</style>\n",
              "<table border=\"1\" class=\"dataframe\">\n",
              "  <thead>\n",
              "    <tr style=\"text-align: right;\">\n",
              "      <th></th>\n",
              "      <th>Review</th>\n",
              "    </tr>\n",
              "  </thead>\n",
              "  <tbody>\n",
              "    <tr>\n",
              "      <th>0</th>\n",
              "      <td>Wow... Loved this place.</td>\n",
              "    </tr>\n",
              "    <tr>\n",
              "      <th>1</th>\n",
              "      <td>Crust is not good.</td>\n",
              "    </tr>\n",
              "    <tr>\n",
              "      <th>2</th>\n",
              "      <td>Not tasty and the texture was just nasty.</td>\n",
              "    </tr>\n",
              "    <tr>\n",
              "      <th>3</th>\n",
              "      <td>Stopped by during the late May bank holiday of...</td>\n",
              "    </tr>\n",
              "    <tr>\n",
              "      <th>4</th>\n",
              "      <td>The selection on the menu was great and so wer...</td>\n",
              "    </tr>\n",
              "  </tbody>\n",
              "</table>\n",
              "</div>"
            ],
            "text/plain": [
              "                                              Review\n",
              "0                           Wow... Loved this place.\n",
              "1                                 Crust is not good.\n",
              "2          Not tasty and the texture was just nasty.\n",
              "3  Stopped by during the late May bank holiday of...\n",
              "4  The selection on the menu was great and so wer..."
            ]
          },
          "metadata": {
            "tags": []
          },
          "execution_count": 4
        }
      ]
    },
    {
      "cell_type": "markdown",
      "metadata": {
        "id": "5BJ6UOipR0tm"
      },
      "source": [
        "**DATA** **CLEANING**"
      ]
    },
    {
      "cell_type": "code",
      "metadata": {
        "id": "X-5OajxLRm3W",
        "outputId": "c36d9ecf-0e26-4a66-9bed-5b95dcb10d2e",
        "colab": {
          "base_uri": "https://localhost:8080/"
        }
      },
      "source": [
        "import nltk\n",
        "nltk.download('stopwords')\n",
        "from nltk.corpus import stopwords"
      ],
      "execution_count": 5,
      "outputs": [
        {
          "output_type": "stream",
          "text": [
            "[nltk_data] Downloading package stopwords to /root/nltk_data...\n",
            "[nltk_data]   Package stopwords is already up-to-date!\n"
          ],
          "name": "stdout"
        }
      ]
    },
    {
      "cell_type": "code",
      "metadata": {
        "id": "MtrmPZTTaKoi",
        "outputId": "3306dea1-a6ff-4d5f-d7a2-f8515cc988ba",
        "colab": {
          "base_uri": "https://localhost:8080/",
          "height": 35
        }
      },
      "source": [
        "import string\n",
        "df['Review'] = df['Review'].apply(lambda x: x.strip(string.punctuation))\n",
        "df['Review'][2]"
      ],
      "execution_count": 6,
      "outputs": [
        {
          "output_type": "execute_result",
          "data": {
            "application/vnd.google.colaboratory.intrinsic+json": {
              "type": "string"
            },
            "text/plain": [
              "'Not tasty and the texture was just nasty'"
            ]
          },
          "metadata": {
            "tags": []
          },
          "execution_count": 6
        }
      ]
    },
    {
      "cell_type": "code",
      "metadata": {
        "id": "Z2YNAG7KDKUN",
        "outputId": "97896155-a593-4838-91cf-56c700954c83",
        "colab": {
          "base_uri": "https://localhost:8080/",
          "height": 35
        }
      },
      "source": [
        "import re\n",
        "df['Review_punc'] = df['Review'].apply(lambda x: re.sub(r'[^a-zA-Z0-9]+',' ',x))\n",
        "df['Review_punc'][0]"
      ],
      "execution_count": 7,
      "outputs": [
        {
          "output_type": "execute_result",
          "data": {
            "application/vnd.google.colaboratory.intrinsic+json": {
              "type": "string"
            },
            "text/plain": [
              "'Wow Loved this place'"
            ]
          },
          "metadata": {
            "tags": []
          },
          "execution_count": 7
        }
      ]
    },
    {
      "cell_type": "code",
      "metadata": {
        "id": "MEjPYBXZIGee",
        "outputId": "6a6dab14-944f-4da7-a6dd-127922c9964c",
        "colab": {
          "base_uri": "https://localhost:8080/",
          "height": 35
        }
      },
      "source": [
        "df['Review_lower'] = df['Review_punc'].apply(lambda x: x.lower())\n",
        "df['Review'][2]"
      ],
      "execution_count": 8,
      "outputs": [
        {
          "output_type": "execute_result",
          "data": {
            "application/vnd.google.colaboratory.intrinsic+json": {
              "type": "string"
            },
            "text/plain": [
              "'Not tasty and the texture was just nasty'"
            ]
          },
          "metadata": {
            "tags": []
          },
          "execution_count": 8
        }
      ]
    },
    {
      "cell_type": "code",
      "metadata": {
        "id": "-3wwqZgWDKXK",
        "outputId": "c73e2e4c-639c-4e37-e095-dc0eefd5c5eb",
        "colab": {
          "base_uri": "https://localhost:8080/",
          "height": 35
        }
      },
      "source": [
        "stop = ['i', 'me', 'my', 'myself', 'we', 'our', 'ours', 'ourselves', 'you', \"you're\", \"you've\", \"you'll\", \"you'd\", 'your', 'yours', 'yourself', 'yourselves', 'he', 'him', 'his', 'himself', 'she', \"she's\", 'her', 'hers', 'herself', 'it', \"it's\", 'its', 'itself', 'they', 'them', 'their', 'theirs', 'themselves', 'what', 'which', 'who', 'whom', 'this', 'that', \"that'll\", 'these', 'those', 'am', 'is', 'are', 'was', 'were', 'be', 'been', 'being', 'have', 'has', 'had', 'having', 'do', 'does', 'did', 'doing', 'a', 'an', 'the', 'and', 'but', 'if', 'or', 'because', 'as', 'until', 'while', 'of', 'at', 'by', 'for', 'with', 'about', 'against', 'between', 'into', 'through', 'during', 'before', 'after', 'above', 'below', 'to', 'from', 'up', 'down', 'in', 'out', 'on', 'off', 'over', 'under', 'again', 'further', 'then', 'once', 'here', 'there', 'when', 'where', 'why', 'how', 'all', 'any', 'both', 'each', 'few', 'more', 'most', 'other', 'some', 'such', 'no', 'nor', 'not', 'only', 'own', 'same', 'so', 'than', 'too', 'very', 's', 't', 'can', 'will', 'just', 'don', \"don't\", 'should', \"should've\", 'now', 'd', 'll', 'm', 'o', 're', 've', 'y', 'ain', 'aren', \"aren't\", 'couldn', \"couldn't\", 'didn', \"didn't\", 'doesn', \"doesn't\", 'hadn', \"hadn't\", 'hasn', \"hasn't\", 'haven', \"haven't\", 'isn', \"isn't\", 'ma', 'mightn', \"mightn't\", 'mustn', \"mustn't\", 'needn', \"needn't\", 'shan', \"shan't\", 'shouldn', \"shouldn't\", 'wasn', \"wasn't\", 'weren', \"weren't\", 'won', \"won't\", 'wouldn', \"wouldn't\"]\n",
        "df['Review_stop'] = df['Review_lower'].apply(lambda x: ' '.join([word for word in x.split() if word not in (stop)]))\n",
        "# test['tweet_without_stopwords'] = test['tweet_without_stopwords'].str.replace(r'\\s+', ' ')\n",
        "df['Review_stop'][2]"
      ],
      "execution_count": 9,
      "outputs": [
        {
          "output_type": "execute_result",
          "data": {
            "application/vnd.google.colaboratory.intrinsic+json": {
              "type": "string"
            },
            "text/plain": [
              "'tasty texture nasty'"
            ]
          },
          "metadata": {
            "tags": []
          },
          "execution_count": 9
        }
      ]
    },
    {
      "cell_type": "code",
      "metadata": {
        "id": "N2xrzW5jqwqW",
        "outputId": "85817f63-d135-40b1-8211-b211c811dc69",
        "colab": {
          "base_uri": "https://localhost:8080/"
        }
      },
      "source": [
        "!pip install polyglot\n",
        "!pip install pyicu\n",
        "!pip install pycld2\n",
        "!pip install morfessor"
      ],
      "execution_count": 10,
      "outputs": [
        {
          "output_type": "stream",
          "text": [
            "Requirement already satisfied: polyglot in /usr/local/lib/python3.6/dist-packages (16.7.4)\n",
            "Requirement already satisfied: pyicu in /usr/local/lib/python3.6/dist-packages (2.5)\n",
            "Requirement already satisfied: pycld2 in /usr/local/lib/python3.6/dist-packages (0.41)\n",
            "Requirement already satisfied: morfessor in /usr/local/lib/python3.6/dist-packages (2.0.6)\n"
          ],
          "name": "stdout"
        }
      ]
    },
    {
      "cell_type": "code",
      "metadata": {
        "id": "phck8VYD7TTw",
        "outputId": "37a6a320-1917-43a9-f5bf-95c1d445a3ae",
        "colab": {
          "base_uri": "https://localhost:8080/"
        }
      },
      "source": [
        "!polyglot download sentiment2.en"
      ],
      "execution_count": 11,
      "outputs": [
        {
          "output_type": "stream",
          "text": [
            "[polyglot_data] Downloading package sentiment2.en to\n",
            "[polyglot_data]     /root/polyglot_data...\n",
            "[polyglot_data]   Package sentiment2.en is already up-to-date!\n"
          ],
          "name": "stdout"
        }
      ]
    },
    {
      "cell_type": "code",
      "metadata": {
        "id": "1ETIfl-ZKhsc",
        "outputId": "d734fa67-727b-41ed-db24-f27b71c807c5",
        "colab": {
          "base_uri": "https://localhost:8080/"
        }
      },
      "source": [
        "from icu import Locale\n",
        "import pycld2 as cld2\n",
        "from polyglot.text import Text\n",
        "df['Review_stop'].head()"
      ],
      "execution_count": 12,
      "outputs": [
        {
          "output_type": "execute_result",
          "data": {
            "text/plain": [
              "0                                      wow loved place\n",
              "1                                           crust good\n",
              "2                                  tasty texture nasty\n",
              "3    stopped late may bank holiday rick steve recom...\n",
              "4                          selection menu great prices\n",
              "Name: Review_stop, dtype: object"
            ]
          },
          "metadata": {
            "tags": []
          },
          "execution_count": 12
        }
      ]
    },
    {
      "cell_type": "code",
      "metadata": {
        "id": "hEyM7tyb2rGp"
      },
      "source": [
        "df.dropna()\n",
        "df['Review_stop'] = df['Review_stop'].str.replace('\\d+', '')"
      ],
      "execution_count": 13,
      "outputs": []
    },
    {
      "cell_type": "code",
      "metadata": {
        "id": "Fwd0WF87CnT4",
        "outputId": "65fd3abb-3a4c-435c-f4f7-61dc52656692",
        "colab": {
          "base_uri": "https://localhost:8080/"
        }
      },
      "source": [
        "import nltk\n",
        "nltk.download('punkt')"
      ],
      "execution_count": 14,
      "outputs": [
        {
          "output_type": "stream",
          "text": [
            "[nltk_data] Downloading package punkt to /root/nltk_data...\n",
            "[nltk_data]   Package punkt is already up-to-date!\n"
          ],
          "name": "stdout"
        },
        {
          "output_type": "execute_result",
          "data": {
            "text/plain": [
              "True"
            ]
          },
          "metadata": {
            "tags": []
          },
          "execution_count": 14
        }
      ]
    },
    {
      "cell_type": "code",
      "metadata": {
        "id": "BJXwUc9BKtvK"
      },
      "source": [
        "df['Reviews_Token'] = df['Review_stop'].apply(lambda x: word_tokenize(x))\n",
        "tex = [Text (df['Review_stop'][i],hint_language_code='en') for i in range(len(df['Review_stop']))]"
      ],
      "execution_count": 15,
      "outputs": []
    },
    {
      "cell_type": "code",
      "metadata": {
        "id": "DdeIZBA1Kt2Q"
      },
      "source": [
        "tex.remove(Text(\"\"))"
      ],
      "execution_count": 16,
      "outputs": []
    },
    {
      "cell_type": "code",
      "metadata": {
        "id": "a90PHnhrDGaF"
      },
      "source": [
        "from polyglot.detect.base import logger as polyglot_logger\n",
        "polyglot_logger.setLevel(\"ERROR\")"
      ],
      "execution_count": 17,
      "outputs": []
    },
    {
      "cell_type": "code",
      "metadata": {
        "id": "TXHrOjdUKt45"
      },
      "source": [
        "list_word = [ ]\n",
        "for i in tex[:1000]:\n",
        " for j in i.words:\n",
        "      list_word.append(j)"
      ],
      "execution_count": 18,
      "outputs": []
    },
    {
      "cell_type": "code",
      "metadata": {
        "id": "WUxf-9HjKt9a"
      },
      "source": [
        "from collections import Counter"
      ],
      "execution_count": 19,
      "outputs": []
    },
    {
      "cell_type": "code",
      "metadata": {
        "id": "6tvRdYIa6_oV",
        "outputId": "2fd0d6fb-b661-4d6d-c29f-a35fbd4bbafe",
        "colab": {
          "base_uri": "https://localhost:8080/"
        }
      },
      "source": [
        "word_counter = {}\n",
        "for word in list_word:\n",
        "     if word in word_counter:\n",
        "        word_counter[word] += 1\n",
        "     else:\n",
        "         word_counter[word] = 1\n",
        " \n",
        "popular_words = sorted(word_counter, key = word_counter.get, reverse = True)\n",
        " \n",
        "top_10_words = popular_words[:10]\n",
        " \n",
        "top_10_words"
      ],
      "execution_count": 20,
      "outputs": [
        {
          "output_type": "execute_result",
          "data": {
            "text/plain": [
              "['food',\n",
              " 'place',\n",
              " 'good',\n",
              " 'service',\n",
              " 'great',\n",
              " 'back',\n",
              " 'like',\n",
              " 'go',\n",
              " 'time',\n",
              " 'really']"
            ]
          },
          "metadata": {
            "tags": []
          },
          "execution_count": 20
        }
      ]
    },
    {
      "cell_type": "code",
      "metadata": {
        "id": "V-VVMgeiKuAb"
      },
      "source": [
        "list_count = Counter(list_word)"
      ],
      "execution_count": 21,
      "outputs": []
    },
    {
      "cell_type": "code",
      "metadata": {
        "id": "W-n5cOPG9vGR",
        "outputId": "7debfa9d-fd1e-4f5d-c126-317758d8d796",
        "colab": {
          "base_uri": "https://localhost:8080/"
        }
      },
      "source": [
        "import numpy as np\n",
        "seventy_perc = np.divide(np.multiply(70,5486),100)\n",
        "np.round(seventy_perc)"
      ],
      "execution_count": 22,
      "outputs": [
        {
          "output_type": "execute_result",
          "data": {
            "text/plain": [
              "3840.0"
            ]
          },
          "metadata": {
            "tags": []
          },
          "execution_count": 22
        }
      ]
    },
    {
      "cell_type": "code",
      "metadata": {
        "id": "srYjX3WXKt79",
        "outputId": "bb72ef3b-e44e-4041-e469-304d64eeb7fc",
        "colab": {
          "base_uri": "https://localhost:8080/"
        }
      },
      "source": [
        "word_common_3840 = list_count.most_common(3840)\n",
        "word_common_3840[:20]"
      ],
      "execution_count": 29,
      "outputs": [
        {
          "output_type": "execute_result",
          "data": {
            "text/plain": [
              "[('food', 126),\n",
              " ('place', 106),\n",
              " ('good', 95),\n",
              " ('service', 85),\n",
              " ('great', 70),\n",
              " ('back', 61),\n",
              " ('like', 46),\n",
              " ('go', 44),\n",
              " ('time', 42),\n",
              " ('really', 36),\n",
              " ('best', 30),\n",
              " ('would', 29),\n",
              " ('ever', 28),\n",
              " ('also', 27),\n",
              " ('friendly', 27),\n",
              " ('never', 26),\n",
              " ('one', 26),\n",
              " ('restaurant', 25),\n",
              " ('nice', 25),\n",
              " ('amazing', 24)]"
            ]
          },
          "metadata": {
            "tags": []
          },
          "execution_count": 29
        }
      ]
    },
    {
      "cell_type": "code",
      "metadata": {
        "id": "s54pxIYP59bH"
      },
      "source": [
        "top_3840_words = [ ]\n",
        "top_3840_frequency = [ ]\n",
        "for i in range(len(word_common_3840)):\n",
        "  top_3840_words.append(word_common_3840[i][0])\n",
        "  top_3840_frequency.append(word_common_3840[i][1])"
      ],
      "execution_count": 30,
      "outputs": []
    },
    {
      "cell_type": "code",
      "metadata": {
        "id": "aFRAPrd859Mx",
        "outputId": "dd10788e-1069-4e00-90af-ddb6218cfca4",
        "colab": {
          "base_uri": "https://localhost:8080/"
        }
      },
      "source": [
        "top_3840_words[:20]"
      ],
      "execution_count": 31,
      "outputs": [
        {
          "output_type": "execute_result",
          "data": {
            "text/plain": [
              "['food',\n",
              " 'place',\n",
              " 'good',\n",
              " 'service',\n",
              " 'great',\n",
              " 'back',\n",
              " 'like',\n",
              " 'go',\n",
              " 'time',\n",
              " 'really',\n",
              " 'best',\n",
              " 'would',\n",
              " 'ever',\n",
              " 'also',\n",
              " 'friendly',\n",
              " 'never',\n",
              " 'one',\n",
              " 'restaurant',\n",
              " 'nice',\n",
              " 'amazing']"
            ]
          },
          "metadata": {
            "tags": []
          },
          "execution_count": 31
        }
      ]
    },
    {
      "cell_type": "code",
      "metadata": {
        "id": "nsv6bkQ459G0",
        "outputId": "b9e53545-5056-4a03-b926-f80ea2f363dd",
        "colab": {
          "base_uri": "https://localhost:8080/"
        }
      },
      "source": [
        "top_3840_frequency[:20]"
      ],
      "execution_count": 32,
      "outputs": [
        {
          "output_type": "execute_result",
          "data": {
            "text/plain": [
              "[126,\n",
              " 106,\n",
              " 95,\n",
              " 85,\n",
              " 70,\n",
              " 61,\n",
              " 46,\n",
              " 44,\n",
              " 42,\n",
              " 36,\n",
              " 30,\n",
              " 29,\n",
              " 28,\n",
              " 27,\n",
              " 27,\n",
              " 26,\n",
              " 26,\n",
              " 25,\n",
              " 25,\n",
              " 24]"
            ]
          },
          "metadata": {
            "tags": []
          },
          "execution_count": 32
        }
      ]
    },
    {
      "cell_type": "code",
      "metadata": {
        "id": "SMhwAQ19Hfmh"
      },
      "source": [
        "pol_3840_words = [ ]\n",
        "for i in top_3840_words:\n",
        "   pol_3840_words.append(i.polarity)"
      ],
      "execution_count": 33,
      "outputs": []
    },
    {
      "cell_type": "code",
      "metadata": {
        "id": "dAJwGoqVHfpH"
      },
      "source": [
        "pol_freq = Counter(pol_3840_words)"
      ],
      "execution_count": 34,
      "outputs": []
    },
    {
      "cell_type": "code",
      "metadata": {
        "id": "ZaDHXReiHfsZ",
        "outputId": "cd8aed29-0003-4853-d245-d77d30e7a914",
        "colab": {
          "base_uri": "https://localhost:8080/"
        }
      },
      "source": [
        "pol_freq"
      ],
      "execution_count": 35,
      "outputs": [
        {
          "output_type": "execute_result",
          "data": {
            "text/plain": [
              "Counter({-1: 165, 0: 1559, 1: 167})"
            ]
          },
          "metadata": {
            "tags": []
          },
          "execution_count": 35
        }
      ]
    },
    {
      "cell_type": "markdown",
      "metadata": {
        "id": "vYlGCkDtIrZy"
      },
      "source": [
        "As we can see the restaurant reviews has equal amount of negative(-1) as well as positive(1) reviews "
      ]
    },
    {
      "cell_type": "markdown",
      "metadata": {
        "id": "zyd61Jksb4Xc"
      },
      "source": [
        "## (2) (10 points) Compare the performance of the following tools in sentiment identification: TextBlob (https://textblob.readthedocs.io/en/dev/), VADER (https://github.com/cjhutto/vaderSentiment), TFIDF-based Support Vector Machine (SVM) (Split your data into training and testing data). Take your own annotation as the standard answers. \n",
        "\n",
        "Reference code: https://towardsdatascience.com/fine-grained-sentiment-analysis-in-python-part-1-2697bb111ed4"
      ]
    },
    {
      "cell_type": "code",
      "metadata": {
        "id": "Uf3GQJanb4Xc"
      },
      "source": [
        "# Write your code here\n",
        "\n",
        "\n",
        "\n",
        "\n",
        "\n",
        "# Your analysis here\n",
        "\n"
      ],
      "execution_count": null,
      "outputs": []
    }
  ]
}
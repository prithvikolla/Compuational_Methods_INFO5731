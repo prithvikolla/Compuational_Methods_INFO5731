{
  "nbformat": 4,
  "nbformat_minor": 0,
  "metadata": {
    "colab": {
      "name": "semi-supervised_train9.ipynb",
      "provenance": []
    },
    "kernelspec": {
      "name": "python3",
      "display_name": "Python 3"
    }
  },
  "cells": [
    {
      "cell_type": "code",
      "metadata": {
        "colab": {
          "base_uri": "https://localhost:8080/",
          "height": 204
        },
        "id": "CeaSkSwZ6KTK",
        "outputId": "f1c925c3-7de5-4591-f0a4-14c0b708b25a"
      },
      "source": [
        "import pandas as pd\n",
        "\n",
        "train =pd.read_csv('/content/train_data9.csv')\n",
        "train.head()"
      ],
      "execution_count": 1,
      "outputs": [
        {
          "output_type": "execute_result",
          "data": {
            "text/html": [
              "<div>\n",
              "<style scoped>\n",
              "    .dataframe tbody tr th:only-of-type {\n",
              "        vertical-align: middle;\n",
              "    }\n",
              "\n",
              "    .dataframe tbody tr th {\n",
              "        vertical-align: top;\n",
              "    }\n",
              "\n",
              "    .dataframe thead th {\n",
              "        text-align: right;\n",
              "    }\n",
              "</style>\n",
              "<table border=\"1\" class=\"dataframe\">\n",
              "  <thead>\n",
              "    <tr style=\"text-align: right;\">\n",
              "      <th></th>\n",
              "      <th>Unnamed: 0</th>\n",
              "      <th>Sentence</th>\n",
              "      <th>Target</th>\n",
              "    </tr>\n",
              "  </thead>\n",
              "  <tbody>\n",
              "    <tr>\n",
              "      <th>0</th>\n",
              "      <td>659</td>\n",
              "      <td>Appellant had stated to the officers that she ...</td>\n",
              "      <td>Invalid</td>\n",
              "    </tr>\n",
              "    <tr>\n",
              "      <th>1</th>\n",
              "      <td>3456</td>\n",
              "      <td>We shall discuss the facts more fully in conne...</td>\n",
              "      <td>Others</td>\n",
              "    </tr>\n",
              "    <tr>\n",
              "      <th>2</th>\n",
              "      <td>2043</td>\n",
              "      <td>â€œPerjury is a false statement, either writte...</td>\n",
              "      <td>Invalid</td>\n",
              "    </tr>\n",
              "    <tr>\n",
              "      <th>3</th>\n",
              "      <td>3344</td>\n",
              "      <td>The offense is felony theft by false pretext; ...</td>\n",
              "      <td>Issue</td>\n",
              "    </tr>\n",
              "    <tr>\n",
              "      <th>4</th>\n",
              "      <td>3231</td>\n",
              "      <td>Numerous contentions urging the commission of ...</td>\n",
              "      <td>Issue</td>\n",
              "    </tr>\n",
              "  </tbody>\n",
              "</table>\n",
              "</div>"
            ],
            "text/plain": [
              "   Unnamed: 0                                           Sentence   Target\n",
              "0         659  Appellant had stated to the officers that she ...  Invalid\n",
              "1        3456  We shall discuss the facts more fully in conne...   Others\n",
              "2        2043  â€œPerjury is a false statement, either writte...  Invalid\n",
              "3        3344  The offense is felony theft by false pretext; ...    Issue\n",
              "4        3231  Numerous contentions urging the commission of ...    Issue"
            ]
          },
          "metadata": {
            "tags": []
          },
          "execution_count": 1
        }
      ]
    },
    {
      "cell_type": "code",
      "metadata": {
        "colab": {
          "base_uri": "https://localhost:8080/"
        },
        "id": "BBo-JArJ794y",
        "outputId": "56048fe1-247c-405a-ae5d-3f52d28ec1e4"
      },
      "source": [
        "train['Target']=train['Target'].replace(['Rule/Law/holding'],'Rule/Law/Holding')\n",
        "train['Target']=train['Target'].replace(['Others'],'Invalid')\n",
        "train['Target'].unique()"
      ],
      "execution_count": 2,
      "outputs": [
        {
          "output_type": "execute_result",
          "data": {
            "text/plain": [
              "array(['Invalid', 'Issue', 'Analysis', 'Facts', 'Conclusion',\n",
              "       'Rule/Law/Holding'], dtype=object)"
            ]
          },
          "metadata": {
            "tags": []
          },
          "execution_count": 2
        }
      ]
    },
    {
      "cell_type": "code",
      "metadata": {
        "colab": {
          "base_uri": "https://localhost:8080/",
          "height": 455
        },
        "id": "XOlFP-Eg8toV",
        "outputId": "71cf3c25-621b-4a14-a0c2-a8049b218096"
      },
      "source": [
        "from imblearn.over_sampling import SMOTE\n",
        "from collections import Counter\n",
        "from matplotlib import pyplot\n",
        "from sklearn.preprocessing import LabelEncoder\n",
        "data = train.values\n",
        "\n",
        "\n",
        "# split into input and output elements\n",
        "X, y = data[:, :-1], data[:, -1]\n",
        "# label encode the target variable\n",
        "y = LabelEncoder().fit_transform(y)\n",
        "\n",
        "# summarize distribution\n",
        "counter = Counter(y)\n",
        "for k,v in counter.items():\n",
        "\tper = v / len(y) * 100\n",
        "\tprint('Class=%s, n=%d (%.3f%%)' % (k, v, per))\n",
        "# plot the distribution\n",
        "pyplot.bar(counter.keys(), counter.values())\n",
        "pyplot.show()"
      ],
      "execution_count": 3,
      "outputs": [
        {
          "output_type": "stream",
          "text": [
            "Class=3, n=549 (15.794%)\n",
            "Class=4, n=218 (6.272%)\n",
            "Class=0, n=520 (14.960%)\n",
            "Class=2, n=1770 (50.921%)\n",
            "Class=1, n=179 (5.150%)\n",
            "Class=5, n=240 (6.904%)\n"
          ],
          "name": "stdout"
        },
        {
          "output_type": "stream",
          "text": [
            "/usr/local/lib/python3.6/dist-packages/sklearn/externals/six.py:31: FutureWarning: The module is deprecated in version 0.21 and will be removed in version 0.23 since we've dropped support for Python 2.7. Please rely on the official version of six (https://pypi.org/project/six/).\n",
            "  \"(https://pypi.org/project/six/).\", FutureWarning)\n",
            "/usr/local/lib/python3.6/dist-packages/sklearn/utils/deprecation.py:144: FutureWarning: The sklearn.neighbors.base module is  deprecated in version 0.22 and will be removed in version 0.24. The corresponding classes / functions should instead be imported from sklearn.neighbors. Anything that cannot be imported from sklearn.neighbors is now part of the private API.\n",
            "  warnings.warn(message, FutureWarning)\n"
          ],
          "name": "stderr"
        },
        {
          "output_type": "display_data",
          "data": {
            "image/png": "[encoded data removed]",
            "text/plain": [
              "<Figure size 432x288 with 1 Axes>"
            ]
          },
          "metadata": {
            "tags": [],
            "needs_background": "light"
          }
        }
      ]
    },
    {
      "cell_type": "code",
      "metadata": {
        "colab": {
          "base_uri": "https://localhost:8080/"
        },
        "id": "_nsvkzGV890S",
        "outputId": "0c3af395-ccc3-492a-97f0-96ea8e974b1e"
      },
      "source": [
        "#cleaning\n",
        "import nltk\n",
        "import re\n",
        "import string\n",
        "nltk.download('stopwords')\n",
        "nltk.download('wordnet')\n",
        "stopword=nltk.corpus.stopwords.words('english')\n",
        "from nltk.stem import WordNetLemmatizer\n",
        "wl= WordNetLemmatizer()\n",
        "\n",
        "def clean_text(text):\n",
        "  text=\"\".join([word.lower() for word in text if word not in string.punctuation])\n",
        "  tokens = re.split('\\W+',text)\n",
        "  text = [wl.lemmatize(word) for word in tokens if word not in stopword]\n",
        "  return text"
      ],
      "execution_count": 4,
      "outputs": [
        {
          "output_type": "stream",
          "text": [
            "[nltk_data] Downloading package stopwords to /root/nltk_data...\n",
            "[nltk_data]   Package stopwords is already up-to-date!\n",
            "[nltk_data] Downloading package wordnet to /root/nltk_data...\n",
            "[nltk_data]   Package wordnet is already up-to-date!\n"
          ],
          "name": "stdout"
        }
      ]
    },
    {
      "cell_type": "code",
      "metadata": {
        "colab": {
          "base_uri": "https://localhost:8080/"
        },
        "id": "zNbansqa9DNS",
        "outputId": "7e704c81-39be-4c7b-f4e5-7a1989fc1f8f"
      },
      "source": [
        "from sklearn.feature_extraction.text import TfidfVectorizer\n",
        "\n",
        "tfidf_vect = TfidfVectorizer(analyzer = clean_text)\n",
        "X_tfidf = tfidf_vect.fit_transform(train['Sentence'])\n",
        "print(X_tfidf.shape)"
      ],
      "execution_count": 5,
      "outputs": [
        {
          "output_type": "stream",
          "text": [
            "(3476, 6492)\n"
          ],
          "name": "stdout"
        }
      ]
    },
    {
      "cell_type": "code",
      "metadata": {
        "colab": {
          "base_uri": "https://localhost:8080/"
        },
        "id": "XJuvXY8_RBa8",
        "outputId": "6803a04e-4ad1-4668-b9d6-3f784434d6b8"
      },
      "source": [
        "from sklearn.externals import joblib\n",
        "joblib.dump(tfidf_vect, '/content/tf_idf.pkl')"
      ],
      "execution_count": 6,
      "outputs": [
        {
          "output_type": "stream",
          "text": [
            "/usr/local/lib/python3.6/dist-packages/sklearn/externals/joblib/__init__.py:15: FutureWarning: sklearn.externals.joblib is deprecated in 0.21 and will be removed in 0.23. Please import this functionality directly from joblib, which can be installed with: pip install joblib. If this warning is raised when loading pickled models, you may need to re-serialize those models with scikit-learn 0.21+.\n",
            "  warnings.warn(msg, category=FutureWarning)\n"
          ],
          "name": "stderr"
        },
        {
          "output_type": "execute_result",
          "data": {
            "text/plain": [
              "['/content/tf_idf.pkl']"
            ]
          },
          "metadata": {
            "tags": []
          },
          "execution_count": 6
        }
      ]
    },
    {
      "cell_type": "code",
      "metadata": {
        "colab": {
          "base_uri": "https://localhost:8080/",
          "height": 253
        },
        "id": "INJSRbcq9HnX",
        "outputId": "392ee55a-b656-4d74-c385-4e7d4974a318"
      },
      "source": [
        "X_tfidf_df=pd.DataFrame(X_tfidf.toarray())\n",
        "X_tfidf_df.columns=tfidf_vect.get_feature_names()\n",
        "X_tfidf_df.head()"
      ],
      "execution_count": 7,
      "outputs": [
        {
          "output_type": "execute_result",
          "data": {
            "text/html": [
              "<div>\n",
              "<style scoped>\n",
              "    .dataframe tbody tr th:only-of-type {\n",
              "        vertical-align: middle;\n",
              "    }\n",
              "\n",
              "    .dataframe tbody tr th {\n",
              "        vertical-align: top;\n",
              "    }\n",
              "\n",
              "    .dataframe thead th {\n",
              "        text-align: right;\n",
              "    }\n",
              "</style>\n",
              "<table border=\"1\" class=\"dataframe\">\n",
              "  <thead>\n",
              "    <tr style=\"text-align: right;\">\n",
              "      <th></th>\n",
              "      <th></th>\n",
              "      <th>015</th>\n",
              "      <th>1</th>\n",
              "      <th>10</th>\n",
              "      <th>100</th>\n",
              "      <th>1000</th>\n",
              "      <th>10000</th>\n",
              "      <th>100000</th>\n",
              "      <th>10000000</th>\n",
              "      <th>1006</th>\n",
              "      <th>1008</th>\n",
              "      <th>1008a</th>\n",
              "      <th>101</th>\n",
              "      <th>1013</th>\n",
              "      <th>1015</th>\n",
              "      <th>102</th>\n",
              "      <th>1020</th>\n",
              "      <th>1026</th>\n",
              "      <th>104</th>\n",
              "      <th>1044</th>\n",
              "      <th>105</th>\n",
              "      <th>1056</th>\n",
              "      <th>1065</th>\n",
              "      <th>107</th>\n",
              "      <th>107c</th>\n",
              "      <th>1081</th>\n",
              "      <th>1084</th>\n",
              "      <th>1097</th>\n",
              "      <th>1099</th>\n",
              "      <th>10a</th>\n",
              "      <th>10acre</th>\n",
              "      <th>11</th>\n",
              "      <th>110</th>\n",
              "      <th>1102</th>\n",
              "      <th>1116</th>\n",
              "      <th>112</th>\n",
              "      <th>1120</th>\n",
              "      <th>113</th>\n",
              "      <th>1130</th>\n",
              "      <th>113637</th>\n",
              "      <th>...</th>\n",
              "      <th>œsuccessively</th>\n",
              "      <th>œswayingâ</th>\n",
              "      <th>œswollenâ</th>\n",
              "      <th>œtesting</th>\n",
              "      <th>œtestâ</th>\n",
              "      <th>œthat</th>\n",
              "      <th>œthatâ</th>\n",
              "      <th>œthe</th>\n",
              "      <th>œthere</th>\n",
              "      <th>œthey</th>\n",
              "      <th>œthick</th>\n",
              "      <th>œthis</th>\n",
              "      <th>œto</th>\n",
              "      <th>œtwo</th>\n",
              "      <th>œtwoâ</th>\n",
              "      <th>œunlawfully</th>\n",
              "      <th>œunlawfullyâ</th>\n",
              "      <th>œunless</th>\n",
              "      <th>œupon</th>\n",
              "      <th>œvagrancyâ</th>\n",
              "      <th>œvalue</th>\n",
              "      <th>œvery</th>\n",
              "      <th>œvisited</th>\n",
              "      <th>œwaived</th>\n",
              "      <th>œwalked</th>\n",
              "      <th>œwas</th>\n",
              "      <th>œwater</th>\n",
              "      <th>œwe</th>\n",
              "      <th>œwell</th>\n",
              "      <th>œwhat</th>\n",
              "      <th>œwhen</th>\n",
              "      <th>œwhere</th>\n",
              "      <th>œwhile</th>\n",
              "      <th>œwhisky</th>\n",
              "      <th>œwhoever</th>\n",
              "      <th>œwilfullyâ</th>\n",
              "      <th>œwillfullyâ</th>\n",
              "      <th>œyesâ</th>\n",
              "      <th>œyou</th>\n",
              "      <th>œyour</th>\n",
              "    </tr>\n",
              "  </thead>\n",
              "  <tbody>\n",
              "    <tr>\n",
              "      <th>0</th>\n",
              "      <td>0.133946</td>\n",
              "      <td>0.0</td>\n",
              "      <td>0.0</td>\n",
              "      <td>0.0</td>\n",
              "      <td>0.0</td>\n",
              "      <td>0.0</td>\n",
              "      <td>0.0</td>\n",
              "      <td>0.0</td>\n",
              "      <td>0.0</td>\n",
              "      <td>0.0</td>\n",
              "      <td>0.0</td>\n",
              "      <td>0.0</td>\n",
              "      <td>0.0</td>\n",
              "      <td>0.0</td>\n",
              "      <td>0.0</td>\n",
              "      <td>0.0</td>\n",
              "      <td>0.0</td>\n",
              "      <td>0.0</td>\n",
              "      <td>0.0</td>\n",
              "      <td>0.0</td>\n",
              "      <td>0.0</td>\n",
              "      <td>0.0</td>\n",
              "      <td>0.0</td>\n",
              "      <td>0.0</td>\n",
              "      <td>0.0</td>\n",
              "      <td>0.0</td>\n",
              "      <td>0.0</td>\n",
              "      <td>0.0</td>\n",
              "      <td>0.0</td>\n",
              "      <td>0.0</td>\n",
              "      <td>0.0</td>\n",
              "      <td>0.0</td>\n",
              "      <td>0.0</td>\n",
              "      <td>0.0</td>\n",
              "      <td>0.0</td>\n",
              "      <td>0.0</td>\n",
              "      <td>0.0</td>\n",
              "      <td>0.0</td>\n",
              "      <td>0.0</td>\n",
              "      <td>0.0</td>\n",
              "      <td>...</td>\n",
              "      <td>0.0</td>\n",
              "      <td>0.0</td>\n",
              "      <td>0.0</td>\n",
              "      <td>0.0</td>\n",
              "      <td>0.0</td>\n",
              "      <td>0.0</td>\n",
              "      <td>0.0</td>\n",
              "      <td>0.0</td>\n",
              "      <td>0.0</td>\n",
              "      <td>0.0</td>\n",
              "      <td>0.0</td>\n",
              "      <td>0.0</td>\n",
              "      <td>0.0</td>\n",
              "      <td>0.0</td>\n",
              "      <td>0.0</td>\n",
              "      <td>0.0</td>\n",
              "      <td>0.0</td>\n",
              "      <td>0.0</td>\n",
              "      <td>0.0</td>\n",
              "      <td>0.0</td>\n",
              "      <td>0.0</td>\n",
              "      <td>0.0</td>\n",
              "      <td>0.0</td>\n",
              "      <td>0.0</td>\n",
              "      <td>0.0</td>\n",
              "      <td>0.0</td>\n",
              "      <td>0.0</td>\n",
              "      <td>0.0</td>\n",
              "      <td>0.0</td>\n",
              "      <td>0.0</td>\n",
              "      <td>0.0</td>\n",
              "      <td>0.0</td>\n",
              "      <td>0.0</td>\n",
              "      <td>0.0</td>\n",
              "      <td>0.0</td>\n",
              "      <td>0.0</td>\n",
              "      <td>0.0</td>\n",
              "      <td>0.0</td>\n",
              "      <td>0.0</td>\n",
              "      <td>0.0</td>\n",
              "    </tr>\n",
              "    <tr>\n",
              "      <th>1</th>\n",
              "      <td>0.000000</td>\n",
              "      <td>0.0</td>\n",
              "      <td>0.0</td>\n",
              "      <td>0.0</td>\n",
              "      <td>0.0</td>\n",
              "      <td>0.0</td>\n",
              "      <td>0.0</td>\n",
              "      <td>0.0</td>\n",
              "      <td>0.0</td>\n",
              "      <td>0.0</td>\n",
              "      <td>0.0</td>\n",
              "      <td>0.0</td>\n",
              "      <td>0.0</td>\n",
              "      <td>0.0</td>\n",
              "      <td>0.0</td>\n",
              "      <td>0.0</td>\n",
              "      <td>0.0</td>\n",
              "      <td>0.0</td>\n",
              "      <td>0.0</td>\n",
              "      <td>0.0</td>\n",
              "      <td>0.0</td>\n",
              "      <td>0.0</td>\n",
              "      <td>0.0</td>\n",
              "      <td>0.0</td>\n",
              "      <td>0.0</td>\n",
              "      <td>0.0</td>\n",
              "      <td>0.0</td>\n",
              "      <td>0.0</td>\n",
              "      <td>0.0</td>\n",
              "      <td>0.0</td>\n",
              "      <td>0.0</td>\n",
              "      <td>0.0</td>\n",
              "      <td>0.0</td>\n",
              "      <td>0.0</td>\n",
              "      <td>0.0</td>\n",
              "      <td>0.0</td>\n",
              "      <td>0.0</td>\n",
              "      <td>0.0</td>\n",
              "      <td>0.0</td>\n",
              "      <td>0.0</td>\n",
              "      <td>...</td>\n",
              "      <td>0.0</td>\n",
              "      <td>0.0</td>\n",
              "      <td>0.0</td>\n",
              "      <td>0.0</td>\n",
              "      <td>0.0</td>\n",
              "      <td>0.0</td>\n",
              "      <td>0.0</td>\n",
              "      <td>0.0</td>\n",
              "      <td>0.0</td>\n",
              "      <td>0.0</td>\n",
              "      <td>0.0</td>\n",
              "      <td>0.0</td>\n",
              "      <td>0.0</td>\n",
              "      <td>0.0</td>\n",
              "      <td>0.0</td>\n",
              "      <td>0.0</td>\n",
              "      <td>0.0</td>\n",
              "      <td>0.0</td>\n",
              "      <td>0.0</td>\n",
              "      <td>0.0</td>\n",
              "      <td>0.0</td>\n",
              "      <td>0.0</td>\n",
              "      <td>0.0</td>\n",
              "      <td>0.0</td>\n",
              "      <td>0.0</td>\n",
              "      <td>0.0</td>\n",
              "      <td>0.0</td>\n",
              "      <td>0.0</td>\n",
              "      <td>0.0</td>\n",
              "      <td>0.0</td>\n",
              "      <td>0.0</td>\n",
              "      <td>0.0</td>\n",
              "      <td>0.0</td>\n",
              "      <td>0.0</td>\n",
              "      <td>0.0</td>\n",
              "      <td>0.0</td>\n",
              "      <td>0.0</td>\n",
              "      <td>0.0</td>\n",
              "      <td>0.0</td>\n",
              "      <td>0.0</td>\n",
              "    </tr>\n",
              "    <tr>\n",
              "      <th>2</th>\n",
              "      <td>0.000000</td>\n",
              "      <td>0.0</td>\n",
              "      <td>0.0</td>\n",
              "      <td>0.0</td>\n",
              "      <td>0.0</td>\n",
              "      <td>0.0</td>\n",
              "      <td>0.0</td>\n",
              "      <td>0.0</td>\n",
              "      <td>0.0</td>\n",
              "      <td>0.0</td>\n",
              "      <td>0.0</td>\n",
              "      <td>0.0</td>\n",
              "      <td>0.0</td>\n",
              "      <td>0.0</td>\n",
              "      <td>0.0</td>\n",
              "      <td>0.0</td>\n",
              "      <td>0.0</td>\n",
              "      <td>0.0</td>\n",
              "      <td>0.0</td>\n",
              "      <td>0.0</td>\n",
              "      <td>0.0</td>\n",
              "      <td>0.0</td>\n",
              "      <td>0.0</td>\n",
              "      <td>0.0</td>\n",
              "      <td>0.0</td>\n",
              "      <td>0.0</td>\n",
              "      <td>0.0</td>\n",
              "      <td>0.0</td>\n",
              "      <td>0.0</td>\n",
              "      <td>0.0</td>\n",
              "      <td>0.0</td>\n",
              "      <td>0.0</td>\n",
              "      <td>0.0</td>\n",
              "      <td>0.0</td>\n",
              "      <td>0.0</td>\n",
              "      <td>0.0</td>\n",
              "      <td>0.0</td>\n",
              "      <td>0.0</td>\n",
              "      <td>0.0</td>\n",
              "      <td>0.0</td>\n",
              "      <td>...</td>\n",
              "      <td>0.0</td>\n",
              "      <td>0.0</td>\n",
              "      <td>0.0</td>\n",
              "      <td>0.0</td>\n",
              "      <td>0.0</td>\n",
              "      <td>0.0</td>\n",
              "      <td>0.0</td>\n",
              "      <td>0.0</td>\n",
              "      <td>0.0</td>\n",
              "      <td>0.0</td>\n",
              "      <td>0.0</td>\n",
              "      <td>0.0</td>\n",
              "      <td>0.0</td>\n",
              "      <td>0.0</td>\n",
              "      <td>0.0</td>\n",
              "      <td>0.0</td>\n",
              "      <td>0.0</td>\n",
              "      <td>0.0</td>\n",
              "      <td>0.0</td>\n",
              "      <td>0.0</td>\n",
              "      <td>0.0</td>\n",
              "      <td>0.0</td>\n",
              "      <td>0.0</td>\n",
              "      <td>0.0</td>\n",
              "      <td>0.0</td>\n",
              "      <td>0.0</td>\n",
              "      <td>0.0</td>\n",
              "      <td>0.0</td>\n",
              "      <td>0.0</td>\n",
              "      <td>0.0</td>\n",
              "      <td>0.0</td>\n",
              "      <td>0.0</td>\n",
              "      <td>0.0</td>\n",
              "      <td>0.0</td>\n",
              "      <td>0.0</td>\n",
              "      <td>0.0</td>\n",
              "      <td>0.0</td>\n",
              "      <td>0.0</td>\n",
              "      <td>0.0</td>\n",
              "      <td>0.0</td>\n",
              "    </tr>\n",
              "    <tr>\n",
              "      <th>3</th>\n",
              "      <td>0.000000</td>\n",
              "      <td>0.0</td>\n",
              "      <td>0.0</td>\n",
              "      <td>0.0</td>\n",
              "      <td>0.0</td>\n",
              "      <td>0.0</td>\n",
              "      <td>0.0</td>\n",
              "      <td>0.0</td>\n",
              "      <td>0.0</td>\n",
              "      <td>0.0</td>\n",
              "      <td>0.0</td>\n",
              "      <td>0.0</td>\n",
              "      <td>0.0</td>\n",
              "      <td>0.0</td>\n",
              "      <td>0.0</td>\n",
              "      <td>0.0</td>\n",
              "      <td>0.0</td>\n",
              "      <td>0.0</td>\n",
              "      <td>0.0</td>\n",
              "      <td>0.0</td>\n",
              "      <td>0.0</td>\n",
              "      <td>0.0</td>\n",
              "      <td>0.0</td>\n",
              "      <td>0.0</td>\n",
              "      <td>0.0</td>\n",
              "      <td>0.0</td>\n",
              "      <td>0.0</td>\n",
              "      <td>0.0</td>\n",
              "      <td>0.0</td>\n",
              "      <td>0.0</td>\n",
              "      <td>0.0</td>\n",
              "      <td>0.0</td>\n",
              "      <td>0.0</td>\n",
              "      <td>0.0</td>\n",
              "      <td>0.0</td>\n",
              "      <td>0.0</td>\n",
              "      <td>0.0</td>\n",
              "      <td>0.0</td>\n",
              "      <td>0.0</td>\n",
              "      <td>0.0</td>\n",
              "      <td>...</td>\n",
              "      <td>0.0</td>\n",
              "      <td>0.0</td>\n",
              "      <td>0.0</td>\n",
              "      <td>0.0</td>\n",
              "      <td>0.0</td>\n",
              "      <td>0.0</td>\n",
              "      <td>0.0</td>\n",
              "      <td>0.0</td>\n",
              "      <td>0.0</td>\n",
              "      <td>0.0</td>\n",
              "      <td>0.0</td>\n",
              "      <td>0.0</td>\n",
              "      <td>0.0</td>\n",
              "      <td>0.0</td>\n",
              "      <td>0.0</td>\n",
              "      <td>0.0</td>\n",
              "      <td>0.0</td>\n",
              "      <td>0.0</td>\n",
              "      <td>0.0</td>\n",
              "      <td>0.0</td>\n",
              "      <td>0.0</td>\n",
              "      <td>0.0</td>\n",
              "      <td>0.0</td>\n",
              "      <td>0.0</td>\n",
              "      <td>0.0</td>\n",
              "      <td>0.0</td>\n",
              "      <td>0.0</td>\n",
              "      <td>0.0</td>\n",
              "      <td>0.0</td>\n",
              "      <td>0.0</td>\n",
              "      <td>0.0</td>\n",
              "      <td>0.0</td>\n",
              "      <td>0.0</td>\n",
              "      <td>0.0</td>\n",
              "      <td>0.0</td>\n",
              "      <td>0.0</td>\n",
              "      <td>0.0</td>\n",
              "      <td>0.0</td>\n",
              "      <td>0.0</td>\n",
              "      <td>0.0</td>\n",
              "    </tr>\n",
              "    <tr>\n",
              "      <th>4</th>\n",
              "      <td>0.000000</td>\n",
              "      <td>0.0</td>\n",
              "      <td>0.0</td>\n",
              "      <td>0.0</td>\n",
              "      <td>0.0</td>\n",
              "      <td>0.0</td>\n",
              "      <td>0.0</td>\n",
              "      <td>0.0</td>\n",
              "      <td>0.0</td>\n",
              "      <td>0.0</td>\n",
              "      <td>0.0</td>\n",
              "      <td>0.0</td>\n",
              "      <td>0.0</td>\n",
              "      <td>0.0</td>\n",
              "      <td>0.0</td>\n",
              "      <td>0.0</td>\n",
              "      <td>0.0</td>\n",
              "      <td>0.0</td>\n",
              "      <td>0.0</td>\n",
              "      <td>0.0</td>\n",
              "      <td>0.0</td>\n",
              "      <td>0.0</td>\n",
              "      <td>0.0</td>\n",
              "      <td>0.0</td>\n",
              "      <td>0.0</td>\n",
              "      <td>0.0</td>\n",
              "      <td>0.0</td>\n",
              "      <td>0.0</td>\n",
              "      <td>0.0</td>\n",
              "      <td>0.0</td>\n",
              "      <td>0.0</td>\n",
              "      <td>0.0</td>\n",
              "      <td>0.0</td>\n",
              "      <td>0.0</td>\n",
              "      <td>0.0</td>\n",
              "      <td>0.0</td>\n",
              "      <td>0.0</td>\n",
              "      <td>0.0</td>\n",
              "      <td>0.0</td>\n",
              "      <td>0.0</td>\n",
              "      <td>...</td>\n",
              "      <td>0.0</td>\n",
              "      <td>0.0</td>\n",
              "      <td>0.0</td>\n",
              "      <td>0.0</td>\n",
              "      <td>0.0</td>\n",
              "      <td>0.0</td>\n",
              "      <td>0.0</td>\n",
              "      <td>0.0</td>\n",
              "      <td>0.0</td>\n",
              "      <td>0.0</td>\n",
              "      <td>0.0</td>\n",
              "      <td>0.0</td>\n",
              "      <td>0.0</td>\n",
              "      <td>0.0</td>\n",
              "      <td>0.0</td>\n",
              "      <td>0.0</td>\n",
              "      <td>0.0</td>\n",
              "      <td>0.0</td>\n",
              "      <td>0.0</td>\n",
              "      <td>0.0</td>\n",
              "      <td>0.0</td>\n",
              "      <td>0.0</td>\n",
              "      <td>0.0</td>\n",
              "      <td>0.0</td>\n",
              "      <td>0.0</td>\n",
              "      <td>0.0</td>\n",
              "      <td>0.0</td>\n",
              "      <td>0.0</td>\n",
              "      <td>0.0</td>\n",
              "      <td>0.0</td>\n",
              "      <td>0.0</td>\n",
              "      <td>0.0</td>\n",
              "      <td>0.0</td>\n",
              "      <td>0.0</td>\n",
              "      <td>0.0</td>\n",
              "      <td>0.0</td>\n",
              "      <td>0.0</td>\n",
              "      <td>0.0</td>\n",
              "      <td>0.0</td>\n",
              "      <td>0.0</td>\n",
              "    </tr>\n",
              "  </tbody>\n",
              "</table>\n",
              "<p>5 rows × 6492 columns</p>\n",
              "</div>"
            ],
            "text/plain": [
              "             015    1   10  100  ...  œwilfullyâ  œwillfullyâ  œyesâ  œyou  œyour\n",
              "0  0.133946  0.0  0.0  0.0  0.0  ...         0.0          0.0    0.0   0.0    0.0\n",
              "1  0.000000  0.0  0.0  0.0  0.0  ...         0.0          0.0    0.0   0.0    0.0\n",
              "2  0.000000  0.0  0.0  0.0  0.0  ...         0.0          0.0    0.0   0.0    0.0\n",
              "3  0.000000  0.0  0.0  0.0  0.0  ...         0.0          0.0    0.0   0.0    0.0\n",
              "4  0.000000  0.0  0.0  0.0  0.0  ...         0.0          0.0    0.0   0.0    0.0\n",
              "\n",
              "[5 rows x 6492 columns]"
            ]
          },
          "metadata": {
            "tags": []
          },
          "execution_count": 7
        }
      ]
    },
    {
      "cell_type": "code",
      "metadata": {
        "colab": {
          "base_uri": "https://localhost:8080/",
          "height": 557
        },
        "id": "RLL8H20M9jIq",
        "outputId": "806822e4-114d-458a-cccc-af51a4b73a35"
      },
      "source": [
        "from imblearn.over_sampling import SMOTE\n",
        "oversample = SMOTE(random_state=777,k_neighbors=5)\n",
        "X, y = oversample.fit_resample(X_tfidf_df, train['Target'])\n",
        "# summarize distribution\n",
        "counter = Counter(y)\n",
        "for k,v in counter.items():\n",
        "\tper = v / len(y) * 100\n",
        "\tprint('Class=%s, n=%d (%.3f%%)' % (k, v, per))\n",
        "# plot the distribution\n",
        "pyplot.bar(counter.keys(), counter.values())\n",
        "pyplot.show()"
      ],
      "execution_count": 8,
      "outputs": [
        {
          "output_type": "stream",
          "text": [
            "/usr/local/lib/python3.6/dist-packages/sklearn/utils/deprecation.py:87: FutureWarning: Function safe_indexing is deprecated; safe_indexing is deprecated in version 0.22 and will be removed in version 0.24.\n",
            "  warnings.warn(msg, category=FutureWarning)\n",
            "/usr/local/lib/python3.6/dist-packages/sklearn/utils/deprecation.py:87: FutureWarning: Function safe_indexing is deprecated; safe_indexing is deprecated in version 0.22 and will be removed in version 0.24.\n",
            "  warnings.warn(msg, category=FutureWarning)\n",
            "/usr/local/lib/python3.6/dist-packages/sklearn/utils/deprecation.py:87: FutureWarning: Function safe_indexing is deprecated; safe_indexing is deprecated in version 0.22 and will be removed in version 0.24.\n",
            "  warnings.warn(msg, category=FutureWarning)\n",
            "/usr/local/lib/python3.6/dist-packages/sklearn/utils/deprecation.py:87: FutureWarning: Function safe_indexing is deprecated; safe_indexing is deprecated in version 0.22 and will be removed in version 0.24.\n",
            "  warnings.warn(msg, category=FutureWarning)\n",
            "/usr/local/lib/python3.6/dist-packages/sklearn/utils/deprecation.py:87: FutureWarning: Function safe_indexing is deprecated; safe_indexing is deprecated in version 0.22 and will be removed in version 0.24.\n",
            "  warnings.warn(msg, category=FutureWarning)\n"
          ],
          "name": "stderr"
        },
        {
          "output_type": "stream",
          "text": [
            "Class=Invalid, n=1770 (16.667%)\n",
            "Class=Issue, n=1770 (16.667%)\n",
            "Class=Analysis, n=1770 (16.667%)\n",
            "Class=Facts, n=1770 (16.667%)\n",
            "Class=Conclusion, n=1770 (16.667%)\n",
            "Class=Rule/Law/Holding, n=1770 (16.667%)\n"
          ],
          "name": "stdout"
        },
        {
          "output_type": "display_data",
          "data": {
            "image/png": "[encoded data removed]",
            "text/plain": [
              "<Figure size 432x288 with 1 Axes>"
            ]
          },
          "metadata": {
            "tags": [],
            "needs_background": "light"
          }
        }
      ]
    },
    {
      "cell_type": "code",
      "metadata": {
        "colab": {
          "base_uri": "https://localhost:8080/"
        },
        "id": "8PzOR7a49wjN",
        "outputId": "89915eca-d1ef-4e20-a7a7-ab22c4e4e012"
      },
      "source": [
        "#using smote and stochastic gradient boosting\n",
        "from sklearn.model_selection import train_test_split\n",
        "from sklearn.linear_model import SGDClassifier\n",
        "from sklearn.metrics import accuracy_score\n",
        "from sklearn.metrics import classification_report\n",
        "\n",
        "\n",
        "X_train, x_test, Y_train, y_test = train_test_split(X,y,test_size=0.27,random_state=2)\n",
        "sgd = SGDClassifier(max_iter=1000, tol=1e-3)\n",
        "sgd.fit(X_train, Y_train)\n",
        "pred_sgd = sgd.predict(x_test)\n",
        "print('Accuracy %s' % accuracy_score(pred_sgd,y_test))\n",
        "print(classification_report(y_test,pred_sgd))"
      ],
      "execution_count": 9,
      "outputs": [
        {
          "output_type": "stream",
          "text": [
            "Accuracy 0.9170153417015342\n",
            "                  precision    recall  f1-score   support\n",
            "\n",
            "        Analysis       0.88      0.92      0.90       474\n",
            "      Conclusion       0.94      0.99      0.97       463\n",
            "           Facts       0.89      0.75      0.81       475\n",
            "         Invalid       0.89      0.87      0.88       480\n",
            "           Issue       0.97      0.99      0.98       477\n",
            "Rule/Law/Holding       0.93      0.99      0.96       499\n",
            "\n",
            "        accuracy                           0.92      2868\n",
            "       macro avg       0.92      0.92      0.92      2868\n",
            "    weighted avg       0.92      0.92      0.92      2868\n",
            "\n"
          ],
          "name": "stdout"
        }
      ]
    },
    {
      "cell_type": "code",
      "metadata": {
        "colab": {
          "base_uri": "https://localhost:8080/",
          "height": 204
        },
        "id": "tuWVF624-YJf",
        "outputId": "6d7be728-620d-485d-f678-a8eccdcdaabc"
      },
      "source": [
        "unlabel = pd.read_csv(r'/content/Unlabeled_data.csv')\n",
        "unlabel.head()"
      ],
      "execution_count": 10,
      "outputs": [
        {
          "output_type": "execute_result",
          "data": {
            "text/html": [
              "<div>\n",
              "<style scoped>\n",
              "    .dataframe tbody tr th:only-of-type {\n",
              "        vertical-align: middle;\n",
              "    }\n",
              "\n",
              "    .dataframe tbody tr th {\n",
              "        vertical-align: top;\n",
              "    }\n",
              "\n",
              "    .dataframe thead th {\n",
              "        text-align: right;\n",
              "    }\n",
              "</style>\n",
              "<table border=\"1\" class=\"dataframe\">\n",
              "  <thead>\n",
              "    <tr style=\"text-align: right;\">\n",
              "      <th></th>\n",
              "      <th>Unnamed: 0</th>\n",
              "      <th>text</th>\n",
              "      <th>Complete</th>\n",
              "    </tr>\n",
              "  </thead>\n",
              "  <tbody>\n",
              "    <tr>\n",
              "      <th>0</th>\n",
              "      <td>0</td>\n",
              "      <td>No motion for rehearing filed.</td>\n",
              "      <td>1</td>\n",
              "    </tr>\n",
              "    <tr>\n",
              "      <th>1</th>\n",
              "      <td>1</td>\n",
              "      <td>— Relator is under accusation of killing her h...</td>\n",
              "      <td>1</td>\n",
              "    </tr>\n",
              "    <tr>\n",
              "      <th>2</th>\n",
              "      <td>2</td>\n",
              "      <td>From an order of the District Judge of the 39t...</td>\n",
              "      <td>1</td>\n",
              "    </tr>\n",
              "    <tr>\n",
              "      <th>3</th>\n",
              "      <td>3</td>\n",
              "      <td>Relator and her husband had been married for a...</td>\n",
              "      <td>1</td>\n",
              "    </tr>\n",
              "    <tr>\n",
              "      <th>4</th>\n",
              "      <td>4</td>\n",
              "      <td>The evidence indicates that their family relat...</td>\n",
              "      <td>1</td>\n",
              "    </tr>\n",
              "  </tbody>\n",
              "</table>\n",
              "</div>"
            ],
            "text/plain": [
              "   Unnamed: 0                                               text  Complete\n",
              "0           0                     No motion for rehearing filed.         1\n",
              "1           1  — Relator is under accusation of killing her h...         1\n",
              "2           2  From an order of the District Judge of the 39t...         1\n",
              "3           3  Relator and her husband had been married for a...         1\n",
              "4           4  The evidence indicates that their family relat...         1"
            ]
          },
          "metadata": {
            "tags": []
          },
          "execution_count": 10
        }
      ]
    },
    {
      "cell_type": "code",
      "metadata": {
        "id": "wwf52DRu_3Fp"
      },
      "source": [
        "del unlabel['Complete']"
      ],
      "execution_count": 11,
      "outputs": []
    },
    {
      "cell_type": "code",
      "metadata": {
        "id": "XN-T8CY0_tfB"
      },
      "source": [
        "del unlabel['Unnamed: 0']"
      ],
      "execution_count": 12,
      "outputs": []
    },
    {
      "cell_type": "code",
      "metadata": {
        "colab": {
          "base_uri": "https://localhost:8080/",
          "height": 204
        },
        "id": "RH2FH87z_7ri",
        "outputId": "929a42a0-a5a4-4d1c-d873-ef0177efd17a"
      },
      "source": [
        "unlabel.head()"
      ],
      "execution_count": 13,
      "outputs": [
        {
          "output_type": "execute_result",
          "data": {
            "text/html": [
              "<div>\n",
              "<style scoped>\n",
              "    .dataframe tbody tr th:only-of-type {\n",
              "        vertical-align: middle;\n",
              "    }\n",
              "\n",
              "    .dataframe tbody tr th {\n",
              "        vertical-align: top;\n",
              "    }\n",
              "\n",
              "    .dataframe thead th {\n",
              "        text-align: right;\n",
              "    }\n",
              "</style>\n",
              "<table border=\"1\" class=\"dataframe\">\n",
              "  <thead>\n",
              "    <tr style=\"text-align: right;\">\n",
              "      <th></th>\n",
              "      <th>text</th>\n",
              "    </tr>\n",
              "  </thead>\n",
              "  <tbody>\n",
              "    <tr>\n",
              "      <th>0</th>\n",
              "      <td>No motion for rehearing filed.</td>\n",
              "    </tr>\n",
              "    <tr>\n",
              "      <th>1</th>\n",
              "      <td>— Relator is under accusation of killing her h...</td>\n",
              "    </tr>\n",
              "    <tr>\n",
              "      <th>2</th>\n",
              "      <td>From an order of the District Judge of the 39t...</td>\n",
              "    </tr>\n",
              "    <tr>\n",
              "      <th>3</th>\n",
              "      <td>Relator and her husband had been married for a...</td>\n",
              "    </tr>\n",
              "    <tr>\n",
              "      <th>4</th>\n",
              "      <td>The evidence indicates that their family relat...</td>\n",
              "    </tr>\n",
              "  </tbody>\n",
              "</table>\n",
              "</div>"
            ],
            "text/plain": [
              "                                                text\n",
              "0                     No motion for rehearing filed.\n",
              "1  — Relator is under accusation of killing her h...\n",
              "2  From an order of the District Judge of the 39t...\n",
              "3  Relator and her husband had been married for a...\n",
              "4  The evidence indicates that their family relat..."
            ]
          },
          "metadata": {
            "tags": []
          },
          "execution_count": 13
        }
      ]
    },
    {
      "cell_type": "code",
      "metadata": {
        "id": "KhYsHgMfACoc"
      },
      "source": [
        "unlabel['text'] = unlabel['text'].apply(lambda x: \" \".join(x.lower() for x in str(x).split()))\n",
        "unlabel['text'] = unlabel['text'].str.replace('[^\\w\\s]','')\n",
        "from nltk.corpus import stopwords\n",
        "words = stopwords.words('english')\n",
        "unlabel['text'] = unlabel['text'].apply(lambda x: \" \".join(x for x in x.split() if x not in words))\n"
      ],
      "execution_count": 14,
      "outputs": []
    },
    {
      "cell_type": "code",
      "metadata": {
        "colab": {
          "base_uri": "https://localhost:8080/"
        },
        "id": "Je5VWORvEO-p",
        "outputId": "961157e0-c02f-4c7b-b58e-fc63091b984c"
      },
      "source": [
        "from textblob import TextBlob\n",
        "from textblob import Word\n",
        "nltk.download('wordnet')\n",
        "nltk.download('punkt')\n",
        "unlabel['text'] = unlabel['text'].apply(lambda x: TextBlob(x).words)\n",
        "unlabel['text'] = unlabel['text'].apply(lambda x: \" \".join([Word(word).lemmatize() for word in x]))"
      ],
      "execution_count": 15,
      "outputs": [
        {
          "output_type": "stream",
          "text": [
            "[nltk_data] Downloading package wordnet to /root/nltk_data...\n",
            "[nltk_data]   Package wordnet is already up-to-date!\n",
            "[nltk_data] Downloading package punkt to /root/nltk_data...\n",
            "[nltk_data]   Package punkt is already up-to-date!\n"
          ],
          "name": "stdout"
        }
      ]
    },
    {
      "cell_type": "code",
      "metadata": {
        "colab": {
          "base_uri": "https://localhost:8080/",
          "height": 204
        },
        "id": "F9zFVnb7FlzC",
        "outputId": "fa4e121b-859a-4d0c-beb8-07ec585fe3c1"
      },
      "source": [
        "unlabel.head()"
      ],
      "execution_count": 16,
      "outputs": [
        {
          "output_type": "execute_result",
          "data": {
            "text/html": [
              "<div>\n",
              "<style scoped>\n",
              "    .dataframe tbody tr th:only-of-type {\n",
              "        vertical-align: middle;\n",
              "    }\n",
              "\n",
              "    .dataframe tbody tr th {\n",
              "        vertical-align: top;\n",
              "    }\n",
              "\n",
              "    .dataframe thead th {\n",
              "        text-align: right;\n",
              "    }\n",
              "</style>\n",
              "<table border=\"1\" class=\"dataframe\">\n",
              "  <thead>\n",
              "    <tr style=\"text-align: right;\">\n",
              "      <th></th>\n",
              "      <th>text</th>\n",
              "    </tr>\n",
              "  </thead>\n",
              "  <tbody>\n",
              "    <tr>\n",
              "      <th>0</th>\n",
              "      <td>motion rehearing filed</td>\n",
              "    </tr>\n",
              "    <tr>\n",
              "      <th>1</th>\n",
              "      <td>relator accusation killing husband virgil clark</td>\n",
              "    </tr>\n",
              "    <tr>\n",
              "      <th>2</th>\n",
              "      <td>order district judge 39th judicial district re...</td>\n",
              "    </tr>\n",
              "    <tr>\n",
              "      <th>3</th>\n",
              "      <td>relator husband married number year</td>\n",
              "    </tr>\n",
              "    <tr>\n",
              "      <th>4</th>\n",
              "      <td>evidence indicates family relation always plea...</td>\n",
              "    </tr>\n",
              "  </tbody>\n",
              "</table>\n",
              "</div>"
            ],
            "text/plain": [
              "                                                text\n",
              "0                             motion rehearing filed\n",
              "1    relator accusation killing husband virgil clark\n",
              "2  order district judge 39th judicial district re...\n",
              "3                relator husband married number year\n",
              "4  evidence indicates family relation always plea..."
            ]
          },
          "metadata": {
            "tags": []
          },
          "execution_count": 16
        }
      ]
    },
    {
      "cell_type": "code",
      "metadata": {
        "colab": {
          "base_uri": "https://localhost:8080/"
        },
        "id": "50QZxVIaFqj5",
        "outputId": "0055d80f-afb6-47e6-c994-c84f9be368b4"
      },
      "source": [
        "len(unlabel)"
      ],
      "execution_count": 17,
      "outputs": [
        {
          "output_type": "execute_result",
          "data": {
            "text/plain": [
              "537703"
            ]
          },
          "metadata": {
            "tags": []
          },
          "execution_count": 17
        }
      ]
    },
    {
      "cell_type": "code",
      "metadata": {
        "colab": {
          "base_uri": "https://localhost:8080/"
        },
        "id": "N06m56vXGFEG",
        "outputId": "03280fce-005e-41fa-8c42-9b9062c83eb0"
      },
      "source": [
        "unlabel_1 = unlabel.loc[:100000]\n",
        "print(\"length of unlabel_1\",len(unlabel_1))\n",
        "unlabel_2 = unlabel.loc[100001:200000]\n",
        "print(\"length of unlabel_2\",len(unlabel_2))\n",
        "unlabel_3 = unlabel.loc[200001:300000]\n",
        "print(\"length of unlabel_3\",len(unlabel_3))\n",
        "unlabel_4 = unlabel.loc[300001:400000]\n",
        "print(\"length of unlabel_4\",len(unlabel_4))\n",
        "unlabel_5 = unlabel.loc[400001:]\n",
        "print(\"length of unlabel_5\",len(unlabel_5))"
      ],
      "execution_count": 18,
      "outputs": [
        {
          "output_type": "stream",
          "text": [
            "length of unlabel_1 100001\n",
            "length of unlabel_2 100000\n",
            "length of unlabel_3 100000\n",
            "length of unlabel_4 100000\n",
            "length of unlabel_5 137702\n"
          ],
          "name": "stdout"
        }
      ]
    },
    {
      "cell_type": "code",
      "metadata": {
        "id": "0dU6eVbfNmDy"
      },
      "source": [
        "x_un1 = tfidf_vect.transform(unlabel_1['text'])\n"
      ],
      "execution_count": 19,
      "outputs": []
    },
    {
      "cell_type": "code",
      "metadata": {
        "colab": {
          "base_uri": "https://localhost:8080/"
        },
        "id": "JmNO__JtV-fZ",
        "outputId": "29680f66-b2f0-4e19-dd07-e8c08be13e19"
      },
      "source": [
        "x_un1.shape"
      ],
      "execution_count": 20,
      "outputs": [
        {
          "output_type": "execute_result",
          "data": {
            "text/plain": [
              "(100001, 6492)"
            ]
          },
          "metadata": {
            "tags": []
          },
          "execution_count": 20
        }
      ]
    },
    {
      "cell_type": "code",
      "metadata": {
        "id": "YiyJnayNQHzx"
      },
      "source": [
        "pred_unlabel_1 = sgd.predict(x_un1)"
      ],
      "execution_count": 21,
      "outputs": []
    },
    {
      "cell_type": "code",
      "metadata": {
        "colab": {
          "base_uri": "https://localhost:8080/",
          "height": 326
        },
        "id": "YWu76cW9Vy5N",
        "outputId": "0c1bc2bf-faf6-4c81-dad0-7a39aae55813"
      },
      "source": [
        "unlabel_1['Target']=pred_unlabel_1\n",
        "unlabel_1.head()"
      ],
      "execution_count": 22,
      "outputs": [
        {
          "output_type": "stream",
          "text": [
            "/usr/local/lib/python3.6/dist-packages/ipykernel_launcher.py:1: SettingWithCopyWarning: \n",
            "A value is trying to be set on a copy of a slice from a DataFrame.\n",
            "Try using .loc[row_indexer,col_indexer] = value instead\n",
            "\n",
            "See the caveats in the documentation: https://pandas.pydata.org/pandas-docs/stable/user_guide/indexing.html#returning-a-view-versus-a-copy\n",
            "  \"\"\"Entry point for launching an IPython kernel.\n"
          ],
          "name": "stderr"
        },
        {
          "output_type": "execute_result",
          "data": {
            "text/html": [
              "<div>\n",
              "<style scoped>\n",
              "    .dataframe tbody tr th:only-of-type {\n",
              "        vertical-align: middle;\n",
              "    }\n",
              "\n",
              "    .dataframe tbody tr th {\n",
              "        vertical-align: top;\n",
              "    }\n",
              "\n",
              "    .dataframe thead th {\n",
              "        text-align: right;\n",
              "    }\n",
              "</style>\n",
              "<table border=\"1\" class=\"dataframe\">\n",
              "  <thead>\n",
              "    <tr style=\"text-align: right;\">\n",
              "      <th></th>\n",
              "      <th>text</th>\n",
              "      <th>Target</th>\n",
              "    </tr>\n",
              "  </thead>\n",
              "  <tbody>\n",
              "    <tr>\n",
              "      <th>0</th>\n",
              "      <td>motion rehearing filed</td>\n",
              "      <td>Facts</td>\n",
              "    </tr>\n",
              "    <tr>\n",
              "      <th>1</th>\n",
              "      <td>relator accusation killing husband virgil clark</td>\n",
              "      <td>Facts</td>\n",
              "    </tr>\n",
              "    <tr>\n",
              "      <th>2</th>\n",
              "      <td>order district judge 39th judicial district re...</td>\n",
              "      <td>Facts</td>\n",
              "    </tr>\n",
              "    <tr>\n",
              "      <th>3</th>\n",
              "      <td>relator husband married number year</td>\n",
              "      <td>Facts</td>\n",
              "    </tr>\n",
              "    <tr>\n",
              "      <th>4</th>\n",
              "      <td>evidence indicates family relation always plea...</td>\n",
              "      <td>Facts</td>\n",
              "    </tr>\n",
              "  </tbody>\n",
              "</table>\n",
              "</div>"
            ],
            "text/plain": [
              "                                                text Target\n",
              "0                             motion rehearing filed  Facts\n",
              "1    relator accusation killing husband virgil clark  Facts\n",
              "2  order district judge 39th judicial district re...  Facts\n",
              "3                relator husband married number year  Facts\n",
              "4  evidence indicates family relation always plea...  Facts"
            ]
          },
          "metadata": {
            "tags": []
          },
          "execution_count": 22
        }
      ]
    },
    {
      "cell_type": "code",
      "metadata": {
        "colab": {
          "base_uri": "https://localhost:8080/",
          "height": 204
        },
        "id": "kMIVLLGLXtQj",
        "outputId": "3cae173b-ef6b-4d92-d840-afa05a508f2b"
      },
      "source": [
        "train = train.rename(columns={'Sentence':'text'})\n",
        "train.head()"
      ],
      "execution_count": 23,
      "outputs": [
        {
          "output_type": "execute_result",
          "data": {
            "text/html": [
              "<div>\n",
              "<style scoped>\n",
              "    .dataframe tbody tr th:only-of-type {\n",
              "        vertical-align: middle;\n",
              "    }\n",
              "\n",
              "    .dataframe tbody tr th {\n",
              "        vertical-align: top;\n",
              "    }\n",
              "\n",
              "    .dataframe thead th {\n",
              "        text-align: right;\n",
              "    }\n",
              "</style>\n",
              "<table border=\"1\" class=\"dataframe\">\n",
              "  <thead>\n",
              "    <tr style=\"text-align: right;\">\n",
              "      <th></th>\n",
              "      <th>Unnamed: 0</th>\n",
              "      <th>text</th>\n",
              "      <th>Target</th>\n",
              "    </tr>\n",
              "  </thead>\n",
              "  <tbody>\n",
              "    <tr>\n",
              "      <th>0</th>\n",
              "      <td>659</td>\n",
              "      <td>Appellant had stated to the officers that she ...</td>\n",
              "      <td>Invalid</td>\n",
              "    </tr>\n",
              "    <tr>\n",
              "      <th>1</th>\n",
              "      <td>3456</td>\n",
              "      <td>We shall discuss the facts more fully in conne...</td>\n",
              "      <td>Invalid</td>\n",
              "    </tr>\n",
              "    <tr>\n",
              "      <th>2</th>\n",
              "      <td>2043</td>\n",
              "      <td>â€œPerjury is a false statement, either writte...</td>\n",
              "      <td>Invalid</td>\n",
              "    </tr>\n",
              "    <tr>\n",
              "      <th>3</th>\n",
              "      <td>3344</td>\n",
              "      <td>The offense is felony theft by false pretext; ...</td>\n",
              "      <td>Issue</td>\n",
              "    </tr>\n",
              "    <tr>\n",
              "      <th>4</th>\n",
              "      <td>3231</td>\n",
              "      <td>Numerous contentions urging the commission of ...</td>\n",
              "      <td>Issue</td>\n",
              "    </tr>\n",
              "  </tbody>\n",
              "</table>\n",
              "</div>"
            ],
            "text/plain": [
              "   Unnamed: 0                                               text   Target\n",
              "0         659  Appellant had stated to the officers that she ...  Invalid\n",
              "1        3456  We shall discuss the facts more fully in conne...  Invalid\n",
              "2        2043  â€œPerjury is a false statement, either writte...  Invalid\n",
              "3        3344  The offense is felony theft by false pretext; ...    Issue\n",
              "4        3231  Numerous contentions urging the commission of ...    Issue"
            ]
          },
          "metadata": {
            "tags": []
          },
          "execution_count": 23
        }
      ]
    },
    {
      "cell_type": "code",
      "metadata": {
        "colab": {
          "base_uri": "https://localhost:8080/"
        },
        "id": "HZ6cknLQXcGv",
        "outputId": "50a90996-75b6-4c09-8b1c-8a12b8ec0027"
      },
      "source": [
        "frame_1 = [train,unlabel_1]\n",
        "train_1 = pd.concat(frame_1)\n",
        "len(train_1)"
      ],
      "execution_count": 24,
      "outputs": [
        {
          "output_type": "execute_result",
          "data": {
            "text/plain": [
              "103477"
            ]
          },
          "metadata": {
            "tags": []
          },
          "execution_count": 24
        }
      ]
    },
    {
      "cell_type": "code",
      "metadata": {
        "colab": {
          "base_uri": "https://localhost:8080/"
        },
        "id": "ddifnOdxYcI-",
        "outputId": "db8338ee-4b38-4b7e-857e-5433e6ec4734"
      },
      "source": [
        "x_train_1 = tfidf_vect.transform(train_1['text'])\n",
        "x_train_1.shape"
      ],
      "execution_count": 25,
      "outputs": [
        {
          "output_type": "execute_result",
          "data": {
            "text/plain": [
              "(103477, 6492)"
            ]
          },
          "metadata": {
            "tags": []
          },
          "execution_count": 25
        }
      ]
    },
    {
      "cell_type": "code",
      "metadata": {
        "colab": {
          "base_uri": "https://localhost:8080/"
        },
        "id": "S73jqhaCY1Iu",
        "outputId": "7b8ce42f-1cfd-4d81-ec33-582d96a403ac"
      },
      "source": [
        "X, y = oversample.fit_resample(x_train_1, train_1['Target'])\n",
        "X_train, x_test, Y_train, y_test = train_test_split(X,y,test_size=0.27,random_state=2)\n",
        "sgd = SGDClassifier(max_iter=1000, tol=1e-3)\n",
        "sgd.fit(X_train, Y_train)\n",
        "pred_sgd = sgd.predict(x_test)\n",
        "print('Accuracy %s' % accuracy_score(pred_sgd,y_test))\n",
        "print(classification_report(y_test,pred_sgd))"
      ],
      "execution_count": 26,
      "outputs": [
        {
          "output_type": "stream",
          "text": [
            "/usr/local/lib/python3.6/dist-packages/sklearn/utils/deprecation.py:87: FutureWarning: Function safe_indexing is deprecated; safe_indexing is deprecated in version 0.22 and will be removed in version 0.24.\n",
            "  warnings.warn(msg, category=FutureWarning)\n"
          ],
          "name": "stderr"
        },
        {
          "output_type": "stream",
          "text": [
            "Accuracy 0.8961866404450491\n",
            "                  precision    recall  f1-score   support\n",
            "\n",
            "        Analysis       0.87      0.89      0.88     12453\n",
            "      Conclusion       0.95      0.92      0.94     12499\n",
            "           Facts       0.92      0.78      0.85     12233\n",
            "         Invalid       0.89      0.87      0.88     12488\n",
            "           Issue       0.88      0.96      0.92     12233\n",
            "Rule/Law/Holding       0.86      0.95      0.90     12333\n",
            "\n",
            "        accuracy                           0.90     74239\n",
            "       macro avg       0.90      0.90      0.90     74239\n",
            "    weighted avg       0.90      0.90      0.90     74239\n",
            "\n"
          ],
          "name": "stdout"
        }
      ]
    },
    {
      "cell_type": "code",
      "metadata": {
        "colab": {
          "base_uri": "https://localhost:8080/"
        },
        "id": "jesGyry7ZJKk",
        "outputId": "11443d5f-15ef-4b8a-a727-0a3048d5dd5b"
      },
      "source": [
        "x_un2 = tfidf_vect.transform(unlabel_2['text'])\n",
        "x_un2.shape"
      ],
      "execution_count": 27,
      "outputs": [
        {
          "output_type": "execute_result",
          "data": {
            "text/plain": [
              "(100000, 6492)"
            ]
          },
          "metadata": {
            "tags": []
          },
          "execution_count": 27
        }
      ]
    },
    {
      "cell_type": "code",
      "metadata": {
        "id": "jXlNybCxZSjU"
      },
      "source": [
        "pred_unlabel_2 = sgd.predict(x_un2)"
      ],
      "execution_count": 28,
      "outputs": []
    },
    {
      "cell_type": "code",
      "metadata": {
        "colab": {
          "base_uri": "https://localhost:8080/",
          "height": 326
        },
        "id": "aJg4HSm0ZkgH",
        "outputId": "1d4fd38d-8595-407a-f539-5c823231a78f"
      },
      "source": [
        "unlabel_2['Target']=pred_unlabel_2\n",
        "unlabel_2.head()"
      ],
      "execution_count": 29,
      "outputs": [
        {
          "output_type": "stream",
          "text": [
            "/usr/local/lib/python3.6/dist-packages/ipykernel_launcher.py:1: SettingWithCopyWarning: \n",
            "A value is trying to be set on a copy of a slice from a DataFrame.\n",
            "Try using .loc[row_indexer,col_indexer] = value instead\n",
            "\n",
            "See the caveats in the documentation: https://pandas.pydata.org/pandas-docs/stable/user_guide/indexing.html#returning-a-view-versus-a-copy\n",
            "  \"\"\"Entry point for launching an IPython kernel.\n"
          ],
          "name": "stderr"
        },
        {
          "output_type": "execute_result",
          "data": {
            "text/html": [
              "<div>\n",
              "<style scoped>\n",
              "    .dataframe tbody tr th:only-of-type {\n",
              "        vertical-align: middle;\n",
              "    }\n",
              "\n",
              "    .dataframe tbody tr th {\n",
              "        vertical-align: top;\n",
              "    }\n",
              "\n",
              "    .dataframe thead th {\n",
              "        text-align: right;\n",
              "    }\n",
              "</style>\n",
              "<table border=\"1\" class=\"dataframe\">\n",
              "  <thead>\n",
              "    <tr style=\"text-align: right;\">\n",
              "      <th></th>\n",
              "      <th>text</th>\n",
              "      <th>Target</th>\n",
              "    </tr>\n",
              "  </thead>\n",
              "  <tbody>\n",
              "    <tr>\n",
              "      <th>100001</th>\n",
              "      <td>responding conclusion regarding evidence annou...</td>\n",
              "      <td>Conclusion</td>\n",
              "    </tr>\n",
              "    <tr>\n",
              "      <th>100002</th>\n",
              "      <td>conviction transporting intoxicating liquor pu...</td>\n",
              "      <td>Rule/Law/Holding</td>\n",
              "    </tr>\n",
              "    <tr>\n",
              "      <th>100003</th>\n",
              "      <td>bill exception case filed late</td>\n",
              "      <td>Facts</td>\n",
              "    </tr>\n",
              "    <tr>\n",
              "      <th>100004</th>\n",
              "      <td>motion new trial overruled october 22 1927 ord...</td>\n",
              "      <td>Facts</td>\n",
              "    </tr>\n",
              "    <tr>\n",
              "      <th>100005</th>\n",
              "      <td>thereafter december 10th extension order made ...</td>\n",
              "      <td>Facts</td>\n",
              "    </tr>\n",
              "  </tbody>\n",
              "</table>\n",
              "</div>"
            ],
            "text/plain": [
              "                                                     text            Target\n",
              "100001  responding conclusion regarding evidence annou...        Conclusion\n",
              "100002  conviction transporting intoxicating liquor pu...  Rule/Law/Holding\n",
              "100003                     bill exception case filed late             Facts\n",
              "100004  motion new trial overruled october 22 1927 ord...             Facts\n",
              "100005  thereafter december 10th extension order made ...             Facts"
            ]
          },
          "metadata": {
            "tags": []
          },
          "execution_count": 29
        }
      ]
    },
    {
      "cell_type": "code",
      "metadata": {
        "colab": {
          "base_uri": "https://localhost:8080/"
        },
        "id": "0yz_eWCQZo5-",
        "outputId": "0bc6dd58-d68c-4202-d1cb-6d00d84a7e87"
      },
      "source": [
        "frame_2 = [train_1,unlabel_2]\n",
        "train_2 = pd.concat(frame_2)\n",
        "len(train_2)"
      ],
      "execution_count": 30,
      "outputs": [
        {
          "output_type": "execute_result",
          "data": {
            "text/plain": [
              "203477"
            ]
          },
          "metadata": {
            "tags": []
          },
          "execution_count": 30
        }
      ]
    },
    {
      "cell_type": "code",
      "metadata": {
        "colab": {
          "base_uri": "https://localhost:8080/"
        },
        "id": "KVHD0orcZ9KU",
        "outputId": "f0a78fec-a089-456a-c4d6-ddc86f10a46c"
      },
      "source": [
        "x_train_2 = tfidf_vect.transform(train_2['text'])\n",
        "x_train_2.shape"
      ],
      "execution_count": 31,
      "outputs": [
        {
          "output_type": "execute_result",
          "data": {
            "text/plain": [
              "(203477, 6492)"
            ]
          },
          "metadata": {
            "tags": []
          },
          "execution_count": 31
        }
      ]
    },
    {
      "cell_type": "code",
      "metadata": {
        "colab": {
          "base_uri": "https://localhost:8080/"
        },
        "id": "igug92XzaMKN",
        "outputId": "824148a6-03a1-4042-b1b9-79ccf8b107a9"
      },
      "source": [
        "X, y = oversample.fit_resample(x_train_2, train_2['Target'])\n",
        "X_train, x_test, Y_train, y_test = train_test_split(X,y,test_size=0.27,random_state=2)\n",
        "sgd = SGDClassifier(max_iter=1000, tol=1e-3)\n",
        "sgd.fit(X_train, Y_train)\n",
        "pred_sgd = sgd.predict(x_test)\n",
        "print('Accuracy %s' % accuracy_score(pred_sgd,y_test))\n",
        "print(classification_report(y_test,pred_sgd))"
      ],
      "execution_count": 32,
      "outputs": [
        {
          "output_type": "stream",
          "text": [
            "/usr/local/lib/python3.6/dist-packages/sklearn/utils/deprecation.py:87: FutureWarning: Function safe_indexing is deprecated; safe_indexing is deprecated in version 0.22 and will be removed in version 0.24.\n",
            "  warnings.warn(msg, category=FutureWarning)\n"
          ],
          "name": "stderr"
        },
        {
          "output_type": "stream",
          "text": [
            "Accuracy 0.9068924916221357\n",
            "                  precision    recall  f1-score   support\n",
            "\n",
            "        Analysis       0.89      0.90      0.89     22251\n",
            "      Conclusion       0.96      0.94      0.95     22232\n",
            "           Facts       0.94      0.81      0.87     22015\n",
            "         Invalid       0.90      0.89      0.89     22057\n",
            "           Issue       0.89      0.96      0.92     21966\n",
            "Rule/Law/Holding       0.87      0.95      0.91     21971\n",
            "\n",
            "        accuracy                           0.91    132492\n",
            "       macro avg       0.91      0.91      0.91    132492\n",
            "    weighted avg       0.91      0.91      0.91    132492\n",
            "\n"
          ],
          "name": "stdout"
        }
      ]
    },
    {
      "cell_type": "code",
      "metadata": {
        "colab": {
          "base_uri": "https://localhost:8080/"
        },
        "id": "coHyVk4adJ9K",
        "outputId": "320559c1-d523-44e3-89c2-3d3db0e247e7"
      },
      "source": [
        "x_un3 = tfidf_vect.transform(unlabel_3['text'])\n",
        "x_un3.shape"
      ],
      "execution_count": 33,
      "outputs": [
        {
          "output_type": "execute_result",
          "data": {
            "text/plain": [
              "(100000, 6492)"
            ]
          },
          "metadata": {
            "tags": []
          },
          "execution_count": 33
        }
      ]
    },
    {
      "cell_type": "code",
      "metadata": {
        "id": "xUU0Uj_5dVFF"
      },
      "source": [
        "pred_unlabel_3 = sgd.predict(x_un3)"
      ],
      "execution_count": 34,
      "outputs": []
    },
    {
      "cell_type": "code",
      "metadata": {
        "colab": {
          "base_uri": "https://localhost:8080/",
          "height": 326
        },
        "id": "aTBIJYGednWE",
        "outputId": "8adfd8ca-c2d9-4f44-8d39-013df2bb662e"
      },
      "source": [
        "unlabel_3['Target']=pred_unlabel_3\n",
        "unlabel_3.head()"
      ],
      "execution_count": 35,
      "outputs": [
        {
          "output_type": "stream",
          "text": [
            "/usr/local/lib/python3.6/dist-packages/ipykernel_launcher.py:1: SettingWithCopyWarning: \n",
            "A value is trying to be set on a copy of a slice from a DataFrame.\n",
            "Try using .loc[row_indexer,col_indexer] = value instead\n",
            "\n",
            "See the caveats in the documentation: https://pandas.pydata.org/pandas-docs/stable/user_guide/indexing.html#returning-a-view-versus-a-copy\n",
            "  \"\"\"Entry point for launching an IPython kernel.\n"
          ],
          "name": "stderr"
        },
        {
          "output_type": "execute_result",
          "data": {
            "text/html": [
              "<div>\n",
              "<style scoped>\n",
              "    .dataframe tbody tr th:only-of-type {\n",
              "        vertical-align: middle;\n",
              "    }\n",
              "\n",
              "    .dataframe tbody tr th {\n",
              "        vertical-align: top;\n",
              "    }\n",
              "\n",
              "    .dataframe thead th {\n",
              "        text-align: right;\n",
              "    }\n",
              "</style>\n",
              "<table border=\"1\" class=\"dataframe\">\n",
              "  <thead>\n",
              "    <tr style=\"text-align: right;\">\n",
              "      <th></th>\n",
              "      <th>text</th>\n",
              "      <th>Target</th>\n",
              "    </tr>\n",
              "  </thead>\n",
              "  <tbody>\n",
              "    <tr>\n",
              "      <th>200001</th>\n",
              "      <td>another man carrying clothes</td>\n",
              "      <td>Facts</td>\n",
              "    </tr>\n",
              "    <tr>\n",
              "      <th>200002</th>\n",
              "      <td>officer testified appellant several item cloth...</td>\n",
              "      <td>Invalid</td>\n",
              "    </tr>\n",
              "    <tr>\n",
              "      <th>200003</th>\n",
              "      <td>investigation followed report breaking entry a...</td>\n",
              "      <td>Facts</td>\n",
              "    </tr>\n",
              "    <tr>\n",
              "      <th>200004</th>\n",
              "      <td>appellant present</td>\n",
              "      <td>Issue</td>\n",
              "    </tr>\n",
              "    <tr>\n",
              "      <th>200005</th>\n",
              "      <td>warrant arrest issued officer went hotel waite...</td>\n",
              "      <td>Facts</td>\n",
              "    </tr>\n",
              "  </tbody>\n",
              "</table>\n",
              "</div>"
            ],
            "text/plain": [
              "                                                     text   Target\n",
              "200001                       another man carrying clothes    Facts\n",
              "200002  officer testified appellant several item cloth...  Invalid\n",
              "200003  investigation followed report breaking entry a...    Facts\n",
              "200004                                  appellant present    Issue\n",
              "200005  warrant arrest issued officer went hotel waite...    Facts"
            ]
          },
          "metadata": {
            "tags": []
          },
          "execution_count": 35
        }
      ]
    },
    {
      "cell_type": "code",
      "metadata": {
        "colab": {
          "base_uri": "https://localhost:8080/"
        },
        "id": "qZG4FS_Zd3x6",
        "outputId": "a41ecaa5-581f-4160-ce43-59dbe01108fb"
      },
      "source": [
        "frame_3 = [train_2,unlabel_3]\n",
        "train_3 = pd.concat(frame_3)\n",
        "len(train_3)"
      ],
      "execution_count": 36,
      "outputs": [
        {
          "output_type": "execute_result",
          "data": {
            "text/plain": [
              "303477"
            ]
          },
          "metadata": {
            "tags": []
          },
          "execution_count": 36
        }
      ]
    },
    {
      "cell_type": "code",
      "metadata": {
        "colab": {
          "base_uri": "https://localhost:8080/"
        },
        "id": "3U9CC34ueJiQ",
        "outputId": "15d1d5de-d477-4973-eaa2-3492ad07149f"
      },
      "source": [
        "x_train_3 = tfidf_vect.transform(train_3['text'])\n",
        "x_train_3.shape"
      ],
      "execution_count": 37,
      "outputs": [
        {
          "output_type": "execute_result",
          "data": {
            "text/plain": [
              "(303477, 6492)"
            ]
          },
          "metadata": {
            "tags": []
          },
          "execution_count": 37
        }
      ]
    },
    {
      "cell_type": "code",
      "metadata": {
        "colab": {
          "base_uri": "https://localhost:8080/"
        },
        "id": "dZjGAD6WeRml",
        "outputId": "2a7a99e0-4ac6-4ef6-f7a2-920512aad541"
      },
      "source": [
        "X, y = oversample.fit_resample(x_train_3, train_3['Target'])\n",
        "X_train, x_test, Y_train, y_test = train_test_split(X,y,test_size=0.27,random_state=2)\n",
        "sgd = SGDClassifier(max_iter=1000, tol=1e-3)\n",
        "sgd.fit(X_train, Y_train)\n",
        "pred_sgd = sgd.predict(x_test)\n",
        "print('Accuracy %s' % accuracy_score(pred_sgd,y_test))\n",
        "print(classification_report(y_test,pred_sgd))"
      ],
      "execution_count": 38,
      "outputs": [
        {
          "output_type": "stream",
          "text": [
            "/usr/local/lib/python3.6/dist-packages/sklearn/utils/deprecation.py:87: FutureWarning: Function safe_indexing is deprecated; safe_indexing is deprecated in version 0.22 and will be removed in version 0.24.\n",
            "  warnings.warn(msg, category=FutureWarning)\n"
          ],
          "name": "stderr"
        },
        {
          "output_type": "stream",
          "text": [
            "Accuracy 0.9104819089459014\n",
            "                  precision    recall  f1-score   support\n",
            "\n",
            "        Analysis       0.89      0.90      0.90     30985\n",
            "      Conclusion       0.96      0.94      0.95     31166\n",
            "           Facts       0.95      0.81      0.88     31011\n",
            "         Invalid       0.91      0.89      0.90     30990\n",
            "           Issue       0.89      0.96      0.92     30988\n",
            "Rule/Law/Holding       0.88      0.95      0.91     31057\n",
            "\n",
            "        accuracy                           0.91    186197\n",
            "       macro avg       0.91      0.91      0.91    186197\n",
            "    weighted avg       0.91      0.91      0.91    186197\n",
            "\n"
          ],
          "name": "stdout"
        }
      ]
    },
    {
      "cell_type": "code",
      "metadata": {
        "colab": {
          "base_uri": "https://localhost:8080/"
        },
        "id": "J6JIAGIxees_",
        "outputId": "75afb6f8-48d2-47c8-8390-4ae0535a44a3"
      },
      "source": [
        "x_un4 = tfidf_vect.transform(unlabel_4['text'])\n",
        "x_un4.shape\n"
      ],
      "execution_count": 39,
      "outputs": [
        {
          "output_type": "execute_result",
          "data": {
            "text/plain": [
              "(100000, 6492)"
            ]
          },
          "metadata": {
            "tags": []
          },
          "execution_count": 39
        }
      ]
    },
    {
      "cell_type": "code",
      "metadata": {
        "colab": {
          "base_uri": "https://localhost:8080/",
          "height": 326
        },
        "id": "66kInGztgZ_a",
        "outputId": "869bcbfc-1d52-4fff-e038-a40c0e6d4ac2"
      },
      "source": [
        "pred_unlabel_4 = sgd.predict(x_un4)\n",
        "unlabel_4['Target']=pred_unlabel_4\n",
        "unlabel_4.head()"
      ],
      "execution_count": 40,
      "outputs": [
        {
          "output_type": "stream",
          "text": [
            "/usr/local/lib/python3.6/dist-packages/ipykernel_launcher.py:2: SettingWithCopyWarning: \n",
            "A value is trying to be set on a copy of a slice from a DataFrame.\n",
            "Try using .loc[row_indexer,col_indexer] = value instead\n",
            "\n",
            "See the caveats in the documentation: https://pandas.pydata.org/pandas-docs/stable/user_guide/indexing.html#returning-a-view-versus-a-copy\n",
            "  \n"
          ],
          "name": "stderr"
        },
        {
          "output_type": "execute_result",
          "data": {
            "text/html": [
              "<div>\n",
              "<style scoped>\n",
              "    .dataframe tbody tr th:only-of-type {\n",
              "        vertical-align: middle;\n",
              "    }\n",
              "\n",
              "    .dataframe tbody tr th {\n",
              "        vertical-align: top;\n",
              "    }\n",
              "\n",
              "    .dataframe thead th {\n",
              "        text-align: right;\n",
              "    }\n",
              "</style>\n",
              "<table border=\"1\" class=\"dataframe\">\n",
              "  <thead>\n",
              "    <tr style=\"text-align: right;\">\n",
              "      <th></th>\n",
              "      <th>text</th>\n",
              "      <th>Target</th>\n",
              "    </tr>\n",
              "  </thead>\n",
              "  <tbody>\n",
              "    <tr>\n",
              "      <th>300001</th>\n",
              "      <td>statute final judgment appeal court lie senten...</td>\n",
              "      <td>Rule/Law/Holding</td>\n",
              "    </tr>\n",
              "    <tr>\n",
              "      <th>300002</th>\n",
              "      <td>sentence must pronounced term court judgment r...</td>\n",
              "      <td>Rule/Law/Holding</td>\n",
              "    </tr>\n",
              "    <tr>\n",
              "      <th>300003</th>\n",
              "      <td>court sentence defendant vacation</td>\n",
              "      <td>Invalid</td>\n",
              "    </tr>\n",
              "    <tr>\n",
              "      <th>300004</th>\n",
              "      <td>court adjourned authority case ceased notice a...</td>\n",
              "      <td>Analysis</td>\n",
              "    </tr>\n",
              "    <tr>\n",
              "      <th>300005</th>\n",
              "      <td>pronouncing sentence authorized vacation autho...</td>\n",
              "      <td>Rule/Law/Holding</td>\n",
              "    </tr>\n",
              "  </tbody>\n",
              "</table>\n",
              "</div>"
            ],
            "text/plain": [
              "                                                     text            Target\n",
              "300001  statute final judgment appeal court lie senten...  Rule/Law/Holding\n",
              "300002  sentence must pronounced term court judgment r...  Rule/Law/Holding\n",
              "300003                  court sentence defendant vacation           Invalid\n",
              "300004  court adjourned authority case ceased notice a...          Analysis\n",
              "300005  pronouncing sentence authorized vacation autho...  Rule/Law/Holding"
            ]
          },
          "metadata": {
            "tags": []
          },
          "execution_count": 40
        }
      ]
    },
    {
      "cell_type": "code",
      "metadata": {
        "colab": {
          "base_uri": "https://localhost:8080/"
        },
        "id": "mAPQ6LIJg4G8",
        "outputId": "58719d2c-1322-46b0-f1e3-545a0d13a6b1"
      },
      "source": [
        "frame_4 = [train_3,unlabel_4]\n",
        "train_4 = pd.concat(frame_4)\n",
        "len(train_4)"
      ],
      "execution_count": 41,
      "outputs": [
        {
          "output_type": "execute_result",
          "data": {
            "text/plain": [
              "403477"
            ]
          },
          "metadata": {
            "tags": []
          },
          "execution_count": 41
        }
      ]
    },
    {
      "cell_type": "code",
      "metadata": {
        "colab": {
          "base_uri": "https://localhost:8080/"
        },
        "id": "-K1xPmg-hJPI",
        "outputId": "034507c6-5c1e-44b9-d3ef-f57d5f9ea06c"
      },
      "source": [
        "x_train_4 = tfidf_vect.transform(train_4['text'])\n",
        "x_train_4.shape"
      ],
      "execution_count": 42,
      "outputs": [
        {
          "output_type": "execute_result",
          "data": {
            "text/plain": [
              "(403477, 6492)"
            ]
          },
          "metadata": {
            "tags": []
          },
          "execution_count": 42
        }
      ]
    },
    {
      "cell_type": "code",
      "metadata": {
        "colab": {
          "base_uri": "https://localhost:8080/"
        },
        "id": "meoWqhzmhZfx",
        "outputId": "8bec0c79-4ec4-43a8-bc67-c04631f0ba5c"
      },
      "source": [
        "X, y = oversample.fit_resample(x_train_4, train_4['Target'])\n",
        "X_train, x_test, Y_train, y_test = train_test_split(X,y,test_size=0.27,random_state=2)\n",
        "sgd = SGDClassifier(max_iter=1000, tol=1e-3)\n",
        "sgd.fit(X_train, Y_train)\n",
        "pred_sgd = sgd.predict(x_test)\n",
        "print('Accuracy %s' % accuracy_score(pred_sgd,y_test))\n",
        "print(classification_report(y_test,pred_sgd))"
      ],
      "execution_count": 43,
      "outputs": [
        {
          "output_type": "stream",
          "text": [
            "/usr/local/lib/python3.6/dist-packages/sklearn/utils/deprecation.py:87: FutureWarning: Function safe_indexing is deprecated; safe_indexing is deprecated in version 0.22 and will be removed in version 0.24.\n",
            "  warnings.warn(msg, category=FutureWarning)\n"
          ],
          "name": "stderr"
        },
        {
          "output_type": "stream",
          "text": [
            "Accuracy 0.9157862785932902\n",
            "                  precision    recall  f1-score   support\n",
            "\n",
            "        Analysis       0.90      0.90      0.90     39657\n",
            "      Conclusion       0.96      0.95      0.95     39686\n",
            "           Facts       0.96      0.82      0.88     39470\n",
            "         Invalid       0.92      0.90      0.91     39375\n",
            "           Issue       0.89      0.97      0.93     39494\n",
            "Rule/Law/Holding       0.88      0.96      0.92     39524\n",
            "\n",
            "        accuracy                           0.92    237206\n",
            "       macro avg       0.92      0.92      0.92    237206\n",
            "    weighted avg       0.92      0.92      0.92    237206\n",
            "\n"
          ],
          "name": "stdout"
        }
      ]
    },
    {
      "cell_type": "code",
      "metadata": {
        "colab": {
          "base_uri": "https://localhost:8080/"
        },
        "id": "T2j7N5Athui9",
        "outputId": "c6f62fbd-7f47-4142-8aba-73e997333a97"
      },
      "source": [
        "x_un5 = tfidf_vect.transform(unlabel_5['text'])\n",
        "x_un5.shape"
      ],
      "execution_count": 44,
      "outputs": [
        {
          "output_type": "execute_result",
          "data": {
            "text/plain": [
              "(137702, 6492)"
            ]
          },
          "metadata": {
            "tags": []
          },
          "execution_count": 44
        }
      ]
    },
    {
      "cell_type": "code",
      "metadata": {
        "colab": {
          "base_uri": "https://localhost:8080/",
          "height": 326
        },
        "id": "4KOQS_ZkkE1J",
        "outputId": "1ae59a58-c8bf-4cad-c7a3-e25f1108ade6"
      },
      "source": [
        "pred_unlabel_5 = sgd.predict(x_un5)\n",
        "unlabel_5['Target']=pred_unlabel_5\n",
        "unlabel_5.head()"
      ],
      "execution_count": 45,
      "outputs": [
        {
          "output_type": "stream",
          "text": [
            "/usr/local/lib/python3.6/dist-packages/ipykernel_launcher.py:2: SettingWithCopyWarning: \n",
            "A value is trying to be set on a copy of a slice from a DataFrame.\n",
            "Try using .loc[row_indexer,col_indexer] = value instead\n",
            "\n",
            "See the caveats in the documentation: https://pandas.pydata.org/pandas-docs/stable/user_guide/indexing.html#returning-a-view-versus-a-copy\n",
            "  \n"
          ],
          "name": "stderr"
        },
        {
          "output_type": "execute_result",
          "data": {
            "text/html": [
              "<div>\n",
              "<style scoped>\n",
              "    .dataframe tbody tr th:only-of-type {\n",
              "        vertical-align: middle;\n",
              "    }\n",
              "\n",
              "    .dataframe tbody tr th {\n",
              "        vertical-align: top;\n",
              "    }\n",
              "\n",
              "    .dataframe thead th {\n",
              "        text-align: right;\n",
              "    }\n",
              "</style>\n",
              "<table border=\"1\" class=\"dataframe\">\n",
              "  <thead>\n",
              "    <tr style=\"text-align: right;\">\n",
              "      <th></th>\n",
              "      <th>text</th>\n",
              "      <th>Target</th>\n",
              "    </tr>\n",
              "  </thead>\n",
              "  <tbody>\n",
              "    <tr>\n",
              "      <th>400001</th>\n",
              "      <td>member federal reserve bank</td>\n",
              "      <td>Invalid</td>\n",
              "    </tr>\n",
              "    <tr>\n",
              "      <th>400002</th>\n",
              "      <td>opinion state case</td>\n",
              "      <td>Conclusion</td>\n",
              "    </tr>\n",
              "    <tr>\n",
              "      <th>400003</th>\n",
              "      <td>conviction violating state cigarette law punis...</td>\n",
              "      <td>Rule/Law/Holding</td>\n",
              "    </tr>\n",
              "    <tr>\n",
              "      <th>400004</th>\n",
              "      <td>find record bill exception bringing forward co...</td>\n",
              "      <td>Conclusion</td>\n",
              "    </tr>\n",
              "    <tr>\n",
              "      <th>400005</th>\n",
              "      <td>brief appellant complains lack testimony</td>\n",
              "      <td>Issue</td>\n",
              "    </tr>\n",
              "  </tbody>\n",
              "</table>\n",
              "</div>"
            ],
            "text/plain": [
              "                                                     text            Target\n",
              "400001                        member federal reserve bank           Invalid\n",
              "400002                                 opinion state case        Conclusion\n",
              "400003  conviction violating state cigarette law punis...  Rule/Law/Holding\n",
              "400004  find record bill exception bringing forward co...        Conclusion\n",
              "400005           brief appellant complains lack testimony             Issue"
            ]
          },
          "metadata": {
            "tags": []
          },
          "execution_count": 45
        }
      ]
    },
    {
      "cell_type": "code",
      "metadata": {
        "colab": {
          "base_uri": "https://localhost:8080/"
        },
        "id": "EdO1Dx9mkU5N",
        "outputId": "3bc2fd05-eb86-4b38-ac3a-d1fbfdf54ecf"
      },
      "source": [
        "frame_5 = [train_4,unlabel_5]\n",
        "train_5 = pd.concat(frame_5)\n",
        "len(train_5)"
      ],
      "execution_count": 46,
      "outputs": [
        {
          "output_type": "execute_result",
          "data": {
            "text/plain": [
              "541179"
            ]
          },
          "metadata": {
            "tags": []
          },
          "execution_count": 46
        }
      ]
    },
    {
      "cell_type": "code",
      "metadata": {
        "colab": {
          "base_uri": "https://localhost:8080/"
        },
        "id": "MNR9nQXQkhTr",
        "outputId": "920c24cb-4174-4ce8-b0ba-682ba4d06bbe"
      },
      "source": [
        "x_train_5 = tfidf_vect.transform(train_5['text'])\n",
        "x_train_5.shape"
      ],
      "execution_count": 47,
      "outputs": [
        {
          "output_type": "execute_result",
          "data": {
            "text/plain": [
              "(541179, 6492)"
            ]
          },
          "metadata": {
            "tags": []
          },
          "execution_count": 47
        }
      ]
    },
    {
      "cell_type": "code",
      "metadata": {
        "colab": {
          "base_uri": "https://localhost:8080/"
        },
        "id": "x7RET9k7kotM",
        "outputId": "5d2342d7-a9d5-496f-eba0-8db51bc36550"
      },
      "source": [
        "X, y = oversample.fit_resample(x_train_5, train_5['Target'])\n",
        "X_train, x_test, Y_train, y_test = train_test_split(X,y,test_size=0.27,random_state=2)\n",
        "sgd = SGDClassifier(max_iter=1000, tol=1e-3)\n",
        "sgd.fit(X_train, Y_train)\n",
        "pred_sgd = sgd.predict(x_test)\n",
        "print('Accuracy %s' % accuracy_score(pred_sgd,y_test))\n",
        "print(classification_report(y_test,pred_sgd))"
      ],
      "execution_count": 48,
      "outputs": [
        {
          "output_type": "stream",
          "text": [
            "/usr/local/lib/python3.6/dist-packages/sklearn/utils/deprecation.py:87: FutureWarning: Function safe_indexing is deprecated; safe_indexing is deprecated in version 0.22 and will be removed in version 0.24.\n",
            "  warnings.warn(msg, category=FutureWarning)\n"
          ],
          "name": "stderr"
        },
        {
          "output_type": "stream",
          "text": [
            "Accuracy 0.9211654906425115\n",
            "                  precision    recall  f1-score   support\n",
            "\n",
            "        Analysis       0.91      0.91      0.91     51026\n",
            "      Conclusion       0.96      0.95      0.96     50959\n",
            "           Facts       0.96      0.83      0.89     50767\n",
            "         Invalid       0.93      0.90      0.91     50976\n",
            "           Issue       0.89      0.97      0.93     50965\n",
            "Rule/Law/Holding       0.89      0.96      0.92     50998\n",
            "\n",
            "        accuracy                           0.92    305691\n",
            "       macro avg       0.92      0.92      0.92    305691\n",
            "    weighted avg       0.92      0.92      0.92    305691\n",
            "\n"
          ],
          "name": "stdout"
        }
      ]
    },
    {
      "cell_type": "code",
      "metadata": {
        "colab": {
          "base_uri": "https://localhost:8080/"
        },
        "id": "IGNtSyGQeVSm",
        "outputId": "cdf494b4-0fd1-485e-fb04-7c1c4eb07e4b"
      },
      "source": [
        "df = pd.read_csv('/content/test_data.csv')\n",
        "\n",
        "df['Target']=df['Target'].replace(['Rule/Law/holding'],'Rule/Law/Holding')\n",
        "df['Target']=df['Target'].replace(['Others'],'Invalid')\n",
        "\n",
        "df['Sentence'] = df['Sentence'].apply(lambda x: \" \".join(x.lower() for x in str(x).split()))\n",
        "df['Sentence'] = df['Sentence'].str.replace('[^\\w\\s]','')\n",
        "from nltk.corpus import stopwords\n",
        "words = stopwords.words('english')\n",
        "df['Sentence'] = df['Sentence'].apply(lambda x: \" \".join(x for x in x.split() if x not in words))\n",
        "\n",
        "from textblob import TextBlob\n",
        "from textblob import Word\n",
        "nltk.download('wordnet')\n",
        "nltk.download('punkt')\n",
        "df['Sentence'] = df['Sentence'].apply(lambda x: TextBlob(x).words)\n",
        "df['Sentence'] = df['Sentence'].apply(lambda x: \" \".join([Word(word).lemmatize() for word in x]))\n",
        "\n",
        "final_test = tfidf_vect.transform(df['Sentence'])\n",
        "\n",
        "pred_sgd_final = sgd.predict(final_test)\n",
        "print('Accuracy %s' % accuracy_score(pred_sgd_final,df['Target']))\n",
        "print(classification_report(df['Target'],pred_sgd_final))"
      ],
      "execution_count": 49,
      "outputs": [
        {
          "output_type": "stream",
          "text": [
            "[nltk_data] Downloading package wordnet to /root/nltk_data...\n",
            "[nltk_data]   Package wordnet is already up-to-date!\n",
            "[nltk_data] Downloading package punkt to /root/nltk_data...\n",
            "[nltk_data]   Package punkt is already up-to-date!\n",
            "Accuracy 0.508637236084453\n",
            "                  precision    recall  f1-score   support\n",
            "\n",
            "        Analysis       0.40      0.39      0.39        77\n",
            "      Conclusion       0.48      0.77      0.59        26\n",
            "           Facts       0.82      0.52      0.63       267\n",
            "         Invalid       0.36      0.48      0.41        83\n",
            "           Issue       0.25      0.41      0.31        34\n",
            "Rule/Law/Holding       0.33      0.68      0.45        34\n",
            "\n",
            "        accuracy                           0.51       521\n",
            "       macro avg       0.44      0.54      0.46       521\n",
            "    weighted avg       0.60      0.51      0.53       521\n",
            "\n"
          ],
          "name": "stdout"
        }
      ]
    },
    {
      "cell_type": "code",
      "metadata": {
        "id": "UkFpT5GhtR1l"
      },
      "source": [
        ""
      ],
      "execution_count": 49,
      "outputs": []
    }
  ]
}
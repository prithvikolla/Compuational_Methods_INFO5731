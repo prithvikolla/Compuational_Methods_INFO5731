{
  "nbformat": 4,
  "nbformat_minor": 0,
  "metadata": {
    "kernelspec": {
      "display_name": "Python 3",
      "language": "python",
      "name": "python3"
    },
    "language_info": {
      "codemirror_mode": {
        "name": "ipython",
        "version": 3
      },
      "file_extension": ".py",
      "mimetype": "text/x-python",
      "name": "python",
      "nbconvert_exporter": "python",
      "pygments_lexer": "ipython3",
      "version": "3.7.4"
    },
    "colab": {
      "name": "In-class-exercise-03.ipynb",
      "provenance": [],
      "collapsed_sections": [],
      "toc_visible": true
    }
  },
  "cells": [
    {
      "cell_type": "markdown",
      "metadata": {
        "id": "DLOmYtvE2YRL",
        "colab_type": "text"
      },
      "source": [
        "## The third In-class-exercise (9/16/2020, 20 points in total)"
      ]
    },
    {
      "cell_type": "markdown",
      "metadata": {
        "id": "D-lDkoLi2YRN",
        "colab_type": "text"
      },
      "source": [
        "The purpose of this exercise is to under users' information needs, then collect the data for analysis."
      ]
    },
    {
      "cell_type": "markdown",
      "metadata": {
        "id": "j1w0FvjC2YRO",
        "colab_type": "text"
      },
      "source": [
        "Question 1 (8 points): Describe an interesting research question (or practical question) you have in mind, what kind of data should be collected to answer the question(s)? How many data needed for the analysis? The detail steps for collecting and save the data. "
      ]
    },
    {
      "cell_type": "code",
      "metadata": {
        "id": "FbnlgQnl2YRO",
        "colab_type": "code",
        "colab": {
          "base_uri": "https://localhost:8080/",
          "height": 171
        },
        "outputId": "25b9bf53-653a-4dfe-d9cb-06c92077be12"
      },
      "source": [
        "# Your answer here (no code for this question, write down your answer as detail as possible for the above questions):\n",
        "\n",
        "'''\n",
        "Please write you answer here:\n",
        "\n",
        "Research Topic:\n",
        "                Project Euler: This is like a bible for coders, we can find this website online by searching \n",
        "                               'Project Euler'.It has challenging problems from beginners to advanced.\n",
        "  \n",
        "  Questions:\n",
        "             1. find the top 10 Beginner problem ?\n",
        "             2. find the top 10  Advanced problem?\n",
        "\n",
        "- There are 715 Questions in 'Project Euler' and we need to collect all to find the answers for above questions.\n",
        "- We use 'Solved_By' Feature to answer the questions as, number of people able to solve the particular problem will\n",
        "  tell us what level of difficulty those problems are in.\n",
        "\n",
        "Steps to Collect and Save the Data:\n",
        "   Step 1: import Pandas for creating a data frame.\n",
        "   Step 2: import requests for saving the page in a variable from the URL.\n",
        "   Step 3: From bs4 import BeautifulSoup to parse the content present in page \n",
        "   Step 4: Create Required lists for saving data for the data frame and transformations.\n",
        "   Step 5: Use loops to append data into the arrays\n",
        "   Step 6: Create a Data Frame using pandas\n",
        "   Step 7: Download the Data Frame to csv format.\n",
        "'''"
      ],
      "execution_count": 1,
      "outputs": [
        {
          "output_type": "execute_result",
          "data": {
            "application/vnd.google.colaboratory.intrinsic+json": {
              "type": "string"
            },
            "text/plain": [
              "\"\\nPlease write you answer here:\\n\\nResearch Topic:\\n                Project Euler: This is like a bible for coders, we can find this website online by searching \\n                               'Project Euler'.It has challenging problems from beginners to advanced.\\n  \\n  Questions:\\n             1. find the top 10 Beginner problem ?\\n             2. find the to 10  Advanced problem?\\n\\n- There are 715 Questions in 'Project Euler' and we need to collect all to find the answers for above questions.\\n\\nSteps to Collect and Save the Data:\\n   Step 1: import Pandas for creating a data frame.\\n   Step 2: import requests for saving the page in a variable from the URL.\\n   Step 3: From bs4 import BeautifulSoup to parse the content present in page \\n   Step 4: Create Required lists for saving data for the data frame and transformations.\\n   Step 5: Use loops to append data into the arrays\\n   Step 6: Create a Data Frame using pandas\\n   Step 7: Download the Data Frame to csv format.\\n\""
            ]
          },
          "metadata": {
            "tags": []
          },
          "execution_count": 1
        }
      ]
    },
    {
      "cell_type": "markdown",
      "metadata": {
        "id": "nFzvG-Sz2YRS",
        "colab_type": "text"
      },
      "source": [
        "Question 2 (12 points): Write python code to collect 500 items of the data you plan to collect above."
      ]
    },
    {
      "cell_type": "code",
      "metadata": {
        "id": "KE776wLS2YRT",
        "colab_type": "code",
        "colab": {
          "base_uri": "https://localhost:8080/",
          "height": 204
        },
        "outputId": "9ed473db-9353-4e8d-8beb-0728679ad5bb"
      },
      "source": [
        "# You code here (Please add comments in the code):\n",
        "\n",
        "import pandas as pd\n",
        "import requests\n",
        "from bs4 import BeautifulSoup\n",
        "Id = []\n",
        "Id_List = [ ]\n",
        "tableRow = [ ]\n",
        "Description = []\n",
        "Description_List = [ ]\n",
        "Solved_By = []\n",
        "Solved_By_List = [ ]\n",
        "for i in range(1,16):\n",
        " page = requests.get('https://projecteuler.net/archives;page='+ str (i))\n",
        " soup = BeautifulSoup(page.content,'html.parser')\n",
        " Id.append(soup.find_all('td',class_=\"id_column\"))\n",
        " tableRow.append(soup.find_all('tr')) #for loop till\n",
        " Solved_By.append(soup.find_all('div',class_=\"center\"))\n",
        "for item in Id:\n",
        "  for i in range(len(item)):\n",
        "    Id_List.append(int (item[i].get_text()))\n",
        "for item in tableRow:\n",
        "  for i in range(len(item)):\n",
        "    Description.append(item[i].find('a'))\n",
        "for item in Solved_By:\n",
        "  for i in range(len(item)):\n",
        "    Solved_By_List.append(int (item[i].get_text())) \n",
        "Description = list(filter(None.__ne__, Description))\n",
        "for item in Description:\n",
        "  Description_List.append(item.get_text())\n",
        "df= pd.DataFrame({'Id':Id_List,'Description': Description_List,'Solved_By':Solved_By_List})\n",
        "df.to_csv('Euler.csv', index= False)\n",
        "df.head(5)"
      ],
      "execution_count": 2,
      "outputs": [
        {
          "output_type": "execute_result",
          "data": {
            "text/html": [
              "<div>\n",
              "<style scoped>\n",
              "    .dataframe tbody tr th:only-of-type {\n",
              "        vertical-align: middle;\n",
              "    }\n",
              "\n",
              "    .dataframe tbody tr th {\n",
              "        vertical-align: top;\n",
              "    }\n",
              "\n",
              "    .dataframe thead th {\n",
              "        text-align: right;\n",
              "    }\n",
              "</style>\n",
              "<table border=\"1\" class=\"dataframe\">\n",
              "  <thead>\n",
              "    <tr style=\"text-align: right;\">\n",
              "      <th></th>\n",
              "      <th>Id</th>\n",
              "      <th>Description</th>\n",
              "      <th>Solved_By</th>\n",
              "    </tr>\n",
              "  </thead>\n",
              "  <tbody>\n",
              "    <tr>\n",
              "      <th>0</th>\n",
              "      <td>1</td>\n",
              "      <td>Multiples of 3 and 5</td>\n",
              "      <td>964535</td>\n",
              "    </tr>\n",
              "    <tr>\n",
              "      <th>1</th>\n",
              "      <td>2</td>\n",
              "      <td>Even Fibonacci numbers</td>\n",
              "      <td>767627</td>\n",
              "    </tr>\n",
              "    <tr>\n",
              "      <th>2</th>\n",
              "      <td>3</td>\n",
              "      <td>Largest prime factor</td>\n",
              "      <td>550122</td>\n",
              "    </tr>\n",
              "    <tr>\n",
              "      <th>3</th>\n",
              "      <td>4</td>\n",
              "      <td>Largest palindrome product</td>\n",
              "      <td>485900</td>\n",
              "    </tr>\n",
              "    <tr>\n",
              "      <th>4</th>\n",
              "      <td>5</td>\n",
              "      <td>Smallest multiple</td>\n",
              "      <td>489538</td>\n",
              "    </tr>\n",
              "  </tbody>\n",
              "</table>\n",
              "</div>"
            ],
            "text/plain": [
              "   Id                 Description  Solved_By\n",
              "0   1        Multiples of 3 and 5     964535\n",
              "1   2      Even Fibonacci numbers     767627\n",
              "2   3        Largest prime factor     550122\n",
              "3   4  Largest palindrome product     485900\n",
              "4   5           Smallest multiple     489538"
            ]
          },
          "metadata": {
            "tags": []
          },
          "execution_count": 2
        }
      ]
    },
    {
      "cell_type": "code",
      "metadata": {
        "id": "VMSBU1UITXML",
        "colab_type": "code",
        "colab": {
          "base_uri": "https://localhost:8080/",
          "height": 493
        },
        "outputId": "61208b78-6f56-454e-c9b1-66a76b7f4cdf"
      },
      "source": [
        "#Answers for Questions 1 & 2\n",
        "\n",
        "df = df.sort_values('Solved_By',ascending= False) # sorting in descending order\n",
        "print(\"Top 10 Beginner problems:\\n\\n\",df.head(10)) #top 10 Beginner Level Problems for coders\n",
        "print('\\n')\n",
        "#Answers for Questions 2\n",
        "\n",
        "df = df.sort_values('Solved_By',ascending= True) # sorting in ascending order\n",
        "print(\"Top 10 Advanced problems:\\n\\n\",df.head(10)) #top 10 Advanced Level Problems for coders"
      ],
      "execution_count": 8,
      "outputs": [
        {
          "output_type": "stream",
          "text": [
            "Top 10 Beginner problems:\n",
            "\n",
            "    Id                  Description  Solved_By\n",
            "0   1         Multiples of 3 and 5     964535\n",
            "1   2       Even Fibonacci numbers     767627\n",
            "2   3         Largest prime factor     550122\n",
            "5   6        Sum square difference     492549\n",
            "4   5            Smallest multiple     489538\n",
            "3   4   Largest palindrome product     485900\n",
            "6   7                10001st prime     420854\n",
            "8   9  Special Pythagorean triplet     356991\n",
            "7   8  Largest product in a series     351511\n",
            "9  10          Summation of primes     326659\n",
            "\n",
            "\n",
            "Top 10 Advanced problems:\n",
            "\n",
            "       Id                      Description  Solved_By\n",
            "695  696                          Mahjong         97\n",
            "701  702                     Jumping Flea        111\n",
            "596  597                          Torpids        131\n",
            "578  579  Lattice points in lattice cubes        131\n",
            "565  566                Cake Icing Puzzle        131\n",
            "643  644              Squares on the line        134\n",
            "670  671                 Colouring a Loop        137\n",
            "584  585              Nested square roots        140\n",
            "714  715                  Sextuplet Norms        141\n",
            "635  636        Restricted Factorisations        143\n"
          ],
          "name": "stdout"
        }
      ]
    },
    {
      "cell_type": "code",
      "metadata": {
        "id": "9L3kkKqiG6pK",
        "colab_type": "code",
        "colab": {}
      },
      "source": [
        ""
      ],
      "execution_count": 3,
      "outputs": []
    }
  ]
}
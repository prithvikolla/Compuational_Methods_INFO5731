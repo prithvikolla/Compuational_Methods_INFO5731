{
  "nbformat": 4,
  "nbformat_minor": 0,
  "metadata": {
    "colab": {
      "name": "INFO_5731_Assignment_3.ipynb",
      "provenance": [],
      "collapsed_sections": [],
      "toc_visible": true
    },
    "kernelspec": {
      "name": "python3",
      "display_name": "Python 3"
    }
  },
  "cells": [
    {
      "cell_type": "markdown",
      "metadata": {
        "id": "view-in-github"
      },
      "source": [
        "<a href=\"https://colab.research.google.com/github/unt-iialab/INFO5731_Spring2020/blob/master/Assignments/INFO5731_Assignment_Three.ipynb\" target=\"_parent\"><img src=\"https://colab.research.google.com/assets/colab-badge.svg\" alt=\"Open In Colab\"/></a>"
      ]
    },
    {
      "cell_type": "markdown",
      "metadata": {
        "id": "USSdXHuqnwv9"
      },
      "source": [
        "# **INFO5731 Assignment Three**\n",
        "\n",
        "In this assignment, you are required to conduct information extraction, semantic analysis based on **the dataset you collected from assignment two**. You may use scipy and numpy package in this assignment."
      ]
    },
    {
      "cell_type": "code",
      "metadata": {
        "id": "adEmybUfE7j0",
        "outputId": "9022467b-7728-40e4-fac3-f9062a4b3b89",
        "colab": {
          "base_uri": "https://localhost:8080/",
          "height": 119
        }
      },
      "source": [
        "%tensorflow_version 1.8\n",
        "import tensorflow as tf\n",
        "print(tf.__version__)"
      ],
      "execution_count": 1,
      "outputs": [
        {
          "output_type": "stream",
          "text": [
            "`%tensorflow_version` only switches the major version: 1.x or 2.x.\n",
            "You set: `1.8`. This will be interpreted as: `1.x`.\n",
            "\n",
            "\n",
            "TensorFlow 1.x selected.\n",
            "1.15.2\n"
          ],
          "name": "stdout"
        }
      ]
    },
    {
      "cell_type": "code",
      "metadata": {
        "id": "Z92HTMx6FAZ0",
        "outputId": "9f27d02f-c4ff-4da2-9290-40134be29435",
        "colab": {
          "base_uri": "https://localhost:8080/",
          "height": 377
        }
      },
      "source": [
        "import pandas as pd\n",
        "import requests\n",
        "from bs4 import BeautifulSoup\n",
        "name = [ ]\n",
        "name_List = [ ]\n",
        "abstract = [ ]\n",
        "abstract_List=[ ]\n",
        "page_number = [0,10,20,30,40,50,60,70,80,90]\n",
        "for i in page_number:\n",
        " page = requests.get('https://citeseerx.ist.psu.edu/search;jsessionid=87FF6C66EA09F22314C131669600CF98?q=natural+language+processing&t=doc&sort=rlv&start='+ str (i), verify=False)\n",
        " soup = BeautifulSoup(page.content,'html.parser')\n",
        " name.append(soup.find_all('a',class_='remove doc_details'))\n",
        " abstract.append(soup.find_all('div',class_='pubabstract'))"
      ],
      "execution_count": 2,
      "outputs": [
        {
          "output_type": "stream",
          "text": [
            "/usr/local/lib/python3.6/dist-packages/urllib3/connectionpool.py:847: InsecureRequestWarning: Unverified HTTPS request is being made. Adding certificate verification is strongly advised. See: https://urllib3.readthedocs.io/en/latest/advanced-usage.html#ssl-warnings\n",
            "  InsecureRequestWarning)\n",
            "/usr/local/lib/python3.6/dist-packages/urllib3/connectionpool.py:847: InsecureRequestWarning: Unverified HTTPS request is being made. Adding certificate verification is strongly advised. See: https://urllib3.readthedocs.io/en/latest/advanced-usage.html#ssl-warnings\n",
            "  InsecureRequestWarning)\n",
            "/usr/local/lib/python3.6/dist-packages/urllib3/connectionpool.py:847: InsecureRequestWarning: Unverified HTTPS request is being made. Adding certificate verification is strongly advised. See: https://urllib3.readthedocs.io/en/latest/advanced-usage.html#ssl-warnings\n",
            "  InsecureRequestWarning)\n",
            "/usr/local/lib/python3.6/dist-packages/urllib3/connectionpool.py:847: InsecureRequestWarning: Unverified HTTPS request is being made. Adding certificate verification is strongly advised. See: https://urllib3.readthedocs.io/en/latest/advanced-usage.html#ssl-warnings\n",
            "  InsecureRequestWarning)\n",
            "/usr/local/lib/python3.6/dist-packages/urllib3/connectionpool.py:847: InsecureRequestWarning: Unverified HTTPS request is being made. Adding certificate verification is strongly advised. See: https://urllib3.readthedocs.io/en/latest/advanced-usage.html#ssl-warnings\n",
            "  InsecureRequestWarning)\n",
            "/usr/local/lib/python3.6/dist-packages/urllib3/connectionpool.py:847: InsecureRequestWarning: Unverified HTTPS request is being made. Adding certificate verification is strongly advised. See: https://urllib3.readthedocs.io/en/latest/advanced-usage.html#ssl-warnings\n",
            "  InsecureRequestWarning)\n",
            "/usr/local/lib/python3.6/dist-packages/urllib3/connectionpool.py:847: InsecureRequestWarning: Unverified HTTPS request is being made. Adding certificate verification is strongly advised. See: https://urllib3.readthedocs.io/en/latest/advanced-usage.html#ssl-warnings\n",
            "  InsecureRequestWarning)\n",
            "/usr/local/lib/python3.6/dist-packages/urllib3/connectionpool.py:847: InsecureRequestWarning: Unverified HTTPS request is being made. Adding certificate verification is strongly advised. See: https://urllib3.readthedocs.io/en/latest/advanced-usage.html#ssl-warnings\n",
            "  InsecureRequestWarning)\n",
            "/usr/local/lib/python3.6/dist-packages/urllib3/connectionpool.py:847: InsecureRequestWarning: Unverified HTTPS request is being made. Adding certificate verification is strongly advised. See: https://urllib3.readthedocs.io/en/latest/advanced-usage.html#ssl-warnings\n",
            "  InsecureRequestWarning)\n",
            "/usr/local/lib/python3.6/dist-packages/urllib3/connectionpool.py:847: InsecureRequestWarning: Unverified HTTPS request is being made. Adding certificate verification is strongly advised. See: https://urllib3.readthedocs.io/en/latest/advanced-usage.html#ssl-warnings\n",
            "  InsecureRequestWarning)\n"
          ],
          "name": "stderr"
        }
      ]
    },
    {
      "cell_type": "code",
      "metadata": {
        "id": "Azkrd8aTFJof"
      },
      "source": [
        "for j in name:\n",
        "  for k in range(len(j)):\n",
        "    name_List.append(j[k].get_text())"
      ],
      "execution_count": 3,
      "outputs": []
    },
    {
      "cell_type": "code",
      "metadata": {
        "id": "6ViThIXjFKfN"
      },
      "source": [
        "for l in abstract:\n",
        "  for m in range(len(l)):\n",
        "    abstract_List.append(l[m].get_text())"
      ],
      "execution_count": 4,
      "outputs": []
    },
    {
      "cell_type": "code",
      "metadata": {
        "id": "rR2kXvaqFOBX"
      },
      "source": [
        "df = pd.DataFrame({'Article':name_List,'Abstract': abstract_List})"
      ],
      "execution_count": 5,
      "outputs": []
    },
    {
      "cell_type": "code",
      "metadata": {
        "id": "oJ7yJDXsFQrj",
        "outputId": "fe970b2f-c2d9-4262-9537-87e14f1258ed",
        "colab": {
          "base_uri": "https://localhost:8080/",
          "height": 204
        }
      },
      "source": [
        "df.head()"
      ],
      "execution_count": 6,
      "outputs": [
        {
          "output_type": "execute_result",
          "data": {
            "text/html": [
              "<div>\n",
              "<style scoped>\n",
              "    .dataframe tbody tr th:only-of-type {\n",
              "        vertical-align: middle;\n",
              "    }\n",
              "\n",
              "    .dataframe tbody tr th {\n",
              "        vertical-align: top;\n",
              "    }\n",
              "\n",
              "    .dataframe thead th {\n",
              "        text-align: right;\n",
              "    }\n",
              "</style>\n",
              "<table border=\"1\" class=\"dataframe\">\n",
              "  <thead>\n",
              "    <tr style=\"text-align: right;\">\n",
              "      <th></th>\n",
              "      <th>Article</th>\n",
              "      <th>Abstract</th>\n",
              "    </tr>\n",
              "  </thead>\n",
              "  <tbody>\n",
              "    <tr>\n",
              "      <th>0</th>\n",
              "      <td>\\n                  Foundations of statistical...</td>\n",
              "      <td>\\n                    Abstract not found\\n    ...</td>\n",
              "    </tr>\n",
              "    <tr>\n",
              "      <th>1</th>\n",
              "      <td>\\n                  A Maximum Entropy approach...</td>\n",
              "      <td>\\n                     describe a method for s...</td>\n",
              "    </tr>\n",
              "    <tr>\n",
              "      <th>2</th>\n",
              "      <td>\\nNatural Language Processing\\n</td>\n",
              "      <td>\\n                    Scaling conditional rand...</td>\n",
              "    </tr>\n",
              "    <tr>\n",
              "      <th>3</th>\n",
              "      <td>\\n                  Linguistics and Natural La...</td>\n",
              "      <td>\\n                    The paper addresses the ...</td>\n",
              "    </tr>\n",
              "    <tr>\n",
              "      <th>4</th>\n",
              "      <td>\\nNatural Language Processing\\n</td>\n",
              "      <td>\\n                    In most natural language...</td>\n",
              "    </tr>\n",
              "  </tbody>\n",
              "</table>\n",
              "</div>"
            ],
            "text/plain": [
              "                                             Article                                           Abstract\n",
              "0  \\n                  Foundations of statistical...  \\n                    Abstract not found\\n    ...\n",
              "1  \\n                  A Maximum Entropy approach...  \\n                     describe a method for s...\n",
              "2                    \\nNatural Language Processing\\n  \\n                    Scaling conditional rand...\n",
              "3  \\n                  Linguistics and Natural La...  \\n                    The paper addresses the ...\n",
              "4                    \\nNatural Language Processing\\n  \\n                    In most natural language..."
            ]
          },
          "metadata": {
            "tags": []
          },
          "execution_count": 6
        }
      ]
    },
    {
      "cell_type": "code",
      "metadata": {
        "id": "ujQu_GTSFTC2",
        "outputId": "63999c52-5749-4167-9965-fab42f16f83d",
        "colab": {
          "base_uri": "https://localhost:8080/",
          "height": 51
        }
      },
      "source": [
        "#1 Noise removal\n",
        "df['Article'] = df['Article'].replace('\\n','',regex = True)\n",
        "df['Abstract'] = df['Abstract'].replace('\\n','',regex = True)\n",
        "df['Article'] = df['Article'].replace('[^\\w\\s]','',regex = True)\n",
        "df['Abstract'] = df['Abstract'].replace('[^\\w\\s]','',regex = True)\n",
        "#2 Remove numbers\n",
        "df['Article'] = df['Article'].str.replace('\\d+','')\n",
        "df['Abstract'] = df['Abstract'].str.replace('\\d+','')\n",
        "#3 Remove StopWords\n",
        "stop_Words = [\"i\", \"me\", \"my\", \"myself\", \"we\", \"our\", \"ours\", \n",
        "              \"ourselves\", \"you\", \"your\", \"yours\", \"yourself\",\n",
        "              \"yourselves\", \"he\", \"him\", \"his\", \"himself\", \"she\", \"her\",\n",
        "              \"hers\", \"herself\", \"it\", \"its\", \"itself\", \"they\", \"them\",\n",
        "              \"their\", \"theirs\", \"themselves\", \"what\", \"which\", \"who\",\n",
        "              \"whom\", \"this\", \"that\", \"these\", \"those\", \"am\", \"is\",\n",
        "              \"are\", \"was\", \"were\", \"be\", \"been\", \"being\", \"have\",\n",
        "              \"has\", \"had\", \"having\", \"do\", \"does\", \"did\", \"doing\",\n",
        "              \"a\", \"an\", \"the\", \"and\", \"but\", \"if\", \"or\", \"because\",\n",
        "              \"as\", \"until\", \"while\", \"of\", \"at\", \"by\", \"for\", \"with\",\n",
        "              \"about\", \"against\", \"between\", \"into\", \"through\",\n",
        "              \"during\", \"before\", \"after\", \"above\", \"below\", \"to\",\n",
        "              \"from\", \"up\", \"down\", \"in\", \"out\", \"on\", \"off\", \"over\",\n",
        "              \"under\", \"again\", \"further\", \"then\", \"once\", \"here\",\n",
        "              \"there\", \"when\", \"where\", \"why\", \"how\", \"all\", \"any\",\n",
        "              \"both\", \"each\", \"few\", \"more\", \"most\", \"other\", \"some\",\n",
        "              \"such\", \"no\", \"nor\", \"not\", \"only\", \"own\", \"same\", \"so\",\n",
        "              \"than\", \"too\", \"very\", \"s\", \"t\", \"can\", \"will\", \"just\",\n",
        "              \"don\", \"should\", \"now\"]\n",
        "# stop = stopwords.words('english')\n",
        "df['Article'] = df['Article'].apply(lambda x: \" \".join(x for x in x.split() if x not in stop_Words))\n",
        "df['Abstract'] = df['Abstract'].apply(lambda x: \" \".join(x for x in x.split() if x not in stop_Words))\n",
        "#4 Lowercase all text\n",
        "df['Article'] = df['Article'].str.lower()\n",
        "df['Abstract'] = df['Abstract'].str.lower()\n",
        "#5 Stemming\n",
        "from nltk.stem import PorterStemmer\n",
        "st = PorterStemmer()\n",
        "df['Article'] = df['Article'].apply(lambda x: \" \".join([st.stem(word) for word in x.split()]))\n",
        "df['Abstract']= df['Abstract'].apply(lambda x: \" \".join([st.stem(word) for word in x.split()]))\n",
        "#6 Lemmatization\n",
        "from textblob import Word\n",
        "import nltk\n",
        "nltk.download('wordnet')\n",
        "df['Abstract']=df['Abstract'].apply(lambda x: \" \".join([Word(word).lemmatize() for word in x.split()]))"
      ],
      "execution_count": 7,
      "outputs": [
        {
          "output_type": "stream",
          "text": [
            "[nltk_data] Downloading package wordnet to /root/nltk_data...\n",
            "[nltk_data]   Package wordnet is already up-to-date!\n"
          ],
          "name": "stdout"
        }
      ]
    },
    {
      "cell_type": "code",
      "metadata": {
        "id": "sdwacxuyHjW7",
        "outputId": "ea93b3de-4347-4b01-9af5-f5575b29de00",
        "colab": {
          "base_uri": "https://localhost:8080/",
          "height": 359
        }
      },
      "source": [
        "df.head(10)"
      ],
      "execution_count": 8,
      "outputs": [
        {
          "output_type": "execute_result",
          "data": {
            "text/html": [
              "<div>\n",
              "<style scoped>\n",
              "    .dataframe tbody tr th:only-of-type {\n",
              "        vertical-align: middle;\n",
              "    }\n",
              "\n",
              "    .dataframe tbody tr th {\n",
              "        vertical-align: top;\n",
              "    }\n",
              "\n",
              "    .dataframe thead th {\n",
              "        text-align: right;\n",
              "    }\n",
              "</style>\n",
              "<table border=\"1\" class=\"dataframe\">\n",
              "  <thead>\n",
              "    <tr style=\"text-align: right;\">\n",
              "      <th></th>\n",
              "      <th>Article</th>\n",
              "      <th>Abstract</th>\n",
              "    </tr>\n",
              "  </thead>\n",
              "  <tbody>\n",
              "    <tr>\n",
              "      <th>0</th>\n",
              "      <td>foundat statist natur languag process</td>\n",
              "      <td>abstract found</td>\n",
              "    </tr>\n",
              "    <tr>\n",
              "      <th>1</th>\n",
              "      <td>a maximum entropi approach natur languag process</td>\n",
              "      <td>describ method statist model base maximum entr...</td>\n",
              "    </tr>\n",
              "    <tr>\n",
              "      <th>2</th>\n",
              "      <td>natur languag process</td>\n",
              "      <td>scale condit random field natur languag proces...</td>\n",
              "    </tr>\n",
              "    <tr>\n",
              "      <th>3</th>\n",
              "      <td>linguist natur languag process</td>\n",
              "      <td>the paper address issu cooper linguist natur l...</td>\n",
              "    </tr>\n",
              "    <tr>\n",
              "      <th>4</th>\n",
              "      <td>natur languag process</td>\n",
              "      <td>in natur languag process applic descript logic...</td>\n",
              "    </tr>\n",
              "    <tr>\n",
              "      <th>5</th>\n",
              "      <td>natur languag process almost scratch</td>\n",
              "      <td>we propos unifi neural network architectur lea...</td>\n",
              "    </tr>\n",
              "    <tr>\n",
              "      <th>6</th>\n",
              "      <td>natur languag process</td>\n",
              "      <td>natur languag process the subject natur langua...</td>\n",
              "    </tr>\n",
              "    <tr>\n",
              "      <th>7</th>\n",
              "      <td>natur languag processingrobot</td>\n",
              "      <td>robot interact human facetofac use natur langu...</td>\n",
              "    </tr>\n",
              "    <tr>\n",
              "      <th>8</th>\n",
              "      <td>tutori natur languag process</td>\n",
              "      <td>natur languag languag spoken human current yet...</td>\n",
              "    </tr>\n",
              "    <tr>\n",
              "      <th>9</th>\n",
              "      <td>ambigu natur languag process</td>\n",
              "      <td>abstract ambigu refer abil one mean understood...</td>\n",
              "    </tr>\n",
              "  </tbody>\n",
              "</table>\n",
              "</div>"
            ],
            "text/plain": [
              "                                            Article                                           Abstract\n",
              "0             foundat statist natur languag process                                     abstract found\n",
              "1  a maximum entropi approach natur languag process  describ method statist model base maximum entr...\n",
              "2                             natur languag process  scale condit random field natur languag proces...\n",
              "3                    linguist natur languag process  the paper address issu cooper linguist natur l...\n",
              "4                             natur languag process  in natur languag process applic descript logic...\n",
              "5              natur languag process almost scratch  we propos unifi neural network architectur lea...\n",
              "6                             natur languag process  natur languag process the subject natur langua...\n",
              "7                     natur languag processingrobot  robot interact human facetofac use natur langu...\n",
              "8                      tutori natur languag process  natur languag languag spoken human current yet...\n",
              "9                      ambigu natur languag process  abstract ambigu refer abil one mean understood..."
            ]
          },
          "metadata": {
            "tags": []
          },
          "execution_count": 8
        }
      ]
    },
    {
      "cell_type": "markdown",
      "metadata": {
        "id": "YWxodXh5n4xF"
      },
      "source": [
        "# **Question 1: Understand N-gram**"
      ]
    },
    {
      "cell_type": "markdown",
      "metadata": {
        "id": "TenBkDJ5n95k"
      },
      "source": [
        "(45 points). Write a python program to conduct N-gram analysis based on the dataset in your assignment two:\n",
        "\n",
        "(1) Count the frequency of all the N-grams (N=3).\n",
        "\n",
        "(2) Calculate the probabilities for all the bigrams in the dataset by using the fomular count(w2 w1) / count(w2). For example, count(really like) / count(really) = 1 / 3 = 0.33.\n",
        "\n",
        "(3) Extract all the **noun phrases** and calculate the relative probabilities of each review in terms of other reviews (abstracts, or tweets) by using the fomular frequency (noun phrase) / max frequency (noun phrase) on the whole dataset. Print out the result in a table with column name the all the noun phrases and row name as all the 100 reviews (abstracts, or tweets). \n"
      ]
    },
    {
      "cell_type": "code",
      "metadata": {
        "id": "PuFPKhC0m1fd"
      },
      "source": [
        "# Write your code here\n",
        "import nltk\n",
        "from nltk import word_tokenize\n",
        "from nltk.util import ngrams\n",
        "from collections import Counter"
      ],
      "execution_count": 9,
      "outputs": []
    },
    {
      "cell_type": "code",
      "metadata": {
        "id": "l6oqbJqWXlIv",
        "outputId": "66544269-b13c-4935-9ed1-fc154deb81aa",
        "colab": {
          "base_uri": "https://localhost:8080/",
          "height": 68
        }
      },
      "source": [
        "nltk.download('punkt')"
      ],
      "execution_count": 10,
      "outputs": [
        {
          "output_type": "stream",
          "text": [
            "[nltk_data] Downloading package punkt to /root/nltk_data...\n",
            "[nltk_data]   Package punkt is already up-to-date!\n"
          ],
          "name": "stdout"
        },
        {
          "output_type": "execute_result",
          "data": {
            "text/plain": [
              "True"
            ]
          },
          "metadata": {
            "tags": []
          },
          "execution_count": 10
        }
      ]
    },
    {
      "cell_type": "code",
      "metadata": {
        "id": "EvE-5JFsKeLW"
      },
      "source": [
        "df['WordToken_Abstract'] = df['Abstract'].apply(lambda x: word_tokenize(x))\n",
        "df['WordToken_Article'] = df['Article'].apply(lambda x: word_tokenize(x))"
      ],
      "execution_count": 11,
      "outputs": []
    },
    {
      "cell_type": "code",
      "metadata": {
        "id": "Py1wjCCqxX6d",
        "outputId": "b3f892db-a7f2-4f76-d64a-f7fd02771d9d",
        "colab": {
          "base_uri": "https://localhost:8080/",
          "height": 71
        }
      },
      "source": [
        "df['TriGram_Abstract'] = df['WordToken_Abstract'].apply(lambda x: list (ngrams(x,3)))\n",
        "df['TriGram_Article'] = df['WordToken_Article'].apply(lambda x: list (ngrams(x,3)))"
      ],
      "execution_count": 12,
      "outputs": [
        {
          "output_type": "stream",
          "text": [
            "/usr/local/lib/python3.6/dist-packages/ipykernel_launcher.py:1: DeprecationWarning: generator 'ngrams' raised StopIteration\n",
            "  \"\"\"Entry point for launching an IPython kernel.\n"
          ],
          "name": "stderr"
        }
      ]
    },
    {
      "cell_type": "code",
      "metadata": {
        "id": "c9jWd0pXxyko",
        "outputId": "665e408d-3e67-4490-d1e6-68921d94cb4a",
        "colab": {
          "base_uri": "https://localhost:8080/",
          "height": 119
        }
      },
      "source": [
        "df['TriGram_Abstract'].head()"
      ],
      "execution_count": 13,
      "outputs": [
        {
          "output_type": "execute_result",
          "data": {
            "text/plain": [
              "0                                                   []\n",
              "1    [(describ, method, statist), (method, statist,...\n",
              "2    [(scale, condit, random), (condit, random, fie...\n",
              "3    [(the, paper, address), (paper, address, issu)...\n",
              "4    [(in, natur, languag), (natur, languag, proces...\n",
              "Name: TriGram_Abstract, dtype: object"
            ]
          },
          "metadata": {
            "tags": []
          },
          "execution_count": 13
        }
      ]
    },
    {
      "cell_type": "code",
      "metadata": {
        "id": "TCL-ozg1MLI4",
        "outputId": "3f380c1d-de12-4205-e91a-1ef9e789f9c3",
        "colab": {
          "base_uri": "https://localhost:8080/",
          "height": 119
        }
      },
      "source": [
        "df['TriGram_Article'].head()"
      ],
      "execution_count": 14,
      "outputs": [
        {
          "output_type": "execute_result",
          "data": {
            "text/plain": [
              "0    [(foundat, statist, natur), (statist, natur, l...\n",
              "1    [(a, maximum, entropi), (maximum, entropi, app...\n",
              "2                          [(natur, languag, process)]\n",
              "3    [(linguist, natur, languag), (natur, languag, ...\n",
              "4                          [(natur, languag, process)]\n",
              "Name: TriGram_Article, dtype: object"
            ]
          },
          "metadata": {
            "tags": []
          },
          "execution_count": 14
        }
      ]
    },
    {
      "cell_type": "code",
      "metadata": {
        "id": "CiJm7NWvTqEt"
      },
      "source": [
        "from itertools import chain\n",
        "\n",
        "article_Trigram_list = list (chain(*df['TriGram_Article']))\n",
        "abstract_Trigram_list = list (chain(*df['TriGram_Abstract']))\n"
      ],
      "execution_count": 15,
      "outputs": []
    },
    {
      "cell_type": "code",
      "metadata": {
        "id": "6ybW_qJkW681",
        "outputId": "e0d83914-158e-46cb-cdb3-a012d4ce34d2",
        "colab": {
          "base_uri": "https://localhost:8080/",
          "height": 54
        }
      },
      "source": [
        "print(Counter(article_Trigram_list))"
      ],
      "execution_count": 16,
      "outputs": [
        {
          "output_type": "stream",
          "text": [
            "Counter({('natur', 'languag', 'process'): 98, ('learn', 'natur', 'languag'): 5, ('languag', 'process', 'system'): 5, ('for', 'natur', 'languag'): 5, ('languag', 'process', 'inform'): 4, ('process', 'inform', 'retriev'): 4, ('statist', 'natur', 'languag'): 2, ('approach', 'natur', 'languag'): 2, ('languag', 'process', 'a'): 2, ('overview', 'natur', 'languag'): 2, ('evalu', 'natur', 'languag'): 2, ('languag', 'process', 'use'): 2, ('logic', 'natur', 'languag'): 2, ('model', 'natur', 'languag'): 2, ('on', 'natur', 'languag'): 2, ('languag', 'process', 'plan'): 2, ('process', 'plan', 'recognit'): 2, ('machin', 'learn', 'natur'): 2, ('languag', 'process', 'in'): 2, ('computerassist', 'languag', 'learn'): 2, ('in', 'natur', 'languag'): 2, ('foundat', 'statist', 'natur'): 1, ('a', 'maximum', 'entropi'): 1, ('maximum', 'entropi', 'approach'): 1, ('entropi', 'approach', 'natur'): 1, ('linguist', 'natur', 'languag'): 1, ('languag', 'process', 'almost'): 1, ('process', 'almost', 'scratch'): 1, ('natur', 'languag', 'processingrobot'): 1, ('tutori', 'natur', 'languag'): 1, ('ambigu', 'natur', 'languag'): 1, ('languag', 'process', 'lyric'): 1, ('transformationbas', 'errordriven', 'learn'): 1, ('errordriven', 'learn', 'natur'): 1, ('process', 'a', 'case'): 1, ('a', 'case', 'studi'): 1, ('case', 'studi', 'partofspeech'): 1, ('studi', 'partofspeech', 'tag'): 1, ('connectionist', 'natur', 'languag'): 1, ('chao', 'natur', 'languag'): 1, ('languag', 'process', 'introduct'): 1, ('analysi', 'natur', 'languag'): 1, ('process', 'use', 'nltk'): 1, ('languag', 'process', 'complex'): 1, ('process', 'complex', 'parallel'): 1, ('larg', 'lexicon', 'for'): 1, ('lexicon', 'for', 'natur'): 1, ('languag', 'process', 'structur'): 1, ('process', 'structur', 'complex'): 1, ('deep', 'learn', 'natur'): 1, ('languag', 'process', 'textual'): 1, ('process', 'textual', 'requir'): 1, ('ant', 'natur', 'languag'): 1, ('ontolog', 'natur', 'languag'): 1, ('retriev', 'natur', 'languag'): 1, ('thesaurus', 'for', 'natur'): 1, ('languag', 'process', 'section'): 1, ('languag', 'process', 'group'): 1, ('biomed', 'natur', 'languag'): 1, ('an', 'introduct', 'natur'): 1, ('introduct', 'natur', 'languag'): 1, ('integr', 'speech', 'naturallanguag'): 1, ('speech', 'naturallanguag', 'process'): 1, ('paradigm', 'merger', 'natur'): 1, ('merger', 'natur', 'languag'): 1, ('visual', 'tool', 'natur'): 1, ('tool', 'natur', 'languag'): 1, ('descript', 'logic', 'natur'): 1, ('structur', 'learn', 'for'): 1, ('learn', 'for', 'natur'): 1, ('commerci', 'applic', 'natur'): 1, ('applic', 'natur', 'languag'): 1, ('network', 'natur', 'languag'): 1, ('current', 'issu', 'softwar'): 1, ('issu', 'softwar', 'engin'): 1, ('softwar', 'engin', 'natur'): 1, ('engin', 'natur', 'languag'): 1, ('kernel', 'sort', 'natur'): 1, ('sort', 'natur', 'languag'): 1, ('distribut', 'approach', 'natur'): 1, ('decompos', 'model', 'natur'): 1, ('inform', 'retriev', 'malayalam'): 1, ('retriev', 'malayalam', 'use'): 1, ('malayalam', 'use', 'natur'): 1, ('use', 'natur', 'languag'): 1, ('induct', 'logic', 'natur'): 1, ('on', 'statist', 'method'): 1, ('statist', 'method', 'natur'): 1, ('method', 'natur', 'languag'): 1, ('process', 'in', 'computerassist'): 1, ('in', 'computerassist', 'languag'): 1, ('session', 'natur', 'languag'): 1, ('process', 'a', 'survey'): 1, ('an', 'overview', 'probabilist'): 1, ('overview', 'probabilist', 'tree'): 1, ('probabilist', 'tree', 'transduc'): 1, ('tree', 'transduc', 'natur'): 1, ('transduc', 'natur', 'languag'): 1, ('principl', 'evalu', 'natur'): 1, ('languag', 'process', 'thoughttreasur'): 1, ('a', 'broadcoverag', 'natur'): 1, ('broadcoverag', 'natur', 'languag'): 1, ('logic', 'program', 'natur'): 1, ('program', 'natur', 'languag'): 1, ('a', 'unifi', 'architectur'): 1, ('unifi', 'architectur', 'natur'): 1, ('architectur', 'natur', 'languag'): 1, ('languag', 'process', 'deep'): 1, ('process', 'deep', 'neural'): 1, ('deep', 'neural', 'network'): 1, ('neural', 'network', 'multitask'): 1, ('network', 'multitask', 'learn'): 1, ('inform', 'retriev', 'use'): 1, ('retriev', 'use', 'robust'): 1, ('use', 'robust', 'natur'): 1, ('robust', 'natur', 'languag'): 1, ('an', 'overview', 'empir'): 1, ('overview', 'empir', 'natur'): 1, ('empir', 'natur', 'languag'): 1, ('toward', 'contextadapt', 'natur'): 1, ('contextadapt', 'natur', 'languag'): 1, ('teach', 'appli', 'natur'): 1, ('appli', 'natur', 'languag'): 1, ('languag', 'process', 'triumph'): 1, ('process', 'triumph', 'tribul'): 1, ('on', 'memori', 'limit'): 1, ('memori', 'limit', 'in'): 1, ('limit', 'in', 'natur'): 1, ('languag', 'process', 'an'): 1, ('process', 'an', 'approach'): 1, ('an', 'approach', 'pars'): 1, ('approach', 'pars', 'semant'): 1, ('pars', 'semant', 'analysi'): 1, ('a', 'review', 'on'): 1, ('review', 'on', 'the'): 1, ('on', 'the', 'progress'): 1, ('the', 'progress', 'of'): 1, ('progress', 'of', 'natur'): 1, ('of', 'natur', 'languag'): 1, ('process', 'in', 'india'): 1, ('an', 'evalu', 'lolita'): 1, ('evalu', 'lolita', 'relat'): 1, ('lolita', 'relat', 'natur'): 1, ('relat', 'natur', 'languag'): 1, ('webbas', 'model', 'natur'): 1, ('languag', 'learn', 'and'): 1, ('learn', 'and', 'natur'): 1, ('and', 'natur', 'languag'): 1, ('learn', 'schemata', 'natur'): 1, ('schemata', 'natur', 'languag'): 1, ('softwar', 'infrastructur', 'natur'): 1, ('infrastructur', 'natur', 'languag'): 1, ('confid', 'estim', 'for'): 1, ('estim', 'for', 'natur'): 1, ('languag', 'process', 'applic'): 1, ('lexic', 'issu', 'natur'): 1, ('issu', 'natur', 'languag'): 1, ('the', 'stanford', 'corenlp'): 1, ('stanford', 'corenlp', 'natur'): 1, ('corenlp', 'natur', 'languag'): 1, ('languag', 'process', 'toolkit'): 1, ('gaussian', 'process', 'natur'): 1, ('process', 'natur', 'languag'): 1, ('an', 'histor', 'overview'): 1, ('histor', 'overview', 'natur'): 1, ('process', 'system', 'that'): 1, ('system', 'that', 'learn'): 1, ('upper', 'model', 'organ'): 1, ('model', 'organ', 'knowledg'): 1, ('organ', 'knowledg', 'natur'): 1, ('knowledg', 'natur', 'languag'): 1, ('selforgan', 'map', 'in'): 1, ('map', 'in', 'natur'): 1, ('a', 'workbench', 'develop'): 1, ('workbench', 'develop', 'natur'): 1, ('develop', 'natur', 'languag'): 1, ('languag', 'process', 'tool'): 1, ('process', 'use', 'educ'): 1, ('neural', 'network', 'comput'): 1, ('network', 'comput', 'natur'): 1, ('comput', 'natur', 'languag'): 1, ('text', 'statist', 'tool'): 1, ('statist', 'tool', 'box'): 1, ('tool', 'box', 'for'): 1, ('box', 'for', 'natur'): 1, ('use', 'frame', 'semant'): 1, ('frame', 'semant', 'natur'): 1, ('semant', 'natur', 'languag'): 1})\n"
          ],
          "name": "stdout"
        }
      ]
    },
    {
      "cell_type": "code",
      "metadata": {
        "id": "VGgDGX-iXvTP",
        "outputId": "c5ecefe0-34b9-4abd-8ef5-83a16951a515",
        "colab": {
          "base_uri": "https://localhost:8080/",
          "height": 54
        }
      },
      "source": [
        "print(Counter(abstract_Trigram_list))"
      ],
      "execution_count": 17,
      "outputs": [
        {
          "output_type": "stream",
          "text": [
            "Counter({('natur', 'languag', 'process'): 72, ('languag', 'process', 'nlp'): 19, ('languag', 'process', 'system'): 6, ('use', 'natur', 'languag'): 4, ('languag', 'process', 'the'): 3, ('natur', 'languag', 'languag'): 3, ('languag', 'process', 'we'): 3, ('languag', 'process', 'techniqu'): 3, ('word', 'sen', 'disambigu'): 3, ('process', 'nlp', 'task'): 3, ('applic', 'natur', 'languag'): 3, ('relat', 'natur', 'languag'): 3, ('lexsign', 'senseid', 'senseid'): 3, ('in', 'natur', 'languag'): 2, ('languag', 'process', 'applic'): 2, ('neural', 'network', 'architectur'): 2, ('languag', 'process', 'task'): 2, ('partofspeech', 'tag', 'chunk'): 2, ('tag', 'chunk', 'name'): 2, ('chunk', 'name', 'entiti'): 2, ('languag', 'languag', 'spoken'): 2, ('statist', 'natur', 'languag'): 2, ('inform', 'retriev', 'system'): 2, ('in', 'paper', 'describ'): 2, ('process', 'nlp', 'techniqu'): 2, ('abstract', 'natur', 'languag'): 2, ('thi', 'paper', 'review'): 2, ('process', 'system', 'the'): 2, ('recent', 'develop', 'natur'): 2, ('develop', 'natur', 'languag'): 2, ('abstractnatur', 'languag', 'process'): 2, ('machin', 'learn', 'techniqu'): 2, ('machin', 'learn', 'ml'): 2, ('retriev', 'relev', 'document'): 2, ('par', 'word', 'sen'): 2, ('state', 'art', 'plan'): 2, ('art', 'plan', 'recognit'): 2, ('plan', 'recognit', 'system'): 2, ('recognit', 'system', 'thi'): 2, ('system', 'thi', 'paper'): 2, ('thi', 'paper', 'outlin'): 2, ('paper', 'outlin', 'relat'): 2, ('outlin', 'relat', 'natur'): 2, ('natur', 'languag', 'processingnlp'): 2, ('languag', 'processingnlp', 'plan'): 2, ('processingnlp', 'plan', 'recognitionpr'): 2, ('plan', 'recognitionpr', 'argu'): 2, ('recognitionpr', 'argu', 'effect'): 2, ('argu', 'effect', 'inform'): 2, ('effect', 'inform', 'focu'): 2, ('inform', 'focu', 'key'): 2, ('focu', 'key', 'recent'): 2, ('key', 'recent', 'research'): 2, ('recent', 'research', 'result'): 2, ('research', 'result', 'nlp'): 2, ('result', 'nlp', 'argu'): 2, ('nlp', 'argu', 'applic'): 2, ('argu', 'applic', 'pr'): 2, ('languag', 'process', 'logic'): 2, ('process', 'logic', 'program'): 2, ('thi', 'chapter', 'examin'): 2, ('chapter', 'examin', 'applic'): 2, ('examin', 'applic', 'natur'): 2, ('languag', 'process', 'computerassist'): 2, ('process', 'computerassist', 'languag'): 2, ('computerassist', 'languag', 'learn'): 2, ('languag', 'learn', 'includ'): 2, ('learn', 'includ', 'histori'): 2, ('includ', 'histori', 'work'): 2, ('histori', 'work', 'field'): 2, ('work', 'field', 'last'): 2, ('field', 'last', 'thirtyf'): 2, ('last', 'thirtyf', 'year'): 2, ('thirtyf', 'year', 'focu'): 2, ('year', 'focu', 'current'): 2, ('focu', 'current', 'develop'): 2, ('current', 'develop', 'opportun'): 2, ('applic', 'confid', 'estim'): 2, ('thi', 'paper', 'present'): 2, ('describ', 'method', 'statist'): 1, ('method', 'statist', 'model'): 1, ('statist', 'model', 'base'): 1, ('model', 'base', 'maximum'): 1, ('base', 'maximum', 'entropi'): 1, ('maximum', 'entropi', 'we'): 1, ('entropi', 'we', 'present'): 1, ('we', 'present', 'maximumlikelihood'): 1, ('present', 'maximumlikelihood', 'approach'): 1, ('maximumlikelihood', 'approach', 'automat'): 1, ('approach', 'automat', 'construct'): 1, ('automat', 'construct', 'maximum'): 1, ('construct', 'maximum', 'entropi'): 1, ('maximum', 'entropi', 'model'): 1, ('entropi', 'model', 'describ'): 1, ('model', 'describ', 'implement'): 1, ('describ', 'implement', 'approach'): 1, ('implement', 'approach', 'effici'): 1, ('approach', 'effici', 'use'): 1, ('effici', 'use', 'exampl'): 1, ('use', 'exampl', 'sever'): 1, ('exampl', 'sever', 'problem'): 1, ('sever', 'problem', 'natur'): 1, ('problem', 'natur', 'languag'): 1, ('scale', 'condit', 'random'): 1, ('condit', 'random', 'field'): 1, ('random', 'field', 'natur'): 1, ('field', 'natur', 'languag'): 1, ('languag', 'process', 'term'): 1, ('process', 'term', 'condit'): 1, ('term', 'condit', 'term'): 1, ('condit', 'term', 'condit'): 1, ('term', 'condit', 'copyright'): 1, ('condit', 'copyright', 'work'): 1, ('copyright', 'work', 'deposit'): 1, ('work', 'deposit', 'minerva'): 1, ('deposit', 'minerva', 'access'): 1, ('minerva', 'access', 'retain'): 1, ('the', 'paper', 'address'): 1, ('paper', 'address', 'issu'): 1, ('address', 'issu', 'cooper'): 1, ('issu', 'cooper', 'linguist'): 1, ('cooper', 'linguist', 'natur'): 1, ('linguist', 'natur', 'languag'): 1, ('process', 'nlp', 'gener'): 1, ('nlp', 'gener', 'linguist'): 1, ('gener', 'linguist', 'machin'): 1, ('linguist', 'machin', 'translat'): 1, ('machin', 'translat', 'mt'): 1, ('translat', 'mt', 'particular'): 1, ('mt', 'particular', 'it'): 1, ('particular', 'it', 'focus'): 1, ('it', 'focus', 'one'): 1, ('focus', 'one', 'direct'): 1, ('one', 'direct', 'cooper'): 1, ('direct', 'cooper', 'name'): 1, ('cooper', 'name', 'applic'): 1, ('name', 'applic', 'linguist'): 1, ('applic', 'linguist', 'nlp'): 1, ('linguist', 'nlp', 'virtual'): 1, ('process', 'applic', 'descript'): 1, ('applic', 'descript', 'logic'): 1, ('descript', 'logic', 'use'): 1, ('logic', 'use', 'encod'): 1, ('use', 'encod', 'knowledg'): 1, ('encod', 'knowledg', 'base'): 1, ('knowledg', 'base', 'syntact'): 1, ('base', 'syntact', 'semant'): 1, ('syntact', 'semant', 'pragmat'): 1, ('semant', 'pragmat', 'element'): 1, ('pragmat', 'element', 'need'): 1, ('element', 'need', 'drive'): 1, ('need', 'drive', 'semant'): 1, ('drive', 'semant', 'interpret'): 1, ('semant', 'interpret', 'natur'): 1, ('interpret', 'natur', 'languag'): 1, ('natur', 'languag', 'gener'): 1, ('languag', 'gener', 'process'): 1, ('gener', 'process', 'more'): 1, ('process', 'more', 'recent'): 1, ('more', 'recent', 'descript'): 1, ('recent', 'descript', 'logic'): 1, ('we', 'propos', 'unifi'): 1, ('propos', 'unifi', 'neural'): 1, ('unifi', 'neural', 'network'): 1, ('network', 'architectur', 'learn'): 1, ('architectur', 'learn', 'algorithm'): 1, ('learn', 'algorithm', 'appli'): 1, ('algorithm', 'appli', 'variou'): 1, ('appli', 'variou', 'natur'): 1, ('variou', 'natur', 'languag'): 1, ('process', 'task', 'includ'): 1, ('task', 'includ', 'partofspeech'): 1, ('includ', 'partofspeech', 'tag'): 1, ('name', 'entiti', 'recognit'): 1, ('entiti', 'recognit', 'semant'): 1, ('recognit', 'semant', 'role'): 1, ('semant', 'role', 'label'): 1, ('role', 'label', 'thi'): 1, ('label', 'thi', 'versatil'): 1, ('thi', 'versatil', 'achiev'): 1, ('versatil', 'achiev', 'tri'): 1, ('achiev', 'tri', 'avoid'): 1, ('tri', 'avoid', 'task'): 1, ('process', 'the', 'subject'): 1, ('the', 'subject', 'natur'): 1, ('subject', 'natur', 'languag'): 1, ('languag', 'process', 'consid'): 1, ('process', 'consid', 'broad'): 1, ('consid', 'broad', 'narrow'): 1, ('broad', 'narrow', 'sen'): 1, ('narrow', 'sen', 'in'): 1, ('sen', 'in', 'broad'): 1, ('in', 'broad', 'sen'): 1, ('broad', 'sen', 'cover'): 1, ('sen', 'cover', 'process'): 1, ('cover', 'process', 'issu'): 1, ('process', 'issu', 'level'): 1, ('issu', 'level', 'natur'): 1, ('level', 'natur', 'languag'): 1, ('natur', 'languag', 'understand'): 1, ('languag', 'understand', 'includ'): 1, ('understand', 'includ', 'speech'): 1, ('includ', 'speech', 'recognit'): 1, ('speech', 'recognit', 'syntact'): 1, ('recognit', 'syntact', 'semant'): 1, ('syntact', 'semant', 'analysi'): 1, ('semant', 'analysi', 'sentenc'): 1, ('robot', 'interact', 'human'): 1, ('interact', 'human', 'facetofac'): 1, ('human', 'facetofac', 'use'): 1, ('facetofac', 'use', 'natur'): 1, ('natur', 'languag', 'need'): 1, ('languag', 'need', 'respons'): 1, ('need', 'respons', 'way'): 1, ('respons', 'way', 'human'): 1, ('way', 'human', 'use'): 1, ('human', 'use', 'languag'): 1, ('use', 'languag', 'situat'): 1, ('languag', 'situat', 'we'): 1, ('situat', 'we', 'propos'): 1, ('we', 'propos', 'psychologicallyinspir'): 1, ('propos', 'psychologicallyinspir', 'natur'): 1, ('psychologicallyinspir', 'natur', 'languag'): 1, ('process', 'system', 'robot'): 1, ('system', 'robot', 'perform'): 1, ('robot', 'perform', 'increment'): 1, ('perform', 'increment', 'semant'): 1, ('increment', 'semant', 'interpret'): 1, ('semant', 'interpret', 'spoken'): 1, ('interpret', 'spoken', 'utter'): 1, ('languag', 'spoken', 'human'): 1, ('spoken', 'human', 'current'): 1, ('human', 'current', 'yet'): 1, ('current', 'yet', 'point'): 1, ('yet', 'point', 'languag'): 1, ('point', 'languag', 'unprocess'): 1, ('languag', 'unprocess', 'form'): 1, ('unprocess', 'form', 'understood'): 1, ('form', 'understood', 'comput'): 1, ('understood', 'comput', 'natur'): 1, ('comput', 'natur', 'languag'): 1, ('languag', 'process', 'collect'): 1, ('process', 'collect', 'techniqu'): 1, ('collect', 'techniqu', 'employ'): 1, ('techniqu', 'employ', 'tri'): 1, ('employ', 'tri', 'accomplish'): 1, ('tri', 'accomplish', 'goal'): 1, ('accomplish', 'goal', 'the'): 1, ('goal', 'the', 'field'): 1, ('the', 'field', 'natur'): 1, ('abstract', 'ambigu', 'refer'): 1, ('ambigu', 'refer', 'abil'): 1, ('refer', 'abil', 'one'): 1, ('abil', 'one', 'mean'): 1, ('one', 'mean', 'understood'): 1, ('mean', 'understood', 'one'): 1, ('understood', 'one', 'way'): 1, ('one', 'way', 'natur'): 1, ('way', 'natur', 'languag'): 1, ('natur', 'languag', 'ambigu'): 1, ('languag', 'ambigu', 'comput'): 1, ('ambigu', 'comput', 'abl'): 1, ('comput', 'abl', 'understand'): 1, ('abl', 'understand', 'languag'): 1, ('understand', 'languag', 'way'): 1, ('languag', 'way', 'peopl'): 1, ('way', 'peopl', 'natur'): 1, ('peopl', 'natur', 'languag'): 1, ('process', 'nlp', 'concern'): 1, ('nlp', 'concern', 'develop'): 1, ('introduct', 'statist', 'natur'): 1, ('languag', 'process', 'snlp'): 1, ('process', 'snlp', 'field'): 1, ('snlp', 'field', 'lie'): 1, ('field', 'lie', 'intersect'): 1, ('lie', 'intersect', 'natur'): 1, ('intersect', 'natur', 'languag'): 1, ('languag', 'process', 'machin'): 1, ('process', 'machin', 'learn'): 1, ('machin', 'learn', 'snlp'): 1, ('learn', 'snlp', 'dier'): 1, ('snlp', 'dier', 'tradit'): 1, ('dier', 'tradit', 'natur'): 1, ('tradit', 'natur', 'languag'): 1, ('languag', 'process', 'instead'): 1, ('process', 'instead', 'linguist'): 1, ('instead', 'linguist', 'manual'): 1, ('linguist', 'manual', 'construct'): 1, ('manual', 'construct', 'model'): 1, ('construct', 'model', 'given'): 1, ('model', 'given', 'linguist'): 1, ('text', 'directli', 'rather'): 1, ('directli', 'rather', 'eg'): 1, ('rather', 'eg', 'titl'): 1, ('eg', 'titl', 'abstract'): 1, ('titl', 'abstract', 'suggest'): 1, ('abstract', 'suggest', 'appropri'): 1, ('suggest', 'appropri', 'approach'): 1, ('appropri', 'approach', 'focu'): 1, ('approach', 'focu', 'role'): 1, ('focu', 'role', 'natur'): 1, ('role', 'natur', 'languag'): 1, ('process', 'the', 'paper'): 1, ('the', 'paper', 'also'): 1, ('paper', 'also', 'comment'): 1, ('also', 'comment', 'possibl'): 1, ('comment', 'possibl', 'connect'): 1, ('possibl', 'connect', 'data'): 1, ('connect', 'data', 'knowledg'): 1, ('data', 'knowledg', 'retriev'): 1, ('knowledg', 'retriev', 'conclud'): 1, ('retriev', 'conclud', 'emphas'): 1, ('conclud', 'emphas', 'import'): 1, ('emphas', 'import', 'rigor'): 1, ('abstract', 'languag', 'way'): 1, ('languag', 'way', 'commun'): 1, ('way', 'commun', 'word'): 1, ('commun', 'word', 'languag'): 1, ('word', 'languag', 'help'): 1, ('languag', 'help', 'understand'): 1, ('help', 'understand', 'worldw'): 1, ('understand', 'worldw', 'get'): 1, ('worldw', 'get', 'better'): 1, ('get', 'better', 'insight'): 1, ('better', 'insight', 'world'): 1, ('insight', 'world', 'languag'): 1, ('world', 'languag', 'help'): 1, ('languag', 'help', 'speaker'): 1, ('help', 'speaker', 'vagu'): 1, ('speaker', 'vagu', 'precis'): 1, ('vagu', 'precis', 'like'): 1, ('precis', 'like', 'nlp'): 1, ('like', 'nlp', 'stand'): 1, ('nlp', 'stand', 'natur'): 1, ('stand', 'natur', 'languag'): 1, ('languag', 'process', 'natur'): 1, ('process', 'natur', 'languag'): 1, ('we', 'report', 'experi'): 1, ('report', 'experi', 'use'): 1, ('experi', 'use', 'standard'): 1, ('use', 'standard', 'natur'): 1, ('standard', 'natur', 'languag'): 1, ('process', 'nlp', 'tool'): 1, ('nlp', 'tool', 'analysi'): 1, ('tool', 'analysi', 'music'): 1, ('analysi', 'music', 'lyric'): 1, ('music', 'lyric', 'a'): 1, ('lyric', 'a', 'signific'): 1, ('a', 'signific', 'amount'): 1, ('signific', 'amount', 'music'): 1, ('amount', 'music', 'audio'): 1, ('music', 'audio', 'lyric'): 1, ('audio', 'lyric', 'lyric'): 1, ('lyric', 'lyric', 'encod'): 1, ('lyric', 'encod', 'import'): 1, ('encod', 'import', 'part'): 1, ('import', 'part', 'semant'): 1, ('part', 'semant', 'song'): 1, ('semant', 'song', 'therefor'): 1, ('song', 'therefor', 'analysi'): 1, ('therefor', 'analysi', 'complement'): 1, ('analysi', 'complement', 'acoust'): 1, ('complement', 'acoust', 'cultur'): 1, ('paper', 'describ', 'simpl'): 1, ('describ', 'simpl', 'rulebas'): 1, ('simpl', 'rulebas', 'approach'): 1, ('rulebas', 'approach', 'autom'): 1, ('approach', 'autom', 'learn'): 1, ('autom', 'learn', 'linguist'): 1, ('learn', 'linguist', 'knowledg'): 1, ('linguist', 'knowledg', 'thi'): 1, ('knowledg', 'thi', 'approach'): 1, ('thi', 'approach', 'shown'): 1, ('approach', 'shown', 'number'): 1, ('shown', 'number', 'task'): 1, ('number', 'task', 'captur'): 1, ('task', 'captur', 'inform'): 1, ('captur', 'inform', 'clearer'): 1, ('inform', 'clearer', 'direct'): 1, ('clearer', 'direct', 'fashion'): 1, ('direct', 'fashion', 'without'): 1, ('fashion', 'without', 'compromis'): 1, ('without', 'compromis', 'perform'): 1, ('compromis', 'perform', 'we'): 1, ('perform', 'we', 'present'): 1, ('we', 'present', 'detail'): 1, ('present', 'detail', 'case'): 1, ('detail', 'case', 'studi'): 1, ('case', 'studi', 'learn'): 1, ('studi', 'learn', 'method'): 1, ('learn', 'method', 'appli'): 1, ('method', 'appli', 'part'): 1, ('appli', 'part', 'speech'): 1, ('part', 'speech', 'tag'): 1, ('thi', 'paper', 'focus'): 1, ('paper', 'focus', 'connectionist'): 1, ('focus', 'connectionist', 'model'): 1, ('connectionist', 'model', 'natur'): 1, ('model', 'natur', 'languag'): 1, ('process', 'we', 'briefli'): 1, ('we', 'briefli', 'present'): 1, ('briefli', 'present', 'discus'): 1, ('present', 'discus', 'sever'): 1, ('discus', 'sever', 'aspect'): 1, ('sever', 'aspect', 'high'): 1, ('aspect', 'high', 'level'): 1, ('high', 'level', 'task'): 1, ('level', 'task', 'recent'): 1, ('task', 'recent', 'approach'): 1, ('recent', 'approach', 'connection'): 1, ('approach', 'connection', 'either'): 1, ('connection', 'either', 'localist'): 1, ('either', 'localist', 'parallel'): 1, ('localist', 'parallel', 'distribut'): 1, ('parallel', 'distribut', 'process'): 1, ('distribut', 'process', 'model'): 1, ('process', 'model', 'sever'): 1, ('model', 'sever', 'interest'): 1, ('sever', 'interest', 'architectur'): 1, ('process', 'languag', 'understand'): 1, ('languag', 'understand', 'thi'): 1, ('understand', 'thi', 'new'): 1, ('thi', 'new', 'approach'): 1, ('new', 'approach', 'natur'): 1, ('approach', 'natur', 'languag'): 1, ('languag', 'process', 'base'): 1, ('process', 'base', 'determinist'): 1, ('base', 'determinist', 'chaotic'): 1, ('determinist', 'chaotic', 'behavior'): 1, ('chaotic', 'behavior', 'dynam'): 1, ('behavior', 'dynam', 'system'): 1, ('paper', 'see', 'schank'): 1, ('see', 'schank', 'theoret'): 1, ('schank', 'theoret', 'discus'): 1, ('theoret', 'discus', 'ka'): 1, ('discus', 'ka', 'leak'): 1, ('ka', 'leak', 'owen'): 1, ('leak', 'owen', 'brief'): 1, ('owen', 'brief', 'discus'): 1, ('brief', 'discus', 'program'): 1, ('discus', 'program', 'built'): 1, ('program', 'built', 'around'): 1, ('built', 'around', 'principl'): 1, ('around', 'principl', 'goal'): 1, ('principl', 'goal', 'simpli'): 1, ('goal', 'simpli', 'point'): 1, ('simpli', 'point', 'interest'): 1, ('point', 'interest', 'natur'): 1, ('interest', 'natur', 'languag'): 1, ('languag', 'process', 'led'): 1, ('process', 'led', 'u'): 1, ('led', 'u', 'natur'): 1, ('u', 'natur', 'inde'): 1, ('natur', 'inde', 'inevit'): 1, ('object', 'to', 'provid'): 1, ('to', 'provid', 'overview'): 1, ('provid', 'overview', 'tutori'): 1, ('overview', 'tutori', 'natur'): 1, ('tutori', 'natur', 'languag'): 1, ('process', 'nlp', 'modern'): 1, ('nlp', 'modern', 'nlpsystem'): 1, ('modern', 'nlpsystem', 'design'): 1, ('nlpsystem', 'design', 'target'): 1, ('design', 'target', 'audienc'): 1, ('target', 'audienc', 'thi'): 1, ('audienc', 'thi', 'tutori'): 1, ('thi', 'tutori', 'target'): 1, ('tutori', 'target', 'medic'): 1, ('target', 'medic', 'informat'): 1, ('medic', 'informat', 'generalist'): 1, ('informat', 'generalist', 'limit'): 1, ('generalist', 'limit', 'acquaint'): 1, ('limit', 'acquaint', 'principl'): 1, ('acquaint', 'principl', 'behind'): 1, ('principl', 'behind', 'nlp'): 1, ('behind', 'nlp', 'andor'): 1, ('nlp', 'andor', 'limit'): 1, ('andor', 'limit', 'knowledg'): 1, ('limit', 'knowledg', 'current'): 1, ('knowledg', 'current', 'state'): 1, ('thi', 'paper', 'briefli'): 1, ('paper', 'briefli', 'describ'): 1, ('briefli', 'describ', 'current'): 1, ('describ', 'current', 'implement'): 1, ('current', 'implement', 'statu'): 1, ('implement', 'statu', 'intellig'): 1, ('statu', 'intellig', 'inform'): 1, ('intellig', 'inform', 'retriev'): 1, ('retriev', 'system', 'mari'): 1, ('system', 'mari', 'employ'): 1, ('mari', 'employ', 'natur'): 1, ('employ', 'natur', 'languag'): 1, ('process', 'techniqu', 'descript'): 1, ('techniqu', 'descript', 'caption'): 1, ('descript', 'caption', 'use'): 1, ('caption', 'use', 'iden'): 1, ('use', 'iden', 'tifi'): 1, ('iden', 'tifi', 'photograph'): 1, ('tifi', 'photograph', 'imag'): 1, ('photograph', 'imag', 'concern'): 1, ('imag', 'concern', 'variou'): 1, ('concern', 'variou', 'militari'): 1, ('variou', 'militari', 'project'): 1, ('militari', 'project', 'the'): 1, ('project', 'the', 'caption'): 1, ('the', 'caption', 'par'): 1, ('base', 'literatur', 'resourc'): 1, ('literatur', 'resourc', 'we'): 1, ('resourc', 'we', 'describ'): 1, ('we', 'describ', 'system'): 1, ('describ', 'system', 'agent'): 1, ('system', 'agent', 'direct'): 1, ('agent', 'direct', 'natur'): 1, ('direct', 'natur', 'languag'): 1, ('languag', 'process', 'extract'): 1, ('process', 'extract', 'inform'): 1, ('extract', 'inform', 'journal'): 1, ('inform', 'journal', 'articl'): 1, ('journal', 'articl', 'an'): 1, ('articl', 'an', 'interfac'): 1, ('an', 'interfac', 'develop'): 1, ('interfac', 'develop', 'permit'): 1, ('develop', 'permit', 'curat'): 1, ('permit', 'curat', 'nlp'): 1, ('curat', 'nlp', 'result'): 1, ('nlp', 'result', 'deposit'): 1, ('result', 'deposit', 'accept'): 1, ('deposit', 'accept', 'result'): 1, ('accept', 'result', 'knowledg'): 1, ('result', 'knowledg', 'base'): 1, ('knowledg', 'base', 'motiv'): 1, ('base', 'motiv', 'the'): 1, ('motiv', 'the', 'advent'): 1, ('the', 'advent', 'high'): 1, ('evalu', 'speech', 'process'): 1, ('speech', 'process', 'part'): 1, ('process', 'part', 'survey'): 1, ('part', 'survey', 'signific'): 1, ('survey', 'signific', 'evalu'): 1, ('signific', 'evalu', 'work'): 1, ('evalu', 'work', 'done'): 1, ('work', 'done', 'far'): 1, ('done', 'far', 'instanc'): 1, ('far', 'instanc', 'machin'): 1, ('instanc', 'machin', 'translat'): 1, ('machin', 'translat', 'discus'): 1, ('translat', 'discus', 'particular'): 1, ('discus', 'particular', 'problem'): 1, ('particular', 'problem', 'gener'): 1, ('problem', 'gener', 'system'): 1, ('gener', 'system', 'evalu'): 1, ('system', 'evalu', 'the'): 1, ('evalu', 'the', 'conclus'): 1, ('the', 'conclus', 'evalu'): 1, ('conclus', 'evalu', 'strategi'): 1, ('evalu', 'strategi', 'techniqu'): 1, ('strategi', 'techniqu', 'nlp'): 1, ('techniqu', 'nlp', 'need'): 1, ('nlp', 'need', 'much'): 1, ('need', 'much', 'develop'): 1, ('much', 'develop', 'particular'): 1, ('similar', 'way', 'human'): 1, ('way', 'human', 'intuit'): 1, ('human', 'intuit', 'order'): 1, ('intuit', 'order', 'elimin'): 1, ('order', 'elimin', 'noisi'): 1, ('elimin', 'noisi', 'content'): 1, ('noisi', 'content', 'in'): 1, ('content', 'in', 'paper'): 1, ('paper', 'describ', 'combin'): 1, ('describ', 'combin', 'html'): 1, ('combin', 'html', 'dom'): 1, ('html', 'dom', 'analysi'): 1, ('dom', 'analysi', 'natur'): 1, ('analysi', 'natur', 'languag'): 1, ('nlp', 'techniqu', 'autom'): 1, ('techniqu', 'autom', 'extract'): 1, ('autom', 'extract', 'main'): 1, ('extract', 'main', 'articl'): 1, ('main', 'articl', 'associ'): 1, ('articl', 'associ', 'imag'): 1, ('associ', 'imag', 'web'): 1, ('imag', 'web', 'page'): 1, ('languag', 'process', 'theoret'): 1, ('process', 'theoret', 'motiv'): 1, ('theoret', 'motiv', 'rang'): 1, ('motiv', 'rang', 'comput'): 1, ('rang', 'comput', 'techniqu'): 1, ('comput', 'techniqu', 'analys'): 1, ('techniqu', 'analys', 'repres'): 1, ('analys', 'repres', 'natur'): 1, ('repres', 'natur', 'occur'): 1, ('natur', 'occur', 'text'): 1, ('occur', 'text', 'one'): 1, ('text', 'one', 'level'): 1, ('one', 'level', 'linguist'): 1, ('level', 'linguist', 'analysi'): 1, ('linguist', 'analysi', 'purpos'): 1, ('analysi', 'purpos', 'achiev'): 1, ('purpos', 'achiev', 'humanlik'): 1, ('achiev', 'humanlik', 'languag'): 1, ('humanlik', 'languag', 'process'): 1, ('languag', 'process', 'rang'): 1, ('process', 'rang', 'task'): 1, ('paper', 'review', 'process'): 1, ('review', 'process', 'involv'): 1, ('process', 'involv', 'natur'): 1, ('involv', 'natur', 'languag'): 1, ('process', 'nlp', 'it'): 1, ('nlp', 'it', 'demonstr'): 1, ('it', 'demonstr', 'variou'): 1, ('demonstr', 'variou', 'kind'): 1, ('variou', 'kind', 'choic'): 1, ('kind', 'choic', 'need'): 1, ('choic', 'need', 'taken'): 1, ('need', 'taken', 'execut'): 1, ('taken', 'execut', 'word'): 1, ('execut', 'word', 'morpholog'): 1, ('word', 'morpholog', 'syntact'): 1, ('morpholog', 'syntact', 'text'): 1, ('syntact', 'text', 'analysi'): 1, ('text', 'analysi', 'text'): 1, ('analysi', 'text', 'gener'): 1, ('text', 'gener', 'compon'): 1, ('gener', 'compon', 'it'): 1, ('compon', 'it', 'compar'): 1, ('it', 'compar', 'time'): 1, ('compar', 'time', 'complex'): 1, ('thi', 'articl', 'focus'): 1, ('articl', 'focus', 'deriv'): 1, ('focus', 'deriv', 'larg'): 1, ('deriv', 'larg', 'lexicon'): 1, ('larg', 'lexicon', 'natur'): 1, ('lexicon', 'natur', 'languag'): 1, ('process', 'we', 'describ'): 1, ('we', 'describ', 'develop'): 1, ('describ', 'develop', 'dictionari'): 1, ('develop', 'dictionari', 'support'): 1, ('dictionari', 'support', 'environ'): 1, ('support', 'environ', 'link'): 1, ('environ', 'link', 'restructur'): 1, ('link', 'restructur', 'version'): 1, ('restructur', 'version', 'longman'): 1, ('version', 'longman', 'dictionari'): 1, ('longman', 'dictionari', 'contemporari'): 1, ('dictionari', 'contemporari', 'english'): 1, ('contemporari', 'english', 'natur'): 1, ('english', 'natur', 'languag'): 1, ('system', 'the', 'process'): 1, ('we', 'introduc', 'method'): 1, ('introduc', 'method', 'analyz'): 1, ('method', 'analyz', 'complex'): 1, ('analyz', 'complex', 'natur'): 1, ('complex', 'natur', 'languag'): 1, ('process', 'task', 'predict'): 1, ('task', 'predict', 'difficulti'): 1, ('predict', 'difficulti', 'new'): 1, ('difficulti', 'new', 'nlp'): 1, ('new', 'nlp', 'task'): 1, ('nlp', 'task', 'our'): 1, ('task', 'our', 'complex'): 1, ('our', 'complex', 'measur'): 1, ('complex', 'measur', 'deriv'): 1, ('measur', 'deriv', 'kolmogorov'): 1, ('deriv', 'kolmogorov', 'complex'): 1, ('kolmogorov', 'complex', 'class'): 1, ('complex', 'class', 'automaton'): 1, ('class', 'automaton', 'mean'): 1, ('automaton', 'mean', 'automaton'): 1, ('mean', 'automaton', 'whose'): 1, ('automaton', 'whose', 'purpos'): 1, ('whose', 'purpos', 'extract'): 1, ('purpos', 'extract', 'relev'): 1, ('extract', 'relev', 'piec'): 1, ('sound', 'text', 'motion'): 1, ('text', 'motion', 'the'): 1, ('motion', 'the', 'techniqu'): 1, ('the', 'techniqu', 'develop'): 1, ('techniqu', 'develop', 'deep'): 1, ('develop', 'deep', 'learn'): 1, ('deep', 'learn', 'research'): 1, ('learn', 'research', 'alreadi'): 1, ('research', 'alreadi', 'impact'): 1, ('alreadi', 'impact', 'research'): 1, ('impact', 'research', 'natur'): 1, ('research', 'natur', 'languag'): 1, ('languag', 'process', 'thi'): 1, ('process', 'thi', 'paper'): 1, ('paper', 'review', 'recent'): 1, ('review', 'recent', 'research'): 1, ('recent', 'research', 'deep'): 1, ('research', 'deep', 'learn'): 1, ('deep', 'learn', 'applic'): 1, ('learn', 'applic', 'recent'): 1, ('applic', 'recent', 'develop'): 1, ('thi', 'authorproduc', 'version'): 1, ('authorproduc', 'version', 'paper'): 1, ('version', 'paper', 'publish'): 1, ('paper', 'publish', 'the'): 1, ('process', 'nlp', 'applic'): 1, ('nlp', 'applic', 'autom'): 1, ('applic', 'autom', 'par'): 1, ('autom', 'par', 'machin'): 1, ('par', 'machin', 'learn'): 1, ('learn', 'techniqu', 'analyz'): 1, ('techniqu', 'analyz', 'standard'): 1, ('analyz', 'standard', 'text'): 1, ('standard', 'text', 'applic'): 1, ('text', 'applic', 'nlp'): 1, ('applic', 'nlp', 'requir'): 1, ('nlp', 'requir', 'engin'): 1, ('requir', 'engin', 'includ'): 1, ('engin', 'includ', 'extract'): 1, ('includ', 'extract', 'ontolog'): 1, ('extract', 'ontolog', 'requir'): 1, ('ontolog', 'requir', 'specif'): 1, ('requir', 'specif', 'use'): 1, ('specif', 'use', 'nlp'): 1, ('use', 'nlp', 'verifi'): 1, ('nlp', 'verifi', 'consist'): 1, ('statist', 'baselin', 'includ'): 1, ('baselin', 'includ', 'forgiv'): 1, ('includ', 'forgiv', 'natur'): 1, ('forgiv', 'natur', 'broad'): 1, ('natur', 'broad', 'coverag'): 1, ('broad', 'coverag', 'typic'): 1, ('coverag', 'typic', 'retriev'): 1, ('typic', 'retriev', 'task'): 1, ('retriev', 'task', 'lack'): 1, ('task', 'lack', 'good'): 1, ('lack', 'good', 'weight'): 1, ('good', 'weight', 'scheme'): 1, ('weight', 'scheme', 'compound'): 1, ('scheme', 'compound', 'index'): 1, ('compound', 'index', 'term'): 1, ('index', 'term', 'implicit'): 1, ('term', 'implicit', 'linguist'): 1, ('implicit', 'linguist', 'process'): 1, ('linguist', 'process', 'inher'): 1, ('process', 'inher', 'statist'): 1, ('inher', 'statist', 'method'): 1, ('statist', 'method', 'natur'): 1, ('method', 'natur', 'languag'): 1, ('process', 'techniqu', 'may'): 1, ('techniqu', 'may', 'import'): 1, ('work', 'comput', 'linguist'): 1, ('comput', 'linguist', 'began'): 1, ('linguist', 'began', 'soon'): 1, ('began', 'soon', 'develop'): 1, ('soon', 'develop', 'first'): 1, ('develop', 'first', 'comput'): 1, ('first', 'comput', 'booth'): 1, ('comput', 'booth', 'brandwood'): 1, ('booth', 'brandwood', 'cleav'): 1, ('brandwood', 'cleav', 'yet'): 1, ('cleav', 'yet', 'interven'): 1, ('yet', 'interven', 'four'): 1, ('interven', 'four', 'decad'): 1, ('four', 'decad', 'pervas'): 1, ('decad', 'pervas', 'feel'): 1, ('pervas', 'feel', 'progress'): 1, ('feel', 'progress', 'comput'): 1, ('progress', 'comput', 'understand'): 1, ('comput', 'understand', 'natur'): 1, ('understand', 'natur', 'languag'): 1, ('natur', 'languag', 'commensur'): 1, ('voic', 'recognit', 'natur'): 1, ('recognit', 'natur', 'languag'): 1, ('natur', 'languag', 'tamil'): 1, ('languag', 'tamil', 'combin'): 1, ('tamil', 'combin', 'digit'): 1, ('combin', 'digit', 'mathemat'): 1, ('digit', 'mathemat', 'knowledg'): 1, ('mathemat', 'knowledg', 'use'): 1, ('knowledg', 'use', 'mfcc'): 1, ('use', 'mfcc', 'dtw'): 1, ('mfcc', 'dtw', 'extract'): 1, ('dtw', 'extract', 'match'): 1, ('extract', 'match', 'featur'): 1, ('match', 'featur', 'improv'): 1, ('featur', 'improv', 'accuraci'): 1, ('improv', 'accuraci', 'better'): 1, ('accuraci', 'better', 'perform'): 1, ('abstract', 'test', 'natur'): 1, ('test', 'natur', 'languag'): 1, ('natur', 'languag', 'requir'): 1, ('languag', 'requir', 'standard'): 1, ('requir', 'standard', 'approach'): 1, ('standard', 'approach', 'system'): 1, ('approach', 'system', 'accept'): 1, ('system', 'accept', 'test'): 1, ('accept', 'test', 'thi'): 1, ('test', 'thi', 'test'): 1, ('thi', 'test', 'often'): 1, ('test', 'often', 'perform'): 1, ('often', 'perform', 'independ'): 1, ('perform', 'independ', 'test'): 1, ('independ', 'test', 'organ'): 1, ('test', 'organ', 'unfamiliar'): 1, ('organ', 'unfamiliar', 'applic'): 1, ('unfamiliar', 'applic', 'area'): 1, ('applic', 'area', 'the'): 1, ('area', 'the', 'thing'): 1, ('the', 'thing', 'tester'): 1, ('thing', 'tester', 'go'): 1, ('tester', 'go', 'written'): 1, ('go', 'written', 'requir'): 1, ('written', 'requir', 'so'): 1, ('convers', 'partner', 'but'): 1, ('partner', 'but', 'also'): 1, ('but', 'also', 'provid'): 1, ('also', 'provid', 'u'): 1, ('provid', 'u', 'inform'): 1, ('u', 'inform', 'creativ'): 1, ('inform', 'creativ', 'make'): 1, ('creativ', 'make', 'associ'): 1, ('make', 'associ', 'storytel'): 1, ('associ', 'storytel', 'languag'): 1, ('storytel', 'languag', 'use'): 1, ('languag', 'use', 'mani'): 1, ('use', 'mani', 'subtleti'): 1, ('mani', 'subtleti', 'facetofac'): 1, ('subtleti', 'facetofac', 'multiparti'): 1, ('facetofac', 'multiparti', 'interact'): 1, ('multiparti', 'interact', 'ad'): 1, ('interact', 'ad', 'use'): 1, ('ad', 'use', 'humor'): 1, ('use', 'humor', 'persuad'): 1, ('humor', 'persuad', 'domin'): 1, ('persuad', 'domin', 'soften'): 1, ('domin', 'soften', 'avoid'): 1, ('soften', 'avoid', 'face'): 1, ('avoid', 'face', 'threaten'): 1, ('face', 'threaten', 'act'): 1, ('in', 'recent', 'year'): 1, ('recent', 'year', 'machin'): 1, ('year', 'machin', 'learn'): 1, ('learn', 'ml', 'use'): 1, ('ml', 'use', 'solv'): 1, ('use', 'solv', 'complex'): 1, ('solv', 'complex', 'task'): 1, ('complex', 'task', 'differ'): 1, ('task', 'differ', 'disciplin'): 1, ('differ', 'disciplin', 'rang'): 1, ('disciplin', 'rang', 'data'): 1, ('rang', 'data', 'mine'): 1, ('data', 'mine', 'inform'): 1, ('we', 'argu', 'manual'): 1, ('argu', 'manual', 'automat'): 1, ('manual', 'automat', 'thesaurus'): 1, ('automat', 'thesaurus', 'altern'): 1, ('thesaurus', 'altern', 'resourc'): 1, ('altern', 'resourc', 'nlp'): 1, ('resourc', 'nlp', 'task'): 1, ('nlp', 'task', 'thi'): 1, ('task', 'thi', 'involv'): 1, ('thi', 'involv', 'radic'): 1, ('involv', 'radic', 'step'): 1, ('radic', 'step', 'interpret'): 1, ('step', 'interpret', 'manual'): 1, ('interpret', 'manual', 'thesaurus'): 1, ('manual', 'thesaurus', 'classif'): 1, ('thesaurus', 'classif', 'word'): 1, ('classif', 'word', 'rather'): 1, ('word', 'rather', 'word'): 1, ('rather', 'word', 'sen'): 1, ('word', 'sen', 'case'): 1, ('sen', 'case', 'made'): 1, ('case', 'made', 'the'): 1, ('made', 'the', 'rang'): 1, ('the', 'rang', 'role'): 1, ('rang', 'role', 'thesaurus'): 1, ('role', 'thesaurus', 'within'): 1, ('thesaurus', 'within', 'nlp'): 1, ('within', 'nlp', 'briefli'): 1, ('nlp', 'briefli', 'present'): 1, ('briefli', 'present', 'wasp'): 1, ('present', 'wasp', 'thesauru'): 1, ('wasp', 'thesauru', 'introduc'): 1, ('thesauru', 'introduc', 'thesauru'): 1, ('introduc', 'thesauru', 'evalu'): 1, ('thesauru', 'evalu', 'becom'): 1, ('evalu', 'becom', 'urgent'): 1, ('becom', 'urgent', 'a'): 1, ('urgent', 'a', 'rang'): 1, ('a', 'rang', 'evalu'): 1, ('rang', 'evalu', 'strategi'): 1, ('evalu', 'strategi', 'embed'): 1, ('strategi', 'embed', 'within'): 1, ('embed', 'within', 'nlp'): 1, ('within', 'nlp', 'task'): 1, ('nlp', 'task', 'propos'): 1, ('introduct', 'pattern', 'music'): 1, ('pattern', 'music', 'object'): 1, ('music', 'object', 'intens'): 1, ('object', 'intens', 'studi'): 1, ('intens', 'studi', 'past'): 1, ('studi', 'past', 'year'): 1, ('past', 'year', 'one'): 1, ('year', 'one', 'purpos'): 1, ('one', 'purpos', 'analyz'): 1, ('purpos', 'analyz', 'music'): 1, ('analyz', 'music', 'structur'): 1, ('music', 'structur', 'form'): 1, ('structur', 'form', 'discov'): 1, ('form', 'discov', 'pattern'): 1, ('discov', 'pattern', 'explicit'): 1, ('pattern', 'explicit', 'implicit'): 1, ('explicit', 'implicit', 'music'): 1, ('implicit', 'music', 'work'): 1, ('music', 'work', 'simon'): 1, ('work', 'simon', 'pattern'): 1, ('simon', 'pattern', 'compris'): 1, ('pattern', 'compris', 'period'): 1, ('compris', 'period', 'make'): 1, ('period', 'make', 'use'): 1, ('make', 'use', 'alphabet'): 1, ('use', 'alphabet', 'compound'): 1, ('alphabet', 'compound', 'made'): 1, ('compound', 'made', 'subpattern'): 1, ('made', 'subpattern', 'posse'): 1, ('subpattern', 'posse', 'phrase'): 1, ('posse', 'phrase', 'structur'): 1, ('phrase', 'structur', 'variou'): 1, ('structur', 'variou', 'form'): 1, ('variou', 'form', 'punctuat'): 1, ('form', 'punctuat', 'tradit'): 1, ('punctuat', 'tradit', 'compos'): 1, ('tradit', 'compos', 'employ'): 1, ('compos', 'employ', 'pattern'): 1, ('employ', 'pattern', 'propag'): 1, ('pattern', 'propag', 'intuit'): 1, ('propag', 'intuit', 'algorithm'): 1, ('intuit', 'algorithm', 'composit'): 1, ('algorithm', 'composit', 'techniqu'): 1, ('composit', 'techniqu', 'allow'): 1, ('techniqu', 'allow', 'pattern'): 1, ('allow', 'pattern', 'propag'): 1, ('pattern', 'propag', 'formal'): 1, ('propag', 'formal', 'albeit'): 1, ('formal', 'albeit', 'high'): 1, ('albeit', 'high', 'level'): 1, ('high', 'level', 'dure'): 1, ('level', 'dure', 'composit'): 1, ('dure', 'composit', 'music'): 1, ('composit', 'music', 'pattern'): 1, ('music', 'pattern', 'evolv'): 1, ('pattern', 'evolv', 'accord'): 1, ('evolv', 'accord', 'rule'): 1, ('accord', 'rule', 'constraint'): 1, ('rule', 'constraint', 'speci'): 1, ('constraint', 'speci', 'design'): 1, ('speci', 'design', 'stage'): 1, ('design', 'stage', 'in'): 1, ('stage', 'in', 'jazz'): 1, ('in', 'jazz', 'improvis'): 1, ('jazz', 'improvis', 'musician'): 1, ('improvis', 'musician', 'invent'): 1, ('musician', 'invent', 'solo'): 1, ('invent', 'solo', 'guid'): 1, ('solo', 'guid', 'progress'): 1, ('guid', 'progress', 'chord'): 1, ('progress', 'chord', 'chang'): 1, ('chord', 'chang', 'one'): 1, ('chang', 'one', 'approach'): 1, ('one', 'approach', 'learn'): 1, ('approach', 'learn', 'improvis'): 1, ('learn', 'improvis', 'memor'): 1, ('improvis', 'memor', 'pattern'): 1, ('memor', 'pattern', 'short'): 1, ('pattern', 'short', 'chunk'): 1, ('short', 'chunk', 'music'): 1, ('chunk', 'music', 'subprogress'): 1, ('music', 'subprogress', 'concaten'): 1, ('subprogress', 'concaten', 'form'): 1, ('concaten', 'form', 'whole'): 1, ('form', 'whole', 'solo'): 1, ('whole', 'solo', 't'): 1, ('solo', 't', 'whole'): 1, ('t', 'whole', 'progress'): 1, ('whole', 'progress', 'one'): 1, ('abstract', 'mani', 'inform'): 1, ('mani', 'inform', 'retrievalir'): 1, ('inform', 'retrievalir', 'system'): 1, ('retrievalir', 'system', 'retriev'): 1, ('system', 'retriev', 'relev'): 1, ('relev', 'document', 'base'): 1, ('document', 'base', 'exact'): 1, ('base', 'exact', 'match'): 1, ('exact', 'match', 'keyword'): 1, ('match', 'keyword', 'queri'): 1, ('keyword', 'queri', 'document'): 1, ('queri', 'document', 'thi'): 1, ('document', 'thi', 'method'): 1, ('thi', 'method', 'degrad'): 1, ('method', 'degrad', 'precis'): 1, ('degrad', 'precis', 'rate'): 1, ('precis', 'rate', 'in'): 1, ('rate', 'in', 'order'): 1, ('in', 'order', 'solv'): 1, ('order', 'solv', 'problem'): 1, ('solv', 'problem', 'collect'): 1, ('problem', 'collect', 'semant'): 1, ('collect', 'semant', 'relat'): 1, ('semant', 'relat', 'word'): 1, ('relat', 'word', 'assign'): 1, ('word', 'assign', 'semant'): 1, ('assign', 'semant', 'relationship'): 1, ('semant', 'relationship', 'use'): 1, ('relationship', 'use', 'gener'): 1, ('use', 'gener', 'thesauru'): 1, ('gener', 'thesauru', 'special'): 1, ('thesauru', 'special', 'relationship'): 1, ('special', 'relationship', 'call'): 1, ('relationship', 'call', 'keyfact'): 1, ('call', 'keyfact', 'termft'): 1, ('keyfact', 'termft', 'manual'): 1, ('termft', 'manual', 'in'): 1, ('manual', 'in', 'addit'): 1, ('in', 'addit', 'semant'): 1, ('addit', 'semant', 'knowledg'): 1, ('semant', 'knowledg', 'automat'): 1, ('knowledg', 'automat', 'construct'): 1, ('automat', 'construct', 'statist'): 1, ('construct', 'statist', 'knowledg'): 1, ('statist', 'knowledg', 'base'): 1, ('knowledg', 'base', 'concept'): 1, ('base', 'concept', 'mutual'): 1, ('concept', 'mutual', 'inform'): 1, ('mutual', 'inform', 'keyfact'): 1, ('inform', 'keyfact', 'extend'): 1, ('keyfact', 'extend', 'concept'): 1, ('extend', 'concept', 'keyword'): 1, ('concept', 'keyword', 'repres'): 1, ('keyword', 'repres', 'noun'): 1, ('repres', 'noun', 'compound'): 1, ('noun', 'compound', 'noun'): 1, ('compound', 'noun', 'keyfact'): 1, ('noun', 'keyfact', 'verb'): 1, ('keyfact', 'verb', 'adject'): 1, ('verb', 'adject', 'includ'): 1, ('adject', 'includ', 'subject'): 1, ('includ', 'subject', 'object'): 1, ('subject', 'object', 'term'): 1, ('object', 'term', 'we'): 1, ('term', 'we', 'first'): 1, ('we', 'first', 'retriev'): 1, ('first', 'retriev', 'relev'): 1, ('relev', 'document', 'origin'): 1, ('document', 'origin', 'queri'): 1, ('origin', 'queri', 'use'): 1, ('queri', 'use', 'tf'): 1, ('use', 'tf', 'idf'): 1, ('tf', 'idf', 'weight'): 1, ('idf', 'weight', 'formula'): 1, ('weight', 'formula', 'expand'): 1, ('formula', 'expand', 'queri'): 1, ('expand', 'queri', 'includ'): 1, ('queri', 'includ', 'keyfact'): 1, ('includ', 'keyfact', 'use'): 1, ('keyfact', 'use', 'second'): 1, ('use', 'second', 'document'): 1, ('second', 'document', 'rank'): 1, ('document', 'rank', 'word'): 1, ('rank', 'word', 'sen'): 1, ('sen', 'disambigu', 'so'): 1, ('disambigu', 'so', 'made'): 1, ('so', 'made', 'improv'): 1, ('made', 'improv', 'precis'): 1, ('improv', 'precis', 'rate'): 1, ('precis', 'rate', 'use'): 1, ('rate', 'use', 'keyfact'): 1, ('use', 'keyfact', 'network'): 1, ('paper', 'argu', 'questionansw'): 1, ('argu', 'questionansw', 'qa'): 1, ('questionansw', 'qa', 'technic'): 1, ('qa', 'technic', 'domain'): 1, ('technic', 'domain', 'distinctli'): 1, ('domain', 'distinctli', 'differ'): 1, ('distinctli', 'differ', 'trecbas'): 1, ('differ', 'trecbas', 'qa'): 1, ('trecbas', 'qa', 'webbas'): 1, ('qa', 'webbas', 'qa'): 1, ('webbas', 'qa', 'can'): 1, ('qa', 'can', 'not'): 1, ('can', 'not', 'benefit'): 1, ('not', 'benefit', 'lom'): 1, ('benefit', 'lom', 'dataintens'): 1, ('lom', 'dataintens', 'approach'): 1, ('universitquotat', 'de', 'saarland'): 1, ('sri', 'develop', 'new'): 1, ('develop', 'new', 'architectur'): 1, ('new', 'architectur', 'integr'): 1, ('architectur', 'integr', 'speech'): 1, ('integr', 'speech', 'naturallanguag'): 1, ('speech', 'naturallanguag', 'process'): 1, ('naturallanguag', 'process', 'appli'): 1, ('process', 'appli', 'linguist'): 1, ('appli', 'linguist', 'constraint'): 1, ('linguist', 'constraint', 'recognit'): 1, ('constraint', 'recognit', 'increment'): 1, ('recognit', 'increment', 'expand'): 1, ('increment', 'expand', 'statetransit'): 1, ('expand', 'statetransit', 'network'): 1, ('statetransit', 'network', 'embodi'): 1, ('network', 'embodi', 'unif'): 1, ('embodi', 'unif', 'grammar'): 1, ('unif', 'grammar', 'we'): 1, ('grammar', 'we', 'compar'): 1, ('we', 'compar', 'dynamicgralnlnarnetwork'): 1, ('compar', 'dynamicgralnlnarnetwork', 'dgn'): 1, ('dynamicgralnlnarnetwork', 'dgn', 'approach'): 1, ('thi', 'chapter', 'consid'): 1, ('chapter', 'consid', 'revolut'): 1, ('consid', 'revolut', 'taken'): 1, ('revolut', 'taken', 'place'): 1, ('taken', 'place', 'natur'): 1, ('place', 'natur', 'languag'): 1, ('languag', 'process', 'research'): 1, ('process', 'research', 'last'): 1, ('research', 'last', 'five'): 1, ('last', 'five', 'year'): 1, ('five', 'year', 'it'): 1, ('year', 'it', 'begin'): 1, ('it', 'begin', 'provid'): 1, ('begin', 'provid', 'brief'): 1, ('provid', 'brief', 'guid'): 1, ('brief', 'guid', 'structur'): 1, ('guid', 'structur', 'field'): 1, ('structur', 'field', 'present'): 1, ('field', 'present', 'caricatur'): 1, ('present', 'caricatur', 'two'): 1, ('caricatur', 'two', 'compet'): 1, ('two', 'compet', 'paradigm'): 1, ('compet', 'paradigm', 'nlp'): 1, ('paradigm', 'nlp', 'research'): 1, ('nlp', 'research', 'indic'): 1, ('research', 'indic', 'reason'): 1, ('visual', 'develop', 'environ'): 1, ('develop', 'environ', 'support'): 1, ('environ', 'support', 'visual'): 1, ('support', 'visual', 'assembl'): 1, ('visual', 'assembl', 'execut'): 1, ('assembl', 'execut', 'analysi'): 1, ('execut', 'analysi', 'modular'): 1, ('analysi', 'modular', 'natur'): 1, ('modular', 'natur', 'languag'): 1, ('system', 'the', 'visual'): 1, ('the', 'visual', 'model'): 1, ('visual', 'model', 'execut'): 1, ('model', 'execut', 'data'): 1, ('execut', 'data', 'flow'): 1, ('data', 'flow', 'program'): 1, ('flow', 'program', 'graph'): 1, ('program', 'graph', 'automat'): 1, ('graph', 'automat', 'synthesis'): 1, ('automat', 'synthesis', 'data'): 1, ('synthesis', 'data', 'depend'): 1, ('data', 'depend', 'declar'): 1, ('depend', 'declar', 'languag'): 1, ('declar', 'languag', 'process'): 1, ('languag', 'process', 'modul'): 1, ('process', 'modul', 'the'): 1, ('modul', 'the', 'graph'): 1, ('in', 'chapter', 'basic'): 1, ('chapter', 'basic', 'use'): 1, ('basic', 'use', 'descript'): 1, ('use', 'descript', 'logic'): 1, ('descript', 'logic', 'natur'): 1, ('logic', 'natur', 'languag'): 1, ('languag', 'process', 'analys'): 1, ('process', 'analys', 'togeth'): 1, ('analys', 'togeth', 'littl'): 1, ('togeth', 'littl', 'bit'): 1, ('littl', 'bit', 'histori'): 1, ('bit', 'histori', 'role'): 1, ('histori', 'role', 'descript'): 1, ('role', 'descript', 'logic'): 1, ('descript', 'logic', 'current'): 1, ('logic', 'current', 'state'): 1, ('current', 'state', 'art'): 1, ('state', 'art', 'comput'): 1, ('art', 'comput', 'linguist'): 1, ('comput', 'linguist', 'point'): 1, ('linguist', 'point', 'introduct'): 1, ('point', 'introduct', 'sinc'): 1, ('introduct', 'sinc', 'earli'): 1, ('sinc', 'earli', 'day'): 1, ('we', 'appli', 'structur'): 1, ('appli', 'structur', 'learn'): 1, ('structur', 'learn', 'model'): 1, ('learn', 'model', 'maxmargin'): 1, ('model', 'maxmargin', 'structur'): 1, ('maxmargin', 'structur', 'mm'): 1, ('structur', 'mm', 'natur'): 1, ('mm', 'natur', 'languag'): 1, ('nlp', 'task', 'aim'): 1, ('task', 'aim', 'captur'): 1, ('aim', 'captur', 'latent'): 1, ('captur', 'latent', 'relationship'): 1, ('latent', 'relationship', 'within'): 1, ('relationship', 'within', 'output'): 1, ('within', 'output', 'languag'): 1, ('output', 'languag', 'domain'): 1, ('languag', 'domain', 'we'): 1, ('domain', 'we', 'formul'): 1, ('we', 'formul', 'model'): 1, ('formul', 'model', 'extens'): 1, ('model', 'extens', 'multiclass'): 1, ('extens', 'multiclass', 'support'): 1, ('multiclass', 'support', 'vector'): 1, ('support', 'vector', 'machin'): 1, ('vector', 'machin', 'svm'): 1, ('machin', 'svm', 'present'): 1, ('mation', 'infrastructur', 'digit'): 1, ('infrastructur', 'digit', 'librari'): 1, ('digit', 'librari', 'network'): 1, ('librari', 'network', 'servic'): 1, ('network', 'servic', 'digit'): 1, ('servic', 'digit', 'converg'): 1, ('digit', 'converg', 'intellig'): 1, ('converg', 'intellig', 'agent'): 1, ('intellig', 'agent', 'thi'): 1, ('agent', 'thi', 'attent'): 1, ('thi', 'attent', 'move'): 1, ('attent', 'move', 'natur'): 1, ('move', 'natur', 'languag'): 1, ('languag', 'process', 'along'): 1, ('process', 'along', 'critic'): 1, ('along', 'critic', 'path'): 1, ('critic', 'path', 'kind'): 1, ('path', 'kind', 'novel'): 1, ('kind', 'novel', 'applic'): 1, ('novel', 'applic', 'thi'): 1, ('applic', 'thi', 'articl'): 1, ('thi', 'articl', 'mention'): 1, ('articl', 'mention', 'number'): 1, ('mention', 'number', 'success'): 1, ('number', 'success', 'applic'): 1, ('success', 'applic', 'natur'): 1, ('over', 'last', 'year'): 1, ('last', 'year', 'number'): 1, ('year', 'number', 'area'): 1, ('number', 'area', 'natur'): 1, ('area', 'natur', 'languag'): 1, ('languag', 'process', 'begun'): 1, ('process', 'begun', 'appli'): 1, ('begun', 'appli', 'graphbas'): 1, ('appli', 'graphbas', 'techniqu'): 1, ('graphbas', 'techniqu', 'these'): 1, ('techniqu', 'these', 'includ'): 1, ('these', 'includ', 'among'): 1, ('includ', 'among', 'other'): 1, ('among', 'other', 'text'): 1, ('other', 'text', 'summar'): 1, ('text', 'summar', 'syntact'): 1, ('summar', 'syntact', 'par'): 1, ('syntact', 'par', 'word'): 1, ('sen', 'disambigu', 'ontolog'): 1, ('disambigu', 'ontolog', 'construct'): 1, ('ontolog', 'construct', 'sentiment'): 1, ('construct', 'sentiment', 'subject'): 1, ('sentiment', 'subject', 'analysi'): 1, ('subject', 'analysi', 'text'): 1, ('analysi', 'text', 'cluster'): 1, ('process', 'nlp', 'research'): 1, ('nlp', 'research', 'result'): 1, ('research', 'result', 'softwar'): 1, ('result', 'softwar', 'engin'): 1, ('softwar', 'engin', 'softwar'): 1, ('engin', 'softwar', 'technolog'): 1, ('softwar', 'technolog', 'often'): 1, ('technolog', 'often', 'neglect'): 1, ('kernel', 'sort', 'increas'): 1, ('sort', 'increas', 'robust'): 1, ('increas', 'robust', 'perform'): 1, ('robust', 'perform', 'sever'): 1, ('perform', 'sever', 'natur'): 1, ('sever', 'natur', 'languag'): 1, ('nlp', 'task', 'document'): 1, ('task', 'document', 'match'): 1, ('document', 'match', 'parallel'): 1, ('match', 'parallel', 'compar'): 1, ('parallel', 'compar', 'corpus'): 1, ('compar', 'corpus', 'machin'): 1, ('corpus', 'machin', 'transliter'): 1, ('machin', 'transliter', 'even'): 1, ('transliter', 'even', 'imag'): 1, ('even', 'imag', 'process'): 1, ('imag', 'process', 'empir'): 1, ('process', 'empir', 'show'): 1, ('empir', 'show', 'task'): 1, ('show', 'task', 'semisupervis'): 1, ('task', 'semisupervis', 'variant'): 1, ('semisupervis', 'variant', 'kernel'): 1, ('structur', 'in', 'word'): 1, ('in', 'word', 'statist'): 1, ('word', 'statist', 'natur'): 1, ('languag', 'process', 'need'): 1, ('process', 'need', 'sophist'): 1, ('need', 'sophist', 'statist'): 1, ('sophist', 'statist', 'model'): 1, ('statist', 'model', 'basic'): 1, ('model', 'basic', 'element'): 1, ('basic', 'element', 'word'): 1, ('element', 'word', 'phrase'): 1, ('word', 'phrase', 'combin'): 1, ('phrase', 'combin', 'structur'): 1, ('combin', 'structur', 'model'): 1, ('structur', 'model', 'syntact'): 1, ('model', 'syntact', 'par'): 1, ('syntact', 'par', 'depend'): 1, ('par', 'depend', 'analysi'): 1, ('depend', 'analysi', 'sinc'): 1, ('analysi', 'sinc', 'basic'): 1, ('sinc', 'basic', 'properti'): 1, ('basic', 'properti', 'element'): 1, ('paper', 'describ', 'framework'): 1, ('describ', 'framework', 'develop'): 1, ('framework', 'develop', 'probabilist'): 1, ('develop', 'probabilist', 'classifi'): 1, ('probabilist', 'classifi', 'natur'): 1, ('classifi', 'natur', 'languag'): 1, ('languag', 'process', 'our'): 1, ('process', 'our', 'focu'): 1, ('our', 'focu', 'formul'): 1, ('focu', 'formul', 'model'): 1, ('formul', 'model', 'captur'): 1, ('model', 'captur', 'import'): 1, ('captur', 'import', 'interdepend'): 1, ('import', 'interdepend', 'among'): 1, ('interdepend', 'among', 'featur'): 1, ('among', 'featur', 'avoid'): 1, ('featur', 'avoid', 'overfit'): 1, ('avoid', 'overfit', 'data'): 1, ('overfit', 'data', 'also'): 1, ('data', 'also', 'character'): 1, ('also', 'character', 'data'): 1, ('character', 'data', 'well'): 1, ('data', 'well', 'the'): 1, ('well', 'the', 'class'): 1, ('mani', 'natur', 'languag'): 1, ('nlp', 'techniqu', 'use'): 1, ('techniqu', 'use', 'inform'): 1, ('use', 'inform', 'retriev'): 1, ('inform', 'retriev', 'the'): 1, ('retriev', 'the', 'result'): 1, ('the', 'result', 'encourag'): 1, ('result', 'encourag', 'simpl'): 1, ('encourag', 'simpl', 'method'): 1, ('simpl', 'method', 'stopword'): 1, ('method', 'stopword', 'porterstyl'): 1, ('stopword', 'porterstyl', 'stem'): 1, ('porterstyl', 'stem', 'etc'): 1, ('stem', 'etc', 'usual'): 1, ('etc', 'usual', 'yield'): 1, ('usual', 'yield', 'signific'): 1, ('yield', 'signific', 'improv'): 1, ('signific', 'improv', 'higherlevel'): 1, ('improv', 'higherlevel', 'process'): 1, ('higherlevel', 'process', 'chunk'): 1, ('process', 'chunk', 'par'): 1, ('chunk', 'par', 'word'): 1, ('abstract', 'thi', 'paper'): 1, ('thi', 'paper', 'explain'): 1, ('paper', 'explain', 'inform'): 1, ('explain', 'inform', 'retriev'): 1, ('inform', 'retriev', 'use'): 1, ('retriev', 'use', 'natur'): 1, ('languag', 'process', 'malayalam'): 1, ('process', 'malayalam', 'languag'): 1, ('malayalam', 'languag', 'basic'): 1, ('inform', 'retriev', 'process'): 1, ('retriev', 'process', 'find'): 1, ('process', 'find', 'document'): 1, ('find', 'document', 'document'): 1, ('document', 'document', 'collect'): 1, ('document', 'collect', 'satisfi'): 1, ('collect', 'satisfi', 'inform'): 1, ('satisfi', 'inform', 'need'): 1, ('inform', 'need', 'user'): 1, ('need', 'user', 'the'): 1, ('user', 'the', 'document'): 1, ('the', 'document', 'natur'): 1, ('document', 'natur', 'languag'): 1, ('natur', 'languag', 'construct'): 1, ('languag', 'construct', 'motiv'): 1, ('construct', 'motiv', 'work'): 1, ('motiv', 'work', 'investig'): 1, ('work', 'investig', 'natur'): 1, ('investig', 'natur', 'languag'): 1, ('languag', 'process', 'use'): 1, ('process', 'use', 'improv'): 1, ('logic', 'program', 'within'): 1, ('program', 'within', 'natur'): 1, ('within', 'natur', 'languag'): 1, ('natur', 'languag', 'research'): 1, ('languag', 'research', 'machin'): 1, ('research', 'machin', 'learn'): 1, ('machin', 'learn', 'point'): 1, ('learn', 'point', 'opportun'): 1, ('point', 'opportun', 'induct'): 1, ('opportun', 'induct', 'linguist'): 1, ('induct', 'linguist', 'knowledg'): 1, ('linguist', 'knowledg', 'within'): 1, ('knowledg', 'within', 'logic'): 1, ('within', 'logic', 'program'): 1, ('logic', 'program', 'keyword'): 1, ('program', 'keyword', 'induct'): 1, ('keyword', 'induct', 'logic'): 1, ('induct', 'logic', 'program'): 1, ('logic', 'program', 'natur'): 1, ('program', 'natur', 'languag'): 1, ('logic', 'program', 'machin'): 1, ('program', 'machin', 'learn'): 1, ('machin', 'learn', 'introduct'): 1, ('learn', 'introduct', 'there'): 1, ('what', 'statist', 'method'): 1, ('statist', 'method', 'use'): 1, ('method', 'use', 'natur'): 1, ('process', 'nlp', 'in'): 1, ('nlp', 'in', 'paper'): 1, ('in', 'paper', 'start'): 1, ('paper', 'start', 'definit'): 1, ('start', 'definit', 'nlp'): 1, ('definit', 'nlp', 'concern'): 1, ('nlp', 'concern', 'design'): 1, ('concern', 'design', 'implement'): 1, ('design', 'implement', 'effect'): 1, ('implement', 'effect', 'natur'): 1, ('effect', 'natur', 'languag'): 1, ('natur', 'languag', 'input'): 1, ('languag', 'input', 'output'): 1, ('input', 'output', 'compon'): 1, ('output', 'compon', 'comput'): 1, ('compon', 'comput', 'system'): 1, ('comput', 'system', 'we'): 1, ('system', 'we', 'distinguish'): 1, ('we', 'distinguish', 'three'): 1, ('in', 'report', 'collabor'): 1, ('report', 'collabor', 'work'): 1, ('collabor', 'work', 'field'): 1, ('work', 'field', 'machin'): 1, ('field', 'machin', 'learn'): 1, ('learn', 'ml', 'natur'): 1, ('ml', 'natur', 'languag'): 1, ('process', 'nlp', 'present'): 1, ('nlp', 'present', 'the'): 1, ('present', 'the', 'document'): 1, ('the', 'document', 'structur'): 1, ('document', 'structur', 'two'): 1, ('structur', 'two', 'part'): 1, ('two', 'part', 'the'): 1, ('part', 'the', 'first'): 1, ('the', 'first', 'part'): 1, ('first', 'part', 'includ'): 1, ('part', 'includ', 'superfici'): 1, ('includ', 'superfici', 'comprehens'): 1, ('superfici', 'comprehens', 'survey'): 1, ('comprehens', 'survey', 'cover'): 1, ('survey', 'cover', 'stateoftheart'): 1, ('cover', 'stateoftheart', 'machin'): 1, ('stateoftheart', 'machin', 'learn'): 1, ('abstract', 'thi', 'thesi'): 1, ('thi', 'thesi', 'examin'): 1, ('thesi', 'examin', 'use'): 1, ('examin', 'use', 'machin'): 1, ('use', 'machin', 'learn'): 1, ('learn', 'techniqu', 'variou'): 1, ('techniqu', 'variou', 'task'): 1, ('variou', 'task', 'natur'): 1, ('task', 'natur', 'languag'): 1, ('languag', 'process', 'mainli'): 1, ('process', 'mainli', 'task'): 1, ('mainli', 'task', 'inform'): 1, ('task', 'inform', 'extract'): 1, ('inform', 'extract', 'text'): 1, ('extract', 'text', 'the'): 1, ('text', 'the', 'object'): 1, ('the', 'object', 'improv'): 1, ('object', 'improv', 'adapt'): 1, ('improv', 'adapt', 'inform'): 1, ('adapt', 'inform', 'extract'): 1, ('inform', 'extract', 'system'): 1, ('extract', 'system', 'new'): 1, ('system', 'new', 'themat'): 1, ('new', 'themat', 'domain'): 1, ('themat', 'domain', 'even'): 1, ('tradit', 'approach', 'tointerpret'): 1, ('approach', 'tointerpret', 'natur'): 1, ('tointerpret', 'natur', 'languag'): 1, ('languag', 'process', 'typic'): 1, ('process', 'typic', 'fall'): 1, ('typic', 'fall', 'one'): 1, ('fall', 'one', 'three'): 1, ('one', 'three', 'class'): 1, ('three', 'class', 'syntaxdriven'): 1, ('class', 'syntaxdriven', 'semanticsdriven'): 1, ('syntaxdriven', 'semanticsdriven', 'frametask'): 1, ('semanticsdriven', 'frametask', 'base'): 1, ('frametask', 'base', 'syntaxdriven'): 1, ('base', 'syntaxdriven', 'approach'): 1, ('syntaxdriven', 'approach', 'use'): 1, ('approach', 'use', 'domainindepend'): 1, ('use', 'domainindepend', 'grammar'): 1, ('domainindepend', 'grammar', 'drive'): 1, ('grammar', 'drive', 'interpret'): 1, ('drive', 'interpret', 'process'): 1, ('interpret', 'process', 'produc'): 1, ('process', 'produc', 'global'): 1, ('produc', 'global', 'par'): 1, ('process', 'nlp', 'larg'): 1, ('nlp', 'larg', 'diver'): 1, ('larg', 'diver', 'subtop'): 1, ('diver', 'subtop', 'artifici'): 1, ('subtop', 'artifici', 'intellig'): 1, ('artifici', 'intellig', 'a'): 1, ('intellig', 'a', 'result'): 1, ('a', 'result', 'nlp'): 1, ('result', 'nlp', 'mani'): 1, ('nlp', 'mani', 'subtop'): 1, ('mani', 'subtop', 'includ'): 1, ('subtop', 'includ', 'optic'): 1, ('includ', 'optic', 'charact'): 1, ('optic', 'charact', 'recognit'): 1, ('charact', 'recognit', 'text'): 1, ('recognit', 'text', 'speech'): 1, ('text', 'speech', 'translat'): 1, ('speech', 'translat', 'foreign'): 1, ('translat', 'foreign', 'languag'): 1, ('foreign', 'languag', 'read'): 1, ('languag', 'read', 'write'): 1, ('read', 'write', 'aid'): 1, ('write', 'aid', 'machin'): 1, ('aid', 'machin', 'translat'): 1, ('machin', 'translat', 'speech'): 1, ('translat', 'speech', 'recognit'): 1, ('probabilist', 'finitest', 'string'): 1, ('finitest', 'string', 'transduc'): 1, ('string', 'transduc', 'fst'): 1, ('transduc', 'fst', 'extrem'): 1, ('fst', 'extrem', 'popular'): 1, ('extrem', 'popular', 'natur'): 1, ('popular', 'natur', 'languag'): 1, ('languag', 'process', 'due'): 1, ('process', 'due', 'power'): 1, ('due', 'power', 'gener'): 1, ('power', 'gener', 'method'): 1, ('gener', 'method', 'appli'): 1, ('method', 'appli', 'compos'): 1, ('appli', 'compos', 'learn'): 1, ('compos', 'learn', 'unfortun'): 1, ('learn', 'unfortun', 'fst'): 1, ('unfortun', 'fst', 'good'): 1, ('fst', 'good', 'fit'): 1, ('good', 'fit', 'much'): 1, ('fit', 'much', 'current'): 1, ('much', 'current', 'work'): 1, ('current', 'work', 'probabilist'): 1, ('work', 'probabilist', 'model'): 1, ('probabilist', 'model', 'machin'): 1, ('abstract', 'in', 'special'): 1, ('in', 'special', 'issu'): 1, ('special', 'issu', 'tal'): 1, ('issu', 'tal', 'look'): 1, ('tal', 'look', 'fundament'): 1, ('look', 'fundament', 'principl'): 1, ('fundament', 'principl', 'underli'): 1, ('principl', 'underli', 'evalu'): 1, ('underli', 'evalu', 'natur'): 1, ('evalu', 'natur', 'languag'): 1, ('process', 'we', 'adopt'): 1, ('we', 'adopt', 'global'): 1, ('adopt', 'global', 'point'): 1, ('global', 'point', 'view'): 1, ('point', 'view', 'goe'): 1, ('view', 'goe', 'beyond'): 1, ('goe', 'beyond', 'horizon'): 1, ('beyond', 'horizon', 'singl'): 1, ('horizon', 'singl', 'evalu'): 1, ('singl', 'evalu', 'campaign'): 1, ('evalu', 'campaign', 'particular'): 1, ('campaign', 'particular', 'protocol'): 1, ('particular', 'protocol', 'after'): 1, ('protocol', 'after', 'brief'): 1, ('after', 'brief', 'review'): 1, ('brief', 'review', 'histori'): 1, ('review', 'histori', 'terminolog'): 1, ('process', 'system', 'nlp'): 1, ('system', 'nlp', 'extract'): 1, ('nlp', 'extract', 'clinic'): 1, ('extract', 'clinic', 'inform'): 1, ('clinic', 'inform', 'textual'): 1, ('inform', 'textual', 'report'): 1, ('textual', 'report', 'shown'): 1, ('report', 'shown', 'effect'): 1, ('shown', 'effect', 'limit'): 1, ('effect', 'limit', 'domain'): 1, ('limit', 'domain', 'particular'): 1, ('domain', 'particular', 'applic'): 1, ('particular', 'applic', 'becaus'): 1, ('applic', 'becaus', 'nlp'): 1, ('becaus', 'nlp', 'system'): 1, ('nlp', 'system', 'typic'): 1, ('system', 'typic', 'requir'): 1, ('typic', 'requir', 'substanti'): 1, ('requir', 'substanti', 'resourc'): 1, ('substanti', 'resourc', 'develop'): 1, ('resourc', 'develop', 'benefici'): 1, ('develop', 'benefici', 'design'): 1, ('benefici', 'design', 'easili'): 1, ('fact', 'form', 'link'): 1, ('form', 'link', 'ie'): 1, ('link', 'ie', 'recent'): 1, ('ie', 'recent', 'develop'): 1, ('logic', 'program', 'prolog'): 1, ('we', 'describ', 'singl'): 1, ('describ', 'singl', 'convolut'): 1, ('singl', 'convolut', 'neural'): 1, ('convolut', 'neural', 'network'): 1, ('network', 'architectur', 'given'): 1, ('architectur', 'given', 'sentenc'): 1, ('given', 'sentenc', 'output'): 1, ('sentenc', 'output', 'host'): 1, ('output', 'host', 'languag'): 1, ('host', 'languag', 'process'): 1, ('languag', 'process', 'predict'): 1, ('process', 'predict', 'partofspeech'): 1, ('predict', 'partofspeech', 'tag'): 1, ('name', 'entiti', 'tag'): 1, ('entiti', 'tag', 'semant'): 1, ('tag', 'semant', 'role'): 1, ('semant', 'role', 'semant'): 1, ('role', 'semant', 'similar'): 1, ('semant', 'similar', 'word'): 1, ('similar', 'word', 'likelihood'): 1, ('word', 'likelihood', 'sentenc'): 1, ('likelihood', 'sentenc', 'make'): 1, ('sentenc', 'make', 'sen'): 1, ('make', 'sen', 'grammat'): 1, ('we', 'develop', 'prototyp'): 1, ('develop', 'prototyp', 'inform'): 1, ('prototyp', 'inform', 'retriev'): 1, ('retriev', 'system', 'use'): 1, ('system', 'use', 'advanc'): 1, ('use', 'advanc', 'natur'): 1, ('advanc', 'natur', 'languag'): 1, ('process', 'techniqu', 'enhanc'): 1, ('techniqu', 'enhanc', 'effect'): 1, ('enhanc', 'effect', 'tradit'): 1, ('effect', 'tradit', 'keyword'): 1, ('tradit', 'keyword', 'base'): 1, ('keyword', 'base', 'document'): 1, ('base', 'document', 'retriev'): 1, ('document', 'retriev', 'the'): 1, ('retriev', 'the', 'backbon'): 1, ('the', 'backbon', 'system'): 1, ('backbon', 'system', 'statist'): 1, ('system', 'statist', 'retriev'): 1, ('statist', 'retriev', 'engin'): 1, ('retriev', 'engin', 'perform'): 1, ('engin', 'perform', 'autom'): 1, ('perform', 'autom', 'index'): 1, ('in', 'paper', 'discus'): 1, ('paper', 'discus', 'sever'): 1, ('discus', 'sever', 'issu'): 1, ('sever', 'issu', 'requir'): 1, ('issu', 'requir', 'enabl'): 1, ('requir', 'enabl', 'natur'): 1, ('enabl', 'natur', 'languag'): 1, ('process', 'system', 'becom'): 1, ('system', 'becom', 'contextadapt'): 1, ('becom', 'contextadapt', 'given'): 1, ('contextadapt', 'given', 'fact'): 1, ('given', 'fact', 'emerg'): 1, ('fact', 'emerg', 'system'): 1, ('emerg', 'system', 'featur'): 1, ('system', 'featur', 'speaker'): 1, ('featur', 'speaker', 'independ'): 1, ('speaker', 'independ', 'continu'): 1, ('independ', 'continu', 'speech'): 1, ('continu', 'speech', 'recognit'): 1, ('speech', 'recognit', 'restrict'): 1, ('recognit', 'restrict', 'individu'): 1, ('restrict', 'individu', 'domain'): 1, ('individu', 'domain', 'equip'): 1, ('domain', 'equip', 'syntact'): 1, ('in', 'fall', 'i'): 1, ('fall', 'i', 'introduc'): 1, ('i', 'introduc', 'new'): 1, ('introduc', 'new', 'cours'): 1, ('new', 'cours', 'call'): 1, ('cours', 'call', 'appli'): 1, ('call', 'appli', 'natur'): 1, ('appli', 'natur', 'languag'): 1, ('languag', 'process', 'student'): 1, ('process', 'student', 'acquir'): 1, ('student', 'acquir', 'understand'): 1, ('acquir', 'understand', 'text'): 1, ('understand', 'text', 'analysi'): 1, ('text', 'analysi', 'techniqu'): 1, ('analysi', 'techniqu', 'current'): 1, ('techniqu', 'current', 'feasibl'): 1, ('current', 'feasibl', 'practic'): 1, ('feasibl', 'practic', 'applic'): 1, ('languag', 'process', 'studi'): 1, ('process', 'studi', 'mathemat'): 1, ('studi', 'mathemat', 'comput'): 1, ('mathemat', 'comput', 'model'): 1, ('comput', 'model', 'variou'): 1, ('model', 'variou', 'aspect'): 1, ('variou', 'aspect', 'languag'): 1, ('aspect', 'languag', 'improv'): 1, ('languag', 'improv', 'wide'): 1, ('improv', 'wide', 'rang'): 1, ('wide', 'rang', 'system'): 1, ('rang', 'system', 'natur'): 1, ('system', 'natur', 'languag'): 1, ('languag', 'languag', 'aris'): 1, ('languag', 'aris', 'innat'): 1, ('aris', 'innat', 'facil'): 1, ('innat', 'facil', 'languag'): 1, ('facil', 'languag', 'posse'): 1, ('languag', 'posse', 'human'): 1, ('posse', 'human', 'intellect'): 1, ('human', 'intellect', 'may'): 1, ('process', 'nlp', 'branch'): 1, ('nlp', 'branch', 'artifici'): 1, ('branch', 'artifici', 'intellig'): 1, ('artifici', 'intellig', 'includ'): 1, ('intellig', 'includ', 'speech'): 1, ('includ', 'speech', 'synthesi'): 1, ('speech', 'synthesi', 'speech'): 1, ('synthesi', 'speech', 'recognit'): 1, ('speech', 'recognit', 'machin'): 1, ('recognit', 'machin', 'translat'): 1, ('machin', 'translat', 'natur'): 1, ('translat', 'natur', 'languag'): 1, ('languag', 'process', 'wide'): 1, ('process', 'wide', 'rang'): 1, ('wide', 'rang', 'applic'): 1, ('rang', 'applic', 'indian'): 1, ('applic', 'indian', 'context'): 1, ('indian', 'context', 'most'): 1, ('context', 'most', 'rural'): 1, ('most', 'rural', 'indian'): 1, ('rural', 'indian', 'commun'): 1, ('indian', 'commun', 'unabl'): 1, ('commun', 'unabl', 'make'): 1, ('unabl', 'make', 'use'): 1, ('an', 'evalu', 'lolita'): 1, ('evalu', 'lolita', 'relat'): 1, ('lolita', 'relat', 'natur'): 1, ('process', 'system', 'paul'): 1, ('system', 'paul', 'callaghan'): 1, ('paul', 'callaghan', 'submit'): 1, ('callaghan', 'submit', 'univers'): 1, ('submit', 'univers', 'durham'): 1, ('univers', 'durham', 'degre'): 1, ('durham', 'degre', 'phd'): 1, ('degre', 'phd', 'august'): 1, ('phd', 'august', 'thi'): 1, ('august', 'thi', 'research'): 1, ('thi', 'research', 'address'): 1, ('research', 'address', 'question'): 1, ('address', 'question', 'evalu'): 1, ('question', 'evalu', 'system'): 1, ('evalu', 'system', 'like'): 1, ('system', 'like', 'lolita'): 1, ('like', 'lolita', 'lolita'): 1, ('lolita', 'lolita', 'natur'): 1, ('previou', 'work', 'demonstr'): 1, ('work', 'demonstr', 'web'): 1, ('demonstr', 'web', 'count'): 1, ('web', 'count', 'use'): 1, ('count', 'use', 'approxim'): 1, ('use', 'approxim', 'bigram'): 1, ('approxim', 'bigram', 'count'): 1, ('bigram', 'count', 'suggest'): 1, ('count', 'suggest', 'webbas'): 1, ('suggest', 'webbas', 'frequenc'): 1, ('webbas', 'frequenc', 'use'): 1, ('frequenc', 'use', 'wide'): 1, ('use', 'wide', 'varieti'): 1, ('wide', 'varieti', 'natur'): 1, ('varieti', 'natur', 'languag'): 1, ('nlp', 'task', 'howev'): 1, ('task', 'howev', 'limit'): 1, ('howev', 'limit', 'number'): 1, ('limit', 'number', 'task'): 1, ('number', 'task', 'far'): 1, ('task', 'far', 'test'): 1, ('far', 'test', 'use'): 1, ('test', 'use', 'webscal'): 1, ('use', 'webscal', 'data'): 1, ('webscal', 'data', 'set'): 1, ('develop', 'opportun', 'introduct'): 1, ('opportun', 'introduct', 'thi'): 1, ('introduct', 'thi', 'chapter'): 1, ('thi', 'chapter', 'focus'): 1, ('chapter', 'focus', 'applic'): 1, ('thi', 'paper', 'describ'): 1, ('paper', 'describ', 'natur'): 1, ('describ', 'natur', 'languag'): 1, ('natur', 'languag', 'system'): 1, ('languag', 'system', 'improv'): 1, ('system', 'improv', 'perform'): 1, ('improv', 'perform', 'learn'): 1, ('perform', 'learn', 'the'): 1, ('learn', 'the', 'system'): 1, ('the', 'system', 'process'): 1, ('system', 'process', 'short'): 1, ('process', 'short', 'english'): 1, ('short', 'english', 'narr'): 1, ('english', 'narr', 'abl'): 1, ('narr', 'abl', 'acquir'): 1, ('abl', 'acquir', 'singl'): 1, ('acquir', 'singl', 'narr'): 1, ('singl', 'narr', 'new'): 1, ('narr', 'new', 'schema'): 1, ('new', 'schema', 'stereotyp'): 1, ('schema', 'stereotyp', 'set'): 1, ('stereotyp', 'set', 'action'): 1, ('set', 'action', 'dure'): 1, ('action', 'dure', 'understand'): 1, ('dure', 'understand', 'process'): 1, ('understand', 'process', 'system'): 1, ('process', 'system', 'attempt'): 1, ('we', 'classifi', 'review'): 1, ('classifi', 'review', 'current'): 1, ('review', 'current', 'approach'): 1, ('current', 'approach', 'softwar'): 1, ('approach', 'softwar', 'infrastructur'): 1, ('softwar', 'infrastructur', 'research'): 1, ('infrastructur', 'research', 'develop'): 1, ('research', 'develop', 'deliveri'): 1, ('develop', 'deliveri', 'nlp'): 1, ('deliveri', 'nlp', 'system'): 1, ('nlp', 'system', 'the'): 1, ('system', 'the', 'task'): 1, ('confid', 'measur', 'practic'): 1, ('measur', 'practic', 'solut'): 1, ('practic', 'solut', 'improv'): 1, ('solut', 'improv', 'use'): 1, ('improv', 'use', 'natur'): 1, ('process', 'applic', 'confid'): 1, ('confid', 'estim', 'gener'): 1, ('estim', 'gener', 'machin'): 1, ('gener', 'machin', 'learn'): 1, ('machin', 'learn', 'approach'): 1, ('learn', 'approach', 'deriv'): 1, ('approach', 'deriv', 'confid'): 1, ('deriv', 'confid', 'measur'): 1, ('confid', 'measur', 'we'): 1, ('measur', 'we', 'give'): 1, ('we', 'give', 'overview'): 1, ('give', 'overview', 'applic'): 1, ('overview', 'applic', 'confid'): 1, ('confid', 'estim', 'variou'): 1, ('estim', 'variou', 'field'): 1, ('senseid', 'senseid', 'dictionari'): 1, ('senseid', 'dictionari', 'ldoce'): 1, ('dictionari', 'ldoce', 'lexsign'): 1, ('ldoce', 'lexsign', 'senseid'): 1, ('senseid', 'senseid', 'ldbentryno'): 1, ('senseid', 'ldbentryno', 'lexsign'): 1, ('ldbentryno', 'lexsign', 'senseid'): 1, ('senseid', 'senseid', 'senseno'): 1, ('senseid', 'senseno', 'when'): 1, ('senseno', 'when', 'load'): 1, ('when', 'load', 'lkb'): 1, ('load', 'lkb', 'expand'): 1, ('lkb', 'expand', 'fullyfledg'): 1, ('expand', 'fullyfledg', 'represent'): 1, ('fullyfledg', 'represent', 'transit'): 1, ('represent', 'transit', 'use'): 1, ('transit', 'use', 'experi'): 1, ('use', 'experi', 'integr'): 1, ('experi', 'integr', 'wordspecif'): 1, ('integr', 'wordspecif', 'inform'): 1, ('wordspecif', 'inform', 'provid'): 1, ('inform', 'provid', 'inform'): 1, ('provid', 'inform', 'encod'): 1, ('inform', 'encod', 'lkb'): 1, ('encod', 'lkb', 'type'): 1, ('lkb', 'type', 'stricttranssign'): 1, ('type', 'stricttranssign', 'thu'): 1, ('stricttranssign', 'thu', 'although'): 1, ('thu', 'although', 'neither'): 1, ('although', 'neither', 'ldoce'): 1, ('neither', 'ldoce', 'llce'): 1, ('ldoce', 'llce', 'earlier'): 1, ('llce', 'earlier', 'subcategoris'): 1, ('earlier', 'subcategoris', 'lexicon'): 1, ('subcategoris', 'lexicon', 'contain'): 1, ('lexicon', 'contain', 'inform'): 1, ('contain', 'inform', 'psycholog'): 1, ('inform', 'psycholog', 'verb'): 1, ('psycholog', 'verb', 'defin'): 1, ('verb', 'defin', 'sanfilippoaposs'): 1, ('defin', 'sanfilippoaposs', 'type'): 1, ('sanfilippoaposs', 'type', 'system'): 1, ('type', 'system', 'use'): 1, ('system', 'use', 'conjunct'): 1, ('use', 'conjunct', 'inform'): 1, ('conjunct', 'inform', 'avail'): 1, ('inform', 'avail', 'three'): 1, ('avail', 'three', 'prove'): 1, ('three', 'prove', 'possibl'): 1, ('prove', 'possibl', 'effect'): 1, ('possibl', 'effect', 'enrich'): 1, ('effect', 'enrich', 'inform'): 1, ('enrich', 'inform', 'time'): 1, ('inform', 'time', 'map'): 1, ('time', 'map', 'formal'): 1, ('map', 'formal', 'represent'): 1, ('formal', 'represent', 'toward'): 1, ('represent', 'toward', 'multilingu'): 1, ('toward', 'multilingu', 'lkb'): 1, ('multilingu', 'lkb', 'a'): 1, ('lkb', 'a', 'goal'): 1, ('a', 'goal', 'acquilex'): 1, ('goal', 'acquilex', 'demonstr'): 1, ('acquilex', 'demonstr', 'lkb'): 1, ('demonstr', 'lkb', 'produc'): 1, ('lkb', 'produc', 'use'): 1, ('produc', 'use', 'exploit'): 1, ('use', 'exploit', 'variou'): 1, ('exploit', 'variou', 'mrd'): 1, ('variou', 'mrd', 'sourc'): 1, ('mrd', 'sourc', 'integr'): 1, ('sourc', 'integr', 'multilingu'): 1, ('integr', 'multilingu', 'inform'): 1, ('multilingu', 'inform', 'the'): 1, ('inform', 'the', 'use'): 1, ('the', 'use', 'common'): 1, ('use', 'common', 'lrl'): 1, ('common', 'lrl', 'common'): 1, ('lrl', 'common', 'type'): 1, ('common', 'type', 'system'): 1, ('type', 'system', 'make'): 1, ('system', 'make', 'possi'): 1, ('we', 'describ', 'design'): 1, ('describ', 'design', 'use'): 1, ('design', 'use', 'stanford'): 1, ('use', 'stanford', 'corenlp'): 1, ('stanford', 'corenlp', 'toolkit'): 1, ('corenlp', 'toolkit', 'extens'): 1, ('toolkit', 'extens', 'pipelin'): 1, ('extens', 'pipelin', 'provid'): 1, ('pipelin', 'provid', 'core'): 1, ('provid', 'core', 'natur'): 1, ('core', 'natur', 'languag'): 1, ('natur', 'languag', 'analysi'): 1, ('languag', 'analysi', 'thi'): 1, ('analysi', 'thi', 'toolkit'): 1, ('thi', 'toolkit', 'quit'): 1, ('toolkit', 'quit', 'wide'): 1, ('quit', 'wide', 'use'): 1, ('wide', 'use', 'research'): 1, ('use', 'research', 'nlp'): 1, ('research', 'nlp', 'commun'): 1, ('nlp', 'commun', 'also'): 1, ('commun', 'also', 'among'): 1, ('also', 'among', 'commerci'): 1, ('among', 'commerci', 'govern'): 1, ('commerci', 'govern', 'user'): 1, ('govern', 'user', 'open'): 1, ('user', 'open', 'sourc'): 1, ('open', 'sourc', 'nlp'): 1, ('sourc', 'nlp', 'technolog'): 1, ('nlp', 'technolog', 'we'): 1, ('technolog', 'we', 'suggest'): 1, ('gaussian', 'process', 'gp'): 1, ('process', 'gp', 'power'): 1, ('gp', 'power', 'model'): 1, ('power', 'model', 'framework'): 1, ('model', 'framework', 'incorpor'): 1, ('framework', 'incorpor', 'kernel'): 1, ('incorpor', 'kernel', 'bayesian'): 1, ('kernel', 'bayesian', 'infer'): 1, ('bayesian', 'infer', 'recognis'): 1, ('infer', 'recognis', 'stateoftheart'): 1, ('recognis', 'stateoftheart', 'mani'): 1, ('stateoftheart', 'mani', 'machin'): 1, ('mani', 'machin', 'learn'): 1, ('machin', 'learn', 'task'): 1, ('a', 'fundament', 'issu'): 1, ('fundament', 'issu', 'natur'): 1, ('issu', 'natur', 'languag'): 1, ('languag', 'process', 'prerequisit'): 1, ('process', 'prerequisit', 'enorm'): 1, ('prerequisit', 'enorm', 'quantiti'): 1, ('enorm', 'quantiti', 'preprogram'): 1, ('quantiti', 'preprogram', 'knowledg'): 1, ('preprogram', 'knowledg', 'concern'): 1, ('knowledg', 'concern', 'languag'): 1, ('concern', 'languag', 'domain'): 1, ('languag', 'domain', 'examin'): 1, ('domain', 'examin', 'manual'): 1, ('examin', 'manual', 'acquisit'): 1, ('manual', 'acquisit', 'knowledg'): 1, ('acquisit', 'knowledg', 'tediou'): 1, ('knowledg', 'tediou', 'error'): 1, ('tediou', 'error', 'prone'): 1, ('error', 'prone', 'develop'): 1, ('prone', 'develop', 'autom'): 1, ('develop', 'autom', 'acquisit'): 1, ('support', 'sophist', 'natur'): 1, ('sophist', 'natur', 'languag'): 1, ('languag', 'process', 'significantli'): 1, ('process', 'significantli', 'simplifi'): 1, ('significantli', 'simplifi', 'interfac'): 1, ('simplifi', 'interfac', 'domainspecif'): 1, ('interfac', 'domainspecif', 'knowledg'): 1, ('domainspecif', 'knowledg', 'gener'): 1, ('knowledg', 'gener', 'lingui'): 1, ('gener', 'lingui', 'tic'): 1, ('lingui', 'tic', 'resourc'): 1, ('tic', 'resourc', 'thi'): 1, ('resourc', 'thi', 'paper'): 1, ('paper', 'present', 'result'): 1, ('present', 'result', 'experi'): 1, ('result', 'experi', 'design'): 1, ('experi', 'design', 'use'): 1, ('design', 'use', 'upper'): 1, ('use', 'upper', 'model'): 1, ('upper', 'model', 'varieti'): 1, ('model', 'varieti', 'applic'): 1, ('varieti', 'applic', 'past'): 1, ('applic', 'past', 'year'): 1, ('neighbor', 'map', 'node'): 1, ('map', 'node', 'node'): 1, ('node', 'node', 'may'): 1, ('node', 'may', 'thu'): 1, ('may', 'thu', 'view'): 1, ('thu', 'view', 'word'): 1, ('view', 'word', 'categori'): 1, ('word', 'categori', 'although'): 1, ('categori', 'although', 'priori'): 1, ('although', 'priori', 'inform'): 1, ('priori', 'inform', 'class'): 1, ('inform', 'class', 'given'): 1, ('class', 'given', 'selforgan'): 1, ('given', 'selforgan', 'process'): 1, ('selforgan', 'process', 'model'): 1, ('process', 'model', 'word'): 1, ('model', 'word', 'class'): 1, ('word', 'class', 'emerg'): 1, ('class', 'emerg', 'the'): 1, ('emerg', 'the', 'central'): 1, ('the', 'central', 'topic'): 1, ('central', 'topic', 'thesi'): 1, ('topic', 'thesi', 'use'): 1, ('thesi', 'use', 'som'): 1, ('use', 'som', 'natur'): 1, ('som', 'natur', 'languag'): 1, ('process', 'the', 'approach'): 1, ('paper', 'present', 'workbench'): 1, ('present', 'workbench', 'built'): 1, ('workbench', 'built', 'priberam'): 1, ('built', 'priberam', 'informática'): 1, ('priberam', 'informática', 'develop'): 1, ('informática', 'develop', 'compani'): 1, ('develop', 'compani', 'natur'): 1, ('compani', 'natur', 'languag'): 1, ('languag', 'process', 'technolog'): 1, ('process', 'technolog', 'thi'): 1, ('technolog', 'thi', 'workbench'): 1, ('thi', 'workbench', 'includ'): 1, ('workbench', 'includ', 'set'): 1, ('includ', 'set', 'linguist'): 1, ('set', 'linguist', 'resourc'): 1, ('linguist', 'resourc', 'softwar'): 1, ('resourc', 'softwar', 'tool'): 1, ('softwar', 'tool', 'appli'): 1, ('tool', 'appli', 'consider'): 1, ('appli', 'consider', 'number'): 1, ('consider', 'number', 'practic'): 1, ('number', 'practic', 'purpos'): 1, ('practic', 'purpos', 'cover'): 1, ('process', 'nlp', 'effect'): 1, ('nlp', 'effect', 'approach'): 1, ('effect', 'approach', 'bring'): 1, ('approach', 'bring', 'improv'): 1, ('bring', 'improv', 'educ'): 1, ('improv', 'educ', 'set'): 1, ('educ', 'set', 'implement'): 1, ('set', 'implement', 'nlp'): 1, ('implement', 'nlp', 'involv'): 1, ('nlp', 'involv', 'initi'): 1, ('involv', 'initi', 'process'): 1, ('initi', 'process', 'learn'): 1, ('process', 'learn', 'natur'): 1, ('learn', 'natur', 'acquisit'): 1, ('natur', 'acquisit', 'educ'): 1, ('acquisit', 'educ', 'system'): 1, ('educ', 'system', 'it'): 1, ('system', 'it', 'base'): 1, ('it', 'base', 'effect'): 1, ('base', 'effect', 'approach'): 1, ('effect', 'approach', 'provid'): 1, ('approach', 'provid', 'solut'): 1, ('abstract', 'after', 'twenti'): 1, ('after', 'twenti', 'year'): 1, ('twenti', 'year', 'disfavor'): 1, ('year', 'disfavor', 'technolog'): 1, ('disfavor', 'technolog', 'return'): 1, ('technolog', 'return', 'imit'): 1, ('return', 'imit', 'process'): 1, ('imit', 'process', 'brain'): 1, ('process', 'brain', 'natur'): 1, ('brain', 'natur', 'languag'): 1, ('natur', 'languag', 'experi'): 1, ('languag', 'experi', 'sejnowski'): 1, ('experi', 'sejnowski', 'rosenberg'): 1, ('sejnowski', 'rosenberg', 'demonstr'): 1, ('rosenberg', 'demonstr', 'neural'): 1, ('demonstr', 'neural', 'network'): 1, ('neural', 'network', 'comput'): 1, ('network', 'comput', 'architectur'): 1, ('comput', 'architectur', 'learn'): 1, ('architectur', 'learn', 'actual'): 1, ('learn', 'actual', 'spoken'): 1, ('actual', 'spoken', 'languag'): 1, ('spoken', 'languag', 'observ'): 1, ('languag', 'observ', 'rule'): 1, ('observ', 'rule', 'pronunci'): 1, ('text', 'statist', 'frequent'): 1, ('statist', 'frequent', 'use'): 1, ('frequent', 'use', 'stylometri'): 1, ('use', 'stylometri', 'cryptographi'): 1, ('stylometri', 'cryptographi', 'studi'): 1, ('cryptographi', 'studi', 'in'): 1, ('studi', 'in', 'paper'): 1, ('in', 'paper', 'text'): 1, ('paper', 'text', 'statist'): 1, ('text', 'statist', 'tool'): 1, ('statist', 'tool', 'develop'): 1, ('tool', 'develop', 'iso'): 1, ('develop', 'iso', 'prolog'): 1, ('iso', 'prolog', 'natur'): 1, ('prolog', 'natur', 'languag'): 1, ('languag', 'process', 'detail'): 1, ('process', 'detail', 'given'): 1, ('detail', 'given', 'usag'): 1, ('given', 'usag', 'usercal'): 1, ('usag', 'usercal', 'predic'): 1, ('usercal', 'predic', 'logic'): 1, ('predic', 'logic', 'limit'): 1, ('logic', 'limit', 'program'): 1, ('limit', 'program', 'also'): 1, ('program', 'also', 'discus'): 1, ('we', 'summar', 'experi'): 1, ('summar', 'experi', 'use'): 1, ('experi', 'use', 'framenet'): 1, ('use', 'framenet', 'two'): 1, ('framenet', 'two', 'rather'): 1, ('two', 'rather', 'differ'): 1, ('rather', 'differ', 'project'): 1, ('differ', 'project', 'natur'): 1, ('project', 'natur', 'languag'): 1, ('process', 'nlp', 'we'): 1, ('nlp', 'we', 'conclud'): 1, ('we', 'conclud', 'nlp'): 1, ('conclud', 'nlp', 'benefit'): 1, ('nlp', 'benefit', 'framenet'): 1, ('benefit', 'framenet', 'differ'): 1, ('framenet', 'differ', 'way'): 1, ('differ', 'way', 'sketch'): 1, ('way', 'sketch', 'problem'): 1, ('sketch', 'problem', 'need'): 1, ('problem', 'need', 'overcom'): 1})\n"
          ],
          "name": "stdout"
        }
      ]
    },
    {
      "cell_type": "markdown",
      "metadata": {
        "id": "2nd2DIwKmYmC"
      },
      "source": [
        "n-grams are used for a variety of things. Some examples include auto completion of sentences (such as the one we see in Gmail these days)\n",
        ", auto spell check (yes, we can do that as well), and to a certain extent, we can check for grammar in a given sentence."
      ]
    },
    {
      "cell_type": "markdown",
      "metadata": {
        "id": "fg1HCswJnO4l"
      },
      "source": [
        "Suppose we’re calculating the probability of word “w1” occurring after the word “w2,” then the formula for this is as follows: count(w2 w1)/ count(w2)"
      ]
    },
    {
      "cell_type": "markdown",
      "metadata": {
        "id": "aKy5K7lpj05X"
      },
      "source": [
        "TextBlob is a Python (2 and 3) library for processing textual data. It provides a simple API for diving into common natural language processing (NLP) tasks such as part-of-speech tagging, noun phrase extraction, sentiment analysis, classification, translation, and more."
      ]
    },
    {
      "cell_type": "code",
      "metadata": {
        "id": "Y58LR74ujzhy"
      },
      "source": [
        "df['biGrams_Article'] = df['WordToken_Article'].apply(lambda x: list (ngrams(x,2)))\n",
        "df['biGrams_Abstract'] = df['WordToken_Abstract'].apply(lambda x: list (ngrams(x,2)))"
      ],
      "execution_count": 18,
      "outputs": []
    },
    {
      "cell_type": "code",
      "metadata": {
        "id": "ZJJvZcyyjA5T"
      },
      "source": [
        "lis_biGrams_Article = list (chain(*df['biGrams_Article']))\n",
        "lis_biGrams_Abstract = list (chain(*df['biGrams_Abstract']))\n",
        "coun_biGrams_Article = Counter(lis_biGrams_Article)\n",
        "coun_biGrams_Abstract = Counter(lis_biGrams_Abstract)\n",
        "key_biGrams_Article = [ ]\n",
        "key_biGrams_Abstract = [ ]\n",
        "for key in coun_biGrams_Article.keys() :\n",
        "   key_biGrams_Article.append(key)\n",
        "for key in coun_biGrams_Abstract.keys() : \n",
        "   key_biGrams_Abstract.append(key)\n",
        "coun_biGrams_Article_Values = [] \n",
        "coun_biGrams_Abstract_Values = [ ]\n",
        "for key in coun_biGrams_Article.keys() : \n",
        "    coun_biGrams_Article_Values.append(coun_biGrams_Article[key]) \n",
        "for key in coun_biGrams_Abstract.keys() : \n",
        "    coun_biGrams_Abstract_Values.append(coun_biGrams_Abstract[key]) \n",
        "df2 = pd.DataFrame({'biGrams_Article': key_biGrams_Article,'count_biGrams_Article':coun_biGrams_Article_Values})\n",
        "df3 = pd.DataFrame({'biGrams_Abstract':key_biGrams_Abstract,'count_biGrams_Abstract':coun_biGrams_Abstract_Values})"
      ],
      "execution_count": 19,
      "outputs": []
    },
    {
      "cell_type": "code",
      "metadata": {
        "id": "cDATnyeqAZxs",
        "outputId": "5f0252b7-5c71-481e-fd46-ee3c4f83a69e",
        "colab": {
          "base_uri": "https://localhost:8080/",
          "height": 204
        }
      },
      "source": [
        "df2.head()"
      ],
      "execution_count": 20,
      "outputs": [
        {
          "output_type": "execute_result",
          "data": {
            "text/html": [
              "<div>\n",
              "<style scoped>\n",
              "    .dataframe tbody tr th:only-of-type {\n",
              "        vertical-align: middle;\n",
              "    }\n",
              "\n",
              "    .dataframe tbody tr th {\n",
              "        vertical-align: top;\n",
              "    }\n",
              "\n",
              "    .dataframe thead th {\n",
              "        text-align: right;\n",
              "    }\n",
              "</style>\n",
              "<table border=\"1\" class=\"dataframe\">\n",
              "  <thead>\n",
              "    <tr style=\"text-align: right;\">\n",
              "      <th></th>\n",
              "      <th>biGrams_Article</th>\n",
              "      <th>count_biGrams_Article</th>\n",
              "    </tr>\n",
              "  </thead>\n",
              "  <tbody>\n",
              "    <tr>\n",
              "      <th>0</th>\n",
              "      <td>(foundat, statist)</td>\n",
              "      <td>1</td>\n",
              "    </tr>\n",
              "    <tr>\n",
              "      <th>1</th>\n",
              "      <td>(statist, natur)</td>\n",
              "      <td>2</td>\n",
              "    </tr>\n",
              "    <tr>\n",
              "      <th>2</th>\n",
              "      <td>(natur, languag)</td>\n",
              "      <td>99</td>\n",
              "    </tr>\n",
              "    <tr>\n",
              "      <th>3</th>\n",
              "      <td>(languag, process)</td>\n",
              "      <td>98</td>\n",
              "    </tr>\n",
              "    <tr>\n",
              "      <th>4</th>\n",
              "      <td>(a, maximum)</td>\n",
              "      <td>1</td>\n",
              "    </tr>\n",
              "  </tbody>\n",
              "</table>\n",
              "</div>"
            ],
            "text/plain": [
              "      biGrams_Article  count_biGrams_Article\n",
              "0  (foundat, statist)                      1\n",
              "1    (statist, natur)                      2\n",
              "2    (natur, languag)                     99\n",
              "3  (languag, process)                     98\n",
              "4        (a, maximum)                      1"
            ]
          },
          "metadata": {
            "tags": []
          },
          "execution_count": 20
        }
      ]
    },
    {
      "cell_type": "code",
      "metadata": {
        "id": "nrWI2XYKAwfy",
        "outputId": "b4b7fb73-2d7c-477d-eedc-c264a5f9932c",
        "colab": {
          "base_uri": "https://localhost:8080/",
          "height": 204
        }
      },
      "source": [
        "df3.head()"
      ],
      "execution_count": 21,
      "outputs": [
        {
          "output_type": "execute_result",
          "data": {
            "text/html": [
              "<div>\n",
              "<style scoped>\n",
              "    .dataframe tbody tr th:only-of-type {\n",
              "        vertical-align: middle;\n",
              "    }\n",
              "\n",
              "    .dataframe tbody tr th {\n",
              "        vertical-align: top;\n",
              "    }\n",
              "\n",
              "    .dataframe thead th {\n",
              "        text-align: right;\n",
              "    }\n",
              "</style>\n",
              "<table border=\"1\" class=\"dataframe\">\n",
              "  <thead>\n",
              "    <tr style=\"text-align: right;\">\n",
              "      <th></th>\n",
              "      <th>biGrams_Abstract</th>\n",
              "      <th>count_biGrams_Abstract</th>\n",
              "    </tr>\n",
              "  </thead>\n",
              "  <tbody>\n",
              "    <tr>\n",
              "      <th>0</th>\n",
              "      <td>(abstract, found)</td>\n",
              "      <td>8</td>\n",
              "    </tr>\n",
              "    <tr>\n",
              "      <th>1</th>\n",
              "      <td>(describ, method)</td>\n",
              "      <td>1</td>\n",
              "    </tr>\n",
              "    <tr>\n",
              "      <th>2</th>\n",
              "      <td>(method, statist)</td>\n",
              "      <td>1</td>\n",
              "    </tr>\n",
              "    <tr>\n",
              "      <th>3</th>\n",
              "      <td>(statist, model)</td>\n",
              "      <td>2</td>\n",
              "    </tr>\n",
              "    <tr>\n",
              "      <th>4</th>\n",
              "      <td>(model, base)</td>\n",
              "      <td>1</td>\n",
              "    </tr>\n",
              "  </tbody>\n",
              "</table>\n",
              "</div>"
            ],
            "text/plain": [
              "    biGrams_Abstract  count_biGrams_Abstract\n",
              "0  (abstract, found)                       8\n",
              "1  (describ, method)                       1\n",
              "2  (method, statist)                       1\n",
              "3   (statist, model)                       2\n",
              "4      (model, base)                       1"
            ]
          },
          "metadata": {
            "tags": []
          },
          "execution_count": 21
        }
      ]
    },
    {
      "cell_type": "code",
      "metadata": {
        "id": "8bLERo96mHoZ"
      },
      "source": [
        "#Calculate the probabilities for all the bigrams in the dataset by using the fomular count(w2 w1) / count(w2). For example, count(really like) / count(really) = 1 / 3 = 0.33\n",
        "\n",
        "df['uniGrams_Article'] = df['WordToken_Article'].apply(lambda x: list (ngrams(x,1)))\n",
        "df['uniGrams_Abstract'] = df['WordToken_Abstract'].apply(lambda x: list (ngrams(x,1)))\n"
      ],
      "execution_count": 22,
      "outputs": []
    },
    {
      "cell_type": "code",
      "metadata": {
        "id": "1cCD1Zyy1tq0"
      },
      "source": [
        "lis_uniGrams_Article = list (chain(*df['uniGrams_Article']))\n",
        "lis_uniGrams_Abstract = list (chain(*df['uniGrams_Abstract']))\n",
        "\n",
        "coun_uniGrams_Article = Counter(lis_uniGrams_Article)\n",
        "coun_uniGrams_Abstract = Counter(lis_uniGrams_Abstract)\n",
        "\n",
        "key_uniGrams_Article = [ ]\n",
        "key_uniGrams_Abstract = [ ]\n",
        "\n",
        "for key in coun_uniGrams_Article.keys() :\n",
        "   key_uniGrams_Article.append(key)\n",
        "for key in coun_uniGrams_Abstract.keys() : \n",
        "   key_uniGrams_Abstract.append(key)\n",
        "\n",
        "coun_uniGrams_Article_Values = [] \n",
        "coun_uniGrams_Abstract_Values = [ ]\n",
        "\n",
        "\n",
        "for key in coun_uniGrams_Article.keys() : \n",
        "    coun_uniGrams_Article_Values.append(coun_uniGrams_Article[key]) \n",
        "for key in coun_uniGrams_Abstract.keys() : \n",
        "    coun_uniGrams_Abstract_Values.append(coun_uniGrams_Abstract[key]) \n",
        "\n",
        "df4 = pd.DataFrame({'uniGrams_Article': key_uniGrams_Article,'count_uniGrams_Article':coun_uniGrams_Article_Values})\n",
        "df5 = pd.DataFrame({'uniGrams_Abstract':key_uniGrams_Abstract,'count_uniGrams_Abstract':coun_uniGrams_Abstract_Values})"
      ],
      "execution_count": 23,
      "outputs": []
    },
    {
      "cell_type": "code",
      "metadata": {
        "id": "wXSVlkpNB2H1",
        "outputId": "92815a22-3669-42f3-df81-f03f2f0d5c93",
        "colab": {
          "base_uri": "https://localhost:8080/",
          "height": 204
        }
      },
      "source": [
        "df4.head()"
      ],
      "execution_count": 24,
      "outputs": [
        {
          "output_type": "execute_result",
          "data": {
            "text/html": [
              "<div>\n",
              "<style scoped>\n",
              "    .dataframe tbody tr th:only-of-type {\n",
              "        vertical-align: middle;\n",
              "    }\n",
              "\n",
              "    .dataframe tbody tr th {\n",
              "        vertical-align: top;\n",
              "    }\n",
              "\n",
              "    .dataframe thead th {\n",
              "        text-align: right;\n",
              "    }\n",
              "</style>\n",
              "<table border=\"1\" class=\"dataframe\">\n",
              "  <thead>\n",
              "    <tr style=\"text-align: right;\">\n",
              "      <th></th>\n",
              "      <th>uniGrams_Article</th>\n",
              "      <th>count_uniGrams_Article</th>\n",
              "    </tr>\n",
              "  </thead>\n",
              "  <tbody>\n",
              "    <tr>\n",
              "      <th>0</th>\n",
              "      <td>(foundat,)</td>\n",
              "      <td>1</td>\n",
              "    </tr>\n",
              "    <tr>\n",
              "      <th>1</th>\n",
              "      <td>(statist,)</td>\n",
              "      <td>4</td>\n",
              "    </tr>\n",
              "    <tr>\n",
              "      <th>2</th>\n",
              "      <td>(natur,)</td>\n",
              "      <td>99</td>\n",
              "    </tr>\n",
              "    <tr>\n",
              "      <th>3</th>\n",
              "      <td>(languag,)</td>\n",
              "      <td>101</td>\n",
              "    </tr>\n",
              "    <tr>\n",
              "      <th>4</th>\n",
              "      <td>(process,)</td>\n",
              "      <td>100</td>\n",
              "    </tr>\n",
              "  </tbody>\n",
              "</table>\n",
              "</div>"
            ],
            "text/plain": [
              "  uniGrams_Article  count_uniGrams_Article\n",
              "0       (foundat,)                       1\n",
              "1       (statist,)                       4\n",
              "2         (natur,)                      99\n",
              "3       (languag,)                     101\n",
              "4       (process,)                     100"
            ]
          },
          "metadata": {
            "tags": []
          },
          "execution_count": 24
        }
      ]
    },
    {
      "cell_type": "code",
      "metadata": {
        "id": "qFHCec7OB2S4",
        "outputId": "0dfcf16f-d97b-42d0-f918-d9874ae14cae",
        "colab": {
          "base_uri": "https://localhost:8080/",
          "height": 204
        }
      },
      "source": [
        "df5.head()"
      ],
      "execution_count": 25,
      "outputs": [
        {
          "output_type": "execute_result",
          "data": {
            "text/html": [
              "<div>\n",
              "<style scoped>\n",
              "    .dataframe tbody tr th:only-of-type {\n",
              "        vertical-align: middle;\n",
              "    }\n",
              "\n",
              "    .dataframe tbody tr th {\n",
              "        vertical-align: top;\n",
              "    }\n",
              "\n",
              "    .dataframe thead th {\n",
              "        text-align: right;\n",
              "    }\n",
              "</style>\n",
              "<table border=\"1\" class=\"dataframe\">\n",
              "  <thead>\n",
              "    <tr style=\"text-align: right;\">\n",
              "      <th></th>\n",
              "      <th>uniGrams_Abstract</th>\n",
              "      <th>count_uniGrams_Abstract</th>\n",
              "    </tr>\n",
              "  </thead>\n",
              "  <tbody>\n",
              "    <tr>\n",
              "      <th>0</th>\n",
              "      <td>(abstract,)</td>\n",
              "      <td>19</td>\n",
              "    </tr>\n",
              "    <tr>\n",
              "      <th>1</th>\n",
              "      <td>(found,)</td>\n",
              "      <td>8</td>\n",
              "    </tr>\n",
              "    <tr>\n",
              "      <th>2</th>\n",
              "      <td>(describ,)</td>\n",
              "      <td>11</td>\n",
              "    </tr>\n",
              "    <tr>\n",
              "      <th>3</th>\n",
              "      <td>(method,)</td>\n",
              "      <td>8</td>\n",
              "    </tr>\n",
              "    <tr>\n",
              "      <th>4</th>\n",
              "      <td>(statist,)</td>\n",
              "      <td>11</td>\n",
              "    </tr>\n",
              "  </tbody>\n",
              "</table>\n",
              "</div>"
            ],
            "text/plain": [
              "  uniGrams_Abstract  count_uniGrams_Abstract\n",
              "0       (abstract,)                       19\n",
              "1          (found,)                        8\n",
              "2        (describ,)                       11\n",
              "3         (method,)                        8\n",
              "4        (statist,)                       11"
            ]
          },
          "metadata": {
            "tags": []
          },
          "execution_count": 25
        }
      ]
    },
    {
      "cell_type": "code",
      "metadata": {
        "id": "dz_sajeCCll9",
        "outputId": "dd843d5b-29f9-47fc-de8b-112057a42ce3",
        "colab": {
          "base_uri": "https://localhost:8080/",
          "height": 34
        }
      },
      "source": [
        "print(lis_uniGrams_Article[-2:])"
      ],
      "execution_count": 26,
      "outputs": [
        {
          "output_type": "stream",
          "text": [
            "[('languag',), ('process',)]\n"
          ],
          "name": "stdout"
        }
      ]
    },
    {
      "cell_type": "code",
      "metadata": {
        "id": "-BoTZyq3Clxq",
        "outputId": "99eeb399-787d-44d3-c2da-8764b9923128",
        "colab": {
          "base_uri": "https://localhost:8080/",
          "height": 34
        }
      },
      "source": [
        "prob_bigrams_Articles = [coun_biGrams_Article_Values[i]/coun_uniGrams_Article_Values[i+1] for i in range(4)]\n",
        "prob_bigrams_Articles"
      ],
      "execution_count": 27,
      "outputs": [
        {
          "output_type": "execute_result",
          "data": {
            "text/plain": [
              "[0.25, 0.020202020202020204, 0.9801980198019802, 0.98]"
            ]
          },
          "metadata": {
            "tags": []
          },
          "execution_count": 27
        }
      ]
    },
    {
      "cell_type": "code",
      "metadata": {
        "id": "NveAqYWlCl9Z",
        "outputId": "6d591406-1965-4587-98c4-162fa6b984e8",
        "colab": {
          "base_uri": "https://localhost:8080/",
          "height": 34
        }
      },
      "source": [
        "prob_bigrams_Abstract = [coun_biGrams_Abstract_Values[i]/coun_uniGrams_Abstract_Values[i+1] for i in range(4)]\n",
        "prob_bigrams_Abstract"
      ],
      "execution_count": 28,
      "outputs": [
        {
          "output_type": "execute_result",
          "data": {
            "text/plain": [
              "[1.0, 0.09090909090909091, 0.125, 0.18181818181818182]"
            ]
          },
          "metadata": {
            "tags": []
          },
          "execution_count": 28
        }
      ]
    },
    {
      "cell_type": "code",
      "metadata": {
        "id": "h8Kwi3dD0Ys-"
      },
      "source": [
        "list_Abstract = df['Abstract'].tolist()"
      ],
      "execution_count": 29,
      "outputs": []
    },
    {
      "cell_type": "code",
      "metadata": {
        "id": "wODhlckN98bY"
      },
      "source": [
        "import spacy\n",
        "nlp = spacy.load('en_core_web_sm')\n",
        "li_WordToken_Abstract = df['WordToken_Abstract'].tolist()\n",
        "df['doc_Abstract'] = df['Abstract'].apply(lambda x: nlp(x) )"
      ],
      "execution_count": 30,
      "outputs": []
    },
    {
      "cell_type": "code",
      "metadata": {
        "id": "f0Jo4aDR50EE"
      },
      "source": [
        "NN_Abstract_text = [ ]\n",
        "for i in df['doc_Abstract']:\n",
        "  for j in i.noun_chunks:\n",
        "     NN_Abstract_text.append(j.text)"
      ],
      "execution_count": 31,
      "outputs": []
    },
    {
      "cell_type": "code",
      "metadata": {
        "id": "lwSajNUUC_hI",
        "outputId": "24427a26-94fe-42f7-fd9c-a042278d2108",
        "colab": {
          "base_uri": "https://localhost:8080/",
          "height": 1000
        }
      },
      "source": [
        "NN_Abstract_text"
      ],
      "execution_count": 32,
      "outputs": [
        {
          "output_type": "execute_result",
          "data": {
            "text/plain": [
              "['abstract',\n",
              " 'describ method statist model base',\n",
              " 'maximum entropi',\n",
              " 'we',\n",
              " 'maximumlikelihood approach automat',\n",
              " 'maximum entropi model',\n",
              " 'describ implement approach',\n",
              " 'sever problem natur languag process',\n",
              " 'scale',\n",
              " 'random field natur languag process term condit term',\n",
              " 'copyright work deposit minerva access',\n",
              " 'the paper address issu cooper linguist natur languag process nlp gener',\n",
              " 'linguist machin translat',\n",
              " 'it',\n",
              " 'one direct cooper name applic',\n",
              " 'natur languag process applic descript logic',\n",
              " 'encod knowledg base syntact semant pragmat element',\n",
              " 'natur languag gener process',\n",
              " 'more recent descript logic',\n",
              " 'we',\n",
              " 'neural network architectur',\n",
              " 'algorithm appli',\n",
              " 'variou natur languag process task',\n",
              " 'includ partofspeech',\n",
              " 'tag chunk name',\n",
              " 'entiti recognit semant role label thi versatil achiev tri',\n",
              " 'task',\n",
              " 'natur languag',\n",
              " 'the subject natur languag process',\n",
              " 'narrow sen',\n",
              " 'broad sen cover process issu level natur languag',\n",
              " 'includ speech recognit syntact semant analysi sentenc',\n",
              " 'robot interact human facetofac use',\n",
              " 'natur languag',\n",
              " 'respons',\n",
              " 'human use',\n",
              " 'we',\n",
              " 'natur languag languag',\n",
              " 'human current',\n",
              " 'point languag unprocess form',\n",
              " 'comput natur languag process',\n",
              " 'techniqu',\n",
              " 'tri accomplish goal',\n",
              " 'the field natur',\n",
              " 'abstract ambigu',\n",
              " 'abil',\n",
              " 'one way',\n",
              " 'natur languag ambigu comput abl',\n",
              " 'languag way peopl natur languag process nlp concern',\n",
              " 'introduct',\n",
              " 'statist natur languag process',\n",
              " 'snlp field',\n",
              " 'intersect natur languag process machin',\n",
              " 'snlp dier tradit natur languag process',\n",
              " 'model',\n",
              " 'linguist',\n",
              " 'text directli',\n",
              " 'rather eg',\n",
              " 'titl abstract',\n",
              " 'appropri approach focu role natur languag process',\n",
              " 'the paper',\n",
              " 'data knowledg retriev',\n",
              " 'abstract languag way',\n",
              " 'commun word',\n",
              " 'languag',\n",
              " 'worldw',\n",
              " 'better insight world languag',\n",
              " 'speaker vagu precis',\n",
              " 'nlp stand natur languag process natur languag languag',\n",
              " 'we',\n",
              " 'experi',\n",
              " 'standard natur languag process',\n",
              " 'nlp tool analysi music',\n",
              " 'audio lyric lyric encod',\n",
              " 'analysi complement acoust cultur',\n",
              " 'paper describ',\n",
              " 'rulebas approach autom',\n",
              " 'linguist knowledg thi approach',\n",
              " 'number task',\n",
              " 'captur inform clearer direct fashion',\n",
              " 'we',\n",
              " 'studi',\n",
              " 'method appli part',\n",
              " 'thi paper focus connectionist model natur languag process',\n",
              " 'we',\n",
              " 'present discus sever aspect high level task',\n",
              " 'recent approach connection',\n",
              " 'parallel distribut process model sever interest architectur',\n",
              " 'process languag',\n",
              " 'thi new approach natur languag process base determinist chaotic behavior dynam system',\n",
              " 'paper',\n",
              " 'ka leak owen brief discus program',\n",
              " 'principl goal simpli point interest natur languag process',\n",
              " 'u natur inde inevit',\n",
              " 'object',\n",
              " 'overview',\n",
              " 'natur languag process',\n",
              " 'nlp modern nlpsystem design target audienc thi',\n",
              " 'target medic informat generalist limit acquaint',\n",
              " 'nlp andor limit knowledg current state',\n",
              " 'thi paper briefli describ current implement',\n",
              " 'statu intellig inform retriev system mari employ',\n",
              " 'natur languag process techniqu descript caption use',\n",
              " 'iden tifi photograph imag concern variou militari project',\n",
              " 'the caption par',\n",
              " 'base literatur resourc',\n",
              " 'we',\n",
              " 'system agent direct natur languag process',\n",
              " 'inform journal articl',\n",
              " 'deposit',\n",
              " 'the advent',\n",
              " 'evalu speech process part',\n",
              " 'far instanc',\n",
              " 'machin translat discus particular problem gener system evalu',\n",
              " 'the conclus evalu strategi techniqu nlp',\n",
              " 'similar way human intuit order elimin noisi content',\n",
              " 'paper describ combin html dom analysi natur languag process',\n",
              " 'main articl',\n",
              " 'imag web page',\n",
              " 'abstract natur languag process theoret motiv rang comput techniqu analys',\n",
              " 'natur occur text',\n",
              " 'linguist analysi',\n",
              " 'thi paper review process',\n",
              " 'natur languag process',\n",
              " 'it',\n",
              " 'variou',\n",
              " 'word morpholog',\n",
              " 'text analysi',\n",
              " 'it',\n",
              " 'thi articl focus deriv',\n",
              " 'lexicon natur languag process',\n",
              " 'we',\n",
              " 'dictionari support environ link restructur version longman dictionari contemporari english natur languag process',\n",
              " 'the process',\n",
              " 'we',\n",
              " 'introduc method analyz complex natur languag process task',\n",
              " 'new nlp task',\n",
              " 'our complex measur deriv kolmogorov complex class automaton',\n",
              " 'automaton',\n",
              " 'whose purpos',\n",
              " 'relev piec',\n",
              " 'sound text motion',\n",
              " 'the techniqu',\n",
              " 'research alreadi impact',\n",
              " 'research natur languag process thi paper review',\n",
              " 'recent research',\n",
              " 'natur languag process',\n",
              " 'thi authorproduc version paper',\n",
              " 'abstractnatur languag process',\n",
              " 'applic autom par machin',\n",
              " 'techniqu analyz standard text applic nlp requir engin includ extract',\n",
              " 'ontolog requir specif use nlp verifi',\n",
              " 'statist baselin',\n",
              " 'includ forgiv natur broad coverag typic retriev task',\n",
              " 'good weight scheme compound index term implicit linguist process',\n",
              " 'inher statist method natur languag process techniqu',\n",
              " 'work comput linguist',\n",
              " 'first comput booth brandwood cleav',\n",
              " 'pervas',\n",
              " 'progress comput',\n",
              " 'natur languag commensur',\n",
              " 'voic recognit natur languag',\n",
              " 'combin digit mathemat knowledg',\n",
              " 'mfcc dtw extract',\n",
              " 'abstract test natur languag requir standard approach system',\n",
              " 'test thi test',\n",
              " 'independ test organ unfamiliar applic area',\n",
              " 'the thing tester',\n",
              " 'written requir',\n",
              " 'abstract',\n",
              " 'convers partner',\n",
              " 'u inform creativ',\n",
              " 'make',\n",
              " 'associ storytel languag',\n",
              " 'humor persuad domin soften',\n",
              " 'threaten act',\n",
              " 'abstract',\n",
              " 'recent year',\n",
              " 'machin',\n",
              " 'solv complex task',\n",
              " 'disciplin rang data mine inform',\n",
              " 'we',\n",
              " 'manual automat thesaurus',\n",
              " 'altern resourc',\n",
              " 'task thi',\n",
              " 'involv radic step',\n",
              " 'manual thesaurus classif word',\n",
              " 'rather word sen case',\n",
              " 'nlp briefli present wasp thesauru introduc thesauru evalu becom',\n",
              " 'a rang evalu strategi',\n",
              " 'nlp task propos',\n",
              " 'one purpos analyz music structur form discov pattern explicit implicit music work simon pattern compris period',\n",
              " 'use alphabet compound',\n",
              " 'subpattern posse phrase',\n",
              " 'variou form',\n",
              " 'pattern propag intuit algorithm composit techniqu',\n",
              " 'pattern',\n",
              " 'formal albeit high level dure composit music pattern evolv accord rule constraint speci design stage',\n",
              " 'jazz improvis musician',\n",
              " 'guid progress',\n",
              " 'chord chang',\n",
              " 'one approach',\n",
              " 'improvis memor pattern short chunk music subprogress concaten form',\n",
              " 'whole solo t',\n",
              " 'abstract mani inform retrievalir system retriev relev document base exact match keyword queri document thi method degrad precis rate',\n",
              " 'order solv problem',\n",
              " 'semant relat word assign semant relationship',\n",
              " 'addit semant knowledg automat',\n",
              " 'statist knowledg base concept',\n",
              " 'mutual inform keyfact extend concept keyword repres noun compound noun keyfact verb',\n",
              " 'includ subject object term',\n",
              " 'we',\n",
              " 'relev document origin',\n",
              " 'queri use',\n",
              " 'tf idf weight formula',\n",
              " 'second document rank word sen disambigu',\n",
              " 'precis rate',\n",
              " 'paper argu',\n",
              " 'technic domain distinctli',\n",
              " 'trecbas qa webbas',\n",
              " 'lom dataintens approach',\n",
              " 'universitquotat de saarland',\n",
              " 'proceed workshop',\n",
              " 'unihamburgd',\n",
              " 'abstract',\n",
              " 'abstract',\n",
              " 'sri',\n",
              " 'new architectur integr speech naturallanguag process appli linguist constraint recognit increment',\n",
              " 'statetransit network embodi',\n",
              " 'unif grammar',\n",
              " 'we',\n",
              " 'dynamicgralnlnarnetwork dgn approach',\n",
              " 'thi chapter consid revolut',\n",
              " 'place',\n",
              " 'natur languag process research',\n",
              " 'it',\n",
              " 'provid brief guid structur field',\n",
              " 'environ support',\n",
              " 'visual assembl execut',\n",
              " 'analysi',\n",
              " 'modular natur languag process system',\n",
              " 'the visual model',\n",
              " 'data flow program graph automat synthesis data',\n",
              " 'declar languag process',\n",
              " 'the graph',\n",
              " 'chapter basic use descript logic natur languag process analys',\n",
              " 'littl bit histori role descript logic',\n",
              " 'current state art comput',\n",
              " 'sinc earli day',\n",
              " 'we',\n",
              " 'model maxmargin',\n",
              " 'mm',\n",
              " 'natur languag process',\n",
              " 'nlp task',\n",
              " 'captur latent relationship',\n",
              " 'output languag domain',\n",
              " 'we',\n",
              " 'model',\n",
              " 'extens multiclass support vector',\n",
              " 'mation infrastructur digit librari network servic digit converg intellig agent thi attent',\n",
              " 'natur languag process',\n",
              " 'critic path kind novel applic thi articl mention number success applic natur languag process',\n",
              " 'last year',\n",
              " 'number area natur languag process',\n",
              " 'appli graphbas techniqu',\n",
              " 'other text summar',\n",
              " 'par word',\n",
              " 'sen disambigu ontolog',\n",
              " 'sentiment subject analysi text cluster',\n",
              " 'natur languag process nlp research result softwar engin softwar technolog',\n",
              " 'kernel sort increas',\n",
              " 'sever natur languag process',\n",
              " 'nlp task document match',\n",
              " 'compar corpus machin',\n",
              " 'transliter',\n",
              " 'task semisupervis variant kernel',\n",
              " 'word',\n",
              " 'sophist statist model basic element word phrase',\n",
              " 'combin structur model syntact par',\n",
              " 'analysi sinc basic properti element',\n",
              " 'paper describ framework',\n",
              " 'probabilist classifi natur languag process',\n",
              " 'our focu formul model captur import interdepend',\n",
              " 'featur avoid overfit data',\n",
              " 'data',\n",
              " 'well the class',\n",
              " 'mani natur languag process',\n",
              " 'techniqu use inform retriev',\n",
              " 'the result encourag',\n",
              " 'usual yield signific improv higherlevel process',\n",
              " 'chunk par word sen disambigu',\n",
              " 'abstract thi paper',\n",
              " 'inform retriev use natur languag process',\n",
              " 'state art plan recognit system thi paper outlin relat natur languag',\n",
              " 'processingnlp plan recognitionpr argu effect',\n",
              " 'key recent research result',\n",
              " 'nlp argu applic',\n",
              " 'state art plan recognit system thi paper outlin relat natur languag',\n",
              " 'processingnlp plan recognitionpr argu effect',\n",
              " 'key recent research result',\n",
              " 'nlp argu applic',\n",
              " 'inform retriev process',\n",
              " 'document document',\n",
              " 'satisfi inform',\n",
              " 'user',\n",
              " 'the document',\n",
              " 'natur languag',\n",
              " 'logic program',\n",
              " 'natur languag research machin',\n",
              " 'linguist knowledg',\n",
              " 'logic program keyword induct logic program natur languag process logic program machin',\n",
              " 'statist method',\n",
              " 'natur languag process nlp',\n",
              " 'paper',\n",
              " 'effect natur languag input output compon comput system',\n",
              " 'we',\n",
              " 'report collabor work field machin',\n",
              " 'ml natur languag process',\n",
              " 'the document',\n",
              " 'the first part',\n",
              " 'includ superfici comprehens survey',\n",
              " 'abstract thi thesi examin use',\n",
              " 'machin',\n",
              " 'techniqu variou task natur languag process mainli task inform extract',\n",
              " 'the object',\n",
              " 'improv adapt inform extract system new themat domain',\n",
              " 'thi chapter examin applic natur languag process computerassist languag',\n",
              " 'includ histori work field',\n",
              " 'tradit approach tointerpret natur languag process',\n",
              " 'typic',\n",
              " 'one three class syntaxdriven semanticsdriven frametask base',\n",
              " 'syntaxdriven approach',\n",
              " 'interpret process produc global par',\n",
              " 'natur languag process nlp',\n",
              " 'diver',\n",
              " 'subtop artifici intellig',\n",
              " 'a result',\n",
              " 'nlp mani subtop',\n",
              " 'includ optic charact recognit text speech',\n",
              " 'translat foreign languag',\n",
              " 'aid machin translat speech recognit',\n",
              " 'probabilist finitest string',\n",
              " 'transduc fst extrem popular natur languag process',\n",
              " 'due power gener method appli compos',\n",
              " 'unfortun',\n",
              " 'good fit',\n",
              " 'much current work probabilist model',\n",
              " 'machin',\n",
              " 'abstract',\n",
              " 'special issu tal',\n",
              " 'fundament principl underli evalu natur languag process',\n",
              " 'we',\n",
              " 'global point view',\n",
              " 'goe',\n",
              " 'horizon singl evalu campaign particular protocol',\n",
              " 'terminolog',\n",
              " 'abstract',\n",
              " 'natur languag process system nlp',\n",
              " 'clinic',\n",
              " 'textual report',\n",
              " 'effect',\n",
              " 'domain particular applic becaus nlp system',\n",
              " 'typic requir substanti resourc',\n",
              " 'benefici design easili',\n",
              " 'fact form',\n",
              " 'link',\n",
              " 'ie',\n",
              " 'natur languag process logic program prolog',\n",
              " 'we',\n",
              " 'singl convolut neural network architectur',\n",
              " 'sentenc output host languag process',\n",
              " 'partofspeech tag chunk name',\n",
              " 'tag semant role semant similar word likelihood sentenc',\n",
              " 'sen grammat',\n",
              " 'we',\n",
              " 'advanc natur languag process techniqu enhanc effect',\n",
              " 'keyword base document retriev',\n",
              " 'the backbon system statist retriev engin',\n",
              " 'autom index',\n",
              " 'abstract',\n",
              " 'paper discus sever issu requir enabl natur languag process system becom contextadapt',\n",
              " 'fact emerg system',\n",
              " 'continu speech recognit restrict',\n",
              " 'individu domain equip syntact',\n",
              " 'fall',\n",
              " 'i',\n",
              " 'appli',\n",
              " 'natur languag process student acquir',\n",
              " 'text analysi techniqu current feasibl practic applic',\n",
              " 'abstract',\n",
              " 'abstract natur languag process',\n",
              " 'studi mathemat comput model variou aspect languag',\n",
              " 'wide rang system natur languag',\n",
              " 'aris innat facil languag posse human intellect',\n",
              " 'natur languag process nlp branch artifici intellig includ speech',\n",
              " 'speech recognit machin translat natur languag process wide rang applic indian context',\n",
              " 'most rural indian commun unabl',\n",
              " 'use',\n",
              " 'an evalu lolita relat natur languag process system',\n",
              " 'univers',\n",
              " 'durham degre phd august thi research address',\n",
              " 'evalu system',\n",
              " 'lolita lolita natur',\n",
              " 'previou work demonstr web count',\n",
              " 'approxim bigram count',\n",
              " 'webbas frequenc',\n",
              " 'wide varieti natur languag process',\n",
              " 'nlp task',\n",
              " 'howev limit number task',\n",
              " 'thi chapter examin applic natur languag process computerassist languag',\n",
              " 'includ histori work field',\n",
              " 'opportun introduct thi chapter focus applic',\n",
              " 'thi paper describ natur languag system improv perform',\n",
              " 'the system process',\n",
              " 'short english narr abl',\n",
              " 'acquir',\n",
              " 'singl narr new schema stereotyp',\n",
              " 'action dure',\n",
              " 'we',\n",
              " 'review current approach softwar infrastructur research',\n",
              " 'deliveri nlp system',\n",
              " 'the task',\n",
              " 'measur practic solut',\n",
              " 'improv use natur languag process applic confid',\n",
              " 'estim gener',\n",
              " 'approach deriv confid',\n",
              " 'measur',\n",
              " 'we',\n",
              " 'overview applic confid',\n",
              " 'estim',\n",
              " 'variou field',\n",
              " 'lexsign senseid senseid dictionari ldoce lexsign',\n",
              " 'senseid senseid',\n",
              " 'ldbentryno lexsign senseid senseid',\n",
              " 'fullyfledg',\n",
              " 'integr wordspecif inform provid',\n",
              " 'thu',\n",
              " 'although neither ldoce llce',\n",
              " 'subcategoris lexicon',\n",
              " 'inform',\n",
              " 'psycholog verb defin sanfilippoaposs type system',\n",
              " 'conjunct inform',\n",
              " 'map formal represent',\n",
              " 'multilingu',\n",
              " 'a goal',\n",
              " 'acquilex demonstr',\n",
              " 'integr multilingu',\n",
              " 'the use',\n",
              " 'common lrl common type system',\n",
              " 'possi',\n",
              " 'we',\n",
              " 'design use',\n",
              " 'stanford corenlp toolkit extens',\n",
              " 'provid core natur languag',\n",
              " 'commerci',\n",
              " 'user open sourc',\n",
              " 'nlp technolog',\n",
              " 'we',\n",
              " 'gaussian process gp power model framework',\n",
              " 'incorpor kernel',\n",
              " 'bayesian infer recognis',\n",
              " 'task',\n",
              " 'a fundament issu natur languag process prerequisit enorm quantiti preprogram knowledg concern',\n",
              " 'autom acquisit',\n",
              " 'support sophist natur languag process',\n",
              " 'significantli simplifi',\n",
              " 'interfac domainspecif knowledg gener lingui',\n",
              " 'tic resourc',\n",
              " 'upper model varieti applic',\n",
              " 'neighbor map node node',\n",
              " 'view word categori',\n",
              " 'class',\n",
              " 'the central topic thesi use',\n",
              " 'the approach',\n",
              " 'thi paper present workbench',\n",
              " 'priberam informática',\n",
              " 'compani natur languag process technolog thi workbench',\n",
              " 'number practic purpos cover',\n",
              " 'abstractnatur languag process nlp effect approach',\n",
              " 'nlp involv initi process',\n",
              " 'natur acquisit educ system',\n",
              " 'it',\n",
              " 'provid solut',\n",
              " 'abstract',\n",
              " 'twenti year',\n",
              " 'disfavor technolog',\n",
              " 'imit process brain natur languag experi sejnowski rosenberg',\n",
              " 'demonstr neural network comput architectur',\n",
              " 'text statist frequent use stylometri cryptographi studi',\n",
              " 'paper text statist tool',\n",
              " 'iso prolog natur languag process detail',\n",
              " 'usag usercal predic logic limit program',\n",
              " 'we',\n",
              " 'framenet',\n",
              " 'project natur languag process nlp',\n",
              " 'we',\n",
              " 'nlp benefit framenet',\n",
              " 'sketch problem']"
            ]
          },
          "metadata": {
            "tags": []
          },
          "execution_count": 32
        }
      ]
    },
    {
      "cell_type": "markdown",
      "metadata": {
        "id": "n-WMh9XIEWDT"
      },
      "source": [
        "![Screen Shot 2020-10-25 at 11.02.00 PM.png](data:image/png;base64,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)"
      ]
    },
    {
      "cell_type": "code",
      "metadata": {
        "id": "VGN7hz0TEo7K"
      },
      "source": [
        "from nltk.probability import FreqDist"
      ],
      "execution_count": 33,
      "outputs": []
    },
    {
      "cell_type": "code",
      "metadata": {
        "id": "aRkfa3qrFEPr",
        "outputId": "eab5317a-c47d-4014-b9b1-a00d6e9517d1",
        "colab": {
          "base_uri": "https://localhost:8080/",
          "height": 1000
        }
      },
      "source": [
        "fdist = FreqDist(NN_Abstract_text)\n",
        "fdist\n"
      ],
      "execution_count": 45,
      "outputs": [
        {
          "output_type": "execute_result",
          "data": {
            "text/plain": [
              "FreqDist({'a fundament issu natur languag process prerequisit enorm quantiti preprogram knowledg concern': 1,\n",
              "          'a goal': 1,\n",
              "          'a rang evalu strategi': 1,\n",
              "          'a result': 1,\n",
              "          'abil': 1,\n",
              "          'abstract': 10,\n",
              "          'abstract ambigu': 1,\n",
              "          'abstract languag way': 1,\n",
              "          'abstract mani inform retrievalir system retriev relev document base exact match keyword queri document thi method degrad precis rate': 1,\n",
              "          'abstract natur languag process': 1,\n",
              "          'abstract natur languag process theoret motiv rang comput techniqu analys': 1,\n",
              "          'abstract test natur languag requir standard approach system': 1,\n",
              "          'abstract thi paper': 1,\n",
              "          'abstract thi thesi examin use': 1,\n",
              "          'abstractnatur languag process': 1,\n",
              "          'abstractnatur languag process nlp effect approach': 1,\n",
              "          'acquilex demonstr': 1,\n",
              "          'acquir': 1,\n",
              "          'action dure': 1,\n",
              "          'addit semant knowledg automat': 1,\n",
              "          'advanc natur languag process techniqu enhanc effect': 1,\n",
              "          'aid machin translat speech recognit': 1,\n",
              "          'algorithm appli': 1,\n",
              "          'altern resourc': 1,\n",
              "          'although neither ldoce llce': 1,\n",
              "          'an evalu lolita relat natur languag process system': 1,\n",
              "          'analysi': 1,\n",
              "          'analysi complement acoust cultur': 1,\n",
              "          'analysi sinc basic properti element': 1,\n",
              "          'appli': 1,\n",
              "          'appli graphbas techniqu': 1,\n",
              "          'applic autom par machin': 1,\n",
              "          'approach deriv confid': 1,\n",
              "          'appropri approach focu role natur languag process': 1,\n",
              "          'approxim bigram count': 1,\n",
              "          'aris innat facil languag posse human intellect': 1,\n",
              "          'associ storytel languag': 1,\n",
              "          'audio lyric lyric encod': 1,\n",
              "          'autom acquisit': 1,\n",
              "          'autom index': 1,\n",
              "          'automaton': 1,\n",
              "          'base literatur resourc': 1,\n",
              "          'bayesian infer recognis': 1,\n",
              "          'benefici design easili': 1,\n",
              "          'better insight world languag': 1,\n",
              "          'broad sen cover process issu level natur languag': 1,\n",
              "          'captur inform clearer direct fashion': 1,\n",
              "          'captur latent relationship': 1,\n",
              "          'chapter basic use descript logic natur languag process analys': 1,\n",
              "          'chord chang': 1,\n",
              "          'chunk par word sen disambigu': 1,\n",
              "          'class': 1,\n",
              "          'clinic': 1,\n",
              "          'combin digit mathemat knowledg': 1,\n",
              "          'combin structur model syntact par': 1,\n",
              "          'commerci': 1,\n",
              "          'common lrl common type system': 1,\n",
              "          'commun word': 1,\n",
              "          'compani natur languag process technolog thi workbench': 1,\n",
              "          'compar corpus machin': 1,\n",
              "          'comput natur languag process': 1,\n",
              "          'conjunct inform': 1,\n",
              "          'continu speech recognit restrict': 1,\n",
              "          'convers partner': 1,\n",
              "          'copyright work deposit minerva access': 1,\n",
              "          'critic path kind novel applic thi articl mention number success applic natur languag process': 1,\n",
              "          'current state art comput': 1,\n",
              "          'data': 1,\n",
              "          'data flow program graph automat synthesis data': 1,\n",
              "          'data knowledg retriev': 1,\n",
              "          'declar languag process': 1,\n",
              "          'deliveri nlp system': 1,\n",
              "          'demonstr neural network comput architectur': 1,\n",
              "          'deposit': 1,\n",
              "          'describ implement approach': 1,\n",
              "          'describ method statist model base': 1,\n",
              "          'design use': 1,\n",
              "          'dictionari support environ link restructur version longman dictionari contemporari english natur languag process': 1,\n",
              "          'disciplin rang data mine inform': 1,\n",
              "          'disfavor technolog': 1,\n",
              "          'diver': 1,\n",
              "          'document document': 1,\n",
              "          'domain particular applic becaus nlp system': 1,\n",
              "          'due power gener method appli compos': 1,\n",
              "          'durham degre phd august thi research address': 1,\n",
              "          'dynamicgralnlnarnetwork dgn approach': 1,\n",
              "          'effect': 1,\n",
              "          'effect natur languag input output compon comput system': 1,\n",
              "          'encod knowledg base syntact semant pragmat element': 1,\n",
              "          'entiti recognit semant role label thi versatil achiev tri': 1,\n",
              "          'environ support': 1,\n",
              "          'estim': 1,\n",
              "          'estim gener': 1,\n",
              "          'evalu speech process part': 1,\n",
              "          'evalu system': 1,\n",
              "          'experi': 1,\n",
              "          'extens multiclass support vector': 1,\n",
              "          'fact emerg system': 1,\n",
              "          'fact form': 1,\n",
              "          'fall': 1,\n",
              "          'far instanc': 1,\n",
              "          'featur avoid overfit data': 1,\n",
              "          'first comput booth brandwood cleav': 1,\n",
              "          'formal albeit high level dure composit music pattern evolv accord rule constraint speci design stage': 1,\n",
              "          'framenet': 1,\n",
              "          'fullyfledg': 1,\n",
              "          'fundament principl underli evalu natur languag process': 1,\n",
              "          'gaussian process gp power model framework': 1,\n",
              "          'global point view': 1,\n",
              "          'goe': 1,\n",
              "          'good fit': 1,\n",
              "          'good weight scheme compound index term implicit linguist process': 1,\n",
              "          'guid progress': 1,\n",
              "          'horizon singl evalu campaign particular protocol': 1,\n",
              "          'howev limit number task': 1,\n",
              "          'human current': 1,\n",
              "          'human use': 1,\n",
              "          'humor persuad domin soften': 1,\n",
              "          'i': 1,\n",
              "          'iden tifi photograph imag concern variou militari project': 1,\n",
              "          'ie': 1,\n",
              "          'imag web page': 1,\n",
              "          'imit process brain natur languag experi sejnowski rosenberg': 1,\n",
              "          'improv adapt inform extract system new themat domain': 1,\n",
              "          'improv use natur languag process applic confid': 1,\n",
              "          'improvis memor pattern short chunk music subprogress concaten form': 1,\n",
              "          'includ forgiv natur broad coverag typic retriev task': 1,\n",
              "          'includ histori work field': 2,\n",
              "          'includ optic charact recognit text speech': 1,\n",
              "          'includ partofspeech': 1,\n",
              "          'includ speech recognit syntact semant analysi sentenc': 1,\n",
              "          'includ subject object term': 1,\n",
              "          'includ superfici comprehens survey': 1,\n",
              "          'incorpor kernel': 1,\n",
              "          'independ test organ unfamiliar applic area': 1,\n",
              "          'individu domain equip syntact': 1,\n",
              "          'inform': 1,\n",
              "          'inform journal articl': 1,\n",
              "          'inform retriev process': 1,\n",
              "          'inform retriev use natur languag process': 1,\n",
              "          'inher statist method natur languag process techniqu': 1,\n",
              "          'integr multilingu': 1,\n",
              "          'integr wordspecif inform provid': 1,\n",
              "          'interfac domainspecif knowledg gener lingui': 1,\n",
              "          'interpret process produc global par': 1,\n",
              "          'intersect natur languag process machin': 1,\n",
              "          'introduc method analyz complex natur languag process task': 1,\n",
              "          'introduct': 1,\n",
              "          'involv radic step': 1,\n",
              "          'iso prolog natur languag process detail': 1,\n",
              "          'it': 5,\n",
              "          'jazz improvis musician': 1,\n",
              "          'ka leak owen brief discus program': 1,\n",
              "          'kernel sort increas': 1,\n",
              "          'key recent research result': 2,\n",
              "          'keyword base document retriev': 1,\n",
              "          'languag': 1,\n",
              "          'languag way peopl natur languag process nlp concern': 1,\n",
              "          'last year': 1,\n",
              "          'ldbentryno lexsign senseid senseid': 1,\n",
              "          'lexicon natur languag process': 1,\n",
              "          'lexsign senseid senseid dictionari ldoce lexsign': 1,\n",
              "          'linguist': 1,\n",
              "          'linguist analysi': 1,\n",
              "          'linguist knowledg': 1,\n",
              "          'linguist knowledg thi approach': 1,\n",
              "          'linguist machin translat': 1,\n",
              "          'link': 1,\n",
              "          'littl bit histori role descript logic': 1,\n",
              "          'logic program': 1,\n",
              "          'logic program keyword induct logic program natur languag process logic program machin': 1,\n",
              "          'lolita lolita natur': 1,\n",
              "          'lom dataintens approach': 1,\n",
              "          'machin': 3,\n",
              "          'machin translat discus particular problem gener system evalu': 1,\n",
              "          'main articl': 1,\n",
              "          'make': 1,\n",
              "          'mani natur languag process': 1,\n",
              "          'manual automat thesaurus': 1,\n",
              "          'manual thesaurus classif word': 1,\n",
              "          'map formal represent': 1,\n",
              "          'mation infrastructur digit librari network servic digit converg intellig agent thi attent': 1,\n",
              "          'maximum entropi': 1,\n",
              "          'maximum entropi model': 1,\n",
              "          'maximumlikelihood approach automat': 1,\n",
              "          'measur': 1,\n",
              "          'measur practic solut': 1,\n",
              "          'method appli part': 1,\n",
              "          'mfcc dtw extract': 1,\n",
              "          'ml natur languag process': 1,\n",
              "          'mm': 1,\n",
              "          'model': 2,\n",
              "          'model maxmargin': 1,\n",
              "          'modular natur languag process system': 1,\n",
              "          'more recent descript logic': 1,\n",
              "          'most rural indian commun unabl': 1,\n",
              "          'much current work probabilist model': 1,\n",
              "          'multilingu': 1,\n",
              "          'mutual inform keyfact extend concept keyword repres noun compound noun keyfact verb': 1,\n",
              "          'narrow sen': 1,\n",
              "          'natur acquisit educ system': 1,\n",
              "          'natur languag': 3,\n",
              "          'natur languag ambigu comput abl': 1,\n",
              "          'natur languag commensur': 1,\n",
              "          'natur languag gener process': 1,\n",
              "          'natur languag languag': 1,\n",
              "          'natur languag process': 5,\n",
              "          'natur languag process applic descript logic': 1,\n",
              "          'natur languag process logic program prolog': 1,\n",
              "          'natur languag process nlp': 2,\n",
              "          'natur languag process nlp branch artifici intellig includ speech': 1,\n",
              "          'natur languag process nlp research result softwar engin softwar technolog': 1,\n",
              "          'natur languag process research': 1,\n",
              "          'natur languag process student acquir': 1,\n",
              "          'natur languag process system nlp': 1,\n",
              "          'natur languag process techniqu descript caption use': 1,\n",
              "          'natur languag research machin': 1,\n",
              "          'natur occur text': 1,\n",
              "          'neighbor map node node': 1,\n",
              "          'neural network architectur': 1,\n",
              "          'new architectur integr speech naturallanguag process appli linguist constraint recognit increment': 1,\n",
              "          'new nlp task': 1,\n",
              "          'nlp andor limit knowledg current state': 1,\n",
              "          'nlp argu applic': 2,\n",
              "          'nlp benefit framenet': 1,\n",
              "          'nlp briefli present wasp thesauru introduc thesauru evalu becom': 1,\n",
              "          'nlp involv initi process': 1,\n",
              "          'nlp mani subtop': 1,\n",
              "          'nlp modern nlpsystem design target audienc thi': 1,\n",
              "          'nlp stand natur languag process natur languag languag': 1,\n",
              "          'nlp task': 2,\n",
              "          'nlp task document match': 1,\n",
              "          'nlp task propos': 1,\n",
              "          'nlp technolog': 1,\n",
              "          'nlp tool analysi music': 1,\n",
              "          'number area natur languag process': 1,\n",
              "          'number practic purpos cover': 1,\n",
              "          'number task': 1,\n",
              "          'object': 1,\n",
              "          'one approach': 1,\n",
              "          'one direct cooper name applic': 1,\n",
              "          'one purpos analyz music structur form discov pattern explicit implicit music work simon pattern compris period': 1,\n",
              "          'one three class syntaxdriven semanticsdriven frametask base': 1,\n",
              "          'one way': 1,\n",
              "          'ontolog requir specif use nlp verifi': 1,\n",
              "          'opportun introduct thi chapter focus applic': 1,\n",
              "          'order solv problem': 1,\n",
              "          'other text summar': 1,\n",
              "          'our complex measur deriv kolmogorov complex class automaton': 1,\n",
              "          'our focu formul model captur import interdepend': 1,\n",
              "          'output languag domain': 1,\n",
              "          'overview': 1,\n",
              "          'overview applic confid': 1,\n",
              "          'paper': 2,\n",
              "          'paper argu': 1,\n",
              "          'paper describ': 1,\n",
              "          'paper describ combin html dom analysi natur languag process': 1,\n",
              "          'paper describ framework': 1,\n",
              "          'paper discus sever issu requir enabl natur languag process system becom contextadapt': 1,\n",
              "          'paper text statist tool': 1,\n",
              "          'par word': 1,\n",
              "          'parallel distribut process model sever interest architectur': 1,\n",
              "          'partofspeech tag chunk name': 1,\n",
              "          'pattern': 1,\n",
              "          'pattern propag intuit algorithm composit techniqu': 1,\n",
              "          'pervas': 1,\n",
              "          'place': 1,\n",
              "          'point languag unprocess form': 1,\n",
              "          'possi': 1,\n",
              "          'precis rate': 1,\n",
              "          'present discus sever aspect high level task': 1,\n",
              "          'previou work demonstr web count': 1,\n",
              "          'priberam informática': 1,\n",
              "          'principl goal simpli point interest natur languag process': 1,\n",
              "          'probabilist classifi natur languag process': 1,\n",
              "          'probabilist finitest string': 1,\n",
              "          'proceed workshop': 1,\n",
              "          'process languag': 1,\n",
              "          'processingnlp plan recognitionpr argu effect': 2,\n",
              "          'progress comput': 1,\n",
              "          'project natur languag process nlp': 1,\n",
              "          'provid brief guid structur field': 1,\n",
              "          'provid core natur languag': 1,\n",
              "          'provid solut': 1,\n",
              "          'psycholog verb defin sanfilippoaposs type system': 1,\n",
              "          'queri use': 1,\n",
              "          'random field natur languag process term condit term': 1,\n",
              "          'rather eg': 1,\n",
              "          'rather word sen case': 1,\n",
              "          'recent approach connection': 1,\n",
              "          'recent research': 1,\n",
              "          'recent year': 1,\n",
              "          'relev document origin': 1,\n",
              "          'relev piec': 1,\n",
              "          'report collabor work field machin': 1,\n",
              "          'research alreadi impact': 1,\n",
              "          'research natur languag process thi paper review': 1,\n",
              "          'respons': 1,\n",
              "          'review current approach softwar infrastructur research': 1,\n",
              "          'robot interact human facetofac use': 1,\n",
              "          'rulebas approach autom': 1,\n",
              "          'satisfi inform': 1,\n",
              "          'scale': 1,\n",
              "          'second document rank word sen disambigu': 1,\n",
              "          'semant relat word assign semant relationship': 1,\n",
              "          'sen disambigu ontolog': 1,\n",
              "          'sen grammat': 1,\n",
              "          'senseid senseid': 1,\n",
              "          'sentenc output host languag process': 1,\n",
              "          'sentiment subject analysi text cluster': 1,\n",
              "          'sever natur languag process': 1,\n",
              "          'sever problem natur languag process': 1,\n",
              "          'short english narr abl': 1,\n",
              "          'significantli simplifi': 1,\n",
              "          'similar way human intuit order elimin noisi content': 1,\n",
              "          'sinc earli day': 1,\n",
              "          'singl convolut neural network architectur': 1,\n",
              "          'singl narr new schema stereotyp': 1,\n",
              "          'sketch problem': 1,\n",
              "          'snlp dier tradit natur languag process': 1,\n",
              "          'snlp field': 1,\n",
              "          'solv complex task': 1,\n",
              "          'sophist statist model basic element word phrase': 1,\n",
              "          'sound text motion': 1,\n",
              "          'speaker vagu precis': 1,\n",
              "          'special issu tal': 1,\n",
              "          'speech recognit machin translat natur languag process wide rang applic indian context': 1,\n",
              "          'sri': 1,\n",
              "          'standard natur languag process': 1,\n",
              "          'stanford corenlp toolkit extens': 1,\n",
              "          'state art plan recognit system thi paper outlin relat natur languag': 2,\n",
              "          'statetransit network embodi': 1,\n",
              "          'statist baselin': 1,\n",
              "          'statist knowledg base concept': 1,\n",
              "          'statist method': 1,\n",
              "          'statist natur languag process': 1,\n",
              "          'statu intellig inform retriev system mari employ': 1,\n",
              "          'studi': 1,\n",
              "          'studi mathemat comput model variou aspect languag': 1,\n",
              "          'subcategoris lexicon': 1,\n",
              "          'subpattern posse phrase': 1,\n",
              "          'subtop artifici intellig': 1,\n",
              "          'support sophist natur languag process': 1,\n",
              "          'syntaxdriven approach': 1,\n",
              "          'system agent direct natur languag process': 1,\n",
              "          'tag chunk name': 1,\n",
              "          'tag semant role semant similar word likelihood sentenc': 1,\n",
              "          'target medic informat generalist limit acquaint': 1,\n",
              "          'task': 2,\n",
              "          'task semisupervis variant kernel': 1,\n",
              "          'task thi': 1,\n",
              "          'technic domain distinctli': 1,\n",
              "          'techniqu': 1,\n",
              "          'techniqu analyz standard text applic nlp requir engin includ extract': 1,\n",
              "          'techniqu use inform retriev': 1,\n",
              "          'techniqu variou task natur languag process mainli task inform extract': 1,\n",
              "          'terminolog': 1,\n",
              "          'test thi test': 1,\n",
              "          'text analysi': 1,\n",
              "          'text analysi techniqu current feasibl practic applic': 1,\n",
              "          'text directli': 1,\n",
              "          'text statist frequent use stylometri cryptographi studi': 1,\n",
              "          'textual report': 1,\n",
              "          'tf idf weight formula': 1,\n",
              "          'the advent': 1,\n",
              "          'the approach': 1,\n",
              "          'the backbon system statist retriev engin': 1,\n",
              "          'the caption par': 1,\n",
              "          'the central topic thesi use': 1,\n",
              "          'the conclus evalu strategi techniqu nlp': 1,\n",
              "          'the document': 2,\n",
              "          'the field natur': 1,\n",
              "          'the first part': 1,\n",
              "          'the graph': 1,\n",
              "          'the object': 1,\n",
              "          'the paper': 1,\n",
              "          'the paper address issu cooper linguist natur languag process nlp gener': 1,\n",
              "          'the process': 1,\n",
              "          'the result encourag': 1,\n",
              "          'the subject natur languag process': 1,\n",
              "          'the system process': 1,\n",
              "          'the task': 1,\n",
              "          'the techniqu': 1,\n",
              "          'the thing tester': 1,\n",
              "          'the use': 1,\n",
              "          'the visual model': 1,\n",
              "          'thi articl focus deriv': 1,\n",
              "          'thi authorproduc version paper': 1,\n",
              "          'thi chapter consid revolut': 1,\n",
              "          'thi chapter examin applic natur languag process computerassist languag': 2,\n",
              "          'thi new approach natur languag process base determinist chaotic behavior dynam system': 1,\n",
              "          'thi paper briefli describ current implement': 1,\n",
              "          'thi paper describ natur languag system improv perform': 1,\n",
              "          'thi paper focus connectionist model natur languag process': 1,\n",
              "          'thi paper present workbench': 1,\n",
              "          'thi paper review process': 1,\n",
              "          'threaten act': 1,\n",
              "          'thu': 1,\n",
              "          'tic resourc': 1,\n",
              "          'titl abstract': 1,\n",
              "          'tradit approach tointerpret natur languag process': 1,\n",
              "          'transduc fst extrem popular natur languag process': 1,\n",
              "          'translat foreign languag': 1,\n",
              "          'transliter': 1,\n",
              "          'trecbas qa webbas': 1,\n",
              "          'tri accomplish goal': 1,\n",
              "          'twenti year': 1,\n",
              "          'typic': 1,\n",
              "          'typic requir substanti resourc': 1,\n",
              "          'u inform creativ': 1,\n",
              "          'u natur inde inevit': 1,\n",
              "          'unfortun': 1,\n",
              "          'unif grammar': 1,\n",
              "          'unihamburgd': 1,\n",
              "          'univers': 1,\n",
              "          'universitquotat de saarland': 1,\n",
              "          'upper model varieti applic': 1,\n",
              "          'usag usercal predic logic limit program': 1,\n",
              "          'use': 1,\n",
              "          'use alphabet compound': 1,\n",
              "          'user': 1,\n",
              "          'user open sourc': 1,\n",
              "          'usual yield signific improv higherlevel process': 1,\n",
              "          'variou': 1,\n",
              "          'variou field': 1,\n",
              "          'variou form': 1,\n",
              "          'variou natur languag process task': 1,\n",
              "          'view word categori': 1,\n",
              "          'visual assembl execut': 1,\n",
              "          'voic recognit natur languag': 1,\n",
              "          'we': 24,\n",
              "          'webbas frequenc': 1,\n",
              "          'well the class': 1,\n",
              "          'whole solo t': 1,\n",
              "          'whose purpos': 1,\n",
              "          'wide rang system natur languag': 1,\n",
              "          'wide varieti natur languag process': 1,\n",
              "          'word': 1,\n",
              "          'word morpholog': 1,\n",
              "          'work comput linguist': 1,\n",
              "          'worldw': 1,\n",
              "          'written requir': 1})"
            ]
          },
          "metadata": {
            "tags": []
          },
          "execution_count": 45
        }
      ]
    },
    {
      "cell_type": "code",
      "metadata": {
        "id": "1QCoGVHVFNaI"
      },
      "source": [
        "df7 = pd.DataFrame({'NN_Abstract_text': list (fdist.keys()), 'NN_Abstract_Count': list ( fdist.values())})"
      ],
      "execution_count": 46,
      "outputs": []
    },
    {
      "cell_type": "code",
      "metadata": {
        "id": "hRemuqu8VaMd",
        "outputId": "a1785a5b-6bc1-46ed-b4c7-a3b3801683aa",
        "colab": {
          "base_uri": "https://localhost:8080/",
          "height": 204
        }
      },
      "source": [
        "df7.head()"
      ],
      "execution_count": 55,
      "outputs": [
        {
          "output_type": "execute_result",
          "data": {
            "text/html": [
              "<div>\n",
              "<style scoped>\n",
              "    .dataframe tbody tr th:only-of-type {\n",
              "        vertical-align: middle;\n",
              "    }\n",
              "\n",
              "    .dataframe tbody tr th {\n",
              "        vertical-align: top;\n",
              "    }\n",
              "\n",
              "    .dataframe thead th {\n",
              "        text-align: right;\n",
              "    }\n",
              "</style>\n",
              "<table border=\"1\" class=\"dataframe\">\n",
              "  <thead>\n",
              "    <tr style=\"text-align: right;\">\n",
              "      <th></th>\n",
              "      <th>NN_Abstract_text</th>\n",
              "      <th>NN_Abstract_freq</th>\n",
              "    </tr>\n",
              "  </thead>\n",
              "  <tbody>\n",
              "    <tr>\n",
              "      <th>0</th>\n",
              "      <td>abstract</td>\n",
              "      <td>10</td>\n",
              "    </tr>\n",
              "    <tr>\n",
              "      <th>1</th>\n",
              "      <td>describ method statist model base</td>\n",
              "      <td>1</td>\n",
              "    </tr>\n",
              "    <tr>\n",
              "      <th>2</th>\n",
              "      <td>maximum entropi</td>\n",
              "      <td>1</td>\n",
              "    </tr>\n",
              "    <tr>\n",
              "      <th>3</th>\n",
              "      <td>we</td>\n",
              "      <td>24</td>\n",
              "    </tr>\n",
              "    <tr>\n",
              "      <th>4</th>\n",
              "      <td>maximumlikelihood approach automat</td>\n",
              "      <td>1</td>\n",
              "    </tr>\n",
              "  </tbody>\n",
              "</table>\n",
              "</div>"
            ],
            "text/plain": [
              "                     NN_Abstract_text  NN_Abstract_freq\n",
              "0                            abstract                10\n",
              "1   describ method statist model base                 1\n",
              "2                     maximum entropi                 1\n",
              "3                                  we                24\n",
              "4  maximumlikelihood approach automat                 1"
            ]
          },
          "metadata": {
            "tags": []
          },
          "execution_count": 55
        }
      ]
    },
    {
      "cell_type": "code",
      "metadata": {
        "id": "7gxVwoE3bFYe"
      },
      "source": [
        "df7['NN_Abstract_Relative_Probability'] = df7['NN_Abstract_Count'].apply(lambda x: x/fdist['we'])"
      ],
      "execution_count": 56,
      "outputs": []
    },
    {
      "cell_type": "code",
      "metadata": {
        "id": "0PG_7-swiowi",
        "outputId": "2d2dfed0-3571-4933-df7e-e4f34c4b2cc6",
        "colab": {
          "base_uri": "https://localhost:8080/",
          "height": 204
        }
      },
      "source": [
        "df7.head()"
      ],
      "execution_count": 57,
      "outputs": [
        {
          "output_type": "execute_result",
          "data": {
            "text/html": [
              "<div>\n",
              "<style scoped>\n",
              "    .dataframe tbody tr th:only-of-type {\n",
              "        vertical-align: middle;\n",
              "    }\n",
              "\n",
              "    .dataframe tbody tr th {\n",
              "        vertical-align: top;\n",
              "    }\n",
              "\n",
              "    .dataframe thead th {\n",
              "        text-align: right;\n",
              "    }\n",
              "</style>\n",
              "<table border=\"1\" class=\"dataframe\">\n",
              "  <thead>\n",
              "    <tr style=\"text-align: right;\">\n",
              "      <th></th>\n",
              "      <th>NN_Abstract_text</th>\n",
              "      <th>NN_Abstract_freq</th>\n",
              "      <th>NN_Abstract_Relative_Probability</th>\n",
              "    </tr>\n",
              "  </thead>\n",
              "  <tbody>\n",
              "    <tr>\n",
              "      <th>0</th>\n",
              "      <td>abstract</td>\n",
              "      <td>10</td>\n",
              "      <td>0.416667</td>\n",
              "    </tr>\n",
              "    <tr>\n",
              "      <th>1</th>\n",
              "      <td>describ method statist model base</td>\n",
              "      <td>1</td>\n",
              "      <td>0.041667</td>\n",
              "    </tr>\n",
              "    <tr>\n",
              "      <th>2</th>\n",
              "      <td>maximum entropi</td>\n",
              "      <td>1</td>\n",
              "      <td>0.041667</td>\n",
              "    </tr>\n",
              "    <tr>\n",
              "      <th>3</th>\n",
              "      <td>we</td>\n",
              "      <td>24</td>\n",
              "      <td>1.000000</td>\n",
              "    </tr>\n",
              "    <tr>\n",
              "      <th>4</th>\n",
              "      <td>maximumlikelihood approach automat</td>\n",
              "      <td>1</td>\n",
              "      <td>0.041667</td>\n",
              "    </tr>\n",
              "  </tbody>\n",
              "</table>\n",
              "</div>"
            ],
            "text/plain": [
              "                     NN_Abstract_text  ...  NN_Abstract_Relative_Probability\n",
              "0                            abstract  ...                          0.416667\n",
              "1   describ method statist model base  ...                          0.041667\n",
              "2                     maximum entropi  ...                          0.041667\n",
              "3                                  we  ...                          1.000000\n",
              "4  maximumlikelihood approach automat  ...                          0.041667\n",
              "\n",
              "[5 rows x 3 columns]"
            ]
          },
          "metadata": {
            "tags": []
          },
          "execution_count": 57
        }
      ]
    },
    {
      "cell_type": "markdown",
      "metadata": {
        "id": "AfpMRCrRwN6Z"
      },
      "source": [
        "# **Question 2: Undersand TF-IDF and Document representation**"
      ]
    },
    {
      "cell_type": "markdown",
      "metadata": {
        "id": "1dCQEbDawWCw"
      },
      "source": [
        "(40 points). Starting from the documents (all the reviews, or abstracts, or tweets) collected for assignment two, write a python program: \n",
        "\n",
        "(1) To build the **documents-terms weights (tf*idf) matrix bold text**.\n",
        "\n",
        "(2) To rank the documents with respect to query (design a query by yourself, for example, \"An Outstanding movie with a haunting performance and best character development\") by using **cosine similarity**."
      ]
    },
    {
      "cell_type": "code",
      "metadata": {
        "id": "fPg44cBU5JuP"
      },
      "source": [
        ""
      ],
      "execution_count": null,
      "outputs": []
    },
    {
      "cell_type": "markdown",
      "metadata": {
        "id": "E5mmYIfN8eYV"
      },
      "source": [
        "# **Question 3: Create your own training and evaluation data for sentiment analysis**"
      ]
    },
    {
      "cell_type": "markdown",
      "metadata": {
        "id": "hsi2y4z88ngX"
      },
      "source": [
        "(15 points). **You dodn't need to write program for this question!** Read each review (abstract or tweet) you collected in detail, and annotate each review with a sentiment (positive, negative, or neutral). Save the annotated dataset into a csv file with three columns (first column: document_id, clean_text, sentiment), upload the csv file to GitHub and submit the file link blew. This datset will be used for assignment four: sentiment analysis and text classification. \n"
      ]
    },
    {
      "cell_type": "code",
      "metadata": {
        "id": "XfvMKJjIXS5G"
      },
      "source": [
        "# The GitHub link of your final csv file\n",
        "\n",
        "# Link: "
      ],
      "execution_count": null,
      "outputs": []
    }
  ]
}
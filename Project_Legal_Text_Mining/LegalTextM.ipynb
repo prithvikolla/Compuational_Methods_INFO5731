{
  "nbformat": 4,
  "nbformat_minor": 0,
  "metadata": {
    "colab": {
      "name": "LegalTextM.ipynb",
      "provenance": [],
      "authorship_tag": "ABX9TyONXne/ivqQ+/bLEGl6q70k",
      "include_colab_link": true
    },
    "kernelspec": {
      "name": "python3",
      "display_name": "Python 3"
    }
  },
  "cells": [
    {
      "cell_type": "markdown",
      "metadata": {
        "id": "view-in-github",
        "colab_type": "text"
      },
      "source": [
        "<a href=\"https://colab.research.google.com/github/prithvikolla/Compuational_Methods_INFO5731/blob/master/Project_Legal_Text_Mining/LegalTextM.ipynb\" target=\"_parent\"><img src=\"https://colab.research.google.com/assets/colab-badge.svg\" alt=\"Open In Colab\"/></a>"
      ]
    },
    {
      "cell_type": "code",
      "metadata": {
        "id": "N4ZypKEPf7tS",
        "outputId": "61ba8a81-6453-4725-c1b6-ebbd385adbda",
        "colab": {
          "base_uri": "https://localhost:8080/"
        }
      },
      "source": [
        "import pandas as pd\n",
        "pd.set_option('display.max_colwidth', -1)"
      ],
      "execution_count": 1,
      "outputs": [
        {
          "output_type": "stream",
          "text": [
            "/usr/local/lib/python3.6/dist-packages/ipykernel_launcher.py:2: FutureWarning: Passing a negative integer is deprecated in version 1.0 and will not be supported in future version. Instead, use None to not limit the column width.\n",
            "  \n"
          ],
          "name": "stderr"
        }
      ]
    },
    {
      "cell_type": "code",
      "metadata": {
        "id": "dhhvouxjgDs1"
      },
      "source": [
        "df = pd.read_excel(\"/content/stage-1-4.xlsx\")"
      ],
      "execution_count": 2,
      "outputs": []
    },
    {
      "cell_type": "code",
      "metadata": {
        "id": "P7sJacoTgy2M",
        "outputId": "901875e0-2683-4078-a5e2-226ba2a25e30",
        "colab": {
          "base_uri": "https://localhost:8080/",
          "height": 204
        }
      },
      "source": [
        "df.head()"
      ],
      "execution_count": 3,
      "outputs": [
        {
          "output_type": "execute_result",
          "data": {
            "text/html": [
              "<div>\n",
              "<style scoped>\n",
              "    .dataframe tbody tr th:only-of-type {\n",
              "        vertical-align: middle;\n",
              "    }\n",
              "\n",
              "    .dataframe tbody tr th {\n",
              "        vertical-align: top;\n",
              "    }\n",
              "\n",
              "    .dataframe thead th {\n",
              "        text-align: right;\n",
              "    }\n",
              "</style>\n",
              "<table border=\"1\" class=\"dataframe\">\n",
              "  <thead>\n",
              "    <tr style=\"text-align: right;\">\n",
              "      <th></th>\n",
              "      <th>Sentence</th>\n",
              "      <th>Target</th>\n",
              "    </tr>\n",
              "  </thead>\n",
              "  <tbody>\n",
              "    <tr>\n",
              "      <th>0</th>\n",
              "      <td>at 994.</td>\n",
              "      <td>Invalid</td>\n",
              "    </tr>\n",
              "    <tr>\n",
              "      <th>1</th>\n",
              "      <td>Footnote:</td>\n",
              "      <td>Invalid</td>\n",
              "    </tr>\n",
              "    <tr>\n",
              "      <th>2</th>\n",
              "      <td>People v. Francisco S. Palacios and Valerie M. Palacios (D.C. Criminal Case Nos.</td>\n",
              "      <td>Invalid</td>\n",
              "    </tr>\n",
              "    <tr>\n",
              "      <th>3</th>\n",
              "      <td>79-0043A and 79-0044A).</td>\n",
              "      <td>Invalid</td>\n",
              "    </tr>\n",
              "    <tr>\n",
              "      <th>4</th>\n",
              "      <td>Miller v. California, 93 S. Ct. 2607, 2616 n.</td>\n",
              "      <td>Invalid</td>\n",
              "    </tr>\n",
              "  </tbody>\n",
              "</table>\n",
              "</div>"
            ],
            "text/plain": [
              "                                                                           Sentence   Target\n",
              "0  at 994.                                                                           Invalid\n",
              "1  Footnote:                                                                         Invalid\n",
              "2  People v. Francisco S. Palacios and Valerie M. Palacios (D.C. Criminal Case Nos.  Invalid\n",
              "3  79-0043A and 79-0044A).                                                           Invalid\n",
              "4  Miller v. California, 93 S. Ct. 2607, 2616 n.                                     Invalid"
            ]
          },
          "metadata": {
            "tags": []
          },
          "execution_count": 3
        }
      ]
    },
    {
      "cell_type": "code",
      "metadata": {
        "id": "ChligoMBg3a-",
        "outputId": "f9613e16-698b-4e53-daf6-1e495c770e42",
        "colab": {
          "base_uri": "https://localhost:8080/"
        }
      },
      "source": [
        "df['Target'].value_counts()"
      ],
      "execution_count": 4,
      "outputs": [
        {
          "output_type": "execute_result",
          "data": {
            "text/plain": [
              "Facts               1829\n",
              "Analysis            525 \n",
              "Invalid             342 \n",
              "Conclusion          324 \n",
              "Issue               263 \n",
              "Rule/Law/Holding    225 \n",
              "Others              133 \n",
              "Rule/Law/holding    36  \n",
              "Label_text          1   \n",
              "Name: Target, dtype: int64"
            ]
          },
          "metadata": {
            "tags": []
          },
          "execution_count": 4
        }
      ]
    },
    {
      "cell_type": "code",
      "metadata": {
        "id": "rCQmo2U7hEIW"
      },
      "source": [
        "df = df[df['Target'] != 'Label_text']"
      ],
      "execution_count": 5,
      "outputs": []
    },
    {
      "cell_type": "code",
      "metadata": {
        "id": "SbIcfLpThRr_",
        "outputId": "2f3ce477-a3a8-4b32-c5fc-4ccc71ad2e77",
        "colab": {
          "base_uri": "https://localhost:8080/"
        }
      },
      "source": [
        "df['Target'].value_counts()"
      ],
      "execution_count": 6,
      "outputs": [
        {
          "output_type": "execute_result",
          "data": {
            "text/plain": [
              "Facts               1829\n",
              "Analysis            525 \n",
              "Invalid             342 \n",
              "Conclusion          324 \n",
              "Issue               263 \n",
              "Rule/Law/Holding    225 \n",
              "Others              133 \n",
              "Rule/Law/holding    36  \n",
              "Name: Target, dtype: int64"
            ]
          },
          "metadata": {
            "tags": []
          },
          "execution_count": 6
        }
      ]
    },
    {
      "cell_type": "code",
      "metadata": {
        "id": "0beZfTpYhUxE"
      },
      "source": [
        "df['Target'].replace({'Rule/Law/holding' :'Rule/Law/Holding'}, inplace=True)"
      ],
      "execution_count": 7,
      "outputs": []
    },
    {
      "cell_type": "code",
      "metadata": {
        "id": "m80zPuVvmLyX",
        "outputId": "5893d425-ac6d-43d4-ede1-c3ccc2edb28d",
        "colab": {
          "base_uri": "https://localhost:8080/"
        }
      },
      "source": [
        "df['Target'].value_counts()"
      ],
      "execution_count": 8,
      "outputs": [
        {
          "output_type": "execute_result",
          "data": {
            "text/plain": [
              "Facts               1829\n",
              "Analysis            525 \n",
              "Invalid             342 \n",
              "Conclusion          324 \n",
              "Issue               263 \n",
              "Rule/Law/Holding    261 \n",
              "Others              133 \n",
              "Name: Target, dtype: int64"
            ]
          },
          "metadata": {
            "tags": []
          },
          "execution_count": 8
        }
      ]
    },
    {
      "cell_type": "code",
      "metadata": {
        "id": "1IfGM1qAmUUT",
        "outputId": "76a43f29-53a7-454a-ae4f-deb85e6f9f1c",
        "colab": {
          "base_uri": "https://localhost:8080/"
        }
      },
      "source": [
        "df.info()"
      ],
      "execution_count": 9,
      "outputs": [
        {
          "output_type": "stream",
          "text": [
            "<class 'pandas.core.frame.DataFrame'>\n",
            "Int64Index: 3677 entries, 0 to 3677\n",
            "Data columns (total 2 columns):\n",
            " #   Column    Non-Null Count  Dtype \n",
            "---  ------    --------------  ----- \n",
            " 0   Sentence  3677 non-null   object\n",
            " 1   Target    3677 non-null   object\n",
            "dtypes: object(2)\n",
            "memory usage: 86.2+ KB\n"
          ],
          "name": "stdout"
        }
      ]
    },
    {
      "cell_type": "code",
      "metadata": {
        "id": "qakaF1VBmmVS",
        "outputId": "1aa01c4a-2f5b-49e3-82fb-b6444938d03d",
        "colab": {
          "base_uri": "https://localhost:8080/"
        }
      },
      "source": [
        "print(df['Sentence'].head())"
      ],
      "execution_count": 10,
      "outputs": [
        {
          "output_type": "stream",
          "text": [
            "0    at 994.                                                                         \n",
            "1    Footnote:                                                                       \n",
            "2    People v. Francisco S. Palacios and Valerie M. Palacios (D.C. Criminal Case Nos.\n",
            "3    79-0043A and 79-0044A).                                                         \n",
            "4    Miller v. California, 93 S. Ct. 2607, 2616 n.                                   \n",
            "Name: Sentence, dtype: object\n"
          ],
          "name": "stdout"
        }
      ]
    },
    {
      "cell_type": "code",
      "metadata": {
        "id": "6ZujeIf_mrbF",
        "outputId": "005b3970-118b-4293-cba8-365456b896e0",
        "colab": {
          "base_uri": "https://localhost:8080/"
        }
      },
      "source": [
        "import nltk\n",
        "from nltk import word_tokenize\n",
        "nltk.download('punkt')"
      ],
      "execution_count": 11,
      "outputs": [
        {
          "output_type": "stream",
          "text": [
            "[nltk_data] Downloading package punkt to /root/nltk_data...\n",
            "[nltk_data]   Package punkt is already up-to-date!\n"
          ],
          "name": "stdout"
        },
        {
          "output_type": "execute_result",
          "data": {
            "text/plain": [
              "True"
            ]
          },
          "metadata": {
            "tags": []
          },
          "execution_count": 11
        }
      ]
    },
    {
      "cell_type": "code",
      "metadata": {
        "id": "7jop7HSO5Axe"
      },
      "source": [
        "df['Sentence'] = df['Sentence'].apply(lambda x: x.lower())"
      ],
      "execution_count": 12,
      "outputs": []
    },
    {
      "cell_type": "code",
      "metadata": {
        "id": "4Cur9Qd4CLLk"
      },
      "source": [
        "df['Sent_Punc'] = df['Sentence'].str.replace('[^\\w\\s]','')"
      ],
      "execution_count": 13,
      "outputs": []
    },
    {
      "cell_type": "code",
      "metadata": {
        "id": "G2pYhOw6CNed",
        "outputId": "1fa1dee6-1b83-451c-dfcd-7e37f1aae13f",
        "colab": {
          "base_uri": "https://localhost:8080/",
          "height": 204
        }
      },
      "source": [
        "df.head()"
      ],
      "execution_count": 14,
      "outputs": [
        {
          "output_type": "execute_result",
          "data": {
            "text/html": [
              "<div>\n",
              "<style scoped>\n",
              "    .dataframe tbody tr th:only-of-type {\n",
              "        vertical-align: middle;\n",
              "    }\n",
              "\n",
              "    .dataframe tbody tr th {\n",
              "        vertical-align: top;\n",
              "    }\n",
              "\n",
              "    .dataframe thead th {\n",
              "        text-align: right;\n",
              "    }\n",
              "</style>\n",
              "<table border=\"1\" class=\"dataframe\">\n",
              "  <thead>\n",
              "    <tr style=\"text-align: right;\">\n",
              "      <th></th>\n",
              "      <th>Sentence</th>\n",
              "      <th>Target</th>\n",
              "      <th>Sent_Punc</th>\n",
              "    </tr>\n",
              "  </thead>\n",
              "  <tbody>\n",
              "    <tr>\n",
              "      <th>0</th>\n",
              "      <td>at 994.</td>\n",
              "      <td>Invalid</td>\n",
              "      <td>at 994</td>\n",
              "    </tr>\n",
              "    <tr>\n",
              "      <th>1</th>\n",
              "      <td>footnote:</td>\n",
              "      <td>Invalid</td>\n",
              "      <td>footnote</td>\n",
              "    </tr>\n",
              "    <tr>\n",
              "      <th>2</th>\n",
              "      <td>people v. francisco s. palacios and valerie m. palacios (d.c. criminal case nos.</td>\n",
              "      <td>Invalid</td>\n",
              "      <td>people v francisco s palacios and valerie m palacios dc criminal case nos</td>\n",
              "    </tr>\n",
              "    <tr>\n",
              "      <th>3</th>\n",
              "      <td>79-0043a and 79-0044a).</td>\n",
              "      <td>Invalid</td>\n",
              "      <td>790043a and 790044a</td>\n",
              "    </tr>\n",
              "    <tr>\n",
              "      <th>4</th>\n",
              "      <td>miller v. california, 93 s. ct. 2607, 2616 n.</td>\n",
              "      <td>Invalid</td>\n",
              "      <td>miller v california 93 s ct 2607 2616 n</td>\n",
              "    </tr>\n",
              "  </tbody>\n",
              "</table>\n",
              "</div>"
            ],
            "text/plain": [
              "                                                                           Sentence  ...                                                                  Sent_Punc\n",
              "0  at 994.                                                                           ...  at 994                                                                   \n",
              "1  footnote:                                                                         ...  footnote                                                                 \n",
              "2  people v. francisco s. palacios and valerie m. palacios (d.c. criminal case nos.  ...  people v francisco s palacios and valerie m palacios dc criminal case nos\n",
              "3  79-0043a and 79-0044a).                                                           ...  790043a and 790044a                                                      \n",
              "4  miller v. california, 93 s. ct. 2607, 2616 n.                                     ...  miller v california 93 s ct 2607 2616 n                                  \n",
              "\n",
              "[5 rows x 3 columns]"
            ]
          },
          "metadata": {
            "tags": []
          },
          "execution_count": 14
        }
      ]
    },
    {
      "cell_type": "code",
      "metadata": {
        "id": "Phf5zSKTD0bX",
        "outputId": "21c6f798-47a3-4727-d826-94fbd3c85700",
        "colab": {
          "base_uri": "https://localhost:8080/"
        }
      },
      "source": [
        "df['Sent_Punc'].head(10)"
      ],
      "execution_count": 15,
      "outputs": [
        {
          "output_type": "execute_result",
          "data": {
            "text/plain": [
              "0    at 994                                                                                                                    \n",
              "1    footnote                                                                                                                  \n",
              "2    people v francisco s palacios and valerie m palacios dc criminal case nos                                                 \n",
              "3    790043a and 790044a                                                                                                       \n",
              "4    miller v california 93 s ct 2607 2616 n                                                                                   \n",
              "5    8 1973 see also united states v                                                                                           \n",
              "6    obrien 88 s ct 1673 1679 1968                                                                                             \n",
              "7    ill                                                                                                                       \n",
              "8    the second part part b of the miller guidelines for the trier of fact in determining what is patently offensive is whether\n",
              "9    in united states v                                                                                                        \n",
              "Name: Sent_Punc, dtype: object"
            ]
          },
          "metadata": {
            "tags": []
          },
          "execution_count": 15
        }
      ]
    },
    {
      "cell_type": "code",
      "metadata": {
        "id": "9XelGg8sEaLS",
        "outputId": "4832e978-a3fb-41ac-e9fa-84c433912d80",
        "colab": {
          "base_uri": "https://localhost:8080/"
        }
      },
      "source": [
        "nltk.download('stopwords')\n",
        "stopword = nltk.corpus.stopwords.words('english') "
      ],
      "execution_count": 16,
      "outputs": [
        {
          "output_type": "stream",
          "text": [
            "[nltk_data] Downloading package stopwords to /root/nltk_data...\n",
            "[nltk_data]   Package stopwords is already up-to-date!\n"
          ],
          "name": "stdout"
        }
      ]
    },
    {
      "cell_type": "code",
      "metadata": {
        "id": "d7vikcmM4cnQ"
      },
      "source": [
        "df['Sent_Token'] = df['Sent_Punc'].apply(lambda x: word_tokenize(x))"
      ],
      "execution_count": 17,
      "outputs": []
    },
    {
      "cell_type": "code",
      "metadata": {
        "id": "mFfVXejDE48M"
      },
      "source": [
        "df['Sent_Stop'] = df['Sent_Token'].apply(lambda x: [item for item in x if item not in stopword])"
      ],
      "execution_count": 18,
      "outputs": []
    },
    {
      "cell_type": "code",
      "metadata": {
        "id": "H5k4WTc6F1Rp",
        "outputId": "e4bb7568-1562-4ba0-8562-e33fac59db7d",
        "colab": {
          "base_uri": "https://localhost:8080/"
        }
      },
      "source": [
        "df['Sent_Stop'].head(10)"
      ],
      "execution_count": 19,
      "outputs": [
        {
          "output_type": "execute_result",
          "data": {
            "text/plain": [
              "0    [994]                                                                                              \n",
              "1    [footnote]                                                                                         \n",
              "2    [people, v, francisco, palacios, valerie, palacios, dc, criminal, case, nos]                       \n",
              "3    [790043a, 790044a]                                                                                 \n",
              "4    [miller, v, california, 93, ct, 2607, 2616, n]                                                     \n",
              "5    [8, 1973, see, also, united, states, v]                                                            \n",
              "6    [obrien, 88, ct, 1673, 1679, 1968]                                                                 \n",
              "7    [ill]                                                                                              \n",
              "8    [second, part, part, b, miller, guidelines, trier, fact, determining, patently, offensive, whether]\n",
              "9    [united, states, v]                                                                                \n",
              "Name: Sent_Stop, dtype: object"
            ]
          },
          "metadata": {
            "tags": []
          },
          "execution_count": 19
        }
      ]
    },
    {
      "cell_type": "code",
      "metadata": {
        "id": "dyBhLH_ZGB5L"
      },
      "source": [
        "test_Sent = df['Sent_Stop'][2]"
      ],
      "execution_count": 20,
      "outputs": []
    },
    {
      "cell_type": "code",
      "metadata": {
        "id": "VdGUH_ClHkeN",
        "outputId": "f645e4a1-3543-4730-cf97-1c2060dc1898",
        "colab": {
          "base_uri": "https://localhost:8080/"
        }
      },
      "source": [
        "test_Sent"
      ],
      "execution_count": 21,
      "outputs": [
        {
          "output_type": "execute_result",
          "data": {
            "text/plain": [
              "['people',\n",
              " 'v',\n",
              " 'francisco',\n",
              " 'palacios',\n",
              " 'valerie',\n",
              " 'palacios',\n",
              " 'dc',\n",
              " 'criminal',\n",
              " 'case',\n",
              " 'nos']"
            ]
          },
          "metadata": {
            "tags": []
          },
          "execution_count": 21
        }
      ]
    },
    {
      "cell_type": "code",
      "metadata": {
        "id": "9GCdsHFTHlzC"
      },
      "source": [
        "from nltk.stem.snowball import SnowballStemmer  \n",
        "# df['stem'] = df[].apply(lambda x: [stemmer.stem(y) for y in x])\n",
        "englishStemmer=SnowballStemmer(\"english\")"
      ],
      "execution_count": 22,
      "outputs": []
    },
    {
      "cell_type": "code",
      "metadata": {
        "id": "sxBNcXY7I0Mx",
        "outputId": "7cfc9a70-e67e-4322-e8bb-516425000ff5",
        "colab": {
          "base_uri": "https://localhost:8080/"
        }
      },
      "source": [
        "for i in test_Sent:\n",
        "  print(englishStemmer.stem(i))"
      ],
      "execution_count": 23,
      "outputs": [
        {
          "output_type": "stream",
          "text": [
            "peopl\n",
            "v\n",
            "francisco\n",
            "palacio\n",
            "valeri\n",
            "palacio\n",
            "dc\n",
            "crimin\n",
            "case\n",
            "nos\n"
          ],
          "name": "stdout"
        }
      ]
    },
    {
      "cell_type": "code",
      "metadata": {
        "id": "Au-YvNqTJCXU"
      },
      "source": [
        ""
      ],
      "execution_count": 23,
      "outputs": []
    }
  ]
}
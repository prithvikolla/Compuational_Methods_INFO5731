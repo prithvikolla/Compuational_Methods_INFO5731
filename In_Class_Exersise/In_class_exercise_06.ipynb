{
  "nbformat": 4,
  "nbformat_minor": 0,
  "metadata": {
    "colab": {
      "name": "In_class_exercise_06.ipynb",
      "provenance": [],
      "collapsed_sections": [],
      "toc_visible": true
    },
    "kernelspec": {
      "display_name": "Python 3",
      "language": "python",
      "name": "python3"
    },
    "language_info": {
      "codemirror_mode": {
        "name": "ipython",
        "version": 3
      },
      "file_extension": ".py",
      "mimetype": "text/x-python",
      "name": "python",
      "nbconvert_exporter": "python",
      "pygments_lexer": "ipython3",
      "version": "3.7.4"
    }
  },
  "cells": [
    {
      "cell_type": "markdown",
      "metadata": {
        "id": "view-in-github"
      },
      "source": [
        "<a href=\"https://colab.research.google.com/github/unt-iialab/INFO5731_Spring2020/blob/master/In_class_exercise/In_class_exercise_05.ipynb\" target=\"_parent\"><img src=\"https://colab.research.google.com/assets/colab-badge.svg\" alt=\"Open In Colab\"/></a>"
      ]
    },
    {
      "cell_type": "markdown",
      "metadata": {
        "id": "z7TahL04sVvR"
      },
      "source": [
        "# **The sixth in-class-exercise (20 points in total, 10/14/2020)**"
      ]
    },
    {
      "cell_type": "markdown",
      "metadata": {
        "id": "ejyZITr8sjnh"
      },
      "source": [
        "## **1. Rule-based information extraction (10 points)**\n",
        "\n",
        "Use any keywords related to data science, natural language processing, machine learning to search from google scholar, get the **titles** of 100 articles (either by web scraping or manually) about this topic, define a set of patterns to extract the research questions/problems, methods/algorithms/models, datasets, applications, or any other important information about this topic. "
      ]
    },
    {
      "cell_type": "code",
      "metadata": {
        "id": "uMO5G2G4xC8S"
      },
      "source": [
        "import pandas as pd\n",
        "df = pd.read_csv('/content/titles.csv') # Google Scholar 100 Titles"
      ],
      "execution_count": 1,
      "outputs": []
    },
    {
      "cell_type": "code",
      "metadata": {
        "id": "SfGjW175xWTG",
        "outputId": "beb69f14-9071-412b-a06b-dfd9099fb79b",
        "colab": {
          "base_uri": "https://localhost:8080/",
          "height": 204
        }
      },
      "source": [
        "print(df[0:10]) #Top 10 titles Displayed"
      ],
      "execution_count": 2,
      "outputs": [
        {
          "output_type": "stream",
          "text": [
            "                                              Titles\n",
            "0  Foundations of statistical natural language pr...\n",
            "1  Natural language processing with Python: analy...\n",
            "2  The Stanford CoreNLP natural language processi...\n",
            "3            Handbook of natural language processing\n",
            "4  Natural language processing (almost) from scratch\n",
            "5  A maximum entropy approach to natural language...\n",
            "6                        Natural language processing\n",
            "7            Readings in natural language processing\n",
            "8  Recent trends in deep learning based natural l...\n",
            "9  A unified architecture for natural language pr...\n"
          ],
          "name": "stdout"
        }
      ]
    },
    {
      "cell_type": "code",
      "metadata": {
        "id": "VIAdHhCkxrI8"
      },
      "source": [
        "import pandas as pd\n",
        "import numpy as np\n",
        "import spacy\n",
        "from spacy.matcher import Matcher\n",
        "nlp = spacy.load(\"en_core_web_sm\")\n",
        "pattern = [{'LOWER': 'natural'}]\n",
        "matcher = Matcher(nlp.vocab, validate=True)\n",
        "matcher.add(\"Natural\", None, pattern)\n",
        "titles = (_ for _ in df['Titles'])\n",
        "g = (d for d in nlp.pipe(titles) if matcher(d))\n",
        "A = []\n",
        "for i in range(len(df)):\n",
        "    doc = nlp(next(titles))\n",
        "    if len(matcher(doc)) == 1:\n",
        "        A.append(str(doc))\n",
        "df2 = df[df['Titles'].isin(A)]"
      ],
      "execution_count": 3,
      "outputs": []
    },
    {
      "cell_type": "code",
      "metadata": {
        "id": "LmhWMGq40e4h",
        "outputId": "bed4f668-e0b6-441f-ad04-8c09389d4e35",
        "colab": {
          "base_uri": "https://localhost:8080/",
          "height": 419
        }
      },
      "source": [
        "df2 #Finding what all titles have Natural Language Processing in them."
      ],
      "execution_count": 4,
      "outputs": [
        {
          "output_type": "execute_result",
          "data": {
            "text/html": [
              "<div>\n",
              "<style scoped>\n",
              "    .dataframe tbody tr th:only-of-type {\n",
              "        vertical-align: middle;\n",
              "    }\n",
              "\n",
              "    .dataframe tbody tr th {\n",
              "        vertical-align: top;\n",
              "    }\n",
              "\n",
              "    .dataframe thead th {\n",
              "        text-align: right;\n",
              "    }\n",
              "</style>\n",
              "<table border=\"1\" class=\"dataframe\">\n",
              "  <thead>\n",
              "    <tr style=\"text-align: right;\">\n",
              "      <th></th>\n",
              "      <th>Titles</th>\n",
              "    </tr>\n",
              "  </thead>\n",
              "  <tbody>\n",
              "    <tr>\n",
              "      <th>0</th>\n",
              "      <td>Foundations of statistical natural language pr...</td>\n",
              "    </tr>\n",
              "    <tr>\n",
              "      <th>2</th>\n",
              "      <td>The Stanford CoreNLP natural language processi...</td>\n",
              "    </tr>\n",
              "    <tr>\n",
              "      <th>3</th>\n",
              "      <td>Handbook of natural language processing</td>\n",
              "    </tr>\n",
              "    <tr>\n",
              "      <th>4</th>\n",
              "      <td>Natural language processing (almost) from scratch</td>\n",
              "    </tr>\n",
              "    <tr>\n",
              "      <th>5</th>\n",
              "      <td>A maximum entropy approach to natural language...</td>\n",
              "    </tr>\n",
              "    <tr>\n",
              "      <th>...</th>\n",
              "      <td>...</td>\n",
              "    </tr>\n",
              "    <tr>\n",
              "      <th>95</th>\n",
              "      <td>Integrating plot, character and natural langua...</td>\n",
              "    </tr>\n",
              "    <tr>\n",
              "      <th>96</th>\n",
              "      <td>On some applications of finite-state automata ...</td>\n",
              "    </tr>\n",
              "    <tr>\n",
              "      <th>97</th>\n",
              "      <td>A comparison of word embeddings for the biomed...</td>\n",
              "    </tr>\n",
              "    <tr>\n",
              "      <th>98</th>\n",
              "      <td>An overview of empirical natural language proc...</td>\n",
              "    </tr>\n",
              "    <tr>\n",
              "      <th>99</th>\n",
              "      <td>Natural language processing</td>\n",
              "    </tr>\n",
              "  </tbody>\n",
              "</table>\n",
              "<p>98 rows × 1 columns</p>\n",
              "</div>"
            ],
            "text/plain": [
              "                                               Titles\n",
              "0   Foundations of statistical natural language pr...\n",
              "2   The Stanford CoreNLP natural language processi...\n",
              "3             Handbook of natural language processing\n",
              "4   Natural language processing (almost) from scratch\n",
              "5   A maximum entropy approach to natural language...\n",
              "..                                                ...\n",
              "95  Integrating plot, character and natural langua...\n",
              "96  On some applications of finite-state automata ...\n",
              "97  A comparison of word embeddings for the biomed...\n",
              "98  An overview of empirical natural language proc...\n",
              "99                        Natural language processing\n",
              "\n",
              "[98 rows x 1 columns]"
            ]
          },
          "metadata": {
            "tags": []
          },
          "execution_count": 4
        }
      ]
    },
    {
      "cell_type": "code",
      "metadata": {
        "id": "d0y2zpdZizHW",
        "outputId": "519fce86-3e7a-4553-a86c-a7cf25702db2",
        "colab": {
          "base_uri": "https://localhost:8080/",
          "height": 34
        }
      },
      "source": [
        "len(df2) #Total 98 titles of 100 have Natural Language Processing in them"
      ],
      "execution_count": 5,
      "outputs": [
        {
          "output_type": "execute_result",
          "data": {
            "text/plain": [
              "98"
            ]
          },
          "metadata": {
            "tags": []
          },
          "execution_count": 5
        }
      ]
    },
    {
      "cell_type": "markdown",
      "metadata": {
        "id": "Dq_7VGmrsum4"
      },
      "source": [
        "## **2. Domain-specific information extraction (10 points)**\n",
        "\n",
        "For the legal case used in the data cleaning exercise: [01-05-1 Adams v Tanner.txt](https://github.com/unt-iialab/INFO5731_FALL2020/blob/master/In_class_exercise/01-05-1%20%20Adams%20v%20Tanner.txt), use [legalNLP](https://lexpredict-lexnlp.readthedocs.io/en/latest/modules/extract/extract.html#nlp-based-extraction-methods) to extract the following inforation from the text (if the information is not exist, just print None):\n",
        "\n",
        "(1) acts, e.g., “section 1 of the Advancing Hope Act, 1986”\n",
        "\n",
        "(2) amounts, e.g., “ten pounds” or “5.8 megawatts”\n",
        "\n",
        "(3) citations, e.g., “10 U.S. 100” or “1998 S. Ct. 1”\n",
        "\n",
        "(4) companies, e.g., “Lexpredict LLC”\n",
        "\n",
        "(5) conditions, e.g., “subject to …” or “unless and until …”\n",
        "\n",
        "(6) constraints, e.g., “no more than”\n",
        "\n",
        "(7) copyright, e.g., “(C) Copyright 2000 Acme”\n",
        "\n",
        "(8) courts, e.g., “Supreme Court of New York”\n",
        "\n",
        "(9) CUSIP, e.g., “392690QT3”\n",
        "\n",
        "(10) dates, e.g., “June 1, 2017” or “2018-01-01”\n",
        "\n",
        "(11) definitions, e.g., “Term shall mean …”\n",
        "\n",
        "(12) distances, e.g., “fifteen miles”\n",
        "\n",
        "(13) durations, e.g., “ten years” or “thirty days”\n",
        "\n",
        "(14) geographic and geopolitical entities, e.g., “New York” or “Norway”\n",
        "\n",
        "(15) money and currency usages, e.g., “$5” or “10 Euro”\n",
        "\n",
        "(16) percents and rates, e.g., “10%” or “50 bps”\n",
        "\n",
        "(17) PII, e.g., “212-212-2121” or “999-999-9999”\n",
        "\n",
        "(18) ratios, e.g.,” 3:1” or “four to three”\n",
        "\n",
        "(19) regulations, e.g., “32 CFR 170”\n",
        "\n",
        "(20) trademarks, e.g., “MyApp (TM)”\n",
        "\n",
        "(21) URLs, e.g., “http://acme.com/”\n",
        "\n",
        "(22) addresses, e.g., “1999 Mount Read Blvd, Rochester, NY, USA, 14615”\n",
        "\n",
        "(23) persons, e.g., “John Doe"
      ]
    },
    {
      "cell_type": "code",
      "metadata": {
        "id": "qc7NtJrLx5tS"
      },
      "source": [
        "# write your code here\n",
        "text_file = open(\"/content/01-05-1  Adams v Tanner.txt\").read()"
      ],
      "execution_count": 6,
      "outputs": []
    },
    {
      "cell_type": "code",
      "metadata": {
        "id": "w0_vkXgPNBmD",
        "outputId": "54003cc1-c981-47e7-8c40-10d93735ad33",
        "colab": {
          "base_uri": "https://localhost:8080/",
          "height": 1000
        }
      },
      "source": [
        "!pip install lexnlp"
      ],
      "execution_count": 7,
      "outputs": [
        {
          "output_type": "stream",
          "text": [
            "Collecting lexnlp\n",
            "\u001b[?25l  Downloading https://files.pythonhosted.org/packages/a1/d3/2c3f8595eb1aa418d820130e9d4d2b56c82fd2f88f1cb9720983d2f0b4f2/lexnlp-1.7.0-py3-none-any.whl (9.7MB)\n",
            "\u001b[K     |████████████████████████████████| 9.7MB 3.3MB/s \n",
            "\u001b[?25hCollecting num2words==0.5.10\n",
            "\u001b[?25l  Downloading https://files.pythonhosted.org/packages/eb/a2/ea800689730732e27711c41beed4b2a129b34974435bdc450377ec407738/num2words-0.5.10-py3-none-any.whl (101kB)\n",
            "\u001b[K     |████████████████████████████████| 102kB 9.3MB/s \n",
            "\u001b[?25hCollecting nltk==3.5\n",
            "\u001b[?25l  Downloading https://files.pythonhosted.org/packages/92/75/ce35194d8e3022203cca0d2f896dbb88689f9b3fce8e9f9cff942913519d/nltk-3.5.zip (1.4MB)\n",
            "\u001b[K     |████████████████████████████████| 1.4MB 42.8MB/s \n",
            "\u001b[?25hCollecting regex==2020.7.14\n",
            "\u001b[?25l  Downloading https://files.pythonhosted.org/packages/66/f2/b3af9ce9df4b7e121dfeece41fc95e37b14f0153821f35d08edb0b0813ff/regex-2020.7.14-cp36-cp36m-manylinux2010_x86_64.whl (660kB)\n",
            "\u001b[K     |████████████████████████████████| 665kB 44.1MB/s \n",
            "\u001b[?25hCollecting requests==2.24.0\n",
            "\u001b[?25l  Downloading https://files.pythonhosted.org/packages/45/1e/0c169c6a5381e241ba7404532c16a21d86ab872c9bed8bdcd4c423954103/requests-2.24.0-py2.py3-none-any.whl (61kB)\n",
            "\u001b[K     |████████████████████████████████| 71kB 8.5MB/s \n",
            "\u001b[?25hCollecting pandas==0.24.2\n",
            "\u001b[?25l  Downloading https://files.pythonhosted.org/packages/19/74/e50234bc82c553fecdbd566d8650801e3fe2d6d8c8d940638e3d8a7c5522/pandas-0.24.2-cp36-cp36m-manylinux1_x86_64.whl (10.1MB)\n",
            "\u001b[K     |████████████████████████████████| 10.1MB 42.9MB/s \n",
            "\u001b[?25hCollecting pycountry==20.7.3\n",
            "\u001b[?25l  Downloading https://files.pythonhosted.org/packages/76/73/6f1a412f14f68c273feea29a6ea9b9f1e268177d32e0e69ad6790d306312/pycountry-20.7.3.tar.gz (10.1MB)\n",
            "\u001b[K     |████████████████████████████████| 10.1MB 15.3MB/s \n",
            "\u001b[?25hCollecting scipy==1.5.1\n",
            "\u001b[?25l  Downloading https://files.pythonhosted.org/packages/ab/f9/6eeed6d5cd8dd435bbf105d10d778c2d76de1a5838fdbc315a59fb7fad64/scipy-1.5.1-cp36-cp36m-manylinux1_x86_64.whl (25.9MB)\n",
            "\u001b[K     |████████████████████████████████| 25.9MB 1.3MB/s \n",
            "\u001b[?25hCollecting gensim==3.8.3\n",
            "\u001b[?25l  Downloading https://files.pythonhosted.org/packages/2b/e0/fa6326251692056dc880a64eb22117e03269906ba55a6864864d24ec8b4e/gensim-3.8.3-cp36-cp36m-manylinux1_x86_64.whl (24.2MB)\n",
            "\u001b[K     |████████████████████████████████| 24.2MB 1.6MB/s \n",
            "\u001b[?25hCollecting us==2.0.2\n",
            "  Downloading https://files.pythonhosted.org/packages/88/04/04323aefa1871de30286d3decae7706481c73bd428cf0c08e158bfa259a6/us-2.0.2.tar.gz\n",
            "Collecting numpy==1.19.1\n",
            "\u001b[?25l  Downloading https://files.pythonhosted.org/packages/b1/9a/7d474ba0860a41f771c9523d8c4ea56b084840b5ca4092d96bdee8a3b684/numpy-1.19.1-cp36-cp36m-manylinux2010_x86_64.whl (14.5MB)\n",
            "\u001b[K     |████████████████████████████████| 14.5MB 323kB/s \n",
            "\u001b[?25hCollecting dateparser==0.7.2\n",
            "\u001b[?25l  Downloading https://files.pythonhosted.org/packages/82/9d/51126ac615bbc4418478d725a5fa1a0f112059f6f111e4b48cfbe17ef9d0/dateparser-0.7.2-py2.py3-none-any.whl (352kB)\n",
            "\u001b[K     |████████████████████████████████| 358kB 39.9MB/s \n",
            "\u001b[?25hCollecting Unidecode==1.1.1\n",
            "\u001b[?25l  Downloading https://files.pythonhosted.org/packages/d0/42/d9edfed04228bacea2d824904cae367ee9efd05e6cce7ceaaedd0b0ad964/Unidecode-1.1.1-py2.py3-none-any.whl (238kB)\n",
            "\u001b[K     |████████████████████████████████| 245kB 44.0MB/s \n",
            "\u001b[?25hCollecting reporters-db==2.0.3\n",
            "\u001b[?25l  Downloading https://files.pythonhosted.org/packages/6b/e9/498bada93e69e3162a027d9285e852c464d66aae23ec3c845700ee117414/reporters_db-2.0.3-py2.py3-none-any.whl (72kB)\n",
            "\u001b[K     |████████████████████████████████| 81kB 9.6MB/s \n",
            "\u001b[?25hCollecting scikit-learn==0.23.1\n",
            "\u001b[?25l  Downloading https://files.pythonhosted.org/packages/d9/3a/eb8d7bbe28f4787d140bb9df685b7d5bf6115c0e2a969def4027144e98b6/scikit_learn-0.23.1-cp36-cp36m-manylinux1_x86_64.whl (6.8MB)\n",
            "\u001b[K     |████████████████████████████████| 6.9MB 8.4MB/s \n",
            "\u001b[?25hCollecting datefinder-lexpredict==0.6.2\n",
            "  Downloading https://files.pythonhosted.org/packages/27/47/9a38724045b30e2e4d1c5e3e08fd3b0770dedb2e9ca92c1347b9e2182470/datefinder_lexpredict-0.6.2-py2.py3-none-any.whl\n",
            "Requirement already satisfied: docopt>=0.6.2 in /usr/local/lib/python3.6/dist-packages (from num2words==0.5.10->lexnlp) (0.6.2)\n",
            "Requirement already satisfied: click in /usr/local/lib/python3.6/dist-packages (from nltk==3.5->lexnlp) (7.1.2)\n",
            "Requirement already satisfied: joblib in /usr/local/lib/python3.6/dist-packages (from nltk==3.5->lexnlp) (0.16.0)\n",
            "Requirement already satisfied: tqdm in /usr/local/lib/python3.6/dist-packages (from nltk==3.5->lexnlp) (4.41.1)\n",
            "Requirement already satisfied: idna<3,>=2.5 in /usr/local/lib/python3.6/dist-packages (from requests==2.24.0->lexnlp) (2.10)\n",
            "Requirement already satisfied: certifi>=2017.4.17 in /usr/local/lib/python3.6/dist-packages (from requests==2.24.0->lexnlp) (2020.6.20)\n",
            "Requirement already satisfied: chardet<4,>=3.0.2 in /usr/local/lib/python3.6/dist-packages (from requests==2.24.0->lexnlp) (3.0.4)\n",
            "Requirement already satisfied: urllib3!=1.25.0,!=1.25.1,<1.26,>=1.21.1 in /usr/local/lib/python3.6/dist-packages (from requests==2.24.0->lexnlp) (1.24.3)\n",
            "Requirement already satisfied: python-dateutil>=2.5.0 in /usr/local/lib/python3.6/dist-packages (from pandas==0.24.2->lexnlp) (2.8.1)\n",
            "Requirement already satisfied: pytz>=2011k in /usr/local/lib/python3.6/dist-packages (from pandas==0.24.2->lexnlp) (2018.9)\n",
            "Requirement already satisfied: six>=1.5.0 in /usr/local/lib/python3.6/dist-packages (from gensim==3.8.3->lexnlp) (1.15.0)\n",
            "Requirement already satisfied: smart-open>=1.8.1 in /usr/local/lib/python3.6/dist-packages (from gensim==3.8.3->lexnlp) (2.2.0)\n",
            "Collecting jellyfish==0.6.1\n",
            "\u001b[?25l  Downloading https://files.pythonhosted.org/packages/61/3f/60ac86fb43dfbf976768e80674b5538e535f6eca5aa7806cf2fdfd63550f/jellyfish-0.6.1.tar.gz (132kB)\n",
            "\u001b[K     |████████████████████████████████| 133kB 34.5MB/s \n",
            "\u001b[?25hRequirement already satisfied: tzlocal in /usr/local/lib/python3.6/dist-packages (from dateparser==0.7.2->lexnlp) (1.5.1)\n",
            "Collecting threadpoolctl>=2.0.0\n",
            "  Downloading https://files.pythonhosted.org/packages/f7/12/ec3f2e203afa394a149911729357aa48affc59c20e2c1c8297a60f33f133/threadpoolctl-2.1.0-py3-none-any.whl\n",
            "Building wheels for collected packages: nltk, pycountry, us, jellyfish\n",
            "  Building wheel for nltk (setup.py) ... \u001b[?25l\u001b[?25hdone\n",
            "  Created wheel for nltk: filename=nltk-3.5-cp36-none-any.whl size=1434675 sha256=c55124bbed25575193a75a98d6a5a11187493fd395957e69dd7e46dfc36b8a21\n",
            "  Stored in directory: /root/.cache/pip/wheels/ae/8c/3f/b1fe0ba04555b08b57ab52ab7f86023639a526d8bc8d384306\n",
            "  Building wheel for pycountry (setup.py) ... \u001b[?25l\u001b[?25hdone\n",
            "  Created wheel for pycountry: filename=pycountry-20.7.3-py2.py3-none-any.whl size=10746865 sha256=9e06ec0ad6a7603af313b921ed2a65aa59137eff59f4d420fbf6e54aa2aa8e93\n",
            "  Stored in directory: /root/.cache/pip/wheels/33/4e/a6/be297e6b83567e537bed9df4a93f8590ec01c1acfbcd405348\n",
            "  Building wheel for us (setup.py) ... \u001b[?25l\u001b[?25hdone\n",
            "  Created wheel for us: filename=us-2.0.2-cp36-none-any.whl size=11928 sha256=1603cdd9ceaa210842ca08b5d8515d4e2393faa11ee67c01609c1bd730da203c\n",
            "  Stored in directory: /root/.cache/pip/wheels/e2/16/45/6453383ffa495670f0f6b80a3e697a9771d98cfbaf8b451e73\n",
            "  Building wheel for jellyfish (setup.py) ... \u001b[?25l\u001b[?25hdone\n",
            "  Created wheel for jellyfish: filename=jellyfish-0.6.1-cp36-cp36m-linux_x86_64.whl size=74742 sha256=7624f0a5ed4f3c78d4368f76e8c6512a370e3fdd87c8d90728334a16010db32e\n",
            "  Stored in directory: /root/.cache/pip/wheels/9c/6f/33/92bb9a4b4562a60ba6a80cedbab8907e48bc7a8b1f369ea0ae\n",
            "Successfully built nltk pycountry us jellyfish\n",
            "\u001b[31mERROR: xarray 0.15.1 has requirement pandas>=0.25, but you'll have pandas 0.24.2 which is incompatible.\u001b[0m\n",
            "\u001b[31mERROR: tensorflow 2.3.0 has requirement numpy<1.19.0,>=1.16.0, but you'll have numpy 1.19.1 which is incompatible.\u001b[0m\n",
            "\u001b[31mERROR: tensorflow 2.3.0 has requirement scipy==1.4.1, but you'll have scipy 1.5.1 which is incompatible.\u001b[0m\n",
            "\u001b[31mERROR: plotnine 0.6.0 has requirement pandas>=0.25.0, but you'll have pandas 0.24.2 which is incompatible.\u001b[0m\n",
            "\u001b[31mERROR: mizani 0.6.0 has requirement pandas>=0.25.0, but you'll have pandas 0.24.2 which is incompatible.\u001b[0m\n",
            "\u001b[31mERROR: google-colab 1.0.0 has requirement pandas~=1.1.0; python_version >= \"3.0\", but you'll have pandas 0.24.2 which is incompatible.\u001b[0m\n",
            "\u001b[31mERROR: google-colab 1.0.0 has requirement requests~=2.23.0, but you'll have requests 2.24.0 which is incompatible.\u001b[0m\n",
            "\u001b[31mERROR: fbprophet 0.7.1 has requirement pandas>=1.0.4, but you'll have pandas 0.24.2 which is incompatible.\u001b[0m\n",
            "\u001b[31mERROR: datascience 0.10.6 has requirement folium==0.2.1, but you'll have folium 0.8.3 which is incompatible.\u001b[0m\n",
            "\u001b[31mERROR: albumentations 0.1.12 has requirement imgaug<0.2.7,>=0.2.5, but you'll have imgaug 0.2.9 which is incompatible.\u001b[0m\n",
            "\u001b[31mERROR: datefinder-lexpredict 0.6.2 has requirement regex==2017.9.23, but you'll have regex 2020.7.14 which is incompatible.\u001b[0m\n",
            "Installing collected packages: num2words, regex, nltk, requests, numpy, pandas, pycountry, scipy, gensim, jellyfish, us, dateparser, Unidecode, reporters-db, threadpoolctl, scikit-learn, datefinder-lexpredict, lexnlp\n",
            "  Found existing installation: regex 2019.12.20\n",
            "    Uninstalling regex-2019.12.20:\n",
            "      Successfully uninstalled regex-2019.12.20\n",
            "  Found existing installation: nltk 3.2.5\n",
            "    Uninstalling nltk-3.2.5:\n",
            "      Successfully uninstalled nltk-3.2.5\n",
            "  Found existing installation: requests 2.23.0\n",
            "    Uninstalling requests-2.23.0:\n",
            "      Successfully uninstalled requests-2.23.0\n",
            "  Found existing installation: numpy 1.18.5\n",
            "    Uninstalling numpy-1.18.5:\n",
            "      Successfully uninstalled numpy-1.18.5\n",
            "  Found existing installation: pandas 1.1.2\n",
            "    Uninstalling pandas-1.1.2:\n",
            "      Successfully uninstalled pandas-1.1.2\n",
            "  Found existing installation: scipy 1.4.1\n",
            "    Uninstalling scipy-1.4.1:\n",
            "      Successfully uninstalled scipy-1.4.1\n",
            "  Found existing installation: gensim 3.6.0\n",
            "    Uninstalling gensim-3.6.0:\n",
            "      Successfully uninstalled gensim-3.6.0\n",
            "  Found existing installation: scikit-learn 0.22.2.post1\n",
            "    Uninstalling scikit-learn-0.22.2.post1:\n",
            "      Successfully uninstalled scikit-learn-0.22.2.post1\n",
            "Successfully installed Unidecode-1.1.1 datefinder-lexpredict-0.6.2 dateparser-0.7.2 gensim-3.8.3 jellyfish-0.6.1 lexnlp-1.7.0 nltk-3.5 num2words-0.5.10 numpy-1.19.1 pandas-0.24.2 pycountry-20.7.3 regex-2020.7.14 reporters-db-2.0.3 requests-2.24.0 scikit-learn-0.23.1 scipy-1.5.1 threadpoolctl-2.1.0 us-2.0.2\n"
          ],
          "name": "stdout"
        },
        {
          "output_type": "display_data",
          "data": {
            "application/vnd.colab-display-data+json": {
              "pip_warning": {
                "packages": [
                  "numpy",
                  "pandas",
                  "requests"
                ]
              }
            }
          },
          "metadata": {
            "tags": []
          }
        }
      ]
    },
    {
      "cell_type": "code",
      "metadata": {
        "id": "gYwoj7sdL7AI",
        "outputId": "194458fa-b283-45e4-cb40-8c8ccb07e4bc",
        "colab": {
          "base_uri": "https://localhost:8080/",
          "height": 34
        }
      },
      "source": [
        "\n",
        "import lexnlp.extract.en.acts\n",
        "\n",
        "act = lexnlp.extract.en.acts.get_act_list(text_file)\n",
        "if act: \n",
        "  print(act)\n",
        "else:\n",
        "  print('None')"
      ],
      "execution_count": 8,
      "outputs": [
        {
          "output_type": "stream",
          "text": [
            "None\n"
          ],
          "name": "stdout"
        }
      ]
    },
    {
      "cell_type": "code",
      "metadata": {
        "id": "DIGjc4nVXe_y",
        "outputId": "7f3ef02b-f722-412e-ad98-5101b227e7dd",
        "colab": {
          "base_uri": "https://localhost:8080/",
          "height": 153
        }
      },
      "source": [
        "import nltk\n",
        "nltk.download('averaged_perceptron_tagger')\n",
        "nltk.download('wordnet')\n",
        "nltk.download('punkt')"
      ],
      "execution_count": 9,
      "outputs": [
        {
          "output_type": "stream",
          "text": [
            "[nltk_data] Downloading package averaged_perceptron_tagger to\n",
            "[nltk_data]     /root/nltk_data...\n",
            "[nltk_data]   Unzipping taggers/averaged_perceptron_tagger.zip.\n",
            "[nltk_data] Downloading package wordnet to /root/nltk_data...\n",
            "[nltk_data]   Unzipping corpora/wordnet.zip.\n",
            "[nltk_data] Downloading package punkt to /root/nltk_data...\n",
            "[nltk_data]   Unzipping tokenizers/punkt.zip.\n"
          ],
          "name": "stderr"
        },
        {
          "output_type": "execute_result",
          "data": {
            "text/plain": [
              "True"
            ]
          },
          "metadata": {
            "tags": []
          },
          "execution_count": 9
        }
      ]
    },
    {
      "cell_type": "code",
      "metadata": {
        "id": "oI9Y9eYlRDmd",
        "outputId": "805f0883-b215-44a2-f171-f19e76a15592",
        "colab": {
          "base_uri": "https://localhost:8080/",
          "height": 54
        }
      },
      "source": [
        "import lexnlp.extract.en.amounts\n",
        "amo = lexnlp.extract.en.amounts.get_amounts(text_file)\n",
        "if amo:\n",
        "  print(list(amo))\n",
        "else:\n",
        "  print('None')"
      ],
      "execution_count": 10,
      "outputs": [
        {
          "output_type": "stream",
          "text": [
            "[5.0, 740.0, 1843.0, 2.0, 1.0, 4.0, 2.0, 1821.0, 5.0, 1.0, 1840.0, 3777, 80.0, 100.0, 30, 1839.0, 741.0, 22, 1840.0, 14000, 120, 1, 1840.0, 3, 4, 1, 1.0, 1840.0, 2.0, 1.0, 361.0, 1.0, 307.0, 6.0, 604.0, 1.0, 2.0, 418.0, 422.0, 7.0, 34.0, 41.0, 167.0, 742.0, 3.0, 112.0, 207.0, 3.0, 338.0, 424.0, 5.0, 26.0, 13.0, 235.0, 8.0, 693.0, 4.0, 1821.0, 167.0, 2.0, 2.0, 216.0, 3.0, 66.0, 4.0, 130.0, 29.0, 2.0, 241.0, 2.0, 332.0, 2.0, 422.0, 9.0, 112.0, 743.0, 9.0, 39.0, 14000, 1840.0, 744.0, 5.0, 182.0, 3.0, 368.0, 1.0, 397.0, 6.0, 604.0, 1, 1821.0, 167.0, 745.0, 4.0, 746.0, 4.0, 210.0, 46.0, 747.0, 5.0, 5.0, 740.0, 1843.0, 284.0, 2019.0, 9.0, 1.0, 55.0, 266.0, 271.0, 1876.0, 2.0, 47.0, 362.0, 376.0, 1872.0, 3.0, 45.0, 329.0, 334.0, 1871.0, 4.0, 31.0, 526.0, 527.0, 1858.0, 5.0, 21.0, 333.0, 335.0, 1852.0, 6.0, 8.0, 145.0, 147.0, 1857.0, 7.0, 65.0, 256.0, 258.0, 3, 1880.0, 8.0, 4.0, 913.0, 914.0, 1887.0, 9.0, 103.0, 464.0, 1936.0, 3.0, 1.0, 9.0, 39.0, 1828.0, 2.0, 2.0, 5.0, 182.0, 1837.0, 2.0, 3.0, 9.0, 108.0, 1812.0, 6, 1, 2.0]\n"
          ],
          "name": "stdout"
        }
      ]
    },
    {
      "cell_type": "code",
      "metadata": {
        "id": "VXJPfhtsVPkr",
        "outputId": "a7808a36-b8d4-4c16-8897-9c51f049d068",
        "colab": {
          "base_uri": "https://localhost:8080/",
          "height": 54
        }
      },
      "source": [
        "import lexnlp.extract.en.citations\n",
        "citation = lexnlp.extract.en.citations.get_citations(text_file)\n",
        "if citation:\n",
        "  print(list (citation))\n",
        "else:\n",
        "  print('None')"
      ],
      "execution_count": 11,
      "outputs": [
        {
          "output_type": "stream",
          "text": [
            "[(5, 'Ala.', 'Alabama Reports', 740, None, None, None), (5, 'Ala.', 'Alabama Reports', 740, '1843', None, None), (55, 'Ala.', 'Alabama Reports', 266, '271', None, None), (47, 'Ala.', 'Alabama Reports', 362, '376', None, None), (45, 'Ala.', 'Alabama Reports', 329, '334', None, None), (31, 'Ala.', 'Alabama Reports', 526, '527', None, None), (21, 'Ala.', 'Alabama Reports', 333, '335', None, None), (8, 'Cal.', 'California Reports', 145, '147', None, None), (65, 'Ala.', 'Alabama Reports', 256, '258', None, None), (4, 'S.W.', 'South Western Reporter', 913, '914', None, None), (103, 'A.L.R.', 'American Law Reports', 464, None, None, None), (9, 'Cow.', \"Cowen's Reports\", 39, None, None, None), (5, 'Port.', 'Alabama Reports, Porter', 182, None, None, None), (9, 'Johns.', \"Johnson's Reports\", 108, None, None, None)]\n"
          ],
          "name": "stdout"
        }
      ]
    },
    {
      "cell_type": "code",
      "metadata": {
        "id": "2cAu7cHBYXTa",
        "outputId": "6aa1c6d9-bb70-44d1-c626-14e9d3ca1b6b",
        "colab": {
          "base_uri": "https://localhost:8080/",
          "height": 34
        }
      },
      "source": [
        "import lexnlp.extract.en.entities.nltk_re\n",
        "companies =lexnlp.extract.en.entities.nltk_re.get_companies(text_file)\n",
        "if companies:\n",
        "  print(list (companies))\n",
        "else:\n",
        "  print(\"None\")"
      ],
      "execution_count": 12,
      "outputs": [
        {
          "output_type": "stream",
          "text": [
            "[Lehman, Durr Co, (17983, 18001)]\n"
          ],
          "name": "stdout"
        }
      ]
    },
    {
      "cell_type": "code",
      "metadata": {
        "id": "yHMAFfpmYoT7",
        "outputId": "2590df49-e2ab-48d1-e8d7-d3f8e36095ac",
        "colab": {
          "base_uri": "https://localhost:8080/",
          "height": 54
        }
      },
      "source": [
        "import lexnlp.extract.en.conditions\n",
        "conditions =lexnlp.extract.en.conditions.get_conditions(text_file)\n",
        "if conditions :\n",
        "  print(list (conditions))\n",
        "else:\n",
        "  print(\"none\")"
      ],
      "execution_count": 13,
      "outputs": [
        {
          "output_type": "stream",
          "text": [
            "[('until', '[2]\\nCreditors’ Remedies\\nLien and Priority\\nUnder St.1821, prohibiting a levy on a crop', ''), ('until', 'on a growing crop, nor does such lien attach', ''), ('if', 'It was proved by the claimants, by the production of a written contract, that Harrison, on the twenty-second of May, 1840, in consideration that the claimants were involved, as indorsers for Burton & Harrison of Sumter county, and were then exposed to an execution, amounting to upwards of fourteen thousand dollars, bargained and sold to the claimants all his growing crop of cotton &c., consisting of one hundred and twenty acres, &c. Allen Harrison promised and obliged himself to give up his crop to the use of the claimants at any time to save them from suffering as his indorsers;', ''), ('when', 'The claimants came from Tennessee, (where they resided) about the first of September, 1840, bringing with them three or four white laborers, and took possession of the crop and slaves, and with the latter, and white laborers, gathered the cotton, prepared it for market, and', ''), ('if', 'The court charged the jury, that the plaintiff had no lien by virtue of his judgment, and execution on the growing crop; that Harrison had a right to convey it, without being in any manner restrained by them; that the writing adduced, was a sale of the crop, but', ''), ('when', 'it was not, and the lien of the fieri facias would have attached upon it,', ''), ('if', 'gathered, yet', ''), ('not subject to', 'the claimants obtained possession on the first of September, and controlled the gathering of the crop, then no lien attached, and it was', ''), ('until', 'Rep, 693;] and', ''), ('until', '167,] which declares it to be lawful to levy an execution on a planted crop,', ''), ('if', 'It is admitted that the contract between the defendant in execution, and the claimants, was in good faith,', ''), ('when', 'The defendant in execution might at any time have divested the interest which the contract vested in the claimants, by discharging their liability as his indorsers, or a judgment creditor might have satisfied the lien, and', ''), ('unless', 'We will then consider the writing under which the claimants assert a right, as a mortgage with a power to take possession any time during the year,', ''), ('if', 'Conceding the truth of the facts stated in the bill of exceptions, and we think it will not follow, that the possession of the claimants is a nullity, and that the case must be considered as', ''), ('if', 'The contract contains an express undertaking to give up the crop at any time the claimants might require it for their indemnity, and', ''), ('if', 'they took possession of it in the absence of the grantor, (though without his consent,)', ''), ('if', 'he subsequently acquiesced in it, the inference would be,', ''), ('subject to', 'Mr. Dane, in remarking upon this point, says, “The American editor of Bacon’s Abridgment, says, ‘Wheat growing in the ground is a chattel, and', ''), ('until', 'The first section of the act of 1821, “To prevent sheriffs and other officers from levying executions in certain cases, enacts, that “It shall not be lawful for any sheriff or other officer, to levy a writ of fieri facias or other execution on the planted crop of a debtor, or person against whom an execution may issue,', ''), ('until', 'Now here is an express inhibition to levy an execution on a crop while it remains on, or in the ground, and', ''), ('until', 'If so, the act cited, will only have the effect of keeping the right to levy it in abeyance', ''), ('if', 'The lien and the right to levy are intimately connected, and', ''), ('until', 'That it was competent for the legislature to have made it unlawful to levy an execution on particular property,', ''), ('until', 'If the object was merely to suspend the sale,', ''), ('as soon as', 'The idea that the lien attached upon the planted crop', ''), ('until', 'the execution was delivered to the sheriff, though the right to levy it was postponed', ''), ('if', 'They do not refer to the lien,', ''), ('until', 'they did they would postpone it', ''), ('until', 'the crop was gathered; but it is the levy they relate to and postpone', ''), ('until', '**4 The right to levy an execution on a planted crop, then, being expressly taken away by the statute, the lien which is connected with and consequent upon that right, never attaches', ''), ('if', 'The circuit judge may have mistaken the law in supposing that the contract was a sale, but', ''), ('when', 'There is no assumption of any material fact in the charge; but the possession of the claimant, the time', ''), ('if', 'acquired, the gathering of the crop, &c., are all referred to the determination of the jury; who are instructed,', ''), ('until', '**4 The statute which presents the question before the court is, that “it shall not be lawful for any sheriff or other officer to levy a writ of fieei facias or other execution, on the planted crop of a debtor, or person against whom an execution may issue,', ''), ('subject to', 'The policy of the State, as indicated by these statutes, is undeniably that all the property of a debtor, real and personal, to which he has a legal title, shall be', ''), ('until', 'The mischief which the statute designed to remedy was, the sacrifice which would be necessarily made by the sale of an immature crop: the statute enables the debtor to retain it', ''), ('if', '**5', ''), ('until', 'The sheriff is forbidden to levy on a “planted crop”', ''), ('if', 'Now,', ''), ('until', 'This, I feel a thorough conviction, was not the intention of the legislature; but that it was to secure him from loss, by prohibiting a levy and sale of the crop,', ''), ('when', 'it was gathered,', ''), ('subject to', 'Growing crops as', ''), ('subject to', '464\\nGenerally, at common law, growing crops raised by annual planting, while still attached to the soil, are regarded as personal chattels,', ''), ('where', 'And', '')]\n"
          ],
          "name": "stdout"
        }
      ]
    },
    {
      "cell_type": "code",
      "metadata": {
        "id": "HGQLnqTSY9Nf",
        "outputId": "b6f7e663-0a2f-47d3-9bbc-87351c67d101",
        "colab": {
          "base_uri": "https://localhost:8080/",
          "height": 54
        }
      },
      "source": [
        "import lexnlp.extract.en.constraints\n",
        "constraints =lexnlp.extract.en.conditions.get_conditions(text_file)\n",
        "if constraints :\n",
        "  print(list (constraints))\n",
        "else:\n",
        "  print(\"none\")"
      ],
      "execution_count": 14,
      "outputs": [
        {
          "output_type": "stream",
          "text": [
            "[('until', '[2]\\nCreditors’ Remedies\\nLien and Priority\\nUnder St.1821, prohibiting a levy on a crop', ''), ('until', 'on a growing crop, nor does such lien attach', ''), ('if', 'It was proved by the claimants, by the production of a written contract, that Harrison, on the twenty-second of May, 1840, in consideration that the claimants were involved, as indorsers for Burton & Harrison of Sumter county, and were then exposed to an execution, amounting to upwards of fourteen thousand dollars, bargained and sold to the claimants all his growing crop of cotton &c., consisting of one hundred and twenty acres, &c. Allen Harrison promised and obliged himself to give up his crop to the use of the claimants at any time to save them from suffering as his indorsers;', ''), ('when', 'The claimants came from Tennessee, (where they resided) about the first of September, 1840, bringing with them three or four white laborers, and took possession of the crop and slaves, and with the latter, and white laborers, gathered the cotton, prepared it for market, and', ''), ('if', 'The court charged the jury, that the plaintiff had no lien by virtue of his judgment, and execution on the growing crop; that Harrison had a right to convey it, without being in any manner restrained by them; that the writing adduced, was a sale of the crop, but', ''), ('when', 'it was not, and the lien of the fieri facias would have attached upon it,', ''), ('if', 'gathered, yet', ''), ('not subject to', 'the claimants obtained possession on the first of September, and controlled the gathering of the crop, then no lien attached, and it was', ''), ('until', 'Rep, 693;] and', ''), ('until', '167,] which declares it to be lawful to levy an execution on a planted crop,', ''), ('if', 'It is admitted that the contract between the defendant in execution, and the claimants, was in good faith,', ''), ('when', 'The defendant in execution might at any time have divested the interest which the contract vested in the claimants, by discharging their liability as his indorsers, or a judgment creditor might have satisfied the lien, and', ''), ('unless', 'We will then consider the writing under which the claimants assert a right, as a mortgage with a power to take possession any time during the year,', ''), ('if', 'Conceding the truth of the facts stated in the bill of exceptions, and we think it will not follow, that the possession of the claimants is a nullity, and that the case must be considered as', ''), ('if', 'The contract contains an express undertaking to give up the crop at any time the claimants might require it for their indemnity, and', ''), ('if', 'they took possession of it in the absence of the grantor, (though without his consent,)', ''), ('if', 'he subsequently acquiesced in it, the inference would be,', ''), ('subject to', 'Mr. Dane, in remarking upon this point, says, “The American editor of Bacon’s Abridgment, says, ‘Wheat growing in the ground is a chattel, and', ''), ('until', 'The first section of the act of 1821, “To prevent sheriffs and other officers from levying executions in certain cases, enacts, that “It shall not be lawful for any sheriff or other officer, to levy a writ of fieri facias or other execution on the planted crop of a debtor, or person against whom an execution may issue,', ''), ('until', 'Now here is an express inhibition to levy an execution on a crop while it remains on, or in the ground, and', ''), ('until', 'If so, the act cited, will only have the effect of keeping the right to levy it in abeyance', ''), ('if', 'The lien and the right to levy are intimately connected, and', ''), ('until', 'That it was competent for the legislature to have made it unlawful to levy an execution on particular property,', ''), ('until', 'If the object was merely to suspend the sale,', ''), ('as soon as', 'The idea that the lien attached upon the planted crop', ''), ('until', 'the execution was delivered to the sheriff, though the right to levy it was postponed', ''), ('if', 'They do not refer to the lien,', ''), ('until', 'they did they would postpone it', ''), ('until', 'the crop was gathered; but it is the levy they relate to and postpone', ''), ('until', '**4 The right to levy an execution on a planted crop, then, being expressly taken away by the statute, the lien which is connected with and consequent upon that right, never attaches', ''), ('if', 'The circuit judge may have mistaken the law in supposing that the contract was a sale, but', ''), ('when', 'There is no assumption of any material fact in the charge; but the possession of the claimant, the time', ''), ('if', 'acquired, the gathering of the crop, &c., are all referred to the determination of the jury; who are instructed,', ''), ('until', '**4 The statute which presents the question before the court is, that “it shall not be lawful for any sheriff or other officer to levy a writ of fieei facias or other execution, on the planted crop of a debtor, or person against whom an execution may issue,', ''), ('subject to', 'The policy of the State, as indicated by these statutes, is undeniably that all the property of a debtor, real and personal, to which he has a legal title, shall be', ''), ('until', 'The mischief which the statute designed to remedy was, the sacrifice which would be necessarily made by the sale of an immature crop: the statute enables the debtor to retain it', ''), ('if', '**5', ''), ('until', 'The sheriff is forbidden to levy on a “planted crop”', ''), ('if', 'Now,', ''), ('until', 'This, I feel a thorough conviction, was not the intention of the legislature; but that it was to secure him from loss, by prohibiting a levy and sale of the crop,', ''), ('when', 'it was gathered,', ''), ('subject to', 'Growing crops as', ''), ('subject to', '464\\nGenerally, at common law, growing crops raised by annual planting, while still attached to the soil, are regarded as personal chattels,', ''), ('where', 'And', '')]\n"
          ],
          "name": "stdout"
        }
      ]
    },
    {
      "cell_type": "code",
      "metadata": {
        "id": "ISZEtbj_YyAl",
        "outputId": "e1d356a5-2b11-4d3a-d48b-a036f4077130",
        "colab": {
          "base_uri": "https://localhost:8080/",
          "height": 34
        }
      },
      "source": [
        "import lexnlp.extract.en.copyright\n",
        "copyRight =lexnlp.extract.en.copyright.get_copyright(text_file)\n",
        "if copyRight:\n",
        "  print(list (copyRight))\n",
        "else:\n",
        "  print(\"none\")"
      ],
      "execution_count": 15,
      "outputs": [
        {
          "output_type": "stream",
          "text": [
            "[('©', '2019', 'Thomson Reuters. No')]\n"
          ],
          "name": "stdout"
        }
      ]
    },
    {
      "cell_type": "code",
      "metadata": {
        "id": "Z37KBUIxaKbm",
        "outputId": "38c756b7-6581-441e-aa90-637b009e54aa",
        "colab": {
          "base_uri": "https://localhost:8080/",
          "height": 34
        }
      },
      "source": [
        "import lexnlp.extract.en.cusip\n",
        "cusip =lexnlp.extract.en.cusip.get_cusip(text_file)\n",
        "if list (cusip):\n",
        "  print(cusip)\n",
        "else:\n",
        "  print(\"none\")"
      ],
      "execution_count": 16,
      "outputs": [
        {
          "output_type": "stream",
          "text": [
            "none\n"
          ],
          "name": "stdout"
        }
      ]
    },
    {
      "cell_type": "code",
      "metadata": {
        "id": "tEBBwkz5awVZ",
        "outputId": "b2def5b3-bda0-460e-c133-a4137c1bbd61",
        "colab": {
          "base_uri": "https://localhost:8080/",
          "height": 54
        }
      },
      "source": [
        "import lexnlp.extract.en.dates\n",
        "dates =lexnlp.extract.en.dates.get_dates(text_file)\n",
        "if dates:\n",
        "  print(list (dates))\n",
        "else:\n",
        "  print(\"none\")"
      ],
      "execution_count": 17,
      "outputs": [
        {
          "output_type": "stream",
          "text": [
            "[datetime.date(2020, 6, 1), datetime.date(1840, 11, 1), datetime.date(1839, 10, 1), datetime.date(1840, 9, 1), datetime.date(1840, 5, 1), datetime.date(1840, 5, 1), datetime.date(2020, 12, 1), datetime.date(2020, 12, 1), datetime.date(2020, 1, 1), datetime.date(2020, 1, 1), datetime.date(2020, 1, 1), datetime.date(2020, 3, 21), datetime.date(2020, 6, 1), datetime.date(2020, 7, 1), datetime.date(2020, 11, 1)]\n"
          ],
          "name": "stdout"
        }
      ]
    },
    {
      "cell_type": "code",
      "metadata": {
        "id": "Lr3B8zvnbRkF",
        "outputId": "f15ee34c-ab0d-46fd-fac4-1310c760cde8",
        "colab": {
          "base_uri": "https://localhost:8080/",
          "height": 34
        }
      },
      "source": [
        "import lexnlp.extract.en.definitions\n",
        "definitions =lexnlp.extract.en.definitions.get_definitions(text_file)\n",
        "if list (definitions):\n",
        "  print(definitions)\n",
        "else:\n",
        "  print(\"none\")"
      ],
      "execution_count": 18,
      "outputs": [
        {
          "output_type": "stream",
          "text": [
            "none\n"
          ],
          "name": "stdout"
        }
      ]
    },
    {
      "cell_type": "code",
      "metadata": {
        "id": "vEJGOFmEbZqA",
        "outputId": "a22d6fb7-2169-4434-b940-4927d02385a0",
        "colab": {
          "base_uri": "https://localhost:8080/",
          "height": 34
        }
      },
      "source": [
        "import lexnlp.extract.en.distances\n",
        "distance=lexnlp.extract.en.distances.get_distances(text_file)\n",
        "if list (distance):\n",
        "  print(distance)\n",
        "else:\n",
        "  print(\"none\")"
      ],
      "execution_count": 19,
      "outputs": [
        {
          "output_type": "stream",
          "text": [
            "none\n"
          ],
          "name": "stdout"
        }
      ]
    },
    {
      "cell_type": "code",
      "metadata": {
        "id": "uF9VoPdIblPG",
        "outputId": "cb056a2d-3b14-4a37-ec28-e09abc615c42",
        "colab": {
          "base_uri": "https://localhost:8080/",
          "height": 34
        }
      },
      "source": [
        "import lexnlp.extract.en.durations\n",
        "durations =lexnlp.extract.en.durations.get_durations(text_file)\n",
        "if durations:\n",
        "  print(list (durations))\n",
        "else:\n",
        "  print(\"none\")"
      ],
      "execution_count": 20,
      "outputs": [
        {
          "output_type": "stream",
          "text": [
            "[('second', 20.0, 0.00023148148148148146), ('year', 6.0, 2190.0)]\n"
          ],
          "name": "stdout"
        }
      ]
    },
    {
      "cell_type": "code",
      "metadata": {
        "id": "pn7WrrH3btOX",
        "outputId": "639d0512-e553-4378-8c1d-acffcdeac1c0",
        "colab": {
          "base_uri": "https://localhost:8080/",
          "height": 34
        }
      },
      "source": [
        "import lexnlp.extract.en.money\n",
        "currency =lexnlp.extract.en.money.get_money(text_file)\n",
        "if currency:\n",
        "  print(list (currency))\n",
        "else:\n",
        "  print(\"none\")"
      ],
      "execution_count": 21,
      "outputs": [
        {
          "output_type": "stream",
          "text": [
            "[(100.0, 'USD'), (14000, 'USD'), (14000, 'USD')]\n"
          ],
          "name": "stdout"
        }
      ]
    },
    {
      "cell_type": "code",
      "metadata": {
        "id": "TmgV6aupdBT_",
        "outputId": "e5670ae3-6059-46bc-f271-9bb0a23fd417",
        "colab": {
          "base_uri": "https://localhost:8080/",
          "height": 34
        }
      },
      "source": [
        "import lexnlp.extract.en.percents\n",
        "percents =lexnlp.extract.en.percents.get_percents(text_file)\n",
        "if list (percents):\n",
        "  print(percents)\n",
        "else:\n",
        "  print(\"none\")"
      ],
      "execution_count": 22,
      "outputs": [
        {
          "output_type": "stream",
          "text": [
            "none\n"
          ],
          "name": "stdout"
        }
      ]
    },
    {
      "cell_type": "code",
      "metadata": {
        "id": "aNMJWpFidD8Q",
        "outputId": "0e1c23cd-8ec4-41a6-802d-82833acaeceb",
        "colab": {
          "base_uri": "https://localhost:8080/",
          "height": 34
        }
      },
      "source": [
        "import lexnlp.extract.en.pii\n",
        "numbers =lexnlp.extract.en.pii.get_pii(text_file)\n",
        "if list (numbers):\n",
        "  print(numbers)\n",
        "else:\n",
        "  print(\"none\")"
      ],
      "execution_count": 23,
      "outputs": [
        {
          "output_type": "stream",
          "text": [
            "none\n"
          ],
          "name": "stdout"
        }
      ]
    },
    {
      "cell_type": "code",
      "metadata": {
        "id": "DPIFdbWqdGpY",
        "outputId": "3f366fb1-bfa4-438b-99c8-a2569730f219",
        "colab": {
          "base_uri": "https://localhost:8080/",
          "height": 34
        }
      },
      "source": [
        "import lexnlp.extract.en.ratios\n",
        "ratio=lexnlp.extract.en.ratios.get_ratios(text_file)\n",
        "if list (ratio):\n",
        "  print(ratio)\n",
        "else:\n",
        "  print(\"none\")"
      ],
      "execution_count": 24,
      "outputs": [
        {
          "output_type": "stream",
          "text": [
            "none\n"
          ],
          "name": "stdout"
        }
      ]
    },
    {
      "cell_type": "code",
      "metadata": {
        "id": "mN8VFd4DdJA3",
        "outputId": "86ab0345-e331-450a-afc7-529ef62282b2",
        "colab": {
          "base_uri": "https://localhost:8080/",
          "height": 34
        }
      },
      "source": [
        "import lexnlp.extract.en.regulations\n",
        "regulations =lexnlp.extract.en.regulations.get_regulations(text_file)\n",
        "if list (regulations):\n",
        "  print(regulations)\n",
        "else:\n",
        "  print(\"none\")"
      ],
      "execution_count": 25,
      "outputs": [
        {
          "output_type": "stream",
          "text": [
            "none\n"
          ],
          "name": "stdout"
        }
      ]
    },
    {
      "cell_type": "code",
      "metadata": {
        "id": "wI_lMK7udLRi",
        "outputId": "4b1422c1-f271-4b07-b67b-f56aaf92e963",
        "colab": {
          "base_uri": "https://localhost:8080/",
          "height": 34
        }
      },
      "source": [
        "import lexnlp.extract.en.trademarks\n",
        "trademarks=lexnlp.extract.en.trademarks.get_trademarks(text_file)\n",
        "if list (trademarks):\n",
        "  print(trademarks)\n",
        "else:\n",
        "  print(\"none\")"
      ],
      "execution_count": 26,
      "outputs": [
        {
          "output_type": "stream",
          "text": [
            "none\n"
          ],
          "name": "stdout"
        }
      ]
    },
    {
      "cell_type": "code",
      "metadata": {
        "id": "CC64jTeYdPnM",
        "outputId": "4fd63494-81bc-4955-9544-297198632acd",
        "colab": {
          "base_uri": "https://localhost:8080/",
          "height": 34
        }
      },
      "source": [
        "import lexnlp.extract.en.urls\n",
        "url=lexnlp.extract.en.urls.get_urls(text_file)\n",
        "if list (url):\n",
        "  print(url)\n",
        "else:\n",
        "  print(\"none\")"
      ],
      "execution_count": 27,
      "outputs": [
        {
          "output_type": "stream",
          "text": [
            "none\n"
          ],
          "name": "stdout"
        }
      ]
    },
    {
      "cell_type": "code",
      "metadata": {
        "id": "pxwNFV1yPLRT",
        "outputId": "8803437d-3d7c-49f5-ceaf-06e7a35683a4",
        "colab": {
          "base_uri": "https://localhost:8080/",
          "height": 1000
        }
      },
      "source": [
        "from nltk.tag.stanford import StanfordNERTagger\n",
        "st = StanfordNERTagger('/content/english.all.3class.distsim.crf.ser.gz', '/content/stanford-ner.jar')\n",
        "\n",
        "for sent in nltk.sent_tokenize(text_file):\n",
        "    tokens = nltk.tokenize.word_tokenize(sent)\n",
        "    tags = st.tag(tokens)\n",
        "    for tag in tags:\n",
        "        if tag[1]=='PERSON': print (tag)"
      ],
      "execution_count": 30,
      "outputs": [
        {
          "output_type": "stream",
          "text": [
            "('ADAMS', 'PERSON')\n",
            "('TANNER', 'PERSON')\n",
            "('HORTON', 'PERSON')\n",
            "('Lien', 'PERSON')\n",
            "('Allen', 'PERSON')\n",
            "('Harrison', 'PERSON')\n",
            "('Allen', 'PERSON')\n",
            "('Harrison', 'PERSON')\n",
            "('Harrison', 'PERSON')\n",
            "('Harrison', 'PERSON')\n",
            "('Allen', 'PERSON')\n",
            "('Harrison', 'PERSON')\n",
            "('Harrison', 'PERSON')\n",
            "('Harrison', 'PERSON')\n",
            "('R.', 'PERSON')\n",
            "('H.', 'PERSON')\n",
            "('SMITH', 'PERSON')\n",
            "('Harrison', 'PERSON')\n",
            "('Salk', 'PERSON')\n",
            "('Harrison', 'PERSON')\n",
            "('Johns', 'PERSON')\n",
            "('Harrison', 'PERSON')\n",
            "('W.', 'PERSON')\n",
            "('M.', 'PERSON')\n",
            "('MURPHY', 'PERSON')\n",
            "('W.', 'PERSON')\n",
            "('G.', 'PERSON')\n",
            "('JONES', 'PERSON')\n",
            "('Johns', 'PERSON')\n",
            "('C.', 'PERSON')\n",
            "('J', 'PERSON')\n",
            "('Chas', 'PERSON')\n",
            "('Whipple', 'PERSON')\n",
            "('Johns', 'PERSON')\n",
            "('Stewart', 'PERSON')\n",
            "('Doughty', 'PERSON')\n",
            "('Johns', 'PERSON')\n",
            "('Sawyer', 'PERSON')\n",
            "('Perkins', 'PERSON')\n",
            "('Elliott', 'PERSON')\n",
            "('Mayfield', 'PERSON')\n",
            "('Dane', 'PERSON')\n",
            "('Whipple', 'PERSON')\n",
            "('Poole', 'PERSON')\n",
            "('Salk', 'PERSON')\n",
            "('Whipple', 'PERSON')\n",
            "('Mansony', 'PERSON')\n",
            "('Hurtell', 'PERSON')\n",
            "('Wood', 'PERSON')\n",
            "('Gary', 'PERSON')\n",
            "('Booker', 'PERSON')\n",
            "('Jones', 'PERSON')\n",
            "('M.', 'PERSON')\n",
            "('J.', 'PERSON')\n",
            "('SAFFOLD', 'PERSON')\n",
            "('Marshall', 'PERSON')\n",
            "('Montgomery', 'PERSON')\n",
            "('Hon', 'PERSON')\n",
            "('JOHN', 'PERSON')\n",
            "('D.', 'PERSON')\n",
            "('CUNNINGHAM', 'PERSON')\n",
            "('Bibb', 'PERSON')\n",
            "('Janney', 'PERSON')\n",
            "('Hon', 'PERSON')\n",
            "('JOHN', 'PERSON')\n",
            "('D.', 'PERSON')\n",
            "('CUNNINGHAM', 'PERSON')\n",
            "('McKenzie', 'PERSON')\n",
            "('Lampley', 'PERSON')\n",
            "('S.', 'PERSON')\n",
            "('D.', 'PERSON')\n",
            "('HALE', 'PERSON')\n",
            "('Evans', 'PERSON')\n",
            "('Lamar', 'PERSON')\n",
            "('B.', 'PERSON')\n",
            "('MOORE', 'PERSON')\n",
            "('Dewey', 'PERSON')\n",
            "('Bowman', 'PERSON')\n",
            "('Jacob', 'PERSON')\n",
            "('S.', 'PERSON')\n",
            "('Cohen', 'PERSON')\n",
            "('Cohen', 'PERSON')\n",
            "('Rees', 'PERSON')\n",
            "('L.', 'PERSON')\n",
            "('WHITLOCK', 'PERSON')\n",
            "('Edwards', 'PERSON')\n",
            "('Thompson', 'PERSON')\n",
            "('Weakley', 'PERSON')\n",
            "('Austin', 'PERSON')\n",
            "('Sawyer', 'PERSON')\n",
            "('Perkins', 'PERSON')\n",
            "('Mayfield', 'PERSON')\n",
            "('Stewart', 'PERSON')\n",
            "('Johns', 'PERSON')\n"
          ],
          "name": "stdout"
        }
      ]
    },
    {
      "cell_type": "code",
      "metadata": {
        "id": "u0EE4fvwj11m",
        "outputId": "00480f96-d449-49bb-a785-04e1e9d57efb",
        "colab": {
          "base_uri": "https://localhost:8080/",
          "height": 224
        }
      },
      "source": [
        "!pip install usaddress"
      ],
      "execution_count": 52,
      "outputs": [
        {
          "output_type": "stream",
          "text": [
            "Collecting usaddress\n",
            "\u001b[?25l  Downloading https://files.pythonhosted.org/packages/d3/6c/3da44f6f41834cd4c2c0fadf29d11e8493bcf80811f5bd9ec542a08b9996/usaddress-0.5.10-py2.py3-none-any.whl (63kB)\n",
            "\u001b[K     |████████████████████████████████| 71kB 2.3MB/s \n",
            "\u001b[?25hCollecting python-crfsuite>=0.7\n",
            "\u001b[?25l  Downloading https://files.pythonhosted.org/packages/95/99/869dde6dbf3e0d07a013c8eebfb0a3d30776334e0097f8432b631a9a3a19/python_crfsuite-0.9.7-cp36-cp36m-manylinux1_x86_64.whl (743kB)\n",
            "\u001b[K     |████████████████████████████████| 747kB 10.2MB/s \n",
            "\u001b[?25hRequirement already satisfied: future>=0.14 in /usr/local/lib/python3.6/dist-packages (from usaddress) (0.16.0)\n",
            "Collecting probableparsing\n",
            "  Downloading https://files.pythonhosted.org/packages/e1/6b/91255cbf739a835df41af530a36798397d70342d152b773b5b0fe3001843/probableparsing-0.0.1-py2.py3-none-any.whl\n",
            "Installing collected packages: python-crfsuite, probableparsing, usaddress\n",
            "Successfully installed probableparsing-0.0.1 python-crfsuite-0.9.7 usaddress-0.5.10\n"
          ],
          "name": "stdout"
        }
      ]
    },
    {
      "cell_type": "code",
      "metadata": {
        "id": "ME2A3gUfj-zf"
      },
      "source": [
        "import usaddress"
      ],
      "execution_count": 53,
      "outputs": []
    },
    {
      "cell_type": "code",
      "metadata": {
        "id": "kSRJtgKok92Z"
      },
      "source": [
        "add = usaddress.parse(text_file)"
      ],
      "execution_count": 54,
      "outputs": []
    },
    {
      "cell_type": "code",
      "metadata": {
        "id": "tesHFS3jlDaO",
        "outputId": "5d4a420b-a1fc-4dd6-f476-0bf89fb81d24",
        "colab": {
          "base_uri": "https://localhost:8080/",
          "height": 54
        }
      },
      "source": [
        "if list (add):\n",
        "  print(add)\n",
        "else:\n",
        "  print('None')"
      ],
      "execution_count": 55,
      "outputs": [
        {
          "output_type": "stream",
          "text": [
            "[('5', 'Recipient'), ('Ala.', 'Recipient'), ('740\\n', 'Recipient'), ('Supreme', 'Recipient'), ('Court', 'Recipient'), ('of', 'Recipient'), ('Alabama.\\n', 'Recipient'), ('ADAMS\\n', 'Recipient'), ('v.\\n', 'Recipient'), ('TANNER', 'Recipient'), ('AND', 'Recipient'), ('HORTON.\\n', 'Recipient'), ('June', 'Recipient'), ('Term,', 'Recipient'), ('1843.\\n', 'Recipient'), ('Synopsis\\n', 'Recipient'), ('WRIT', 'Recipient'), ('of', 'Recipient'), ('Error', 'Recipient'), ('to', 'Recipient'), ('the', 'Recipient'), ('Circuit', 'Recipient'), ('Court', 'Recipient'), ('of', 'Recipient'), ('Sumter.\\n', 'Recipient'), ('West', 'Recipient'), ('Headnotes', 'Recipient'), ('(2)\\n\\n\\n', 'Recipient'), ('1]\\n', 'Recipient'), ('Chattel', 'Recipient'), ('Mortgages\\n', 'Recipient'), ('Crops\\n', 'Recipient'), ('A', 'Recipient'), ('growing', 'Recipient'), ('crop', 'Recipient'), ('has', 'Recipient'), ('such', 'Recipient'), ('an', 'Recipient'), ('existence', 'Recipient'), ('as', 'Recipient'), ('to', 'Recipient'), ('be', 'Recipient'), ('the', 'Recipient'), ('subject-matter', 'Recipient'), ('of', 'Recipient'), ('a', 'Recipient'), ('mortgage', 'Recipient'), ('or', 'Recipient'), ('other', 'Recipient'), ('contract', 'Recipient'), ('which', 'Recipient'), ('passes', 'Recipient'), ('an', 'Recipient'), ('interest', 'Recipient'), ('to', 'Recipient'), ('vest', 'Recipient'), ('in', 'Recipient'), ('possession,', 'Recipient'), ('either', 'Recipient'), ('immediately', 'Recipient'), ('or', 'Recipient'), ('at', 'Recipient'), ('a', 'Recipient'), ('future', 'Recipient'), ('time.\\n', 'Recipient'), ('4', 'Recipient'), ('Cases', 'Recipient'), ('that', 'Recipient'), ('cite', 'Recipient'), ('this', 'Recipient'), ('headnote\\n\\n', 'Recipient'), ('2]\\n', 'Recipient'), ('Creditors’', 'Recipient'), ('Remedies\\n', 'Recipient'), ('Lien', 'Recipient'), ('and', 'Recipient'), ('Priority\\n', 'Recipient'), ('Under', 'Recipient'), ('St.1821,', 'Recipient'), ('prohibiting', 'Recipient'), ('a', 'Recipient'), ('levy', 'Recipient'), ('on', 'Recipient'), ('a', 'Recipient'), ('crop', 'Recipient'), ('until', 'Recipient'), ('it', 'Recipient'), ('has', 'Recipient'), ('been', 'Recipient'), ('gathered,', 'Recipient'), ('no', 'Recipient'), ('lien', 'Recipient'), ('attaches', 'Recipient'), ('in', 'Recipient'), ('favor', 'Recipient'), ('of', 'Recipient'), ('a', 'Recipient'), ('fi.', 'Recipient'), ('fa.', 'Recipient'), ('on', 'Recipient'), ('a', 'Recipient'), ('growing', 'Recipient'), ('crop,', 'Recipient'), ('nor', 'Recipient'), ('does', 'Recipient'), ('such', 'Recipient'), ('lien', 'Recipient'), ('attach', 'Recipient'), ('until', 'Recipient'), ('after', 'Recipient'), ('the', 'Recipient'), ('crop', 'Recipient'), ('has', 'Recipient'), ('been', 'Recipient'), ('gathered.\\n', 'Recipient'), ('5', 'Recipient'), ('Cases', 'Recipient'), ('that', 'Recipient'), ('cite', 'Recipient'), ('this', 'Recipient'), ('headnote\\n\\n', 'Recipient'), ('1', 'Recipient'), ('This', 'Recipient'), ('was', 'Recipient'), ('a', 'Recipient'), ('trial', 'Recipient'), ('of', 'Recipient'), ('the', 'Recipient'), ('right', 'Recipient'), ('of', 'Recipient'), ('property', 'Recipient'), ('under', 'Recipient'), ('the', 'Recipient'), ('statute.', 'Recipient'), ('In', 'Recipient'), ('November,', 'Recipient'), ('1840,', 'Recipient'), ('an', 'Recipient'), ('execution', 'Recipient'), ('issued', 'Recipient'), ('from', 'Recipient'), ('the', 'Recipient'), ('circuit', 'Recipient'), ('court', 'Recipient'), ('of', 'Recipient'), ('Sumter,', 'Recipient'), ('at', 'Recipient'), ('the', 'Recipient'), ('suit', 'Recipient'), ('of', 'Recipient'), ('the', 'Recipient'), ('plaintiff', 'Recipient'), ('in', 'Recipient'), ('error,', 'Recipient'), ('requiring', 'Recipient'), ('the', 'Recipient'), ('sheriff', 'Recipient'), ('of', 'Recipient'), ('that', 'Recipient'), ('county,', 'Recipient'), ('to', 'Recipient'), ('make', 'Recipient'), ('of', 'Recipient'), ('the', 'Recipient'), ('goods,', 'Recipient'), ('&', 'Recipient'), ('c.,', 'Recipient'), ('of', 'Recipient'), ('Allen', 'Recipient'), ('Harrison', 'Recipient'), ('and', 'Recipient'), ('others,', 'Recipient'), ('the', 'Recipient'), ('sum', 'Recipient'), ('of', 'Recipient'), ('thirty-seven', 'Recipient'), ('hundred', 'Recipient'), ('and', 'Recipient'), ('seventy-seven', 'Recipient'), ('80-100', 'Recipient'), ('dollars,', 'Recipient'), ('besides', 'Recipient'), ('costs.', 'Recipient'), ('This', 'Recipient'), ('execution', 'Recipient'), ('was', 'Recipient'), ('levied', 'Recipient'), ('on', 'Recipient'), ('thirty', 'Recipient'), ('bales', 'Recipient'), ('of', 'Recipient'), ('cotton,', 'Recipient'), ('as', 'Recipient'), ('the', 'Recipient'), ('property', 'Recipient'), ('of', 'Recipient'), ('Allen', 'Recipient'), ('Harrison,', 'Recipient'), ('which', 'Recipient'), ('was', 'Recipient'), ('claimed,', 'Recipient'), ('and', 'Recipient'), ('a', 'Recipient'), ('bond', 'Recipient'), ('given', 'Recipient'), ('to', 'Recipient'), ('try', 'Recipient'), ('the', 'Recipient'), ('right.', 'Recipient'), ('An', 'Recipient'), ('issue', 'Recipient'), ('was', 'Recipient'), ('made', 'Recipient'), ('up', 'Recipient'), ('to', 'Recipient'), ('try', 'Recipient'), ('the', 'Recipient'), ('question', 'Recipient'), ('of', 'Recipient'), ('the', 'Recipient'), ('liability', 'Recipient'), ('of', 'Recipient'), ('the', 'Recipient'), ('cotton', 'Recipient'), ('to', 'Recipient'), ('the', 'Recipient'), ('plaintiff’s', 'Recipient'), ('execution,', 'Recipient'), ('and', 'Recipient'), ('submitted', 'Recipient'), ('to', 'Recipient'), ('a', 'Recipient'), ('jury.', 'Recipient'), ('On', 'Recipient'), ('the', 'Recipient'), ('trial,', 'Recipient'), ('a', 'Recipient'), ('bill', 'Recipient'), ('of', 'Recipient'), ('exceptions', 'Recipient'), ('was', 'Recipient'), ('sealed', 'Recipient'), ('at', 'Recipient'), ('the', 'Recipient'), ('instance', 'Recipient'), ('of', 'Recipient'), ('the', 'Recipient'), ('plaintiff.', 'Recipient'), ('The', 'Recipient'), ('plaintiff', 'Recipient'), ('proved', 'Recipient'), ('that', 'Recipient'), ('he', 'Recipient'), ('recovered', 'Recipient'), ('his', 'Recipient'), ('judgment', 'Recipient'), ('in', 'Recipient'), ('October,', 'Recipient'), ('1839;', 'Recipient'), ('that', 'Recipient'), ('an', 'Recipient'), ('execution', 'Recipient'), ('741', 'Recipient'), ('was', 'Recipient'), ('issued', 'Recipient'), ('thereon', 'Recipient'), ('on', 'Recipient'), ('the', 'Recipient'), ('7th', 'Recipient'), ('Nov.', 'Recipient'), ('thereafter,', 'Recipient'), ('and', 'Recipient'), ('that', 'Recipient'), ('alias', 'Recipient'), ('and', 'Recipient'), ('pluries', 'Recipient'), ('fieri', 'Recipient'), ('facias’,', 'Recipient'), ('issued', 'Recipient'), ('regularly', 'Recipient'), ('up', 'Recipient'), ('to', 'Recipient'), ('the', 'Recipient'), ('time', 'Recipient'), ('levy', 'Recipient'), ('was', 'Recipient'), ('made;', 'Recipient'), ('that', 'Recipient'), ('the', 'Recipient'), ('cotton', 'Recipient'), ('levied', 'Recipient'), ('on', 'Recipient'), ('was', 'Recipient'), ('growed', 'Recipient'), ('on', 'Recipient'), ('the', 'Recipient'), ('plantation', 'Recipient'), ('of', 'Recipient'), ('Harrison,', 'Recipient'), ('and', 'Recipient'), ('cultivated', 'Recipient'), ('by', 'Recipient'), ('the', 'Recipient'), ('hands', 'Recipient'), ('in', 'Recipient'), ('his', 'Recipient'), ('service.', 'Recipient'), ('It', 'Recipient'), ('was', 'Recipient'), ('proved', 'Recipient'), ('by', 'Recipient'), ('the', 'Recipient'), ('claimants,', 'Recipient'), ('by', 'Recipient'), ('the', 'Recipient'), ('production', 'Recipient'), ('of', 'Recipient'), ('a', 'Recipient'), ('written', 'Recipient'), ('contract,', 'Recipient'), ('that', 'Recipient'), ('Harrison,', 'Recipient'), ('on', 'Recipient'), ('the', 'Recipient'), ('twenty-second', 'Recipient'), ('of', 'Recipient'), ('May,', 'Recipient'), ('1840,', 'Recipient'), ('in', 'Recipient'), ('consideration', 'Recipient'), ('that', 'Recipient'), ('the', 'Recipient'), ('claimants', 'Recipient'), ('were', 'Recipient'), ('involved,', 'Recipient'), ('as', 'Recipient'), ('indorsers', 'Recipient'), ('for', 'Recipient'), ('Burton', 'Recipient'), ('&', 'Recipient'), ('Harrison', 'Recipient'), ('of', 'Recipient'), ('Sumter', 'Recipient'), ('county,', 'Recipient'), ('and', 'Recipient'), ('were', 'Recipient'), ('then', 'Recipient'), ('exposed', 'Recipient'), ('to', 'Recipient'), ('an', 'Recipient'), ('execution,', 'Recipient'), ('amounting', 'Recipient'), ('to', 'Recipient'), ('upwards', 'Recipient'), ('of', 'Recipient'), ('fourteen', 'Recipient'), ('thousand', 'Recipient'), ('dollars,', 'Recipient'), ('bargained', 'Recipient'), ('and', 'Recipient'), ('sold', 'Recipient'), ('to', 'Recipient'), ('the', 'Recipient'), ('claimants', 'Recipient'), ('all', 'Recipient'), ('his', 'Recipient'), ('growing', 'Recipient'), ('crop', 'Recipient'), ('of', 'Recipient'), ('cotton', 'Recipient'), ('&', 'Recipient'), ('c.,', 'Recipient'), ('consisting', 'Recipient'), ('of', 'Recipient'), ('one', 'Recipient'), ('hundred', 'Recipient'), ('and', 'Recipient'), ('twenty', 'Recipient'), ('acres,', 'Recipient'), ('&', 'Recipient'), ('c.', 'Recipient'), ('Allen', 'Recipient'), ('Harrison', 'Recipient'), ('promised', 'Recipient'), ('and', 'Recipient'), ('obliged', 'Recipient'), ('himself', 'Recipient'), ('to', 'Recipient'), ('give', 'Recipient'), ('up', 'Recipient'), ('his', 'Recipient'), ('crop', 'Recipient'), ('to', 'Recipient'), ('the', 'Recipient'), ('use', 'Recipient'), ('of', 'Recipient'), ('the', 'Recipient'), ('claimants', 'Recipient'), ('at', 'Recipient'), ('any', 'Recipient'), ('time', 'Recipient'), ('to', 'Recipient'), ('save', 'Recipient'), ('them', 'Recipient'), ('from', 'Recipient'), ('suffering', 'Recipient'), ('as', 'Recipient'), ('his', 'Recipient'), ('indorsers;', 'Recipient'), ('if', 'Recipient'), ('the', 'Recipient'), ('crop', 'Recipient'), ('matured', 'Recipient'), ('and', 'Recipient'), ('was', 'Recipient'), ('gathered', 'Recipient'), ('he', 'Recipient'), ('undertook', 'Recipient'), ('to', 'Recipient'), ('deliver', 'Recipient'), ('the', 'Recipient'), ('cotton', 'Recipient'), ('in', 'Recipient'), ('Gainesville.', 'Recipient'), ('The', 'Recipient'), ('claimants', 'Recipient'), ('came', 'Recipient'), ('from', 'Recipient'), ('Tennessee,', 'Recipient'), ('(where', 'Recipient'), ('they', 'Recipient'), ('resided)', 'Recipient'), ('about', 'Recipient'), ('the', 'Recipient'), ('first', 'Recipient'), ('of', 'Recipient'), ('September,', 'Recipient'), ('1840,', 'Recipient'), ('bringing', 'Recipient'), ('with', 'Recipient'), ('them', 'Recipient'), ('three', 'Recipient'), ('or', 'Recipient'), ('four', 'Recipient'), ('white', 'Recipient'), ('laborers,', 'Recipient'), ('and', 'Recipient'), ('took', 'Recipient'), ('possession', 'Recipient'), ('of', 'Recipient'), ('the', 'Recipient'), ('crop', 'Recipient'), ('and', 'Recipient'), ('slaves,', 'Recipient'), ('and', 'Recipient'), ('with', 'Recipient'), ('the', 'Recipient'), ('latter,', 'Recipient'), ('and', 'Recipient'), ('white', 'Recipient'), ('laborers,', 'Recipient'), ('gathered', 'Recipient'), ('the', 'Recipient'), ('cotton,', 'Recipient'), ('prepared', 'Recipient'), ('it', 'Recipient'), ('for', 'Recipient'), ('market,', 'Recipient'), ('and', 'Recipient'), ('when', 'Recipient'), ('levied', 'Recipient'), ('on,', 'Recipient'), ('it', 'Recipient'), ('was', 'Recipient'), ('in', 'Recipient'), ('a', 'Recipient'), ('ware-house', 'Recipient'), ('in', 'Recipient'), ('Gainesville.', 'Recipient'), ('The', 'Recipient'), ('plaintiff', 'Recipient'), ('then', 'Recipient'), ('proved', 'Recipient'), ('by', 'Recipient'), ('Harrison,', 'Recipient'), ('that', 'Recipient'), ('the', 'Recipient'), ('claimants', 'Recipient'), ('took', 'Recipient'), ('possession', 'Recipient'), ('of', 'Recipient'), ('the', 'Recipient'), ('crop,', 'Recipient'), ('while', 'Recipient'), ('he', 'Recipient'), ('was', 'Recipient'), ('absent,', 'Recipient'), ('and', 'Recipient'), ('disposed', 'Recipient'), ('of', 'Recipient'), ('it', 'Recipient'), ('without', 'Recipient'), ('his', 'Recipient'), ('consent.', 'Recipient'), ('It', 'Recipient'), ('was', 'Recipient'), ('admitted,', 'Recipient'), ('that', 'Recipient'), ('the', 'Recipient'), ('contract', 'Recipient'), ('was', 'Recipient'), ('made', 'Recipient'), ('in', 'Recipient'), ('good', 'Recipient'), ('faith.\\n', 'Recipient'), ('The', 'Recipient'), ('court', 'Recipient'), ('charged', 'Recipient'), ('the', 'Recipient'), ('jury,', 'Recipient'), ('that', 'Recipient'), ('the', 'Recipient'), ('plaintiff', 'Recipient'), ('had', 'Recipient'), ('no', 'Recipient'), ('lien', 'Recipient'), ('by', 'Recipient'), ('virtue', 'Recipient'), ('of', 'Recipient'), ('his', 'Recipient'), ('judgment,', 'Recipient'), ('and', 'Recipient'), ('execution', 'Recipient'), ('on', 'Recipient'), ('the', 'Recipient'), ('growing', 'Recipient'), ('crop;', 'Recipient'), ('that', 'Recipient'), ('Harrison', 'Recipient'), ('had', 'Recipient'), ('a', 'Recipient'), ('right', 'Recipient'), ('to', 'Recipient'), ('convey', 'Recipient'), ('it,', 'Recipient'), ('without', 'Recipient'), ('being', 'Recipient'), ('in', 'Recipient'), ('any', 'Recipient'), ('manner', 'Recipient'), ('restrained', 'Recipient'), ('by', 'Recipient'), ('them;', 'Recipient'), ('that', 'Recipient'), ('the', 'Recipient'), ('writing', 'Recipient'), ('adduced,', 'Recipient'), ('was', 'Recipient'), ('a', 'Recipient'), ('sale', 'Recipient'), ('of', 'Recipient'), ('the', 'Recipient'), ('crop,', 'Recipient'), ('but', 'Recipient'), ('if', 'Recipient'), ('it', 'Recipient'), ('was', 'Recipient'), ('not,', 'Recipient'), ('and', 'Recipient'), ('the', 'Recipient'), ('lien', 'Recipient'), ('of', 'Recipient'), ('the', 'Recipient'), ('fieri', 'Recipient'), ('facias', 'Recipient'), ('would', 'Recipient'), ('have', 'Recipient'), ('attached', 'Recipient'), ('upon', 'Recipient'), ('it,', 'Recipient'), ('when', 'Recipient'), ('gathered,', 'Recipient'), ('yet', 'Recipient'), ('if', 'Recipient'), ('the', 'Recipient'), ('claimants', 'Recipient'), ('obtained', 'Recipient'), ('possession', 'Recipient'), ('on', 'Recipient'), ('the', 'Recipient'), ('first', 'Recipient'), ('of', 'Recipient'), ('September,', 'Recipient'), ('and', 'Recipient'), ('controlled', 'Recipient'), ('the', 'Recipient'), ('gathering', 'Recipient'), ('of', 'Recipient'), ('the', 'Recipient'), ('crop,', 'Recipient'), ('then', 'Recipient'), ('no', 'Recipient'), ('lien', 'Recipient'), ('attached,', 'Recipient'), ('and', 'Recipient'), ('it', 'Recipient'), ('was', 'Recipient'), ('not', 'Recipient'), ('subject', 'Recipient'), ('to', 'Recipient'), ('the', 'Recipient'), ('levy.\\n', 'Recipient'), ('Attorneys', 'Recipient'), ('and', 'Recipient'), ('Law', 'Recipient'), ('Firms\\n', 'Recipient'), ('R.', 'Recipient'), ('H.', 'Recipient'), ('SMITH,', 'Recipient'), ('for', 'Recipient'), ('the', 'Recipient'), ('plaintiff,', 'Recipient'), ('in', 'Recipient'), ('error,', 'Recipient'), ('made', 'Recipient'), ('the', 'Recipient'), ('following', 'Recipient'), ('points.--1.', 'Recipient'), ('The', 'Recipient'), ('crop', 'Recipient'), ('of', 'Recipient'), ('Harrison,', 'Recipient'), ('must,', 'Recipient'), ('in', 'Recipient'), ('May,', 'Recipient'), ('1840,', 'Recipient'), ('have', 'Recipient'), ('been', 'Recipient'), ('in', 'Recipient'), ('an', 'Recipient'), ('immature', 'Recipient'), ('state,', 'Recipient'), ('and', 'Recipient'), ('it', 'Recipient'), ('is', 'Recipient'), ('insisted,', 'Recipient'), ('was', 'Recipient'), ('not', 'Recipient'), ('the', 'Recipient'), ('subject', 'Recipient'), ('of', 'Recipient'), ('a', 'Recipient'), ('sale.', 'Recipient'), ('2.', 'Recipient'), ('By', 'Recipient'), ('the', 'Recipient'), ('common', 'Recipient'), ('law,', 'Recipient'), ('a', 'Recipient'), ('growing', 'Recipient'), ('crop', 'Recipient'), ('could', 'Recipient'), ('be', 'Recipient'), ('levied', 'Recipient'), ('on', 'Recipient'), ('and', 'Recipient'), ('sold,', 'SubaddressType'), ('1', 'SubaddressIdentifier'), ('Salk.', 'SubaddressType'), ('Rep.', 'SubaddressType'), ('361;', 'SubaddressIdentifier'), ('1', 'SubaddressIdentifier'), ('Bos.', 'SubaddressType'), ('&', 'SubaddressIdentifier'), ('P.', 'USPSBoxType'), ('Rep.', 'USPSBoxType'), ('307;', 'USPSBoxID'), ('6', 'USPSBoxID'), ('East’s', 'USPSBoxID'), ('Rep.', 'SubaddressType'), ('604,', 'SubaddressIdentifier'), ('note', 'SubaddressType'), ('1;', 'SubaddressIdentifier'), ('2', 'SubaddressIdentifier'), ('Johns.', 'SubaddressType'), ('Rep.', 'SubaddressType'), ('418,', 'SubaddressIdentifier'), ('422;', 'SubaddressIdentifier'), ('7', 'AddressNumber'), ('Mass.', 'StreetName'), ('Rep.', 'StreetName'), ('34,', 'StreetName'), ('and', 'Recipient'), ('our', 'Recipient'), ('statue,', 'Recipient'), ('Aik.', 'Recipient'), ('Dig.', 'Recipient'), ('41,', 'Recipient'), ('p.', 'Recipient'), ('167,', 'Recipient'), ('which', 'Recipient'), ('forbids', 'Recipient'), ('the', 'Recipient'), ('levy', 'Recipient'), ('of', 'Recipient'), ('an', 'Recipient'), ('742', 'Recipient'), ('execution', 'Recipient'), ('on', 'Recipient'), ('a', 'Recipient'), ('growing', 'Recipient'), ('crop,', 'Recipient'), ('is', 'Recipient'), ('to', 'Recipient'), ('receive', 'Recipient'), ('a', 'Recipient'), ('strict', 'Recipient'), ('construction.', 'Recipient'), ('It', 'Recipient'), ('merely', 'Recipient'), ('inhibits', 'Recipient'), ('the', 'Recipient'), ('levy,', 'Recipient'), ('but', 'Recipient'), ('the', 'Recipient'), ('lien', 'Recipient'), ('attaches,', 'Recipient'), ('and', 'Recipient'), ('a', 'Recipient'), ('levy', 'Recipient'), ('and', 'Recipient'), ('sale', 'Recipient'), ('may', 'Recipient'), ('be', 'Recipient'), ('made', 'Recipient'), ('after', 'Recipient'), ('the', 'Recipient'), ('crop', 'Recipient'), ('matures,', 'Recipient'), ('and', 'Recipient'), ('is', 'Recipient'), ('gathered.', 'Recipient'), ('3.', 'Recipient'), ('The', 'Recipient'), ('contract', 'Recipient'), ('does', 'Recipient'), ('not', 'Recipient'), ('purport', 'Recipient'), ('to', 'Recipient'), ('convey', 'Recipient'), ('the', 'Recipient'), ('growing', 'Recipient'), ('crop,', 'Recipient'), ('but', 'Recipient'), ('is', 'Recipient'), ('a', 'Recipient'), ('mere', 'Recipient'), ('executory', 'Recipient'), ('agreement,', 'Recipient'), ('requiring', 'Recipient'), ('some', 'Recipient'), ('act', 'Recipient'), ('to', 'Recipient'), ('be', 'Recipient'), ('done', 'Recipient'), ('by', 'Recipient'), ('Harrison,', 'Recipient'), ('in', 'Recipient'), ('order', 'Recipient'), ('to', 'Recipient'), ('invest', 'Recipient'), ('the', 'Recipient'), ('claimants', 'Recipient'), ('with', 'Recipient'), ('the', 'Recipient'), ('right', 'Recipient'), ('of', 'Recipient'), ('property.', 'Recipient'), ('Chit.', 'Recipient'), ('on', 'Recipient'), ('Con.', 'USPSBoxType'), ('112,', 'USPSBoxID'), ('207;', 'SubaddressIdentifier'), ('3', 'SubaddressIdentifier'), ('Johns.', 'SubaddressType'), ('Rep.', 'SubaddressType'), ('338,', 'SubaddressIdentifier'), ('424;', 'SubaddressIdentifier'), ('5', 'SubaddressIdentifier'), ('Wend.', 'SubaddressType'), ('Rep.', 'SubaddressType'), ('26;', 'SubaddressIdentifier'), ('13', 'SubaddressIdentifier'), ('Johns.', 'SubaddressType'), ('Rep.', 'SubaddressType'), ('235;', 'SubaddressIdentifier'), ('8', 'SubaddressIdentifier'), ('Dowl.', 'SubaddressType'), ('Rep,', 'SubaddressType'), ('693;', 'SubaddressIdentifier'), ('and', 'Recipient'), ('until', 'Recipient'), ('this', 'Recipient'), ('act', 'Recipient'), ('was', 'Recipient'), ('done,', 'Recipient'), ('the', 'Recipient'), ('crop,', 'Recipient'), ('no', 'Recipient'), ('matter', 'Recipient'), ('by', 'Recipient'), ('who', 'Recipient'), ('gathered,', 'Recipient'), ('because', 'Recipient'), ('liable', 'Recipient'), ('to', 'Recipient'), ('be', 'Recipient'), ('seized', 'Recipient'), ('for', 'Recipient'), ('Harrison’s', 'Recipient'), ('debts.', 'Recipient'), ('A', 'Recipient'), ('court', 'Recipient'), ('of', 'Recipient'), ('chancery', 'Recipient'), ('would', 'Recipient'), ('not', 'Recipient'), ('compel', 'Recipient'), ('a', 'Recipient'), ('specific', 'Recipient'), ('performance', 'Recipient'), ('of', 'Recipient'), ('the', 'Recipient'), ('contract', 'Recipient'), ('at', 'Recipient'), ('the', 'Recipient'), ('claimant’s', 'Recipient'), ('instance.', 'Recipient'), ('4.', 'Recipient'), ('The', 'Recipient'), ('charge', 'Recipient'), ('of', 'Recipient'), ('the', 'Recipient'), ('court', 'Recipient'), ('is', 'Recipient'), ('also', 'Recipient'), ('objectionable', 'Recipient'), ('in', 'Recipient'), ('deciding', 'Recipient'), ('disputed', 'Recipient'), ('facts.\\n', 'Recipient'), ('W.', 'Recipient'), ('M.', 'Recipient'), ('MURPHY,', 'Recipient'), ('with', 'Recipient'), ('whom', 'Recipient'), ('was', 'Recipient'), ('W.', 'Recipient'), ('G.', 'Recipient'), ('JONES,', 'Recipient'), ('for', 'Recipient'), ('the', 'Recipient'), ('defendant--cited', 'Recipient'), ('the', 'Recipient'), ('act', 'Recipient'), ('of', 'Recipient'), ('1821,', 'Recipient'), ('Aik.', 'Recipient'), ('Dig.', 'Recipient'), ('167,', 'Recipient'), ('which', 'Recipient'), ('declares', 'Recipient'), ('it', 'Recipient'), ('to', 'Recipient'), ('be', 'Recipient'), ('lawful', 'Recipient'), ('to', 'Recipient'), ('levy', 'Recipient'), ('an', 'Recipient'), ('execution', 'Recipient'), ('on', 'Recipient'), ('a', 'Recipient'), ('planted', 'Recipient'), ('crop,', 'Recipient'), ('until', 'Recipient'), ('it', 'Recipient'), ('is', 'Recipient'), ('gathered,', 'Recipient'), ('and', 'Recipient'), ('contended', 'Recipient'), ('that', 'Recipient'), ('no', 'Recipient'), ('lien', 'Recipient'), ('attached', 'Recipient'), ('in', 'Recipient'), ('favor', 'Recipient'), ('of', 'Recipient'), ('the', 'Recipient'), ('plaintiff.', 'Recipient'), ('This', 'Recipient'), ('being', 'Recipient'), ('the', 'Recipient'), ('case,', 'Recipient'), ('the', 'Recipient'), ('defendant', 'Recipient'), ('in', 'Recipient'), ('execution', 'Recipient'), ('was', 'Recipient'), ('not', 'Recipient'), ('restrained', 'Recipient'), ('from', 'Recipient'), ('making', 'Recipient'), ('the', 'Recipient'), ('contract', 'Recipient'), ('which', 'Recipient'), ('he', 'Recipient'), ('did', 'Recipient'), ('with', 'Recipient'), ('the', 'Recipient'), ('claimants.\\n', 'Recipient'), ('2', 'Recipient'), ('The', 'Recipient'), ('lien', 'Recipient'), ('of', 'Recipient'), ('an', 'Recipient'), ('execution', 'Recipient'), ('is', 'Recipient'), ('destroyed', 'Recipient'), ('by', 'Recipient'), ('an', 'Recipient'), ('injunction,', 'Recipient'), ('because', 'Recipient'), ('it', 'Recipient'), ('takes', 'Recipient'), ('away', 'Recipient'), ('the', 'Recipient'), ('right', 'Recipient'), ('to', 'Recipient'), ('levy', 'Recipient'), ('it.', 'Recipient'), ('In', 'Recipient'), ('short,', 'Recipient'), ('whenever', 'Recipient'), ('the', 'Recipient'), ('right', 'Recipient'), ('to', 'Recipient'), ('levy', 'Recipient'), ('an', 'Recipient'), ('execution', 'Recipient'), ('is', 'Recipient'), ('but', 'Recipient'), ('temporarily', 'Recipient'), ('suspended,', 'Recipient'), ('or', 'Recipient'), ('withdrawn,', 'Recipient'), ('the', 'Recipient'), ('lien', 'Recipient'), ('is', 'Recipient'), ('during', 'Recipient'), ('that', 'Recipient'), ('time', 'Recipient'), ('lost.', 'Recipient'), ('Whipple', 'Recipient'), ('v.', 'Recipient'), ('Foot,', 'Recipient'), ('2', 'Recipient'), ('Johns.', 'Recipient'), ('Rep.', 'Recipient'), ('216;', 'Recipient'), ('3', 'Recipient'), ('Wash.', 'Recipient'), ('C.', 'Recipient'), ('C.', 'Recipient'), ('Rep.', 'Recipient'), ('66;', 'Recipient'), ('4', 'Recipient'), ('How.', 'Recipient'), ('Rep.', 'Recipient'), ('130.]\\n', 'Recipient'), ('It', 'Recipient'), ('is', 'Recipient'), ('admitted', 'Recipient'), ('that', 'Recipient'), ('the', 'Recipient'), ('contract', 'Recipient'), ('between', 'Recipient'), ('the', 'Recipient'), ('defendant', 'Recipient'), ('in', 'Recipient'), ('execution,', 'Recipient'), ('and', 'Recipient'), ('the', 'Recipient'), ('claimants,', 'Recipient'), ('was', 'Recipient'), ('in', 'Recipient'), ('good', 'Recipient'), ('faith,', 'Recipient'), ('if', 'Recipient'), ('so,', 'Recipient'), ('the', 'Recipient'), ('severance', 'Recipient'), ('and', 'Recipient'), ('removal', 'Recipient'), ('of', 'Recipient'), ('the', 'Recipient'), ('cotton', 'Recipient'), ('gave', 'Recipient'), ('the', 'Recipient'), ('latter', 'Recipient'), ('a', 'Recipient'), ('good', 'Recipient'), ('title', 'Recipient'), ('against', 'Recipient'), ('all', 'Recipient'), ('creditors', 'Recipient'), ('of', 'Recipient'), ('the', 'Recipient'), ('former.\\n', 'Recipient'), ('Opinion\\n\\n', 'Recipient'), ('COLLIER,', 'Recipient'), ('C.', 'Recipient'), ('J.\\n\\n', 'Recipient'), ('There', 'Recipient'), ('can', 'Recipient'), ('be', 'Recipient'), ('no', 'Recipient'), ('doubt', 'Recipient'), ('that', 'Recipient'), ('a', 'Recipient'), ('growing', 'Recipient'), ('crop', 'Recipient'), ('has', 'Recipient'), ('such', 'Recipient'), ('an', 'Recipient'), ('existence', 'Recipient'), ('as', 'Recipient'), ('to', 'Recipient'), ('be', 'Recipient'), ('the', 'Recipient'), ('subject', 'Recipient'), ('matter', 'Recipient'), ('of', 'Recipient'), ('a', 'Recipient'), ('sale,', 'Recipient'), ('mortgage,', 'Recipient'), ('or', 'Recipient'), ('other', 'Recipient'), ('contract', 'Recipient'), ('which', 'Recipient'), ('possess', 'Recipient'), ('an', 'Recipient'), ('interest', 'Recipient'), ('to', 'Recipient'), ('vest', 'Recipient'), ('in', 'Recipient'), ('possession,', 'Recipient'), ('either', 'Recipient'), ('immediately', 'Recipient'), ('or', 'Recipient'), ('at', 'Recipient'), ('some', 'Recipient'), ('future', 'Recipient'), ('time.', 'Recipient'), ('This', 'Recipient'), ('proposition', 'Recipient'), ('has', 'Recipient'), ('frequently', 'Recipient'), ('been', 'Recipient'), ('assumed', 'Recipient'), ('as', 'Recipient'), ('unquestionable;', 'Recipient'), ('the', 'Recipient'), ('point', 'Recipient'), ('of', 'Recipient'), ('inquiry', 'Recipient'), ('generally', 'Recipient'), ('being,', 'Recipient'), ('whether', 'Recipient'), ('under', 'Recipient'), ('a', 'Recipient'), ('statute', 'Recipient'), ('of', 'Recipient'), ('frauds,', 'Recipient'), ('such', 'Recipient'), ('as', 'Recipient'), ('the', 'Recipient'), ('29', 'AddressNumber'), ('Chas.', 'StreetName'), ('2,', 'OccupancyIdentifier'), ('it', 'Recipient'), ('is', 'Recipient'), ('a', 'Recipient'), ('mere', 'Recipient'), ('chattel,', 'Recipient'), ('and', 'Recipient'), ('transferrable', 'Recipient'), ('by', 'Recipient'), ('parol', 'Recipient'), ('without', 'Recipient'), ('writing.', 'Recipient'), ('Chitty', 'Recipient'), ('on', 'Recipient'), ('Con.', 'Recipient'), ('241-2,', 'Recipient'), ('332;', 'Recipient'), ('Whipple', 'Recipient'), ('v.', 'Recipient'), ('Foot,', 'Recipient'), ('2', 'Recipient'), ('Johns.', 'Recipient'), ('Rep.', 'Recipient'), ('422;', 'Recipient'), ('Stewart', 'Recipient'), ('v.', 'Recipient'), ('Doughty,', 'Recipient'), ('9', 'Recipient'), ('Johns.', 'Recipient'), ('Rep.', 'Recipient'), ('112;', 'Recipient'), ('743', 'Recipient'), ('Austin', 'Recipient'), ('v.', 'Recipient'), ('Sawyer,', 'Recipient'), ('9', 'Recipient'), ('Cow.', 'Recipient'), ('Rep.', 'Recipient'), ('39.', 'Recipient'), ('See', 'Recipient'), ('also', 'Recipient'), ('Ravesies', 'Recipient'), ('v.', 'Recipient'), ('Lee', 'Recipient'), ('&', 'Recipient'), ('Alston,', 'Recipient'), ('at', 'Recipient'), ('last', 'Recipient'), ('term.]', 'Recipient'), ('The', 'Recipient'), ('contract', 'Recipient'), ('set', 'Recipient'), ('out', 'Recipient'), ('in', 'Recipient'), ('the', 'Recipient'), ('bill', 'Recipient'), ('of', 'Recipient'), ('exceptions,', 'Recipient'), ('we', 'Recipient'), ('are', 'Recipient'), ('inclined', 'Recipient'), ('to', 'Recipient'), ('think', 'Recipient'), ('evidences', 'Recipient'), ('rather', 'Recipient'), ('a', 'Recipient'), ('mortgage', 'Recipient'), ('than', 'Recipient'), ('an', 'Recipient'), ('absolute', 'Recipient'), ('sale.', 'Recipient'), ('It', 'Recipient'), ('recites', 'Recipient'), ('that', 'Recipient'), ('the', 'Recipient'), ('claimants', 'Recipient'), ('are', 'Recipient'), ('involved', 'Recipient'), ('as', 'Recipient'), ('indorsers', 'Recipient'), ('of', 'Recipient'), ('a', 'Recipient'), ('mercantile', 'Recipient'), ('firm,', 'Recipient'), ('of', 'Recipient'), ('which', 'Recipient'), ('the', 'Recipient'), ('defendant', 'Recipient'), ('was', 'Recipient'), ('a', 'Recipient'), ('partner;', 'Recipient'), ('that', 'Recipient'), ('an', 'Recipient'), ('execution', 'Recipient'), ('for', 'Recipient'), ('upwards', 'Recipient'), ('of', 'Recipient'), ('fourteen', 'Recipient'), ('thousand', 'Recipient'), ('dollars', 'Recipient'), ('against', 'Recipient'), ('their', 'Recipient'), ('estate,', 'Recipient'), ('is', 'Recipient'), ('in', 'Recipient'), ('the', 'Recipient'), ('sheriff’s', 'Recipient'), ('hands,', 'Recipient'), ('and', 'Recipient'), ('that', 'Recipient'), ('a', 'Recipient'), ('conveyance', 'Recipient'), ('is', 'Recipient'), ('made', 'Recipient'), ('of', 'Recipient'), ('the', 'Recipient'), ('crop', 'Recipient'), ('of', 'Recipient'), ('cotton,', 'Recipient'), ('corn', 'Recipient'), ('and', 'Recipient'), ('oats,', 'Recipient'), ('which', 'Recipient'), ('the', 'Recipient'), ('grantor', 'Recipient'), ('agrees', 'Recipient'), ('to', 'Recipient'), ('give', 'Recipient'), ('up', 'Recipient'), ('at', 'Recipient'), ('any', 'Recipient'), ('time', 'Recipient'), ('to', 'Recipient'), ('the', 'Recipient'), ('use', 'Recipient'), ('of', 'Recipient'), ('the', 'Recipient'), ('claimants,', 'Recipient'), ('so', 'Recipient'), ('as', 'Recipient'), ('to', 'Recipient'), ('prevent', 'Recipient'), ('injury', 'Recipient'), ('to', 'Recipient'), ('them', 'Recipient'), ('as', 'Recipient'), ('indorsers.', 'Recipient'), ('The', 'Recipient'), ('defendant', 'Recipient'), ('in', 'Recipient'), ('execution', 'Recipient'), ('might', 'Recipient'), ('at', 'Recipient'), ('any', 'Recipient'), ('time', 'Recipient'), ('have', 'Recipient'), ('divested', 'Recipient'), ('the', 'Recipient'), ('interest', 'Recipient'), ('which', 'Recipient'), ('the', 'Recipient'), ('contract', 'Recipient'), ('vested', 'Recipient'), ('in', 'Recipient'), ('the', 'Recipient'), ('claimants,', 'Recipient'), ('by', 'Recipient'), ('discharging', 'Recipient'), ('their', 'Recipient'), ('liability', 'Recipient'), ('as', 'Recipient'), ('his', 'Recipient'), ('indorsers,', 'Recipient'), ('or', 'Recipient'), ('a', 'Recipient'), ('judgment', 'Recipient'), ('creditor', 'Recipient'), ('might', 'Recipient'), ('have', 'Recipient'), ('satisfied', 'Recipient'), ('the', 'Recipient'), ('lien,', 'Recipient'), ('and', 'Recipient'), ('when', 'Recipient'), ('the', 'Recipient'), ('crop', 'Recipient'), ('was', 'Recipient'), ('gathered,', 'Recipient'), ('have', 'Recipient'), ('levied', 'Recipient'), ('on,', 'Recipient'), ('and', 'Recipient'), ('sold', 'Recipient'), ('it', 'Recipient'), ('under', 'Recipient'), ('a', 'Recipient'), ('fieri', 'Recipient'), ('facias.\\n', 'Recipient'), ('We', 'Recipient'), ('will', 'Recipient'), ('then', 'Recipient'), ('consider', 'Recipient'), ('the', 'Recipient'), ('writing', 'Recipient'), ('under', 'Recipient'), ('which', 'Recipient'), ('the', 'Recipient'), ('claimants', 'Recipient'), ('assert', 'Recipient'), ('a', 'Recipient'), ('right,', 'Recipient'), ('as', 'Recipient'), ('a', 'Recipient'), ('mortgage', 'Recipient'), ('with', 'Recipient'), ('a', 'Recipient'), ('power', 'Recipient'), ('to', 'Recipient'), ('take', 'Recipient'), ('possession', 'Recipient'), ('any', 'Recipient'), ('time', 'Recipient'), ('during', 'Recipient'), ('the', 'Recipient'), ('year,', 'Recipient'), ('unless', 'Recipient'), ('they', 'Recipient'), ('should', 'Recipient'), ('be', 'Recipient'), ('relieved', 'Recipient'), ('from', 'Recipient'), ('their', 'Recipient'), ('engagements', 'Recipient'), ('as', 'Recipient'), ('indorsers.', 'Recipient'), ('It', 'Recipient'), ('is', 'Recipient'), ('not', 'Recipient'), ('pretended', 'Recipient'), ('that', 'Recipient'), ('their', 'Recipient'), ('liability', 'Recipient'), ('has', 'Recipient'), ('been', 'Recipient'), ('satisfied,', 'Recipient'), ('and', 'Recipient'), ('it', 'Recipient'), ('is', 'Recipient'), ('admitted', 'Recipient'), ('that', 'Recipient'), ('the', 'Recipient'), ('parties', 'Recipient'), ('have', 'Recipient'), ('acted', 'Recipient'), ('with', 'Recipient'), ('good', 'Recipient'), ('faith,', 'Recipient'), ('so', 'Recipient'), ('that', 'Recipient'), ('it', 'Recipient'), ('is', 'Recipient'), ('a', 'Recipient'), ('dry', 'Recipient'), ('question', 'Recipient'), ('of', 'Recipient'), ('law,', 'Recipient'), ('whether', 'Recipient'), ('the', 'Recipient'), ('right', 'Recipient'), ('of', 'Recipient'), ('the', 'Recipient'), ('plaintiff,', 'Recipient'), ('or', 'Recipient'), ('the', 'Recipient'), ('claimants', 'Recipient'), ('shall', 'Recipient'), ('prevail.', 'Recipient'), ('Assuming', 'Recipient'), ('for', 'Recipient'), ('the', 'Recipient'), ('present', 'Recipient'), ('that', 'Recipient'), ('the', 'Recipient'), ('execution', 'Recipient'), ('of', 'Recipient'), ('the', 'Recipient'), ('plaintiffs', 'Recipient'), ('did', 'Recipient'), ('not', 'Recipient'), ('operate', 'Recipient'), ('a', 'Recipient'), ('lien', 'Recipient'), ('upon', 'Recipient'), ('the', 'Recipient'), ('planted', 'Recipient'), ('crop', 'Recipient'), ('previous', 'Recipient'), ('to', 'Recipient'), ('the', 'Recipient'), ('contract', 'Recipient'), ('of', 'Recipient'), ('May,', 'Recipient'), ('1840,', 'Recipient'), ('we', 'Recipient'), ('will', 'Recipient'), ('inquire', 'Recipient'), ('whether', 'Recipient'), ('the', 'Recipient'), ('defendant', 'Recipient'), ('in', 'Recipient'), ('execution', 'Recipient'), ('had', 'Recipient'), ('such', 'Recipient'), ('an', 'Recipient'), ('interest', 'Recipient'), ('as', 'Recipient'), ('could', 'Recipient'), ('be', 'Recipient'), ('levied', 'Recipient'), ('on', 'Recipient'), ('and', 'Recipient'), ('sold.\\n', 'Recipient'), ('The', 'Recipient'), ('claimants', 'Recipient'), ('had', 'Recipient'), ('previous', 'Recipient'), ('to', 'Recipient'), ('the', 'Recipient'), ('levy', 'Recipient'), ('of', 'Recipient'), ('the', 'Recipient'), ('execution', 'Recipient'), ('taken', 'Recipient'), ('possession', 'Recipient'), ('of', 'Recipient'), ('the', 'Recipient'), ('crop,', 'Recipient'), ('prepared', 'Recipient'), ('the', 'Recipient'), ('cotton', 'Recipient'), ('for', 'Recipient'), ('market,', 'Recipient'), ('and', 'Recipient'), ('removed', 'Recipient'), ('it', 'Recipient'), ('to', 'Recipient'), ('a', 'Recipient'), ('ware-house.', 'Recipient'), ('This', 'Recipient'), ('possession,', 'Recipient'), ('it', 'Recipient'), ('is', 'Recipient'), ('insisted,', 'Recipient'), ('was', 'Recipient'), ('a', 'Recipient'), ('trespass,', 'Recipient'), ('because', 'Recipient'), ('it', 'Recipient'), ('was', 'Recipient'), ('acquired', 'Recipient'), ('in', 'Recipient'), ('the', 'Recipient'), ('absence', 'Recipient'), ('of', 'Recipient'), ('the', 'Recipient'), ('defendant', 'Recipient'), ('in', 'Recipient'), ('execution,', 'Recipient'), ('and', 'Recipient'), ('without', 'Recipient'), ('his', 'Recipient'), ('consent', 'Recipient'), ('then', 'Recipient'), ('given.', 'Recipient'), ('Conceding', 'Recipient'), ('the', 'Recipient'), ('truth', 'Recipient'), ('of', 'Recipient'), ('the', 'Recipient'), ('facts', 'Recipient'), ('stated', 'Recipient'), ('in', 'Recipient'), ('the', 'Recipient'), ('bill', 'Recipient'), ('of', 'Recipient'), ('exceptions,', 'Recipient'), ('and', 'Recipient'), ('we', 'Recipient'), ('think', 'Recipient'), ('it', 'Recipient'), ('will', 'Recipient'), ('not', 'Recipient'), ('follow,', 'Recipient'), ('that', 'Recipient'), ('the', 'Recipient'), ('possession', 'Recipient'), ('of', 'Recipient'), ('the', 'Recipient'), ('claimants', 'Recipient'), ('is', 'Recipient'), ('a', 'Recipient'), ('nullity,', 'Recipient'), ('and', 'Recipient'), ('that', 'Recipient'), ('the', 'Recipient'), ('case', 'Recipient'), ('must', 'Recipient'), ('be', 'Recipient'), ('considered', 'Recipient'), ('as', 'Recipient'), ('if', 'Recipient'), ('they', 'Recipient'), ('had', 'Recipient'), ('never', 'Recipient'), ('interfered', 'Recipient'), ('with', 'Recipient'), ('the', 'Recipient'), ('crop.', 'Recipient'), ('The', 'Recipient'), ('contract', 'Recipient'), ('contains', 'Recipient'), ('an', 'Recipient'), ('express', 'Recipient'), ('undertaking', 'Recipient'), ('to', 'Recipient'), ('give', 'Recipient'), ('up', 'Recipient'), ('the', 'Recipient'), ('crop', 'Recipient'), ('at', 'Recipient'), ('any', 'Recipient'), ('time', 'Recipient'), ('the', 'Recipient'), ('claimants', 'Recipient'), ('might', 'Recipient'), ('require', 'Recipient'), ('it', 'Recipient'), ('for', 'Recipient'), ('their', 'Recipient'), ('indemnity,', 'Recipient'), ('and', 'Recipient'), ('if', 'Recipient'), ('they', 'Recipient'), ('took', 'Recipient'), ('possession', 'Recipient'), ('of', 'Recipient'), ('it', 'Recipient'), ('in', 'Recipient'), ('the', 'Recipient'), ('absence', 'Recipient'), ('of', 'Recipient'), ('the', 'Recipient'), ('grantor,', 'Recipient'), ('(though', 'Recipient'), ('without', 'Recipient'), ('his', 'Recipient'), ('consent,)', 'Recipient'), ('if', 'Recipient'), ('he', 'Recipient'), ('subsequently', 'Recipient'), ('acquiesced', 'Recipient'), ('in', 'Recipient'), ('it,', 'Recipient'), ('the', 'Recipient'), ('inference', 'Recipient'), ('would', 'Recipient'), ('be,', 'Recipient'), ('if', 'Recipient'), ('necessary,', 'Recipient'), ('that', 'Recipient'), ('their', 'Recipient'), ('acts', 'Recipient'), ('were', 'Recipient'), ('approved', 'Recipient'), ('by', 'Recipient'), ('him.', 'Recipient'), ('Taking', 'Recipient'), ('this', 'Recipient'), ('to', 'Recipient'), ('be', 'Recipient'), ('clear', 'Recipient'), ('744', 'Recipient'), ('law,', 'Recipient'), ('and', 'Recipient'), ('it', 'Recipient'), ('will', 'Recipient'), ('be', 'Recipient'), ('seen,', 'Recipient'), ('that', 'Recipient'), ('the', 'Recipient'), ('defendant', 'Recipient'), ('in', 'Recipient'), ('execution', 'Recipient'), ('at', 'Recipient'), ('the', 'Recipient'), ('time', 'Recipient'), ('of', 'Recipient'), ('the', 'Recipient'), ('levy', 'Recipient'), ('had', 'Recipient'), ('nothing', 'Recipient'), ('more', 'Recipient'), ('than', 'Recipient'), ('a', 'Recipient'), ('mere', 'Recipient'), ('equitable', 'Recipient'), ('right', 'Recipient'), ('to', 'Recipient'), ('redeem', 'Recipient'), ('the', 'Recipient'), ('cotton', 'Recipient'), ('by', 'Recipient'), ('paying', 'Recipient'), ('the', 'Recipient'), ('debts', 'Recipient'), ('indorsed', 'Recipient'), ('by', 'Recipient'), ('the', 'Recipient'), ('claimants.', 'Recipient'), ('He', 'Recipient'), ('had', 'Recipient'), ('no', 'Recipient'), ('possession', 'Recipient'), ('coupled', 'Recipient'), ('with', 'Recipient'), ('this', 'Recipient'), ('equity,', 'Recipient'), ('but', 'Recipient'), ('only', 'Recipient'), ('a', 'Recipient'), ('naked', 'Recipient'), ('equity,', 'Recipient'), ('which', 'Recipient'), ('it', 'Recipient'), ('has', 'Recipient'), ('been', 'Recipient'), ('held', 'Recipient'), ('cannot', 'Recipient'), ('be', 'Recipient'), ('reached', 'Recipient'), ('by', 'Recipient'), ('an', 'Recipient'), ('ordinary', 'Recipient'), ('execution.', 'Recipient'), ('Perkins', 'Recipient'), ('and', 'Recipient'), ('Elliott', 'Recipient'), ('v.', 'Recipient'), ('Mayfield,', 'Recipient'), ('5', 'Recipient'), ('Porter’s', 'Recipient'), ('Rep.', 'Recipient'), ('182.]\\n', 'Recipient'), ('3', 'Recipient'), ('This', 'Recipient'), ('brings', 'Recipient'), ('us', 'Recipient'), ('back', 'Recipient'), ('to', 'Recipient'), ('the', 'Recipient'), ('question,', 'Recipient'), ('whether', 'Recipient'), ('the', 'Recipient'), ('execution', 'Recipient'), ('of', 'Recipient'), ('the', 'Recipient'), ('plaintiff', 'Recipient'), ('was', 'Recipient'), ('a', 'Recipient'), ('lien', 'Recipient'), ('on', 'Recipient'), ('the', 'Recipient'), ('growing', 'Recipient'), ('crop,', 'Recipient'), ('so', 'Recipient'), ('as', 'Recipient'), ('to', 'Recipient'), ('defeat', 'Recipient'), ('the', 'Recipient'), ('mortgage', 'Recipient'), ('to', 'Recipient'), ('the', 'Recipient'), ('claimants.', 'Recipient'), ('It', 'Recipient'), ('has', 'Recipient'), ('been', 'Recipient'), ('frequently', 'Recipient'), ('mooted', 'Recipient'), ('whether,', 'Recipient'), ('at', 'Recipient'), ('common', 'Recipient'), ('law,', 'Recipient'), ('corn,', 'Recipient'), ('&', 'Recipient'), ('c.,', 'Recipient'), ('before', 'Recipient'), ('it', 'Recipient'), ('is', 'Recipient'), ('gathered,', 'Recipient'), ('can', 'Recipient'), ('be', 'Recipient'), ('seized', 'Recipient'), ('under', 'Recipient'), ('a', 'Recipient'), ('fieri', 'Recipient'), ('facias.', 'Recipient'), ('Mr.', 'Recipient'), ('Dane,', 'Recipient'), ('in', 'Recipient'), ('remarking', 'Recipient'), ('upon', 'Recipient'), ('this', 'Recipient'), ('point,', 'Recipient'), ('says,', 'Recipient'), ('The', 'Recipient'), ('American', 'Recipient'), ('editor', 'Recipient'), ('of', 'Recipient'), ('Bacon’s', 'Recipient'), ('Abridgment,', 'Recipient'), ('says,', 'Recipient'), ('Wheat', 'Recipient'), ('growing', 'Recipient'), ('in', 'Recipient'), ('the', 'Recipient'), ('ground', 'Recipient'), ('is', 'Recipient'), ('a', 'Recipient'), ('chattel,', 'Recipient'), ('and', 'Recipient'), ('subject', 'Recipient'), ('to', 'Recipient'), ('be', 'Recipient'), ('taken', 'Recipient'), ('in', 'Recipient'), ('execution;', 'Recipient'), ('and', 'Recipient'), ('the', 'Recipient'), ('sheriff', 'Recipient'), ('may', 'Recipient'), ('suffer', 'Recipient'), ('it', 'Recipient'), ('to', 'Recipient'), ('grow', 'Recipient'), ('till', 'Recipient'), ('harvest,', 'Recipient'), ('and', 'Recipient'), ('then', 'Recipient'), ('cut', 'Recipient'), ('and', 'Recipient'), ('sell', 'Recipient'), ('it;', 'Recipient'), ('or', 'Recipient'), ('may', 'Recipient'), ('perhaps', 'Recipient'), ('sell', 'Recipient'), ('it', 'Recipient'), ('growing,', 'Recipient'), ('and', 'Recipient'), ('the', 'Recipient'), ('purchaser', 'Recipient'), ('will', 'Recipient'), ('then', 'Recipient'), ('be', 'Recipient'), ('entitled', 'Recipient'), ('to', 'Recipient'), ('enter,', 'Recipient'), ('for', 'Recipient'), ('the', 'Recipient'), ('purpose', 'Recipient'), ('of', 'Recipient'), ('cutting', 'Recipient'), ('and', 'Recipient'), ('carrying', 'Recipient'), ('it', 'Recipient'), ('away.”', 'Recipient'), ('He', 'Recipient'), ('cites', 'Recipient'), ('Whipple', 'Recipient'), ('v.', 'Recipient'), ('Foot,', 'Recipient'), ('ut', 'Recipient'), ('supra,', 'Recipient'), ('also', 'Recipient'), ('Poole’s', 'Recipient'), ('case,', 'Recipient'), ('Salk.', 'Recipient'), ('368;', 'AddressNumber'), ('1', 'StreetName'), ('Bos.', 'StreetName'), ('&', 'IntersectionSeparator'), ('P.', 'StreetName'), ('397;', 'StreetName'), ('6', 'StreetName'), ('East,', 'StreetNamePostDirectional'), ('604,', 'AddressNumber'), ('n.]', 'StreetNamePreDirectional'), ('But', 'Recipient'), ('Whipple', 'Recipient'), ('v.', 'Recipient'), ('Foot', 'Recipient'), ('seems', 'Recipient'), ('to', 'Recipient'), ('be', 'Recipient'), ('the', 'Recipient'), ('only', 'Recipient'), ('case', 'Recipient'), ('that', 'Recipient'), ('supports', 'Recipient'), ('his', 'Recipient'), ('position,', 'Recipient'), ('that', 'Recipient'), ('unripe', 'Recipient'), ('wheat', 'Recipient'), ('or', 'Recipient'), ('corn', 'Recipient'), ('may', 'Recipient'), ('be', 'Recipient'), ('taken', 'Recipient'), ('in', 'Recipient'), ('execution;', 'Recipient'), ('and', 'Recipient'), ('the', 'Recipient'), ('same', 'Recipient'), ('editor', 'Recipient'), ('states', 'Recipient'), ('that', 'Recipient'), ('nothing', 'Recipient'), ('can', 'Recipient'), ('be', 'Recipient'), ('taken', 'Recipient'), ('in', 'Recipient'), ('execution', 'Recipient'), ('which', 'Recipient'), ('cannot', 'Recipient'), ('be', 'Recipient'), ('sold.', 'Recipient'), ('This', 'Recipient'), ('position,', 'Recipient'), ('says', 'Recipient'), ('the', 'Recipient'), ('learned', 'Recipient'), ('commentator,', 'Recipient'), ('is', 'Recipient'), ('no', 'Recipient'), ('doubt', 'Recipient'), ('law.', 'Recipient'), ('But', 'Recipient'), ('it', 'Recipient'), ('is', 'Recipient'), ('unnecessary', 'Recipient'), ('to', 'Recipient'), ('consider', 'Recipient'), ('how', 'Recipient'), ('this', 'Recipient'), ('matter', 'Recipient'), ('stands', 'Recipient'), ('at', 'Recipient'), ('common', 'Recipient'), ('law.', 'Recipient'), ('The', 'Recipient'), ('first', 'Recipient'), ('section', 'Recipient'), ('of', 'Recipient'), ('the', 'Recipient'), ('act', 'Recipient'), ('of', 'Recipient'), ('1821,', 'Recipient'), ('To', 'Recipient'), ('prevent', 'Recipient'), ('sheriffs', 'Recipient'), ('and', 'Recipient'), ('other', 'Recipient'), ('officers', 'Recipient'), ('from', 'Recipient'), ('levying', 'Recipient'), ('executions', 'Recipient'), ('in', 'Recipient'), ('certain', 'Recipient'), ('cases,', 'Recipient'), ('enacts,', 'Recipient'), ('that', 'Recipient'), ('It', 'Recipient'), ('shall', 'Recipient'), ('not', 'Recipient'), ('be', 'Recipient'), ('lawful', 'Recipient'), ('for', 'Recipient'), ('any', 'Recipient'), ('sheriff', 'Recipient'), ('or', 'Recipient'), ('other', 'Recipient'), ('officer,', 'Recipient'), ('to', 'Recipient'), ('levy', 'Recipient'), ('a', 'Recipient'), ('writ', 'Recipient'), ('of', 'Recipient'), ('fieri', 'Recipient'), ('facias', 'Recipient'), ('or', 'Recipient'), ('other', 'Recipient'), ('execution', 'Recipient'), ('on', 'Recipient'), ('the', 'Recipient'), ('planted', 'Recipient'), ('crop', 'Recipient'), ('of', 'Recipient'), ('a', 'Recipient'), ('debtor,', 'Recipient'), ('or', 'Recipient'), ('person', 'Recipient'), ('against', 'Recipient'), ('whom', 'Recipient'), ('an', 'Recipient'), ('execution', 'Recipient'), ('may', 'Recipient'), ('issue,', 'Recipient'), ('until', 'Recipient'), ('the', 'Recipient'), ('crop', 'Recipient'), ('is', 'Recipient'), ('gathered.”', 'Recipient'), ('Aik.', 'Recipient'), ('Dig.', 'Recipient'), ('167.]', 'Recipient'), ('Now', 'Recipient'), ('here', 'Recipient'), ('is', 'Recipient'), ('an', 'Recipient'), ('express', 'Recipient'), ('inhibition', 'Recipient'), ('to', 'Recipient'), ('levy', 'Recipient'), ('an', 'Recipient'), ('execution', 'Recipient'), ('on', 'Recipient'), ('a', 'Recipient'), ('crop', 'Recipient'), ('while', 'Recipient'), ('it', 'Recipient'), ('remains', 'Recipient'), ('on,', 'Recipient'), ('or', 'Recipient'), ('in', 'Recipient'), ('the', 'Recipient'), ('ground,', 'Recipient'), ('and', 'Recipient'), ('until', 'Recipient'), ('it', 'Recipient'), ('is', 'Recipient'), ('severed', 'Recipient'), ('from', 'Recipient'), ('the', 'Recipient'), ('soil', 'Recipient'), ('to', 'Recipient'), ('which', 'Recipient'), ('it', 'Recipient'), ('owes', 'Recipient'), ('its', 'Recipient'), ('growth.', 'Recipient'), ('In', 'Recipient'), ('respect', 'Recipient'), ('to', 'Recipient'), ('property', 'Recipient'), ('thus', 'Recipient'), ('situated,', 'Recipient'), ('will', 'Recipient'), ('the', 'Recipient'), ('lien', 'Recipient'), ('of', 'Recipient'), ('an', 'Recipient'), ('execution', 'Recipient'), ('attach', 'Recipient'), ('eo', 'Recipient'), ('instanti', 'Recipient'), ('upon', 'Recipient'), ('its', 'Recipient'), ('being', 'Recipient'), ('placed', 'Recipient'), ('in', 'Recipient'), ('the', 'Recipient'), ('hands', 'Recipient'), ('of', 'Recipient'), ('an', 'Recipient'), ('officer?', 'Recipient'), ('If', 'Recipient'), ('so,', 'Recipient'), ('the', 'Recipient'), ('act', 'Recipient'), ('cited,', 'Recipient'), ('will', 'Recipient'), ('only', 'Recipient'), ('have', 'Recipient'), ('the', 'Recipient'), ('effect', 'Recipient'), ('of', 'Recipient'), ('keeping', 'Recipient'), ('the', 'Recipient'), ('right', 'Recipient'), ('to', 'Recipient'), ('levy', 'Recipient'), ('it', 'Recipient'), ('in', 'Recipient'), ('abeyance', 'Recipient'), ('until', 'Recipient'), ('the', 'Recipient'), ('crop', 'Recipient'), ('is', 'Recipient'), ('gathered.', 'Recipient'), ('The', 'Recipient'), ('lien', 'Recipient'), ('of', 'Recipient'), ('an', 'Recipient'), ('execution', 'Recipient'), ('does,', 'Recipient'), ('not', 'Recipient'), ('only', 'Recipient'), ('operate', 'Recipient'), ('so', 'Recipient'), ('as', 'Recipient'), ('to', 'Recipient'), ('prevent', 'Recipient'), ('the', 'Recipient'), ('debtor', 'Recipient'), ('from', 'Recipient'), ('disposing', 'Recipient'), ('of', 'Recipient'), ('the', 'Recipient'), ('property', 'Recipient'), ('on', 'Recipient'), ('which', 'Recipient'), ('it', 'Recipient'), ('attaches,', 'Recipient'), ('but', 'Recipient'), ('gives', 'Recipient'), ('to', 'Recipient'), ('the', 'Recipient'), ('creditor', 'Recipient'), ('the', 'Recipient'), ('right', 'Recipient'), ('to', 'Recipient'), ('have', 'Recipient'), ('it', 'Recipient'), ('sold', 'Recipient'), ('to', 'Recipient'), ('satisfy', 'Recipient'), ('his', 'Recipient'), ('745', 'Recipient'), ('judgment.', 'Recipient'), ('The', 'Recipient'), ('lien', 'Recipient'), ('and', 'Recipient'), ('the', 'Recipient'), ('right', 'Recipient'), ('to', 'Recipient'), ('levy', 'Recipient'), ('are', 'Recipient'), ('intimately', 'Recipient'), ('connected,', 'Recipient'), ('and', 'Recipient'), ('if', 'Recipient'), ('the', 'Recipient'), ('latter', 'Recipient'), ('be', 'Recipient'), ('taken', 'Recipient'), ('away,', 'Recipient'), ('or', 'Recipient'), ('suspended,', 'Recipient'), ('the', 'Recipient'), ('effect,', 'Recipient'), ('at', 'Recipient'), ('common', 'Recipient'), ('law,', 'Recipient'), ('is', 'Recipient'), ('the', 'Recipient'), ('destruction', 'Recipient'), ('of', 'Recipient'), ('the', 'Recipient'), ('former.', 'Recipient'), ('This', 'Recipient'), ('principle', 'Recipient'), ('is', 'Recipient'), ('fully', 'Recipient'), ('established', 'Recipient'), ('by', 'Recipient'), ('Mansony', 'Recipient'), ('and', 'Recipient'), ('Hurtell', 'Recipient'), ('v.', 'Recipient'), ('The', 'Recipient'), ('President,', 'Recipient'), ('&', 'Recipient'), ('c.', 'Recipient'), ('of', 'Recipient'), ('the', 'Recipient'), ('Bank', 'Recipient'), ('of', 'Recipient'), ('the', 'Recipient'), ('United', 'Recipient'), ('States,', 'Recipient'), ('and', 'Recipient'), ('its', 'Recipient'), ('assignees,', 'Recipient'), ('and', 'Recipient'), ('the', 'Recipient'), ('citations', 'Recipient'), ('contained', 'Recipient'), ('in', 'Recipient'), ('the', 'Recipient'), ('opinion', 'Recipient'), ('of', 'Recipient'), ('the', 'Recipient'), ('court', 'Recipient'), ('in', 'Recipient'), ('that', 'Recipient'), ('case,', 'Recipient'), ('as', 'Recipient'), ('also', 'Recipient'), ('in', 'Recipient'), ('my', 'Recipient'), ('opinion', 'Recipient'), ('in', 'Recipient'), ('Wood', 'Recipient'), ('v.', 'Recipient'), ('Gary,', 'Recipient'), ('et', 'Recipient'), ('al.,', 'Recipient'), ('both', 'Recipient'), ('decided', 'Recipient'), ('at', 'Recipient'), ('the', 'Recipient'), ('last', 'Recipient'), ('term.', 'Recipient'), ('That', 'Recipient'), ('it', 'Recipient'), ('was', 'Recipient'), ('competent', 'Recipient'), ('for', 'Recipient'), ('the', 'Recipient'), ('legislature', 'Recipient'), ('to', 'Recipient'), ('have', 'Recipient'), ('made', 'Recipient'), ('it', 'Recipient'), ('unlawful', 'Recipient'), ('to', 'Recipient'), ('levy', 'Recipient'), ('an', 'Recipient'), ('execution', 'Recipient'), ('on', 'Recipient'), ('particular', 'Recipient'), ('property,', 'Recipient'), ('until', 'Recipient'), ('its', 'Recipient'), ('condition', 'Recipient'), ('was', 'Recipient'), ('changed,', 'Recipient'), ('and', 'Recipient'), ('still', 'Recipient'), ('to', 'Recipient'), ('give', 'Recipient'), ('it', 'Recipient'), ('a', 'Recipient'), ('continuing', 'Recipient'), ('lien,', 'Recipient'), ('cannot', 'Recipient'), ('be', 'Recipient'), ('doubted;', 'Recipient'), ('but', 'Recipient'), ('there', 'Recipient'), ('is', 'Recipient'), ('nothing', 'Recipient'), ('in', 'Recipient'), ('the', 'Recipient'), ('act', 'Recipient'), ('in', 'Recipient'), ('question', 'Recipient'), ('to', 'Recipient'), ('indicate', 'Recipient'), ('that', 'Recipient'), ('such', 'Recipient'), ('is', 'Recipient'), ('its', 'Recipient'), ('intention.', 'Recipient'), ('If', 'Recipient'), ('the', 'Recipient'), ('object', 'Recipient'), ('was', 'Recipient'), ('merely', 'Recipient'), ('to', 'Recipient'), ('suspend', 'Recipient'), ('the', 'Recipient'), ('sale,', 'Recipient'), ('until', 'Recipient'), ('the', 'Recipient'), ('crop', 'Recipient'), ('was', 'Recipient'), ('gathered,', 'Recipient'), ('it', 'Recipient'), ('would', 'Recipient'), ('have', 'Recipient'), ('been', 'Recipient'), ('very', 'Recipient'), ('easy', 'Recipient'), ('to', 'Recipient'), ('have', 'Recipient'), ('said', 'Recipient'), ('so', 'Recipient'), ('in', 'Recipient'), ('explicit', 'Recipient'), ('terms,', 'Recipient'), ('but', 'Recipient'), ('declaring', 'Recipient'), ('as', 'Recipient'), ('the', 'Recipient'), ('statute', 'Recipient'), ('does,', 'Recipient'), ('in', 'Recipient'), ('totidem', 'Recipient'), ('verbis,', 'Recipient'), ('that', 'Recipient'), ('the', 'Recipient'), ('execution', 'Recipient'), ('shall', 'Recipient'), ('not', 'Recipient'), ('be', 'Recipient'), ('levied,', 'Recipient'), ('the', 'Recipient'), ('legislature', 'Recipient'), ('must', 'Recipient'), ('be', 'Recipient'), ('supposed', 'Recipient'), ('to', 'Recipient'), ('have', 'Recipient'), ('meant', 'Recipient'), ('what', 'Recipient'), ('they', 'Recipient'), ('have', 'Recipient'), ('expressed.', 'Recipient'), ('The', 'Recipient'), ('act', 'Recipient'), ('was', 'Recipient'), ('induced', 'Recipient'), ('by', 'Recipient'), ('the', 'Recipient'), ('doubts', 'Recipient'), ('which', 'Recipient'), ('existed', 'Recipient'), ('as', 'Recipient'), ('to', 'Recipient'), ('what', 'Recipient'), ('was', 'Recipient'), ('the', 'Recipient'), ('common', 'Recipient'), ('law,', 'Recipient'), ('and', 'Recipient'), ('was', 'Recipient'), ('intended', 'Recipient'), ('to', 'Recipient'), ('remove', 'Recipient'), ('those', 'Recipient'), ('doubts', 'Recipient'), ('by', 'Recipient'), ('declaring', 'Recipient'), ('what', 'Recipient'), ('should', 'Recipient'), ('be', 'Recipient'), ('the', 'Recipient'), ('law', 'Recipient'), ('in', 'Recipient'), ('future.', 'Recipient'), ('It', 'Recipient'), ('does', 'Recipient'), ('not', 'Recipient'), ('create', 'Recipient'), ('a', 'Recipient'), ('lien', 'Recipient'), ('or', 'Recipient'), ('authorize', 'Recipient'), ('a', 'Recipient'), ('levy', 'Recipient'), ('in', 'Recipient'), ('a', 'Recipient'), ('case', 'Recipient'), ('in', 'Recipient'), ('which', 'Recipient'), ('the', 'Recipient'), ('law,', 'Recipient'), ('as', 'Recipient'), ('it', 'Recipient'), ('then', 'Recipient'), ('existed,', 'Recipient'), ('was', 'Recipient'), ('silent.', 'Recipient'), ('The', 'Recipient'), ('idea', 'Recipient'), ('that', 'Recipient'), ('the', 'Recipient'), ('lien', 'Recipient'), ('attached', 'Recipient'), ('upon', 'Recipient'), ('the', 'Recipient'), ('planted', 'Recipient'), ('crop', 'Recipient'), ('as', 'Recipient'), ('soon', 'Recipient'), ('as', 'Recipient'), ('the', 'Recipient'), ('execution', 'Recipient'), ('was', 'Recipient'), ('delivered', 'Recipient'), ('to', 'Recipient'), ('the', 'Recipient'), ('sheriff,', 'Recipient'), ('though', 'Recipient'), ('the', 'Recipient'), ('right', 'Recipient'), ('to', 'Recipient'), ('levy', 'Recipient'), ('it', 'Recipient'), ('was', 'Recipient'), ('postponed', 'Recipient'), ('until', 'Recipient'), ('a', 'Recipient'), ('severance', 'Recipient'), ('took', 'Recipient'), ('place,', 'Recipient'), ('is', 'Recipient'), ('attempted', 'Recipient'), ('to', 'Recipient'), ('be', 'Recipient'), ('deduced', 'Recipient'), ('from', 'Recipient'), ('the', 'Recipient'), ('last', 'Recipient'), ('words', 'Recipient'), ('of', 'Recipient'), ('the', 'Recipient'), ('section', 'Recipient'), ('cited,', 'Recipient'), ('viz:', 'Recipient'), ('until', 'Recipient'), ('the', 'Recipient'), ('crop', 'Recipient'), ('is', 'Recipient'), ('gathered.”', 'Recipient'), ('These', 'Recipient'), ('words', 'Recipient'), ('cannot,', 'Recipient'), ('upon', 'Recipient'), ('any', 'Recipient'), ('just', 'Recipient'), ('principles', 'Recipient'), ('of', 'Recipient'), ('construction', 'Recipient'), ('be', 'Recipient'), ('regarded', 'Recipient'), ('so', 'Recipient'), ('potent', 'Recipient'), ('as', 'Recipient'), ('to', 'Recipient'), ('give', 'Recipient'), ('to', 'Recipient'), ('an', 'Recipient'), ('execution', 'Recipient'), ('a', 'Recipient'), ('retrospective', 'Recipient'), ('effect.', 'Recipient'), ('They', 'Recipient'), ('do', 'Recipient'), ('not', 'Recipient'), ('refer', 'Recipient'), ('to', 'Recipient'), ('the', 'Recipient'), ('lien,', 'Recipient'), ('if', 'Recipient'), ('they', 'Recipient'), ('did', 'Recipient'), ('they', 'Recipient'), ('would', 'Recipient'), ('postpone', 'Recipient'), ('it', 'Recipient'), ('until', 'Recipient'), ('the', 'Recipient'), ('crop', 'Recipient'), ('was', 'Recipient'), ('gathered;', 'Recipient'), ('but', 'Recipient'), ('it', 'Recipient'), ('is', 'Recipient'), ('the', 'Recipient'), ('levy', 'Recipient'), ('they', 'Recipient'), ('relate', 'Recipient'), ('to', 'Recipient'), ('and', 'Recipient'), ('postpone', 'Recipient'), ('until', 'Recipient'), ('that', 'Recipient'), ('event', 'Recipient'), ('takes', 'Recipient'), ('place.\\n', 'Recipient'), ('4', 'Recipient'), ('The', 'Recipient'), ('right', 'Recipient'), ('to', 'Recipient'), ('levy', 'Recipient'), ('an', 'Recipient'), ('execution', 'Recipient'), ('on', 'Recipient'), ('a', 'Recipient'), ('planted', 'Recipient'), ('crop,', 'Recipient'), ('then,', 'Recipient'), ('being', 'Recipient'), ('expressly', 'Recipient'), ('taken', 'Recipient'), ('away', 'Recipient'), ('by', 'Recipient'), ('the', 'Recipient'), ('statute,', 'Recipient'), ('the', 'Recipient'), ('lien', 'Recipient'), ('which', 'Recipient'), ('is', 'Recipient'), ('connected', 'Recipient'), ('with', 'Recipient'), ('and', 'Recipient'), ('consequent', 'Recipient'), ('upon', 'Recipient'), ('that', 'Recipient'), ('right,', 'Recipient'), ('never', 'Recipient'), ('attaches', 'Recipient'), ('until', 'Recipient'), ('severance.', 'Recipient'), ('This', 'Recipient'), ('being', 'Recipient'), ('the', 'Recipient'), ('case,', 'Recipient'), ('the', 'Recipient'), ('right', 'Recipient'), ('of', 'Recipient'), ('the', 'Recipient'), ('defendant', 'Recipient'), ('in', 'Recipient'), ('execution', 'Recipient'), ('to', 'Recipient'), ('make', 'Recipient'), ('the', 'Recipient'), ('contract', 'Recipient'), ('which', 'Recipient'), ('he', 'Recipient'), ('did,', 'Recipient'), ('is', 'Recipient'), ('unquestionable,', 'Recipient'), ('and', 'Recipient'), ('the', 'Recipient'), ('title', 'Recipient'), ('of', 'Recipient'), ('the', 'Recipient'), ('claimants,', 'Recipient'), ('coupled', 'Recipient'), ('as', 'Recipient'), ('it', 'Recipient'), ('was', 'Recipient'), ('with', 'Recipient'), ('the', 'Recipient'), ('possession,', 'Recipient'), ('was', 'Recipient'), ('paramount', 'Recipient'), ('to', 'Recipient'), ('any', 'Recipient'), ('lien', 'Recipient'), ('which', 'Recipient'), ('the', 'Recipient'), ('execution', 'Recipient'), ('could', 'Recipient'), ('exert.\\n', 'Recipient'), ('The', 'Recipient'), ('circuit', 'Recipient'), ('judge', 'Recipient'), ('may', 'Recipient'), ('have', 'Recipient'), ('mistaken', 'Recipient'), ('the', 'Recipient'), ('law', 'Recipient'), ('in', 'Recipient'), ('supposing', 'Recipient'), ('that', 'Recipient'), ('the', 'Recipient'), ('contract', 'Recipient'), ('was', 'Recipient'), ('a', 'Recipient'), ('sale,', 'Recipient'), ('but', 'Recipient'), ('if', 'Recipient'), ('he', 'Recipient'), ('did,', 'Recipient'), ('an', 'Recipient'), ('error', 'Recipient'), ('in', 'Recipient'), ('that', 'Recipient'), ('respect', 'Recipient'), ('was', 'Recipient'), ('very', 'Recipient'), ('immaterial,', 'Recipient'), ('for', 'Recipient'), ('whether', 'Recipient'), ('a', 'Recipient'), ('sale', 'Recipient'), ('or', 'Recipient'), ('mortgage,', 'Recipient'), ('as', 'Recipient'), ('we', 'Recipient'), ('have', 'Recipient'), ('746', 'Recipient'), ('seen,', 'Recipient'), ('under', 'Recipient'), ('the', 'Recipient'), ('facts', 'Recipient'), ('of', 'Recipient'), ('the', 'Recipient'), ('case,', 'Recipient'), ('the', 'Recipient'), ('defendant', 'Recipient'), ('in', 'Recipient'), ('execution', 'Recipient'), ('has', 'Recipient'), ('no', 'Recipient'), ('interest', 'Recipient'), ('that', 'Recipient'), ('could', 'Recipient'), ('be', 'Recipient'), ('seised', 'Recipient'), ('and', 'Recipient'), ('sold', 'Recipient'), ('under', 'Recipient'), ('execution.', 'Recipient'), ('There', 'Recipient'), ('is', 'Recipient'), ('no', 'Recipient'), ('assumption', 'Recipient'), ('of', 'Recipient'), ('any', 'Recipient'), ('material', 'Recipient'), ('fact', 'Recipient'), ('in', 'Recipient'), ('the', 'Recipient'), ('charge;', 'Recipient'), ('but', 'Recipient'), ('the', 'Recipient'), ('possession', 'Recipient'), ('of', 'Recipient'), ('the', 'Recipient'), ('claimant,', 'Recipient'), ('the', 'Recipient'), ('time', 'Recipient'), ('when', 'Recipient'), ('acquired,', 'Recipient'), ('the', 'Recipient'), ('gathering', 'Recipient'), ('of', 'Recipient'), ('the', 'Recipient'), ('crop,', 'Recipient'), ('&', 'Recipient'), ('c.,', 'Recipient'), ('are', 'Recipient'), ('all', 'Recipient'), ('referred', 'Recipient'), ('to', 'Recipient'), ('the', 'Recipient'), ('determination', 'Recipient'), ('of', 'Recipient'), ('the', 'Recipient'), ('jury;', 'Recipient'), ('who', 'Recipient'), ('are', 'Recipient'), ('instructed,', 'Recipient'), ('if', 'Recipient'), ('they', 'Recipient'), ('find', 'Recipient'), ('them', 'Recipient'), ('according', 'Recipient'), ('to', 'Recipient'), ('the', 'Recipient'), ('evidence', 'Recipient'), ('adduced,', 'Recipient'), ('that', 'Recipient'), ('no', 'Recipient'), ('lien', 'Recipient'), ('ever', 'Recipient'), ('attached', 'Recipient'), ('in', 'Recipient'), ('favor', 'Recipient'), ('of', 'Recipient'), ('the', 'Recipient'), ('plaintiff.', 'Recipient'), ('The', 'Recipient'), ('bona', 'Recipient'), ('fides', 'Recipient'), ('of', 'Recipient'), ('the', 'Recipient'), ('contract', 'Recipient'), ('was', 'Recipient'), ('conceded,', 'Recipient'), ('so', 'Recipient'), ('that', 'Recipient'), ('no', 'Recipient'), ('charge', 'Recipient'), ('was', 'Recipient'), ('necessary', 'Recipient'), ('on', 'Recipient'), ('that', 'Recipient'), ('point,', 'Recipient'), ('and', 'Recipient'), ('it', 'Recipient'), ('could', 'Recipient'), ('not', 'Recipient'), ('with', 'Recipient'), ('propriety', 'Recipient'), ('enter', 'Recipient'), ('into', 'Recipient'), ('the', 'Recipient'), ('inquiry', 'Recipient'), ('of', 'Recipient'), ('the', 'Recipient'), ('jury.\\n', 'Recipient'), ('It', 'Recipient'), ('results', 'Recipient'), ('from', 'Recipient'), ('what', 'Recipient'), ('has', 'Recipient'), ('been', 'Recipient'), ('said,', 'Recipient'), ('that', 'Recipient'), ('the', 'Recipient'), ('judgment', 'Recipient'), ('of', 'Recipient'), ('the', 'Recipient'), ('circuit', 'Recipient'), ('court', 'Recipient'), ('is', 'Recipient'), ('affirmed.\\n\\n', 'Recipient'), ('DISSENTING', 'Recipient'), ('OPINION.\\n\\n', 'Recipient'), ('ORMOND,', 'Recipient'), ('J.\\n', 'Recipient'), ('4', 'Recipient'), ('The', 'Recipient'), ('statute', 'Recipient'), ('which', 'Recipient'), ('presents', 'Recipient'), ('the', 'Recipient'), ('question', 'Recipient'), ('before', 'Recipient'), ('the', 'Recipient'), ('court', 'Recipient'), ('is,', 'Recipient'), ('that', 'Recipient'), ('it', 'Recipient'), ('shall', 'Recipient'), ('not', 'Recipient'), ('be', 'Recipient'), ('lawful', 'Recipient'), ('for', 'Recipient'), ('any', 'Recipient'), ('sheriff', 'Recipient'), ('or', 'Recipient'), ('other', 'Recipient'), ('officer', 'Recipient'), ('to', 'Recipient'), ('levy', 'Recipient'), ('a', 'Recipient'), ('writ', 'Recipient'), ('of', 'Recipient'), ('fieei', 'Recipient'), ('facias', 'Recipient'), ('or', 'Recipient'), ('other', 'Recipient'), ('execution,', 'Recipient'), ('on', 'Recipient'), ('the', 'Recipient'), ('planted', 'Recipient'), ('crop', 'Recipient'), ('of', 'Recipient'), ('a', 'Recipient'), ('debtor,', 'Recipient'), ('or', 'Recipient'), ('person', 'Recipient'), ('against', 'Recipient'), ('whom', 'Recipient'), ('an', 'Recipient'), ('execution', 'Recipient'), ('may', 'Recipient'), ('issue,', 'Recipient'), ('until', 'Recipient'), ('the', 'Recipient'), ('crop', 'Recipient'), ('is', 'Recipient'), ('gathered.”', 'Recipient'), ('Clay’s', 'Recipient'), ('Dig.', 'Recipient'), ('210,', 'Recipient'), ('46.]\\n', 'Recipient'), ('I', 'Recipient'), ('shall', 'Recipient'), ('not', 'Recipient'), ('enter', 'Recipient'), ('upon', 'Recipient'), ('the', 'Recipient'), ('enquiry,', 'Recipient'), ('whether,', 'Recipient'), ('at', 'Recipient'), ('common', 'Recipient'), ('law,', 'Recipient'), ('an', 'Recipient'), ('execution', 'Recipient'), ('could', 'Recipient'), ('be', 'Recipient'), ('levied', 'Recipient'), ('upon', 'Recipient'), ('a', 'Recipient'), ('growing', 'Recipient'), ('crop,', 'Recipient'), ('though', 'Recipient'), ('I', 'Recipient'), ('apprehend,', 'Recipient'), ('it', 'Recipient'), ('would', 'Recipient'), ('not', 'Recipient'), ('be', 'Recipient'), ('difficult', 'Recipient'), ('to', 'Recipient'), ('maintain', 'Recipient'), ('the', 'Recipient'), ('affirmative', 'Recipient'), ('of', 'Recipient'), ('the', 'Recipient'), ('proposition.', 'Recipient'), ('It', 'Recipient'), ('is', 'Recipient'), ('sufficient', 'Recipient'), ('for', 'Recipient'), ('my', 'Recipient'), ('purpose,', 'Recipient'), ('that', 'Recipient'), ('the', 'Recipient'), ('statute', 'Recipient'), ('supposes', 'Recipient'), ('such', 'Recipient'), ('to', 'Recipient'), ('have', 'Recipient'), ('been', 'Recipient'), ('the', 'Recipient'), ('law,', 'Recipient'), ('as', 'Recipient'), ('it', 'Recipient'), ('doubtless', 'Recipient'), ('was', 'Recipient'), ('the', 'Recipient'), ('practice.\\n', 'Recipient'), ('This', 'Recipient'), ('act', 'Recipient'), ('must', 'Recipient'), ('be', 'Recipient'), ('considered', 'Recipient'), ('in', 'Recipient'), ('connection', 'Recipient'), ('with', 'Recipient'), ('the', 'Recipient'), ('other', 'Recipient'), ('acts', 'Recipient'), ('upon', 'Recipient'), ('the', 'Recipient'), ('same', 'Recipient'), ('subject.', 'Recipient'), ('The', 'Recipient'), ('policy', 'Recipient'), ('of', 'Recipient'), ('the', 'Recipient'), ('State,', 'Recipient'), ('as', 'Recipient'), ('indicated', 'Recipient'), ('by', 'Recipient'), ('these', 'Recipient'), ('statutes,', 'Recipient'), ('is', 'Recipient'), ('undeniably', 'Recipient'), ('that', 'Recipient'), ('all', 'Recipient'), ('the', 'Recipient'), ('property', 'Recipient'), ('of', 'Recipient'), ('a', 'Recipient'), ('debtor,', 'Recipient'), ('real', 'Recipient'), ('and', 'Recipient'), ('personal,', 'Recipient'), ('to', 'Recipient'), ('which', 'Recipient'), ('he', 'Recipient'), ('has', 'Recipient'), ('a', 'Recipient'), ('legal', 'Recipient'), ('title,', 'Recipient'), ('shall', 'Recipient'), ('be', 'Recipient'), ('subject', 'Recipient'), ('to', 'Recipient'), ('sale', 'Recipient'), ('by', 'Recipient'), ('execution,', 'Recipient'), ('and', 'Recipient'), ('it', 'Recipient'), ('appears', 'Recipient'), ('to', 'Recipient'), ('me', 'Recipient'), ('that', 'Recipient'), ('it', 'Recipient'), ('would', 'Recipient'), ('be', 'Recipient'), ('difficult', 'Recipient'), ('to', 'Recipient'), ('assign', 'Recipient'), ('a', 'Recipient'), ('reason', 'Recipient'), ('for', 'Recipient'), ('the', 'Recipient'), ('exemption', 'Recipient'), ('of', 'Recipient'), ('this', 'Recipient'), ('species', 'Recipient'), ('of', 'Recipient'), ('property', 'Recipient'), ('from', 'Recipient'), ('the', 'Recipient'), ('claims', 'Recipient'), ('of', 'Recipient'), ('judgment', 'Recipient'), ('creditors,', 'Recipient'), ('and', 'Recipient'), ('for', 'Recipient'), ('giving', 'Recipient'), ('to', 'Recipient'), ('the', 'Recipient'), ('defendant', 'Recipient'), ('in', 'Recipient'), ('execution', 'Recipient'), ('the', 'Recipient'), ('right', 'Recipient'), ('to', 'Recipient'), ('dispose', 'Recipient'), ('of', 'Recipient'), ('it.', 'Recipient'), ('It', 'Recipient'), ('appears', 'Recipient'), ('to', 'Recipient'), ('me,', 'Recipient'), ('with', 'Recipient'), ('all', 'Recipient'), ('deference,', 'Recipient'), ('that', 'Recipient'), ('the', 'Recipient'), ('argument', 'Recipient'), ('that', 'Recipient'), ('because', 'Recipient'), ('the', 'Recipient'), ('sheriff', 'Recipient'), ('was', 'Recipient'), ('prohibited', 'Recipient'), ('from', 'Recipient'), ('levying', 'Recipient'), ('on', 'Recipient'), ('a', 'Recipient'), ('planted', 'Recipient'), ('crop,', 'Recipient'), ('that', 'Recipient'), ('therefore', 'Recipient'), ('the', 'Recipient'), ('execution', 'Recipient'), ('had', 'Recipient'), ('lost', 'Recipient'), ('its', 'Recipient'), ('lien,', 'Recipient'), ('and', 'Recipient'), ('the', 'Recipient'), ('debtor', 'Recipient'), ('had', 'Recipient'), ('the', 'Recipient'), ('right', 'Recipient'), ('to', 'Recipient'), ('sell', 'Recipient'), ('it,', 'Recipient'), ('is', 'Recipient'), ('a', 'Recipient'), ('non', 'Recipient'), ('sequitur.', 'Recipient'), ('The', 'Recipient'), ('mischief', 'Recipient'), ('which', 'Recipient'), ('the', 'Recipient'), ('statute', 'Recipient'), ('designed', 'Recipient'), ('to', 'Recipient'), ('remedy', 'Recipient'), ('was,', 'Recipient'), ('the', 'Recipient'), ('sacrifice', 'Recipient'), ('which', 'Recipient'), ('would', 'Recipient'), ('be', 'Recipient'), ('necessarily', 'Recipient'), ('made', 'Recipient'), ('by', 'Recipient'), ('the', 'Recipient'), ('sale', 'Recipient'), ('of', 'Recipient'), ('an', 'Recipient'), ('immature', 'Recipient'), ('crop:', 'Recipient'), ('the', 'Recipient'), ('statute', 'Recipient'), ('enables', 'Recipient'), ('the', 'Recipient'), ('debtor', 'Recipient'), ('to', 'Recipient'), ('retain', 'Recipient'), ('it', 'Recipient'), ('until', 'Recipient'), ('it', 'Recipient'), ('matures,', 'Recipient'), ('and', 'Recipient'), ('by', 'Recipient'), ('severing', 'Recipient'), ('it', 'Recipient'), ('from', 'Recipient'), ('the', 'Recipient'), ('soil', 'Recipient'), ('to', 'Recipient'), ('put', 'Recipient'), ('it', 'Recipient'), ('747', 'Recipient'), ('in', 'Recipient'), ('a', 'Recipient'), ('condition', 'Recipient'), ('to', 'Recipient'), ('bring', 'Recipient'), ('its', 'Recipient'), ('value--the', 'Recipient'), ('lien', 'Recipient'), ('in', 'Recipient'), ('the', 'Recipient'), ('mean', 'Recipient'), ('time', 'Recipient'), ('continuing', 'Recipient'), ('in', 'Recipient'), ('the', 'Recipient'), ('plaintiff', 'Recipient'), ('in', 'Recipient'), ('execution.\\n', 'Recipient'), ('5', 'Recipient'), ('If', 'Recipient'), ('further', 'Recipient'), ('confirmation', 'Recipient'), ('of', 'Recipient'), ('the', 'Recipient'), ('correctness', 'Recipient'), ('of', 'Recipient'), ('this', 'Recipient'), ('view', 'Recipient'), ('were', 'Recipient'), ('necessary,', 'Recipient'), ('it', 'Recipient'), ('will', 'Recipient'), ('be', 'Recipient'), ('found,', 'Recipient'), ('I', 'Recipient'), ('think,', 'Recipient'), ('in', 'Recipient'), ('the', 'Recipient'), ('language', 'Recipient'), ('employed', 'Recipient'), ('by', 'Recipient'), ('the', 'Recipient'), ('legislature.', 'Recipient'), ('The', 'Recipient'), ('sheriff', 'Recipient'), ('is', 'Recipient'), ('forbidden', 'Recipient'), ('to', 'Recipient'), ('levy', 'Recipient'), ('on', 'Recipient'), ('a', 'Recipient'), ('planted', 'Recipient'), ('crop”', 'Recipient'), ('until', 'Recipient'), ('the', 'Recipient'), ('crop', 'Recipient'), ('is', 'Recipient'), ('gathered.', 'Recipient'), ('Now,', 'Recipient'), ('if', 'Recipient'), ('the', 'Recipient'), ('view', 'Recipient'), ('taken', 'Recipient'), ('by', 'Recipient'), ('the', 'Recipient'), ('majority', 'Recipient'), ('of', 'Recipient'), ('the', 'Recipient'), ('court,', 'Recipient'), ('is', 'Recipient'), ('correct,', 'Recipient'), ('the', 'Recipient'), ('right', 'Recipient'), ('secured', 'Recipient'), ('to', 'Recipient'), ('the', 'Recipient'), ('plaintiff', 'Recipient'), ('in', 'Recipient'), ('execution,', 'Recipient'), ('of', 'Recipient'), ('levying', 'Recipient'), ('on', 'Recipient'), ('the', 'Recipient'), ('crop', 'Recipient'), ('after', 'Recipient'), ('it', 'Recipient'), ('is', 'Recipient'), ('gathered,', 'Recipient'), ('may', 'Recipient'), ('be', 'Recipient'), ('frustrated,', 'Recipient'), ('as', 'Recipient'), ('it', 'Recipient'), ('was', 'Recipient'), ('in', 'Recipient'), ('this', 'Recipient'), ('case,', 'Recipient'), ('by', 'Recipient'), ('a', 'Recipient'), ('sale', 'Recipient'), ('by', 'Recipient'), ('the', 'Recipient'), ('defendant', 'Recipient'), ('in', 'Recipient'), ('execution,', 'Recipient'), ('whilst', 'Recipient'), ('the', 'Recipient'), ('crop', 'Recipient'), ('is', 'Recipient'), ('in', 'Recipient'), ('an', 'Recipient'), ('immature', 'Recipient'), ('state.', 'Recipient'), ('The', 'Recipient'), ('construction', 'Recipient'), ('which', 'Recipient'), ('has', 'Recipient'), ('been', 'Recipient'), ('put', 'Recipient'), ('upon', 'Recipient'), ('the', 'Recipient'), ('statute,', 'Recipient'), ('involves', 'Recipient'), ('the', 'Recipient'), ('singular', 'Recipient'), ('anomaly,', 'Recipient'), ('that', 'Recipient'), ('the', 'Recipient'), ('legislature,', 'Recipient'), ('for', 'Recipient'), ('the', 'Recipient'), ('protection', 'Recipient'), ('of', 'Recipient'), ('the', 'Recipient'), ('debtor,', 'Recipient'), ('has', 'Recipient'), ('forbidden', 'Recipient'), ('the', 'Recipient'), ('plaintiff', 'Recipient'), ('in', 'Recipient'), ('execution', 'Recipient'), ('to', 'Recipient'), ('sell', 'Recipient'), ('the', 'Recipient'), ('property', 'Recipient'), ('of', 'Recipient'), ('his', 'Recipient'), ('debtor,', 'Recipient'), ('because', 'Recipient'), ('it', 'Recipient'), ('is', 'Recipient'), ('not', 'Recipient'), ('in', 'Recipient'), ('a', 'Recipient'), ('condition', 'Recipient'), ('to', 'Recipient'), ('bring', 'Recipient'), ('its', 'Recipient'), ('value,', 'Recipient'), ('and', 'Recipient'), ('yet', 'Recipient'), ('permits', 'Recipient'), ('the', 'Recipient'), ('debtor,', 'Recipient'), ('voluntarily,', 'Recipient'), ('by', 'Recipient'), ('a', 'Recipient'), ('sale,', 'Recipient'), ('to', 'Recipient'), ('submit', 'Recipient'), ('to', 'Recipient'), ('the', 'Recipient'), ('same', 'Recipient'), ('sacrifice,', 'Recipient'), ('for', 'Recipient'), ('his', 'Recipient'), ('own', 'Recipient'), ('benefit.', 'Recipient'), ('It', 'Recipient'), ('is,', 'Recipient'), ('in', 'Recipient'), ('effect,', 'Recipient'), ('a', 'Recipient'), ('gift', 'Recipient'), ('to', 'Recipient'), ('the', 'Recipient'), ('defendant', 'Recipient'), ('in', 'Recipient'), ('execution,', 'Recipient'), ('of', 'Recipient'), ('the', 'Recipient'), ('growing', 'Recipient'), ('crop,', 'Recipient'), ('provided', 'Recipient'), ('he', 'Recipient'), ('does', 'Recipient'), ('not', 'Recipient'), ('gather', 'Recipient'), ('it', 'Recipient'), ('himself,', 'Recipient'), ('but', 'Recipient'), ('disposes', 'Recipient'), ('of', 'Recipient'), ('it', 'Recipient'), ('in', 'Recipient'), ('its', 'Recipient'), ('then', 'Recipient'), ('condition.', 'Recipient'), ('This,', 'Recipient'), ('I', 'Recipient'), ('feel', 'Recipient'), ('a', 'Recipient'), ('thorough', 'Recipient'), ('conviction,', 'Recipient'), ('was', 'Recipient'), ('not', 'Recipient'), ('the', 'Recipient'), ('intention', 'Recipient'), ('of', 'Recipient'), ('the', 'Recipient'), ('legislature;', 'Recipient'), ('but', 'Recipient'), ('that', 'Recipient'), ('it', 'Recipient'), ('was', 'Recipient'), ('to', 'Recipient'), ('secure', 'Recipient'), ('him', 'Recipient'), ('from', 'Recipient'), ('loss,', 'Recipient'), ('by', 'Recipient'), ('prohibiting', 'Recipient'), ('a', 'Recipient'), ('levy', 'Recipient'), ('and', 'Recipient'), ('sale', 'Recipient'), ('of', 'Recipient'), ('the', 'Recipient'), ('crop,', 'Recipient'), ('until', 'Recipient'), ('it', 'Recipient'), ('was', 'Recipient'), ('gathered,', 'Recipient'), ('when', 'Recipient'), ('the', 'Recipient'), ('temporary', 'Recipient'), ('suspension', 'Recipient'), ('of', 'Recipient'), ('the', 'Recipient'), ('right', 'Recipient'), ('to', 'Recipient'), ('sell,', 'Recipient'), ('ceased.\\n', 'Recipient'), ('All', 'Recipient'), ('Citations\\n', 'Recipient'), ('5', 'SubaddressIdentifier'), ('Ala.', 'SubaddressType'), ('740,', 'SubaddressIdentifier'), ('1843', 'AddressNumber'), ('WL', 'StreetNamePreType'), ('284\\n', 'StreetName'), ('End', 'StreetName'), ('of', 'StreetName'), ('Document\\n', 'StreetName'), ('2019', 'OccupancyIdentifier'), ('Thomson', 'Recipient'), ('Reuters.', 'Recipient'), ('No', 'Recipient'), ('claim', 'Recipient'), ('to', 'Recipient'), ('original', 'Recipient'), ('U.S.', 'Recipient'), ('Government', 'Recipient'), ('Works.\\n', 'Recipient'), ('Citing', 'Recipient'), ('References', 'Recipient'), ('(9)\\n', 'Recipient'), ('Treatment\\n', 'Recipient'), ('Title\\n', 'Recipient'), ('Date\\n', 'Recipient'), ('Type\\n', 'Recipient'), ('Depth\\n', 'Recipient'), ('Headnote', 'Recipient'), ('(s)\\n', 'Recipient'), ('Cited', 'Recipient'), ('by\\n', 'Recipient'), ('1.', 'Recipient'), ('Booker', 'Recipient'), ('v.', 'Recipient'), ('Jones’s', 'Recipient'), ('Adm’x\\n', 'Recipient'), ('55', 'Recipient'), ('Ala.', 'Recipient'), ('266,', 'Recipient'), ('271', 'Recipient'), ('Ala.\\n', 'Recipient'), ('Trover', 'Recipient'), ('for', 'Recipient'), ('Conversion', 'Recipient'), ('of', 'Recipient'), ('Cotton,', 'Recipient'), ('with', 'Recipient'), ('Counts', 'Recipient'), ('in', 'Recipient'), ('Case.', 'Recipient'), ('APPEAL', 'Recipient'), ('from', 'Recipient'), ('the', 'Recipient'), ('Circuit', 'Recipient'), ('Court', 'Recipient'), ('of', 'Recipient'), ('Hale.', 'Recipient'), ('Tried', 'Recipient'), ('before', 'Recipient'), ('the', 'Recipient'), ('Hon.', 'Recipient'), ('M.', 'Recipient'), ('J.', 'Recipient'), ('SAFFOLD.\\n', 'Recipient'), ('Dec', 'Recipient'), ('Term', 'Recipient'), ('1876\\n', 'Recipient'), ('Case\\n', 'Recipient'), ('Cited', 'Recipient'), ('by\\n', 'Recipient'), ('2.', 'Recipient'), ('Lehman,', 'Recipient'), ('Durr', 'Recipient'), ('&', 'Recipient'), ('Co.', 'Recipient'), ('v.', 'Recipient'), ('Marshall\\n', 'Recipient'), ('47', 'Recipient'), ('Ala.', 'Recipient'), ('362,', 'Recipient'), ('376', 'Recipient'), ('Ala.\\n', 'Recipient'), ('TROVER', 'Recipient'), ('FOR', 'Recipient'), ('CONVERSION', 'Recipient'), ('OF', 'Recipient'), ('COTTON.]', 'Recipient'), ('APPEAL', 'Recipient'), ('from', 'Recipient'), ('the', 'Recipient'), ('City', 'Recipient'), ('Court', 'Recipient'), ('of', 'Recipient'), ('Montgomery.', 'Recipient'), ('Tried', 'Recipient'), ('before', 'Recipient'), ('Hon.', 'Recipient'), ('JOHN', 'Recipient'), ('D.', 'Recipient'), ('CUNNINGHAM.\\n', 'Recipient'), ('Jan', 'Recipient'), ('Term', 'Recipient'), ('1872\\n', 'Recipient'), ('Case\\n', 'Recipient'), ('Cited', 'Recipient'), ('by\\n', 'Recipient'), ('3.', 'Recipient'), ('Bibb', 'Recipient'), ('v.', 'Recipient'), ('Janney\\n', 'Recipient'), ('45', 'Recipient'), ('Ala.', 'Recipient'), ('329,', 'Recipient'), ('334', 'Recipient'), ('Ala.\\n', 'Recipient'), ('GARNISHMENT;', 'Recipient'), ('WAGES;', 'Recipient'), ('WAIVER', 'Recipient'), ('OF', 'Recipient'), ('EXEMPTION.]', 'Recipient'), ('APPEAL', 'Recipient'), ('from', 'Recipient'), ('City', 'Recipient'), ('Court', 'Recipient'), ('of', 'Recipient'), ('Montgomery.', 'Recipient'), ('Tried', 'Recipient'), ('before', 'Recipient'), ('Hon.', 'Recipient'), ('JOHN', 'Recipient'), ('D.', 'Recipient'), ('CUNNINGHAM.\\n', 'Recipient'), ('Jan', 'Recipient'), ('Term', 'Recipient'), ('1871\\n', 'Recipient'), ('Case\\n', 'Recipient'), ('Cited', 'Recipient'), ('by\\n', 'Recipient'), ('4.', 'Recipient'), ('McKenzie', 'Recipient'), ('v.', 'Recipient'), ('Lampley\\n', 'Recipient'), ('31', 'Recipient'), ('Ala.', 'Recipient'), ('526,', 'Recipient'), ('527', 'Recipient'), ('Ala.\\n', 'Recipient'), ('TRIAL', 'Recipient'), ('OF', 'Recipient'), ('RIGHT', 'Recipient'), ('OF', 'Recipient'), ('PROPERTY', 'Recipient'), ('IN', 'Recipient'), ('COTTON.]', 'Recipient'), ('APPEAL', 'Recipient'), ('from', 'Recipient'), ('the', 'Recipient'), ('Circuit', 'Recipient'), ('Court', 'Recipient'), ('of', 'Recipient'), ('Barbour.', 'Recipient'), ('Tried', 'Recipient'), ('before', 'Recipient'), ('the', 'Recipient'), ('Hon.', 'Recipient'), ('S.', 'Recipient'), ('D.', 'Recipient'), ('HALE.\\n', 'Recipient'), ('Jan', 'Recipient'), ('Term', 'Recipient'), ('1858\\n', 'Recipient'), ('Case\\n', 'Recipient'), ('Cited', 'Recipient'), ('by\\n', 'Recipient'), ('5.', 'Recipient'), ('Evans', 'Recipient'), ('v.', 'Recipient'), ('Lamar\\n', 'Recipient'), ('21', 'Recipient'), ('Ala.', 'Recipient'), ('333,', 'Recipient'), ('335+', 'Recipient'), ('Ala.\\n', 'Recipient'), ('ERROR', 'Recipient'), ('to', 'Recipient'), ('the', 'Recipient'), ('Circuit', 'Recipient'), ('Court', 'Recipient'), ('of', 'Recipient'), ('Autauga.', 'Recipient'), ('Tried', 'Recipient'), ('before', 'Recipient'), ('the', 'Recipient'), ('Hon.', 'Recipient'), ('A.', 'Recipient'), ('B.', 'Recipient'), ('MOORE.\\n', 'Recipient'), ('Jun', 'Recipient'), ('Term', 'Recipient'), ('1852\\n', 'Recipient'), ('Case\\n', 'Recipient'), ('Cited', 'Recipient'), ('by\\n', 'Recipient'), ('6.', 'Recipient'), ('Dewey', 'Recipient'), ('v.', 'Recipient'), ('Bowman\\n', 'Recipient'), ('8', 'Recipient'), ('Cal.', 'Recipient'), ('145,', 'Recipient'), ('147', 'Recipient'), ('Cal.\\n', 'Recipient'), ('The', 'Recipient'), ('judgment', 'Recipient'), ('of', 'Recipient'), ('the', 'Recipient'), ('Court', 'Recipient'), ('below,', 'Recipient'), ('against', 'Recipient'), ('Jacob', 'Recipient'), ('S.', 'Recipient'), ('Cohen,', 'Recipient'), ('should', 'Recipient'), ('be', 'Recipient'), ('reversed,', 'Recipient'), ('for', 'Recipient'), ('the', 'Recipient'), ('following', 'Recipient'), ('reasons:', 'Recipient'), ('Because', 'Recipient'), ('the', 'Recipient'), ('finding', 'Recipient'), ('of', 'Recipient'), ('the', 'Recipient'), ('Court', 'Recipient'), ('was,', 'Recipient'), ('so', 'Recipient'), ('far', 'Recipient'), ('as', 'Recipient'), ('Cohen', 'Recipient'), ('was', 'Recipient'), ('concerned,...\\n', 'Recipient'), ('Jul', 'Recipient'), ('Term', 'Recipient'), ('1857\\n', 'Recipient'), ('Case\\n', 'Recipient'), ('Mentioned', 'Recipient'), ('by\\n', 'Recipient'), ('7.', 'Recipient'), ('Rees', 'Recipient'), ('v.', 'Recipient'), ('Coats\\n', 'Recipient'), ('65', 'Recipient'), ('Ala.', 'Recipient'), ('256,', 'Recipient'), ('258', 'Recipient'), ('Ala.\\n', 'Recipient'), ('Trover', 'Recipient'), ('for', 'Recipient'), ('Conversion', 'Recipient'), ('of', 'Recipient'), ('Three', 'Recipient'), ('Bales', 'Recipient'), ('of', 'Recipient'), ('Cotton.', 'Recipient'), ('APPEAL', 'Recipient'), ('from', 'Recipient'), ('the', 'Recipient'), ('Circuit', 'Recipient'), ('Court', 'Recipient'), ('of', 'Recipient'), ('Etowah.', 'Recipient'), ('Tried', 'Recipient'), ('before', 'Recipient'), ('the', 'Recipient'), ('Hon.', 'Recipient'), ('WM.', 'Recipient'), ('L.', 'Recipient'), ('WHITLOCK.\\n', 'Recipient'), ('Nov', 'Recipient'), ('Term', 'Recipient'), ('1880\\n', 'Recipient'), ('Case\\n', 'Recipient'), ('Mentioned', 'Recipient'), ('by\\n', 'Recipient'), ('8.', 'Recipient'), ('Edwards', 'Recipient'), ('v.', 'Recipient'), ('Thompson\\n', 'Recipient'), ('4', 'AddressNumber'), ('S.W.', 'StreetNamePostDirectional'), ('913,', 'OccupancyIdentifier'), ('914', 'AddressNumber'), ('Tenn.\\n', 'StreetName'), ('Appeal', 'StreetName'), ('from', 'StreetName'), ('circuit', 'StreetName'), ('court,', 'StreetNamePostType'), ('Weakley', 'Recipient'), ('county.\\n', 'Recipient'), ('May', 'Recipient'), ('1887\\n', 'Recipient'), ('Case\\n', 'Recipient'), ('9.', 'Recipient'), ('Growing', 'Recipient'), ('crops', 'Recipient'), ('as', 'Recipient'), ('subject', 'Recipient'), ('to', 'Recipient'), ('levy', 'Recipient'), ('and', 'Recipient'), ('seizure', 'Recipient'), ('under', 'Recipient'), ('attachment', 'Recipient'), ('or', 'Recipient'), ('execution\\n', 'Recipient'), ('103', 'Recipient'), ('A.L.R.', 'Recipient'), ('464\\n', 'Recipient'), ('Generally,', 'Recipient'), ('at', 'Recipient'), ('common', 'Recipient'), ('law,', 'Recipient'), ('growing', 'Recipient'), ('crops', 'Recipient'), ('raised', 'Recipient'), ('by', 'Recipient'), ('annual', 'Recipient'), ('planting,', 'Recipient'), ('while', 'Recipient'), ('still', 'Recipient'), ('attached', 'Recipient'), ('to', 'Recipient'), ('the', 'Recipient'), ('soil,', 'Recipient'), ('are', 'Recipient'), ('regarded', 'Recipient'), ('as', 'Recipient'), ('personal', 'Recipient'), ('chattels,', 'Recipient'), ('subject', 'Recipient'), ('to', 'Recipient'), ('levy', 'Recipient'), ('and', 'Recipient'), ('seizure', 'Recipient'), ('under', 'Recipient'), ('attachment...\\n', 'Recipient'), ('1936\\n', 'Recipient'), ('ALR\\n', 'Recipient'), ('Table', 'Recipient'), ('of', 'Recipient'), ('Authorities', 'Recipient'), ('(3)\\n', 'Recipient'), ('Treatment\\n', 'Recipient'), ('Referenced', 'Recipient'), ('Title\\n', 'Recipient'), ('Type\\n', 'Recipient'), ('Depth\\n', 'Recipient'), ('Quoted\\n', 'Recipient'), ('Page', 'Recipient'), ('Number\\n', 'Recipient'), ('Mentioned\\n', 'Recipient'), ('1.', 'Recipient'), ('Austin', 'Recipient'), ('v.', 'Recipient'), ('Sawyer\\n', 'Recipient'), ('9', 'SubaddressIdentifier'), ('Cow.', 'SubaddressType'), ('39,', 'SubaddressIdentifier'), ('N.Y.Sup.,', 'SubaddressType'), ('1828\\n', 'SubaddressIdentifier'), ('Parol', 'Recipient'), ('evidence', 'Recipient'), ('is', 'Recipient'), ('not', 'Recipient'), ('admissible', 'Recipient'), ('to', 'Recipient'), ('contradict,', 'Recipient'), ('or', 'Recipient'), ('substantially', 'Recipient'), ('vary,', 'Recipient'), ('a', 'Recipient'), ('written', 'Recipient'), ('contract.', 'Recipient'), ('And', 'Recipient'), ('where', 'Recipient'), ('A.', 'Recipient'), ('quit-claimed', 'Recipient'), ('land', 'Recipient'), ('to', 'Recipient'), ('W.,', 'Recipient'), ('on', 'Recipient'), ('which', 'Recipient'), ('a', 'Recipient'), ('crop', 'Recipient'), ('of', 'Recipient'), ('wheat', 'Recipient'), ('was', 'Recipient'), ('growing,', 'Recipient'), ('reserving', 'Recipient'), ('the...\\n', 'Recipient'), ('Case\\n', 'Recipient'), ('2\\n', 'Recipient'), ('Cited\\n', 'Recipient'), ('2.', 'Recipient'), ('Perkins', 'Recipient'), ('v.', 'Recipient'), ('Mayfield\\n', 'Recipient'), ('5', 'AddressNumber'), ('Port.', 'StreetNamePreType'), ('182,', 'StreetName'), ('Ala.,', 'SubaddressType'), ('1837\\n', 'SubaddressIdentifier'), ('On', 'Recipient'), ('writ', 'Recipient'), ('of', 'Recipient'), ('error', 'Recipient'), ('to', 'Recipient'), ('the', 'Recipient'), ('Circuit', 'Recipient'), ('Court', 'Recipient'), ('of', 'Recipient'), ('Tuskaloosa.\\n', 'Recipient'), ('Case\\n', 'Recipient'), ('2+\\n', 'Recipient'), ('Mentioned\\n', 'Recipient'), ('3.', 'Recipient'), ('Stewart', 'Recipient'), ('v.', 'Recipient'), ('Doughty\\n', 'Recipient'), ('9', 'SubaddressIdentifier'), ('Johns.', 'SubaddressType'), ('108,', 'SubaddressIdentifier'), ('N.Y.Sup.,', 'SubaddressType'), ('1812\\n', 'SubaddressIdentifier'), ('A.', 'Recipient'), ('let', 'Recipient'), ('to', 'Recipient'), ('B.', 'Recipient'), ('a', 'Recipient'), ('farm', 'Recipient'), ('for', 'Recipient'), ('six', 'Recipient'), ('years,', 'Recipient'), ('and', 'Recipient'), ('A.', 'Recipient'), ('agreed', 'Recipient'), ('to', 'Recipient'), ('render,', 'Recipient'), ('yield', 'Recipient'), ('and', 'Recipient'), ('pay', 'Recipient'), ('to', 'Recipient'), ('A.', 'Recipient'), ('the', 'Recipient'), ('one', 'Recipient'), ('half', 'Recipient'), ('of', 'Recipient'), ('all', 'Recipient'), ('the', 'Recipient'), ('wheat,', 'Recipient'), ('rye,', 'Recipient'), ('corn', 'Recipient'), ('and', 'Recipient'), ('other', 'Recipient'), ('grain,', 'Recipient'), ('raised', 'Recipient'), ('on', 'Recipient'), ('the', 'Recipient'), ('farm', 'Recipient'), ('in', 'Recipient'), ('each', 'Recipient'), ('year,', 'Recipient'), ('in', 'Recipient'), ('the...\\n', 'Recipient'), ('Case\\n', 'Recipient'), ('2\\n', 'Recipient'), ('Filings\\n', 'Recipient'), ('There', 'Recipient'), ('are', 'Recipient'), ('no', 'Recipient'), ('Filings', 'Recipient'), ('for', 'Recipient'), ('this', 'Recipient'), ('citation.\\n', 'Recipient'), ('Negative', 'Recipient'), ('Treatment\\n', 'Recipient'), ('There', 'Recipient'), ('are', 'Recipient'), ('no', 'Recipient'), ('Negative', 'Recipient'), ('Treatment', 'Recipient'), ('results', 'Recipient'), ('for', 'Recipient'), ('this', 'Recipient'), ('citation.\\n', 'Recipient'), ('History\\n', 'Recipient'), ('There', 'Recipient'), ('are', 'Recipient'), ('no', 'Recipient'), ('History', 'Recipient'), ('results', 'Recipient'), ('for', 'Recipient'), ('this', 'Recipient'), ('citation.\\n', 'Recipient')]\n"
          ],
          "name": "stdout"
        }
      ]
    },
    {
      "cell_type": "code",
      "metadata": {
        "id": "sIu-zWptlLTy"
      },
      "source": [
        ""
      ],
      "execution_count": null,
      "outputs": []
    }
  ]
}
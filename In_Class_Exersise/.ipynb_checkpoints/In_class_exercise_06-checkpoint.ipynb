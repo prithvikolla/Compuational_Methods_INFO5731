{
 "cells": [
  {
   "cell_type": "markdown",
   "metadata": {
    "id": "view-in-github"
   },
   "source": [
    "<a href=\"https://colab.research.google.com/github/unt-iialab/INFO5731_Spring2020/blob/master/In_class_exercise/In_class_exercise_05.ipynb\" target=\"_parent\"><img src=\"https://colab.research.google.com/assets/colab-badge.svg\" alt=\"Open In Colab\"/></a>"
   ]
  },
  {
   "cell_type": "markdown",
   "metadata": {
    "id": "z7TahL04sVvR"
   },
   "source": [
    "# **The sixth in-class-exercise (20 points in total, 10/14/2020)**"
   ]
  },
  {
   "cell_type": "markdown",
   "metadata": {
    "id": "ejyZITr8sjnh"
   },
   "source": [
    "## **1. Rule-based information extraction (10 points)**\n",
    "\n",
    "Use any keywords related to data science, natural language processing, machine learning to search from google scholar, get the **titles** of 100 articles (either by web scraping or manually) about this topic, define a set of patterns to extract the research questions/problems, methods/algorithms/models, datasets, applications, or any other important information about this topic. "
   ]
  },
  {
   "cell_type": "code",
   "execution_count": 1,
   "metadata": {
    "id": "uMO5G2G4xC8S"
   },
   "outputs": [],
   "source": [
    "import pandas as pd\n",
    "df = pd.read_csv('/Users/prithvinagkolla/Desktop/titles.csv') # Google Scholar 100 Titles"
   ]
  },
  {
   "cell_type": "code",
   "execution_count": 2,
   "metadata": {
    "colab": {
     "base_uri": "https://localhost:8080/",
     "height": 204
    },
    "id": "SfGjW175xWTG",
    "outputId": "4048add6-9d5b-46a9-ad43-5c9fd52ce011"
   },
   "outputs": [
    {
     "name": "stdout",
     "output_type": "stream",
     "text": [
      "                                              Titles\n",
      "0  Foundations of statistical natural language pr...\n",
      "1  Natural language processing with Python: analy...\n",
      "2  The Stanford CoreNLP natural language processi...\n",
      "3            Handbook of natural language processing\n",
      "4  Natural language processing (almost) from scratch\n",
      "5  A maximum entropy approach to natural language...\n",
      "6                        Natural language processing\n",
      "7            Readings in natural language processing\n",
      "8  Recent trends in deep learning based natural l...\n",
      "9  A unified architecture for natural language pr...\n"
     ]
    }
   ],
   "source": [
    "print(df[0:10]) #Top 10 titles Displayed"
   ]
  },
  {
   "cell_type": "code",
   "execution_count": 3,
   "metadata": {
    "colab": {
     "base_uri": "https://localhost:8080/",
     "height": 51
    },
    "id": "Exb2U_jU9FcN",
    "outputId": "3c8aeb1b-8904-4f8b-a2d2-d940e43b2d22"
   },
   "outputs": [
    {
     "name": "stdout",
     "output_type": "stream",
     "text": [
      "Requirement already satisfied: scipy in /Library/Frameworks/Python.framework/Versions/3.8/lib/python3.8/site-packages (1.5.2)\n",
      "Requirement already satisfied: numpy>=1.14.5 in /Library/Frameworks/Python.framework/Versions/3.8/lib/python3.8/site-packages (from scipy) (1.19.1)\n",
      "\u001b[33mWARNING: You are using pip version 20.0.2; however, version 20.2.3 is available.\n",
      "You should consider upgrading via the '/Library/Frameworks/Python.framework/Versions/3.8/bin/python3.8 -m pip install --upgrade pip' command.\u001b[0m\n"
     ]
    }
   ],
   "source": [
    "!pip install scipy"
   ]
  },
  {
   "cell_type": "code",
   "execution_count": null,
   "metadata": {},
   "outputs": [],
   "source": []
  },
  {
   "cell_type": "code",
   "execution_count": 4,
   "metadata": {
    "id": "VIAdHhCkxrI8"
   },
   "outputs": [
    {
     "ename": "ModuleNotFoundError",
     "evalue": "No module named 'spacy'",
     "output_type": "error",
     "traceback": [
      "\u001b[0;31m---------------------------------------------------------------------------\u001b[0m",
      "\u001b[0;31mModuleNotFoundError\u001b[0m                       Traceback (most recent call last)",
      "\u001b[0;32m<ipython-input-4-ab4b3548e0d2>\u001b[0m in \u001b[0;36m<module>\u001b[0;34m\u001b[0m\n\u001b[1;32m      2\u001b[0m \u001b[0;32mimport\u001b[0m \u001b[0mstring\u001b[0m\u001b[0;34m\u001b[0m\u001b[0;34m\u001b[0m\u001b[0m\n\u001b[1;32m      3\u001b[0m \u001b[0;32mimport\u001b[0m \u001b[0mnltk\u001b[0m\u001b[0;34m\u001b[0m\u001b[0;34m\u001b[0m\u001b[0m\n\u001b[0;32m----> 4\u001b[0;31m \u001b[0;32mimport\u001b[0m \u001b[0mspacy\u001b[0m\u001b[0;34m\u001b[0m\u001b[0;34m\u001b[0m\u001b[0m\n\u001b[0m\u001b[1;32m      5\u001b[0m \u001b[0;32mimport\u001b[0m \u001b[0mnumpy\u001b[0m \u001b[0;32mas\u001b[0m \u001b[0mnp\u001b[0m\u001b[0;34m\u001b[0m\u001b[0;34m\u001b[0m\u001b[0m\n\u001b[1;32m      6\u001b[0m \u001b[0;32mimport\u001b[0m \u001b[0mmath\u001b[0m\u001b[0;34m\u001b[0m\u001b[0;34m\u001b[0m\u001b[0m\n",
      "\u001b[0;31mModuleNotFoundError\u001b[0m: No module named 'spacy'"
     ]
    }
   ],
   "source": [
    "import re \n",
    "import string \n",
    "import nltk \n",
    "import spacy\n",
    "import numpy as np \n",
    "import math \n",
    "from tqdm import tqdm \n",
    "import scipy\n",
    "from spacy.matcher import Matcher \n",
    "from spacy.tokens import Span \n",
    "from spacy import displacy \n",
    "\n",
    "nlp = spacy.load('en_core_web_sm')"
   ]
  },
  {
   "cell_type": "code",
   "execution_count": null,
   "metadata": {
    "colab": {
     "base_uri": "https://localhost:8080/",
     "height": 215
    },
    "id": "LmhWMGq40e4h",
    "outputId": "c5d88625-80ae-49b3-b0ff-b437e3725f19"
   },
   "outputs": [],
   "source": [
    "\n",
    "googleSchotitl = df['Titles'].tolist()\n",
    "doc = [nlp(i) for i in googleSchotitl]\n",
    "for tok in doc: \n",
    "    print(tok.text, \"----->\", tok.dep_)\n",
    "doc"
   ]
  },
  {
   "cell_type": "markdown",
   "metadata": {
    "id": "Dq_7VGmrsum4"
   },
   "source": [
    "## **2. Domain-specific information extraction (10 points)**\n",
    "\n",
    "For the legal case used in the data cleaning exercise: [01-05-1 Adams v Tanner.txt](https://github.com/unt-iialab/INFO5731_FALL2020/blob/master/In_class_exercise/01-05-1%20%20Adams%20v%20Tanner.txt), use [legalNLP](https://lexpredict-lexnlp.readthedocs.io/en/latest/modules/extract/extract.html#nlp-based-extraction-methods) to extract the following inforation from the text (if the information is not exist, just print None):\n",
    "\n",
    "(1) acts, e.g., “section 1 of the Advancing Hope Act, 1986”\n",
    "\n",
    "(2) amounts, e.g., “ten pounds” or “5.8 megawatts”\n",
    "\n",
    "(3) citations, e.g., “10 U.S. 100” or “1998 S. Ct. 1”\n",
    "\n",
    "(4) companies, e.g., “Lexpredict LLC”\n",
    "\n",
    "(5) conditions, e.g., “subject to …” or “unless and until …”\n",
    "\n",
    "(6) constraints, e.g., “no more than”\n",
    "\n",
    "(7) copyright, e.g., “(C) Copyright 2000 Acme”\n",
    "\n",
    "(8) courts, e.g., “Supreme Court of New York”\n",
    "\n",
    "(9) CUSIP, e.g., “392690QT3”\n",
    "\n",
    "(10) dates, e.g., “June 1, 2017” or “2018-01-01”\n",
    "\n",
    "(11) definitions, e.g., “Term shall mean …”\n",
    "\n",
    "(12) distances, e.g., “fifteen miles”\n",
    "\n",
    "(13) durations, e.g., “ten years” or “thirty days”\n",
    "\n",
    "(14) geographic and geopolitical entities, e.g., “New York” or “Norway”\n",
    "\n",
    "(15) money and currency usages, e.g., “$5” or “10 Euro”\n",
    "\n",
    "(16) percents and rates, e.g., “10%” or “50 bps”\n",
    "\n",
    "(17) PII, e.g., “212-212-2121” or “999-999-9999”\n",
    "\n",
    "(18) ratios, e.g.,” 3:1” or “four to three”\n",
    "\n",
    "(19) regulations, e.g., “32 CFR 170”\n",
    "\n",
    "(20) trademarks, e.g., “MyApp (TM)”\n",
    "\n",
    "(21) URLs, e.g., “http://acme.com/”\n",
    "\n",
    "(22) addresses, e.g., “1999 Mount Read Blvd, Rochester, NY, USA, 14615”\n",
    "\n",
    "(23) persons, e.g., “John Doe"
   ]
  },
  {
   "cell_type": "code",
   "execution_count": null,
   "metadata": {
    "id": "qc7NtJrLx5tS"
   },
   "outputs": [],
   "source": [
    "# write your code here"
   ]
  }
 ],
 "metadata": {
  "colab": {
   "collapsed_sections": [],
   "name": "In_class_exercise_06.ipynb",
   "provenance": [],
   "toc_visible": true
  },
  "kernelspec": {
   "display_name": "Python 3",
   "language": "python",
   "name": "python3"
  },
  "language_info": {
   "codemirror_mode": {
    "name": "ipython",
    "version": 3
   },
   "file_extension": ".py",
   "mimetype": "text/x-python",
   "name": "python",
   "nbconvert_exporter": "python",
   "pygments_lexer": "ipython3",
   "version": "3.8.3"
  }
 },
 "nbformat": 4,
 "nbformat_minor": 1
}

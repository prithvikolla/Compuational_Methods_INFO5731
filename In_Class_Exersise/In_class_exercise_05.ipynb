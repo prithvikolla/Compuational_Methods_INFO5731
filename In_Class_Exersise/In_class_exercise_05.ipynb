{
  "nbformat": 4,
  "nbformat_minor": 0,
  "metadata": {
    "kernelspec": {
      "display_name": "Python 3",
      "language": "python",
      "name": "python3"
    },
    "language_info": {
      "codemirror_mode": {
        "name": "ipython",
        "version": 3
      },
      "file_extension": ".py",
      "mimetype": "text/x-python",
      "name": "python",
      "nbconvert_exporter": "python",
      "pygments_lexer": "ipython3",
      "version": "3.7.4"
    },
    "colab": {
      "name": "In-class-exercise-05.ipynb",
      "provenance": [],
      "collapsed_sections": []
    }
  },
  "cells": [
    {
      "cell_type": "markdown",
      "metadata": {
        "id": "1Zkv7EyzAOFA"
      },
      "source": [
        "## The fifth In-class-exercise (9/30/2020, 20 points in total)"
      ]
    },
    {
      "cell_type": "markdown",
      "metadata": {
        "id": "DUvBRq2zAOFD"
      },
      "source": [
        "In exercise-03, I asked you to collected 500 textual data based on your own information needs (If you didn't collect the textual data, you should recollect for this exercise). Now we need to think about how to represent the textual data for text classification. In this exercise, you are required to select 10 types of features (10 types of features but absolutely more than 10 features) in the followings feature list, then represent the 500 texts with these features. The output should be in the following format:\n",
        "![image.png](attachment:image.png)\n",
        "\n",
        "The feature list:\n",
        "\n",
        "* (1) tf-idf features\n",
        "* (2) POS-tag features: number of adjective, adverb, auxiliary, punctuation, complementizer, coordinating conjunction, subordinating conjunction, determiner, interjection, noun, possessor, preposition, pronoun, quantifier, verb, and other. (select some of them if you use pos-tag features)\n",
        "* (3) Linguistic features:\n",
        "  * number of right-branching nodes across all constituent types\n",
        "  * number of right-branching nodes for NPs only\n",
        "  * number of left-branching nodes across all constituent types\n",
        "  * number of left-branching nodes for NPs only\n",
        "  * number of premodifiers across all constituent types\n",
        "  * number of premodifiers within NPs only\n",
        "  * number of postmodifiers across all constituent types\n",
        "  * number of postmodifiers within NPs only\n",
        "  * branching index across all constituent types, i.e. the number of right-branching nodes minus number of left-branching nodes\n",
        "  * branching index for NPs only\n",
        "  * branching weight index: number of tokens covered by right-branching nodes minus number of tokens covered by left-branching nodes across all categories\n",
        "  * branching weight index for NPs only \n",
        "  * modification index, i.e. the number of premodifiers minus the number of postmodifiers across all categories\n",
        "  * modification index for NPs only\n",
        "  * modification weight index: length in tokens of all premodifiers minus length in tokens of all postmodifiers across all categories\n",
        "  * modification weight index for NPs only\n",
        "  * coordination balance, i.e. the maximal length difference in coordinated constituents\n",
        "  \n",
        "  * density (density can be calculated using the ratio of folowing function words to content words) of determiners/quantifiers\n",
        "  * density of pronouns\n",
        "  * density of prepositions\n",
        "  * density of punctuation marks, specifically commas and semicolons\n",
        "  * density of auxiliary verbs\n",
        "  * density of conjunctions\n",
        "  * density of different pronoun types: Wh, 1st, 2nd, and 3rd person pronouns\n",
        "  \n",
        "  * maximal and average NP length\n",
        "  * maximal and average AJP length\n",
        "  * maximal and average PP length\n",
        "  * maximal and average AVP length\n",
        "  * sentence length\n",
        "\n",
        "* Other features in your mind (ie., pre-defined patterns)"
      ]
    },
    {
      "cell_type": "code",
      "metadata": {
        "id": "ks0rH0y_AOFE",
        "outputId": "9d5aa1bf-d2b0-49b5-b0a1-3da62c3cd8a6",
        "colab": {
          "base_uri": "https://localhost:8080/",
          "height": 359
        }
      },
      "source": [
        "# Please write your code here\n",
        "\n",
        "#Collecting Project Euler Data Here Again.\n",
        "\n",
        "import pandas as pd\n",
        "import requests\n",
        "from bs4 import BeautifulSoup\n",
        "Id = []\n",
        "Id_List = [ ]\n",
        "tableRow = [ ]\n",
        "Description = []\n",
        "Description_List = [ ]\n",
        "Solved_By = []\n",
        "Solved_By_List = [ ]\n",
        "for i in range(1,16):\n",
        " page = requests.get('https://projecteuler.net/archives;page='+ str (i))\n",
        " soup = BeautifulSoup(page.content,'html.parser')\n",
        " Id.append(soup.find_all('td',class_=\"id_column\"))\n",
        " tableRow.append(soup.find_all('tr')) #for loop till\n",
        " Solved_By.append(soup.find_all('div',class_=\"center\"))\n",
        "for item in Id:\n",
        "  for i in range(len(item)):\n",
        "    Id_List.append(int (item[i].get_text()))\n",
        "for item in tableRow:\n",
        "  for i in range(len(item)):\n",
        "    Description.append(item[i].find('a'))\n",
        "for item in Solved_By:\n",
        "  for i in range(len(item)):\n",
        "    Solved_By_List.append(int (item[i].get_text())) \n",
        "Description = list(filter(None.__ne__, Description))\n",
        "for item in Description:\n",
        "  Description_List.append(item.get_text())\n",
        "df= pd.DataFrame({'Id':Id_List,'Description': Description_List,'Solved_By':Solved_By_List})\n",
        "df.head(10)"
      ],
      "execution_count": 1,
      "outputs": [
        {
          "output_type": "execute_result",
          "data": {
            "text/html": [
              "<div>\n",
              "<style scoped>\n",
              "    .dataframe tbody tr th:only-of-type {\n",
              "        vertical-align: middle;\n",
              "    }\n",
              "\n",
              "    .dataframe tbody tr th {\n",
              "        vertical-align: top;\n",
              "    }\n",
              "\n",
              "    .dataframe thead th {\n",
              "        text-align: right;\n",
              "    }\n",
              "</style>\n",
              "<table border=\"1\" class=\"dataframe\">\n",
              "  <thead>\n",
              "    <tr style=\"text-align: right;\">\n",
              "      <th></th>\n",
              "      <th>Id</th>\n",
              "      <th>Description</th>\n",
              "      <th>Solved_By</th>\n",
              "    </tr>\n",
              "  </thead>\n",
              "  <tbody>\n",
              "    <tr>\n",
              "      <th>0</th>\n",
              "      <td>1</td>\n",
              "      <td>Multiples of 3 and 5</td>\n",
              "      <td>964716</td>\n",
              "    </tr>\n",
              "    <tr>\n",
              "      <th>1</th>\n",
              "      <td>2</td>\n",
              "      <td>Even Fibonacci numbers</td>\n",
              "      <td>767848</td>\n",
              "    </tr>\n",
              "    <tr>\n",
              "      <th>2</th>\n",
              "      <td>3</td>\n",
              "      <td>Largest prime factor</td>\n",
              "      <td>550354</td>\n",
              "    </tr>\n",
              "    <tr>\n",
              "      <th>3</th>\n",
              "      <td>4</td>\n",
              "      <td>Largest palindrome product</td>\n",
              "      <td>486151</td>\n",
              "    </tr>\n",
              "    <tr>\n",
              "      <th>4</th>\n",
              "      <td>5</td>\n",
              "      <td>Smallest multiple</td>\n",
              "      <td>489754</td>\n",
              "    </tr>\n",
              "    <tr>\n",
              "      <th>5</th>\n",
              "      <td>6</td>\n",
              "      <td>Sum square difference</td>\n",
              "      <td>492781</td>\n",
              "    </tr>\n",
              "    <tr>\n",
              "      <th>6</th>\n",
              "      <td>7</td>\n",
              "      <td>10001st prime</td>\n",
              "      <td>421083</td>\n",
              "    </tr>\n",
              "    <tr>\n",
              "      <th>7</th>\n",
              "      <td>8</td>\n",
              "      <td>Largest product in a series</td>\n",
              "      <td>351733</td>\n",
              "    </tr>\n",
              "    <tr>\n",
              "      <th>8</th>\n",
              "      <td>9</td>\n",
              "      <td>Special Pythagorean triplet</td>\n",
              "      <td>357200</td>\n",
              "    </tr>\n",
              "    <tr>\n",
              "      <th>9</th>\n",
              "      <td>10</td>\n",
              "      <td>Summation of primes</td>\n",
              "      <td>326876</td>\n",
              "    </tr>\n",
              "  </tbody>\n",
              "</table>\n",
              "</div>"
            ],
            "text/plain": [
              "   Id                  Description  Solved_By\n",
              "0   1         Multiples of 3 and 5     964716\n",
              "1   2       Even Fibonacci numbers     767848\n",
              "2   3         Largest prime factor     550354\n",
              "3   4   Largest palindrome product     486151\n",
              "4   5            Smallest multiple     489754\n",
              "5   6        Sum square difference     492781\n",
              "6   7                10001st prime     421083\n",
              "7   8  Largest product in a series     351733\n",
              "8   9  Special Pythagorean triplet     357200\n",
              "9  10          Summation of primes     326876"
            ]
          },
          "metadata": {
            "tags": []
          },
          "execution_count": 1
        }
      ]
    },
    {
      "cell_type": "code",
      "metadata": {
        "id": "poT0_LiWPZRA",
        "outputId": "7fd7897c-f55e-4a15-abfd-0c7dc4781adb",
        "colab": {
          "base_uri": "https://localhost:8080/",
          "height": 204
        }
      },
      "source": [
        "#Number of Words in Description\n",
        "df['Description_word_count'] = df['Description'].apply(lambda x: len(str(x).split(\" \")))\n",
        "df[['Description','Description_word_count']].head()"
      ],
      "execution_count": 2,
      "outputs": [
        {
          "output_type": "execute_result",
          "data": {
            "text/html": [
              "<div>\n",
              "<style scoped>\n",
              "    .dataframe tbody tr th:only-of-type {\n",
              "        vertical-align: middle;\n",
              "    }\n",
              "\n",
              "    .dataframe tbody tr th {\n",
              "        vertical-align: top;\n",
              "    }\n",
              "\n",
              "    .dataframe thead th {\n",
              "        text-align: right;\n",
              "    }\n",
              "</style>\n",
              "<table border=\"1\" class=\"dataframe\">\n",
              "  <thead>\n",
              "    <tr style=\"text-align: right;\">\n",
              "      <th></th>\n",
              "      <th>Description</th>\n",
              "      <th>Description_word_count</th>\n",
              "    </tr>\n",
              "  </thead>\n",
              "  <tbody>\n",
              "    <tr>\n",
              "      <th>0</th>\n",
              "      <td>Multiples of 3 and 5</td>\n",
              "      <td>5</td>\n",
              "    </tr>\n",
              "    <tr>\n",
              "      <th>1</th>\n",
              "      <td>Even Fibonacci numbers</td>\n",
              "      <td>3</td>\n",
              "    </tr>\n",
              "    <tr>\n",
              "      <th>2</th>\n",
              "      <td>Largest prime factor</td>\n",
              "      <td>3</td>\n",
              "    </tr>\n",
              "    <tr>\n",
              "      <th>3</th>\n",
              "      <td>Largest palindrome product</td>\n",
              "      <td>3</td>\n",
              "    </tr>\n",
              "    <tr>\n",
              "      <th>4</th>\n",
              "      <td>Smallest multiple</td>\n",
              "      <td>2</td>\n",
              "    </tr>\n",
              "  </tbody>\n",
              "</table>\n",
              "</div>"
            ],
            "text/plain": [
              "                  Description  Description_word_count\n",
              "0        Multiples of 3 and 5                       5\n",
              "1      Even Fibonacci numbers                       3\n",
              "2        Largest prime factor                       3\n",
              "3  Largest palindrome product                       3\n",
              "4           Smallest multiple                       2"
            ]
          },
          "metadata": {
            "tags": []
          },
          "execution_count": 2
        }
      ]
    },
    {
      "cell_type": "code",
      "metadata": {
        "id": "PMUrowm6WQyd",
        "outputId": "4d4f53ff-a30a-442e-a09a-bf8cb6c23c7b",
        "colab": {
          "base_uri": "https://localhost:8080/",
          "height": 204
        }
      },
      "source": [
        "# Number of Characters\n",
        "df['Description_char_count'] = df['Description'].str.len() ## this also includes spaces\n",
        "df[['Description','Description_char_count']].head()"
      ],
      "execution_count": 3,
      "outputs": [
        {
          "output_type": "execute_result",
          "data": {
            "text/html": [
              "<div>\n",
              "<style scoped>\n",
              "    .dataframe tbody tr th:only-of-type {\n",
              "        vertical-align: middle;\n",
              "    }\n",
              "\n",
              "    .dataframe tbody tr th {\n",
              "        vertical-align: top;\n",
              "    }\n",
              "\n",
              "    .dataframe thead th {\n",
              "        text-align: right;\n",
              "    }\n",
              "</style>\n",
              "<table border=\"1\" class=\"dataframe\">\n",
              "  <thead>\n",
              "    <tr style=\"text-align: right;\">\n",
              "      <th></th>\n",
              "      <th>Description</th>\n",
              "      <th>Description_char_count</th>\n",
              "    </tr>\n",
              "  </thead>\n",
              "  <tbody>\n",
              "    <tr>\n",
              "      <th>0</th>\n",
              "      <td>Multiples of 3 and 5</td>\n",
              "      <td>20</td>\n",
              "    </tr>\n",
              "    <tr>\n",
              "      <th>1</th>\n",
              "      <td>Even Fibonacci numbers</td>\n",
              "      <td>22</td>\n",
              "    </tr>\n",
              "    <tr>\n",
              "      <th>2</th>\n",
              "      <td>Largest prime factor</td>\n",
              "      <td>20</td>\n",
              "    </tr>\n",
              "    <tr>\n",
              "      <th>3</th>\n",
              "      <td>Largest palindrome product</td>\n",
              "      <td>26</td>\n",
              "    </tr>\n",
              "    <tr>\n",
              "      <th>4</th>\n",
              "      <td>Smallest multiple</td>\n",
              "      <td>17</td>\n",
              "    </tr>\n",
              "  </tbody>\n",
              "</table>\n",
              "</div>"
            ],
            "text/plain": [
              "                  Description  Description_char_count\n",
              "0        Multiples of 3 and 5                      20\n",
              "1      Even Fibonacci numbers                      22\n",
              "2        Largest prime factor                      20\n",
              "3  Largest palindrome product                      26\n",
              "4           Smallest multiple                      17"
            ]
          },
          "metadata": {
            "tags": []
          },
          "execution_count": 3
        }
      ]
    },
    {
      "cell_type": "code",
      "metadata": {
        "id": "5Qs7Ydm8c51I",
        "outputId": "6b2464fa-67f8-4259-ee99-18d6d332f57c",
        "colab": {
          "base_uri": "https://localhost:8080/",
          "height": 204
        }
      },
      "source": [
        "#Average Word Length\n",
        "\n",
        "def avg_word(sentence):\n",
        "  words = sentence.split()\n",
        "  return (sum(len(word) for word in words)/len(words))\n",
        "\n",
        "df['Description_avg_word'] = df['Description'].apply(lambda x: avg_word(x))\n",
        "df[['Description','Description_avg_word']].head()"
      ],
      "execution_count": 4,
      "outputs": [
        {
          "output_type": "execute_result",
          "data": {
            "text/html": [
              "<div>\n",
              "<style scoped>\n",
              "    .dataframe tbody tr th:only-of-type {\n",
              "        vertical-align: middle;\n",
              "    }\n",
              "\n",
              "    .dataframe tbody tr th {\n",
              "        vertical-align: top;\n",
              "    }\n",
              "\n",
              "    .dataframe thead th {\n",
              "        text-align: right;\n",
              "    }\n",
              "</style>\n",
              "<table border=\"1\" class=\"dataframe\">\n",
              "  <thead>\n",
              "    <tr style=\"text-align: right;\">\n",
              "      <th></th>\n",
              "      <th>Description</th>\n",
              "      <th>Description_avg_word</th>\n",
              "    </tr>\n",
              "  </thead>\n",
              "  <tbody>\n",
              "    <tr>\n",
              "      <th>0</th>\n",
              "      <td>Multiples of 3 and 5</td>\n",
              "      <td>3.200000</td>\n",
              "    </tr>\n",
              "    <tr>\n",
              "      <th>1</th>\n",
              "      <td>Even Fibonacci numbers</td>\n",
              "      <td>6.666667</td>\n",
              "    </tr>\n",
              "    <tr>\n",
              "      <th>2</th>\n",
              "      <td>Largest prime factor</td>\n",
              "      <td>6.000000</td>\n",
              "    </tr>\n",
              "    <tr>\n",
              "      <th>3</th>\n",
              "      <td>Largest palindrome product</td>\n",
              "      <td>8.000000</td>\n",
              "    </tr>\n",
              "    <tr>\n",
              "      <th>4</th>\n",
              "      <td>Smallest multiple</td>\n",
              "      <td>8.000000</td>\n",
              "    </tr>\n",
              "  </tbody>\n",
              "</table>\n",
              "</div>"
            ],
            "text/plain": [
              "                  Description  Description_avg_word\n",
              "0        Multiples of 3 and 5              3.200000\n",
              "1      Even Fibonacci numbers              6.666667\n",
              "2        Largest prime factor              6.000000\n",
              "3  Largest palindrome product              8.000000\n",
              "4           Smallest multiple              8.000000"
            ]
          },
          "metadata": {
            "tags": []
          },
          "execution_count": 4
        }
      ]
    },
    {
      "cell_type": "code",
      "metadata": {
        "id": "rLfqS1DZdYM7",
        "outputId": "af817916-632b-418b-a8eb-41bb6cfe7fce",
        "colab": {
          "base_uri": "https://localhost:8080/",
          "height": 393
        }
      },
      "source": [
        "#Number of Stop Words\n",
        "from nltk.corpus import stopwords\n",
        "\n",
        "import nltk\n",
        "nltk.download('stopwords')\n",
        "stop = stopwords.words('english')\n",
        "\n",
        "df['stopwords_Description'] = df['Description'].apply(lambda x: len([x for x in x.split() if x in stop]))\n",
        "df[['Description','stopwords_Description']].head(10)"
      ],
      "execution_count": 5,
      "outputs": [
        {
          "output_type": "stream",
          "text": [
            "[nltk_data] Downloading package stopwords to /root/nltk_data...\n",
            "[nltk_data]   Package stopwords is already up-to-date!\n"
          ],
          "name": "stdout"
        },
        {
          "output_type": "execute_result",
          "data": {
            "text/html": [
              "<div>\n",
              "<style scoped>\n",
              "    .dataframe tbody tr th:only-of-type {\n",
              "        vertical-align: middle;\n",
              "    }\n",
              "\n",
              "    .dataframe tbody tr th {\n",
              "        vertical-align: top;\n",
              "    }\n",
              "\n",
              "    .dataframe thead th {\n",
              "        text-align: right;\n",
              "    }\n",
              "</style>\n",
              "<table border=\"1\" class=\"dataframe\">\n",
              "  <thead>\n",
              "    <tr style=\"text-align: right;\">\n",
              "      <th></th>\n",
              "      <th>Description</th>\n",
              "      <th>stopwords_Description</th>\n",
              "    </tr>\n",
              "  </thead>\n",
              "  <tbody>\n",
              "    <tr>\n",
              "      <th>0</th>\n",
              "      <td>Multiples of 3 and 5</td>\n",
              "      <td>2</td>\n",
              "    </tr>\n",
              "    <tr>\n",
              "      <th>1</th>\n",
              "      <td>Even Fibonacci numbers</td>\n",
              "      <td>0</td>\n",
              "    </tr>\n",
              "    <tr>\n",
              "      <th>2</th>\n",
              "      <td>Largest prime factor</td>\n",
              "      <td>0</td>\n",
              "    </tr>\n",
              "    <tr>\n",
              "      <th>3</th>\n",
              "      <td>Largest palindrome product</td>\n",
              "      <td>0</td>\n",
              "    </tr>\n",
              "    <tr>\n",
              "      <th>4</th>\n",
              "      <td>Smallest multiple</td>\n",
              "      <td>0</td>\n",
              "    </tr>\n",
              "    <tr>\n",
              "      <th>5</th>\n",
              "      <td>Sum square difference</td>\n",
              "      <td>0</td>\n",
              "    </tr>\n",
              "    <tr>\n",
              "      <th>6</th>\n",
              "      <td>10001st prime</td>\n",
              "      <td>0</td>\n",
              "    </tr>\n",
              "    <tr>\n",
              "      <th>7</th>\n",
              "      <td>Largest product in a series</td>\n",
              "      <td>2</td>\n",
              "    </tr>\n",
              "    <tr>\n",
              "      <th>8</th>\n",
              "      <td>Special Pythagorean triplet</td>\n",
              "      <td>0</td>\n",
              "    </tr>\n",
              "    <tr>\n",
              "      <th>9</th>\n",
              "      <td>Summation of primes</td>\n",
              "      <td>1</td>\n",
              "    </tr>\n",
              "  </tbody>\n",
              "</table>\n",
              "</div>"
            ],
            "text/plain": [
              "                   Description  stopwords_Description\n",
              "0         Multiples of 3 and 5                      2\n",
              "1       Even Fibonacci numbers                      0\n",
              "2         Largest prime factor                      0\n",
              "3   Largest palindrome product                      0\n",
              "4            Smallest multiple                      0\n",
              "5        Sum square difference                      0\n",
              "6                10001st prime                      0\n",
              "7  Largest product in a series                      2\n",
              "8  Special Pythagorean triplet                      0\n",
              "9          Summation of primes                      1"
            ]
          },
          "metadata": {
            "tags": []
          },
          "execution_count": 5
        }
      ]
    },
    {
      "cell_type": "code",
      "metadata": {
        "id": "qPlZF-l4e8R7",
        "outputId": "3ee5d6ec-04b5-4249-c5d1-999a7b322434",
        "colab": {
          "base_uri": "https://localhost:8080/",
          "height": 204
        }
      },
      "source": [
        "#Number of Special Characters\n",
        "df['hastags_Description'] = df['Description'].apply(lambda x: len([x for x in x.split() if x.startswith('#')]))\n",
        "df[['Description','hastags_Description']].head()"
      ],
      "execution_count": 6,
      "outputs": [
        {
          "output_type": "execute_result",
          "data": {
            "text/html": [
              "<div>\n",
              "<style scoped>\n",
              "    .dataframe tbody tr th:only-of-type {\n",
              "        vertical-align: middle;\n",
              "    }\n",
              "\n",
              "    .dataframe tbody tr th {\n",
              "        vertical-align: top;\n",
              "    }\n",
              "\n",
              "    .dataframe thead th {\n",
              "        text-align: right;\n",
              "    }\n",
              "</style>\n",
              "<table border=\"1\" class=\"dataframe\">\n",
              "  <thead>\n",
              "    <tr style=\"text-align: right;\">\n",
              "      <th></th>\n",
              "      <th>Description</th>\n",
              "      <th>hastags_Description</th>\n",
              "    </tr>\n",
              "  </thead>\n",
              "  <tbody>\n",
              "    <tr>\n",
              "      <th>0</th>\n",
              "      <td>Multiples of 3 and 5</td>\n",
              "      <td>0</td>\n",
              "    </tr>\n",
              "    <tr>\n",
              "      <th>1</th>\n",
              "      <td>Even Fibonacci numbers</td>\n",
              "      <td>0</td>\n",
              "    </tr>\n",
              "    <tr>\n",
              "      <th>2</th>\n",
              "      <td>Largest prime factor</td>\n",
              "      <td>0</td>\n",
              "    </tr>\n",
              "    <tr>\n",
              "      <th>3</th>\n",
              "      <td>Largest palindrome product</td>\n",
              "      <td>0</td>\n",
              "    </tr>\n",
              "    <tr>\n",
              "      <th>4</th>\n",
              "      <td>Smallest multiple</td>\n",
              "      <td>0</td>\n",
              "    </tr>\n",
              "  </tbody>\n",
              "</table>\n",
              "</div>"
            ],
            "text/plain": [
              "                  Description  hastags_Description\n",
              "0        Multiples of 3 and 5                    0\n",
              "1      Even Fibonacci numbers                    0\n",
              "2        Largest prime factor                    0\n",
              "3  Largest palindrome product                    0\n",
              "4           Smallest multiple                    0"
            ]
          },
          "metadata": {
            "tags": []
          },
          "execution_count": 6
        }
      ]
    },
    {
      "cell_type": "code",
      "metadata": {
        "id": "5eWoyLnPfaVL",
        "outputId": "aec26579-db77-421e-f175-8197fe8a65dd",
        "colab": {
          "base_uri": "https://localhost:8080/",
          "height": 204
        }
      },
      "source": [
        "#Number of Numerics\n",
        "df['numerics_Description'] = df['Description'].apply(lambda x: len([x for x in x.split() if x.isdigit()]))\n",
        "df[['Description','numerics_Description']].head()"
      ],
      "execution_count": 7,
      "outputs": [
        {
          "output_type": "execute_result",
          "data": {
            "text/html": [
              "<div>\n",
              "<style scoped>\n",
              "    .dataframe tbody tr th:only-of-type {\n",
              "        vertical-align: middle;\n",
              "    }\n",
              "\n",
              "    .dataframe tbody tr th {\n",
              "        vertical-align: top;\n",
              "    }\n",
              "\n",
              "    .dataframe thead th {\n",
              "        text-align: right;\n",
              "    }\n",
              "</style>\n",
              "<table border=\"1\" class=\"dataframe\">\n",
              "  <thead>\n",
              "    <tr style=\"text-align: right;\">\n",
              "      <th></th>\n",
              "      <th>Description</th>\n",
              "      <th>numerics_Description</th>\n",
              "    </tr>\n",
              "  </thead>\n",
              "  <tbody>\n",
              "    <tr>\n",
              "      <th>0</th>\n",
              "      <td>Multiples of 3 and 5</td>\n",
              "      <td>2</td>\n",
              "    </tr>\n",
              "    <tr>\n",
              "      <th>1</th>\n",
              "      <td>Even Fibonacci numbers</td>\n",
              "      <td>0</td>\n",
              "    </tr>\n",
              "    <tr>\n",
              "      <th>2</th>\n",
              "      <td>Largest prime factor</td>\n",
              "      <td>0</td>\n",
              "    </tr>\n",
              "    <tr>\n",
              "      <th>3</th>\n",
              "      <td>Largest palindrome product</td>\n",
              "      <td>0</td>\n",
              "    </tr>\n",
              "    <tr>\n",
              "      <th>4</th>\n",
              "      <td>Smallest multiple</td>\n",
              "      <td>0</td>\n",
              "    </tr>\n",
              "  </tbody>\n",
              "</table>\n",
              "</div>"
            ],
            "text/plain": [
              "                  Description  numerics_Description\n",
              "0        Multiples of 3 and 5                     2\n",
              "1      Even Fibonacci numbers                     0\n",
              "2        Largest prime factor                     0\n",
              "3  Largest palindrome product                     0\n",
              "4           Smallest multiple                     0"
            ]
          },
          "metadata": {
            "tags": []
          },
          "execution_count": 7
        }
      ]
    },
    {
      "cell_type": "code",
      "metadata": {
        "id": "ZZpn2mduZB1Y",
        "outputId": "08b23ec8-d481-4216-fafe-169ac635e782",
        "colab": {
          "base_uri": "https://localhost:8080/",
          "height": 359
        }
      },
      "source": [
        "#Number of Upper Case Words\n",
        "df['upper_Description'] = df['Description'].apply(lambda x: len([x for x in x.split() if x.isupper()]))\n",
        "df[['Description','upper_Description']].head(10)"
      ],
      "execution_count": 8,
      "outputs": [
        {
          "output_type": "execute_result",
          "data": {
            "text/html": [
              "<div>\n",
              "<style scoped>\n",
              "    .dataframe tbody tr th:only-of-type {\n",
              "        vertical-align: middle;\n",
              "    }\n",
              "\n",
              "    .dataframe tbody tr th {\n",
              "        vertical-align: top;\n",
              "    }\n",
              "\n",
              "    .dataframe thead th {\n",
              "        text-align: right;\n",
              "    }\n",
              "</style>\n",
              "<table border=\"1\" class=\"dataframe\">\n",
              "  <thead>\n",
              "    <tr style=\"text-align: right;\">\n",
              "      <th></th>\n",
              "      <th>Description</th>\n",
              "      <th>upper_Description</th>\n",
              "    </tr>\n",
              "  </thead>\n",
              "  <tbody>\n",
              "    <tr>\n",
              "      <th>0</th>\n",
              "      <td>Multiples of 3 and 5</td>\n",
              "      <td>0</td>\n",
              "    </tr>\n",
              "    <tr>\n",
              "      <th>1</th>\n",
              "      <td>Even Fibonacci numbers</td>\n",
              "      <td>0</td>\n",
              "    </tr>\n",
              "    <tr>\n",
              "      <th>2</th>\n",
              "      <td>Largest prime factor</td>\n",
              "      <td>0</td>\n",
              "    </tr>\n",
              "    <tr>\n",
              "      <th>3</th>\n",
              "      <td>Largest palindrome product</td>\n",
              "      <td>0</td>\n",
              "    </tr>\n",
              "    <tr>\n",
              "      <th>4</th>\n",
              "      <td>Smallest multiple</td>\n",
              "      <td>0</td>\n",
              "    </tr>\n",
              "    <tr>\n",
              "      <th>5</th>\n",
              "      <td>Sum square difference</td>\n",
              "      <td>0</td>\n",
              "    </tr>\n",
              "    <tr>\n",
              "      <th>6</th>\n",
              "      <td>10001st prime</td>\n",
              "      <td>0</td>\n",
              "    </tr>\n",
              "    <tr>\n",
              "      <th>7</th>\n",
              "      <td>Largest product in a series</td>\n",
              "      <td>0</td>\n",
              "    </tr>\n",
              "    <tr>\n",
              "      <th>8</th>\n",
              "      <td>Special Pythagorean triplet</td>\n",
              "      <td>0</td>\n",
              "    </tr>\n",
              "    <tr>\n",
              "      <th>9</th>\n",
              "      <td>Summation of primes</td>\n",
              "      <td>0</td>\n",
              "    </tr>\n",
              "  </tbody>\n",
              "</table>\n",
              "</div>"
            ],
            "text/plain": [
              "                   Description  upper_Description\n",
              "0         Multiples of 3 and 5                  0\n",
              "1       Even Fibonacci numbers                  0\n",
              "2         Largest prime factor                  0\n",
              "3   Largest palindrome product                  0\n",
              "4            Smallest multiple                  0\n",
              "5        Sum square difference                  0\n",
              "6                10001st prime                  0\n",
              "7  Largest product in a series                  0\n",
              "8  Special Pythagorean triplet                  0\n",
              "9          Summation of primes                  0"
            ]
          },
          "metadata": {
            "tags": []
          },
          "execution_count": 8
        }
      ]
    },
    {
      "cell_type": "markdown",
      "metadata": {
        "id": "2Bx5MkdxZ2vP"
      },
      "source": [
        "**Preprocessing the text.**"
      ]
    },
    {
      "cell_type": "code",
      "metadata": {
        "id": "ZJROqjfTZWG9",
        "outputId": "a27e7e1e-4d3b-4d95-c084-b79b34c91acb",
        "colab": {
          "base_uri": "https://localhost:8080/",
          "height": 204
        }
      },
      "source": [
        "#Convert the text into the lower case text\n",
        "df['Description'] = df['Description'].apply(lambda x: \" \".join(x.lower() for x in x.split()))\n",
        "df['Description'].head(10)"
      ],
      "execution_count": 9,
      "outputs": [
        {
          "output_type": "execute_result",
          "data": {
            "text/plain": [
              "0           multiples of 3 and 5\n",
              "1         even fibonacci numbers\n",
              "2           largest prime factor\n",
              "3     largest palindrome product\n",
              "4              smallest multiple\n",
              "5          sum square difference\n",
              "6                  10001st prime\n",
              "7    largest product in a series\n",
              "8    special pythagorean triplet\n",
              "9            summation of primes\n",
              "Name: Description, dtype: object"
            ]
          },
          "metadata": {
            "tags": []
          },
          "execution_count": 9
        }
      ]
    },
    {
      "cell_type": "code",
      "metadata": {
        "id": "e-wl_KiCZ-mk",
        "outputId": "a8e2afc6-62d0-458d-a228-72985795976e",
        "colab": {
          "base_uri": "https://localhost:8080/",
          "height": 204
        }
      },
      "source": [
        "#Removing the Punctuation\n",
        "df['Description'] = df['Description'].str.replace('[^\\w\\s]','')\n",
        "df['Description'].head(10)"
      ],
      "execution_count": 10,
      "outputs": [
        {
          "output_type": "execute_result",
          "data": {
            "text/plain": [
              "0           multiples of 3 and 5\n",
              "1         even fibonacci numbers\n",
              "2           largest prime factor\n",
              "3     largest palindrome product\n",
              "4              smallest multiple\n",
              "5          sum square difference\n",
              "6                  10001st prime\n",
              "7    largest product in a series\n",
              "8    special pythagorean triplet\n",
              "9            summation of primes\n",
              "Name: Description, dtype: object"
            ]
          },
          "metadata": {
            "tags": []
          },
          "execution_count": 10
        }
      ]
    },
    {
      "cell_type": "code",
      "metadata": {
        "id": "L7P4HJA9aNHH",
        "outputId": "41d8c6d5-407f-4ca0-e2fb-21315d3d3ffc",
        "colab": {
          "base_uri": "https://localhost:8080/",
          "height": 119
        }
      },
      "source": [
        "#Removal of StopWords\n",
        "from nltk.corpus import stopwords\n",
        "stop = stopwords.words('english')\n",
        "df['Description'] = df['Description'].apply(lambda x: \" \".join(x for x in x.split() if x not in stop))\n",
        "df['Description'].head()"
      ],
      "execution_count": 11,
      "outputs": [
        {
          "output_type": "execute_result",
          "data": {
            "text/plain": [
              "0                 multiples 3 5\n",
              "1        even fibonacci numbers\n",
              "2          largest prime factor\n",
              "3    largest palindrome product\n",
              "4             smallest multiple\n",
              "Name: Description, dtype: object"
            ]
          },
          "metadata": {
            "tags": []
          },
          "execution_count": 11
        }
      ]
    },
    {
      "cell_type": "code",
      "metadata": {
        "id": "K1N72PD_bPbI",
        "outputId": "30df7318-074a-4b5f-bb64-59d5f64ae9d0",
        "colab": {
          "base_uri": "https://localhost:8080/",
          "height": 204
        }
      },
      "source": [
        "#Common Word Removal\n",
        "freq = pd.Series(' '.join(df['Description']).split()).value_counts()[:10]\n",
        "freq"
      ],
      "execution_count": 12,
      "outputs": [
        {
          "output_type": "execute_result",
          "data": {
            "text/plain": [
              "numbers      50\n",
              "sum          39\n",
              "prime        37\n",
              "square       31\n",
              "triangles    25\n",
              "number       20\n",
              "sequence     20\n",
              "sums         20\n",
              "ii           19\n",
              "counting     17\n",
              "dtype: int64"
            ]
          },
          "metadata": {
            "tags": []
          },
          "execution_count": 12
        }
      ]
    },
    {
      "cell_type": "code",
      "metadata": {
        "id": "zzaoc34bbgFk",
        "outputId": "480f4b22-4bf3-4ced-c441-e864170e98e6",
        "colab": {
          "base_uri": "https://localhost:8080/",
          "height": 119
        }
      },
      "source": [
        "freq = list(freq.index)\n",
        "df['Description'] = df['Description'].apply(lambda x: \" \".join(x for x in x.split() if x not in freq))\n",
        "df['Description'].head()"
      ],
      "execution_count": 13,
      "outputs": [
        {
          "output_type": "execute_result",
          "data": {
            "text/plain": [
              "0                 multiples 3 5\n",
              "1                even fibonacci\n",
              "2                largest factor\n",
              "3    largest palindrome product\n",
              "4             smallest multiple\n",
              "Name: Description, dtype: object"
            ]
          },
          "metadata": {
            "tags": []
          },
          "execution_count": 13
        }
      ]
    },
    {
      "cell_type": "code",
      "metadata": {
        "id": "ibTw7PQxb-xd",
        "outputId": "d4963810-10b1-4c5d-8532-4f4e49bd78fb",
        "colab": {
          "base_uri": "https://localhost:8080/",
          "height": 204
        }
      },
      "source": [
        "#Rare Words Reoval\n",
        "freq1 = pd.Series(' '.join(df['Description']).split()).value_counts()[-10:]\n",
        "freq1"
      ],
      "execution_count": 14,
      "outputs": [
        {
          "output_type": "execute_result",
          "data": {
            "text/plain": [
              "testing         1\n",
              "combined        1\n",
              "st              1\n",
              "magic           1\n",
              "sheets          1\n",
              "pyramid         1\n",
              "constraining    1\n",
              "open            1\n",
              "fleeting        1\n",
              "flipping        1\n",
              "dtype: int64"
            ]
          },
          "metadata": {
            "tags": []
          },
          "execution_count": 14
        }
      ]
    },
    {
      "cell_type": "code",
      "metadata": {
        "id": "bDcGkVH2cWMP",
        "outputId": "ec10b7a3-c92e-4e4c-95cd-62f7dbc83712",
        "colab": {
          "base_uri": "https://localhost:8080/",
          "height": 119
        }
      },
      "source": [
        "freq1 = list(freq1.index)\n",
        "df['Description'] = df['Description'].apply(lambda x: \" \".join(x for x in x.split() if x not in freq1))\n",
        "df['Description'].head()"
      ],
      "execution_count": 15,
      "outputs": [
        {
          "output_type": "execute_result",
          "data": {
            "text/plain": [
              "0                 multiples 3 5\n",
              "1                even fibonacci\n",
              "2                largest factor\n",
              "3    largest palindrome product\n",
              "4             smallest multiple\n",
              "Name: Description, dtype: object"
            ]
          },
          "metadata": {
            "tags": []
          },
          "execution_count": 15
        }
      ]
    },
    {
      "cell_type": "code",
      "metadata": {
        "id": "ExdEksGmcjgE",
        "outputId": "99c3500f-c9ba-48a4-fcf3-cbfa34adc8d8",
        "colab": {
          "base_uri": "https://localhost:8080/",
          "height": 119
        }
      },
      "source": [
        "#Spelling Correction\n",
        "from textblob import TextBlob\n",
        "df['Description'][:5].apply(lambda x: str (TextBlob(x).correct()))"
      ],
      "execution_count": 16,
      "outputs": [
        {
          "output_type": "execute_result",
          "data": {
            "text/plain": [
              "0                  multiple 3 5\n",
              "1                even fibonacci\n",
              "2                largest factor\n",
              "3    largest palindrome product\n",
              "4             smallest multiple\n",
              "Name: Description, dtype: object"
            ]
          },
          "metadata": {
            "tags": []
          },
          "execution_count": 16
        }
      ]
    },
    {
      "cell_type": "code",
      "metadata": {
        "id": "vWYUCK81cwqD",
        "outputId": "207fbc0c-01b0-4d01-cf62-d530e4051b09",
        "colab": {
          "base_uri": "https://localhost:8080/",
          "height": 68
        }
      },
      "source": [
        "#Tokenization\n",
        "import nltk\n",
        "nltk.download('punkt')\n",
        "TextBlob(df['Description'][1]).words"
      ],
      "execution_count": 17,
      "outputs": [
        {
          "output_type": "stream",
          "text": [
            "[nltk_data] Downloading package punkt to /root/nltk_data...\n",
            "[nltk_data]   Package punkt is already up-to-date!\n"
          ],
          "name": "stdout"
        },
        {
          "output_type": "execute_result",
          "data": {
            "text/plain": [
              "WordList(['even', 'fibonacci'])"
            ]
          },
          "metadata": {
            "tags": []
          },
          "execution_count": 17
        }
      ]
    },
    {
      "cell_type": "code",
      "metadata": {
        "id": "kwLDp0H8c8dp",
        "outputId": "521f367f-72fe-4f04-8b9b-7813a0353769",
        "colab": {
          "base_uri": "https://localhost:8080/",
          "height": 119
        }
      },
      "source": [
        "#Stemming\n",
        "from nltk.stem import PorterStemmer\n",
        "st = PorterStemmer()\n",
        "df['Description'][:5].apply(lambda x: \" \".join([st.stem(word) for word in x.split()]))"
      ],
      "execution_count": 18,
      "outputs": [
        {
          "output_type": "execute_result",
          "data": {
            "text/plain": [
              "0                  multipl 3 5\n",
              "1               even fibonacci\n",
              "2               largest factor\n",
              "3    largest palindrom product\n",
              "4             smallest multipl\n",
              "Name: Description, dtype: object"
            ]
          },
          "metadata": {
            "tags": []
          },
          "execution_count": 18
        }
      ]
    },
    {
      "cell_type": "code",
      "metadata": {
        "id": "1-rQTbi4diP-",
        "outputId": "61f7c028-c199-4530-f7f9-7cf6550ea12c",
        "colab": {
          "base_uri": "https://localhost:8080/",
          "height": 153
        }
      },
      "source": [
        "from textblob import Word\n",
        "import nltk\n",
        "nltk.download('wordnet')\n",
        "\n",
        "df['Description'] = df['Description'].apply(lambda x: \" \".join([Word(word).lemmatize() for word in x.split()]))\n",
        "df['Description'].head()"
      ],
      "execution_count": 19,
      "outputs": [
        {
          "output_type": "stream",
          "text": [
            "[nltk_data] Downloading package wordnet to /root/nltk_data...\n",
            "[nltk_data]   Package wordnet is already up-to-date!\n"
          ],
          "name": "stdout"
        },
        {
          "output_type": "execute_result",
          "data": {
            "text/plain": [
              "0                  multiple 3 5\n",
              "1                even fibonacci\n",
              "2                largest factor\n",
              "3    largest palindrome product\n",
              "4             smallest multiple\n",
              "Name: Description, dtype: object"
            ]
          },
          "metadata": {
            "tags": []
          },
          "execution_count": 19
        }
      ]
    },
    {
      "cell_type": "markdown",
      "metadata": {
        "id": "WBlwfDtZuyYS"
      },
      "source": [
        "Feature Extraction"
      ]
    },
    {
      "cell_type": "code",
      "metadata": {
        "id": "OhfuLSfAdttS",
        "outputId": "0099f256-5476-401c-ad77-3ae022e2edc4",
        "colab": {
          "base_uri": "https://localhost:8080/",
          "height": 187
        }
      },
      "source": [
        "# Write your code here\n",
        "from nltk import word_tokenize, pos_tag, pos_tag_sents\n",
        "nltk.download('averaged_perceptron_tagger')\n",
        "texts = df['Description'].tolist() # convert the column of strings to text.\n",
        "map(word_tokenize, texts)\n",
        "df['Description'].apply(word_tokenize)\n",
        "df['Description_POS'] = pos_tag_sents( df['Description'].apply(word_tokenize).tolist() )\n",
        "df['Description_POS'].head()"
      ],
      "execution_count": 20,
      "outputs": [
        {
          "output_type": "stream",
          "text": [
            "[nltk_data] Downloading package averaged_perceptron_tagger to\n",
            "[nltk_data]     /root/nltk_data...\n",
            "[nltk_data]   Package averaged_perceptron_tagger is already up-to-\n",
            "[nltk_data]       date!\n"
          ],
          "name": "stdout"
        },
        {
          "output_type": "execute_result",
          "data": {
            "text/plain": [
              "0                   [(multiple, JJ), (3, CD), (5, CD)]\n",
              "1                        [(even, RB), (fibonacci, VB)]\n",
              "2                       [(largest, JJS), (factor, NN)]\n",
              "3    [(largest, JJS), (palindrome, NN), (product, NN)]\n",
              "4                    [(smallest, JJS), (multiple, NN)]\n",
              "Name: Description_POS, dtype: object"
            ]
          },
          "metadata": {
            "tags": []
          },
          "execution_count": 20
        }
      ]
    },
    {
      "cell_type": "code",
      "metadata": {
        "id": "f8VO2H_XzA25",
        "outputId": "751073de-590b-4534-e0a0-fa62dbb9bdb3",
        "colab": {
          "base_uri": "https://localhost:8080/",
          "height": 119
        }
      },
      "source": [
        "df['Description_POS'].head()"
      ],
      "execution_count": 21,
      "outputs": [
        {
          "output_type": "execute_result",
          "data": {
            "text/plain": [
              "0                   [(multiple, JJ), (3, CD), (5, CD)]\n",
              "1                        [(even, RB), (fibonacci, VB)]\n",
              "2                       [(largest, JJS), (factor, NN)]\n",
              "3    [(largest, JJS), (palindrome, NN), (product, NN)]\n",
              "4                    [(smallest, JJS), (multiple, NN)]\n",
              "Name: Description_POS, dtype: object"
            ]
          },
          "metadata": {
            "tags": []
          },
          "execution_count": 21
        }
      ]
    },
    {
      "cell_type": "code",
      "metadata": {
        "id": "1ESyvtCV07IX",
        "outputId": "f613e10e-9e67-4aa5-d6d1-1e3e296c6307",
        "colab": {
          "base_uri": "https://localhost:8080/",
          "height": 425
        }
      },
      "source": [
        "from collections import Counter\n",
        "from itertools import chain\n",
        "possible_tags = sorted(set(list(zip(*chain(*df['Description_POS'])))[1]))\n",
        "possible_tags\n",
        "def add_pos_with_zero_counts(counter, keys_to_add):\n",
        "    for k in keys_to_add:\n",
        "        counter[k] = counter.get(k, 0)\n",
        "    return counter\n",
        "\n",
        "# Detailed steps.\n",
        "df['pos_counts'] = df['Description_POS'].apply(lambda x: Counter(list (zip(*x))[1]))\n",
        "df['pos_counts_with_zero'] = df['pos_counts'].apply(lambda x: add_pos_with_zero_counts(x, possible_tags))\n",
        "df['sent_vector'] = df['pos_counts_with_zero'].apply(lambda x: [count for tag, count in sorted(x.most_common())])\n",
        "\n",
        "# All in one.\n",
        "df['sent_vector'] = df['Description_POS'].apply(lambda x:[count for tag, count in sorted(add_pos_with_zero_counts(Counter(list(zip(*x))[1]),possible_tags).most_common())])\n",
        "df2 = pd.DataFrame(df['sent_vector'].tolist())\n",
        "df2.columns = possible_tags"
      ],
      "execution_count": 26,
      "outputs": [
        {
          "output_type": "stream",
          "text": [
            "<class 'pandas.core.frame.DataFrame'>\n",
            "RangeIndex: 717 entries, 0 to 716\n",
            "Data columns (total 17 columns):\n",
            " #   Column  Non-Null Count  Dtype\n",
            "---  ------  --------------  -----\n",
            " 0   CD      717 non-null    int64\n",
            " 1   DT      717 non-null    int64\n",
            " 2   IN      717 non-null    int64\n",
            " 3   JJ      717 non-null    int64\n",
            " 4   JJR     717 non-null    int64\n",
            " 5   JJS     717 non-null    int64\n",
            " 6   NN      717 non-null    int64\n",
            " 7   NNS     717 non-null    int64\n",
            " 8   PRP     717 non-null    int64\n",
            " 9   RB      717 non-null    int64\n",
            " 10  RBR     717 non-null    int64\n",
            " 11  VB      717 non-null    int64\n",
            " 12  VBD     717 non-null    int64\n",
            " 13  VBG     717 non-null    int64\n",
            " 14  VBN     717 non-null    int64\n",
            " 15  VBP     717 non-null    int64\n",
            " 16  VBZ     717 non-null    int64\n",
            "dtypes: int64(17)\n",
            "memory usage: 95.4 KB\n"
          ],
          "name": "stdout"
        }
      ]
    },
    {
      "cell_type": "code",
      "metadata": {
        "id": "ghL1AsrmBmiW"
      },
      "source": [
        "df2.pop('Sentences')\n",
        "df2.insert(0, 'Sentences',df['Description'])"
      ],
      "execution_count": 30,
      "outputs": []
    },
    {
      "cell_type": "code",
      "metadata": {
        "id": "FXUMMbzPE-wQ",
        "outputId": "3049910a-5c0a-4c2c-c18a-aadf054b9a81",
        "colab": {
          "base_uri": "https://localhost:8080/",
          "height": 153
        }
      },
      "source": [
        "print(df2.head(5))"
      ],
      "execution_count": 34,
      "outputs": [
        {
          "output_type": "stream",
          "text": [
            "                    Sentences  CD  DT  IN  JJ  JJR  ...  VB  VBD  VBG  VBN  VBP  VBZ\n",
            "0                multiple 3 5   2   0   0   1    0  ...   0    0    0    0    0    0\n",
            "1              even fibonacci   0   0   0   0    0  ...   1    0    0    0    0    0\n",
            "2              largest factor   0   0   0   0    0  ...   0    0    0    0    0    0\n",
            "3  largest palindrome product   0   0   0   0    0  ...   0    0    0    0    0    0\n",
            "4           smallest multiple   0   0   0   0    0  ...   0    0    0    0    0    0\n",
            "\n",
            "[5 rows x 18 columns]\n"
          ],
          "name": "stdout"
        }
      ]
    },
    {
      "cell_type": "code",
      "metadata": {
        "id": "zgD7Tl1aIu-s"
      },
      "source": [
        ""
      ],
      "execution_count": null,
      "outputs": []
    }
  ]
}
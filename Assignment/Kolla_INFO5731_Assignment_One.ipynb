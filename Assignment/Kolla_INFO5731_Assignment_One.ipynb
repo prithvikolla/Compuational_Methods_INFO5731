{
  "nbformat": 4,
  "nbformat_minor": 0,
  "metadata": {
    "colab": {
      "name": "Kolla_INFO5731_Assignment_One.ipynb",
      "provenance": [],
      "collapsed_sections": []
    },
    "kernelspec": {
      "name": "python3",
      "display_name": "Python 3"
    }
  },
  "cells": [
    {
      "cell_type": "markdown",
      "metadata": {
        "id": "Ryk8D1Q4Wsrp",
        "colab_type": "text"
      },
      "source": [
        "# **INFO5731 Assignment One**"
      ]
    },
    {
      "cell_type": "markdown",
      "metadata": {
        "id": "90_NR8c5XGWc",
        "colab_type": "text"
      },
      "source": [
        "# Question 1\n",
        "\n",
        "(20 points). Write a Python program to generate 12 random numbers between 1 and 100. Sort the list of numbers in ascending order and print it out. Sort the list of numbers in descending order and print it out. Calculate the average for the group and print it out."
      ]
    },
    {
      "cell_type": "code",
      "metadata": {
        "id": "5QX6bJjGWXY9",
        "colab_type": "code",
        "colab": {
          "base_uri": "https://localhost:8080/",
          "height": 68
        },
        "outputId": "bd1e6d48-a8a9-4f6b-b4e1-a964b7258b81"
      },
      "source": [
        "# Your code here\n",
        "import numpy as np #Mathematical Calculations\n",
        "data = np.random.randint(1,100,size = 12) # randint, performs to choose randomly integers from given parameters like lowest and highest when given a size )\n",
        "print(\"Ascending Order:\", np.sort(data))\n",
        "print(\"Descending Order:\", -np.sort(-data))\n",
        "print(\"Average:\", np.average(data))"
      ],
      "execution_count": 1,
      "outputs": [
        {
          "output_type": "stream",
          "text": [
            "Ascending Order: [ 8 16 22 22 24 34 42 54 61 64 69 95]\n",
            "Descending Order: [95 69 64 61 54 42 34 24 22 22 16  8]\n",
            "Average: 42.583333333333336\n"
          ],
          "name": "stdout"
        }
      ]
    },
    {
      "cell_type": "markdown",
      "metadata": {
        "id": "1F_PZdH9Sh49",
        "colab_type": "text"
      },
      "source": [
        "# Question 2\n",
        "(25 points). Write a program that will do the following string formatting tasks:\n",
        "\n",
        "(1) Ask the user to enter two sentences.\n",
        "\n",
        "(2) Make each sentence into a list. Each element in the list should correspond to a word in the sentence. For example, if the sentence is \"Alas! Am I alive? This is my first python program\", the program should print out ['Alas, '!', 'Am', 'I', 'alive, '?', 'This', 'is', 'my', 'first', 'python', 'program'].\n",
        "\n",
        "(3) Compare the two sentences. Print out a list of words that occur in both sentences.\n",
        "\n",
        "(4) Remove any punctuation from the sentence and print it back out. It should remove at least the following characters, but it can remove more: period(“.”), comma (“,”), semicolon (“;”), and colon (“:”)\n",
        "\n",
        "(5) Count the number of vowels in the sentences. Print out each vowel and the number of times it appears in the sentences, such as: a:2, e:1, i:0, etc"
      ]
    },
    {
      "cell_type": "code",
      "metadata": {
        "id": "93liI_3Vem7_",
        "colab_type": "code",
        "colab": {
          "base_uri": "https://localhost:8080/",
          "height": 51
        },
        "outputId": "1d5c013f-98fb-482e-b245-71de30bd4c3b"
      },
      "source": [
        "#Import Libraries\n",
        "import nltk\n",
        "import pandas as pd\n",
        "import math\n",
        "nltk.download('punkt')\n",
        "from nltk.tokenize.treebank import TreebankWordDetokenizer"
      ],
      "execution_count": 2,
      "outputs": [
        {
          "output_type": "stream",
          "text": [
            "[nltk_data] Downloading package punkt to /root/nltk_data...\n",
            "[nltk_data]   Package punkt is already up-to-date!\n"
          ],
          "name": "stdout"
        }
      ]
    },
    {
      "cell_type": "code",
      "metadata": {
        "id": "Y0oOSlsOS0cq",
        "colab_type": "code",
        "colab": {
          "base_uri": "https://localhost:8080/",
          "height": 119
        },
        "outputId": "c6e92531-efa1-41ba-9a74-61707650c73b"
      },
      "source": [
        "# Assign text sentence to Variables (1)\n",
        "Sentence_One = \"aeiouu!!!;,.:\"\n",
        "Sentence_Two = \"Hello;,!\"\n",
        "#Word tokenizing (2)\n",
        "Tokens_Sentence_One = nltk.word_tokenize(Sentence_One)\n",
        "Tokens_Sentence_Two = nltk.word_tokenize(Sentence_Two)\n",
        "#Output\n",
        "print(\"Sentence_One:\\t\",Tokens_Sentence_One)\n",
        "print(\"Sentence_Two:\\t\",Tokens_Sentence_Two)\n",
        "# common words in sentences (3)\n",
        "word_Common = [ ]\n",
        "for i in range(len(Tokens_Sentence_One)):\n",
        "  k = i;\n",
        "  for j in range(len(Tokens_Sentence_Two)):\n",
        "        if (Tokens_Sentence_One[k] == Tokens_Sentence_Two[j]):\n",
        "            word_Common.append(Tokens_Sentence_One[k])\n",
        "print(\"Words common are: \",word_Common)  \n",
        "#Remove Punctuations and print out the sentence (4)\n",
        "example = [ ]\n",
        "punc = ['.',',',';',':','!']\n",
        "def remov(tok_Sente):\n",
        "      sente_Elem_Rem = [i for i in punc if i in tok_Sente]\n",
        "      sente_Rem = [i for i in tok_Sente if i not in sente_Elem_Rem ]\n",
        "      return TreebankWordDetokenizer().detokenize(sente_Rem)\n",
        "print(\"Removing the Punctuations: \",remov(tok_Sente = Tokens_Sentence_One))\n",
        "#Count the number of vowels in the sentences. Print out each vowel and the number of times it appears in the sentences, such as: a:2, e:1, i:0, etc (5)\n",
        "cou_Vow_Eac = []\n",
        "sum = 0\n",
        "vowel = ['a','e','i','o','u']\n",
        "def coun(gsente):\n",
        "  sente_Charecte = list (gsente)\n",
        "  for i in range(len(vowel)):\n",
        "    x = vowel[i]\n",
        "    cou_Vow_Eac.append(sente_Charecte.count(x))\n",
        "  return np.sum(cou_Vow_Eac)\n",
        "print(\"Number of Vowels: \",coun(gsente = Sentence_One))\n",
        "#each vowels count\n",
        "dict = { }\n",
        "def couvow(gsente):\n",
        " sente_Charecte = list (gsente)\n",
        " for i in range(len(vowel)):\n",
        "   x = vowel[i]\n",
        "   dict[x] = sente_Charecte.count(x)\n",
        " return dict\n",
        "print(\"Count of each vowels: \",couvow(gsente = Sentence_One))"
      ],
      "execution_count": 3,
      "outputs": [
        {
          "output_type": "stream",
          "text": [
            "Sentence_One:\t ['aeiouu', '!', '!', '!', ';', ',', '.', ':']\n",
            "Sentence_Two:\t ['Hello', ';', ',', '!']\n",
            "Words common are:  ['!', '!', '!', ';', ',']\n",
            "Removing the Punctuations:  aeiouu\n",
            "Number of Vowels:  6\n",
            "Count of each vowels:  {'a': 1, 'e': 1, 'i': 1, 'o': 1, 'u': 2}\n"
          ],
          "name": "stdout"
        }
      ]
    },
    {
      "cell_type": "markdown",
      "metadata": {
        "id": "CmFoI4jDS9nx",
        "colab_type": "text"
      },
      "source": [
        "# Question 3 \n",
        "\n",
        "(15 points). The formula that describes the volume V of a sphere with radius r is the following:\n",
        "\n",
        "$ V=\\frac{4}{3}\\ast\\ \\pi\\ast\\ r^3 $\n",
        "\n",
        "Write a program to calculate the value of V when r is in the range of 1–10. Output the result in the following format:\n",
        "\n",
        "\tr\tV\n",
        "\t1\t…\n",
        "\t2\t…\n",
        "\t3\t…\n"
      ]
    },
    {
      "cell_type": "code",
      "metadata": {
        "id": "pEyqeioAT95b",
        "colab_type": "code",
        "colab": {
          "base_uri": "https://localhost:8080/",
          "height": 359
        },
        "outputId": "5dee2625-525e-44d2-f0e8-66c37fd7fa8e"
      },
      "source": [
        "# Your code here\n",
        "import pandas as pd\n",
        "import numpy as np\n",
        "r = [1,2,3,4,5,6,7,8,9,10]\n",
        "V = [(4/3 * np.pi * i) for i in r ]\n",
        "Volume = pd.DataFrame({'r':r,'V':V});\n",
        "Volume"
      ],
      "execution_count": 4,
      "outputs": [
        {
          "output_type": "execute_result",
          "data": {
            "text/html": [
              "<div>\n",
              "<style scoped>\n",
              "    .dataframe tbody tr th:only-of-type {\n",
              "        vertical-align: middle;\n",
              "    }\n",
              "\n",
              "    .dataframe tbody tr th {\n",
              "        vertical-align: top;\n",
              "    }\n",
              "\n",
              "    .dataframe thead th {\n",
              "        text-align: right;\n",
              "    }\n",
              "</style>\n",
              "<table border=\"1\" class=\"dataframe\">\n",
              "  <thead>\n",
              "    <tr style=\"text-align: right;\">\n",
              "      <th></th>\n",
              "      <th>r</th>\n",
              "      <th>V</th>\n",
              "    </tr>\n",
              "  </thead>\n",
              "  <tbody>\n",
              "    <tr>\n",
              "      <th>0</th>\n",
              "      <td>1</td>\n",
              "      <td>4.188790</td>\n",
              "    </tr>\n",
              "    <tr>\n",
              "      <th>1</th>\n",
              "      <td>2</td>\n",
              "      <td>8.377580</td>\n",
              "    </tr>\n",
              "    <tr>\n",
              "      <th>2</th>\n",
              "      <td>3</td>\n",
              "      <td>12.566371</td>\n",
              "    </tr>\n",
              "    <tr>\n",
              "      <th>3</th>\n",
              "      <td>4</td>\n",
              "      <td>16.755161</td>\n",
              "    </tr>\n",
              "    <tr>\n",
              "      <th>4</th>\n",
              "      <td>5</td>\n",
              "      <td>20.943951</td>\n",
              "    </tr>\n",
              "    <tr>\n",
              "      <th>5</th>\n",
              "      <td>6</td>\n",
              "      <td>25.132741</td>\n",
              "    </tr>\n",
              "    <tr>\n",
              "      <th>6</th>\n",
              "      <td>7</td>\n",
              "      <td>29.321531</td>\n",
              "    </tr>\n",
              "    <tr>\n",
              "      <th>7</th>\n",
              "      <td>8</td>\n",
              "      <td>33.510322</td>\n",
              "    </tr>\n",
              "    <tr>\n",
              "      <th>8</th>\n",
              "      <td>9</td>\n",
              "      <td>37.699112</td>\n",
              "    </tr>\n",
              "    <tr>\n",
              "      <th>9</th>\n",
              "      <td>10</td>\n",
              "      <td>41.887902</td>\n",
              "    </tr>\n",
              "  </tbody>\n",
              "</table>\n",
              "</div>"
            ],
            "text/plain": [
              "    r          V\n",
              "0   1   4.188790\n",
              "1   2   8.377580\n",
              "2   3  12.566371\n",
              "3   4  16.755161\n",
              "4   5  20.943951\n",
              "5   6  25.132741\n",
              "6   7  29.321531\n",
              "7   8  33.510322\n",
              "8   9  37.699112\n",
              "9  10  41.887902"
            ]
          },
          "metadata": {
            "tags": []
          },
          "execution_count": 4
        }
      ]
    },
    {
      "cell_type": "markdown",
      "metadata": {
        "id": "z3tBE7E-Xn5X",
        "colab_type": "text"
      },
      "source": [
        "# Question 4\n",
        "\n",
        "(40 points). In the field of Data Science, data is often formatted as a comma-delimited (CSV) file, where each line in a file corresponds to a field's value. Refer to Chapter 9 (p. 106) for more information on comma-delimited files. To answer this question, you will need to download the file [Assignment1_denton_housing.csv](https://github.com/unt-iialab/INFO5731_FALL2020/blob/master/Assignments/Assignment1_denton_housing.csv) included with this assignment. The [file Assignment1_denton_housing.csv](https://github.com/unt-iialab/INFO5731_FALL2020/blob/master/Assignments/Assignment1_denton_housing.csv) contains statistics about housing in the city of Denton from 2008 to 2014. Write a program to implement the following questions.\n",
        "\n",
        "(1) (10 pts) Calculate the difference in the number of Occupied Housing Units from year to year and print it. The difference must be calculated for the consecutive years such as 2008-2009, 2009-2010 etc. Finally, print the values in the ascending order.\n",
        "\n",
        "(2) (10 pts) For all the years, calculate the percentage of housing units which are vacant an occupied. Print the results in the following format:\n",
        "\n",
        "Year Vacant Housing Units Occupied Housing Units\n",
        "\n",
        "    2008  30%   70%                          \n",
        "\t2009 ----- -----\n",
        "\t2010 ----- -----\n",
        "    2011 ----- -----\n",
        "\t2012 ----- -----\n",
        "    2013 ----- -----\n",
        "\t2014 ----- -----\n",
        "  \n",
        "  \n",
        "\n",
        "(3) (10 pts) Calculate and print the valued and years in which the highest number of housing units were vacant and occupied. Print the results in the following format:  \n",
        "\n",
        "                              Year\tValue\n",
        "\tVacant Housing Units\t  -----   -----\n",
        "\tOccupied Housing Units\t-----   -----\n",
        "\n",
        "(4) (10 pts) Calculate the harmonic mean of the total housing units and print it out. You can find the information about harmonic mean here: https://ncalculators.com/statistics/harmonic-mean-calculator.htm"
      ]
    },
    {
      "cell_type": "code",
      "metadata": {
        "id": "1Dt-XypDbnly",
        "colab_type": "code",
        "colab": {}
      },
      "source": [
        "import io\n",
        "import requests"
      ],
      "execution_count": 5,
      "outputs": []
    },
    {
      "cell_type": "code",
      "metadata": {
        "id": "lqGYuHBhcsRH",
        "colab_type": "code",
        "colab": {
          "base_uri": "https://localhost:8080/",
          "height": 34
        },
        "outputId": "764427ac-0ab8-48da-9908-0e718379ad7c"
      },
      "source": [
        "# Your code here\n",
        "\n",
        "urlfile=\"https://raw.githubusercontent.com/unt-iialab/INFO5731_FALL2020/master/Assignments/Assignment1_denton_housing.csv\"\n",
        "\n",
        "url=requests.get(urlfile).content\n",
        "\n",
        "df =pd.read_csv(io.StringIO(url.decode('utf-8')))\n",
        "\n",
        "#Occupied Housing Units (part 1)\n",
        "def di():\n",
        " df_Occu = df[df['title_field'].isin({'Occupied Housing Units'})]\n",
        " df_Occ_Asc = df_Occu.sort_values('year',ascending=True)\n",
        " df_Occ_Asc['diff_Year']  = ['2008','2009-2008','2010-2009','2011-2010','2012-2011','2013-2012','2014-2013']\n",
        " df_Occ_Asc['diff_Value'] = df_Occ_Asc['value'].diff(periods=1)\n",
        " df_Occ_Asc = df_Occ_Asc.sort_values('diff_Value',ascending= True)\n",
        " cols_To_Disp = ['diff_Year','title_field','diff_Value']\n",
        " return df_Occ_Asc[cols_To_Disp]\n",
        "\n",
        "#Finding percentage of Vacant and Ocuupied Housing Units (part 2)\n",
        "def pe():\n",
        " df_Occu = [df['value'][i] * 100 for i in range(len(df['value'])) if 'Occupied Housing Units' == df['title_field'][i]]\n",
        " df_Vac = [df['value'][i] * 100 for i in range(len(df['value'])) if 'Vacant Housing Units' == df['title_field'][i]]\n",
        " df_Tot = [df['value'][i] for i in range(len(df['value'])) if 'Total Housing Units' == df['title_field'][i]]\n",
        " df_Yea = [df['year'][i] for i in range(len(df['year'])) if 'Total Housing Units' == df['title_field'][i]]\n",
        " df_Occ_Pe = [np.round(df_Occu[i]/df_Tot[i],2) for i in range(len(df_Occu))]\n",
        " df_Vac_Pe = [np.round(df_Vac[i]/df_Tot[i],2) for i in range(len(df_Vac))]\n",
        " df_Ne = pd.DataFrame({'Year':df_Yea,'Vac_Hous_Uni_%':df_Vac_Pe,'Occ_Hous_Uni_%':df_Occ_Pe})\n",
        " return df_Ne\n",
        "\n",
        "# Max in Vac and Occ by year and value (part 3)\n",
        "\n",
        "def ma():\n",
        " df_Yea = [ ]\n",
        " df_Ma_Val = []\n",
        " df_Occ = [df['value'][i] for i in range(len(df['value'])) if 'Occupied Housing Units' == df['title_field'][i]]\n",
        " df_Ma_Occ = np.max(df_Occ)\n",
        " df_Vac = [df['value'][i] for i in range(len(df['value'])) if 'Vacant Housing Units' == df['title_field'][i]]\n",
        " df_Ma_Vac = np.max(df_Vac)\n",
        " df_Yea_Occ = [df['year'][i] for i in range(len(df)) if df['value'][i] == df_Ma_Occ ]\n",
        " df_Yea_Vac = [df['year'][i] for i in range(len(df)) if df['value'][i] == df_Ma_Vac ] \n",
        " df_Yea.append(df_Yea_Occ)\n",
        " df_Yea.append(df_Yea_Vac)\n",
        " df_Ma_Val.append(df_Ma_Occ)\n",
        " df_Ma_Val.append(df_Ma_Vac)\n",
        " text = ['Occupied Housing Units','Vacant Housing Units']\n",
        " df_New = pd.DataFrame({'text_field': text,'year':df_Yea,'value':df_Ma_Val})\n",
        " return df_New\n",
        "\n",
        " #Harmanic mean of Total Housing Units (part 4)\n",
        "\n",
        "def hm():\n",
        " hm_den_tot_Val = 0\n",
        " df_Tot = [df['value'][i] for i in range(len(df['value'])) if 'Total Housing Units' == df['title_field'][i]]\n",
        " for i in df_Tot:\n",
        "   hm_den_tot_Val = hm_den_tot_Val + (1/i)\n",
        " harm_Mean = np.size(df_Tot)/hm_den_tot_Val\n",
        " return np.round(harm_Mean,2)\n",
        " \n",
        "print(\"The harmonic mean of Total Housing Units is: \",hm())"
      ],
      "execution_count": 53,
      "outputs": [
        {
          "output_type": "stream",
          "text": [
            "The harmonic mean of Total Housing Units is:  44398.29\n"
          ],
          "name": "stdout"
        }
      ]
    },
    {
      "cell_type": "code",
      "metadata": {
        "id": "Fd8D1SZjKiRt",
        "colab_type": "code",
        "colab": {}
      },
      "source": [
        ""
      ],
      "execution_count": 6,
      "outputs": []
    }
  ]
}
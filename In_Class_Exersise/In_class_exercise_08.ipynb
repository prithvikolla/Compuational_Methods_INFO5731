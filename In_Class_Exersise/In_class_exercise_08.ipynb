{
  "nbformat": 4,
  "nbformat_minor": 0,
  "metadata": {
    "kernelspec": {
      "display_name": "Python 3",
      "language": "python",
      "name": "python3"
    },
    "language_info": {
      "codemirror_mode": {
        "name": "ipython",
        "version": 3
      },
      "file_extension": ".py",
      "mimetype": "text/x-python",
      "name": "python",
      "nbconvert_exporter": "python",
      "pygments_lexer": "ipython3",
      "version": "3.7.4"
    },
    "colab": {
      "name": "In_class_exercise_08.ipynb",
      "provenance": [],
      "collapsed_sections": []
    }
  },
  "cells": [
    {
      "cell_type": "markdown",
      "metadata": {
        "id": "kdXATujPb4XW"
      },
      "source": [
        "# **The eighth in-class-exercise (20 points in total, 10/29/2020)**"
      ]
    },
    {
      "cell_type": "markdown",
      "metadata": {
        "id": "SzDyCKtMb4XX"
      },
      "source": [
        "The data for this exercise is from the dataset you created from assignment three. Please perform answer the following questions based on your data:"
      ]
    },
    {
      "cell_type": "markdown",
      "metadata": {
        "id": "c2rlV-mLb4XY"
      },
      "source": [
        "## (1) (10 points) Write a python program to extract the sentiment related terms from the corpus. You may use python package such as polyglot or external lexicon resources in the question. Rank the sentiment related terms by frequency."
      ]
    },
    {
      "cell_type": "code",
      "metadata": {
        "id": "Yx0uyCzVb4XY"
      },
      "source": [
        "# Write your code here\n",
        "import pandas as pd\n",
        "import re\n",
        "import nltk\n",
        "from nltk import word_tokenize"
      ],
      "execution_count": 1,
      "outputs": []
    },
    {
      "cell_type": "markdown",
      "metadata": {
        "id": "6zTjowUorDPf"
      },
      "source": [
        "- The data I collected in Assignment 3 has only titles, which is irrelevant for sentiment analysis. \n",
        "\n",
        "- I used Restaurant Review data set from Kaggle."
      ]
    },
    {
      "cell_type": "code",
      "metadata": {
        "id": "T8L2uSbpqwh2"
      },
      "source": [
        "df = pd.read_table('/content/Restaurant_Reviews.tsv')"
      ],
      "execution_count": 2,
      "outputs": []
    },
    {
      "cell_type": "code",
      "metadata": {
        "id": "hoiimwZj7aqx"
      },
      "source": [
        "from nltk import Counter"
      ],
      "execution_count": 3,
      "outputs": []
    },
    {
      "cell_type": "code",
      "metadata": {
        "id": "z0AU8KDPqwk2",
        "outputId": "31da267a-2f29-4e5c-efc0-bd0783136afc",
        "colab": {
          "base_uri": "https://localhost:8080/"
        }
      },
      "source": [
        "Counter(df['Liked'])"
      ],
      "execution_count": 4,
      "outputs": [
        {
          "output_type": "execute_result",
          "data": {
            "text/plain": [
              "Counter({0: 500, 1: 500})"
            ]
          },
          "metadata": {
            "tags": []
          },
          "execution_count": 4
        }
      ]
    },
    {
      "cell_type": "code",
      "metadata": {
        "id": "MLmBxx2hqwnm"
      },
      "source": [
        "df['Liked'] = df['Liked'].replace(0,-1)\n"
      ],
      "execution_count": 5,
      "outputs": []
    },
    {
      "cell_type": "code",
      "metadata": {
        "id": "tnzH5KgEb78k",
        "outputId": "fd5acc52-ba6e-4f51-c45c-f4cc4020e965",
        "colab": {
          "base_uri": "https://localhost:8080/",
          "height": 204
        }
      },
      "source": [
        "df.columns = ['Review','Original_Sentiment']\n",
        "df.head()"
      ],
      "execution_count": 6,
      "outputs": [
        {
          "output_type": "execute_result",
          "data": {
            "text/html": [
              "<div>\n",
              "<style scoped>\n",
              "    .dataframe tbody tr th:only-of-type {\n",
              "        vertical-align: middle;\n",
              "    }\n",
              "\n",
              "    .dataframe tbody tr th {\n",
              "        vertical-align: top;\n",
              "    }\n",
              "\n",
              "    .dataframe thead th {\n",
              "        text-align: right;\n",
              "    }\n",
              "</style>\n",
              "<table border=\"1\" class=\"dataframe\">\n",
              "  <thead>\n",
              "    <tr style=\"text-align: right;\">\n",
              "      <th></th>\n",
              "      <th>Review</th>\n",
              "      <th>Original_Sentiment</th>\n",
              "    </tr>\n",
              "  </thead>\n",
              "  <tbody>\n",
              "    <tr>\n",
              "      <th>0</th>\n",
              "      <td>Wow... Loved this place.</td>\n",
              "      <td>1</td>\n",
              "    </tr>\n",
              "    <tr>\n",
              "      <th>1</th>\n",
              "      <td>Crust is not good.</td>\n",
              "      <td>-1</td>\n",
              "    </tr>\n",
              "    <tr>\n",
              "      <th>2</th>\n",
              "      <td>Not tasty and the texture was just nasty.</td>\n",
              "      <td>-1</td>\n",
              "    </tr>\n",
              "    <tr>\n",
              "      <th>3</th>\n",
              "      <td>Stopped by during the late May bank holiday of...</td>\n",
              "      <td>1</td>\n",
              "    </tr>\n",
              "    <tr>\n",
              "      <th>4</th>\n",
              "      <td>The selection on the menu was great and so wer...</td>\n",
              "      <td>1</td>\n",
              "    </tr>\n",
              "  </tbody>\n",
              "</table>\n",
              "</div>"
            ],
            "text/plain": [
              "                                              Review  Original_Sentiment\n",
              "0                           Wow... Loved this place.                   1\n",
              "1                                 Crust is not good.                  -1\n",
              "2          Not tasty and the texture was just nasty.                  -1\n",
              "3  Stopped by during the late May bank holiday of...                   1\n",
              "4  The selection on the menu was great and so wer...                   1"
            ]
          },
          "metadata": {
            "tags": []
          },
          "execution_count": 6
        }
      ]
    },
    {
      "cell_type": "markdown",
      "metadata": {
        "id": "5BJ6UOipR0tm"
      },
      "source": [
        "**DATA** **CLEANING**"
      ]
    },
    {
      "cell_type": "code",
      "metadata": {
        "id": "X-5OajxLRm3W",
        "outputId": "fbb658a9-08c2-4b1b-ef76-eea848937e54",
        "colab": {
          "base_uri": "https://localhost:8080/"
        }
      },
      "source": [
        "import nltk\n",
        "nltk.download('stopwords')\n",
        "from nltk.corpus import stopwords"
      ],
      "execution_count": 7,
      "outputs": [
        {
          "output_type": "stream",
          "text": [
            "[nltk_data] Downloading package stopwords to /root/nltk_data...\n",
            "[nltk_data]   Package stopwords is already up-to-date!\n"
          ],
          "name": "stdout"
        }
      ]
    },
    {
      "cell_type": "code",
      "metadata": {
        "id": "MtrmPZTTaKoi",
        "outputId": "7f7b1663-ee70-41cf-a1a4-7db1aeb786a8",
        "colab": {
          "base_uri": "https://localhost:8080/",
          "height": 35
        }
      },
      "source": [
        "import string\n",
        "df['Review'] = df['Review'].apply(lambda x: x.strip(string.punctuation))\n",
        "df['Review'][2]"
      ],
      "execution_count": 8,
      "outputs": [
        {
          "output_type": "execute_result",
          "data": {
            "application/vnd.google.colaboratory.intrinsic+json": {
              "type": "string"
            },
            "text/plain": [
              "'Not tasty and the texture was just nasty'"
            ]
          },
          "metadata": {
            "tags": []
          },
          "execution_count": 8
        }
      ]
    },
    {
      "cell_type": "code",
      "metadata": {
        "id": "Z2YNAG7KDKUN",
        "outputId": "c536f346-d563-4476-ce4f-7788011f41ad",
        "colab": {
          "base_uri": "https://localhost:8080/",
          "height": 35
        }
      },
      "source": [
        "import re\n",
        "df['Review_punc'] = df['Review'].apply(lambda x: re.sub(r'[^a-zA-Z0-9]+',' ',x))\n",
        "df['Review_punc'][0]"
      ],
      "execution_count": 9,
      "outputs": [
        {
          "output_type": "execute_result",
          "data": {
            "application/vnd.google.colaboratory.intrinsic+json": {
              "type": "string"
            },
            "text/plain": [
              "'Wow Loved this place'"
            ]
          },
          "metadata": {
            "tags": []
          },
          "execution_count": 9
        }
      ]
    },
    {
      "cell_type": "code",
      "metadata": {
        "id": "MEjPYBXZIGee",
        "outputId": "a2c7f62d-c0d7-4783-805c-42b27c08369e",
        "colab": {
          "base_uri": "https://localhost:8080/",
          "height": 35
        }
      },
      "source": [
        "df['Review_lower'] = df['Review_punc'].apply(lambda x: x.lower())\n",
        "df['Review'][2]"
      ],
      "execution_count": 10,
      "outputs": [
        {
          "output_type": "execute_result",
          "data": {
            "application/vnd.google.colaboratory.intrinsic+json": {
              "type": "string"
            },
            "text/plain": [
              "'Not tasty and the texture was just nasty'"
            ]
          },
          "metadata": {
            "tags": []
          },
          "execution_count": 10
        }
      ]
    },
    {
      "cell_type": "code",
      "metadata": {
        "id": "-3wwqZgWDKXK",
        "outputId": "af873122-bdcc-4a91-a6fe-34dca7f27e32",
        "colab": {
          "base_uri": "https://localhost:8080/",
          "height": 35
        }
      },
      "source": [
        "stop = ['i', 'me', 'my', 'myself', 'we', 'our', 'ours', 'ourselves', 'you', \"you're\", \"you've\", \"you'll\", \"you'd\", 'your', 'yours', 'yourself', 'yourselves', 'he', 'him', 'his', 'himself', 'she', \"she's\", 'her', 'hers', 'herself', 'it', \"it's\", 'its', 'itself', 'they', 'them', 'their', 'theirs', 'themselves', 'what', 'which', 'who', 'whom', 'this', 'that', \"that'll\", 'these', 'those', 'am', 'is', 'are', 'was', 'were', 'be', 'been', 'being', 'have', 'has', 'had', 'having', 'do', 'does', 'did', 'doing', 'a', 'an', 'the', 'and', 'but', 'if', 'or', 'because', 'as', 'until', 'while', 'of', 'at', 'by', 'for', 'with', 'about', 'against', 'between', 'into', 'through', 'during', 'before', 'after', 'above', 'below', 'to', 'from', 'up', 'down', 'in', 'out', 'on', 'off', 'over', 'under', 'again', 'further', 'then', 'once', 'here', 'there', 'when', 'where', 'why', 'how', 'all', 'any', 'both', 'each', 'few', 'more', 'most', 'other', 'some', 'such', 'no', 'nor', 'not', 'only', 'own', 'same', 'so', 'than', 'too', 'very', 's', 't', 'can', 'will', 'just', 'don', \"don't\", 'should', \"should've\", 'now', 'd', 'll', 'm', 'o', 're', 've', 'y', 'ain', 'aren', \"aren't\", 'couldn', \"couldn't\", 'didn', \"didn't\", 'doesn', \"doesn't\", 'hadn', \"hadn't\", 'hasn', \"hasn't\", 'haven', \"haven't\", 'isn', \"isn't\", 'ma', 'mightn', \"mightn't\", 'mustn', \"mustn't\", 'needn', \"needn't\", 'shan', \"shan't\", 'shouldn', \"shouldn't\", 'wasn', \"wasn't\", 'weren', \"weren't\", 'won', \"won't\", 'wouldn', \"wouldn't\"]\n",
        "df['Review_stop'] = df['Review_lower'].apply(lambda x: ' '.join([word for word in x.split() if word not in (stop)]))\n",
        "# test['tweet_without_stopwords'] = test['tweet_without_stopwords'].str.replace(r'\\s+', ' ')\n",
        "df['Review_stop'][2]"
      ],
      "execution_count": 11,
      "outputs": [
        {
          "output_type": "execute_result",
          "data": {
            "application/vnd.google.colaboratory.intrinsic+json": {
              "type": "string"
            },
            "text/plain": [
              "'tasty texture nasty'"
            ]
          },
          "metadata": {
            "tags": []
          },
          "execution_count": 11
        }
      ]
    },
    {
      "cell_type": "code",
      "metadata": {
        "id": "N2xrzW5jqwqW",
        "outputId": "d7c38251-7ecf-408d-fc81-67965ca67b9c",
        "colab": {
          "base_uri": "https://localhost:8080/"
        }
      },
      "source": [
        "!pip install polyglot\n",
        "!pip install pyicu\n",
        "!pip install pycld2\n",
        "!pip install morfessor"
      ],
      "execution_count": 12,
      "outputs": [
        {
          "output_type": "stream",
          "text": [
            "Requirement already satisfied: polyglot in /usr/local/lib/python3.6/dist-packages (16.7.4)\n",
            "Requirement already satisfied: pyicu in /usr/local/lib/python3.6/dist-packages (2.5)\n",
            "Requirement already satisfied: pycld2 in /usr/local/lib/python3.6/dist-packages (0.41)\n",
            "Requirement already satisfied: morfessor in /usr/local/lib/python3.6/dist-packages (2.0.6)\n"
          ],
          "name": "stdout"
        }
      ]
    },
    {
      "cell_type": "code",
      "metadata": {
        "id": "phck8VYD7TTw",
        "outputId": "2c5259b1-213b-44c7-9a17-d05cb6edecda",
        "colab": {
          "base_uri": "https://localhost:8080/"
        }
      },
      "source": [
        "!polyglot download sentiment2.en"
      ],
      "execution_count": 13,
      "outputs": [
        {
          "output_type": "stream",
          "text": [
            "[polyglot_data] Downloading package sentiment2.en to\n",
            "[polyglot_data]     /root/polyglot_data...\n",
            "[polyglot_data]   Package sentiment2.en is already up-to-date!\n"
          ],
          "name": "stdout"
        }
      ]
    },
    {
      "cell_type": "code",
      "metadata": {
        "id": "1ETIfl-ZKhsc",
        "outputId": "62295682-169a-444a-ce4a-c49f8838dbe2",
        "colab": {
          "base_uri": "https://localhost:8080/"
        }
      },
      "source": [
        "from icu import Locale\n",
        "import pycld2 as cld2\n",
        "from polyglot.text import Text\n",
        "df['Review_stop'].head()"
      ],
      "execution_count": 14,
      "outputs": [
        {
          "output_type": "execute_result",
          "data": {
            "text/plain": [
              "0                                      wow loved place\n",
              "1                                           crust good\n",
              "2                                  tasty texture nasty\n",
              "3    stopped late may bank holiday rick steve recom...\n",
              "4                          selection menu great prices\n",
              "Name: Review_stop, dtype: object"
            ]
          },
          "metadata": {
            "tags": []
          },
          "execution_count": 14
        }
      ]
    },
    {
      "cell_type": "code",
      "metadata": {
        "id": "hEyM7tyb2rGp"
      },
      "source": [
        "df.dropna()\n",
        "df['Review_stop'] = df['Review_stop'].str.replace('\\d+', '')"
      ],
      "execution_count": 15,
      "outputs": []
    },
    {
      "cell_type": "code",
      "metadata": {
        "id": "Fwd0WF87CnT4",
        "outputId": "6862b814-d20f-4b01-d145-f1d5034e779f",
        "colab": {
          "base_uri": "https://localhost:8080/"
        }
      },
      "source": [
        "import nltk\n",
        "nltk.download('punkt')"
      ],
      "execution_count": 16,
      "outputs": [
        {
          "output_type": "stream",
          "text": [
            "[nltk_data] Downloading package punkt to /root/nltk_data...\n",
            "[nltk_data]   Package punkt is already up-to-date!\n"
          ],
          "name": "stdout"
        },
        {
          "output_type": "execute_result",
          "data": {
            "text/plain": [
              "True"
            ]
          },
          "metadata": {
            "tags": []
          },
          "execution_count": 16
        }
      ]
    },
    {
      "cell_type": "code",
      "metadata": {
        "id": "BJXwUc9BKtvK"
      },
      "source": [
        "df['Reviews_Token'] = df['Review_stop'].apply(lambda x: word_tokenize(x))\n",
        "tex = [Text (df['Review_stop'][i],hint_language_code='en') for i in range(len(df['Review_stop']))]"
      ],
      "execution_count": 17,
      "outputs": []
    },
    {
      "cell_type": "code",
      "metadata": {
        "id": "DdeIZBA1Kt2Q"
      },
      "source": [
        "tex.remove(Text(\"\"))"
      ],
      "execution_count": 18,
      "outputs": []
    },
    {
      "cell_type": "code",
      "metadata": {
        "id": "a90PHnhrDGaF"
      },
      "source": [
        "from polyglot.detect.base import logger as polyglot_logger\n",
        "polyglot_logger.setLevel(\"ERROR\")"
      ],
      "execution_count": 19,
      "outputs": []
    },
    {
      "cell_type": "code",
      "metadata": {
        "id": "TXHrOjdUKt45"
      },
      "source": [
        "list_word = [ ]\n",
        "for i in tex[:1000]:\n",
        " for j in i.words:\n",
        "      list_word.append(j)"
      ],
      "execution_count": 20,
      "outputs": []
    },
    {
      "cell_type": "code",
      "metadata": {
        "id": "WUxf-9HjKt9a"
      },
      "source": [
        "from collections import Counter"
      ],
      "execution_count": 21,
      "outputs": []
    },
    {
      "cell_type": "code",
      "metadata": {
        "id": "V-VVMgeiKuAb",
        "outputId": "188bba7c-9d36-4094-f57c-16734834f01b",
        "colab": {
          "base_uri": "https://localhost:8080/"
        }
      },
      "source": [
        "list_count = Counter(list_word)\n",
        "len(list_count)\n",
        "len(list_word)"
      ],
      "execution_count": 22,
      "outputs": [
        {
          "output_type": "execute_result",
          "data": {
            "text/plain": [
              "5486"
            ]
          },
          "metadata": {
            "tags": []
          },
          "execution_count": 22
        }
      ]
    },
    {
      "cell_type": "code",
      "metadata": {
        "id": "LQb0H7kNNTms"
      },
      "source": [
        "df_Rank = pd.DataFrame({'words': list (list_count.keys()),'Freq': list (list_count.values()),'polarity': list (i.polarity for i in list_count.keys())})"
      ],
      "execution_count": 23,
      "outputs": []
    },
    {
      "cell_type": "code",
      "metadata": {
        "id": "SMhwAQ19Hfmh"
      },
      "source": [
        "df_Rank = df_Rank[df_Rank['polarity'] !=0]"
      ],
      "execution_count": 24,
      "outputs": []
    },
    {
      "cell_type": "code",
      "metadata": {
        "id": "dAJwGoqVHfpH"
      },
      "source": [
        "df_Rank = df_Rank.sort_values(by=['Freq'], ascending=False)"
      ],
      "execution_count": 25,
      "outputs": []
    },
    {
      "cell_type": "code",
      "metadata": {
        "id": "UpF_lrCOljOH"
      },
      "source": [
        "import numpy as np\n",
        "Index = np.arange(1,len(df_Rank)+1)"
      ],
      "execution_count": 26,
      "outputs": []
    },
    {
      "cell_type": "code",
      "metadata": {
        "id": "ZaDHXReiHfsZ"
      },
      "source": [
        "df_Rank.insert(0,'Rank',Index)"
      ],
      "execution_count": 27,
      "outputs": []
    },
    {
      "cell_type": "code",
      "metadata": {
        "id": "oXqBykzijke6",
        "outputId": "84a6223c-de79-40ad-b60d-122045c19af5",
        "colab": {
          "base_uri": "https://localhost:8080/",
          "height": 419
        }
      },
      "source": [
        "Index = np.arange(1,len(df_Rank)+1)\n",
        "df_Rank.reset_index(drop=True)"
      ],
      "execution_count": 28,
      "outputs": [
        {
          "output_type": "execute_result",
          "data": {
            "text/html": [
              "<div>\n",
              "<style scoped>\n",
              "    .dataframe tbody tr th:only-of-type {\n",
              "        vertical-align: middle;\n",
              "    }\n",
              "\n",
              "    .dataframe tbody tr th {\n",
              "        vertical-align: top;\n",
              "    }\n",
              "\n",
              "    .dataframe thead th {\n",
              "        text-align: right;\n",
              "    }\n",
              "</style>\n",
              "<table border=\"1\" class=\"dataframe\">\n",
              "  <thead>\n",
              "    <tr style=\"text-align: right;\">\n",
              "      <th></th>\n",
              "      <th>Rank</th>\n",
              "      <th>words</th>\n",
              "      <th>Freq</th>\n",
              "      <th>polarity</th>\n",
              "    </tr>\n",
              "  </thead>\n",
              "  <tbody>\n",
              "    <tr>\n",
              "      <th>0</th>\n",
              "      <td>1</td>\n",
              "      <td>good</td>\n",
              "      <td>95</td>\n",
              "      <td>1</td>\n",
              "    </tr>\n",
              "    <tr>\n",
              "      <th>1</th>\n",
              "      <td>2</td>\n",
              "      <td>great</td>\n",
              "      <td>70</td>\n",
              "      <td>1</td>\n",
              "    </tr>\n",
              "    <tr>\n",
              "      <th>2</th>\n",
              "      <td>3</td>\n",
              "      <td>like</td>\n",
              "      <td>46</td>\n",
              "      <td>1</td>\n",
              "    </tr>\n",
              "    <tr>\n",
              "      <th>3</th>\n",
              "      <td>4</td>\n",
              "      <td>best</td>\n",
              "      <td>30</td>\n",
              "      <td>1</td>\n",
              "    </tr>\n",
              "    <tr>\n",
              "      <th>4</th>\n",
              "      <td>5</td>\n",
              "      <td>friendly</td>\n",
              "      <td>27</td>\n",
              "      <td>1</td>\n",
              "    </tr>\n",
              "    <tr>\n",
              "      <th>...</th>\n",
              "      <td>...</td>\n",
              "      <td>...</td>\n",
              "      <td>...</td>\n",
              "      <td>...</td>\n",
              "    </tr>\n",
              "    <tr>\n",
              "      <th>327</th>\n",
              "      <td>328</td>\n",
              "      <td>screwed</td>\n",
              "      <td>1</td>\n",
              "      <td>-1</td>\n",
              "    </tr>\n",
              "    <tr>\n",
              "      <th>328</th>\n",
              "      <td>329</td>\n",
              "      <td>frustrated</td>\n",
              "      <td>1</td>\n",
              "      <td>-1</td>\n",
              "    </tr>\n",
              "    <tr>\n",
              "      <th>329</th>\n",
              "      <td>330</td>\n",
              "      <td>petty</td>\n",
              "      <td>1</td>\n",
              "      <td>-1</td>\n",
              "    </tr>\n",
              "    <tr>\n",
              "      <th>330</th>\n",
              "      <td>331</td>\n",
              "      <td>sore</td>\n",
              "      <td>1</td>\n",
              "      <td>-1</td>\n",
              "    </tr>\n",
              "    <tr>\n",
              "      <th>331</th>\n",
              "      <td>332</td>\n",
              "      <td>wound</td>\n",
              "      <td>1</td>\n",
              "      <td>-1</td>\n",
              "    </tr>\n",
              "  </tbody>\n",
              "</table>\n",
              "<p>332 rows × 4 columns</p>\n",
              "</div>"
            ],
            "text/plain": [
              "     Rank       words  Freq  polarity\n",
              "0       1        good    95         1\n",
              "1       2       great    70         1\n",
              "2       3        like    46         1\n",
              "3       4        best    30         1\n",
              "4       5    friendly    27         1\n",
              "..    ...         ...   ...       ...\n",
              "327   328     screwed     1        -1\n",
              "328   329  frustrated     1        -1\n",
              "329   330       petty     1        -1\n",
              "330   331        sore     1        -1\n",
              "331   332       wound     1        -1\n",
              "\n",
              "[332 rows x 4 columns]"
            ]
          },
          "metadata": {
            "tags": []
          },
          "execution_count": 28
        }
      ]
    },
    {
      "cell_type": "code",
      "metadata": {
        "id": "aQuI1RLzjklG"
      },
      "source": [
        "pol_freq = Counter(list (df_Rank['polarity']))"
      ],
      "execution_count": 29,
      "outputs": []
    },
    {
      "cell_type": "code",
      "metadata": {
        "id": "OveXoyJljkdA",
        "outputId": "c9e1b778-21f3-423b-d2a8-f0dde0565706",
        "colab": {
          "base_uri": "https://localhost:8080/"
        }
      },
      "source": [
        "pol_freq"
      ],
      "execution_count": 30,
      "outputs": [
        {
          "output_type": "execute_result",
          "data": {
            "text/plain": [
              "Counter({-1: 165, 1: 167})"
            ]
          },
          "metadata": {
            "tags": []
          },
          "execution_count": 30
        }
      ]
    },
    {
      "cell_type": "markdown",
      "metadata": {
        "id": "vYlGCkDtIrZy"
      },
      "source": [
        "As we can see the restaurant reviews has equal amount of negative(-1) as well as positive(1) reviews "
      ]
    },
    {
      "cell_type": "markdown",
      "metadata": {
        "id": "zyd61Jksb4Xc"
      },
      "source": [
        "## (2) (10 points) Compare the performance of the following tools in sentiment identification: TextBlob (https://textblob.readthedocs.io/en/dev/), VADER (https://github.com/cjhutto/vaderSentiment), TFIDF-based Support Vector Machine (SVM) (Split your data into training and testing data). Take your own annotation as the standard answers. \n",
        "\n",
        "Reference code: https://towardsdatascience.com/fine-grained-sentiment-analysis-in-python-part-1-2697bb111ed4"
      ]
    },
    {
      "cell_type": "code",
      "metadata": {
        "id": "A1AGnJJLeIrN",
        "outputId": "aad7e0f5-df1a-4c43-cb1a-90135114f20d",
        "colab": {
          "base_uri": "https://localhost:8080/"
        }
      },
      "source": [
        "import nltk\n",
        "nltk.download('vader_lexicon')"
      ],
      "execution_count": 31,
      "outputs": [
        {
          "output_type": "stream",
          "text": [
            "[nltk_data] Downloading package vader_lexicon to /root/nltk_data...\n",
            "[nltk_data]   Package vader_lexicon is already up-to-date!\n"
          ],
          "name": "stdout"
        },
        {
          "output_type": "execute_result",
          "data": {
            "text/plain": [
              "True"
            ]
          },
          "metadata": {
            "tags": []
          },
          "execution_count": 31
        }
      ]
    },
    {
      "cell_type": "code",
      "metadata": {
        "id": "Uf3GQJanb4Xc",
        "outputId": "792b2168-22af-422d-b67f-a6fb9c58418c",
        "colab": {
          "base_uri": "https://localhost:8080/"
        }
      },
      "source": [
        "# TextBlob\n",
        "from textblob import TextBlob\n",
        "\n",
        "df['Text_TextBlob'] = df['Review'].apply(lambda x: TextBlob(x))\n",
        "df['polarity_TextBlob'] = df['Text_TextBlob'].apply(lambda x: [i.sentiment.polarity for i in x.sentences])\n",
        "\n",
        "# Vader\n",
        "from nltk.sentiment.vader import SentimentIntensityAnalyzer\n",
        "\n",
        "\n",
        "analyzer = SentimentIntensityAnalyzer()\n",
        "df['compound_vader'] = [analyzer.polarity_scores(x)['compound'] for x in df['Review']]\n",
        "df['neg_vader'] = [analyzer.polarity_scores(x)['neg'] for x in df['Review']]\n",
        "df['neu_vader'] = [analyzer.polarity_scores(x)['neu'] for x in df['Review']]\n",
        "df['pos_vader'] = [analyzer.polarity_scores(x)['pos'] for x in df['Review']]\n",
        "\n",
        "#TFIDF SVM\n",
        "\n"
      ],
      "execution_count": 32,
      "outputs": [
        {
          "output_type": "stream",
          "text": [
            "/usr/local/lib/python3.6/dist-packages/nltk/twitter/__init__.py:20: UserWarning: The twython library has not been installed. Some functionality from the twitter package will not be available.\n",
            "  warnings.warn(\"The twython library has not been installed. \"\n"
          ],
          "name": "stderr"
        }
      ]
    },
    {
      "cell_type": "code",
      "metadata": {
        "id": "QLK4TECg_ypW",
        "outputId": "c42c109a-e53a-4ffa-e6ad-dc4aa235a8c0",
        "colab": {
          "base_uri": "https://localhost:8080/"
        }
      },
      "source": [
        "df.polarity_TextBlob.value_counts"
      ],
      "execution_count": 33,
      "outputs": [
        {
          "output_type": "execute_result",
          "data": {
            "text/plain": [
              "<bound method IndexOpsMixin.value_counts of 0                  [0.1, 0.7]\n",
              "1                     [-0.35]\n",
              "2                      [-1.0]\n",
              "3       [0.19999999999999998]\n",
              "4                       [0.8]\n",
              "                ...          \n",
              "995                     [0.0]\n",
              "996                     [0.0]\n",
              "997    [-0.16666666666666666]\n",
              "998                     [0.1]\n",
              "999                    [-0.1]\n",
              "Name: polarity_TextBlob, Length: 1000, dtype: object>"
            ]
          },
          "metadata": {
            "tags": []
          },
          "execution_count": 33
        }
      ]
    },
    {
      "cell_type": "code",
      "metadata": {
        "id": "2Bhgf8n7lae0",
        "outputId": "cff50c6a-82b1-455b-feeb-7e379ded0163",
        "colab": {
          "base_uri": "https://localhost:8080/",
          "height": 683
        }
      },
      "source": [
        "for i in range(len(df['polarity_TextBlob'])):\n",
        " if (np.size(df['polarity_TextBlob'][i]) >= 2):\n",
        "    df['polarity_TextBlob'][i] = [np.sum(df['polarity_TextBlob'][i])]\n",
        "df.head()"
      ],
      "execution_count": 34,
      "outputs": [
        {
          "output_type": "stream",
          "text": [
            "/usr/local/lib/python3.6/dist-packages/ipykernel_launcher.py:3: SettingWithCopyWarning: \n",
            "A value is trying to be set on a copy of a slice from a DataFrame\n",
            "\n",
            "See the caveats in the documentation: https://pandas.pydata.org/pandas-docs/stable/user_guide/indexing.html#returning-a-view-versus-a-copy\n",
            "  This is separate from the ipykernel package so we can avoid doing imports until\n"
          ],
          "name": "stderr"
        },
        {
          "output_type": "execute_result",
          "data": {
            "text/html": [
              "<div>\n",
              "<style scoped>\n",
              "    .dataframe tbody tr th:only-of-type {\n",
              "        vertical-align: middle;\n",
              "    }\n",
              "\n",
              "    .dataframe tbody tr th {\n",
              "        vertical-align: top;\n",
              "    }\n",
              "\n",
              "    .dataframe thead th {\n",
              "        text-align: right;\n",
              "    }\n",
              "</style>\n",
              "<table border=\"1\" class=\"dataframe\">\n",
              "  <thead>\n",
              "    <tr style=\"text-align: right;\">\n",
              "      <th></th>\n",
              "      <th>Review</th>\n",
              "      <th>Original_Sentiment</th>\n",
              "      <th>Review_punc</th>\n",
              "      <th>Review_lower</th>\n",
              "      <th>Review_stop</th>\n",
              "      <th>Reviews_Token</th>\n",
              "      <th>Text_TextBlob</th>\n",
              "      <th>polarity_TextBlob</th>\n",
              "      <th>compound_vader</th>\n",
              "      <th>neg_vader</th>\n",
              "      <th>neu_vader</th>\n",
              "      <th>pos_vader</th>\n",
              "    </tr>\n",
              "  </thead>\n",
              "  <tbody>\n",
              "    <tr>\n",
              "      <th>0</th>\n",
              "      <td>Wow... Loved this place</td>\n",
              "      <td>1</td>\n",
              "      <td>Wow Loved this place</td>\n",
              "      <td>wow loved this place</td>\n",
              "      <td>wow loved place</td>\n",
              "      <td>[wow, loved, place]</td>\n",
              "      <td>(W, o, w, ., ., .,  , L, o, v, e, d,  , t, h, ...</td>\n",
              "      <td>[0.7999999999999999]</td>\n",
              "      <td>0.5994</td>\n",
              "      <td>0.000</td>\n",
              "      <td>0.435</td>\n",
              "      <td>0.565</td>\n",
              "    </tr>\n",
              "    <tr>\n",
              "      <th>1</th>\n",
              "      <td>Crust is not good</td>\n",
              "      <td>-1</td>\n",
              "      <td>Crust is not good</td>\n",
              "      <td>crust is not good</td>\n",
              "      <td>crust good</td>\n",
              "      <td>[crust, good]</td>\n",
              "      <td>(C, r, u, s, t,  , i, s,  , n, o, t,  , g, o, ...</td>\n",
              "      <td>[-0.35]</td>\n",
              "      <td>-0.3412</td>\n",
              "      <td>0.445</td>\n",
              "      <td>0.555</td>\n",
              "      <td>0.000</td>\n",
              "    </tr>\n",
              "    <tr>\n",
              "      <th>2</th>\n",
              "      <td>Not tasty and the texture was just nasty</td>\n",
              "      <td>-1</td>\n",
              "      <td>Not tasty and the texture was just nasty</td>\n",
              "      <td>not tasty and the texture was just nasty</td>\n",
              "      <td>tasty texture nasty</td>\n",
              "      <td>[tasty, texture, nasty]</td>\n",
              "      <td>(N, o, t,  , t, a, s, t, y,  , a, n, d,  , t, ...</td>\n",
              "      <td>[-1.0]</td>\n",
              "      <td>-0.5574</td>\n",
              "      <td>0.340</td>\n",
              "      <td>0.660</td>\n",
              "      <td>0.000</td>\n",
              "    </tr>\n",
              "    <tr>\n",
              "      <th>3</th>\n",
              "      <td>Stopped by during the late May bank holiday of...</td>\n",
              "      <td>1</td>\n",
              "      <td>Stopped by during the late May bank holiday of...</td>\n",
              "      <td>stopped by during the late may bank holiday of...</td>\n",
              "      <td>stopped late may bank holiday rick steve recom...</td>\n",
              "      <td>[stopped, late, may, bank, holiday, rick, stev...</td>\n",
              "      <td>(S, t, o, p, p, e, d,  , b, y,  , d, u, r, i, ...</td>\n",
              "      <td>[0.19999999999999998]</td>\n",
              "      <td>0.6908</td>\n",
              "      <td>0.093</td>\n",
              "      <td>0.585</td>\n",
              "      <td>0.322</td>\n",
              "    </tr>\n",
              "    <tr>\n",
              "      <th>4</th>\n",
              "      <td>The selection on the menu was great and so wer...</td>\n",
              "      <td>1</td>\n",
              "      <td>The selection on the menu was great and so wer...</td>\n",
              "      <td>the selection on the menu was great and so wer...</td>\n",
              "      <td>selection menu great prices</td>\n",
              "      <td>[selection, menu, great, prices]</td>\n",
              "      <td>(T, h, e,  , s, e, l, e, c, t, i, o, n,  , o, ...</td>\n",
              "      <td>[0.8]</td>\n",
              "      <td>0.6249</td>\n",
              "      <td>0.000</td>\n",
              "      <td>0.728</td>\n",
              "      <td>0.272</td>\n",
              "    </tr>\n",
              "  </tbody>\n",
              "</table>\n",
              "</div>"
            ],
            "text/plain": [
              "                                              Review  ...  pos_vader\n",
              "0                            Wow... Loved this place  ...      0.565\n",
              "1                                  Crust is not good  ...      0.000\n",
              "2           Not tasty and the texture was just nasty  ...      0.000\n",
              "3  Stopped by during the late May bank holiday of...  ...      0.322\n",
              "4  The selection on the menu was great and so wer...  ...      0.272\n",
              "\n",
              "[5 rows x 12 columns]"
            ]
          },
          "metadata": {
            "tags": []
          },
          "execution_count": 34
        }
      ]
    },
    {
      "cell_type": "code",
      "metadata": {
        "id": "zmFzz5JRl7Wi"
      },
      "source": [
        "df['polarity_TextBlob'] = df['polarity_TextBlob'].apply(lambda x: np.round(x,1))\n",
        "df['compound_vader'] = df['compound_vader'].apply(lambda x: np.round(x,1))\n",
        "df['neg_vader'] = df['neg_vader'].apply(lambda x: np.round(x,1))\n",
        "df['neu_vader'] = df['neu_vader'].apply(lambda x: np.round(x,1))\n",
        "df['pos_vader'] = df['pos_vader'].apply(lambda x: np.round(x,1))"
      ],
      "execution_count": 35,
      "outputs": []
    },
    {
      "cell_type": "code",
      "metadata": {
        "id": "WzGbaHcnoKW2",
        "outputId": "e086bfbe-aeac-4917-cd79-46c79d242914",
        "colab": {
          "base_uri": "https://localhost:8080/",
          "height": 598
        }
      },
      "source": [
        "df.head()"
      ],
      "execution_count": 36,
      "outputs": [
        {
          "output_type": "execute_result",
          "data": {
            "text/html": [
              "<div>\n",
              "<style scoped>\n",
              "    .dataframe tbody tr th:only-of-type {\n",
              "        vertical-align: middle;\n",
              "    }\n",
              "\n",
              "    .dataframe tbody tr th {\n",
              "        vertical-align: top;\n",
              "    }\n",
              "\n",
              "    .dataframe thead th {\n",
              "        text-align: right;\n",
              "    }\n",
              "</style>\n",
              "<table border=\"1\" class=\"dataframe\">\n",
              "  <thead>\n",
              "    <tr style=\"text-align: right;\">\n",
              "      <th></th>\n",
              "      <th>Review</th>\n",
              "      <th>Original_Sentiment</th>\n",
              "      <th>Review_punc</th>\n",
              "      <th>Review_lower</th>\n",
              "      <th>Review_stop</th>\n",
              "      <th>Reviews_Token</th>\n",
              "      <th>Text_TextBlob</th>\n",
              "      <th>polarity_TextBlob</th>\n",
              "      <th>compound_vader</th>\n",
              "      <th>neg_vader</th>\n",
              "      <th>neu_vader</th>\n",
              "      <th>pos_vader</th>\n",
              "    </tr>\n",
              "  </thead>\n",
              "  <tbody>\n",
              "    <tr>\n",
              "      <th>0</th>\n",
              "      <td>Wow... Loved this place</td>\n",
              "      <td>1</td>\n",
              "      <td>Wow Loved this place</td>\n",
              "      <td>wow loved this place</td>\n",
              "      <td>wow loved place</td>\n",
              "      <td>[wow, loved, place]</td>\n",
              "      <td>(W, o, w, ., ., .,  , L, o, v, e, d,  , t, h, ...</td>\n",
              "      <td>[0.8]</td>\n",
              "      <td>0.6</td>\n",
              "      <td>0.0</td>\n",
              "      <td>0.4</td>\n",
              "      <td>0.6</td>\n",
              "    </tr>\n",
              "    <tr>\n",
              "      <th>1</th>\n",
              "      <td>Crust is not good</td>\n",
              "      <td>-1</td>\n",
              "      <td>Crust is not good</td>\n",
              "      <td>crust is not good</td>\n",
              "      <td>crust good</td>\n",
              "      <td>[crust, good]</td>\n",
              "      <td>(C, r, u, s, t,  , i, s,  , n, o, t,  , g, o, ...</td>\n",
              "      <td>[-0.4]</td>\n",
              "      <td>-0.3</td>\n",
              "      <td>0.4</td>\n",
              "      <td>0.6</td>\n",
              "      <td>0.0</td>\n",
              "    </tr>\n",
              "    <tr>\n",
              "      <th>2</th>\n",
              "      <td>Not tasty and the texture was just nasty</td>\n",
              "      <td>-1</td>\n",
              "      <td>Not tasty and the texture was just nasty</td>\n",
              "      <td>not tasty and the texture was just nasty</td>\n",
              "      <td>tasty texture nasty</td>\n",
              "      <td>[tasty, texture, nasty]</td>\n",
              "      <td>(N, o, t,  , t, a, s, t, y,  , a, n, d,  , t, ...</td>\n",
              "      <td>[-1.0]</td>\n",
              "      <td>-0.6</td>\n",
              "      <td>0.3</td>\n",
              "      <td>0.7</td>\n",
              "      <td>0.0</td>\n",
              "    </tr>\n",
              "    <tr>\n",
              "      <th>3</th>\n",
              "      <td>Stopped by during the late May bank holiday of...</td>\n",
              "      <td>1</td>\n",
              "      <td>Stopped by during the late May bank holiday of...</td>\n",
              "      <td>stopped by during the late may bank holiday of...</td>\n",
              "      <td>stopped late may bank holiday rick steve recom...</td>\n",
              "      <td>[stopped, late, may, bank, holiday, rick, stev...</td>\n",
              "      <td>(S, t, o, p, p, e, d,  , b, y,  , d, u, r, i, ...</td>\n",
              "      <td>[0.2]</td>\n",
              "      <td>0.7</td>\n",
              "      <td>0.1</td>\n",
              "      <td>0.6</td>\n",
              "      <td>0.3</td>\n",
              "    </tr>\n",
              "    <tr>\n",
              "      <th>4</th>\n",
              "      <td>The selection on the menu was great and so wer...</td>\n",
              "      <td>1</td>\n",
              "      <td>The selection on the menu was great and so wer...</td>\n",
              "      <td>the selection on the menu was great and so wer...</td>\n",
              "      <td>selection menu great prices</td>\n",
              "      <td>[selection, menu, great, prices]</td>\n",
              "      <td>(T, h, e,  , s, e, l, e, c, t, i, o, n,  , o, ...</td>\n",
              "      <td>[0.8]</td>\n",
              "      <td>0.6</td>\n",
              "      <td>0.0</td>\n",
              "      <td>0.7</td>\n",
              "      <td>0.3</td>\n",
              "    </tr>\n",
              "  </tbody>\n",
              "</table>\n",
              "</div>"
            ],
            "text/plain": [
              "                                              Review  ...  pos_vader\n",
              "0                            Wow... Loved this place  ...        0.6\n",
              "1                                  Crust is not good  ...        0.0\n",
              "2           Not tasty and the texture was just nasty  ...        0.0\n",
              "3  Stopped by during the late May bank holiday of...  ...        0.3\n",
              "4  The selection on the menu was great and so wer...  ...        0.3\n",
              "\n",
              "[5 rows x 12 columns]"
            ]
          },
          "metadata": {
            "tags": []
          },
          "execution_count": 36
        }
      ]
    },
    {
      "cell_type": "code",
      "metadata": {
        "id": "3SDrfGZYoNIu",
        "outputId": "8dcb4ecf-f036-450d-ea7b-5f15fce0a7bc",
        "colab": {
          "base_uri": "https://localhost:8080/",
          "height": 35
        }
      },
      "source": [
        "df['Review'][4]"
      ],
      "execution_count": 37,
      "outputs": [
        {
          "output_type": "execute_result",
          "data": {
            "application/vnd.google.colaboratory.intrinsic+json": {
              "type": "string"
            },
            "text/plain": [
              "'The selection on the menu was great and so were the prices'"
            ]
          },
          "metadata": {
            "tags": []
          },
          "execution_count": 37
        }
      ]
    },
    {
      "cell_type": "code",
      "metadata": {
        "id": "VOhARJiwsOge"
      },
      "source": [
        "polarity_compare = pd.DataFrame()"
      ],
      "execution_count": 38,
      "outputs": []
    },
    {
      "cell_type": "code",
      "metadata": {
        "id": "FHFAABc4teYN"
      },
      "source": [
        "from itertools import chain"
      ],
      "execution_count": 39,
      "outputs": []
    },
    {
      "cell_type": "code",
      "metadata": {
        "id": "IxVmC2XCst5A"
      },
      "source": [
        "polarity_compare.insert(0,'TextBlob',list (chain(*df['polarity_TextBlob'])))"
      ],
      "execution_count": 40,
      "outputs": []
    },
    {
      "cell_type": "code",
      "metadata": {
        "id": "fgXwNzmYtJVS"
      },
      "source": [
        "polarity_compare.insert(1,'Vader',df['compound_vader'])"
      ],
      "execution_count": 41,
      "outputs": []
    },
    {
      "cell_type": "code",
      "metadata": {
        "id": "4WAxID2ttUg-"
      },
      "source": [
        "polarity_compare.insert(0,'Reviews',df['Review'])"
      ],
      "execution_count": 42,
      "outputs": []
    },
    {
      "cell_type": "code",
      "metadata": {
        "id": "B7KBlllQtV4b",
        "outputId": "944a45a2-fb0e-49ee-aa16-8b40fb9395a1",
        "colab": {
          "base_uri": "https://localhost:8080/",
          "height": 204
        }
      },
      "source": [
        "polarity_compare.head()"
      ],
      "execution_count": 43,
      "outputs": [
        {
          "output_type": "execute_result",
          "data": {
            "text/html": [
              "<div>\n",
              "<style scoped>\n",
              "    .dataframe tbody tr th:only-of-type {\n",
              "        vertical-align: middle;\n",
              "    }\n",
              "\n",
              "    .dataframe tbody tr th {\n",
              "        vertical-align: top;\n",
              "    }\n",
              "\n",
              "    .dataframe thead th {\n",
              "        text-align: right;\n",
              "    }\n",
              "</style>\n",
              "<table border=\"1\" class=\"dataframe\">\n",
              "  <thead>\n",
              "    <tr style=\"text-align: right;\">\n",
              "      <th></th>\n",
              "      <th>Reviews</th>\n",
              "      <th>TextBlob</th>\n",
              "      <th>Vader</th>\n",
              "    </tr>\n",
              "  </thead>\n",
              "  <tbody>\n",
              "    <tr>\n",
              "      <th>0</th>\n",
              "      <td>Wow... Loved this place</td>\n",
              "      <td>0.8</td>\n",
              "      <td>0.6</td>\n",
              "    </tr>\n",
              "    <tr>\n",
              "      <th>1</th>\n",
              "      <td>Crust is not good</td>\n",
              "      <td>-0.4</td>\n",
              "      <td>-0.3</td>\n",
              "    </tr>\n",
              "    <tr>\n",
              "      <th>2</th>\n",
              "      <td>Not tasty and the texture was just nasty</td>\n",
              "      <td>-1.0</td>\n",
              "      <td>-0.6</td>\n",
              "    </tr>\n",
              "    <tr>\n",
              "      <th>3</th>\n",
              "      <td>Stopped by during the late May bank holiday of...</td>\n",
              "      <td>0.2</td>\n",
              "      <td>0.7</td>\n",
              "    </tr>\n",
              "    <tr>\n",
              "      <th>4</th>\n",
              "      <td>The selection on the menu was great and so wer...</td>\n",
              "      <td>0.8</td>\n",
              "      <td>0.6</td>\n",
              "    </tr>\n",
              "  </tbody>\n",
              "</table>\n",
              "</div>"
            ],
            "text/plain": [
              "                                             Reviews  TextBlob  Vader\n",
              "0                            Wow... Loved this place       0.8    0.6\n",
              "1                                  Crust is not good      -0.4   -0.3\n",
              "2           Not tasty and the texture was just nasty      -1.0   -0.6\n",
              "3  Stopped by during the late May bank holiday of...       0.2    0.7\n",
              "4  The selection on the menu was great and so wer...       0.8    0.6"
            ]
          },
          "metadata": {
            "tags": []
          },
          "execution_count": 43
        }
      ]
    },
    {
      "cell_type": "code",
      "metadata": {
        "id": "49B_cc6xt5Zg"
      },
      "source": [
        "import matplotlib.pyplot as plt"
      ],
      "execution_count": 44,
      "outputs": []
    },
    {
      "cell_type": "code",
      "metadata": {
        "id": "STkUgy6ywzD8",
        "outputId": "72a08e94-7a5e-43de-88ff-555f97cabdb1",
        "colab": {
          "base_uri": "https://localhost:8080/",
          "height": 401
        }
      },
      "source": [
        "plt.boxplot(polarity_compare['Vader'])"
      ],
      "execution_count": 45,
      "outputs": [
        {
          "output_type": "execute_result",
          "data": {
            "text/plain": [
              "{'boxes': [<matplotlib.lines.Line2D at 0x7f827e57ecc0>],\n",
              " 'caps': [<matplotlib.lines.Line2D at 0x7f827e590710>,\n",
              "  <matplotlib.lines.Line2D at 0x7f827e590a90>],\n",
              " 'fliers': [<matplotlib.lines.Line2D at 0x7f827e59e1d0>],\n",
              " 'means': [],\n",
              " 'medians': [<matplotlib.lines.Line2D at 0x7f827e590e10>],\n",
              " 'whiskers': [<matplotlib.lines.Line2D at 0x7f827e57efd0>,\n",
              "  <matplotlib.lines.Line2D at 0x7f827e590390>]}"
            ]
          },
          "metadata": {
            "tags": []
          },
          "execution_count": 45
        },
        {
          "output_type": "display_data",
          "data": {
            "image/png": "[encoded data removed]",
            "text/plain": [
              "<Figure size 432x288 with 1 Axes>"
            ]
          },
          "metadata": {
            "tags": [],
            "needs_background": "light"
          }
        }
      ]
    },
    {
      "cell_type": "code",
      "metadata": {
        "id": "0dCE99kUxOgM",
        "outputId": "83cd588b-a113-4d19-f213-e453761cf19d",
        "colab": {
          "base_uri": "https://localhost:8080/",
          "height": 401
        }
      },
      "source": [
        "plt.boxplot(polarity_compare['TextBlob'])"
      ],
      "execution_count": 46,
      "outputs": [
        {
          "output_type": "execute_result",
          "data": {
            "text/plain": [
              "{'boxes': [<matplotlib.lines.Line2D at 0x7f827dfd3ac8>],\n",
              " 'caps': [<matplotlib.lines.Line2D at 0x7f827dfe1518>,\n",
              "  <matplotlib.lines.Line2D at 0x7f827dfe1898>],\n",
              " 'fliers': [<matplotlib.lines.Line2D at 0x7f827dfe1f98>],\n",
              " 'means': [],\n",
              " 'medians': [<matplotlib.lines.Line2D at 0x7f827dfe1c18>],\n",
              " 'whiskers': [<matplotlib.lines.Line2D at 0x7f827dfd3dd8>,\n",
              "  <matplotlib.lines.Line2D at 0x7f827dfe1198>]}"
            ]
          },
          "metadata": {
            "tags": []
          },
          "execution_count": 46
        },
        {
          "output_type": "display_data",
          "data": {
            "image/png": "[encoded data removed]",
            "text/plain": [
              "<Figure size 432x288 with 1 Axes>"
            ]
          },
          "metadata": {
            "tags": [],
            "needs_background": "light"
          }
        }
      ]
    },
    {
      "cell_type": "code",
      "metadata": {
        "id": "9XgCLTtizoN8"
      },
      "source": [
        "from sklearn.model_selection import train_test_split\n",
        "from sklearn.feature_extraction.text import TfidfVectorizer\n",
        "from sklearn.metrics import accuracy_score\n",
        "from sklearn.svm import LinearSVC"
      ],
      "execution_count": 47,
      "outputs": []
    },
    {
      "cell_type": "code",
      "metadata": {
        "id": "clMTe0VqgnFl"
      },
      "source": [
        "df_SVM = pd.DataFrame()\n",
        "df_SVM.insert(0,'Original_Sentiment',df['Original_Sentiment'])\n",
        "df_SVM.insert(0,'Review',df['Review'])"
      ],
      "execution_count": 48,
      "outputs": []
    },
    {
      "cell_type": "code",
      "metadata": {
        "id": "u96AaKjzhv-L"
      },
      "source": [
        "df_SVM['Review']=df_SVM['Review'].str.lower()\n",
        "df_SVM['Review']=df_SVM['Review'].apply(lambda x: ' '.join(re.sub(\"(@[A-Za-z0-9]+)|([^0-9A-Za-z \\t])|(\\w+:\\/\\/\\S+)\",\" \",x).split()))"
      ],
      "execution_count": 49,
      "outputs": []
    },
    {
      "cell_type": "code",
      "metadata": {
        "id": "EfkaHCBmiusj"
      },
      "source": [
        "X=df_SVM['Review'].to_list()\n",
        "y=df_SVM['Original_Sentiment'].to_list()\n",
        "X_train, X_test, y_train, y_test = train_test_split(X,y,test_size=0.20, random_state=10)\n",
        "Vectorizer = TfidfVectorizer(max_df=0.9,ngram_range=(1, 2))\n",
        "TfIdf=Vectorizer.fit(X_train)\n",
        "X_train=TfIdf.transform(X_train)"
      ],
      "execution_count": 50,
      "outputs": []
    },
    {
      "cell_type": "code",
      "metadata": {
        "id": "Ugvtwj0bjB-5",
        "outputId": "35cf008c-6267-4360-f03c-dc2284a16dd9",
        "colab": {
          "base_uri": "https://localhost:8080/"
        }
      },
      "source": [
        "\n",
        "model = LinearSVC(C=0.1)\n",
        "model.fit(X_train,y_train)"
      ],
      "execution_count": 52,
      "outputs": [
        {
          "output_type": "execute_result",
          "data": {
            "text/plain": [
              "LinearSVC(C=0.1, class_weight=None, dual=True, fit_intercept=True,\n",
              "          intercept_scaling=1, loss='squared_hinge', max_iter=1000,\n",
              "          multi_class='ovr', penalty='l2', random_state=None, tol=0.0001,\n",
              "          verbose=0)"
            ]
          },
          "metadata": {
            "tags": []
          },
          "execution_count": 52
        }
      ]
    },
    {
      "cell_type": "code",
      "metadata": {
        "id": "yirphlTWjZ6E",
        "outputId": "083bdc8d-f30f-48f2-ee66-b5fb861efaa3",
        "colab": {
          "base_uri": "https://localhost:8080/"
        }
      },
      "source": [
        "X_test=TfIdf.transform(X_test)\n",
        "y_pred=model.predict(X_test)\n",
        "print(accuracy_score(y_test, y_pred))"
      ],
      "execution_count": 53,
      "outputs": [
        {
          "output_type": "stream",
          "text": [
            "0.81\n"
          ],
          "name": "stdout"
        }
      ]
    },
    {
      "cell_type": "markdown",
      "metadata": {
        "id": "pgDddfmdx1y4"
      },
      "source": [
        "**Comparision between TextBlob,Vader and TFIDF- SVM:**\n",
        "\n",
        "- Here in the above table and in analysis in box plot, I could infer from both (Textblob and Vader) sentiment identifation tools that most of the reviews are positive.\n",
        "\n",
        "- we see from above graphs that median using vader value is 0.02, which lies on positive side, where as in TextBlob the median value is exactly on 0 which means 'Neutral'.\n",
        "\n",
        "- As the median values of both are having minute difference lets take the frequency of Sentiment term as factor. Which I got from first question as:![Screen Shot 2020-10-31 at 10.18.00 PM.png](data:image/png;base64,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)\n",
        "So. we see that negative as well as positive sentiment terms in corpus are nearly equal. Which means that median will be nearly neutral.\n",
        "\n",
        "- While coming to TFIDF -SVM , we find that predicting the sentiment of sentences, we got accuracy value of 81%, which I think is low.\n",
        "\n",
        "**Result**: Hence, By comparing all three tools, The perormance order from best to least best tool would be:\n",
        "\n",
        "TextBlob > Vader > TFIDF - SVM\n",
        "\n",
        "TextBlob is best among the three tools."
      ]
    },
    {
      "cell_type": "code",
      "metadata": {
        "id": "_7LmYfBbl2wt"
      },
      "source": [
        ""
      ],
      "execution_count": null,
      "outputs": []
    }
  ]
}
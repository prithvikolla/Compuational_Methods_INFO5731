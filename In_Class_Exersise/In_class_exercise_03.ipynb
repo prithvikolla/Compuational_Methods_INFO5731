{
  "nbformat": 4,
  "nbformat_minor": 0,
  "metadata": {
    "kernelspec": {
      "display_name": "Python 3",
      "language": "python",
      "name": "python3"
    },
    "language_info": {
      "codemirror_mode": {
        "name": "ipython",
        "version": 3
      },
      "file_extension": ".py",
      "mimetype": "text/x-python",
      "name": "python",
      "nbconvert_exporter": "python",
      "pygments_lexer": "ipython3",
      "version": "3.7.4"
    },
    "colab": {
      "name": "In-class-exercise-03.ipynb",
      "provenance": []
    }
  },
  "cells": [
    {
      "cell_type": "markdown",
      "metadata": {
        "id": "DLOmYtvE2YRL",
        "colab_type": "text"
      },
      "source": [
        "## The third In-class-exercise (9/16/2020, 20 points in total)"
      ]
    },
    {
      "cell_type": "markdown",
      "metadata": {
        "id": "D-lDkoLi2YRN",
        "colab_type": "text"
      },
      "source": [
        "The purpose of this exercise is to under users' information needs, then collect the data for analysis."
      ]
    },
    {
      "cell_type": "markdown",
      "metadata": {
        "id": "j1w0FvjC2YRO",
        "colab_type": "text"
      },
      "source": [
        "Question 1 (8 points): Describe an interesting research question (or practical question) you have in mind, what kind of data should be collected to answer the question(s)? How many data needed for the analysis? The detail steps for collecting and save the data. "
      ]
    },
    {
      "cell_type": "code",
      "metadata": {
        "id": "FbnlgQnl2YRO",
        "colab_type": "code",
        "colab": {}
      },
      "source": [
        "# Your answer here (no code for this question, write down your answer as detail as possible for the above questions):\n",
        "\n",
        "'''\n",
        "Please write you answer here:\n",
        "\n",
        "\n",
        "\n",
        "\n",
        "\n",
        "'''"
      ],
      "execution_count": null,
      "outputs": []
    },
    {
      "cell_type": "markdown",
      "metadata": {
        "id": "nFzvG-Sz2YRS",
        "colab_type": "text"
      },
      "source": [
        "Question 2 (12 points): Write python code to collect 500 items of the data you plan to collect above."
      ]
    },
    {
      "cell_type": "code",
      "metadata": {
        "id": "KE776wLS2YRT",
        "colab_type": "code",
        "colab": {
          "base_uri": "https://localhost:8080/",
          "height": 1000
        },
        "outputId": "df6426bb-2711-4bf8-9cc9-162c94ba0f0e"
      },
      "source": [
        "# You code here (Please add comments in the code):\n",
        "\n",
        "\n",
        "import pandas as pd\n",
        "import requests\n",
        "from bs4 import BeautifulSoup\n",
        "TreeHead = [ ]\n",
        "Id = []\n",
        "Description = []\n",
        "Solved_By = []\n",
        "for i in range(1,11):\n",
        " page = requests.get('https://projecteuler.net/archives;page='+ str (i))\n",
        " soup = BeautifulSoup(page.content,'html.parser')\n",
        " soup.find_all('div',id =\"container\")\n"
      ],
      "execution_count": 9,
      "outputs": [
        {
          "output_type": "stream",
          "text": [
            "[<div id=\"container\">\n",
            "<div class=\"noprint\" id=\"header\">\n",
            "<img alt=\"\" src=\"themes/20200730/logo_default.png\"/>\n",
            "<div id=\"info_panel\">\n",
            "<span class=\"larger\"> </span><a href=\"search\"><img alt=\"Search Problems\" src=\"images/icon_search.png\" title=\"Search Problems\"/></a><a href=\"rss2_euler.xml\"><img alt=\"RSS Feed\" src=\"images/icon_rss.png\" title=\"RSS Feed\"/></a>\n",
            "</div><!--end_info_panel-->\n",
            "</div> <!--end_header-->\n",
            "<div class=\"nav noprint\" id=\"navigation\">\n",
            "<a accesskey=\"h\" href=\"about\" title=\"About\">About</a>\n",
            "<a accesskey=\"1\" href=\"archives\" id=\"current\" title=\"Archives\">Archives</a>\n",
            "<a accesskey=\"2\" href=\"recent\" title=\"Recent\">Recent</a>\n",
            "<a accesskey=\"3\" href=\"news\" title=\"News\">News</a>\n",
            "<a accesskey=\"4\" href=\"register\" title=\"Register\">Register</a>\n",
            "<a accesskey=\"5\" href=\"sign_in\" title=\"Sign In\">Sign In</a>\n",
            "<a class=\"hamburger\" id=\"hamburger\">\n",
            "<div class=\"bar\"></div>\n",
            "<div class=\"bar\"></div>\n",
            "<div class=\"bar\"></div>\n",
            "</a>\n",
            "</div> <!--end_nav-->\n",
            "<div id=\"content\">\n",
            "<div id=\"problems_table_page\">\n",
            "<div id=\"cache_info\">Cache update: 44 minutes</div><h2>Problems Archives</h2>\n",
            "<div id=\"new_problems\">\n",
            "</div><p>The problems archives table shows problems 1 to 715. If you would like to tackle the 10 most recently published problems then go to <a href=\"recent\">Recent</a> problems.<br/>Click the description/title of the problem to view details and submit your answer.</p><div class=\"pagination noprint\"><a class=\"current\" href=\"archives\">1</a><a href=\"archives;page=2\" title=\"Go to page 2\">2</a><a href=\"archives;page=3\" title=\"Go to page 3\">3</a><a href=\"archives;page=4\" title=\"Go to page 4\">4</a><a href=\"archives;page=5\" title=\"Go to page 5\">5</a><a href=\"archives;page=6\" title=\"Go to page 6\">6</a><a href=\"archives;page=7\" title=\"Go to page 7\">7</a><a href=\"archives;page=8\" title=\"Go to page 8\">8</a><a href=\"archives;page=9\" title=\"Go to page 9\">9</a><a href=\"archives;page=10\" title=\"Go to page 10\">10</a><a href=\"archives;page=11\" title=\"Go to page 11\">11</a><a href=\"archives;page=12\" title=\"Go to page 12\">12</a><a href=\"archives;page=13\" title=\"Go to page 13\">13</a><a href=\"archives;page=14\" title=\"Go to page 14\">14</a><a href=\"archives;page=15\" title=\"Go to page 15\">15</a><span id=\"go_to\">   Go to Problem: <input class=\"jump_to\" maxlength=\"3\" type=\"text\"/></span></div>\n",
            "<table class=\"grid\" id=\"problems_table\">\n",
            "<tr><th class=\"id_column\"><br/><strong><span class=\"sortby\">ID</span></strong><br/><br/></th><th class=\"title_column\">Description / Title</th><th class=\"solved_by_column\">Solved By</th></tr>\n",
            "<tr><td class=\"id_column\">1</td><td><a href=\"problem=1\" title=\"Published on Friday, 5th October 2001, 06:00 pm\">Multiples of 3 and 5</a></td><td><div class=\"center\">964532</div></td></tr>\n",
            "<tr><td class=\"id_column\">2</td><td><a href=\"problem=2\" title=\"Published on Friday, 19th October 2001, 06:00 pm\">Even Fibonacci numbers</a></td><td><div class=\"center\">767622</div></td></tr>\n",
            "<tr><td class=\"id_column\">3</td><td><a href=\"problem=3\" title=\"Published on Friday, 2nd November 2001, 06:00 pm\">Largest prime factor</a></td><td><div class=\"center\">550120</div></td></tr>\n",
            "<tr><td class=\"id_column\">4</td><td><a href=\"problem=4\" title=\"Published on Friday, 16th November 2001, 06:00 pm\">Largest palindrome product</a></td><td><div class=\"center\">485894</div></td></tr>\n",
            "<tr><td class=\"id_column\">5</td><td><a href=\"problem=5\" title=\"Published on Friday, 30th November 2001, 06:00 pm\">Smallest multiple</a></td><td><div class=\"center\">489536</div></td></tr>\n",
            "<tr><td class=\"id_column\">6</td><td><a href=\"problem=6\" title=\"Published on Friday, 14th December 2001, 06:00 pm\">Sum square difference</a></td><td><div class=\"center\">492543</div></td></tr>\n",
            "<tr><td class=\"id_column\">7</td><td><a href=\"problem=7\" title=\"Published on Friday, 28th December 2001, 06:00 pm\">10001st prime</a></td><td><div class=\"center\">420847</div></td></tr>\n",
            "<tr><td class=\"id_column\">8</td><td><a href=\"problem=8\" title=\"Published on Friday, 11th January 2002, 06:00 pm\">Largest product in a series</a></td><td><div class=\"center\">351504</div></td></tr>\n",
            "<tr><td class=\"id_column\">9</td><td><a href=\"problem=9\" title=\"Published on Friday, 25th January 2002, 06:00 pm\">Special Pythagorean triplet</a></td><td><div class=\"center\">356986</div></td></tr>\n",
            "<tr><td class=\"id_column\">10</td><td><a href=\"problem=10\" title=\"Published on Friday, 8th February 2002, 06:00 pm\">Summation of primes</a></td><td><div class=\"center\">326647</div></td></tr>\n",
            "<tr><td class=\"id_column\">11</td><td><a href=\"problem=11\" title=\"Published on Friday, 22nd February 2002, 06:00 pm\">Largest product in a grid</a></td><td><div class=\"center\">233301</div></td></tr>\n",
            "<tr><td class=\"id_column\">12</td><td><a href=\"problem=12\" title=\"Published on Friday, 8th March 2002, 06:00 pm\">Highly divisible triangular number</a></td><td><div class=\"center\">220069</div></td></tr>\n",
            "<tr><td class=\"id_column\">13</td><td><a href=\"problem=13\" title=\"Published on Friday, 22nd March 2002, 06:00 pm\">Large sum</a></td><td><div class=\"center\">225229</div></td></tr>\n",
            "<tr><td class=\"id_column\">14</td><td><a href=\"problem=14\" title=\"Published on Friday, 5th April 2002, 06:00 pm\">Longest Collatz sequence</a></td><td><div class=\"center\">225610</div></td></tr>\n",
            "<tr><td class=\"id_column\">15</td><td><a href=\"problem=15\" title=\"Published on Friday, 19th April 2002, 06:00 pm\">Lattice paths</a></td><td><div class=\"center\">185757</div></td></tr>\n",
            "<tr><td class=\"id_column\">16</td><td><a href=\"problem=16\" title=\"Published on Friday, 3rd May 2002, 06:00 pm\">Power digit sum</a></td><td><div class=\"center\">227979</div></td></tr>\n",
            "<tr><td class=\"id_column\">17</td><td><a href=\"problem=17\" title=\"Published on Friday, 17th May 2002, 06:00 pm\">Number letter counts</a></td><td><div class=\"center\">150267</div></td></tr>\n",
            "<tr><td class=\"id_column\">18</td><td><a href=\"problem=18\" title=\"Published on Friday, 31st May 2002, 06:00 pm\">Maximum path sum I</a></td><td><div class=\"center\">143748</div></td></tr>\n",
            "<tr><td class=\"id_column\">19</td><td><a href=\"problem=19\" title=\"Published on Friday, 14th June 2002, 06:00 pm\">Counting Sundays</a></td><td><div class=\"center\">133577</div></td></tr>\n",
            "<tr><td class=\"id_column\">20</td><td><a href=\"problem=20\" title=\"Published on Friday, 21st June 2002, 06:00 pm\">Factorial digit sum</a></td><td><div class=\"center\">197175</div></td></tr>\n",
            "<tr><td class=\"id_column\">21</td><td><a href=\"problem=21\" title=\"Published on Friday, 5th July 2002, 06:00 pm\">Amicable numbers</a></td><td><div class=\"center\">145094</div></td></tr>\n",
            "<tr><td class=\"id_column\">22</td><td><a href=\"problem=22\" title=\"Published on Friday, 19th July 2002, 06:00 pm\">Names scores</a></td><td><div class=\"center\">133068</div></td></tr>\n",
            "<tr><td class=\"id_column\">23</td><td><a href=\"problem=23\" title=\"Published on Friday, 2nd August 2002, 06:00 pm\">Non-abundant sums</a></td><td><div class=\"center\">102823</div></td></tr>\n",
            "<tr><td class=\"id_column\">24</td><td><a href=\"problem=24\" title=\"Published on Friday, 16th August 2002, 06:00 pm\">Lexicographic permutations</a></td><td><div class=\"center\">113441</div></td></tr>\n",
            "<tr><td class=\"id_column\">25</td><td><a href=\"problem=25\" title=\"Published on Friday, 30th August 2002, 06:00 pm\">1000-digit Fibonacci number</a></td><td><div class=\"center\">154139</div></td></tr>\n",
            "<tr><td class=\"id_column\">26</td><td><a href=\"problem=26\" title=\"Published on Friday, 13th September 2002, 06:00 pm\">Reciprocal cycles</a></td><td><div class=\"center\">82681</div></td></tr>\n",
            "<tr><td class=\"id_column\">27</td><td><a href=\"problem=27\" title=\"Published on Friday, 27th September 2002, 06:00 pm\">Quadratic primes</a></td><td><div class=\"center\">86051</div></td></tr>\n",
            "<tr><td class=\"id_column\">28</td><td><a href=\"problem=28\" title=\"Published on Friday, 11th October 2002, 06:00 pm\">Number spiral diagonals</a></td><td><div class=\"center\">106922</div></td></tr>\n",
            "<tr><td class=\"id_column\">29</td><td><a href=\"problem=29\" title=\"Published on Friday, 25th October 2002, 06:00 pm\">Distinct powers</a></td><td><div class=\"center\">104159</div></td></tr>\n",
            "<tr><td class=\"id_column\">30</td><td><a href=\"problem=30\" title=\"Published on Friday, 8th November 2002, 06:00 pm\">Digit fifth powers</a></td><td><div class=\"center\">108775</div></td></tr>\n",
            "<tr><td class=\"id_column\">31</td><td><a href=\"problem=31\" title=\"Published on Friday, 22nd November 2002, 06:00 pm\">Coin sums</a></td><td><div class=\"center\">83796</div></td></tr>\n",
            "<tr><td class=\"id_column\">32</td><td><a href=\"problem=32\" title=\"Published on Friday, 6th December 2002, 06:00 pm\">Pandigital products</a></td><td><div class=\"center\">70063</div></td></tr>\n",
            "<tr><td class=\"id_column\">33</td><td><a href=\"problem=33\" title=\"Published on Friday, 20th December 2002, 06:00 pm\">Digit cancelling fractions</a></td><td><div class=\"center\">70500</div></td></tr>\n",
            "<tr><td class=\"id_column\">34</td><td><a href=\"problem=34\" title=\"Published on Friday, 3rd January 2003, 06:00 pm\">Digit factorials</a></td><td><div class=\"center\">93056</div></td></tr>\n",
            "<tr><td class=\"id_column\">35</td><td><a href=\"problem=35\" title=\"Published on Friday, 17th January 2003, 06:00 pm\">Circular primes</a></td><td><div class=\"center\">83422</div></td></tr>\n",
            "<tr><td class=\"id_column\">36</td><td><a href=\"problem=36\" title=\"Published on Friday, 31st January 2003, 06:00 pm\">Double-base palindromes</a></td><td><div class=\"center\">87579</div></td></tr>\n",
            "<tr><td class=\"id_column\">37</td><td><a href=\"problem=37\" title=\"Published on Friday, 14th February 2003, 06:00 pm\">Truncatable primes</a></td><td><div class=\"center\">72387</div></td></tr>\n",
            "<tr><td class=\"id_column\">38</td><td><a href=\"problem=38\" title=\"Published on Friday, 28th February 2003, 06:00 pm\">Pandigital multiples</a></td><td><div class=\"center\">61848</div></td></tr>\n",
            "<tr><td class=\"id_column\">39</td><td><a href=\"problem=39\" title=\"Published on Friday, 14th March 2003, 06:00 pm\">Integer right triangles</a></td><td><div class=\"center\">71935</div></td></tr>\n",
            "<tr><td class=\"id_column\">40</td><td><a href=\"problem=40\" title=\"Published on Friday, 28th March 2003, 06:00 pm\">Champernowne's constant</a></td><td><div class=\"center\">78833</div></td></tr>\n",
            "<tr><td class=\"id_column\">41</td><td><a href=\"problem=41\" title=\"Published on Friday, 11th April 2003, 06:00 pm\">Pandigital prime</a></td><td><div class=\"center\">66890</div></td></tr>\n",
            "<tr><td class=\"id_column\">42</td><td><a href=\"problem=42\" title=\"Published on Friday, 25th April 2003, 06:00 pm\">Coded triangle numbers</a></td><td><div class=\"center\">73182</div></td></tr>\n",
            "<tr><td class=\"id_column\">43</td><td><a href=\"problem=43\" title=\"Published on Friday, 9th May 2003, 06:00 pm\">Sub-string divisibility</a></td><td><div class=\"center\">58582</div></td></tr>\n",
            "<tr><td class=\"id_column\">44</td><td><a href=\"problem=44\" title=\"Published on Friday, 23rd May 2003, 06:00 pm\">Pentagon numbers</a></td><td><div class=\"center\">57268</div></td></tr>\n",
            "<tr><td class=\"id_column\">45</td><td><a href=\"problem=45\" title=\"Published on Friday, 6th June 2003, 06:00 pm\">Triangular, pentagonal, and hexagonal</a></td><td><div class=\"center\">69826</div></td></tr>\n",
            "<tr><td class=\"id_column\">46</td><td><a href=\"problem=46\" title=\"Published on Friday, 20th June 2003, 06:00 pm\">Goldbach's other conjecture</a></td><td><div class=\"center\">60354</div></td></tr>\n",
            "<tr><td class=\"id_column\">47</td><td><a href=\"problem=47\" title=\"Published on Friday, 4th July 2003, 06:00 pm\">Distinct primes factors</a></td><td><div class=\"center\">56752</div></td></tr>\n",
            "<tr><td class=\"id_column\">48</td><td><a href=\"problem=48\" title=\"Published on Friday, 18th July 2003, 06:00 pm\">Self powers</a></td><td><div class=\"center\">110989</div></td></tr>\n",
            "<tr><td class=\"id_column\">49</td><td><a href=\"problem=49\" title=\"Published on Friday, 1st August 2003, 06:00 pm\">Prime permutations</a></td><td><div class=\"center\">56683</div></td></tr>\n",
            "<tr><td class=\"id_column\">50</td><td><a href=\"problem=50\" title=\"Published on Friday, 15th August 2003, 06:00 pm\">Consecutive prime sum</a></td><td><div class=\"center\">61237</div></td></tr>\n",
            "</table>\n",
            "<br/>\n",
            "<div class=\"pagination noprint\"><a class=\"current\" href=\"archives\">1</a><a href=\"archives;page=2\" title=\"Go to page 2\">2</a><a href=\"archives;page=3\" title=\"Go to page 3\">3</a><a href=\"archives;page=4\" title=\"Go to page 4\">4</a><a href=\"archives;page=5\" title=\"Go to page 5\">5</a><a href=\"archives;page=6\" title=\"Go to page 6\">6</a><a href=\"archives;page=7\" title=\"Go to page 7\">7</a><a href=\"archives;page=8\" title=\"Go to page 8\">8</a><a href=\"archives;page=9\" title=\"Go to page 9\">9</a><a href=\"archives;page=10\" title=\"Go to page 10\">10</a><a href=\"archives;page=11\" title=\"Go to page 11\">11</a><a href=\"archives;page=12\" title=\"Go to page 12\">12</a><a href=\"archives;page=13\" title=\"Go to page 13\">13</a><a href=\"archives;page=14\" title=\"Go to page 14\">14</a><a href=\"archives;page=15\" title=\"Go to page 15\">15</a><span id=\"go_to\">   Go to Problem: <input class=\"jump_to\" maxlength=\"3\" type=\"text\"/></span></div>\n",
            "<script id=\"json_pagination_data\" type=\"application/json\">{\"base_url\": \"archives\", \"pages\": 15}</script>\n",
            "<script src=\"js/pagination.js\"></script>\n",
            "</div></div> <!--end_content-->\n",
            "</div>]\n"
          ],
          "name": "stdout"
        }
      ]
    },
    {
      "cell_type": "code",
      "metadata": {
        "id": "VMSBU1UITXML",
        "colab_type": "code",
        "colab": {}
      },
      "source": [
        ""
      ],
      "execution_count": null,
      "outputs": []
    }
  ]
}